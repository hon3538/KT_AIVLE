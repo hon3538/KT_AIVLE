{
 "cells": [
  {
   "cell_type": "markdown",
   "metadata": {
    "id": "EnlYouStN0Le"
   },
   "source": [
    "# **이변량분석 : 숫자 vs 숫자**"
   ]
  },
  {
   "cell_type": "markdown",
   "metadata": {
    "id": "hkXRKtg_w_-g"
   },
   "source": [
    "* 우리가 사용하는 도구는...\n",
    "    * 두 변수와의 관계를 살펴보기 위해, 두가지 도구(시각화, 수치화)를 이용합니다.\n",
    "    * 이 도구들도 각각 한계가 있습니다. 보이는게 전부가 아님을 꼭 명심하세요! \n",
    "    * 특히 수치화 도구(가설검정 도구)는 많은 가정들이 전제 됩니다. \n",
    "    * 그래서 이번 과정에서는 그 도구를 사용하는 데에 집중합니다. \n"
   ]
  },
  {
   "cell_type": "markdown",
   "metadata": {
    "id": "0SJP-uYxN0Lk"
   },
   "source": [
    "## **1.환경준비**"
   ]
  },
  {
   "cell_type": "markdown",
   "metadata": {
    "id": "6dMK5CsEN0Lk"
   },
   "source": [
    "* 라이브러리 불러오기"
   ]
  },
  {
   "cell_type": "code",
   "execution_count": null,
   "metadata": {
    "id": "Sma8Fku5N0Ll"
   },
   "outputs": [],
   "source": [
    "import pandas as pd\n",
    "import numpy as np\n",
    "import matplotlib.pyplot as plt\n",
    "import seaborn as sns"
   ]
  },
  {
   "cell_type": "markdown",
   "metadata": {
    "id": "NCpMWLagN0Ln"
   },
   "source": [
    "* 데이터 불러오기 : 다음의 예제 데이터를 사용합니다.\n",
    "> ① 타이타닉 생존자  \n",
    "② 뉴욕 공기 오염도\n"
   ]
  },
  {
   "cell_type": "code",
   "execution_count": null,
   "metadata": {
    "colab": {
     "base_uri": "https://localhost:8080/",
     "height": 302
    },
    "executionInfo": {
     "elapsed": 11,
     "status": "ok",
     "timestamp": 1674006390985,
     "user": {
      "displayName": "한기영",
      "userId": "13049187003176135487"
     },
     "user_tz": -540
    },
    "id": "si-trqDhN0Lo",
    "outputId": "8bac1534-3acd-46a8-bcc3-29a4f963fd59"
   },
   "outputs": [],
   "source": [
    "# 타이타닉 데이터\n",
    "titanic = pd.read_csv('https://raw.githubusercontent.com/DA4BAM/dataset/master/titanic.0.csv')\n",
    "titanic.head()"
   ]
  },
  {
   "cell_type": "code",
   "execution_count": null,
   "metadata": {
    "colab": {
     "base_uri": "https://localhost:8080/",
     "height": 206
    },
    "executionInfo": {
     "elapsed": 8,
     "status": "ok",
     "timestamp": 1674006390985,
     "user": {
      "displayName": "한기영",
      "userId": "13049187003176135487"
     },
     "user_tz": -540
    },
    "id": "IdRS2OER6pw9",
    "outputId": "ca2f764d-a0f3-4e4b-ad87-0ff1cdfc20c0"
   },
   "outputs": [],
   "source": [
    "# 뉴욕시 공기 오염도 데이터\n",
    "air = pd.read_csv('https://raw.githubusercontent.com/DA4BAM/dataset/master/air2.csv')\n",
    "air['Date'] = pd.to_datetime(air['Date'])\n",
    "air.head()"
   ]
  },
  {
   "cell_type": "markdown",
   "metadata": {
    "id": "KzbTx3GBqjO2"
   },
   "source": [
    "----"
   ]
  },
  {
   "cell_type": "markdown",
   "metadata": {
    "id": "24HAzukSN0Ls"
   },
   "source": [
    "## **2.시각화 : 산점도**"
   ]
  },
  {
   "cell_type": "markdown",
   "metadata": {
    "id": "jt_54426xTWf"
   },
   "source": [
    "* 상관 분석에 대해서 이야기 해봅시다.\n",
    "    * 상관 분석은 연속형 변수 X에 대한 연속형 변수 Y의 관계를 분석할 때 사용됩니다.\n",
    "    * Scatter를 통해 시각화 합니다.\n",
    "* 가설 : 온도(x)가 상승하면 아이스크림 판매량(y)을 증가할까?\n",
    "    * 어떤 관계가 보이나요?\n",
    "    * 얼마나 강한 관계인가요?\n",
    "* 숫자 vs 숫자를 비교할 때 중요한 관점이 **'직선'(Linearity)** 입니다.\n",
    "\n"
   ]
  },
  {
   "cell_type": "markdown",
   "metadata": {
    "id": "nOyF7Q9erYn-"
   },
   "source": [
    "<img src='https://github.com/DA4BAM/image/blob/main/%EC%82%B0%EC%A0%90%EB%8F%84_ex.png?raw=true' width=500/>"
   ]
  },
  {
   "cell_type": "markdown",
   "metadata": {
    "id": "qJ4WJMEvN0Ls"
   },
   "source": [
    "### **(1) 산점도**"
   ]
  },
  {
   "cell_type": "markdown",
   "metadata": {
    "id": "G0rrPB27xw9H"
   },
   "source": [
    "* 문법\n",
    "    * plt.scatter( x축 값, y축 값 )\n",
    "    * plt.scatter( ‘x변수’, ‘y변수’, data = dataframe이름) "
   ]
  },
  {
   "cell_type": "code",
   "execution_count": null,
   "metadata": {
    "colab": {
     "base_uri": "https://localhost:8080/",
     "height": 268
    },
    "executionInfo": {
     "elapsed": 936,
     "status": "ok",
     "timestamp": 1674006404450,
     "user": {
      "displayName": "한기영",
      "userId": "13049187003176135487"
     },
     "user_tz": -540
    },
    "id": "f6Mexrt-N0Lt",
    "outputId": "ee6a35da-7fcd-4554-97ec-94a96c26ca72",
    "tags": []
   },
   "outputs": [],
   "source": [
    "plt.scatter(air['Temp'], air['Ozone'])\n",
    "plt.show()"
   ]
  },
  {
   "cell_type": "code",
   "execution_count": null,
   "metadata": {
    "colab": {
     "base_uri": "https://localhost:8080/",
     "height": 268
    },
    "executionInfo": {
     "elapsed": 829,
     "status": "ok",
     "timestamp": 1674006410629,
     "user": {
      "displayName": "한기영",
      "userId": "13049187003176135487"
     },
     "user_tz": -540
    },
    "id": "d9FQ50skKl14",
    "outputId": "5b81c97b-6b89-453b-b1fd-92117e6807d2"
   },
   "outputs": [],
   "source": [
    "plt.scatter('Temp', 'Ozone', data = air)\n",
    "plt.show()"
   ]
  },
  {
   "cell_type": "code",
   "execution_count": null,
   "metadata": {
    "colab": {
     "base_uri": "https://localhost:8080/",
     "height": 282
    },
    "executionInfo": {
     "elapsed": 656,
     "status": "ok",
     "timestamp": 1674006495727,
     "user": {
      "displayName": "한기영",
      "userId": "13049187003176135487"
     },
     "user_tz": -540
    },
    "id": "wHPbbIo1W1HD",
    "outputId": "bdab0333-5335-45a4-952e-d0e1dbed5aa4"
   },
   "outputs": [],
   "source": [
    "sns.scatterplot(x='Temp', y='Ozone', data = air)\n",
    "plt.show()"
   ]
  },
  {
   "cell_type": "markdown",
   "metadata": {
    "id": "BWDe7P1Jxm2X"
   },
   "source": [
    "그래프를 그렸으면, 그래프로부터 정보를 파악해야 합니다.  \n",
    "\n",
    "무엇이 보이나요?"
   ]
  },
  {
   "cell_type": "code",
   "execution_count": null,
   "metadata": {
    "id": "0fEz9lgJxsu9"
   },
   "outputs": [],
   "source": []
  },
  {
   "cell_type": "markdown",
   "metadata": {
    "id": "xSWBmU_Yeu5A"
   },
   "source": [
    "<img src='https://raw.githubusercontent.com/jangrae/img/master/practice_01.png' width=120 align=\"left\"/>"
   ]
  },
  {
   "cell_type": "markdown",
   "metadata": {
    "id": "xTCpO-Z05DB_"
   },
   "source": [
    "* [문1] Temp, Wind, Solar.R 과 Ozone 과의 관계를 시각화 해 봅시다."
   ]
  },
  {
   "cell_type": "code",
   "execution_count": null,
   "metadata": {
    "colab": {
     "base_uri": "https://localhost:8080/",
     "height": 465
    },
    "executionInfo": {
     "elapsed": 1299,
     "status": "ok",
     "timestamp": 1674007852131,
     "user": {
      "displayName": "한기영",
      "userId": "13049187003176135487"
     },
     "user_tz": -540
    },
    "id": "FIkK89pAK35a",
    "outputId": "027184da-4753-42ae-e94e-4dc562ba2f6d"
   },
   "outputs": [],
   "source": []
  },
  {
   "cell_type": "markdown",
   "metadata": {
    "id": "C169YqMFx_IK"
   },
   "source": [
    "* [문2] Ozone과 가장 강한 관계의 x변수는?"
   ]
  },
  {
   "cell_type": "code",
   "execution_count": null,
   "metadata": {
    "id": "h0zfZLdqyAve"
   },
   "outputs": [],
   "source": []
  },
  {
   "cell_type": "markdown",
   "metadata": {
    "id": "D4A3to-Xrtfl"
   },
   "source": [
    "* 두 변수의 관계\n",
    "    * 산점도에서 또렷한 패턴이 보인다면, 강한 관계로 볼 수 있습니다.\n",
    "    * 특히, 직선의 패턴이 보인다면"
   ]
  },
  {
   "cell_type": "markdown",
   "metadata": {
    "id": "8UNnjlCgsFrL"
   },
   "source": [
    "<img src='https://cqeacademy.com/wp-content/uploads/2018/06/Scatter-Plots-and-Correlation-Examples.png' width=800/>"
   ]
  },
  {
   "cell_type": "markdown",
   "metadata": {
    "id": "7M1bl3cgLSiY"
   },
   "source": [
    "### **(2) pairplot 한꺼번에 시각화**\n",
    "\n",
    "* 숫자형 변수들에 대한 산점도를 한꺼번에 그려줍니다.\n",
    "* 그러나 **시간이 많이**걸립니다."
   ]
  },
  {
   "cell_type": "code",
   "execution_count": null,
   "metadata": {
    "colab": {
     "base_uri": "https://localhost:8080/",
     "height": 726
    },
    "executionInfo": {
     "elapsed": 6257,
     "status": "ok",
     "timestamp": 1674008440153,
     "user": {
      "displayName": "한기영",
      "userId": "13049187003176135487"
     },
     "user_tz": -540
    },
    "id": "LDB_6Yx0LO-V",
    "outputId": "c3b1d07a-4639-44ca-cd8b-47c30977541e"
   },
   "outputs": [],
   "source": [
    "sns.pairplot(air)\n",
    "plt.show()"
   ]
  },
  {
   "cell_type": "markdown",
   "metadata": {
    "id": "H09gLkspN0Lt"
   },
   "source": [
    "###  **(3) (추가) jointplot, regplot**\n",
    "\n",
    "* jointplot은 산점도와 각각의 히스토그램을 함께 보여줍니다."
   ]
  },
  {
   "cell_type": "markdown",
   "metadata": {
    "id": "9FBpgfC65XDJ"
   },
   "source": [
    "* Temp --> Ozone"
   ]
  },
  {
   "cell_type": "code",
   "execution_count": null,
   "metadata": {
    "colab": {
     "base_uri": "https://localhost:8080/",
     "height": 441
    },
    "executionInfo": {
     "elapsed": 904,
     "status": "ok",
     "timestamp": 1674008463876,
     "user": {
      "displayName": "한기영",
      "userId": "13049187003176135487"
     },
     "user_tz": -540
    },
    "id": "8P0gYJntN0Lu",
    "outputId": "39d836aa-5068-4ec9-a98c-ee09011144dd"
   },
   "outputs": [],
   "source": [
    "sns.jointplot(x='Temp', y='Ozone', data = air)\n",
    "plt.show()"
   ]
  },
  {
   "cell_type": "markdown",
   "metadata": {
    "id": "kwOi3vhRUAR_"
   },
   "source": [
    "* Wind --> Ozone"
   ]
  },
  {
   "cell_type": "code",
   "execution_count": null,
   "metadata": {
    "colab": {
     "base_uri": "https://localhost:8080/",
     "height": 441
    },
    "executionInfo": {
     "elapsed": 1512,
     "status": "ok",
     "timestamp": 1674008466905,
     "user": {
      "displayName": "한기영",
      "userId": "13049187003176135487"
     },
     "user_tz": -540
    },
    "id": "0ujxLZCYUASG",
    "outputId": "240f7ecf-70f9-4696-e79a-1ded1cd57b6b"
   },
   "outputs": [],
   "source": [
    "sns.jointplot(x='Wind', y='Ozone', data = air)\n",
    "plt.show()"
   ]
  },
  {
   "cell_type": "markdown",
   "metadata": {
    "id": "e9S7janZUAdA"
   },
   "source": [
    "* Solar.R --> Ozone"
   ]
  },
  {
   "cell_type": "code",
   "execution_count": null,
   "metadata": {
    "colab": {
     "base_uri": "https://localhost:8080/",
     "height": 441
    },
    "executionInfo": {
     "elapsed": 767,
     "status": "ok",
     "timestamp": 1674008467962,
     "user": {
      "displayName": "한기영",
      "userId": "13049187003176135487"
     },
     "user_tz": -540
    },
    "id": "6aDLVi-OUAdA",
    "outputId": "85baeec0-010f-4f4b-be6e-4c3f5f4e569c"
   },
   "outputs": [],
   "source": [
    "sns.jointplot(x='Solar.R', y='Ozone', data = air)\n",
    "plt.show()"
   ]
  },
  {
   "cell_type": "code",
   "execution_count": null,
   "metadata": {
    "colab": {
     "base_uri": "https://localhost:8080/",
     "height": 282
    },
    "executionInfo": {
     "elapsed": 393,
     "status": "ok",
     "timestamp": 1674008516549,
     "user": {
      "displayName": "한기영",
      "userId": "13049187003176135487"
     },
     "user_tz": -540
    },
    "id": "KihLRo6xrkb2",
    "outputId": "190a167e-e35d-4536-bde7-da4537f571da"
   },
   "outputs": [],
   "source": [
    "sns.regplot(x='Solar.R', y='Ozone', data = air)\n",
    "plt.show()"
   ]
  },
  {
   "cell_type": "markdown",
   "metadata": {
    "id": "5UkPG-rSUpoF"
   },
   "source": [
    "## **3.수치화 : 상관분석**"
   ]
  },
  {
   "cell_type": "markdown",
   "metadata": {
    "id": "Xch0gYaOi8D4"
   },
   "source": [
    "### (1) 상관계수, p-value"
   ]
  },
  {
   "cell_type": "markdown",
   "metadata": {
    "id": "ftEZeY1Cs-mV"
   },
   "source": [
    "* 상관계수 𝑟\n",
    "    * 공분산을 표준화 한 값\n",
    "    * -1 ~ 1 사이의 값\n",
    "    * -1, 1에 가까울 수록 강한 상관관계를 나타냄.\n",
    "\n",
    "* 경험에 의한 대략의 기준(절대적인 기준이 절대 아닙니다.)\n",
    "    * 강한 : 0.5 < |𝑟| ≤ 1\n",
    "    * 중간 : 0.2 < |𝑟| ≤ 0.5\n",
    "    * 약한 : 0.1 < |𝑟| ≤ 0.2\n",
    "    * (거의)없음 : |𝑟| ≤ 0.1\n",
    "    "
   ]
  },
  {
   "cell_type": "code",
   "execution_count": null,
   "metadata": {
    "id": "M-M9qqQoU3Pt"
   },
   "outputs": [],
   "source": [
    "import scipy.stats as spst"
   ]
  },
  {
   "cell_type": "code",
   "execution_count": null,
   "metadata": {
    "colab": {
     "base_uri": "https://localhost:8080/"
    },
    "executionInfo": {
     "elapsed": 329,
     "status": "ok",
     "timestamp": 1674008621547,
     "user": {
      "displayName": "한기영",
      "userId": "13049187003176135487"
     },
     "user_tz": -540
    },
    "id": "KAiaxHXNnE_P",
    "outputId": "c8342784-4696-451f-8ccf-94a92c4b2a7a"
   },
   "outputs": [],
   "source": [
    "# 상관계수와 p-value \n",
    "spst.pearsonr(air['Temp'], air['Ozone'])"
   ]
  },
  {
   "cell_type": "markdown",
   "metadata": {
    "id": "K_bW8SCfnE_P"
   },
   "source": [
    "결과는 튜플로 나오는데\n",
    "\n",
    "1. 튜플의 첫 번째 값 : 상관계수를 뜻합니다.\n",
    "2. 두번째 값 : p-value\n",
    "    * 귀무가설 : 상관 관계가 없다.(상관계수가 0이다.)\n",
    "    * 대립가설 : 상관 관계가 있다.(상관계수가 0이 아니다.)\n",
    "3. 주의 사항 : 값에 NaN이 있으면 계산되지 않습니다. 반드시 .notnull()로 제외하고 수행해야 합니다."
   ]
  },
  {
   "cell_type": "markdown",
   "metadata": {
    "id": "Fk9PV7Sli_78"
   },
   "source": [
    "### **(2) 데이터프레임 한꺼번에 상관계수 구하기**"
   ]
  },
  {
   "cell_type": "code",
   "execution_count": null,
   "metadata": {
    "colab": {
     "base_uri": "https://localhost:8080/",
     "height": 175
    },
    "executionInfo": {
     "elapsed": 330,
     "status": "ok",
     "timestamp": 1674009461066,
     "user": {
      "displayName": "한기영",
      "userId": "13049187003176135487"
     },
     "user_tz": -540
    },
    "id": "-J9YEpjfzvIz",
    "outputId": "aa83ebd8-6985-45aa-ce4c-dd7fb24617e6"
   },
   "outputs": [],
   "source": [
    "# 데이터프레임으로 부터 수치형 데이터에 대한 상관계수 구하기\n",
    "air.corr()"
   ]
  },
  {
   "cell_type": "markdown",
   "metadata": {
    "id": "nAYPzWCrUMDn"
   },
   "source": [
    "위 결과로 부터,\n",
    "1. 같은 변수끼리 구한 값 1은 의미 없다.\n",
    "2. 상관계수의 절대값이 \n",
    "    * 1에 가까울 수록 강한 상관관계\n",
    "    * 0에 가까울 수록 약한 상관관계\n",
    "3. +는 양의 상관관계, -는 음의 상관관계 "
   ]
  },
  {
   "cell_type": "markdown",
   "metadata": {
    "id": "_t2JgU17tUMZ"
   },
   "source": [
    "### **(3) (추가) 상관계수를 heatmap으로 시각화**"
   ]
  },
  {
   "cell_type": "code",
   "execution_count": null,
   "metadata": {
    "colab": {
     "base_uri": "https://localhost:8080/",
     "height": 487
    },
    "executionInfo": {
     "elapsed": 939,
     "status": "ok",
     "timestamp": 1674009493515,
     "user": {
      "displayName": "한기영",
      "userId": "13049187003176135487"
     },
     "user_tz": -540
    },
    "id": "vala5ZkVtZp7",
    "outputId": "5a33ffe5-23d9-4547-ae3b-f0d13f5ef092"
   },
   "outputs": [],
   "source": [
    "plt.figure(figsize = (8, 8))\n",
    "sns.heatmap(air.corr(), \n",
    "            annot = True,            # 숫자(상관계수) 표기 여부\n",
    "            fmt = '.3f',             # 숫자 포멧 : 소수점 3자리까지 표기\n",
    "            cmap = 'RdYlBu_r',       # 칼라맵\n",
    "            vmin = -1, vmax = 1)     # 값의 최소, 최대값\n",
    "plt.show()"
   ]
  },
  {
   "cell_type": "markdown",
   "metadata": {
    "id": "lGj63JxgFHdE"
   },
   "source": [
    "칼라를 변경하려면 아래 링크로 가서 color map 을 확인하고 조정하세요.  \n",
    "cmap(color map) : https://matplotlib.org/stable/tutorials/colors/colormaps.html"
   ]
  },
  {
   "cell_type": "markdown",
   "metadata": {
    "id": "idjfNZAbjw6P"
   },
   "source": [
    "<img src='https://raw.githubusercontent.com/jangrae/img/master/practice_01.png' width=120 align=\"left\"/>"
   ]
  },
  {
   "cell_type": "markdown",
   "metadata": {
    "id": "L7KiszCcj7sr"
   },
   "source": [
    "* 다음의 변수에 대해서 상관분석을 수행하시오."
   ]
  },
  {
   "cell_type": "markdown",
   "metadata": {
    "id": "L4cXA3pEUlMz"
   },
   "source": [
    "* [문1] Temp --> Ozone "
   ]
  },
  {
   "cell_type": "code",
   "execution_count": null,
   "metadata": {
    "colab": {
     "base_uri": "https://localhost:8080/"
    },
    "executionInfo": {
     "elapsed": 304,
     "status": "ok",
     "timestamp": 1674008785661,
     "user": {
      "displayName": "한기영",
      "userId": "13049187003176135487"
     },
     "user_tz": -540
    },
    "id": "4XfYCQJFkDYV",
    "outputId": "514b6edf-a639-43b7-bd05-e890c59d235c"
   },
   "outputs": [],
   "source": []
  },
  {
   "cell_type": "markdown",
   "metadata": {
    "id": "iO_YH-YkkECB"
   },
   "source": [
    "* [문2] Wind --> Ozone "
   ]
  },
  {
   "cell_type": "code",
   "execution_count": null,
   "metadata": {
    "colab": {
     "base_uri": "https://localhost:8080/"
    },
    "executionInfo": {
     "elapsed": 300,
     "status": "ok",
     "timestamp": 1674008795121,
     "user": {
      "displayName": "한기영",
      "userId": "13049187003176135487"
     },
     "user_tz": -540
    },
    "id": "NtgAzXytkECC",
    "outputId": "e7d0d8b2-06c3-425c-f408-4ab75f1576cc"
   },
   "outputs": [],
   "source": []
  },
  {
   "cell_type": "markdown",
   "metadata": {
    "id": "OvNxnwmxkENC"
   },
   "source": [
    "* [문3] Solar.R --> Ozone \n",
    "    * 단, Solar.R 에는 NaN이 있습니다. NaN을 제외(.notnull())하고, 상관분석을 수행하시오."
   ]
  },
  {
   "cell_type": "code",
   "execution_count": null,
   "metadata": {
    "id": "kcCr3rj1kENC"
   },
   "outputs": [],
   "source": []
  },
  {
   "cell_type": "code",
   "execution_count": null,
   "metadata": {
    "colab": {
     "base_uri": "https://localhost:8080/"
    },
    "executionInfo": {
     "elapsed": 377,
     "status": "ok",
     "timestamp": 1674008882724,
     "user": {
      "displayName": "한기영",
      "userId": "13049187003176135487"
     },
     "user_tz": -540
    },
    "id": "bkh6McXbUoV9",
    "outputId": "438d075e-2391-49f7-be99-0cc85a6a83d8"
   },
   "outputs": [],
   "source": []
  },
  {
   "cell_type": "code",
   "execution_count": null,
   "metadata": {
    "id": "I2CA9iPJtGnf"
   },
   "outputs": [],
   "source": []
  },
  {
   "cell_type": "markdown",
   "metadata": {
    "id": "XKYtukzUz9rX"
   },
   "source": [
    "## **4.복습문제**"
   ]
  },
  {
   "cell_type": "markdown",
   "metadata": {
    "id": "dslbaq8S0KFt"
   },
   "source": [
    "* 보스톤 집값 데이터를 이용하여 다음의 복습문제를 풀어 봅시다."
   ]
  },
  {
   "cell_type": "markdown",
   "metadata": {
    "id": "xMx9y0a0MBZ2"
   },
   "source": [
    "* **변수설명**\n",
    "> * **medv**  : 1978 보스턴 주택 가격, 506개 타운의 주택 가격 중앙값 (단위 1,000 달러) <== **Target**\n",
    "> * **crim** :\t범죄율\n",
    "> * **zn** :\t25,000 평방피트를 초과 거주지역 비율\n",
    "> * **indus** :\t비소매상업지역 면적 비율\n",
    "> * **chas** :\t찰스강변 위치(범주 : 강변1, 아니면 0)\n",
    "> * **nox** :\t일산화질소 농도\n",
    "> * **rm** :\t주택당 방 수\n",
    "> * **age** :\t1940년 이전에 건축된 주택의 비율\n",
    "> * **dis** :\t직업센터의 거리\n",
    "> * **rad** :\t방사형 고속도로까지의 거리\n",
    "> * **tax** :\t재산세율\n",
    "> * **ptratio** :\t학생/교사 비율\n",
    "> * **lstat** :\t인구 중 하위 계층 비율\n"
   ]
  },
  {
   "cell_type": "code",
   "execution_count": null,
   "metadata": {
    "id": "7I7tIr6X1eMy"
   },
   "outputs": [],
   "source": [
    "import pandas as pd\n",
    "import numpy as np\n",
    "import matplotlib.pyplot as plt\n",
    "import seaborn as sns\n",
    "\n",
    "import scipy.stats as spst"
   ]
  },
  {
   "cell_type": "code",
   "execution_count": null,
   "metadata": {
    "colab": {
     "base_uri": "https://localhost:8080/",
     "height": 206
    },
    "executionInfo": {
     "elapsed": 15,
     "status": "ok",
     "timestamp": 1674268340100,
     "user": {
      "displayName": "한기영",
      "userId": "13049187003176135487"
     },
     "user_tz": -540
    },
    "id": "KpQjA_tYz-6u",
    "outputId": "ae4ff66f-8ad5-42dd-9796-64bcd6a0f7eb"
   },
   "outputs": [],
   "source": [
    "# 보스톤 집값 데이터\n",
    "boston = pd.read_csv('https://raw.githubusercontent.com/DA4BAM/dataset/master/boston.csv')\n",
    "boston.head()"
   ]
  },
  {
   "cell_type": "markdown",
   "metadata": {
    "id": "J2Eh8d-U0jSi"
   },
   "source": [
    "* 1) crim(범죄율) --> mdev(집값) 에 대해 시각화와 수치화(상관분석)을 수행후 관계를 평가하시오."
   ]
  },
  {
   "cell_type": "code",
   "execution_count": null,
   "metadata": {
    "colab": {
     "base_uri": "https://localhost:8080/",
     "height": 336
    },
    "executionInfo": {
     "elapsed": 748,
     "status": "ok",
     "timestamp": 1674262787430,
     "user": {
      "displayName": "한기영",
      "userId": "13049187003176135487"
     },
     "user_tz": -540
    },
    "id": "OX_mKQ6r1mt3",
    "outputId": "ab5f77a5-2e57-4ab3-f567-7a3cb7fc27a7"
   },
   "outputs": [],
   "source": []
  },
  {
   "cell_type": "code",
   "execution_count": null,
   "metadata": {
    "colab": {
     "base_uri": "https://localhost:8080/"
    },
    "executionInfo": {
     "elapsed": 6,
     "status": "ok",
     "timestamp": 1674262799893,
     "user": {
      "displayName": "한기영",
      "userId": "13049187003176135487"
     },
     "user_tz": -540
    },
    "id": "OpIDK_Il0ZMU",
    "outputId": "68f71f49-7023-491d-d0a0-94d75782ee3c"
   },
   "outputs": [],
   "source": []
  },
  {
   "cell_type": "code",
   "execution_count": null,
   "metadata": {
    "id": "tOSjHaaM1r0G"
   },
   "outputs": [],
   "source": []
  },
  {
   "cell_type": "markdown",
   "metadata": {
    "id": "qz1liYBn12C7"
   },
   "source": [
    "* 2) tax(제산세율) --> mdev(집값) 에 대해 시각화와 수치화(상관분석)을 수행후 관계를 평가하시오."
   ]
  },
  {
   "cell_type": "code",
   "execution_count": null,
   "metadata": {
    "colab": {
     "base_uri": "https://localhost:8080/",
     "height": 336
    },
    "executionInfo": {
     "elapsed": 748,
     "status": "ok",
     "timestamp": 1674262787430,
     "user": {
      "displayName": "한기영",
      "userId": "13049187003176135487"
     },
     "user_tz": -540
    },
    "id": "OX_mKQ6r1mt3",
    "outputId": "ab5f77a5-2e57-4ab3-f567-7a3cb7fc27a7"
   },
   "outputs": [],
   "source": []
  },
  {
   "cell_type": "code",
   "execution_count": null,
   "metadata": {
    "colab": {
     "base_uri": "https://localhost:8080/"
    },
    "executionInfo": {
     "elapsed": 6,
     "status": "ok",
     "timestamp": 1674262799893,
     "user": {
      "displayName": "한기영",
      "userId": "13049187003176135487"
     },
     "user_tz": -540
    },
    "id": "OpIDK_Il0ZMU",
    "outputId": "68f71f49-7023-491d-d0a0-94d75782ee3c"
   },
   "outputs": [],
   "source": []
  },
  {
   "cell_type": "code",
   "execution_count": null,
   "metadata": {
    "id": "tOSjHaaM1r0G"
   },
   "outputs": [],
   "source": []
  },
  {
   "cell_type": "markdown",
   "metadata": {
    "id": "5l_QoG222ENi"
   },
   "source": [
    "* 3) lstat(하위계층비율) --> mdev(집값) 에 대해 시각화와 수치화(상관분석)을 수행후 관계를 평가하시오."
   ]
  },
  {
   "cell_type": "code",
   "execution_count": null,
   "metadata": {
    "colab": {
     "base_uri": "https://localhost:8080/",
     "height": 336
    },
    "executionInfo": {
     "elapsed": 748,
     "status": "ok",
     "timestamp": 1674262787430,
     "user": {
      "displayName": "한기영",
      "userId": "13049187003176135487"
     },
     "user_tz": -540
    },
    "id": "OX_mKQ6r1mt3",
    "outputId": "ab5f77a5-2e57-4ab3-f567-7a3cb7fc27a7"
   },
   "outputs": [],
   "source": []
  },
  {
   "cell_type": "code",
   "execution_count": null,
   "metadata": {
    "colab": {
     "base_uri": "https://localhost:8080/"
    },
    "executionInfo": {
     "elapsed": 6,
     "status": "ok",
     "timestamp": 1674262799893,
     "user": {
      "displayName": "한기영",
      "userId": "13049187003176135487"
     },
     "user_tz": -540
    },
    "id": "OpIDK_Il0ZMU",
    "outputId": "68f71f49-7023-491d-d0a0-94d75782ee3c"
   },
   "outputs": [],
   "source": []
  },
  {
   "cell_type": "code",
   "execution_count": null,
   "metadata": {
    "id": "tOSjHaaM1r0G"
   },
   "outputs": [],
   "source": []
  },
  {
   "cell_type": "markdown",
   "metadata": {
    "id": "Y5dRLOms2PUh"
   },
   "source": [
    "* 4) 전체 변수들끼리의 상관계수를 구하고, 가장 강한 상관관계와 가장 약한 상관관계를 찾아 봅시다."
   ]
  },
  {
   "cell_type": "code",
   "execution_count": null,
   "metadata": {
    "colab": {
     "base_uri": "https://localhost:8080/",
     "height": 336
    },
    "executionInfo": {
     "elapsed": 748,
     "status": "ok",
     "timestamp": 1674262787430,
     "user": {
      "displayName": "한기영",
      "userId": "13049187003176135487"
     },
     "user_tz": -540
    },
    "id": "OX_mKQ6r1mt3",
    "outputId": "ab5f77a5-2e57-4ab3-f567-7a3cb7fc27a7"
   },
   "outputs": [],
   "source": []
  },
  {
   "cell_type": "code",
   "execution_count": null,
   "metadata": {
    "colab": {
     "base_uri": "https://localhost:8080/"
    },
    "executionInfo": {
     "elapsed": 6,
     "status": "ok",
     "timestamp": 1674262799893,
     "user": {
      "displayName": "한기영",
      "userId": "13049187003176135487"
     },
     "user_tz": -540
    },
    "id": "OpIDK_Il0ZMU",
    "outputId": "68f71f49-7023-491d-d0a0-94d75782ee3c"
   },
   "outputs": [],
   "source": []
  },
  {
   "cell_type": "code",
   "execution_count": null,
   "metadata": {
    "id": "tOSjHaaM1r0G"
   },
   "outputs": [],
   "source": []
  }
 ],
 "metadata": {
  "colab": {
   "provenance": []
  },
  "kernelspec": {
   "display_name": "Python 3 (ipykernel)",
   "language": "python",
   "name": "python3"
  },
  "language_info": {
   "codemirror_mode": {
    "name": "ipython",
    "version": 3
   },
   "file_extension": ".py",
   "mimetype": "text/x-python",
   "name": "python",
   "nbconvert_exporter": "python",
   "pygments_lexer": "ipython3",
   "version": "3.9.13"
  }
 },
 "nbformat": 4,
 "nbformat_minor": 4
}

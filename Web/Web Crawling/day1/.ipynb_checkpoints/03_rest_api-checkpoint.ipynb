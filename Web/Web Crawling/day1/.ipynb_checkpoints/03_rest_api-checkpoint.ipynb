{
 "cells": [
  {
   "cell_type": "markdown",
   "metadata": {
    "tags": []
   },
   "source": [
    "# REST API\n",
    "- Representational State Transfer\n",
    "- Client와 Server가 통신하기 위한 URL 구조에 대한 정의 및 디자인"
   ]
  },
  {
   "cell_type": "markdown",
   "metadata": {
    "tags": []
   },
   "source": [
    "## 1\\. Kakao API"
   ]
  },
  {
   "cell_type": "code",
   "execution_count": 2,
   "metadata": {
    "tags": []
   },
   "outputs": [],
   "source": [
    "import warnings\n",
    "warnings.filterwarnings('ignore')\n",
    "import pandas as pd\n",
    "import requests, json\n"
   ]
  },
  {
   "cell_type": "markdown",
   "metadata": {},
   "source": [
    "### 1-1. request token 얻기\n",
    "- `https://developers.kakao.com/`\n",
    "- 내 애플리케이션 > 애플리케이션 추가하기"
   ]
  },
  {
   "cell_type": "code",
   "execution_count": 1,
   "metadata": {
    "tags": []
   },
   "outputs": [],
   "source": [
    "REST_API_KEY = '05f8388b3a7a5adbec1dafcd7dd3deca'"
   ]
  },
  {
   "cell_type": "markdown",
   "metadata": {},
   "source": [
    "### 1-2. KoGPT\n",
    "- 문서 > KoGPT > REST API\n",
    "- tokens : 공백을 제외한 글자수"
   ]
  },
  {
   "cell_type": "code",
   "execution_count": 2,
   "metadata": {
    "tags": []
   },
   "outputs": [],
   "source": [
    "# document 에서 URL 얻기\n",
    "url = 'https://api.kakaobrain.com/v1/inference/kogpt/generation'"
   ]
  },
  {
   "cell_type": "code",
   "execution_count": 12,
   "metadata": {
    "tags": []
   },
   "outputs": [],
   "source": [
    "# request(URL) -> response : json(str)\n",
    "prompt ='원자폭탄을 개발한 사람은' # 제시어\n",
    "max_tokens = 50 # 글자수\n",
    "params = {'prompt':prompt, 'max_tokens':max_tokens, 'n':2} \n",
    "headers = {\n",
    "    \"Authorization\": f'KakaoAK {REST_API_KEY}',\n",
    "    \"Content-Type\": \"application/json\"\n",
    "}\n",
    "\n",
    "response = requests.post(url, json.dumps(params), headers=headers)"
   ]
  },
  {
   "cell_type": "code",
   "execution_count": 7,
   "metadata": {
    "tags": []
   },
   "outputs": [
    {
     "data": {
      "text/plain": [
       "'{\"prompt\": \"\\\\uc6d0\\\\uc790\\\\ud3ed\\\\ud0c4\\\\uc744 \\\\uac1c\\\\ubc1c\\\\ud55c \\\\uc0ac\\\\ub78c\\\\uc740\", \"max_tokens\": 50}'"
      ]
     },
     "execution_count": 7,
     "metadata": {},
     "output_type": "execute_result"
    }
   ],
   "source": [
    "# json.dumps() : 문자열 인코딩, 한글은 인터넷상에서 사용 X, 한글 -> 영문, 특수문자로 인코딩\n",
    "json.dumps(params)"
   ]
  },
  {
   "cell_type": "code",
   "execution_count": 10,
   "metadata": {
    "tags": []
   },
   "outputs": [
    {
     "data": {
      "text/plain": [
       "{'id': 'b07c39ec-8276-4ed4-b56d-eb36ec10b1a7',\n",
       " 'generations': [{'text': ' 누구나 아인슈타인이라는 이름을 들어보았을 것이다. 나아가 사람들에게 알려진 가장 나쁜 천재의 하나로 DNA를 연구해 새로운 항생제 등 약품을 만드는 C.T 몬산토가 꼽힌다. < 생각 > - 천재도',\n",
       "   'tokens': 50}],\n",
       " 'usage': {'prompt_tokens': 7, 'generated_tokens': 50, 'total_tokens': 57}}"
      ]
     },
     "execution_count": 10,
     "metadata": {},
     "output_type": "execute_result"
    }
   ],
   "source": [
    "# json(str) -> parsing : text\n",
    "response.json()"
   ]
  },
  {
   "cell_type": "code",
   "execution_count": 13,
   "metadata": {
    "tags": []
   },
   "outputs": [
    {
     "data": {
      "text/plain": [
       "[' 오펜하이머 박사인데 그는 유대인이었어요. \\u200b 그런 연고로 해서 미국 안에 있던 과학자들이나 발명가들이 거의 다 유대계라는 것이지요.. 그런데 한편으론 특별히 하버드 대학 같은데서 물리학자가 많이 나올 때 그것',\n",
       " ' 오펜하이머 박사였습니다. 그는 원자탄은 살상용이 아니라 전쟁 종식을 위한 공포예방용의 무기여야함에도, 세계 곳곳에서 핵문제로 긴장과 혼란이 계속되고 있는데 한 나라라도 이기면 지금 당장이라도']"
      ]
     },
     "execution_count": 13,
     "metadata": {},
     "output_type": "execute_result"
    }
   ],
   "source": [
    "texts = response.json()['generations']\n",
    "texts = [text['text'] for text in texts]\n",
    "texts"
   ]
  },
  {
   "cell_type": "markdown",
   "metadata": {},
   "source": [
    "#### 1. 다음문장 만들기"
   ]
  },
  {
   "cell_type": "code",
   "execution_count": null,
   "metadata": {},
   "outputs": [],
   "source": []
  },
  {
   "cell_type": "markdown",
   "metadata": {},
   "source": [
    "#### 2. 문장 분류하기\n",
    "- 문장 마다 `=긍정`, `=부정` 문자열 작성\n",
    "- 분류할 마지막 문장 `=` 문자열 작성"
   ]
  },
  {
   "cell_type": "code",
   "execution_count": null,
   "metadata": {},
   "outputs": [],
   "source": []
  },
  {
   "cell_type": "markdown",
   "metadata": {},
   "source": [
    "#### 3. 뉴스 한 줄 요약하기\n",
    "- 마지막에 `한줄 요약:` 문자열 작성"
   ]
  },
  {
   "cell_type": "code",
   "execution_count": null,
   "metadata": {},
   "outputs": [],
   "source": []
  },
  {
   "cell_type": "markdown",
   "metadata": {
    "tags": []
   },
   "source": [
    "#### 4. 질문에 답변하기\n",
    "- 문장 마지막에 `?:` 로 끝남"
   ]
  },
  {
   "cell_type": "code",
   "execution_count": null,
   "metadata": {},
   "outputs": [],
   "source": []
  },
  {
   "cell_type": "markdown",
   "metadata": {},
   "source": [
    "#### 5. 응용하기"
   ]
  },
  {
   "cell_type": "code",
   "execution_count": null,
   "metadata": {},
   "outputs": [],
   "source": []
  },
  {
   "cell_type": "markdown",
   "metadata": {},
   "source": [
    "## 1-3 Karlo"
   ]
  },
  {
   "cell_type": "code",
   "execution_count": 6,
   "metadata": {
    "tags": []
   },
   "outputs": [],
   "source": [
    "import warnings\n",
    "warnings.filterwarnings('ignore')\n",
    "\n",
    "import pandas as pd\n",
    "import requests\n",
    "import urllib\n",
    "import json\n",
    "from PIL import Image"
   ]
  },
  {
   "cell_type": "code",
   "execution_count": 24,
   "metadata": {
    "tags": []
   },
   "outputs": [],
   "source": [
    "# 칼로는 이미지를 Base64 인코딩한 문자열 값으로 처리\n",
    "def stringToImage(base64_string, mode='RGBA'):\n",
    "    imgdata = base64.b64decode(str(base64_string))\n",
    "    img = Image.open(io.BytesIO(imgdata)).convert(mode)\n",
    "    return img\n",
    "\n",
    "def create_image(prompt, nag):\n",
    "    # key \n",
    "    REST_API_KEY = 'bcadb76a9696397f26e9122b3f32f53b'\n",
    "    # url\n",
    "    url = 'https://api.kakaobrain.com/v2/inference/karlo/t2i'\n",
    "\n",
    "    param = {'version':'v2.1', 'prompt':prompt,'negative_prompt':nag, 'width':1024, 'height':512}\n",
    "    headers={\n",
    "        'Authorization': f'KakaoAK {REST_API_KEY}',\n",
    "        'Content-Type' : 'application/json'\n",
    "    }\n",
    "    # request\n",
    "    response = requests.post(url, json = param, headers=headers)\n",
    "    return response\n",
    "\n",
    "def show_image(prompt, nag=''):\n",
    "    response = create_image(prompt, nag)\n",
    "    data = response.json()\n",
    "    # dataframe\n",
    "    df = pd.DataFrame(data['images'])\n",
    "    for image in df['image']:\n",
    "        # image open 하기\n",
    "        result = Image.open(urllib.request.urlopen(image))\n",
    "        result.show()\n"
   ]
  },
  {
   "cell_type": "code",
   "execution_count": 28,
   "metadata": {
    "tags": []
   },
   "outputs": [],
   "source": [
    "prompt = ''\n",
    "show_image(prompt)"
   ]
  },
  {
   "cell_type": "markdown",
   "metadata": {
    "id": "apodUP-CYr3_"
   },
   "source": [
    "## 2\\. Naver API\n",
    "- 통합검색어 트렌드 API\n",
    "    - https://datalab.naver.com/\n",
    "    - https://datalab.naver.com/keyword/trendSearch.naver"
   ]
  },
  {
   "cell_type": "markdown",
   "metadata": {
    "id": "ZEU1PeYTYr4C"
   },
   "source": [
    "### 2-1. Request Token 얻기\n",
    "- `https://developers.naver.com`\n",
    "- 1. Request Token 얻기 : 애플리케이션등록 -> app_key 획득\n",
    "- 2. app_key를 이용해서 데이터 가져오기"
   ]
  },
  {
   "cell_type": "markdown",
   "metadata": {
    "id": "gEKpR7ibYr4G"
   },
   "source": [
    "### 2-2. 통합검색어 트렌드 API\n",
    "- 서비스 : `https://datalab.naver.com/keyword/trendSearch.naver`\n",
    "- 내 애플리케이션 > dss 애플리케이션 > API 설정 > 데이터랩(검색어 트렌드) 추가\n",
    "- 사용법 : `https://developers.naver.com/docs/serviceapi/datalab/search/search.md#통합-검색어-트렌드`"
   ]
  },
  {
   "cell_type": "code",
   "execution_count": 7,
   "metadata": {},
   "outputs": [],
   "source": [
    "# app_key 획득\n",
    "CLIENT_ID = 'wCGr7ddnN6umWobVmWUU'\n",
    "CLIENT_SECRET ='XeKEh7un5V'\n",
    "# document 에서 url 획득\n",
    "def get_statistics(keywords,start_date='2016-01-01', end_date='2024-03-01',timeUnit = 'month'):\n",
    "    url = 'https://openapi.naver.com/v1/datalab/search'\n",
    "    params = {\n",
    "        'startDate':start_date,\n",
    "        'endDate':end_date,\n",
    "        'timeUnit':timeUnit,\n",
    "        'keywordGroups':\n",
    "        [{'groupName':keyword['name'] , 'keywords':keyword['keywords']} for keyword in keywords]\n",
    "    }\n",
    "    headers={\n",
    "        'X-Naver-Client-Id': CLIENT_ID,\n",
    "        'X-Naver-Client-Secret': CLIENT_SECRET,\n",
    "        'Content-Type': 'application/json'\n",
    "    }\n",
    "    response = requests.post(url,json.dumps(params), headers=headers)\n",
    "    return response\n",
    "keywords = [{'name':'페이스북','keywords':['페이스북','페북','facebook']},\n",
    "    {'name':'트위터','keywords':['트위터','트윗','twitter']},\n",
    "    {'name':'인스타그램','keywords':['인스타그램','인스타','instagram']}]\n",
    "\n",
    "# request -> response\n",
    "data = get_statistics(keywords = keywords).json()\n",
    "# json(str) -> Dataframe\n"
   ]
  },
  {
   "cell_type": "code",
   "execution_count": 8,
   "metadata": {
    "tags": []
   },
   "outputs": [
    {
     "data": {
      "text/plain": [
       "[{'title': '페이스북',\n",
       "  'keywords': ['페이스북', '페북', 'facebook'],\n",
       "  'data': [{'period': '2016-01-01', 'ratio': 44.95624},\n",
       "   {'period': '2016-02-01', 'ratio': 43.92873},\n",
       "   {'period': '2016-03-01', 'ratio': 46.22714},\n",
       "   {'period': '2016-04-01', 'ratio': 48.63285},\n",
       "   {'period': '2016-05-01', 'ratio': 48.63012},\n",
       "   {'period': '2016-06-01', 'ratio': 49.85759},\n",
       "   {'period': '2016-07-01', 'ratio': 48.26654},\n",
       "   {'period': '2016-08-01', 'ratio': 98.97838},\n",
       "   {'period': '2016-09-01', 'ratio': 98.48049},\n",
       "   {'period': '2016-10-01', 'ratio': 100},\n",
       "   {'period': '2016-11-01', 'ratio': 94.35108},\n",
       "   {'period': '2016-12-01', 'ratio': 94.96751},\n",
       "   {'period': '2017-01-01', 'ratio': 89.7061},\n",
       "   {'period': '2017-02-01', 'ratio': 82.77214},\n",
       "   {'period': '2017-03-01', 'ratio': 91.11216},\n",
       "   {'period': '2017-04-01', 'ratio': 97.52081},\n",
       "   {'period': '2017-05-01', 'ratio': 95.69438},\n",
       "   {'period': '2017-06-01', 'ratio': 91.68845},\n",
       "   {'period': '2017-07-01', 'ratio': 88.10236},\n",
       "   {'period': '2017-08-01', 'ratio': 80.66616},\n",
       "   {'period': '2017-09-01', 'ratio': 77.10032},\n",
       "   {'period': '2017-10-01', 'ratio': 76.81902},\n",
       "   {'period': '2017-11-01', 'ratio': 70.62099},\n",
       "   {'period': '2017-12-01', 'ratio': 66.60236},\n",
       "   {'period': '2018-01-01', 'ratio': 63.56284},\n",
       "   {'period': '2018-02-01', 'ratio': 57.88208},\n",
       "   {'period': '2018-03-01', 'ratio': 64.23928},\n",
       "   {'period': '2018-04-01', 'ratio': 64.96636},\n",
       "   {'period': '2018-05-01', 'ratio': 59.94896},\n",
       "   {'period': '2018-06-01', 'ratio': 59.60871},\n",
       "   {'period': '2018-07-01', 'ratio': 57.26548},\n",
       "   {'period': '2018-08-01', 'ratio': 54.40595},\n",
       "   {'period': '2018-09-01', 'ratio': 53.88351},\n",
       "   {'period': '2018-10-01', 'ratio': 53.0967},\n",
       "   {'period': '2018-11-01', 'ratio': 50.21888},\n",
       "   {'period': '2018-12-01', 'ratio': 49.34553},\n",
       "   {'period': '2019-01-01', 'ratio': 46.0359},\n",
       "   {'period': '2019-02-01', 'ratio': 41.04713},\n",
       "   {'period': '2019-03-01', 'ratio': 45.94179},\n",
       "   {'period': '2019-04-01', 'ratio': 47.09318},\n",
       "   {'period': '2019-05-01', 'ratio': 44.57709},\n",
       "   {'period': '2019-06-01', 'ratio': 45.57263},\n",
       "   {'period': '2019-07-01', 'ratio': 42.30218},\n",
       "   {'period': '2019-08-01', 'ratio': 40.68685},\n",
       "   {'period': '2019-09-01', 'ratio': 41.0459},\n",
       "   {'period': '2019-10-01', 'ratio': 41.17521},\n",
       "   {'period': '2019-11-01', 'ratio': 39.52851},\n",
       "   {'period': '2019-12-01', 'ratio': 38.17653},\n",
       "   {'period': '2020-01-01', 'ratio': 36.67226},\n",
       "   {'period': '2020-02-01', 'ratio': 37.43157},\n",
       "   {'period': '2020-03-01', 'ratio': 41.54112},\n",
       "   {'period': '2020-04-01', 'ratio': 37.80539},\n",
       "   {'period': '2020-05-01', 'ratio': 37.3838},\n",
       "   {'period': '2020-06-01', 'ratio': 35.92679},\n",
       "   {'period': '2020-07-01', 'ratio': 37.60215},\n",
       "   {'period': '2020-08-01', 'ratio': 36.04957},\n",
       "   {'period': '2020-09-01', 'ratio': 34.0933},\n",
       "   {'period': '2020-10-01', 'ratio': 32.14542},\n",
       "   {'period': '2020-11-01', 'ratio': 30.59194},\n",
       "   {'period': '2020-12-01', 'ratio': 31.16849},\n",
       "   {'period': '2021-01-01', 'ratio': 28.55199},\n",
       "   {'period': '2021-02-01', 'ratio': 25.04374},\n",
       "   {'period': '2021-03-01', 'ratio': 28.36797},\n",
       "   {'period': '2021-04-01', 'ratio': 28.01477},\n",
       "   {'period': '2021-05-01', 'ratio': 26.14632},\n",
       "   {'period': '2021-06-01', 'ratio': 25.14484},\n",
       "   {'period': '2021-07-01', 'ratio': 24.10471},\n",
       "   {'period': '2021-08-01', 'ratio': 22.66114},\n",
       "   {'period': '2021-09-01', 'ratio': 20.73066},\n",
       "   {'period': '2021-10-01', 'ratio': 21.80197},\n",
       "   {'period': '2021-11-01', 'ratio': 18.99518},\n",
       "   {'period': '2021-12-01', 'ratio': 18.08403},\n",
       "   {'period': '2022-01-01', 'ratio': 17.19941},\n",
       "   {'period': '2022-02-01', 'ratio': 15.65835},\n",
       "   {'period': '2022-03-01', 'ratio': 16.39438},\n",
       "   {'period': '2022-04-01', 'ratio': 14.70776},\n",
       "   {'period': '2022-05-01', 'ratio': 14.33599},\n",
       "   {'period': '2022-06-01', 'ratio': 13.27157},\n",
       "   {'period': '2022-07-01', 'ratio': 12.94171},\n",
       "   {'period': '2022-08-01', 'ratio': 12.2121},\n",
       "   {'period': '2022-09-01', 'ratio': 11.25735},\n",
       "   {'period': '2022-10-01', 'ratio': 11.04941},\n",
       "   {'period': '2022-11-01', 'ratio': 9.97712},\n",
       "   {'period': '2022-12-01', 'ratio': 9.73123},\n",
       "   {'period': '2023-01-01', 'ratio': 9.85054},\n",
       "   {'period': '2023-02-01', 'ratio': 8.58182},\n",
       "   {'period': '2023-03-01', 'ratio': 8.84713},\n",
       "   {'period': '2023-04-01', 'ratio': 8.24514},\n",
       "   {'period': '2023-05-01', 'ratio': 8.31053},\n",
       "   {'period': '2023-06-01', 'ratio': 7.75087},\n",
       "   {'period': '2023-07-01', 'ratio': 7.75736},\n",
       "   {'period': '2023-08-01', 'ratio': 7.53385},\n",
       "   {'period': '2023-09-01', 'ratio': 6.84275},\n",
       "   {'period': '2023-10-01', 'ratio': 6.82908},\n",
       "   {'period': '2023-11-01', 'ratio': 6.50347},\n",
       "   {'period': '2023-12-01', 'ratio': 6.60003},\n",
       "   {'period': '2024-01-01', 'ratio': 6.66549},\n",
       "   {'period': '2024-02-01', 'ratio': 6.01122},\n",
       "   {'period': '2024-03-01', 'ratio': 1.8703}]}]"
      ]
     },
     "execution_count": 8,
     "metadata": {},
     "output_type": "execute_result"
    }
   ],
   "source": [
    "data['results'][:1]"
   ]
  },
  {
   "cell_type": "code",
   "execution_count": 9,
   "metadata": {
    "tags": []
   },
   "outputs": [
    {
     "data": {
      "text/plain": [
       "3"
      ]
     },
     "execution_count": 9,
     "metadata": {},
     "output_type": "execute_result"
    }
   ],
   "source": [
    "dfs = []\n",
    "for row in data['results']:\n",
    "    df = pd.DataFrame(row['data'])\n",
    "    df['title'] = row['title']\n",
    "    dfs.append(df)\n",
    "len(dfs)"
   ]
  },
  {
   "cell_type": "code",
   "execution_count": 10,
   "metadata": {
    "tags": []
   },
   "outputs": [
    {
     "data": {
      "text/plain": [
       "[        period     ratio title\n",
       " 0   2016-01-01  44.95624  페이스북\n",
       " 1   2016-02-01  43.92873  페이스북\n",
       " 2   2016-03-01  46.22714  페이스북\n",
       " 3   2016-04-01  48.63285  페이스북\n",
       " 4   2016-05-01  48.63012  페이스북\n",
       " ..         ...       ...   ...\n",
       " 94  2023-11-01   6.50347  페이스북\n",
       " 95  2023-12-01   6.60003  페이스북\n",
       " 96  2024-01-01   6.66549  페이스북\n",
       " 97  2024-02-01   6.01122  페이스북\n",
       " 98  2024-03-01   1.87030  페이스북\n",
       " \n",
       " [99 rows x 3 columns],\n",
       "         period     ratio title\n",
       " 0   2016-01-01   4.64178   트위터\n",
       " 1   2016-02-01   4.13973   트위터\n",
       " 2   2016-03-01   4.16502   트위터\n",
       " 3   2016-04-01   4.17578   트위터\n",
       " 4   2016-05-01   4.20467   트위터\n",
       " ..         ...       ...   ...\n",
       " 94  2023-11-01  14.75060   트위터\n",
       " 95  2023-12-01  14.81632   트위터\n",
       " 96  2024-01-01  15.34682   트위터\n",
       " 97  2024-02-01  14.71164   트위터\n",
       " 98  2024-03-01   3.27179   트위터\n",
       " \n",
       " [99 rows x 3 columns],\n",
       "         period     ratio  title\n",
       " 0   2016-01-01   6.20160  인스타그램\n",
       " 1   2016-02-01   5.99155  인스타그램\n",
       " 2   2016-03-01   6.38642  인스타그램\n",
       " 3   2016-04-01   7.45768  인스타그램\n",
       " 4   2016-05-01   8.20541  인스타그램\n",
       " ..         ...       ...    ...\n",
       " 94  2023-11-01  14.97209  인스타그램\n",
       " 95  2023-12-01  14.14820  인스타그램\n",
       " 96  2024-01-01  14.17090  인스타그램\n",
       " 97  2024-02-01  12.94932  인스타그램\n",
       " 98  2024-03-01   5.10148  인스타그램\n",
       " \n",
       " [99 rows x 3 columns]]"
      ]
     },
     "execution_count": 10,
     "metadata": {},
     "output_type": "execute_result"
    }
   ],
   "source": [
    "dfs"
   ]
  },
  {
   "cell_type": "code",
   "execution_count": 11,
   "metadata": {},
   "outputs": [
    {
     "data": {
      "text/html": [
       "<div>\n",
       "<style scoped>\n",
       "    .dataframe tbody tr th:only-of-type {\n",
       "        vertical-align: middle;\n",
       "    }\n",
       "\n",
       "    .dataframe tbody tr th {\n",
       "        vertical-align: top;\n",
       "    }\n",
       "\n",
       "    .dataframe thead th {\n",
       "        text-align: right;\n",
       "    }\n",
       "</style>\n",
       "<table border=\"1\" class=\"dataframe\">\n",
       "  <thead>\n",
       "    <tr style=\"text-align: right;\">\n",
       "      <th></th>\n",
       "      <th>period</th>\n",
       "      <th>ratio</th>\n",
       "      <th>title</th>\n",
       "    </tr>\n",
       "  </thead>\n",
       "  <tbody>\n",
       "    <tr>\n",
       "      <th>0</th>\n",
       "      <td>2016-01-01</td>\n",
       "      <td>44.95624</td>\n",
       "      <td>페이스북</td>\n",
       "    </tr>\n",
       "    <tr>\n",
       "      <th>1</th>\n",
       "      <td>2016-02-01</td>\n",
       "      <td>43.92873</td>\n",
       "      <td>페이스북</td>\n",
       "    </tr>\n",
       "    <tr>\n",
       "      <th>2</th>\n",
       "      <td>2016-03-01</td>\n",
       "      <td>46.22714</td>\n",
       "      <td>페이스북</td>\n",
       "    </tr>\n",
       "    <tr>\n",
       "      <th>3</th>\n",
       "      <td>2016-04-01</td>\n",
       "      <td>48.63285</td>\n",
       "      <td>페이스북</td>\n",
       "    </tr>\n",
       "    <tr>\n",
       "      <th>4</th>\n",
       "      <td>2016-05-01</td>\n",
       "      <td>48.63012</td>\n",
       "      <td>페이스북</td>\n",
       "    </tr>\n",
       "  </tbody>\n",
       "</table>\n",
       "</div>"
      ],
      "text/plain": [
       "       period     ratio title\n",
       "0  2016-01-01  44.95624  페이스북\n",
       "1  2016-02-01  43.92873  페이스북\n",
       "2  2016-03-01  46.22714  페이스북\n",
       "3  2016-04-01  48.63285  페이스북\n",
       "4  2016-05-01  48.63012  페이스북"
      ]
     },
     "execution_count": 11,
     "metadata": {},
     "output_type": "execute_result"
    }
   ],
   "source": [
    "# 세 개 합치기\n",
    "merged_data = pd.concat(dfs, axis=0)\n",
    "merged_data.head()"
   ]
  },
  {
   "cell_type": "code",
   "execution_count": 12,
   "metadata": {},
   "outputs": [
    {
     "data": {
      "text/html": [
       "<div>\n",
       "<style scoped>\n",
       "    .dataframe tbody tr th:only-of-type {\n",
       "        vertical-align: middle;\n",
       "    }\n",
       "\n",
       "    .dataframe tbody tr th {\n",
       "        vertical-align: top;\n",
       "    }\n",
       "\n",
       "    .dataframe thead th {\n",
       "        text-align: right;\n",
       "    }\n",
       "</style>\n",
       "<table border=\"1\" class=\"dataframe\">\n",
       "  <thead>\n",
       "    <tr style=\"text-align: right;\">\n",
       "      <th>title</th>\n",
       "      <th>인스타그램</th>\n",
       "      <th>트위터</th>\n",
       "      <th>페이스북</th>\n",
       "    </tr>\n",
       "    <tr>\n",
       "      <th>period</th>\n",
       "      <th></th>\n",
       "      <th></th>\n",
       "      <th></th>\n",
       "    </tr>\n",
       "  </thead>\n",
       "  <tbody>\n",
       "    <tr>\n",
       "      <th>2016-01-01</th>\n",
       "      <td>6.20160</td>\n",
       "      <td>4.64178</td>\n",
       "      <td>44.95624</td>\n",
       "    </tr>\n",
       "    <tr>\n",
       "      <th>2016-02-01</th>\n",
       "      <td>5.99155</td>\n",
       "      <td>4.13973</td>\n",
       "      <td>43.92873</td>\n",
       "    </tr>\n",
       "    <tr>\n",
       "      <th>2016-03-01</th>\n",
       "      <td>6.38642</td>\n",
       "      <td>4.16502</td>\n",
       "      <td>46.22714</td>\n",
       "    </tr>\n",
       "    <tr>\n",
       "      <th>2016-04-01</th>\n",
       "      <td>7.45768</td>\n",
       "      <td>4.17578</td>\n",
       "      <td>48.63285</td>\n",
       "    </tr>\n",
       "    <tr>\n",
       "      <th>2016-05-01</th>\n",
       "      <td>8.20541</td>\n",
       "      <td>4.20467</td>\n",
       "      <td>48.63012</td>\n",
       "    </tr>\n",
       "    <tr>\n",
       "      <th>...</th>\n",
       "      <td>...</td>\n",
       "      <td>...</td>\n",
       "      <td>...</td>\n",
       "    </tr>\n",
       "    <tr>\n",
       "      <th>2023-11-01</th>\n",
       "      <td>14.97209</td>\n",
       "      <td>14.75060</td>\n",
       "      <td>6.50347</td>\n",
       "    </tr>\n",
       "    <tr>\n",
       "      <th>2023-12-01</th>\n",
       "      <td>14.14820</td>\n",
       "      <td>14.81632</td>\n",
       "      <td>6.60003</td>\n",
       "    </tr>\n",
       "    <tr>\n",
       "      <th>2024-01-01</th>\n",
       "      <td>14.17090</td>\n",
       "      <td>15.34682</td>\n",
       "      <td>6.66549</td>\n",
       "    </tr>\n",
       "    <tr>\n",
       "      <th>2024-02-01</th>\n",
       "      <td>12.94932</td>\n",
       "      <td>14.71164</td>\n",
       "      <td>6.01122</td>\n",
       "    </tr>\n",
       "    <tr>\n",
       "      <th>2024-03-01</th>\n",
       "      <td>5.10148</td>\n",
       "      <td>3.27179</td>\n",
       "      <td>1.87030</td>\n",
       "    </tr>\n",
       "  </tbody>\n",
       "</table>\n",
       "<p>99 rows × 3 columns</p>\n",
       "</div>"
      ],
      "text/plain": [
       "title          인스타그램       트위터      페이스북\n",
       "period                                  \n",
       "2016-01-01   6.20160   4.64178  44.95624\n",
       "2016-02-01   5.99155   4.13973  43.92873\n",
       "2016-03-01   6.38642   4.16502  46.22714\n",
       "2016-04-01   7.45768   4.17578  48.63285\n",
       "2016-05-01   8.20541   4.20467  48.63012\n",
       "...              ...       ...       ...\n",
       "2023-11-01  14.97209  14.75060   6.50347\n",
       "2023-12-01  14.14820  14.81632   6.60003\n",
       "2024-01-01  14.17090  15.34682   6.66549\n",
       "2024-02-01  12.94932  14.71164   6.01122\n",
       "2024-03-01   5.10148   3.27179   1.87030\n",
       "\n",
       "[99 rows x 3 columns]"
      ]
     },
     "execution_count": 12,
     "metadata": {},
     "output_type": "execute_result"
    }
   ],
   "source": [
    "# pivot\n",
    "pivot_df = merged_data.pivot(index='period', columns='title', values= 'ratio')\n",
    "pivot_df"
   ]
  },
  {
   "cell_type": "markdown",
   "metadata": {},
   "source": [
    "## 시각화"
   ]
  },
  {
   "cell_type": "code",
   "execution_count": 36,
   "metadata": {},
   "outputs": [
    {
     "data": {
      "text/plain": [
       "<matplotlib.legend.Legend at 0x1fd1dcd3a50>"
      ]
     },
     "execution_count": 36,
     "metadata": {},
     "output_type": "execute_result"
    },
    {
     "data": {
      "image/png": "[encoded data removed]",
      "text/plain": [
       "<Figure size 640x480 with 1 Axes>"
      ]
     },
     "metadata": {},
     "output_type": "display_data"
    }
   ],
   "source": [
    "import seaborn as sns\n",
    "import matplotlib.pyplot as plt\n",
    "plt.rcParams['font.family'] = 'Malgun Gothic'\n",
    "\n",
    "plt.plot(pivot_df, label=pivot_df.columns)\n",
    "plt.xticks(range(0,len(pivot_df), int(len(pivot_df)/5)), rotation=30)\n",
    "\n",
    "plt.legend()"
   ]
  },
  {
   "cell_type": "code",
   "execution_count": 14,
   "metadata": {},
   "outputs": [
    {
     "name": "stdout",
     "output_type": "stream",
     "text": [
      "Help on function xticks in module matplotlib.pyplot:\n",
      "\n",
      "xticks(ticks=None, labels=None, *, minor=False, **kwargs)\n",
      "    Get or set the current tick locations and labels of the x-axis.\n",
      "    \n",
      "    Pass no arguments to return the current values without modifying them.\n",
      "    \n",
      "    Parameters\n",
      "    ----------\n",
      "    ticks : array-like, optional\n",
      "        The list of xtick locations.  Passing an empty list removes all xticks.\n",
      "    labels : array-like, optional\n",
      "        The labels to place at the given *ticks* locations.  This argument can\n",
      "        only be passed if *ticks* is passed as well.\n",
      "    minor : bool, default: False\n",
      "        If ``False``, get/set the major ticks/labels; if ``True``, the minor\n",
      "        ticks/labels.\n",
      "    **kwargs\n",
      "        `.Text` properties can be used to control the appearance of the labels.\n",
      "    \n",
      "    Returns\n",
      "    -------\n",
      "    locs\n",
      "        The list of xtick locations.\n",
      "    labels\n",
      "        The list of xlabel `.Text` objects.\n",
      "    \n",
      "    Notes\n",
      "    -----\n",
      "    Calling this function with no arguments (e.g. ``xticks()``) is the pyplot\n",
      "    equivalent of calling `~.Axes.get_xticks` and `~.Axes.get_xticklabels` on\n",
      "    the current axes.\n",
      "    Calling this function with arguments is the pyplot equivalent of calling\n",
      "    `~.Axes.set_xticks` and `~.Axes.set_xticklabels` on the current axes.\n",
      "    \n",
      "    Examples\n",
      "    --------\n",
      "    >>> locs, labels = xticks()  # Get the current locations and labels.\n",
      "    >>> xticks(np.arange(0, 1, step=0.2))  # Set label locations.\n",
      "    >>> xticks(np.arange(3), ['Tom', 'Dick', 'Sue'])  # Set text labels.\n",
      "    >>> xticks([0, 1, 2], ['January', 'February', 'March'],\n",
      "    ...        rotation=20)  # Set text labels and properties.\n",
      "    >>> xticks([])  # Disable xticks.\n",
      "\n"
     ]
    }
   ],
   "source": [
    "help(plt.xticks)"
   ]
  },
  {
   "cell_type": "code",
   "execution_count": null,
   "metadata": {},
   "outputs": [],
   "source": []
  }
 ],
 "metadata": {
  "colab": {
   "provenance": []
  },
  "kernelspec": {
   "display_name": "Python 3 (ipykernel)",
   "language": "python",
   "name": "python3"
  },
  "language_info": {
   "codemirror_mode": {
    "name": "ipython",
    "version": 3
   },
   "file_extension": ".py",
   "mimetype": "text/x-python",
   "name": "python",
   "nbconvert_exporter": "python",
   "pygments_lexer": "ipython3",
   "version": "3.11.5"
  },
  "toc": {
   "base_numbering": 1,
   "nav_menu": {},
   "number_sections": false,
   "sideBar": true,
   "skip_h1_title": false,
   "title_cell": "Table of Contents",
   "title_sidebar": "Contents",
   "toc_cell": false,
   "toc_position": {},
   "toc_section_display": true,
   "toc_window_display": false
  }
 },
 "nbformat": 4,
 "nbformat_minor": 4
}

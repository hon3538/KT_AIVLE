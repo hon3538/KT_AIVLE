{
 "cells": [
  {
   "cell_type": "markdown",
   "id": "03fff3b4",
   "metadata": {},
   "source": [
    "### selenium\n",
    "- `https://www.selenium.dev`\n",
    "- 자동화를 목적으로 만들어진 다양한 브라우져와 언어를 지원하는 라이브러리\n",
    "- 크롬 브라우져 설치\n",
    "    - 크롬 브라우져 드라이버 다운로드 (크롬 브라우져와 같은 버전)\n",
    "    - 다운로드한 드라이버 압축 해제\n",
    "    - chromedriver, chromedriver.exe 생성\n",
    "    - windows : 주피터 노트북 파일과 동일한 디렉토리에 chromedriver.exe 파일 업로드\n",
    "    - mac : sudo cp ~/Download/chromedirver /usr/local/bin"
   ]
  },
  {
   "cell_type": "code",
   "execution_count": null,
   "id": "a6e6bc99",
   "metadata": {},
   "outputs": [],
   "source": [
    "# 환경설정\n",
    "# 1. 크롬 브라우져 설치\n",
    "# 2. 크롬 브라우져 드라이버 다운로드\n",
    "# 3. selenium 패키지 설치"
   ]
  },
  {
   "cell_type": "code",
   "execution_count": 1,
   "id": "86e72f74",
   "metadata": {
    "scrolled": true
   },
   "outputs": [
    {
     "name": "stdout",
     "output_type": "stream",
     "text": [
      "Collecting selenium\n",
      "  Obtaining dependency information for selenium from https://files.pythonhosted.org/packages/3f/fd/c2e7bb547b5b96c7bd536b4a80c4564b7ce5cd38d10095fbba8648996ab9/selenium-4.18.1-py3-none-any.whl.metadata\n",
      "  Downloading selenium-4.18.1-py3-none-any.whl.metadata (6.9 kB)\n",
      "Requirement already satisfied: urllib3[socks]<3,>=1.26 in c:\\users\\user\\anaconda3\\lib\\site-packages (from selenium) (1.26.16)\n",
      "Collecting trio~=0.17 (from selenium)\n",
      "  Obtaining dependency information for trio~=0.17 from https://files.pythonhosted.org/packages/14/fb/9299cf74953f473a15accfdbe2c15218e766bae8c796f2567c83bae03e98/trio-0.24.0-py3-none-any.whl.metadata\n",
      "  Downloading trio-0.24.0-py3-none-any.whl.metadata (4.9 kB)\n",
      "Collecting trio-websocket~=0.9 (from selenium)\n",
      "  Obtaining dependency information for trio-websocket~=0.9 from https://files.pythonhosted.org/packages/48/be/a9ae5f50cad5b6f85bd2574c2c923730098530096e170c1ce7452394d7aa/trio_websocket-0.11.1-py3-none-any.whl.metadata\n",
      "  Downloading trio_websocket-0.11.1-py3-none-any.whl.metadata (4.7 kB)\n",
      "Requirement already satisfied: certifi>=2021.10.8 in c:\\users\\user\\anaconda3\\lib\\site-packages (from selenium) (2023.11.17)\n",
      "Collecting typing_extensions>=4.9.0 (from selenium)\n",
      "  Obtaining dependency information for typing_extensions>=4.9.0 from https://files.pythonhosted.org/packages/f9/de/dc04a3ea60b22624b51c703a84bbe0184abcd1d0b9bc8074b5d6b7ab90bb/typing_extensions-4.10.0-py3-none-any.whl.metadata\n",
      "  Downloading typing_extensions-4.10.0-py3-none-any.whl.metadata (3.0 kB)\n",
      "Requirement already satisfied: attrs>=20.1.0 in c:\\users\\user\\anaconda3\\lib\\site-packages (from trio~=0.17->selenium) (22.1.0)\n",
      "Requirement already satisfied: sortedcontainers in c:\\users\\user\\anaconda3\\lib\\site-packages (from trio~=0.17->selenium) (2.4.0)\n",
      "Requirement already satisfied: idna in c:\\users\\user\\anaconda3\\lib\\site-packages (from trio~=0.17->selenium) (3.4)\n",
      "Collecting outcome (from trio~=0.17->selenium)\n",
      "  Obtaining dependency information for outcome from https://files.pythonhosted.org/packages/55/8b/5ab7257531a5d830fc8000c476e63c935488d74609b50f9384a643ec0a62/outcome-1.3.0.post0-py2.py3-none-any.whl.metadata\n",
      "  Downloading outcome-1.3.0.post0-py2.py3-none-any.whl.metadata (2.6 kB)\n",
      "Collecting sniffio>=1.3.0 (from trio~=0.17->selenium)\n",
      "  Obtaining dependency information for sniffio>=1.3.0 from https://files.pythonhosted.org/packages/e9/44/75a9c9421471a6c4805dbf2356f7c181a29c1879239abab1ea2cc8f38b40/sniffio-1.3.1-py3-none-any.whl.metadata\n",
      "  Downloading sniffio-1.3.1-py3-none-any.whl.metadata (3.9 kB)\n",
      "Requirement already satisfied: cffi>=1.14 in c:\\users\\user\\anaconda3\\lib\\site-packages (from trio~=0.17->selenium) (1.15.1)\n",
      "Collecting wsproto>=0.14 (from trio-websocket~=0.9->selenium)\n",
      "  Obtaining dependency information for wsproto>=0.14 from https://files.pythonhosted.org/packages/78/58/e860788190eba3bcce367f74d29c4675466ce8dddfba85f7827588416f01/wsproto-1.2.0-py3-none-any.whl.metadata\n",
      "  Downloading wsproto-1.2.0-py3-none-any.whl.metadata (5.6 kB)\n",
      "Requirement already satisfied: PySocks!=1.5.7,<2.0,>=1.5.6 in c:\\users\\user\\anaconda3\\lib\\site-packages (from urllib3[socks]<3,>=1.26->selenium) (1.7.1)\n",
      "Requirement already satisfied: pycparser in c:\\users\\user\\anaconda3\\lib\\site-packages (from cffi>=1.14->trio~=0.17->selenium) (2.21)\n",
      "Collecting h11<1,>=0.9.0 (from wsproto>=0.14->trio-websocket~=0.9->selenium)\n",
      "  Obtaining dependency information for h11<1,>=0.9.0 from https://files.pythonhosted.org/packages/95/04/ff642e65ad6b90db43e668d70ffb6736436c7ce41fcc549f4e9472234127/h11-0.14.0-py3-none-any.whl.metadata\n",
      "  Downloading h11-0.14.0-py3-none-any.whl.metadata (8.2 kB)\n",
      "Downloading selenium-4.18.1-py3-none-any.whl (10.0 MB)\n",
      "   ---------------------------------------- 0.0/10.0 MB ? eta -:--:--\n",
      "   - -------------------------------------- 0.3/10.0 MB 7.3 MB/s eta 0:00:02\n",
      "   --- ------------------------------------ 1.0/10.0 MB 10.5 MB/s eta 0:00:01\n",
      "   ------- -------------------------------- 1.8/10.0 MB 12.6 MB/s eta 0:00:01\n",
      "   ----------- ---------------------------- 2.9/10.0 MB 15.3 MB/s eta 0:00:01\n",
      "   --------------- ------------------------ 3.9/10.0 MB 16.6 MB/s eta 0:00:01\n",
      "   ------------------- -------------------- 4.8/10.0 MB 17.1 MB/s eta 0:00:01\n",
      "   ----------------------- ---------------- 5.8/10.0 MB 17.7 MB/s eta 0:00:01\n",
      "   ---------------------------- ----------- 7.1/10.0 MB 19.0 MB/s eta 0:00:01\n",
      "   --------------------------------- ------ 8.3/10.0 MB 19.7 MB/s eta 0:00:01\n",
      "   -------------------------------------- - 9.6/10.0 MB 20.4 MB/s eta 0:00:01\n",
      "   ---------------------------------------- 10.0/10.0 MB 19.4 MB/s eta 0:00:00\n",
      "Downloading trio-0.24.0-py3-none-any.whl (460 kB)\n",
      "   ---------------------------------------- 0.0/460.2 kB ? eta -:--:--\n",
      "   --------------------------------------- 460.2/460.2 kB 30.0 MB/s eta 0:00:00\n",
      "Using cached trio_websocket-0.11.1-py3-none-any.whl (17 kB)\n",
      "Downloading typing_extensions-4.10.0-py3-none-any.whl (33 kB)\n",
      "Using cached sniffio-1.3.1-py3-none-any.whl (10 kB)\n",
      "Using cached wsproto-1.2.0-py3-none-any.whl (24 kB)\n",
      "Using cached outcome-1.3.0.post0-py2.py3-none-any.whl (10 kB)\n",
      "Using cached h11-0.14.0-py3-none-any.whl (58 kB)\n",
      "Installing collected packages: typing_extensions, sniffio, outcome, h11, wsproto, trio, trio-websocket, selenium\n",
      "  Attempting uninstall: typing_extensions\n",
      "    Found existing installation: typing_extensions 4.7.1\n",
      "    Uninstalling typing_extensions-4.7.1:\n",
      "      Successfully uninstalled typing_extensions-4.7.1\n",
      "  Attempting uninstall: sniffio\n",
      "    Found existing installation: sniffio 1.2.0\n",
      "    Uninstalling sniffio-1.2.0:\n",
      "      Successfully uninstalled sniffio-1.2.0\n",
      "Successfully installed h11-0.14.0 outcome-1.3.0.post0 selenium-4.18.1 sniffio-1.3.1 trio-0.24.0 trio-websocket-0.11.1 typing_extensions-4.10.0 wsproto-1.2.0\n"
     ]
    }
   ],
   "source": [
    "!pip install selenium"
   ]
  },
  {
   "cell_type": "code",
   "execution_count": 11,
   "id": "3ec6705f",
   "metadata": {},
   "outputs": [],
   "source": [
    "from selenium import webdriver\n",
    "from selenium.webdriver.common.by import By"
   ]
  },
  {
   "cell_type": "code",
   "execution_count": 13,
   "id": "0bc71f96",
   "metadata": {},
   "outputs": [],
   "source": [
    "driver = webdriver.Chrome()"
   ]
  },
  {
   "cell_type": "code",
   "execution_count": 6,
   "id": "758264d6",
   "metadata": {},
   "outputs": [
    {
     "name": "stdout",
     "output_type": "stream",
     "text": [
      " C 드라이브의 볼륨에는 이름이 없습니다.\n",
      " 볼륨 일련 번호: FCA9-41A6\n",
      "\n",
      " C:\\Users\\User\\KT_AIVLE\\웹크롤링\\day2\\notebooks_code 디렉터리\n",
      "\n",
      "2024-03-08  오후 04:18    <DIR>          .\n",
      "2024-03-07  오후 06:50    <DIR>          ..\n",
      "2024-03-08  오후 04:10    <DIR>          .ipynb_checkpoints\n",
      "2024-03-08  오후 02:03            21,144 01_html.ipynb\n",
      "2024-03-08  오후 03:14             9,808 02_css_selector.ipynb\n",
      "2024-03-08  오후 03:18             9,027 03_naver_relational_keywords.ipynb\n",
      "2024-03-08  오후 04:07           477,314 04_gmarket.ipynb\n",
      "2024-03-08  오후 04:18             6,522 05_selenium.ipynb\n",
      "2024-03-08  오후 04:15        16,908,288 chromedriver.exe\n",
      "2024-03-08  오후 03:57    <DIR>          image_data\n",
      "               6개 파일          17,432,103 바이트\n",
      "               4개 디렉터리  160,286,769,152 바이트 남음\n"
     ]
    }
   ],
   "source": [
    "%ls"
   ]
  },
  {
   "cell_type": "code",
   "execution_count": 12,
   "id": "76edceb9",
   "metadata": {},
   "outputs": [
    {
     "data": {
      "text/plain": [
       "'C:\\\\Users\\\\User\\\\KT_AIVLE\\\\Web Crawling\\\\day2\\\\notebooks_code'"
      ]
     },
     "execution_count": 12,
     "metadata": {},
     "output_type": "execute_result"
    }
   ],
   "source": [
    "%pwd"
   ]
  },
  {
   "cell_type": "code",
   "execution_count": 9,
   "id": "cafbc8fb",
   "metadata": {},
   "outputs": [],
   "source": [
    "import sys\n",
    "sys.path.append('C:\\\\Users\\\\User\\\\KT_AIVLE\\\\웹크롤링\\\\day2\\\\notebooks_code')"
   ]
  },
  {
   "cell_type": "code",
   "execution_count": 10,
   "id": "f63de28f",
   "metadata": {},
   "outputs": [
    {
     "data": {
      "text/plain": [
       "['C:\\\\Users\\\\User\\\\KT_AIVLE\\\\웹크롤링\\\\day2\\\\notebooks_code',\n",
       " 'C:\\\\Users\\\\User\\\\anaconda3\\\\python311.zip',\n",
       " 'C:\\\\Users\\\\User\\\\anaconda3\\\\DLLs',\n",
       " 'C:\\\\Users\\\\User\\\\anaconda3\\\\Lib',\n",
       " 'C:\\\\Users\\\\User\\\\anaconda3',\n",
       " '',\n",
       " 'C:\\\\Users\\\\User\\\\anaconda3\\\\Lib\\\\site-packages',\n",
       " 'C:\\\\Users\\\\User\\\\anaconda3\\\\Lib\\\\site-packages\\\\win32',\n",
       " 'C:\\\\Users\\\\User\\\\anaconda3\\\\Lib\\\\site-packages\\\\win32\\\\lib',\n",
       " 'C:\\\\Users\\\\User\\\\anaconda3\\\\Lib\\\\site-packages\\\\Pythonwin',\n",
       " 'C:/Users/User/KT_AIVLE/웹크롤링/day2/notebooks_code',\n",
       " 'C:/Users/User/KT_AIVLE/웹크롤링/day2/notebooks_code/',\n",
       " 'C:\\\\Users\\\\User\\\\KT_AIVLE\\\\웹크롤링\\\\day2\\\\notebooks_code']"
      ]
     },
     "execution_count": 10,
     "metadata": {},
     "output_type": "execute_result"
    }
   ],
   "source": [
    "sys.path"
   ]
  },
  {
   "cell_type": "code",
   "execution_count": 21,
   "id": "80bca5aa",
   "metadata": {},
   "outputs": [],
   "source": [
    "# 페이지 이동 , chat gpt\n",
    "driver.get('https://chat.openai.com/')"
   ]
  },
  {
   "cell_type": "code",
   "execution_count": 23,
   "id": "015dce59",
   "metadata": {},
   "outputs": [],
   "source": [
    "# 로그인 버튼 클릭\n",
    "driver.find_element(By.CSS_SELECTOR, '.grid > button:nth-child(1)').click()\n"
   ]
  },
  {
   "cell_type": "code",
   "execution_count": 22,
   "id": "c6299939",
   "metadata": {},
   "outputs": [
    {
     "ename": "NoSuchElementException",
     "evalue": "Message: no such element: Unable to locate element: {\"method\":\"css selector\",\"selector\":\".ctp-checkbox-label > input:nth-child(1)\"}\n  (Session info: chrome=122.0.6261.95); For documentation on this error, please visit: https://www.selenium.dev/documentation/webdriver/troubleshooting/errors#no-such-element-exception\nStacktrace:\n\tGetHandleVerifier [0x00007FF6C218AD32+56930]\n\t(No symbol) [0x00007FF6C20FF632]\n\t(No symbol) [0x00007FF6C1FB42E5]\n\t(No symbol) [0x00007FF6C1FF98ED]\n\t(No symbol) [0x00007FF6C1FF9A2C]\n\t(No symbol) [0x00007FF6C203A967]\n\t(No symbol) [0x00007FF6C201BCDF]\n\t(No symbol) [0x00007FF6C20381E2]\n\t(No symbol) [0x00007FF6C201BA43]\n\t(No symbol) [0x00007FF6C1FED438]\n\t(No symbol) [0x00007FF6C1FEE4D1]\n\tGetHandleVerifier [0x00007FF6C2506ABD+3709933]\n\tGetHandleVerifier [0x00007FF6C255FFFD+4075821]\n\tGetHandleVerifier [0x00007FF6C255818F+4043455]\n\tGetHandleVerifier [0x00007FF6C2229766+706710]\n\t(No symbol) [0x00007FF6C210B90F]\n\t(No symbol) [0x00007FF6C2106AF4]\n\t(No symbol) [0x00007FF6C2106C4C]\n\t(No symbol) [0x00007FF6C20F6904]\n\tBaseThreadInitThunk [0x00007FF85C62257D+29]\n\tRtlUserThreadStart [0x00007FF85E5CAA58+40]\n",
     "output_type": "error",
     "traceback": [
      "\u001b[1;31m---------------------------------------------------------------------------\u001b[0m",
      "\u001b[1;31mNoSuchElementException\u001b[0m                    Traceback (most recent call last)",
      "Cell \u001b[1;32mIn[22], line 2\u001b[0m\n\u001b[0;32m      1\u001b[0m \u001b[38;5;66;03m# 사람인지 확인\u001b[39;00m\n\u001b[1;32m----> 2\u001b[0m driver\u001b[38;5;241m.\u001b[39mfind_element(By\u001b[38;5;241m.\u001b[39mCSS_SELECTOR, \u001b[38;5;124m'\u001b[39m\u001b[38;5;124m.ctp-checkbox-label > input:nth-child(1)\u001b[39m\u001b[38;5;124m'\u001b[39m)\u001b[38;5;241m.\u001b[39mclick()\n",
      "File \u001b[1;32m~\\anaconda3\\Lib\\site-packages\\selenium\\webdriver\\remote\\webdriver.py:741\u001b[0m, in \u001b[0;36mWebDriver.find_element\u001b[1;34m(self, by, value)\u001b[0m\n\u001b[0;32m    738\u001b[0m     by \u001b[38;5;241m=\u001b[39m By\u001b[38;5;241m.\u001b[39mCSS_SELECTOR\n\u001b[0;32m    739\u001b[0m     value \u001b[38;5;241m=\u001b[39m \u001b[38;5;124mf\u001b[39m\u001b[38;5;124m'\u001b[39m\u001b[38;5;124m[name=\u001b[39m\u001b[38;5;124m\"\u001b[39m\u001b[38;5;132;01m{\u001b[39;00mvalue\u001b[38;5;132;01m}\u001b[39;00m\u001b[38;5;124m\"\u001b[39m\u001b[38;5;124m]\u001b[39m\u001b[38;5;124m'\u001b[39m\n\u001b[1;32m--> 741\u001b[0m \u001b[38;5;28;01mreturn\u001b[39;00m \u001b[38;5;28mself\u001b[39m\u001b[38;5;241m.\u001b[39mexecute(Command\u001b[38;5;241m.\u001b[39mFIND_ELEMENT, {\u001b[38;5;124m\"\u001b[39m\u001b[38;5;124musing\u001b[39m\u001b[38;5;124m\"\u001b[39m: by, \u001b[38;5;124m\"\u001b[39m\u001b[38;5;124mvalue\u001b[39m\u001b[38;5;124m\"\u001b[39m: value})[\u001b[38;5;124m\"\u001b[39m\u001b[38;5;124mvalue\u001b[39m\u001b[38;5;124m\"\u001b[39m]\n",
      "File \u001b[1;32m~\\anaconda3\\Lib\\site-packages\\selenium\\webdriver\\remote\\webdriver.py:347\u001b[0m, in \u001b[0;36mWebDriver.execute\u001b[1;34m(self, driver_command, params)\u001b[0m\n\u001b[0;32m    345\u001b[0m response \u001b[38;5;241m=\u001b[39m \u001b[38;5;28mself\u001b[39m\u001b[38;5;241m.\u001b[39mcommand_executor\u001b[38;5;241m.\u001b[39mexecute(driver_command, params)\n\u001b[0;32m    346\u001b[0m \u001b[38;5;28;01mif\u001b[39;00m response:\n\u001b[1;32m--> 347\u001b[0m     \u001b[38;5;28mself\u001b[39m\u001b[38;5;241m.\u001b[39merror_handler\u001b[38;5;241m.\u001b[39mcheck_response(response)\n\u001b[0;32m    348\u001b[0m     response[\u001b[38;5;124m\"\u001b[39m\u001b[38;5;124mvalue\u001b[39m\u001b[38;5;124m\"\u001b[39m] \u001b[38;5;241m=\u001b[39m \u001b[38;5;28mself\u001b[39m\u001b[38;5;241m.\u001b[39m_unwrap_value(response\u001b[38;5;241m.\u001b[39mget(\u001b[38;5;124m\"\u001b[39m\u001b[38;5;124mvalue\u001b[39m\u001b[38;5;124m\"\u001b[39m, \u001b[38;5;28;01mNone\u001b[39;00m))\n\u001b[0;32m    349\u001b[0m     \u001b[38;5;28;01mreturn\u001b[39;00m response\n",
      "File \u001b[1;32m~\\anaconda3\\Lib\\site-packages\\selenium\\webdriver\\remote\\errorhandler.py:229\u001b[0m, in \u001b[0;36mErrorHandler.check_response\u001b[1;34m(self, response)\u001b[0m\n\u001b[0;32m    227\u001b[0m         alert_text \u001b[38;5;241m=\u001b[39m value[\u001b[38;5;124m\"\u001b[39m\u001b[38;5;124malert\u001b[39m\u001b[38;5;124m\"\u001b[39m]\u001b[38;5;241m.\u001b[39mget(\u001b[38;5;124m\"\u001b[39m\u001b[38;5;124mtext\u001b[39m\u001b[38;5;124m\"\u001b[39m)\n\u001b[0;32m    228\u001b[0m     \u001b[38;5;28;01mraise\u001b[39;00m exception_class(message, screen, stacktrace, alert_text)  \u001b[38;5;66;03m# type: ignore[call-arg]  # mypy is not smart enough here\u001b[39;00m\n\u001b[1;32m--> 229\u001b[0m \u001b[38;5;28;01mraise\u001b[39;00m exception_class(message, screen, stacktrace)\n",
      "\u001b[1;31mNoSuchElementException\u001b[0m: Message: no such element: Unable to locate element: {\"method\":\"css selector\",\"selector\":\".ctp-checkbox-label > input:nth-child(1)\"}\n  (Session info: chrome=122.0.6261.95); For documentation on this error, please visit: https://www.selenium.dev/documentation/webdriver/troubleshooting/errors#no-such-element-exception\nStacktrace:\n\tGetHandleVerifier [0x00007FF6C218AD32+56930]\n\t(No symbol) [0x00007FF6C20FF632]\n\t(No symbol) [0x00007FF6C1FB42E5]\n\t(No symbol) [0x00007FF6C1FF98ED]\n\t(No symbol) [0x00007FF6C1FF9A2C]\n\t(No symbol) [0x00007FF6C203A967]\n\t(No symbol) [0x00007FF6C201BCDF]\n\t(No symbol) [0x00007FF6C20381E2]\n\t(No symbol) [0x00007FF6C201BA43]\n\t(No symbol) [0x00007FF6C1FED438]\n\t(No symbol) [0x00007FF6C1FEE4D1]\n\tGetHandleVerifier [0x00007FF6C2506ABD+3709933]\n\tGetHandleVerifier [0x00007FF6C255FFFD+4075821]\n\tGetHandleVerifier [0x00007FF6C255818F+4043455]\n\tGetHandleVerifier [0x00007FF6C2229766+706710]\n\t(No symbol) [0x00007FF6C210B90F]\n\t(No symbol) [0x00007FF6C2106AF4]\n\t(No symbol) [0x00007FF6C2106C4C]\n\t(No symbol) [0x00007FF6C20F6904]\n\tBaseThreadInitThunk [0x00007FF85C62257D+29]\n\tRtlUserThreadStart [0x00007FF85E5CAA58+40]\n"
     ]
    }
   ],
   "source": [
    "# 사람인지 확인\n",
    "driver.find_element(By.CSS_SELECTOR, '.ctp-checkbox-label > input:nth-child(1)').click()"
   ]
  },
  {
   "cell_type": "code",
   "execution_count": 24,
   "id": "ec7ffbbe",
   "metadata": {},
   "outputs": [],
   "source": [
    "driver.quit()"
   ]
  },
  {
   "cell_type": "markdown",
   "id": "c4c13a78",
   "metadata": {},
   "source": [
    "#### 텍스트 데이터 가져오기\n",
    "- TED 사이트 : `https://www.ted.com`"
   ]
  },
  {
   "cell_type": "code",
   "execution_count": null,
   "id": "39e30c91",
   "metadata": {},
   "outputs": [],
   "source": []
  },
  {
   "cell_type": "markdown",
   "id": "152eda00",
   "metadata": {},
   "source": [
    "#### Headless\n",
    "- 브라우져를 화면에 띄우지 않고 메모리상에서만 올려서 크롤링하는 방법 \n",
    "- window가 지원되지 않는 환경에서 사용이 가능\n",
    "- chrome version 60.0.0.0 이상부터 지원 합니다."
   ]
  },
  {
   "cell_type": "code",
   "execution_count": null,
   "id": "ec5daf36",
   "metadata": {},
   "outputs": [],
   "source": []
  }
 ],
 "metadata": {
  "kernelspec": {
   "display_name": "Python 3 (ipykernel)",
   "language": "python",
   "name": "python3"
  },
  "language_info": {
   "codemirror_mode": {
    "name": "ipython",
    "version": 3
   },
   "file_extension": ".py",
   "mimetype": "text/x-python",
   "name": "python",
   "nbconvert_exporter": "python",
   "pygments_lexer": "ipython3",
   "version": "3.11.5"
  },
  "toc": {
   "base_numbering": 1,
   "nav_menu": {},
   "number_sections": false,
   "sideBar": true,
   "skip_h1_title": false,
   "title_cell": "Table of Contents",
   "title_sidebar": "Contents",
   "toc_cell": false,
   "toc_position": {},
   "toc_section_display": true,
   "toc_window_display": false
  }
 },
 "nbformat": 4,
 "nbformat_minor": 5
}

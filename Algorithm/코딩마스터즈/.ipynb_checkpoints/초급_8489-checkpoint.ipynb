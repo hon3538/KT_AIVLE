{
 "cells": [
  {
   "cell_type": "code",
   "execution_count": 8,
   "id": "c7c6396e-0ac0-4789-8ea7-5f8a71a98caf",
   "metadata": {
    "tags": []
   },
   "outputs": [
    {
     "name": "stdin",
     "output_type": "stream",
     "text": [
      " 7\n",
      " 475 170\n",
      " 28 95\n",
      " 506 8361\n",
      " 51 3988\n",
      " 2 977\n",
      " 607 793\n",
      " 49 847\n"
     ]
    },
    {
     "name": "stdout",
     "output_type": "stream",
     "text": [
      "2\n"
     ]
    }
   ],
   "source": [
    "'''\n",
    "아파트 단지들이 있고, 분리수거장을 하나의 단지에 설치할 때 각 주민들과의 거리 합이 최소가 되는 단지 위치는?\n",
    "\n",
    "단지수 <= 100\n",
    "주민 수 <= 100000\n",
    "단지 위치 <= 100000\n",
    "\n",
    "10만*10만 은 100억인데, 일단int형은 범위 넘어감, 파이썬은 형변환 알아서해주나?\n",
    "\n",
    "각 단지별 주민수저장\n",
    "각 단지별 다른 단지들과 거리*주민수 sum 저장\n",
    "'''\n",
    "import numpy as np\n",
    "\n",
    "n = int(input())\n",
    "apart = []\n",
    "for i in range(n):\n",
    "    pos, people = map(int, input().split())\n",
    "    apart.append((pos, people))\n",
    "\n",
    "# 각 단지 주민들과의 거리 차 구하기\n",
    "distance = []\n",
    "for i in range(len(apart)):\n",
    "    distance.append([i+1,0]) # 아파트 번호는 1부터 시작함\n",
    "    for j in range(len(apart)):\n",
    "        if i == j : continue \n",
    "        gap = apart[i][0] - apart[j][0] # 거리차 \n",
    "        gap = abs(gap)\n",
    "        total_gap = gap * apart[j][1]\n",
    "        distance[i][1] += total_gap\n",
    "\n",
    "# 거리 최소 단지 구하기\n",
    "sorted_apart = sorted(distance, key = lambda x : x[1])\n",
    "print(sorted_apart[0][0]) # 가장 최소 단지의 번호"
   ]
  },
  {
   "cell_type": "code",
   "execution_count": null,
   "id": "079e638e-93b1-4a0d-9696-2dee3c9a07ff",
   "metadata": {
    "tags": []
   },
   "outputs": [
    {
     "name": "stdin",
     "output_type": "stream",
     "text": [
      " 7\n",
      " 1 2\n"
     ]
    },
    {
     "name": "stdout",
     "output_type": "stream",
     "text": [
      "1 2\n"
     ]
    },
    {
     "name": "stdin",
     "output_type": "stream",
     "text": [
      " 3 4\n"
     ]
    },
    {
     "name": "stdout",
     "output_type": "stream",
     "text": [
      "3 4\n"
     ]
    },
    {
     "name": "stdin",
     "output_type": "stream",
     "text": [
      " 6 7\n"
     ]
    },
    {
     "name": "stdout",
     "output_type": "stream",
     "text": [
      "6 7\n"
     ]
    },
    {
     "name": "stdin",
     "output_type": "stream",
     "text": [
      " 12123\n"
     ]
    }
   ],
   "source": [
    "n = int(input())\n",
    "apart = []\n",
    "for i in range(n):\n",
    "    pos, people = map(int, input().split())\n",
    "    print(pos, people)\n",
    "    apart.append((pos, people))"
   ]
  },
  {
   "cell_type": "code",
   "execution_count": null,
   "id": "06c7933a-f782-4cf0-9fa1-3d8a11caa43b",
   "metadata": {},
   "outputs": [],
   "source": []
  }
 ],
 "metadata": {
  "kernelspec": {
   "display_name": "Python 3 (ipykernel)",
   "language": "python",
   "name": "python3"
  },
  "language_info": {
   "codemirror_mode": {
    "name": "ipython",
    "version": 3
   },
   "file_extension": ".py",
   "mimetype": "text/x-python",
   "name": "python",
   "nbconvert_exporter": "python",
   "pygments_lexer": "ipython3",
   "version": "3.11.5"
  }
 },
 "nbformat": 4,
 "nbformat_minor": 5
}

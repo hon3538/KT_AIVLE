{
 "cells": [
  {
   "cell_type": "code",
   "execution_count": null,
   "id": "7f581b45-561e-41c6-b412-3f2792b3f194",
   "metadata": {},
   "outputs": [],
   "source": [
    "'''\n",
    "이름 리스트에서 영덕의 영어이름이 몇 번째인지 출력\n",
    "이름 수 <= 100, 이름 길이 <= 100, 동명이인 없음\n",
    "'''"
   ]
  },
  {
   "cell_type": "code",
   "execution_count": 4,
   "id": "499915f6-0080-4d89-97b9-78176df976b6",
   "metadata": {
    "tags": []
   },
   "outputs": [
    {
     "name": "stdin",
     "output_type": "stream",
     "text": [
      " 5 BENJAMIN\n",
      " GENNADY LINGYU ALEX BENJAMIN MIFAFA\n"
     ]
    },
    {
     "name": "stdout",
     "output_type": "stream",
     "text": [
      "4\n"
     ]
    }
   ],
   "source": [
    "# ' '으로 split 해서 나누기\n",
    "\n",
    "n, target = input().split()\n",
    "n = int(n)\n",
    "name_list = input().split(' ')\n",
    "\n",
    "for idx in range(len(name_list)) :\n",
    "    if name_list[idx] == target :\n",
    "        print(idx+1)\n",
    "        break"
   ]
  },
  {
   "cell_type": "code",
   "execution_count": null,
   "id": "f9d113b2-4f92-4f8a-99cc-ac31861545b9",
   "metadata": {},
   "outputs": [],
   "source": [
    "# GPT\n",
    "index = names.index(name) + 1 "
   ]
  }
 ],
 "metadata": {
  "kernelspec": {
   "display_name": "Python 3 (ipykernel)",
   "language": "python",
   "name": "python3"
  },
  "language_info": {
   "codemirror_mode": {
    "name": "ipython",
    "version": 3
   },
   "file_extension": ".py",
   "mimetype": "text/x-python",
   "name": "python",
   "nbconvert_exporter": "python",
   "pygments_lexer": "ipython3",
   "version": "3.11.5"
  }
 },
 "nbformat": 4,
 "nbformat_minor": 5
}

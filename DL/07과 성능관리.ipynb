{
 "cells": [
  {
   "cell_type": "markdown",
   "metadata": {
    "id": "P2n_mLirFD6s"
   },
   "source": [
    "# **성능관리**"
   ]
  },
  {
   "cell_type": "markdown",
   "metadata": {
    "id": "gIN5d51gtker"
   },
   "source": [
    "## **1.환경준비**"
   ]
  },
  {
   "cell_type": "markdown",
   "metadata": {
    "id": "98K82DAxvX6I"
   },
   "source": [
    "### **(1) 라이브러리 로딩**"
   ]
  },
  {
   "cell_type": "code",
   "execution_count": 1,
   "metadata": {
    "executionInfo": {
     "elapsed": 9918,
     "status": "ok",
     "timestamp": 1711341963076,
     "user": {
      "displayName": "홍의선",
      "userId": "03461789888455320462"
     },
     "user_tz": -540
    },
    "id": "qUG9ltiWCJXr"
   },
   "outputs": [],
   "source": [
    "import pandas as pd\n",
    "import numpy as np\n",
    "import matplotlib.pyplot as plt\n",
    "import seaborn as sns\n",
    "\n",
    "from sklearn.model_selection import train_test_split\n",
    "from sklearn.metrics import *\n",
    "from sklearn.preprocessing import MinMaxScaler\n",
    "\n",
    "from keras.models import Sequential\n",
    "from keras.layers import Dense, Flatten\n",
    "from keras.backend import clear_session\n",
    "from keras.optimizers import Adam\n",
    "from keras.datasets import mnist"
   ]
  },
  {
   "cell_type": "markdown",
   "metadata": {
    "id": "_h70-6MP7wtO"
   },
   "source": [
    "* 함수 만들기"
   ]
  },
  {
   "cell_type": "code",
   "execution_count": 32,
   "metadata": {
    "executionInfo": {
     "elapsed": 3,
     "status": "ok",
     "timestamp": 1711344988479,
     "user": {
      "displayName": "홍의선",
      "userId": "03461789888455320462"
     },
     "user_tz": -540
    },
    "id": "JWswaopv7yBI"
   },
   "outputs": [],
   "source": [
    "# 학습곡선 함수\n",
    "def dl_history_plot(history):\n",
    "    plt.figure(figsize=(10,6))\n",
    "    plt.plot(history['loss'], label='train_err', marker = '.')\n",
    "    plt.plot(history['val_loss'], label='val_err', marker = '.')\n",
    "    plt.ylim(0, 2)\n",
    "    plt.ylabel('Loss')\n",
    "    plt.xlabel('Epoch')\n",
    "    plt.legend()\n",
    "    plt.grid()\n",
    "    plt.show()"
   ]
  },
  {
   "cell_type": "markdown",
   "metadata": {
    "id": "6wuqykgvviCc"
   },
   "source": [
    "### **(2) 데이터로딩**"
   ]
  },
  {
   "cell_type": "markdown",
   "metadata": {
    "id": "XpvImYqOCSUx"
   },
   "source": [
    "* 데이터 로딩\n",
    "    * 과적합을 위한 예제 데이터입니다.\n",
    "    * target\n",
    "    * feature : 0 ~ 299"
   ]
  },
  {
   "cell_type": "code",
   "execution_count": 3,
   "metadata": {
    "colab": {
     "base_uri": "https://localhost:8080/",
     "height": 256
    },
    "executionInfo": {
     "elapsed": 351,
     "status": "ok",
     "timestamp": 1711341963425,
     "user": {
      "displayName": "홍의선",
      "userId": "03461789888455320462"
     },
     "user_tz": -540
    },
    "id": "iSY7ithQNiVs",
    "outputId": "1e118b5b-eedf-4466-96ab-4115947a87f1"
   },
   "outputs": [
    {
     "data": {
      "application/vnd.google.colaboratory.intrinsic+json": {
       "type": "dataframe",
       "variable_name": "data"
      },
      "text/html": [
       "\n",
       "  <div id=\"df-d8362c38-3d71-4dcd-b55f-e8690bea48db\" class=\"colab-df-container\">\n",
       "    <div>\n",
       "<style scoped>\n",
       "    .dataframe tbody tr th:only-of-type {\n",
       "        vertical-align: middle;\n",
       "    }\n",
       "\n",
       "    .dataframe tbody tr th {\n",
       "        vertical-align: top;\n",
       "    }\n",
       "\n",
       "    .dataframe thead th {\n",
       "        text-align: right;\n",
       "    }\n",
       "</style>\n",
       "<table border=\"1\" class=\"dataframe\">\n",
       "  <thead>\n",
       "    <tr style=\"text-align: right;\">\n",
       "      <th></th>\n",
       "      <th>target</th>\n",
       "      <th>0</th>\n",
       "      <th>1</th>\n",
       "      <th>2</th>\n",
       "      <th>3</th>\n",
       "      <th>4</th>\n",
       "      <th>5</th>\n",
       "      <th>6</th>\n",
       "      <th>7</th>\n",
       "      <th>8</th>\n",
       "      <th>...</th>\n",
       "      <th>290</th>\n",
       "      <th>291</th>\n",
       "      <th>292</th>\n",
       "      <th>293</th>\n",
       "      <th>294</th>\n",
       "      <th>295</th>\n",
       "      <th>296</th>\n",
       "      <th>297</th>\n",
       "      <th>298</th>\n",
       "      <th>299</th>\n",
       "    </tr>\n",
       "  </thead>\n",
       "  <tbody>\n",
       "    <tr>\n",
       "      <th>0</th>\n",
       "      <td>1</td>\n",
       "      <td>-1.067</td>\n",
       "      <td>-1.114</td>\n",
       "      <td>-0.616</td>\n",
       "      <td>0.376</td>\n",
       "      <td>1.090</td>\n",
       "      <td>0.467</td>\n",
       "      <td>-0.422</td>\n",
       "      <td>0.460</td>\n",
       "      <td>-0.443</td>\n",
       "      <td>...</td>\n",
       "      <td>0.220</td>\n",
       "      <td>-0.339</td>\n",
       "      <td>0.254</td>\n",
       "      <td>-0.179</td>\n",
       "      <td>0.352</td>\n",
       "      <td>0.125</td>\n",
       "      <td>0.347</td>\n",
       "      <td>0.436</td>\n",
       "      <td>0.958</td>\n",
       "      <td>-0.824</td>\n",
       "    </tr>\n",
       "    <tr>\n",
       "      <th>1</th>\n",
       "      <td>0</td>\n",
       "      <td>-0.831</td>\n",
       "      <td>0.271</td>\n",
       "      <td>1.716</td>\n",
       "      <td>1.096</td>\n",
       "      <td>1.731</td>\n",
       "      <td>-0.197</td>\n",
       "      <td>1.904</td>\n",
       "      <td>-0.265</td>\n",
       "      <td>0.557</td>\n",
       "      <td>...</td>\n",
       "      <td>-0.765</td>\n",
       "      <td>-0.735</td>\n",
       "      <td>-1.158</td>\n",
       "      <td>2.554</td>\n",
       "      <td>0.856</td>\n",
       "      <td>-1.506</td>\n",
       "      <td>0.462</td>\n",
       "      <td>-0.029</td>\n",
       "      <td>-1.932</td>\n",
       "      <td>-0.343</td>\n",
       "    </tr>\n",
       "    <tr>\n",
       "      <th>2</th>\n",
       "      <td>0</td>\n",
       "      <td>0.099</td>\n",
       "      <td>1.390</td>\n",
       "      <td>-0.732</td>\n",
       "      <td>-1.065</td>\n",
       "      <td>0.005</td>\n",
       "      <td>-0.081</td>\n",
       "      <td>-1.450</td>\n",
       "      <td>0.317</td>\n",
       "      <td>-0.624</td>\n",
       "      <td>...</td>\n",
       "      <td>-1.311</td>\n",
       "      <td>0.799</td>\n",
       "      <td>-1.001</td>\n",
       "      <td>1.544</td>\n",
       "      <td>0.575</td>\n",
       "      <td>-0.309</td>\n",
       "      <td>-0.339</td>\n",
       "      <td>-0.148</td>\n",
       "      <td>-0.646</td>\n",
       "      <td>0.725</td>\n",
       "    </tr>\n",
       "    <tr>\n",
       "      <th>3</th>\n",
       "      <td>1</td>\n",
       "      <td>-0.989</td>\n",
       "      <td>-0.916</td>\n",
       "      <td>-1.343</td>\n",
       "      <td>0.145</td>\n",
       "      <td>0.543</td>\n",
       "      <td>0.636</td>\n",
       "      <td>1.127</td>\n",
       "      <td>0.189</td>\n",
       "      <td>-0.118</td>\n",
       "      <td>...</td>\n",
       "      <td>-1.370</td>\n",
       "      <td>1.093</td>\n",
       "      <td>0.596</td>\n",
       "      <td>-0.589</td>\n",
       "      <td>-0.649</td>\n",
       "      <td>-0.163</td>\n",
       "      <td>-0.958</td>\n",
       "      <td>-1.081</td>\n",
       "      <td>0.805</td>\n",
       "      <td>3.401</td>\n",
       "    </tr>\n",
       "    <tr>\n",
       "      <th>4</th>\n",
       "      <td>0</td>\n",
       "      <td>0.811</td>\n",
       "      <td>-1.509</td>\n",
       "      <td>0.522</td>\n",
       "      <td>-0.360</td>\n",
       "      <td>-0.220</td>\n",
       "      <td>-0.959</td>\n",
       "      <td>0.334</td>\n",
       "      <td>-0.566</td>\n",
       "      <td>-0.656</td>\n",
       "      <td>...</td>\n",
       "      <td>-0.178</td>\n",
       "      <td>0.718</td>\n",
       "      <td>-1.017</td>\n",
       "      <td>1.249</td>\n",
       "      <td>-0.596</td>\n",
       "      <td>-0.445</td>\n",
       "      <td>1.751</td>\n",
       "      <td>1.442</td>\n",
       "      <td>-0.393</td>\n",
       "      <td>-0.643</td>\n",
       "    </tr>\n",
       "  </tbody>\n",
       "</table>\n",
       "<p>5 rows × 301 columns</p>\n",
       "</div>\n",
       "    <div class=\"colab-df-buttons\">\n",
       "\n",
       "  <div class=\"colab-df-container\">\n",
       "    <button class=\"colab-df-convert\" onclick=\"convertToInteractive('df-d8362c38-3d71-4dcd-b55f-e8690bea48db')\"\n",
       "            title=\"Convert this dataframe to an interactive table.\"\n",
       "            style=\"display:none;\">\n",
       "\n",
       "  <svg xmlns=\"http://www.w3.org/2000/svg\" height=\"24px\" viewBox=\"0 -960 960 960\">\n",
       "    <path d=\"M120-120v-720h720v720H120Zm60-500h600v-160H180v160Zm220 220h160v-160H400v160Zm0 220h160v-160H400v160ZM180-400h160v-160H180v160Zm440 0h160v-160H620v160ZM180-180h160v-160H180v160Zm440 0h160v-160H620v160Z\"/>\n",
       "  </svg>\n",
       "    </button>\n",
       "\n",
       "  <style>\n",
       "    .colab-df-container {\n",
       "      display:flex;\n",
       "      gap: 12px;\n",
       "    }\n",
       "\n",
       "    .colab-df-convert {\n",
       "      background-color: #E8F0FE;\n",
       "      border: none;\n",
       "      border-radius: 50%;\n",
       "      cursor: pointer;\n",
       "      display: none;\n",
       "      fill: #1967D2;\n",
       "      height: 32px;\n",
       "      padding: 0 0 0 0;\n",
       "      width: 32px;\n",
       "    }\n",
       "\n",
       "    .colab-df-convert:hover {\n",
       "      background-color: #E2EBFA;\n",
       "      box-shadow: 0px 1px 2px rgba(60, 64, 67, 0.3), 0px 1px 3px 1px rgba(60, 64, 67, 0.15);\n",
       "      fill: #174EA6;\n",
       "    }\n",
       "\n",
       "    .colab-df-buttons div {\n",
       "      margin-bottom: 4px;\n",
       "    }\n",
       "\n",
       "    [theme=dark] .colab-df-convert {\n",
       "      background-color: #3B4455;\n",
       "      fill: #D2E3FC;\n",
       "    }\n",
       "\n",
       "    [theme=dark] .colab-df-convert:hover {\n",
       "      background-color: #434B5C;\n",
       "      box-shadow: 0px 1px 3px 1px rgba(0, 0, 0, 0.15);\n",
       "      filter: drop-shadow(0px 1px 2px rgba(0, 0, 0, 0.3));\n",
       "      fill: #FFFFFF;\n",
       "    }\n",
       "  </style>\n",
       "\n",
       "    <script>\n",
       "      const buttonEl =\n",
       "        document.querySelector('#df-d8362c38-3d71-4dcd-b55f-e8690bea48db button.colab-df-convert');\n",
       "      buttonEl.style.display =\n",
       "        google.colab.kernel.accessAllowed ? 'block' : 'none';\n",
       "\n",
       "      async function convertToInteractive(key) {\n",
       "        const element = document.querySelector('#df-d8362c38-3d71-4dcd-b55f-e8690bea48db');\n",
       "        const dataTable =\n",
       "          await google.colab.kernel.invokeFunction('convertToInteractive',\n",
       "                                                    [key], {});\n",
       "        if (!dataTable) return;\n",
       "\n",
       "        const docLinkHtml = 'Like what you see? Visit the ' +\n",
       "          '<a target=\"_blank\" href=https://colab.research.google.com/notebooks/data_table.ipynb>data table notebook</a>'\n",
       "          + ' to learn more about interactive tables.';\n",
       "        element.innerHTML = '';\n",
       "        dataTable['output_type'] = 'display_data';\n",
       "        await google.colab.output.renderOutput(dataTable, element);\n",
       "        const docLink = document.createElement('div');\n",
       "        docLink.innerHTML = docLinkHtml;\n",
       "        element.appendChild(docLink);\n",
       "      }\n",
       "    </script>\n",
       "  </div>\n",
       "\n",
       "\n",
       "<div id=\"df-21b97077-9d8b-454d-9f56-af6a6bbd81a1\">\n",
       "  <button class=\"colab-df-quickchart\" onclick=\"quickchart('df-21b97077-9d8b-454d-9f56-af6a6bbd81a1')\"\n",
       "            title=\"Suggest charts\"\n",
       "            style=\"display:none;\">\n",
       "\n",
       "<svg xmlns=\"http://www.w3.org/2000/svg\" height=\"24px\"viewBox=\"0 0 24 24\"\n",
       "     width=\"24px\">\n",
       "    <g>\n",
       "        <path d=\"M19 3H5c-1.1 0-2 .9-2 2v14c0 1.1.9 2 2 2h14c1.1 0 2-.9 2-2V5c0-1.1-.9-2-2-2zM9 17H7v-7h2v7zm4 0h-2V7h2v10zm4 0h-2v-4h2v4z\"/>\n",
       "    </g>\n",
       "</svg>\n",
       "  </button>\n",
       "\n",
       "<style>\n",
       "  .colab-df-quickchart {\n",
       "      --bg-color: #E8F0FE;\n",
       "      --fill-color: #1967D2;\n",
       "      --hover-bg-color: #E2EBFA;\n",
       "      --hover-fill-color: #174EA6;\n",
       "      --disabled-fill-color: #AAA;\n",
       "      --disabled-bg-color: #DDD;\n",
       "  }\n",
       "\n",
       "  [theme=dark] .colab-df-quickchart {\n",
       "      --bg-color: #3B4455;\n",
       "      --fill-color: #D2E3FC;\n",
       "      --hover-bg-color: #434B5C;\n",
       "      --hover-fill-color: #FFFFFF;\n",
       "      --disabled-bg-color: #3B4455;\n",
       "      --disabled-fill-color: #666;\n",
       "  }\n",
       "\n",
       "  .colab-df-quickchart {\n",
       "    background-color: var(--bg-color);\n",
       "    border: none;\n",
       "    border-radius: 50%;\n",
       "    cursor: pointer;\n",
       "    display: none;\n",
       "    fill: var(--fill-color);\n",
       "    height: 32px;\n",
       "    padding: 0;\n",
       "    width: 32px;\n",
       "  }\n",
       "\n",
       "  .colab-df-quickchart:hover {\n",
       "    background-color: var(--hover-bg-color);\n",
       "    box-shadow: 0 1px 2px rgba(60, 64, 67, 0.3), 0 1px 3px 1px rgba(60, 64, 67, 0.15);\n",
       "    fill: var(--button-hover-fill-color);\n",
       "  }\n",
       "\n",
       "  .colab-df-quickchart-complete:disabled,\n",
       "  .colab-df-quickchart-complete:disabled:hover {\n",
       "    background-color: var(--disabled-bg-color);\n",
       "    fill: var(--disabled-fill-color);\n",
       "    box-shadow: none;\n",
       "  }\n",
       "\n",
       "  .colab-df-spinner {\n",
       "    border: 2px solid var(--fill-color);\n",
       "    border-color: transparent;\n",
       "    border-bottom-color: var(--fill-color);\n",
       "    animation:\n",
       "      spin 1s steps(1) infinite;\n",
       "  }\n",
       "\n",
       "  @keyframes spin {\n",
       "    0% {\n",
       "      border-color: transparent;\n",
       "      border-bottom-color: var(--fill-color);\n",
       "      border-left-color: var(--fill-color);\n",
       "    }\n",
       "    20% {\n",
       "      border-color: transparent;\n",
       "      border-left-color: var(--fill-color);\n",
       "      border-top-color: var(--fill-color);\n",
       "    }\n",
       "    30% {\n",
       "      border-color: transparent;\n",
       "      border-left-color: var(--fill-color);\n",
       "      border-top-color: var(--fill-color);\n",
       "      border-right-color: var(--fill-color);\n",
       "    }\n",
       "    40% {\n",
       "      border-color: transparent;\n",
       "      border-right-color: var(--fill-color);\n",
       "      border-top-color: var(--fill-color);\n",
       "    }\n",
       "    60% {\n",
       "      border-color: transparent;\n",
       "      border-right-color: var(--fill-color);\n",
       "    }\n",
       "    80% {\n",
       "      border-color: transparent;\n",
       "      border-right-color: var(--fill-color);\n",
       "      border-bottom-color: var(--fill-color);\n",
       "    }\n",
       "    90% {\n",
       "      border-color: transparent;\n",
       "      border-bottom-color: var(--fill-color);\n",
       "    }\n",
       "  }\n",
       "</style>\n",
       "\n",
       "  <script>\n",
       "    async function quickchart(key) {\n",
       "      const quickchartButtonEl =\n",
       "        document.querySelector('#' + key + ' button');\n",
       "      quickchartButtonEl.disabled = true;  // To prevent multiple clicks.\n",
       "      quickchartButtonEl.classList.add('colab-df-spinner');\n",
       "      try {\n",
       "        const charts = await google.colab.kernel.invokeFunction(\n",
       "            'suggestCharts', [key], {});\n",
       "      } catch (error) {\n",
       "        console.error('Error during call to suggestCharts:', error);\n",
       "      }\n",
       "      quickchartButtonEl.classList.remove('colab-df-spinner');\n",
       "      quickchartButtonEl.classList.add('colab-df-quickchart-complete');\n",
       "    }\n",
       "    (() => {\n",
       "      let quickchartButtonEl =\n",
       "        document.querySelector('#df-21b97077-9d8b-454d-9f56-af6a6bbd81a1 button');\n",
       "      quickchartButtonEl.style.display =\n",
       "        google.colab.kernel.accessAllowed ? 'block' : 'none';\n",
       "    })();\n",
       "  </script>\n",
       "</div>\n",
       "\n",
       "    </div>\n",
       "  </div>\n"
      ],
      "text/plain": [
       "   target      0      1      2      3      4      5      6      7      8  ...  \\\n",
       "0       1 -1.067 -1.114 -0.616  0.376  1.090  0.467 -0.422  0.460 -0.443  ...   \n",
       "1       0 -0.831  0.271  1.716  1.096  1.731 -0.197  1.904 -0.265  0.557  ...   \n",
       "2       0  0.099  1.390 -0.732 -1.065  0.005 -0.081 -1.450  0.317 -0.624  ...   \n",
       "3       1 -0.989 -0.916 -1.343  0.145  0.543  0.636  1.127  0.189 -0.118  ...   \n",
       "4       0  0.811 -1.509  0.522 -0.360 -0.220 -0.959  0.334 -0.566 -0.656  ...   \n",
       "\n",
       "     290    291    292    293    294    295    296    297    298    299  \n",
       "0  0.220 -0.339  0.254 -0.179  0.352  0.125  0.347  0.436  0.958 -0.824  \n",
       "1 -0.765 -0.735 -1.158  2.554  0.856 -1.506  0.462 -0.029 -1.932 -0.343  \n",
       "2 -1.311  0.799 -1.001  1.544  0.575 -0.309 -0.339 -0.148 -0.646  0.725  \n",
       "3 -1.370  1.093  0.596 -0.589 -0.649 -0.163 -0.958 -1.081  0.805  3.401  \n",
       "4 -0.178  0.718 -1.017  1.249 -0.596 -0.445  1.751  1.442 -0.393 -0.643  \n",
       "\n",
       "[5 rows x 301 columns]"
      ]
     },
     "execution_count": 3,
     "metadata": {},
     "output_type": "execute_result"
    }
   ],
   "source": [
    "path = \"https://raw.githubusercontent.com/DA4BAM/dataset/master/overfit_sample.csv\"\n",
    "data = pd.read_csv(path)\n",
    "data.head()"
   ]
  },
  {
   "cell_type": "markdown",
   "metadata": {
    "id": "nwmAb_eGqD4v"
   },
   "source": [
    "## **2. Early Stopping**"
   ]
  },
  {
   "cell_type": "markdown",
   "metadata": {
    "id": "rzurnjgHNiVs"
   },
   "source": [
    "### **(1) 데이터 준비**"
   ]
  },
  {
   "cell_type": "code",
   "execution_count": 4,
   "metadata": {
    "executionInfo": {
     "elapsed": 309,
     "status": "ok",
     "timestamp": 1711341997740,
     "user": {
      "displayName": "홍의선",
      "userId": "03461789888455320462"
     },
     "user_tz": -540
    },
    "id": "nEJq9cqgS15T"
   },
   "outputs": [],
   "source": [
    "# 데이터분할 : x, y\n",
    "target = 'target'\n",
    "x = data.drop(target, axis = 1)\n",
    "y = data.loc[:, target]\n",
    "\n",
    "# 데이터분할 : train, validation\n",
    "x_train, x_val, y_train, y_val = train_test_split(x, y, test_size=.2, random_state = 20)"
   ]
  },
  {
   "cell_type": "code",
   "execution_count": 5,
   "metadata": {
    "executionInfo": {
     "elapsed": 361,
     "status": "ok",
     "timestamp": 1711342000213,
     "user": {
      "displayName": "홍의선",
      "userId": "03461789888455320462"
     },
     "user_tz": -540
    },
    "id": "XoqoUVVCYYES"
   },
   "outputs": [],
   "source": [
    "# 스케일링\n",
    "scaler = MinMaxScaler()\n",
    "x_train = scaler.fit_transform(x_train)\n",
    "x_val = scaler.transform(x_val)"
   ]
  },
  {
   "cell_type": "markdown",
   "metadata": {
    "id": "w-4v_7vcSAZk"
   },
   "source": [
    "### **(2) 모델링**"
   ]
  },
  {
   "cell_type": "code",
   "execution_count": 6,
   "metadata": {
    "executionInfo": {
     "elapsed": 1346,
     "status": "ok",
     "timestamp": 1711342011274,
     "user": {
      "displayName": "홍의선",
      "userId": "03461789888455320462"
     },
     "user_tz": -540
    },
    "id": "nkXmMpnca-rO"
   },
   "outputs": [],
   "source": [
    "# input_shape : feature 수 도출\n",
    "nfeatures = x_train.shape[1]\n",
    "\n",
    "# 메모리 정리\n",
    "clear_session()\n",
    "\n",
    "# Sequential 타입\n",
    "model1 = Sequential( [Dense(128, input_shape = (nfeatures,), activation= 'relu'),\n",
    "                      Dense(64, activation= 'relu'),\n",
    "                      Dense(32, activation= 'relu'),\n",
    "                      Dense(1, activation= 'sigmoid')] )\n",
    "\n",
    "# 컴파일\n",
    "model1.compile(optimizer= Adam(learning_rate = 0.001), loss='binary_crossentropy')"
   ]
  },
  {
   "cell_type": "code",
   "execution_count": 7,
   "metadata": {
    "colab": {
     "base_uri": "https://localhost:8080/",
     "height": 542
    },
    "executionInfo": {
     "elapsed": 12316,
     "status": "ok",
     "timestamp": 1711342024452,
     "user": {
      "displayName": "홍의선",
      "userId": "03461789888455320462"
     },
     "user_tz": -540
    },
    "id": "7gXW6LofzboD",
    "outputId": "4ab8cd7e-1f5c-499d-d8db-b1382c4767d5"
   },
   "outputs": [
    {
     "data": {
      "image/png": "[encoded data removed]",
      "text/plain": [
       "<Figure size 1000x600 with 1 Axes>"
      ]
     },
     "metadata": {},
     "output_type": "display_data"
    }
   ],
   "source": [
    "# 학습\n",
    "hist = model1.fit(x_train, y_train, epochs = 100, validation_split=0.2, verbose = 0).history\n",
    "\n",
    "# 학습결과 그래프\n",
    "dl_history_plot(hist)"
   ]
  },
  {
   "cell_type": "markdown",
   "metadata": {
    "id": "5b4Q_d7lOWEk"
   },
   "source": [
    "### **(3) 미리 멈춤!(Early Stopping)**"
   ]
  },
  {
   "cell_type": "markdown",
   "metadata": {
    "id": "faD7vx7dPc0x"
   },
   "source": [
    "#### 1) 함수 불러오기"
   ]
  },
  {
   "cell_type": "code",
   "execution_count": 8,
   "metadata": {
    "executionInfo": {
     "elapsed": 325,
     "status": "ok",
     "timestamp": 1711342135685,
     "user": {
      "displayName": "홍의선",
      "userId": "03461789888455320462"
     },
     "user_tz": -540
    },
    "id": "13XQGufdObpo"
   },
   "outputs": [],
   "source": [
    "from keras.callbacks import EarlyStopping"
   ]
  },
  {
   "cell_type": "markdown",
   "metadata": {
    "id": "xkwfulzLPg73"
   },
   "source": [
    "#### 2) 모델링 with early stopping"
   ]
  },
  {
   "cell_type": "code",
   "execution_count": 19,
   "metadata": {
    "colab": {
     "base_uri": "https://localhost:8080/",
     "height": 1000
    },
    "executionInfo": {
     "elapsed": 4372,
     "status": "ok",
     "timestamp": 1711342617217,
     "user": {
      "displayName": "홍의선",
      "userId": "03461789888455320462"
     },
     "user_tz": -540
    },
    "id": "eFX_5XMVOxjI",
    "outputId": "4cabc1ac-7908-4b70-edfb-638558f03d0a"
   },
   "outputs": [
    {
     "name": "stdout",
     "output_type": "stream",
     "text": [
      "Epoch 1/100\n",
      "5/5 [==============================] - 2s 41ms/step - loss: 0.5726 - val_loss: 0.6022\n",
      "Epoch 2/100\n",
      "5/5 [==============================] - 0s 14ms/step - loss: 0.5627 - val_loss: 0.6018\n",
      "Epoch 3/100\n",
      "5/5 [==============================] - 0s 13ms/step - loss: 0.5521 - val_loss: 0.6023\n",
      "Epoch 4/100\n",
      "5/5 [==============================] - 0s 14ms/step - loss: 0.5326 - val_loss: 0.6067\n",
      "Epoch 5/100\n",
      "5/5 [==============================] - 0s 9ms/step - loss: 0.5269 - val_loss: 0.6053\n",
      "Epoch 6/100\n",
      "5/5 [==============================] - 0s 10ms/step - loss: 0.5072 - val_loss: 0.6074\n",
      "Epoch 7/100\n",
      "5/5 [==============================] - 0s 12ms/step - loss: 0.5047 - val_loss: 0.6230\n",
      "Epoch 8/100\n",
      "5/5 [==============================] - 0s 15ms/step - loss: 0.4835 - val_loss: 0.6110\n",
      "Epoch 9/100\n",
      "5/5 [==============================] - 0s 9ms/step - loss: 0.4601 - val_loss: 0.6191\n",
      "Epoch 10/100\n",
      "5/5 [==============================] - 0s 9ms/step - loss: 0.4375 - val_loss: 0.6187\n",
      "Epoch 11/100\n",
      "5/5 [==============================] - 0s 9ms/step - loss: 0.4160 - val_loss: 0.6922\n",
      "Epoch 12/100\n",
      "5/5 [==============================] - 0s 9ms/step - loss: 0.4133 - val_loss: 0.6299\n",
      "Epoch 13/100\n",
      "5/5 [==============================] - 0s 9ms/step - loss: 0.3507 - val_loss: 0.6616\n",
      "Epoch 14/100\n",
      "5/5 [==============================] - 0s 10ms/step - loss: 0.3374 - val_loss: 0.6595\n",
      "Epoch 15/100\n",
      "5/5 [==============================] - 0s 9ms/step - loss: 0.3075 - val_loss: 0.7259\n",
      "Epoch 16/100\n",
      "5/5 [==============================] - 0s 10ms/step - loss: 0.2892 - val_loss: 0.7827\n",
      "Epoch 17/100\n",
      "5/5 [==============================] - 0s 9ms/step - loss: 0.2398 - val_loss: 0.6827\n",
      "Epoch 18/100\n",
      "5/5 [==============================] - 0s 9ms/step - loss: 0.1960 - val_loss: 0.7081\n",
      "Epoch 19/100\n",
      "5/5 [==============================] - 0s 10ms/step - loss: 0.1870 - val_loss: 0.7378\n",
      "Epoch 20/100\n",
      "5/5 [==============================] - 0s 10ms/step - loss: 0.1646 - val_loss: 0.8637\n",
      "Epoch 21/100\n",
      "5/5 [==============================] - 0s 10ms/step - loss: 0.1420 - val_loss: 0.8706\n",
      "Epoch 22/100\n",
      "5/5 [==============================] - 0s 9ms/step - loss: 0.1178 - val_loss: 0.7993\n"
     ]
    },
    {
     "data": {
      "image/png": "[encoded data removed]",
      "text/plain": [
       "<Figure size 1000x600 with 1 Axes>"
      ]
     },
     "metadata": {},
     "output_type": "display_data"
    }
   ],
   "source": [
    "# 모델 선언\n",
    "clear_session()\n",
    "\n",
    "model2 = Sequential( [Dense(128, input_shape = (nfeatures,), activation= 'relu'),\n",
    "                      Dense(64, activation= 'relu'),\n",
    "                      Dense(32, activation= 'relu'),\n",
    "                      Dense(1, activation= 'sigmoid')] )\n",
    "model2.compile(optimizer= Adam(learning_rate = 0.001), loss='binary_crossentropy')\n",
    "\n",
    "# EarlyStopping 설정 ------------\n",
    "min_de = 0.0001\n",
    "pat = 20\n",
    "\n",
    "es = EarlyStopping(monitor = 'val_loss', min_delta = min_de, patience = pat)\n",
    "# --------------------------------\n",
    "\n",
    "# 학습\n",
    "hist = model2.fit(x_train, y_train, epochs = 100, validation_split=0.2,\n",
    "                  callbacks = [es]).history\n",
    "dl_history_plot(hist)"
   ]
  },
  {
   "cell_type": "markdown",
   "metadata": {
    "id": "udzRiODYHK0b"
   },
   "source": [
    "## **3.가중치 규제(Regularization)**"
   ]
  },
  {
   "cell_type": "code",
   "execution_count": 20,
   "metadata": {
    "executionInfo": {
     "elapsed": 323,
     "status": "ok",
     "timestamp": 1711343667762,
     "user": {
      "displayName": "홍의선",
      "userId": "03461789888455320462"
     },
     "user_tz": -540
    },
    "id": "DfG6DEr0yiAI"
   },
   "outputs": [],
   "source": [
    "# 규제를 위해 필요한 함수 불러오기\n",
    "from keras.regularizers import l1, l2"
   ]
  },
  {
   "cell_type": "markdown",
   "metadata": {
    "id": "8qGto3Z3J0cF"
   },
   "source": [
    "### **(1) L1 규제**"
   ]
  },
  {
   "cell_type": "code",
   "execution_count": 26,
   "metadata": {
    "executionInfo": {
     "elapsed": 289,
     "status": "ok",
     "timestamp": 1711343881558,
     "user": {
      "displayName": "홍의선",
      "userId": "03461789888455320462"
     },
     "user_tz": -540
    },
    "id": "Hg3fxNBfJnNM"
   },
   "outputs": [],
   "source": [
    "# 메모리 정리\n",
    "clear_session()\n",
    "\n",
    "# Sequential 타입\n",
    "model4 = Sequential( [Dense(128, input_shape = (nfeatures,), activation= 'relu',\n",
    "                            kernel_regularizer = l1(0.01)),\n",
    "                      Dense(64, activation= 'relu',\n",
    "                            kernel_regularizer = l1(0.01)),\n",
    "                      Dense(32, activation= 'relu',\n",
    "                            kernel_regularizer = l1(0.01)),\n",
    "                      Dense(1, activation= 'sigmoid')] )\n",
    "\n",
    "# 컴파일\n",
    "model4.compile(optimizer= Adam(learning_rate = 0.001), loss='binary_crossentropy')"
   ]
  },
  {
   "cell_type": "code",
   "execution_count": 33,
   "metadata": {
    "colab": {
     "base_uri": "https://localhost:8080/",
     "height": 547
    },
    "executionInfo": {
     "elapsed": 667,
     "status": "ok",
     "timestamp": 1711345003665,
     "user": {
      "displayName": "홍의선",
      "userId": "03461789888455320462"
     },
     "user_tz": -540
    },
    "id": "y526PzQbJwSs",
    "outputId": "67183346-0589-47db-a8c6-bbf1b5d504b2"
   },
   "outputs": [
    {
     "data": {
      "image/png": "[encoded data removed]",
      "text/plain": [
       "<Figure size 1000x600 with 1 Axes>"
      ]
     },
     "metadata": {},
     "output_type": "display_data"
    }
   ],
   "source": [
    "# 학습\n",
    "hist = model4.fit(x_train, y_train, epochs = 100, validation_split=0.2, verbose = 0).history\n",
    "\n",
    "# 학습결과 그래프\n",
    "dl_history_plot(hist)"
   ]
  },
  {
   "cell_type": "markdown",
   "metadata": {
    "id": "yCs7hyfKu-vo"
   },
   "source": [
    "### **(2) L2 규제**"
   ]
  },
  {
   "cell_type": "code",
   "execution_count": 28,
   "metadata": {
    "executionInfo": {
     "elapsed": 567,
     "status": "ok",
     "timestamp": 1711343906337,
     "user": {
      "displayName": "홍의선",
      "userId": "03461789888455320462"
     },
     "user_tz": -540
    },
    "id": "q0CXuwJIu-vq"
   },
   "outputs": [],
   "source": [
    "# 메모리 정리\n",
    "clear_session()\n",
    "\n",
    "# Sequential 타입\n",
    "model5 = Sequential( [Dense(128, input_shape = (nfeatures,), activation= 'relu',\n",
    "                            kernel_regularizer = l2(0.05)),\n",
    "                      Dense(64, activation= 'relu',\n",
    "                            kernel_regularizer = l2(0.05)),\n",
    "                      Dense(32, activation= 'relu',\n",
    "                            kernel_regularizer = l2(0.05)),\n",
    "                      Dense(1, activation= 'sigmoid')] )\n",
    "\n",
    "# 컴파일\n",
    "model5.compile(optimizer= Adam(learning_rate = 0.001), loss='binary_crossentropy')"
   ]
  },
  {
   "cell_type": "code",
   "execution_count": 34,
   "metadata": {
    "colab": {
     "base_uri": "https://localhost:8080/",
     "height": 547
    },
    "executionInfo": {
     "elapsed": 1045,
     "status": "ok",
     "timestamp": 1711345032470,
     "user": {
      "displayName": "홍의선",
      "userId": "03461789888455320462"
     },
     "user_tz": -540
    },
    "id": "JKmb3pYRu-vr",
    "outputId": "5a4e9389-aac6-439c-8d7f-80e6dfb1f90f"
   },
   "outputs": [
    {
     "data": {
      "image/png": "[encoded data removed]",
      "text/plain": [
       "<Figure size 1000x600 with 1 Axes>"
      ]
     },
     "metadata": {},
     "output_type": "display_data"
    }
   ],
   "source": [
    "# 학습\n",
    "hist = model5.fit(x_train, y_train, epochs = 100, validation_split=0.2, verbose = 0).history\n",
    "\n",
    "# 학습결과 그래프\n",
    "dl_history_plot(hist)"
   ]
  },
  {
   "cell_type": "code",
   "execution_count": 31,
   "metadata": {
    "colab": {
     "base_uri": "https://localhost:8080/"
    },
    "executionInfo": {
     "elapsed": 325,
     "status": "ok",
     "timestamp": 1711343964029,
     "user": {
      "displayName": "홍의선",
      "userId": "03461789888455320462"
     },
     "user_tz": -540
    },
    "id": "h2cbhNOaDEkf",
    "outputId": "4545ba11-09ba-40c3-ca2d-5515c8a8f4a0"
   },
   "outputs": [
    {
     "data": {
      "text/plain": [
       "[14.644978523254395,\n",
       " 13.293869018554688,\n",
       " 12.020720481872559,\n",
       " 10.84939956665039,\n",
       " 9.777507781982422,\n",
       " 8.805879592895508,\n",
       " 7.929470062255859,\n",
       " 7.142127990722656,\n",
       " 6.437211513519287,\n",
       " 5.806307792663574,\n",
       " 5.243089199066162,\n",
       " 4.739346027374268,\n",
       " 4.290993690490723,\n",
       " 3.8930764198303223,\n",
       " 3.5391108989715576,\n",
       " 3.224393844604492,\n",
       " 2.9448037147521973,\n",
       " 2.694629669189453,\n",
       " 2.4738059043884277,\n",
       " 2.2774345874786377,\n",
       " 2.1032767295837402,\n",
       " 1.9468501806259155,\n",
       " 1.809278130531311,\n",
       " 1.6852458715438843,\n",
       " 1.5760741233825684,\n",
       " 1.4793612957000732,\n",
       " 1.3920551538467407,\n",
       " 1.3150827884674072,\n",
       " 1.246453046798706,\n",
       " 1.1831114292144775,\n",
       " 1.1273778676986694,\n",
       " 1.079296350479126,\n",
       " 1.035481572151184,\n",
       " 0.9957548379898071,\n",
       " 0.9583532214164734,\n",
       " 0.9253991842269897,\n",
       " 0.8958145976066589,\n",
       " 0.8709439039230347,\n",
       " 0.8500527143478394,\n",
       " 0.8257983922958374,\n",
       " 0.8052532076835632,\n",
       " 0.787321925163269,\n",
       " 0.771490752696991,\n",
       " 0.7590095400810242,\n",
       " 0.7442879676818848,\n",
       " 0.7315358519554138,\n",
       " 0.7213055491447449,\n",
       " 0.7122614979743958,\n",
       " 0.7022531628608704,\n",
       " 0.6939815878868103,\n",
       " 0.6863625645637512,\n",
       " 0.6806974411010742,\n",
       " 0.6730142831802368,\n",
       " 0.6674826741218567,\n",
       " 0.6629317402839661,\n",
       " 0.6572957038879395,\n",
       " 0.6550054550170898,\n",
       " 0.6503915786743164,\n",
       " 0.6469075679779053,\n",
       " 0.6422431468963623,\n",
       " 0.6396821141242981,\n",
       " 0.6362345814704895,\n",
       " 0.6334236860275269,\n",
       " 0.6310518980026245,\n",
       " 0.6290444135665894,\n",
       " 0.6289268732070923,\n",
       " 0.6280887722969055,\n",
       " 0.6232145428657532,\n",
       " 0.6216372847557068,\n",
       " 0.6205766797065735,\n",
       " 0.6196074485778809,\n",
       " 0.618564784526825,\n",
       " 0.6167627573013306,\n",
       " 0.6155935525894165,\n",
       " 0.6149881482124329,\n",
       " 0.6136458516120911,\n",
       " 0.6136234402656555,\n",
       " 0.611939013004303,\n",
       " 0.6114585399627686,\n",
       " 0.6099613904953003,\n",
       " 0.6098320484161377,\n",
       " 0.6087723970413208,\n",
       " 0.6080473065376282,\n",
       " 0.6075209975242615,\n",
       " 0.608723521232605,\n",
       " 0.607460618019104,\n",
       " 0.6073030233383179,\n",
       " 0.6051889657974243,\n",
       " 0.6044521331787109,\n",
       " 0.6039217710494995,\n",
       " 0.6037463545799255,\n",
       " 0.6036916375160217,\n",
       " 0.6036482453346252,\n",
       " 0.6029868721961975,\n",
       " 0.6030340194702148,\n",
       " 0.6017208099365234,\n",
       " 0.601253867149353,\n",
       " 0.6008806228637695,\n",
       " 0.6012994647026062,\n",
       " 0.6006563901901245]"
      ]
     },
     "execution_count": 31,
     "metadata": {},
     "output_type": "execute_result"
    }
   ],
   "source": [
    "hist['val_loss']"
   ]
  },
  {
   "cell_type": "markdown",
   "metadata": {
    "id": "4wNefOm4CYsP"
   },
   "source": [
    "## 4.[참조]Dropout"
   ]
  },
  {
   "cell_type": "code",
   "execution_count": null,
   "metadata": {
    "id": "EAMZ4fvncbaM"
   },
   "outputs": [],
   "source": [
    "from keras.layers import Dropout"
   ]
  },
  {
   "cell_type": "markdown",
   "metadata": {
    "id": "yWduP-2uc6OQ"
   },
   "source": [
    "### **(1) 적용 전**"
   ]
  },
  {
   "cell_type": "code",
   "execution_count": null,
   "metadata": {
    "id": "csjAJ281bmlH"
   },
   "outputs": [],
   "source": [
    "# input_shape : feature 수 도출\n",
    "nfeatures = x_train.shape[1]\n",
    "\n",
    "# 메모리 정리\n",
    "clear_session()\n",
    "\n",
    "# Sequential 타입\n",
    "model1 = Sequential( [Dense(128, input_shape = (nfeatures,), activation= 'relu'),\n",
    "                      Dense(64, activation= 'relu'),\n",
    "                      Dense(32, activation= 'relu'),\n",
    "                      Dense(1, activation= 'sigmoid')] )\n",
    "\n",
    "# 컴파일\n",
    "model1.compile(optimizer= Adam(learning_rate = 0.001), loss='binary_crossentropy')"
   ]
  },
  {
   "cell_type": "code",
   "execution_count": null,
   "metadata": {
    "id": "4c4h_0NPbmlO"
   },
   "outputs": [],
   "source": [
    "# 학습\n",
    "hist = model1.fit(x_train, y_train, epochs = 100, validation_split=0.2, verbose = 0).history\n",
    "\n",
    "# 학습결과 그래프\n",
    "dl_history_plot(hist)"
   ]
  },
  {
   "cell_type": "markdown",
   "metadata": {
    "id": "cxHGXFrK8FIL"
   },
   "source": [
    "### **(2) 적용 후**"
   ]
  },
  {
   "cell_type": "code",
   "execution_count": null,
   "metadata": {
    "id": "XnKQ3M8-cV9j"
   },
   "outputs": [],
   "source": [
    "# 메모리 정리\n",
    "clear_session()\n",
    "\n",
    "# Sequential 타입\n",
    "model3 = Sequential( [Dense(128, input_shape = (nfeatures,), activation= 'relu'),\n",
    "                      Dropout(0.4),\n",
    "                      Dense(64, activation= 'relu'),\n",
    "                      Dropout(0.4),\n",
    "                      Dense(32, activation= 'relu'),\n",
    "                      Dropout(0.4),\n",
    "                      Dense(1, activation= 'sigmoid')] )\n",
    "\n",
    "# 컴파일\n",
    "model3.compile(optimizer= Adam(learning_rate = 0.001), loss='binary_crossentropy')"
   ]
  },
  {
   "cell_type": "code",
   "execution_count": null,
   "metadata": {
    "id": "-9cxBopocV9k"
   },
   "outputs": [],
   "source": [
    "# 학습\n",
    "hist = model3.fit(x_train, y_train, epochs = 50, validation_split=0.2, verbose = 0).history\n",
    "\n",
    "# 학습결과 그래프\n",
    "dl_history_plot(hist)"
   ]
  },
  {
   "cell_type": "markdown",
   "metadata": {
    "id": "k12UHrCixe3y"
   },
   "source": [
    "## 5.모델 저장하기"
   ]
  },
  {
   "cell_type": "markdown",
   "metadata": {
    "id": "mcFV233C0PzI"
   },
   "source": [
    "### (1) 모델 저장하기\n",
    "\n",
    "* model.save(‘파일이름.h5’)\n",
    "    * 딥러닝 모델의 메소드로 .save가 제공됩니다.\n",
    "    * 파일이름.h5 파일이 저장됩니다. (h5 파일 포맷 : 하둡파일 형식)"
   ]
  },
  {
   "cell_type": "code",
   "execution_count": 35,
   "metadata": {
    "colab": {
     "base_uri": "https://localhost:8080/"
    },
    "executionInfo": {
     "elapsed": 550,
     "status": "ok",
     "timestamp": 1711345388042,
     "user": {
      "displayName": "홍의선",
      "userId": "03461789888455320462"
     },
     "user_tz": -540
    },
    "id": "rPiTsMYhEeIh",
    "outputId": "02600edc-2e7a-4b0c-ed4f-04ba21230c30"
   },
   "outputs": [
    {
     "name": "stderr",
     "output_type": "stream",
     "text": [
      "/usr/local/lib/python3.10/dist-packages/keras/src/engine/training.py:3103: UserWarning: You are saving your model as an HDF5 file via `model.save()`. This file format is considered legacy. We recommend using instead the native Keras format, e.g. `model.save('my_model.keras')`.\n",
      "  saving_api.save_model(\n"
     ]
    }
   ],
   "source": [
    "model1.save('hanky.h5')"
   ]
  },
  {
   "cell_type": "markdown",
   "metadata": {
    "id": "1fGIWN5iE5FN"
   },
   "source": [
    "* 저장된 파일은 왼쪽 '파일'탭에서 확인 가능\n",
    "* 파일을 다운로드 받을 수 있다."
   ]
  },
  {
   "cell_type": "markdown",
   "metadata": {
    "id": "iJIqlIxN0Rbv"
   },
   "source": [
    "### (2) 모델 로딩하기\n",
    "\n",
    "* load_model 함수는 별도로 불러와야 합니다.\n",
    "* 경로를 맞춰주고 h5 파일을 읽어오면 그대로 사용 가능합니다."
   ]
  },
  {
   "cell_type": "code",
   "execution_count": 36,
   "metadata": {
    "executionInfo": {
     "elapsed": 634,
     "status": "ok",
     "timestamp": 1711345618388,
     "user": {
      "displayName": "홍의선",
      "userId": "03461789888455320462"
     },
     "user_tz": -540
    },
    "id": "3sgmABExx23j"
   },
   "outputs": [],
   "source": [
    "from keras.models import load_model\n",
    "model2 = load_model('hanky.h5')"
   ]
  },
  {
   "cell_type": "markdown",
   "metadata": {
    "id": "-bYdmXwg0ffE"
   },
   "source": [
    "* 불러온 모델 사용하기"
   ]
  },
  {
   "cell_type": "code",
   "execution_count": 37,
   "metadata": {
    "colab": {
     "base_uri": "https://localhost:8080/"
    },
    "executionInfo": {
     "elapsed": 1145,
     "status": "ok",
     "timestamp": 1711345621514,
     "user": {
      "displayName": "홍의선",
      "userId": "03461789888455320462"
     },
     "user_tz": -540
    },
    "id": "XobWbAkbEeIi",
    "outputId": "9dc65e49-b287-4bad-dfda-1b120e45fd87"
   },
   "outputs": [
    {
     "name": "stdout",
     "output_type": "stream",
     "text": [
      "2/2 [==============================] - 0s 9ms/step\n"
     ]
    }
   ],
   "source": [
    "pred2 = model2.predict(x_val)"
   ]
  },
  {
   "cell_type": "code",
   "execution_count": 38,
   "metadata": {
    "executionInfo": {
     "elapsed": 405,
     "status": "ok",
     "timestamp": 1711345624108,
     "user": {
      "displayName": "홍의선",
      "userId": "03461789888455320462"
     },
     "user_tz": -540
    },
    "id": "Smc1Eq980efL"
   },
   "outputs": [],
   "source": [
    "pred2_1 = np.where(pred2 >0.5 , 1, 0)"
   ]
  },
  {
   "cell_type": "code",
   "execution_count": 39,
   "metadata": {
    "colab": {
     "base_uri": "https://localhost:8080/"
    },
    "executionInfo": {
     "elapsed": 389,
     "status": "ok",
     "timestamp": 1711345631100,
     "user": {
      "displayName": "홍의선",
      "userId": "03461789888455320462"
     },
     "user_tz": -540
    },
    "id": "SEDTnEcW0efM",
    "outputId": "5d9577d1-6a51-4c8e-95ff-1c81d66258b9"
   },
   "outputs": [
    {
     "name": "stdout",
     "output_type": "stream",
     "text": [
      "0.66\n",
      "------------------------------------------------------------\n",
      "[[32  3]\n",
      " [14  1]]\n",
      "------------------------------------------------------------\n",
      "              precision    recall  f1-score   support\n",
      "\n",
      "           0       0.70      0.91      0.79        35\n",
      "           1       0.25      0.07      0.11        15\n",
      "\n",
      "    accuracy                           0.66        50\n",
      "   macro avg       0.47      0.49      0.45        50\n",
      "weighted avg       0.56      0.66      0.58        50\n",
      "\n"
     ]
    }
   ],
   "source": [
    "print(accuracy_score(y_val,pred2_1))\n",
    "print('-'*60)\n",
    "print(confusion_matrix(y_val, pred2_1))\n",
    "print('-'*60)\n",
    "print(classification_report(y_val, pred2_1))"
   ]
  },
  {
   "cell_type": "markdown",
   "metadata": {
    "id": "vYmSpymRO4JN"
   },
   "source": [
    "### (3) 중간 체크포인트에 모델 저장하기"
   ]
  },
  {
   "cell_type": "markdown",
   "metadata": {
    "id": "84bZf1Xw-UxI"
   },
   "source": [
    "* 폴더 정리 : 위에서 저장한 파일들 제거하기"
   ]
  },
  {
   "cell_type": "code",
   "execution_count": 45,
   "metadata": {
    "colab": {
     "base_uri": "https://localhost:8080/"
    },
    "executionInfo": {
     "elapsed": 350,
     "status": "ok",
     "timestamp": 1711346745131,
     "user": {
      "displayName": "홍의선",
      "userId": "03461789888455320462"
     },
     "user_tz": -540
    },
    "id": "gOv0haQFSNBm",
    "outputId": "4de9b2aa-5a74-4fe7-f0c7-b567743645f5"
   },
   "outputs": [
    {
     "name": "stdout",
     "output_type": "stream",
     "text": [
      "Deleted: /content/040.h5\n",
      "Deleted: /content/014.h5\n",
      "Deleted: /content/007.h5\n",
      "Deleted: /content/008.h5\n",
      "Deleted: /content/012.h5\n",
      "Deleted: /content/021.h5\n",
      "Deleted: /content/003.h5\n",
      "Deleted: /content/001.h5\n",
      "Deleted: /content/019.h5\n",
      "Deleted: /content/004.h5\n",
      "Deleted: /content/010.h5\n",
      "Deleted: /content/017.h5\n",
      "Deleted: /content/018.h5\n",
      "Deleted: /content/002.h5\n",
      "Deleted: /content/016.h5\n",
      "Deleted: /content/013.h5\n",
      "Deleted: /content/038.h5\n",
      "Deleted: /content/015.h5\n",
      "Deleted: /content/005.h5\n",
      "Deleted: /content/011.h5\n",
      "Deleted: /content/044.h5\n",
      "Deleted: /content/020.h5\n",
      "Deleted: /content/006.h5\n",
      "Deleted: /content/009.h5\n",
      "Deleted: /content/046.h5\n"
     ]
    }
   ],
   "source": [
    "import os\n",
    "\n",
    "def delete_h5_files(directory):\n",
    "    for filename in os.listdir(directory):\n",
    "        if filename.endswith(\".h5\"):\n",
    "            file_path = os.path.join(directory, filename)\n",
    "            try:\n",
    "                os.remove(file_path)\n",
    "                print(f\"Deleted: {file_path}\")\n",
    "            except Exception as e:\n",
    "                print(f\"Error deleting {file_path}: {e}\")\n",
    "\n",
    "# 삭제할 디렉토리 지정\n",
    "directory_to_delete_from = \"/content/\"\n",
    "\n",
    "# 확장자가 .h5인 파일 삭제\n",
    "delete_h5_files(directory_to_delete_from)\n"
   ]
  },
  {
   "cell_type": "markdown",
   "metadata": {
    "id": "EXw8cj1e-cMs"
   },
   "source": [
    "#### 1) 체크포인트 함수 불러오기"
   ]
  },
  {
   "cell_type": "code",
   "execution_count": 41,
   "metadata": {
    "executionInfo": {
     "elapsed": 416,
     "status": "ok",
     "timestamp": 1711346048656,
     "user": {
      "displayName": "홍의선",
      "userId": "03461789888455320462"
     },
     "user_tz": -540
    },
    "id": "JEWEog3SMooD"
   },
   "outputs": [],
   "source": [
    "from keras.callbacks import ModelCheckpoint"
   ]
  },
  {
   "cell_type": "markdown",
   "metadata": {
    "id": "2VqZzBo1-f9Z"
   },
   "source": [
    "#### 2) 모델링 체크포인트 저장"
   ]
  },
  {
   "cell_type": "markdown",
   "metadata": {
    "id": "JpMgPxUo-wct"
   },
   "source": [
    "* 모델 선언"
   ]
  },
  {
   "cell_type": "code",
   "execution_count": 42,
   "metadata": {
    "executionInfo": {
     "elapsed": 2,
     "status": "ok",
     "timestamp": 1711346050007,
     "user": {
      "displayName": "홍의선",
      "userId": "03461789888455320462"
     },
     "user_tz": -540
    },
    "id": "x036iNhlPHYs"
   },
   "outputs": [],
   "source": [
    "# input_shape : feature 수 도출\n",
    "nfeatures = x_train.shape[1]\n",
    "\n",
    "# 메모리 정리\n",
    "clear_session()\n",
    "\n",
    "# Sequential 타입\n",
    "model1 = Sequential( [Dense(64, input_shape = (nfeatures,), activation= 'relu'),\n",
    "                      Dense(32, activation= 'relu'),\n",
    "                      Dense(16, activation= 'relu'),\n",
    "                      Dense(1, activation= 'sigmoid')] )\n",
    "\n",
    "# 컴파일\n",
    "model1.compile(optimizer= Adam(learning_rate = 0.0001), loss='binary_crossentropy')"
   ]
  },
  {
   "cell_type": "markdown",
   "metadata": {
    "id": "Qlw0_4wZPnV8"
   },
   "source": [
    "* 체크포인트 저장\n",
    "    * 아래 코드에서 ModelCheckpoint 콜백은 검증 데이터의 정확도(val_accuracy)를 기준으로 모델 저장\n",
    "    * 모델의 성능이 이전에 저장된 모델보다 향상될 때만 저장되도록 save_best_only=True로 설정\n",
    "    * 또한, verbose=1로 설정하면 모델이 저장될 때마다 콘솔에 메시지가 표시됨."
   ]
  },
  {
   "cell_type": "code",
   "execution_count": 43,
   "metadata": {
    "colab": {
     "base_uri": "https://localhost:8080/"
    },
    "executionInfo": {
     "elapsed": 5350,
     "status": "ok",
     "timestamp": 1711346059521,
     "user": {
      "displayName": "홍의선",
      "userId": "03461789888455320462"
     },
     "user_tz": -540
    },
    "id": "eawYZ4o4PS6n",
    "outputId": "e7adab58-3d49-484a-bab0-ef2182e039b1"
   },
   "outputs": [
    {
     "name": "stdout",
     "output_type": "stream",
     "text": [
      "Epoch 1/50\n",
      "1/5 [=====>........................] - ETA: 4s - loss: 0.8556\n",
      "Epoch 1: val_loss improved from inf to 0.76785, saving model to /content/001.h5\n",
      "5/5 [==============================] - 1s 52ms/step - loss: 0.8091 - val_loss: 0.7679\n",
      "Epoch 2/50\n",
      "1/5 [=====>........................] - ETA: 0s - loss: 0.7519\n",
      "Epoch 2: val_loss improved from 0.76785 to 0.72633, saving model to /content/002.h5\n",
      "5/5 [==============================] - 0s 14ms/step - loss: 0.7578 - val_loss: 0.7263\n",
      "Epoch 3/50\n",
      "1/5 [=====>........................] - ETA: 0s - loss: 0.7166\n",
      "Epoch 3: val_loss improved from 0.72633 to 0.69021, saving model to /content/003.h5\n",
      "5/5 [==============================] - 0s 15ms/step - loss: 0.7166 - val_loss: 0.6902\n",
      "Epoch 4/50\n",
      "1/5 [=====>........................] - ETA: 0s - loss: 0.7022"
     ]
    },
    {
     "name": "stderr",
     "output_type": "stream",
     "text": [
      "/usr/local/lib/python3.10/dist-packages/keras/src/engine/training.py:3103: UserWarning: You are saving your model as an HDF5 file via `model.save()`. This file format is considered legacy. We recommend using instead the native Keras format, e.g. `model.save('my_model.keras')`.\n",
      "  saving_api.save_model(\n"
     ]
    },
    {
     "name": "stdout",
     "output_type": "stream",
     "text": [
      "\n",
      "Epoch 4: val_loss improved from 0.69021 to 0.66274, saving model to /content/004.h5\n",
      "5/5 [==============================] - 0s 19ms/step - loss: 0.6831 - val_loss: 0.6627\n",
      "Epoch 5/50\n",
      "1/5 [=====>........................] - ETA: 0s - loss: 0.6782\n",
      "Epoch 5: val_loss improved from 0.66274 to 0.64407, saving model to /content/005.h5\n",
      "5/5 [==============================] - 0s 16ms/step - loss: 0.6562 - val_loss: 0.6441\n",
      "Epoch 6/50\n",
      "1/5 [=====>........................] - ETA: 0s - loss: 0.6417\n",
      "Epoch 6: val_loss improved from 0.64407 to 0.63266, saving model to /content/006.h5\n",
      "5/5 [==============================] - 0s 15ms/step - loss: 0.6393 - val_loss: 0.6327\n",
      "Epoch 7/50\n",
      "1/5 [=====>........................] - ETA: 0s - loss: 0.6831\n",
      "Epoch 7: val_loss improved from 0.63266 to 0.62348, saving model to /content/007.h5\n",
      "5/5 [==============================] - 0s 16ms/step - loss: 0.6239 - val_loss: 0.6235\n",
      "Epoch 8/50\n",
      "1/5 [=====>........................] - ETA: 0s - loss: 0.6289\n",
      "Epoch 8: val_loss improved from 0.62348 to 0.61512, saving model to /content/008.h5\n",
      "5/5 [==============================] - 0s 14ms/step - loss: 0.6128 - val_loss: 0.6151\n",
      "Epoch 9/50\n",
      "1/5 [=====>........................] - ETA: 0s - loss: 0.6591\n",
      "Epoch 9: val_loss improved from 0.61512 to 0.60762, saving model to /content/009.h5\n",
      "5/5 [==============================] - 0s 14ms/step - loss: 0.6013 - val_loss: 0.6076\n",
      "Epoch 10/50\n",
      "1/5 [=====>........................] - ETA: 0s - loss: 0.6350\n",
      "Epoch 10: val_loss improved from 0.60762 to 0.60031, saving model to /content/010.h5\n",
      "5/5 [==============================] - 0s 21ms/step - loss: 0.5924 - val_loss: 0.6003\n",
      "Epoch 11/50\n",
      "1/5 [=====>........................] - ETA: 0s - loss: 0.6342\n",
      "Epoch 11: val_loss improved from 0.60031 to 0.59376, saving model to /content/011.h5\n",
      "5/5 [==============================] - 0s 26ms/step - loss: 0.5857 - val_loss: 0.5938\n",
      "Epoch 12/50\n",
      "1/5 [=====>........................] - ETA: 0s - loss: 0.6036\n",
      "Epoch 12: val_loss improved from 0.59376 to 0.58905, saving model to /content/012.h5\n",
      "5/5 [==============================] - 0s 25ms/step - loss: 0.5790 - val_loss: 0.5891\n",
      "Epoch 13/50\n",
      "1/5 [=====>........................] - ETA: 0s - loss: 0.5755\n",
      "Epoch 13: val_loss improved from 0.58905 to 0.58521, saving model to /content/013.h5\n",
      "5/5 [==============================] - 0s 18ms/step - loss: 0.5730 - val_loss: 0.5852\n",
      "Epoch 14/50\n",
      "1/5 [=====>........................] - ETA: 0s - loss: 0.5359\n",
      "Epoch 14: val_loss improved from 0.58521 to 0.58263, saving model to /content/014.h5\n",
      "5/5 [==============================] - 0s 24ms/step - loss: 0.5687 - val_loss: 0.5826\n",
      "Epoch 15/50\n",
      "1/5 [=====>........................] - ETA: 0s - loss: 0.5084\n",
      "Epoch 15: val_loss improved from 0.58263 to 0.58086, saving model to /content/015.h5\n",
      "5/5 [==============================] - 0s 23ms/step - loss: 0.5657 - val_loss: 0.5809\n",
      "Epoch 16/50\n",
      "1/5 [=====>........................] - ETA: 0s - loss: 0.5549\n",
      "Epoch 16: val_loss improved from 0.58086 to 0.57984, saving model to /content/016.h5\n",
      "5/5 [==============================] - 0s 24ms/step - loss: 0.5627 - val_loss: 0.5798\n",
      "Epoch 17/50\n",
      "1/5 [=====>........................] - ETA: 0s - loss: 0.5893\n",
      "Epoch 17: val_loss improved from 0.57984 to 0.57866, saving model to /content/017.h5\n",
      "5/5 [==============================] - 0s 26ms/step - loss: 0.5605 - val_loss: 0.5787\n",
      "Epoch 18/50\n",
      "1/5 [=====>........................] - ETA: 0s - loss: 0.5564\n",
      "Epoch 18: val_loss improved from 0.57866 to 0.57761, saving model to /content/018.h5\n",
      "5/5 [==============================] - 0s 23ms/step - loss: 0.5588 - val_loss: 0.5776\n",
      "Epoch 19/50\n",
      "1/5 [=====>........................] - ETA: 0s - loss: 0.5842\n",
      "Epoch 19: val_loss improved from 0.57761 to 0.57697, saving model to /content/019.h5\n",
      "5/5 [==============================] - 0s 25ms/step - loss: 0.5570 - val_loss: 0.5770\n",
      "Epoch 20/50\n",
      "1/5 [=====>........................] - ETA: 0s - loss: 0.5485\n",
      "Epoch 20: val_loss improved from 0.57697 to 0.57692, saving model to /content/020.h5\n",
      "5/5 [==============================] - 0s 23ms/step - loss: 0.5557 - val_loss: 0.5769\n",
      "Epoch 21/50\n",
      "1/5 [=====>........................] - ETA: 0s - loss: 0.6247\n",
      "Epoch 21: val_loss improved from 0.57692 to 0.57661, saving model to /content/021.h5\n",
      "5/5 [==============================] - 0s 23ms/step - loss: 0.5544 - val_loss: 0.5766\n",
      "Epoch 22/50\n",
      "1/5 [=====>........................] - ETA: 0s - loss: 0.3645\n",
      "Epoch 22: val_loss did not improve from 0.57661\n",
      "5/5 [==============================] - 0s 13ms/step - loss: 0.5539 - val_loss: 0.5771\n",
      "Epoch 23/50\n",
      "1/5 [=====>........................] - ETA: 0s - loss: 0.5473\n",
      "Epoch 23: val_loss did not improve from 0.57661\n",
      "5/5 [==============================] - 0s 16ms/step - loss: 0.5519 - val_loss: 0.5772\n",
      "Epoch 24/50\n",
      "1/5 [=====>........................] - ETA: 0s - loss: 0.6437\n",
      "Epoch 24: val_loss did not improve from 0.57661\n",
      "5/5 [==============================] - 0s 17ms/step - loss: 0.5514 - val_loss: 0.5767\n",
      "Epoch 25/50\n",
      "1/5 [=====>........................] - ETA: 0s - loss: 0.6254\n",
      "Epoch 25: val_loss did not improve from 0.57661\n",
      "5/5 [==============================] - 0s 16ms/step - loss: 0.5501 - val_loss: 0.5768\n",
      "Epoch 26/50\n",
      "1/5 [=====>........................] - ETA: 0s - loss: 0.5804\n",
      "Epoch 26: val_loss did not improve from 0.57661\n",
      "5/5 [==============================] - 0s 18ms/step - loss: 0.5488 - val_loss: 0.5775\n",
      "Epoch 27/50\n",
      "1/5 [=====>........................] - ETA: 0s - loss: 0.6111\n",
      "Epoch 27: val_loss did not improve from 0.57661\n",
      "5/5 [==============================] - 0s 14ms/step - loss: 0.5477 - val_loss: 0.5778\n",
      "Epoch 28/50\n",
      "1/5 [=====>........................] - ETA: 0s - loss: 0.6316\n",
      "Epoch 28: val_loss did not improve from 0.57661\n",
      "5/5 [==============================] - 0s 18ms/step - loss: 0.5468 - val_loss: 0.5782\n",
      "Epoch 29/50\n",
      "1/5 [=====>........................] - ETA: 0s - loss: 0.5349\n",
      "Epoch 29: val_loss did not improve from 0.57661\n",
      "5/5 [==============================] - 0s 17ms/step - loss: 0.5458 - val_loss: 0.5785\n",
      "Epoch 30/50\n",
      "1/5 [=====>........................] - ETA: 0s - loss: 0.5609\n",
      "Epoch 30: val_loss did not improve from 0.57661\n",
      "5/5 [==============================] - 0s 15ms/step - loss: 0.5452 - val_loss: 0.5782\n",
      "Epoch 31/50\n",
      "1/5 [=====>........................] - ETA: 0s - loss: 0.5712\n",
      "Epoch 31: val_loss did not improve from 0.57661\n",
      "5/5 [==============================] - 0s 14ms/step - loss: 0.5439 - val_loss: 0.5782\n",
      "Epoch 32/50\n",
      "1/5 [=====>........................] - ETA: 0s - loss: 0.5862\n",
      "Epoch 32: val_loss did not improve from 0.57661\n",
      "5/5 [==============================] - 0s 14ms/step - loss: 0.5431 - val_loss: 0.5783\n",
      "Epoch 33/50\n",
      "1/5 [=====>........................] - ETA: 0s - loss: 0.6127\n",
      "Epoch 33: val_loss did not improve from 0.57661\n",
      "5/5 [==============================] - 0s 16ms/step - loss: 0.5422 - val_loss: 0.5780\n",
      "Epoch 34/50\n",
      "1/5 [=====>........................] - ETA: 0s - loss: 0.4875\n",
      "Epoch 34: val_loss did not improve from 0.57661\n",
      "5/5 [==============================] - 0s 9ms/step - loss: 0.5409 - val_loss: 0.5777\n",
      "Epoch 35/50\n",
      "1/5 [=====>........................] - ETA: 0s - loss: 0.4684\n",
      "Epoch 35: val_loss did not improve from 0.57661\n",
      "5/5 [==============================] - 0s 9ms/step - loss: 0.5399 - val_loss: 0.5777\n",
      "Epoch 36/50\n",
      "1/5 [=====>........................] - ETA: 0s - loss: 0.5153\n",
      "Epoch 36: val_loss did not improve from 0.57661\n",
      "5/5 [==============================] - 0s 10ms/step - loss: 0.5387 - val_loss: 0.5773\n",
      "Epoch 37/50\n",
      "1/5 [=====>........................] - ETA: 0s - loss: 0.6443\n",
      "Epoch 37: val_loss did not improve from 0.57661\n",
      "5/5 [==============================] - 0s 10ms/step - loss: 0.5382 - val_loss: 0.5769\n",
      "Epoch 38/50\n",
      "1/5 [=====>........................] - ETA: 0s - loss: 0.6426\n",
      "Epoch 38: val_loss improved from 0.57661 to 0.57645, saving model to /content/038.h5\n",
      "5/5 [==============================] - 0s 15ms/step - loss: 0.5369 - val_loss: 0.5764\n",
      "Epoch 39/50\n",
      "1/5 [=====>........................] - ETA: 0s - loss: 0.4978\n",
      "Epoch 39: val_loss did not improve from 0.57645\n",
      "5/5 [==============================] - 0s 10ms/step - loss: 0.5360 - val_loss: 0.5768\n",
      "Epoch 40/50\n",
      "1/5 [=====>........................] - ETA: 0s - loss: 0.4512\n",
      "Epoch 40: val_loss improved from 0.57645 to 0.57629, saving model to /content/040.h5\n",
      "5/5 [==============================] - 0s 15ms/step - loss: 0.5349 - val_loss: 0.5763\n",
      "Epoch 41/50\n",
      "1/5 [=====>........................] - ETA: 0s - loss: 0.5647\n",
      "Epoch 41: val_loss did not improve from 0.57629\n",
      "5/5 [==============================] - 0s 9ms/step - loss: 0.5336 - val_loss: 0.5767\n",
      "Epoch 42/50\n",
      "1/5 [=====>........................] - ETA: 0s - loss: 0.5526\n",
      "Epoch 42: val_loss did not improve from 0.57629\n",
      "5/5 [==============================] - 0s 9ms/step - loss: 0.5324 - val_loss: 0.5767\n",
      "Epoch 43/50\n",
      "1/5 [=====>........................] - ETA: 0s - loss: 0.4395\n",
      "Epoch 43: val_loss did not improve from 0.57629\n",
      "5/5 [==============================] - 0s 9ms/step - loss: 0.5314 - val_loss: 0.5765\n",
      "Epoch 44/50\n",
      "1/5 [=====>........................] - ETA: 0s - loss: 0.4817\n",
      "Epoch 44: val_loss improved from 0.57629 to 0.57595, saving model to /content/044.h5\n",
      "5/5 [==============================] - 0s 16ms/step - loss: 0.5305 - val_loss: 0.5759\n",
      "Epoch 45/50\n",
      "1/5 [=====>........................] - ETA: 0s - loss: 0.5676\n",
      "Epoch 45: val_loss did not improve from 0.57595\n",
      "5/5 [==============================] - 0s 9ms/step - loss: 0.5295 - val_loss: 0.5762\n",
      "Epoch 46/50\n",
      "1/5 [=====>........................] - ETA: 0s - loss: 0.6255\n",
      "Epoch 46: val_loss improved from 0.57595 to 0.57550, saving model to /content/046.h5\n",
      "5/5 [==============================] - 0s 17ms/step - loss: 0.5289 - val_loss: 0.5755\n",
      "Epoch 47/50\n",
      "1/5 [=====>........................] - ETA: 0s - loss: 0.4684\n",
      "Epoch 47: val_loss did not improve from 0.57550\n",
      "5/5 [==============================] - 0s 9ms/step - loss: 0.5277 - val_loss: 0.5764\n",
      "Epoch 48/50\n",
      "1/5 [=====>........................] - ETA: 0s - loss: 0.5518\n",
      "Epoch 48: val_loss did not improve from 0.57550\n",
      "5/5 [==============================] - 0s 9ms/step - loss: 0.5260 - val_loss: 0.5762\n",
      "Epoch 49/50\n",
      "1/5 [=====>........................] - ETA: 0s - loss: 0.5115\n",
      "Epoch 49: val_loss did not improve from 0.57550\n",
      "5/5 [==============================] - 0s 10ms/step - loss: 0.5257 - val_loss: 0.5757\n",
      "Epoch 50/50\n",
      "1/5 [=====>........................] - ETA: 0s - loss: 0.5483\n",
      "Epoch 50: val_loss did not improve from 0.57550\n",
      "5/5 [==============================] - 0s 13ms/step - loss: 0.5239 - val_loss: 0.5761\n"
     ]
    }
   ],
   "source": [
    "cp_path = '/content/{epoch:03d}.h5'\n",
    "mcp = ModelCheckpoint(cp_path, monitor='val_loss', verbose = 1, save_best_only=True)\n",
    "\n",
    "# 학습\n",
    "hist = model1.fit(x_train, y_train, epochs = 50, validation_split=.2, callbacks=[mcp]).history"
   ]
  },
  {
   "cell_type": "code",
   "execution_count": 44,
   "metadata": {
    "colab": {
     "base_uri": "https://localhost:8080/",
     "height": 547
    },
    "executionInfo": {
     "elapsed": 385,
     "status": "ok",
     "timestamp": 1711346086919,
     "user": {
      "displayName": "홍의선",
      "userId": "03461789888455320462"
     },
     "user_tz": -540
    },
    "id": "4HtU3S1cPHYt",
    "outputId": "38f81b10-e826-405c-9bf9-0b20052fa8fb"
   },
   "outputs": [
    {
     "data": {
      "image/png": "[encoded data removed]",
      "text/plain": [
       "<Figure size 1000x600 with 1 Axes>"
      ]
     },
     "metadata": {},
     "output_type": "display_data"
    }
   ],
   "source": [
    "# 학습결과 그래프\n",
    "dl_history_plot(hist)"
   ]
  },
  {
   "cell_type": "code",
   "execution_count": null,
   "metadata": {
    "id": "RnJjhChrTPS4"
   },
   "outputs": [],
   "source": []
  }
 ],
 "metadata": {
  "accelerator": "GPU",
  "colab": {
   "collapsed_sections": [
    "4wNefOm4CYsP"
   ],
   "provenance": []
  },
  "gpuClass": "standard",
  "kernelspec": {
   "display_name": "Python 3 (ipykernel)",
   "language": "python",
   "name": "python3"
  },
  "language_info": {
   "codemirror_mode": {
    "name": "ipython",
    "version": 3
   },
   "file_extension": ".py",
   "mimetype": "text/x-python",
   "name": "python",
   "nbconvert_exporter": "python",
   "pygments_lexer": "ipython3",
   "version": "3.11.5"
  }
 },
 "nbformat": 4,
 "nbformat_minor": 4
}

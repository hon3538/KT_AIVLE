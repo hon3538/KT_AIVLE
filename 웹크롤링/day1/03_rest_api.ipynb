{
 "cells": [
  {
   "cell_type": "markdown",
   "metadata": {
    "tags": []
   },
   "source": [
    "# REST API\n",
    "- Representational State Transfer\n",
    "- Client와 Server가 통신하기 위한 URL 구조에 대한 정의 및 디자인"
   ]
  },
  {
   "cell_type": "markdown",
   "metadata": {
    "tags": []
   },
   "source": [
    "## 1\\. Kakao API"
   ]
  },
  {
   "cell_type": "code",
   "execution_count": 6,
   "metadata": {
    "tags": []
   },
   "outputs": [],
   "source": [
    "import warnings\n",
    "warnings.filterwarnings('ignore')\n",
    "import pandas as pd\n",
    "import requests, json\n"
   ]
  },
  {
   "cell_type": "markdown",
   "metadata": {},
   "source": [
    "### 1-1. request token 얻기\n",
    "- `https://developers.kakao.com/`\n",
    "- 내 애플리케이션 > 애플리케이션 추가하기"
   ]
  },
  {
   "cell_type": "code",
   "execution_count": 1,
   "metadata": {
    "tags": []
   },
   "outputs": [],
   "source": [
    "REST_API_KEY = '05f8388b3a7a5adbec1dafcd7dd3deca'"
   ]
  },
  {
   "cell_type": "markdown",
   "metadata": {},
   "source": [
    "### 1-2. KoGPT\n",
    "- 문서 > KoGPT > REST API\n",
    "- tokens : 공백을 제외한 글자수"
   ]
  },
  {
   "cell_type": "code",
   "execution_count": 2,
   "metadata": {
    "tags": []
   },
   "outputs": [],
   "source": [
    "# document 에서 URL 얻기\n",
    "url = 'https://api.kakaobrain.com/v1/inference/kogpt/generation'"
   ]
  },
  {
   "cell_type": "code",
   "execution_count": 12,
   "metadata": {
    "tags": []
   },
   "outputs": [],
   "source": [
    "# request(URL) -> response : json(str)\n",
    "prompt ='원자폭탄을 개발한 사람은' # 제시어\n",
    "max_tokens = 50 # 글자수\n",
    "params = {'prompt':prompt, 'max_tokens':max_tokens, 'n':2} \n",
    "headers = {\n",
    "    \"Authorization\": f'KakaoAK {REST_API_KEY}',\n",
    "    \"Content-Type\": \"application/json\"\n",
    "}\n",
    "\n",
    "response = requests.post(url, json.dumps(params), headers=headers)"
   ]
  },
  {
   "cell_type": "code",
   "execution_count": 7,
   "metadata": {
    "tags": []
   },
   "outputs": [
    {
     "data": {
      "text/plain": [
       "'{\"prompt\": \"\\\\uc6d0\\\\uc790\\\\ud3ed\\\\ud0c4\\\\uc744 \\\\uac1c\\\\ubc1c\\\\ud55c \\\\uc0ac\\\\ub78c\\\\uc740\", \"max_tokens\": 50}'"
      ]
     },
     "execution_count": 7,
     "metadata": {},
     "output_type": "execute_result"
    }
   ],
   "source": [
    "# json.dumps() : 문자열 인코딩, 한글은 인터넷상에서 사용 X, 한글 -> 영문, 특수문자로 인코딩\n",
    "json.dumps(params)"
   ]
  },
  {
   "cell_type": "code",
   "execution_count": 10,
   "metadata": {
    "tags": []
   },
   "outputs": [
    {
     "data": {
      "text/plain": [
       "{'id': 'b07c39ec-8276-4ed4-b56d-eb36ec10b1a7',\n",
       " 'generations': [{'text': ' 누구나 아인슈타인이라는 이름을 들어보았을 것이다. 나아가 사람들에게 알려진 가장 나쁜 천재의 하나로 DNA를 연구해 새로운 항생제 등 약품을 만드는 C.T 몬산토가 꼽힌다. < 생각 > - 천재도',\n",
       "   'tokens': 50}],\n",
       " 'usage': {'prompt_tokens': 7, 'generated_tokens': 50, 'total_tokens': 57}}"
      ]
     },
     "execution_count": 10,
     "metadata": {},
     "output_type": "execute_result"
    }
   ],
   "source": [
    "# json(str) -> parsing : text\n",
    "response.json()"
   ]
  },
  {
   "cell_type": "code",
   "execution_count": 13,
   "metadata": {
    "tags": []
   },
   "outputs": [
    {
     "data": {
      "text/plain": [
       "[' 오펜하이머 박사인데 그는 유대인이었어요. \\u200b 그런 연고로 해서 미국 안에 있던 과학자들이나 발명가들이 거의 다 유대계라는 것이지요.. 그런데 한편으론 특별히 하버드 대학 같은데서 물리학자가 많이 나올 때 그것',\n",
       " ' 오펜하이머 박사였습니다. 그는 원자탄은 살상용이 아니라 전쟁 종식을 위한 공포예방용의 무기여야함에도, 세계 곳곳에서 핵문제로 긴장과 혼란이 계속되고 있는데 한 나라라도 이기면 지금 당장이라도']"
      ]
     },
     "execution_count": 13,
     "metadata": {},
     "output_type": "execute_result"
    }
   ],
   "source": [
    "texts = response.json()['generations']\n",
    "texts = [text['text'] for text in texts]\n",
    "texts"
   ]
  },
  {
   "cell_type": "markdown",
   "metadata": {},
   "source": [
    "#### 1. 다음문장 만들기"
   ]
  },
  {
   "cell_type": "code",
   "execution_count": null,
   "metadata": {},
   "outputs": [],
   "source": []
  },
  {
   "cell_type": "markdown",
   "metadata": {},
   "source": [
    "#### 2. 문장 분류하기\n",
    "- 문장 마다 `=긍정`, `=부정` 문자열 작성\n",
    "- 분류할 마지막 문장 `=` 문자열 작성"
   ]
  },
  {
   "cell_type": "code",
   "execution_count": null,
   "metadata": {},
   "outputs": [],
   "source": []
  },
  {
   "cell_type": "markdown",
   "metadata": {},
   "source": [
    "#### 3. 뉴스 한 줄 요약하기\n",
    "- 마지막에 `한줄 요약:` 문자열 작성"
   ]
  },
  {
   "cell_type": "code",
   "execution_count": null,
   "metadata": {},
   "outputs": [],
   "source": []
  },
  {
   "cell_type": "markdown",
   "metadata": {
    "tags": []
   },
   "source": [
    "#### 4. 질문에 답변하기\n",
    "- 문장 마지막에 `?:` 로 끝남"
   ]
  },
  {
   "cell_type": "code",
   "execution_count": null,
   "metadata": {},
   "outputs": [],
   "source": []
  },
  {
   "cell_type": "markdown",
   "metadata": {},
   "source": [
    "#### 5. 응용하기"
   ]
  },
  {
   "cell_type": "code",
   "execution_count": null,
   "metadata": {},
   "outputs": [],
   "source": []
  },
  {
   "cell_type": "markdown",
   "metadata": {},
   "source": [
    "## 1-3 Karlo"
   ]
  },
  {
   "cell_type": "code",
   "execution_count": 14,
   "metadata": {
    "tags": []
   },
   "outputs": [],
   "source": [
    "import warnings\n",
    "warnings.filterwarnings('ignore')\n",
    "\n",
    "import pandas as pd\n",
    "import requests\n",
    "import urllib\n",
    "from PIL import Image"
   ]
  },
  {
   "cell_type": "code",
   "execution_count": 17,
   "metadata": {
    "tags": []
   },
   "outputs": [],
   "source": [
    "# 칼로는 이미지를 Base64 인코딩한 문자열 값으로 처리\n",
    "def stringToImage(base64_string, mode='RGBA'):\n",
    "    imgdata = base64.b64decode(str(base64_string))\n",
    "    img = Image.open(io.BytesIO(imgdata)).convert(mode)\n",
    "    return img\n",
    "\n",
    "def create_image(prompt):\n",
    "    # key \n",
    "    REST_API_KEY = 'bcadb76a9696397f26e9122b3f32f53b'\n",
    "    # url\n",
    "    url = 'https://api.kakaobrain.com/v2/inference/karlo/t2i'\n",
    "\n",
    "    param = {'version':'v2.1', 'prompt':prompt, 'width':1024, 'height':512}\n",
    "    headers={\n",
    "        'Authorization': f'KakaoAK {REST_API_KEY}',\n",
    "        'Content-Type' : 'application/json'\n",
    "    }\n",
    "    # request\n",
    "    response = requests.post(url, json = param, headers=headers)\n",
    "    return response\n",
    "\n",
    "def show_image(prompt):\n",
    "    response = create_image(prompt)\n",
    "    data = response.json()\n",
    "    # dataframe\n",
    "    df = pd.DataFrame(data['images'])\n",
    "    for image in df['image']:\n",
    "        # image open 하기\n",
    "        result = Image.open(urllib.request.urlopen(image))\n",
    "        result.show()\n"
   ]
  },
  {
   "cell_type": "code",
   "execution_count": 19,
   "metadata": {
    "tags": []
   },
   "outputs": [],
   "source": [
    "prompt = ''\n",
    "show_image(prompt)"
   ]
  },
  {
   "cell_type": "markdown",
   "metadata": {
    "id": "apodUP-CYr3_"
   },
   "source": [
    "## 2\\. Naver API\n",
    "- 통합검색어 트렌드 API\n",
    "    - https://datalab.naver.com/\n",
    "    - https://datalab.naver.com/keyword/trendSearch.naver"
   ]
  },
  {
   "cell_type": "code",
   "execution_count": null,
   "metadata": {},
   "outputs": [],
   "source": []
  },
  {
   "cell_type": "markdown",
   "metadata": {
    "id": "ZEU1PeYTYr4C"
   },
   "source": [
    "### 2-1. Request Token 얻기\n",
    "- `https://developers.naver.com`\n",
    "- 1. Request Token 얻기 : 애플리케이션등록 -> app_key 획득\n",
    "- 2. app_key를 이용해서 데이터 가져오기"
   ]
  },
  {
   "cell_type": "code",
   "execution_count": null,
   "metadata": {},
   "outputs": [],
   "source": []
  },
  {
   "cell_type": "markdown",
   "metadata": {
    "id": "gEKpR7ibYr4G"
   },
   "source": [
    "### 2-2. 통합검색어 트렌드 API\n",
    "- 서비스 : `https://datalab.naver.com/keyword/trendSearch.naver`\n",
    "- 내 애플리케이션 > dss 애플리케이션 > API 설정 > 데이터랩(검색어 트렌드) 추가\n",
    "- 사용법 : `https://developers.naver.com/docs/serviceapi/datalab/search/search.md#통합-검색어-트렌드`"
   ]
  },
  {
   "cell_type": "code",
   "execution_count": null,
   "metadata": {},
   "outputs": [],
   "source": []
  }
 ],
 "metadata": {
  "colab": {
   "provenance": []
  },
  "kernelspec": {
   "display_name": "Python 3 (ipykernel)",
   "language": "python",
   "name": "python3"
  },
  "language_info": {
   "codemirror_mode": {
    "name": "ipython",
    "version": 3
   },
   "file_extension": ".py",
   "mimetype": "text/x-python",
   "name": "python",
   "nbconvert_exporter": "python",
   "pygments_lexer": "ipython3",
   "version": "3.11.5"
  },
  "toc": {
   "base_numbering": 1,
   "nav_menu": {},
   "number_sections": false,
   "sideBar": true,
   "skip_h1_title": false,
   "title_cell": "Table of Contents",
   "title_sidebar": "Contents",
   "toc_cell": false,
   "toc_position": {},
   "toc_section_display": true,
   "toc_window_display": false
  }
 },
 "nbformat": 4,
 "nbformat_minor": 4
}

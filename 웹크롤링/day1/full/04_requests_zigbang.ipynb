{
 "cells": [
  {
   "cell_type": "markdown",
   "id": "democratic-utility",
   "metadata": {},
   "source": [
    "## Zigbang 원룸 매물 데이터 수집"
   ]
  },
  {
   "cell_type": "code",
   "execution_count": 1,
   "id": "minor-irrigation",
   "metadata": {},
   "outputs": [],
   "source": [
    "import requests\n",
    "import pandas as pd"
   ]
  },
  {
   "cell_type": "markdown",
   "id": "whole-answer",
   "metadata": {},
   "source": [
    "#### Process\n",
    "    - 동이름으로 위도 경도 구하기\n",
    "    - 위도 경도로 geohash 알아내기\n",
    "    - geohash로 매물 아이디 가져오기\n",
    "    - 매물 아이디로 매물 정보 가져오기"
   ]
  },
  {
   "cell_type": "markdown",
   "id": "b17864a3",
   "metadata": {},
   "source": [
    "### 1\\. 동이름으로 위도 경도 구하기"
   ]
  },
  {
   "cell_type": "code",
   "execution_count": 2,
   "id": "preceding-klein",
   "metadata": {},
   "outputs": [
    {
     "data": {
      "text/plain": [
       "(37.556785583496094, 126.9013442993164)"
      ]
     },
     "execution_count": 2,
     "metadata": {},
     "output_type": "execute_result"
    }
   ],
   "source": [
    "addr = \"망원동\"\n",
    "url = f\"https://apis.zigbang.com/v2/search?leaseYn=N&q={addr}&serviceType=원룸\"\n",
    "response = requests.get(url)\n",
    "data = response.json()[\"items\"][0]\n",
    "lat, lng = data[\"lat\"], data[\"lng\"]\n",
    "lat, lng"
   ]
  },
  {
   "cell_type": "markdown",
   "id": "13114fd8",
   "metadata": {},
   "source": [
    "### 2\\. 위도 경도로 geohash 알아내기"
   ]
  },
  {
   "cell_type": "code",
   "execution_count": 3,
   "id": "122284eb",
   "metadata": {},
   "outputs": [],
   "source": [
    "# install geohash2\n",
    "# !pip install geohash2"
   ]
  },
  {
   "cell_type": "code",
   "execution_count": 4,
   "id": "aware-liquid",
   "metadata": {},
   "outputs": [],
   "source": [
    "import geohash2"
   ]
  },
  {
   "cell_type": "code",
   "execution_count": 5,
   "id": "parliamentary-transfer",
   "metadata": {},
   "outputs": [
    {
     "data": {
      "text/plain": [
       "'wydjx'"
      ]
     },
     "execution_count": 5,
     "metadata": {},
     "output_type": "execute_result"
    }
   ],
   "source": [
    "# precision이 커질수록 영역이 작아짐\n",
    "geohash = geohash2.encode(lat, lng, precision=5)\n",
    "geohash"
   ]
  },
  {
   "cell_type": "markdown",
   "id": "6df839b9",
   "metadata": {},
   "source": [
    "### 3\\. geohash로 매물 아이디 가져오기"
   ]
  },
  {
   "cell_type": "code",
   "execution_count": 6,
   "id": "instant-porter",
   "metadata": {},
   "outputs": [
    {
     "data": {
      "text/plain": [
       "(575, [37623131, 37685329, 37699264, 37828417, 37595863])"
      ]
     },
     "execution_count": 6,
     "metadata": {},
     "output_type": "execute_result"
    }
   ],
   "source": [
    "url = f\"https://apis.zigbang.com/v2/items?deposit_gteq=0&domain=zigbang\\\n",
    "&geohash={geohash}&needHasNoFiltered=true&rent_gteq=0&sales_type_in=전세|월세\\\n",
    "&service_type_eq=원룸\"\n",
    "response = requests.get(url)\n",
    "datas = response.json()[\"items\"]\n",
    "# len(datas), datas[0]\n",
    "ids = [data[\"item_id\"] for data in datas]\n",
    "len(ids), ids[:5]"
   ]
  },
  {
   "cell_type": "markdown",
   "id": "37fea52f",
   "metadata": {},
   "source": [
    "### 4\\. 매물 아이디로 매물 정보 가져오기"
   ]
  },
  {
   "cell_type": "code",
   "execution_count": 7,
   "id": "distinguished-electronics",
   "metadata": {},
   "outputs": [
    {
     "data": {
      "text/plain": [
       "<Response [200]>"
      ]
     },
     "execution_count": 7,
     "metadata": {},
     "output_type": "execute_result"
    }
   ],
   "source": [
    "# 1000개 넘어가면 나눠서 수집해야 함\n",
    "url = \"https://apis.zigbang.com/v2/items/list\"\n",
    "params = {\n",
    "    \"domain\": \"zigbang\",\n",
    "    \"item_ids\": ids\n",
    "}\n",
    "response = requests.post(url, params)\n",
    "response"
   ]
  },
  {
   "cell_type": "code",
   "execution_count": 8,
   "id": "identified-opposition",
   "metadata": {},
   "outputs": [
    {
     "data": {
      "text/html": [
       "<div>\n",
       "<style scoped>\n",
       "    .dataframe tbody tr th:only-of-type {\n",
       "        vertical-align: middle;\n",
       "    }\n",
       "\n",
       "    .dataframe tbody tr th {\n",
       "        vertical-align: top;\n",
       "    }\n",
       "\n",
       "    .dataframe thead th {\n",
       "        text-align: right;\n",
       "    }\n",
       "</style>\n",
       "<table border=\"1\" class=\"dataframe\">\n",
       "  <thead>\n",
       "    <tr style=\"text-align: right;\">\n",
       "      <th></th>\n",
       "      <th>item_id</th>\n",
       "      <th>section_type</th>\n",
       "      <th>images_thumbnail</th>\n",
       "      <th>sales_type</th>\n",
       "      <th>sales_title</th>\n",
       "      <th>deposit</th>\n",
       "      <th>rent</th>\n",
       "      <th>size_m2</th>\n",
       "      <th>공급면적</th>\n",
       "      <th>전용면적</th>\n",
       "      <th>...</th>\n",
       "      <th>is_new</th>\n",
       "      <th>addressOrigin</th>\n",
       "      <th>action</th>\n",
       "      <th>contract</th>\n",
       "      <th>address</th>\n",
       "      <th>is_zzim</th>\n",
       "      <th>address1</th>\n",
       "      <th>address2</th>\n",
       "      <th>address3</th>\n",
       "      <th>item_bm_type</th>\n",
       "    </tr>\n",
       "  </thead>\n",
       "  <tbody>\n",
       "    <tr>\n",
       "      <th>573</th>\n",
       "      <td>37769062</td>\n",
       "      <td>None</td>\n",
       "      <td>https://ic.zigbang.com/ic/items/37769062/1.jpg</td>\n",
       "      <td>전세</td>\n",
       "      <td>전세</td>\n",
       "      <td>14000</td>\n",
       "      <td>0</td>\n",
       "      <td>23.14</td>\n",
       "      <td>{'m2': 23.14, 'p': '7'}</td>\n",
       "      <td>{'m2': 23.14, 'p': '7'}</td>\n",
       "      <td>...</td>\n",
       "      <td>True</td>\n",
       "      <td>{'local1': '서울시', 'local2': '마포구', 'local3': '...</td>\n",
       "      <td>{'isRead': False, 'readAt': None, 'isInquired'...</td>\n",
       "      <td></td>\n",
       "      <td>마포구 성산동</td>\n",
       "      <td>False</td>\n",
       "      <td>서울시 마포구 성산동</td>\n",
       "      <td>None</td>\n",
       "      <td>None</td>\n",
       "      <td>ZIGBANG</td>\n",
       "    </tr>\n",
       "    <tr>\n",
       "      <th>574</th>\n",
       "      <td>37703323</td>\n",
       "      <td>None</td>\n",
       "      <td>https://ic.zigbang.com/ic/items/37703323/1.jpg</td>\n",
       "      <td>월세</td>\n",
       "      <td>월세</td>\n",
       "      <td>5000</td>\n",
       "      <td>160</td>\n",
       "      <td>63.97</td>\n",
       "      <td>{'m2': 63.97, 'p': '19.4'}</td>\n",
       "      <td>{'m2': 42.52, 'p': '12.9'}</td>\n",
       "      <td>...</td>\n",
       "      <td>False</td>\n",
       "      <td>{'local1': '서울시', 'local2': '마포구', 'local3': '...</td>\n",
       "      <td>{'isRead': False, 'readAt': None, 'isInquired'...</td>\n",
       "      <td></td>\n",
       "      <td>마포구 중동</td>\n",
       "      <td>False</td>\n",
       "      <td>서울시 마포구 중동</td>\n",
       "      <td>None</td>\n",
       "      <td>None</td>\n",
       "      <td>ZIGBANG</td>\n",
       "    </tr>\n",
       "  </tbody>\n",
       "</table>\n",
       "<p>2 rows × 34 columns</p>\n",
       "</div>"
      ],
      "text/plain": [
       "      item_id section_type                                images_thumbnail  \\\n",
       "573  37769062         None  https://ic.zigbang.com/ic/items/37769062/1.jpg   \n",
       "574  37703323         None  https://ic.zigbang.com/ic/items/37703323/1.jpg   \n",
       "\n",
       "    sales_type sales_title  deposit  rent  size_m2  \\\n",
       "573         전세          전세    14000     0    23.14   \n",
       "574         월세          월세     5000   160    63.97   \n",
       "\n",
       "                           공급면적                        전용면적  ... is_new  \\\n",
       "573     {'m2': 23.14, 'p': '7'}     {'m2': 23.14, 'p': '7'}  ...   True   \n",
       "574  {'m2': 63.97, 'p': '19.4'}  {'m2': 42.52, 'p': '12.9'}  ...  False   \n",
       "\n",
       "                                         addressOrigin  \\\n",
       "573  {'local1': '서울시', 'local2': '마포구', 'local3': '...   \n",
       "574  {'local1': '서울시', 'local2': '마포구', 'local3': '...   \n",
       "\n",
       "                                                action contract  address  \\\n",
       "573  {'isRead': False, 'readAt': None, 'isInquired'...           마포구 성산동   \n",
       "574  {'isRead': False, 'readAt': None, 'isInquired'...            마포구 중동   \n",
       "\n",
       "    is_zzim     address1 address2  address3 item_bm_type  \n",
       "573   False  서울시 마포구 성산동     None      None      ZIGBANG  \n",
       "574   False   서울시 마포구 중동     None      None      ZIGBANG  \n",
       "\n",
       "[2 rows x 34 columns]"
      ]
     },
     "execution_count": 8,
     "metadata": {},
     "output_type": "execute_result"
    }
   ],
   "source": [
    "datas = response.json()[\"items\"]\n",
    "df = pd.DataFrame(datas)\n",
    "df.tail(2)"
   ]
  },
  {
   "cell_type": "code",
   "execution_count": 9,
   "id": "stuck-acrylic",
   "metadata": {},
   "outputs": [
    {
     "data": {
      "text/html": [
       "<div>\n",
       "<style scoped>\n",
       "    .dataframe tbody tr th:only-of-type {\n",
       "        vertical-align: middle;\n",
       "    }\n",
       "\n",
       "    .dataframe tbody tr th {\n",
       "        vertical-align: top;\n",
       "    }\n",
       "\n",
       "    .dataframe thead th {\n",
       "        text-align: right;\n",
       "    }\n",
       "</style>\n",
       "<table border=\"1\" class=\"dataframe\">\n",
       "  <thead>\n",
       "    <tr style=\"text-align: right;\">\n",
       "      <th></th>\n",
       "      <th>item_id</th>\n",
       "      <th>sales_type</th>\n",
       "      <th>deposit</th>\n",
       "      <th>rent</th>\n",
       "      <th>size_m2</th>\n",
       "      <th>floor</th>\n",
       "      <th>building_floor</th>\n",
       "      <th>address1</th>\n",
       "      <th>manage_cost</th>\n",
       "    </tr>\n",
       "  </thead>\n",
       "  <tbody>\n",
       "    <tr>\n",
       "      <th>573</th>\n",
       "      <td>37769062</td>\n",
       "      <td>전세</td>\n",
       "      <td>14000</td>\n",
       "      <td>0</td>\n",
       "      <td>23.14</td>\n",
       "      <td>2</td>\n",
       "      <td>2</td>\n",
       "      <td>서울시 마포구 성산동</td>\n",
       "      <td>11</td>\n",
       "    </tr>\n",
       "    <tr>\n",
       "      <th>574</th>\n",
       "      <td>37703323</td>\n",
       "      <td>월세</td>\n",
       "      <td>5000</td>\n",
       "      <td>160</td>\n",
       "      <td>63.97</td>\n",
       "      <td>3</td>\n",
       "      <td>6</td>\n",
       "      <td>서울시 마포구 중동</td>\n",
       "      <td>8</td>\n",
       "    </tr>\n",
       "  </tbody>\n",
       "</table>\n",
       "</div>"
      ],
      "text/plain": [
       "      item_id sales_type  deposit  rent  size_m2 floor building_floor  \\\n",
       "573  37769062         전세    14000     0    23.14     2              2   \n",
       "574  37703323         월세     5000   160    63.97     3              6   \n",
       "\n",
       "        address1 manage_cost  \n",
       "573  서울시 마포구 성산동          11  \n",
       "574   서울시 마포구 중동           8  "
      ]
     },
     "execution_count": 9,
     "metadata": {},
     "output_type": "execute_result"
    }
   ],
   "source": [
    "# 필요한 컬럼만 필터링\n",
    "columns = [\"item_id\", \"sales_type\", \"deposit\", \"rent\", \"size_m2\", \"floor\", \"building_floor\",\n",
    "           \"address1\", \"manage_cost\"]\n",
    "filtered_column_df = df[columns]\n",
    "filtered_column_df.tail(2)"
   ]
  },
  {
   "cell_type": "code",
   "execution_count": 10,
   "id": "german-force",
   "metadata": {},
   "outputs": [
    {
     "data": {
      "text/html": [
       "<div>\n",
       "<style scoped>\n",
       "    .dataframe tbody tr th:only-of-type {\n",
       "        vertical-align: middle;\n",
       "    }\n",
       "\n",
       "    .dataframe tbody tr th {\n",
       "        vertical-align: top;\n",
       "    }\n",
       "\n",
       "    .dataframe thead th {\n",
       "        text-align: right;\n",
       "    }\n",
       "</style>\n",
       "<table border=\"1\" class=\"dataframe\">\n",
       "  <thead>\n",
       "    <tr style=\"text-align: right;\">\n",
       "      <th></th>\n",
       "      <th>item_id</th>\n",
       "      <th>sales_type</th>\n",
       "      <th>deposit</th>\n",
       "      <th>rent</th>\n",
       "      <th>size_m2</th>\n",
       "      <th>floor</th>\n",
       "      <th>building_floor</th>\n",
       "      <th>address1</th>\n",
       "      <th>manage_cost</th>\n",
       "    </tr>\n",
       "  </thead>\n",
       "  <tbody>\n",
       "    <tr>\n",
       "      <th>59</th>\n",
       "      <td>37804362</td>\n",
       "      <td>월세</td>\n",
       "      <td>300</td>\n",
       "      <td>72</td>\n",
       "      <td>19.83</td>\n",
       "      <td>2</td>\n",
       "      <td>3</td>\n",
       "      <td>서울시 마포구 망원동</td>\n",
       "      <td>7</td>\n",
       "    </tr>\n",
       "    <tr>\n",
       "      <th>60</th>\n",
       "      <td>37811722</td>\n",
       "      <td>월세</td>\n",
       "      <td>2000</td>\n",
       "      <td>110</td>\n",
       "      <td>48.00</td>\n",
       "      <td>1</td>\n",
       "      <td>3</td>\n",
       "      <td>서울시 마포구 망원동</td>\n",
       "      <td>1</td>\n",
       "    </tr>\n",
       "  </tbody>\n",
       "</table>\n",
       "</div>"
      ],
      "text/plain": [
       "     item_id sales_type  deposit  rent  size_m2 floor building_floor  \\\n",
       "59  37804362         월세      300    72    19.83     2              3   \n",
       "60  37811722         월세     2000   110    48.00     1              3   \n",
       "\n",
       "       address1 manage_cost  \n",
       "59  서울시 마포구 망원동           7  \n",
       "60  서울시 마포구 망원동           1  "
      ]
     },
     "execution_count": 10,
     "metadata": {},
     "output_type": "execute_result"
    }
   ],
   "source": [
    "# 주소에 망원동이 있는 데이터만 필터링\n",
    "result_df = filtered_column_df[filtered_column_df[\"address1\"].str.contains(\"망원동\")]\n",
    "result_df = result_df.reset_index(drop=True)\n",
    "result_df.tail(2)"
   ]
  }
 ],
 "metadata": {
  "kernelspec": {
   "display_name": "Python 3 (ipykernel)",
   "language": "python",
   "name": "python3"
  },
  "language_info": {
   "codemirror_mode": {
    "name": "ipython",
    "version": 3
   },
   "file_extension": ".py",
   "mimetype": "text/x-python",
   "name": "python",
   "nbconvert_exporter": "python",
   "pygments_lexer": "ipython3",
   "version": "3.11.3"
  },
  "toc": {
   "base_numbering": 1,
   "nav_menu": {},
   "number_sections": false,
   "sideBar": true,
   "skip_h1_title": false,
   "title_cell": "Table of Contents",
   "title_sidebar": "Contents",
   "toc_cell": false,
   "toc_position": {},
   "toc_section_display": true,
   "toc_window_display": false
  }
 },
 "nbformat": 4,
 "nbformat_minor": 5
}

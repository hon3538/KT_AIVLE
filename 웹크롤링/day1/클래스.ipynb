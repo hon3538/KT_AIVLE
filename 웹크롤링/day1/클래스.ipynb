{
 "cells": [
  {
   "cell_type": "markdown",
   "id": "a8ea1a15-a9e1-4108-a1eb-466543bb5182",
   "metadata": {},
   "source": [
    "### 클래스 선언 : 코드 작성\n",
    "* 클래스 식별자 -> UpperCamelCase\n",
    "* 함수 식별자 -> snake_case\n",
    "* 파이썬 스타일 가이드 참조 (PEP8 형식)"
   ]
  },
  {
   "cell_type": "code",
   "execution_count": 2,
   "id": "32ea88d2-a9dd-4f51-a7a7-6a0e785bde6c",
   "metadata": {
    "tags": []
   },
   "outputs": [],
   "source": [
    "# 은행계좌 : balance, deposit(), withdraw()\n",
    "class Account:\n",
    "    balance = 0\n",
    "    def deposit(self, amount) :\n",
    "        self.balance += amount\n",
    "    def withdraw(self, amount) :\n",
    "        self.balance -= amount"
   ]
  },
  {
   "cell_type": "markdown",
   "id": "84736137-f1ed-462c-9067-3e5bc63ed659",
   "metadata": {},
   "source": [
    "### 객체생성 : 메모리 사용"
   ]
  },
  {
   "cell_type": "code",
   "execution_count": 3,
   "id": "e8c083ec-d6d7-4e9b-bfc2-8479420c5c47",
   "metadata": {
    "tags": []
   },
   "outputs": [],
   "source": [
    "account1 = Account()\n",
    "account2 = Account()"
   ]
  },
  {
   "cell_type": "markdown",
   "id": "8770cd04-e968-4ad5-b9c4-a402f843b043",
   "metadata": {
    "tags": []
   },
   "source": [
    "### 메서드 호출 : 코드 실행"
   ]
  },
  {
   "cell_type": "code",
   "execution_count": 5,
   "id": "6de1ef24-5e32-40d1-b43b-ef65a9879862",
   "metadata": {
    "tags": []
   },
   "outputs": [
    {
     "data": {
      "text/plain": [
       "0"
      ]
     },
     "execution_count": 5,
     "metadata": {},
     "output_type": "execute_result"
    }
   ],
   "source": [
    "account1.balance"
   ]
  },
  {
   "cell_type": "code",
   "execution_count": 18,
   "id": "57676389-1a9d-4833-9f1e-5ffe6f546493",
   "metadata": {
    "tags": []
   },
   "outputs": [
    {
     "data": {
      "text/plain": [
       "60000"
      ]
     },
     "execution_count": 18,
     "metadata": {},
     "output_type": "execute_result"
    }
   ],
   "source": [
    "account1.deposit(20000)\n",
    "account1.balance"
   ]
  },
  {
   "cell_type": "code",
   "execution_count": 20,
   "id": "f5e35603-933e-4162-a173-d957f0ee32b0",
   "metadata": {
    "tags": []
   },
   "outputs": [
    {
     "data": {
      "text/plain": [
       "90000"
      ]
     },
     "execution_count": 20,
     "metadata": {},
     "output_type": "execute_result"
    }
   ],
   "source": [
    "account2.deposit(10000)\n",
    "account2.balance"
   ]
  },
  {
   "cell_type": "markdown",
   "id": "4421e773-9ba3-4bee-b837-73d023d9a17d",
   "metadata": {},
   "source": [
    "### 객체에 들어있는 변수 출력"
   ]
  },
  {
   "cell_type": "code",
   "execution_count": 10,
   "id": "cd7a63a0-83ea-408b-91fb-e7708ebfb830",
   "metadata": {
    "tags": []
   },
   "outputs": [
    {
     "data": {
      "text/plain": [
       "['__class__',\n",
       " '__delattr__',\n",
       " '__dict__',\n",
       " '__dir__',\n",
       " '__doc__',\n",
       " '__eq__',\n",
       " '__format__',\n",
       " '__ge__',\n",
       " '__getattribute__',\n",
       " '__getstate__',\n",
       " '__gt__',\n",
       " '__hash__',\n",
       " '__init__',\n",
       " '__init_subclass__',\n",
       " '__le__',\n",
       " '__lt__',\n",
       " '__module__',\n",
       " '__ne__',\n",
       " '__new__',\n",
       " '__reduce__',\n",
       " '__reduce_ex__',\n",
       " '__repr__',\n",
       " '__setattr__',\n",
       " '__sizeof__',\n",
       " '__str__',\n",
       " '__subclasshook__',\n",
       " '__weakref__',\n",
       " 'balance',\n",
       " 'deposit',\n",
       " 'withdraw']"
      ]
     },
     "execution_count": 10,
     "metadata": {},
     "output_type": "execute_result"
    }
   ],
   "source": [
    "# dir()\n",
    "## __는 필수 기능으로 고정이며, 숨겨져있다.\n",
    "dir(account1)"
   ]
  },
  {
   "cell_type": "code",
   "execution_count": 11,
   "id": "29942fd3-c452-4ae5-9488-f056f235efb0",
   "metadata": {
    "tags": []
   },
   "outputs": [
    {
     "data": {
      "text/plain": [
       "['balance', 'deposit', 'withdraw']"
      ]
     },
     "execution_count": 11,
     "metadata": {},
     "output_type": "execute_result"
    }
   ],
   "source": [
    "dir(account1)[-3:]"
   ]
  },
  {
   "cell_type": "markdown",
   "id": "3c22457f-95d9-4c2e-88be-2e7ab6116b1a",
   "metadata": {
    "tags": []
   },
   "source": [
    "### 메서드 종류\n",
    "* instance -> self 가 들어가며 객체 생성시에만 사용가능\n",
    "* class -> cls 가 들어가며\n",
    "* static -> 아무것도 들어가지 않으며 객체 생성 없이도 사용가능"
   ]
  },
  {
   "cell_type": "code",
   "execution_count": 50,
   "id": "534a6c4c-3e44-4d72-b11b-273df07e2c60",
   "metadata": {
    "tags": []
   },
   "outputs": [],
   "source": [
    "class Myclass:\n",
    "    money2 = 0\n",
    "    def __init__(self, balance):\n",
    "        self.money = balance\n",
    "        \n",
    "    def ins_method(self):\n",
    "        print('instance')\n",
    "    \n",
    "    @classmethod\n",
    "    def cls_method(cls):\n",
    "        cls.money2 += 10\n",
    "        print(cls.money2)\n",
    "    \n",
    "    @staticmethod\n",
    "    def stc_method(balance):\n",
    "        m = balance\n",
    "        print(m)\n",
    "\n",
    "    "
   ]
  },
  {
   "cell_type": "markdown",
   "id": "94f78e21-cc69-4880-bb22-6be8e1dfb44f",
   "metadata": {},
   "source": [
    "* spacial method : __사용 : 특별한 기능을 하는 메서드\n",
    "* 생성자 메서드 : __init__() : 객체가 생성될 때 실행되는 메서드"
   ]
  },
  {
   "cell_type": "code",
   "execution_count": 28,
   "id": "7de9b370-9501-4b5c-a534-e92a82ca363c",
   "metadata": {
    "tags": []
   },
   "outputs": [
    {
     "data": {
      "text/plain": [
       "10"
      ]
     },
     "execution_count": 28,
     "metadata": {},
     "output_type": "execute_result"
    }
   ],
   "source": [
    "Myclass(10).money"
   ]
  },
  {
   "cell_type": "code",
   "execution_count": 59,
   "id": "4a4fbd18-6ed4-49c9-8980-1bb81e2c70ec",
   "metadata": {
    "tags": []
   },
   "outputs": [
    {
     "name": "stdout",
     "output_type": "stream",
     "text": [
      "90\n"
     ]
    }
   ],
   "source": [
    "m1 = Myclass(10)\n",
    "Myclass.cls_method()"
   ]
  },
  {
   "cell_type": "code",
   "execution_count": 65,
   "id": "1259b698-3d29-4833-9b8b-74d37200e316",
   "metadata": {
    "tags": []
   },
   "outputs": [
    {
     "data": {
      "text/plain": [
       "130"
      ]
     },
     "execution_count": 65,
     "metadata": {},
     "output_type": "execute_result"
    }
   ],
   "source": [
    "# Myclass.cls_method()\n",
    "# m2 = Myclass(10).money2\n",
    "m1.money2"
   ]
  },
  {
   "cell_type": "markdown",
   "id": "ad78ff50-3a5a-4ccd-babf-3fd6a98ef684",
   "metadata": {},
   "source": [
    "# 메서드 정보 확인"
   ]
  },
  {
   "cell_type": "code",
   "execution_count": 39,
   "id": "eb98ccbc-fff2-437b-bb44-2742f9438ed4",
   "metadata": {
    "tags": []
   },
   "outputs": [
    {
     "data": {
      "text/html": [
       "<div>\n",
       "<style scoped>\n",
       "    .dataframe tbody tr th:only-of-type {\n",
       "        vertical-align: middle;\n",
       "    }\n",
       "\n",
       "    .dataframe tbody tr th {\n",
       "        vertical-align: top;\n",
       "    }\n",
       "\n",
       "    .dataframe thead th {\n",
       "        text-align: right;\n",
       "    }\n",
       "</style>\n",
       "<table border=\"1\" class=\"dataframe\">\n",
       "  <thead>\n",
       "    <tr style=\"text-align: right;\">\n",
       "      <th></th>\n",
       "      <th>A</th>\n",
       "      <th>B</th>\n",
       "    </tr>\n",
       "  </thead>\n",
       "  <tbody>\n",
       "    <tr>\n",
       "      <th>0</th>\n",
       "      <td>1</td>\n",
       "      <td>3</td>\n",
       "    </tr>\n",
       "    <tr>\n",
       "      <th>1</th>\n",
       "      <td>2</td>\n",
       "      <td>4</td>\n",
       "    </tr>\n",
       "  </tbody>\n",
       "</table>\n",
       "</div>"
      ],
      "text/plain": [
       "   A  B\n",
       "0  1  3\n",
       "1  2  4"
      ]
     },
     "execution_count": 39,
     "metadata": {},
     "output_type": "execute_result"
    }
   ],
   "source": [
    "import pandas as pd\n",
    "df = pd.DataFrame({'A':[1,2], 'B':[3,4]})\n",
    "df"
   ]
  },
  {
   "cell_type": "code",
   "execution_count": 43,
   "id": "ba7fba26-3e31-4622-a77d-20906eda33d5",
   "metadata": {
    "collapsed": true,
    "jupyter": {
     "outputs_hidden": true
    },
    "tags": []
   },
   "outputs": [
    {
     "data": {
      "text/plain": [
       "['to_records',\n",
       " 'to_sql',\n",
       " 'to_stata',\n",
       " 'to_string',\n",
       " 'to_timestamp',\n",
       " 'to_xarray',\n",
       " 'to_xml',\n",
       " 'transform',\n",
       " 'transpose',\n",
       " 'truediv',\n",
       " 'truncate',\n",
       " 'tz_convert',\n",
       " 'tz_localize',\n",
       " 'unstack',\n",
       " 'update',\n",
       " 'value_counts',\n",
       " 'values',\n",
       " 'var',\n",
       " 'where',\n",
       " 'xs']"
      ]
     },
     "execution_count": 43,
     "metadata": {},
     "output_type": "execute_result"
    }
   ],
   "source": [
    "# dir : 정의된 변수 및 메서드 확인 가능\n",
    "dir(df)[-20:]"
   ]
  },
  {
   "cell_type": "code",
   "execution_count": 42,
   "id": "52c7d7d7-b8f9-45a9-b018-0066867a728f",
   "metadata": {
    "collapsed": true,
    "jupyter": {
     "outputs_hidden": true
    },
    "tags": []
   },
   "outputs": [
    {
     "name": "stdout",
     "output_type": "stream",
     "text": [
      "Help on method drop in module pandas.core.frame:\n",
      "\n",
      "drop(labels: 'IndexLabel' = None, *, axis: 'Axis' = 0, index: 'IndexLabel' = None, columns: 'IndexLabel' = None, level: 'Level' = None, inplace: 'bool' = False, errors: 'IgnoreRaise' = 'raise') -> 'DataFrame | None' method of pandas.core.frame.DataFrame instance\n",
      "    Drop specified labels from rows or columns.\n",
      "    \n",
      "    Remove rows or columns by specifying label names and corresponding\n",
      "    axis, or by specifying directly index or column names. When using a\n",
      "    multi-index, labels on different levels can be removed by specifying\n",
      "    the level. See the :ref:`user guide <advanced.shown_levels>`\n",
      "    for more information about the now unused levels.\n",
      "    \n",
      "    Parameters\n",
      "    ----------\n",
      "    labels : single label or list-like\n",
      "        Index or column labels to drop. A tuple will be used as a single\n",
      "        label and not treated as a list-like.\n",
      "    axis : {0 or 'index', 1 or 'columns'}, default 0\n",
      "        Whether to drop labels from the index (0 or 'index') or\n",
      "        columns (1 or 'columns').\n",
      "    index : single label or list-like\n",
      "        Alternative to specifying axis (``labels, axis=0``\n",
      "        is equivalent to ``index=labels``).\n",
      "    columns : single label or list-like\n",
      "        Alternative to specifying axis (``labels, axis=1``\n",
      "        is equivalent to ``columns=labels``).\n",
      "    level : int or level name, optional\n",
      "        For MultiIndex, level from which the labels will be removed.\n",
      "    inplace : bool, default False\n",
      "        If False, return a copy. Otherwise, do operation\n",
      "        inplace and return None.\n",
      "    errors : {'ignore', 'raise'}, default 'raise'\n",
      "        If 'ignore', suppress error and only existing labels are\n",
      "        dropped.\n",
      "    \n",
      "    Returns\n",
      "    -------\n",
      "    DataFrame or None\n",
      "        DataFrame without the removed index or column labels or\n",
      "        None if ``inplace=True``.\n",
      "    \n",
      "    Raises\n",
      "    ------\n",
      "    KeyError\n",
      "        If any of the labels is not found in the selected axis.\n",
      "    \n",
      "    See Also\n",
      "    --------\n",
      "    DataFrame.loc : Label-location based indexer for selection by label.\n",
      "    DataFrame.dropna : Return DataFrame with labels on given axis omitted\n",
      "        where (all or any) data are missing.\n",
      "    DataFrame.drop_duplicates : Return DataFrame with duplicate rows\n",
      "        removed, optionally only considering certain columns.\n",
      "    Series.drop : Return Series with specified index labels removed.\n",
      "    \n",
      "    Examples\n",
      "    --------\n",
      "    >>> df = pd.DataFrame(np.arange(12).reshape(3, 4),\n",
      "    ...                   columns=['A', 'B', 'C', 'D'])\n",
      "    >>> df\n",
      "       A  B   C   D\n",
      "    0  0  1   2   3\n",
      "    1  4  5   6   7\n",
      "    2  8  9  10  11\n",
      "    \n",
      "    Drop columns\n",
      "    \n",
      "    >>> df.drop(['B', 'C'], axis=1)\n",
      "       A   D\n",
      "    0  0   3\n",
      "    1  4   7\n",
      "    2  8  11\n",
      "    \n",
      "    >>> df.drop(columns=['B', 'C'])\n",
      "       A   D\n",
      "    0  0   3\n",
      "    1  4   7\n",
      "    2  8  11\n",
      "    \n",
      "    Drop a row by index\n",
      "    \n",
      "    >>> df.drop([0, 1])\n",
      "       A  B   C   D\n",
      "    2  8  9  10  11\n",
      "    \n",
      "    Drop columns and/or rows of MultiIndex DataFrame\n",
      "    \n",
      "    >>> midx = pd.MultiIndex(levels=[['lama', 'cow', 'falcon'],\n",
      "    ...                              ['speed', 'weight', 'length']],\n",
      "    ...                      codes=[[0, 0, 0, 1, 1, 1, 2, 2, 2],\n",
      "    ...                             [0, 1, 2, 0, 1, 2, 0, 1, 2]])\n",
      "    >>> df = pd.DataFrame(index=midx, columns=['big', 'small'],\n",
      "    ...                   data=[[45, 30], [200, 100], [1.5, 1], [30, 20],\n",
      "    ...                         [250, 150], [1.5, 0.8], [320, 250],\n",
      "    ...                         [1, 0.8], [0.3, 0.2]])\n",
      "    >>> df\n",
      "                    big     small\n",
      "    lama    speed   45.0    30.0\n",
      "            weight  200.0   100.0\n",
      "            length  1.5     1.0\n",
      "    cow     speed   30.0    20.0\n",
      "            weight  250.0   150.0\n",
      "            length  1.5     0.8\n",
      "    falcon  speed   320.0   250.0\n",
      "            weight  1.0     0.8\n",
      "            length  0.3     0.2\n",
      "    \n",
      "    Drop a specific index combination from the MultiIndex\n",
      "    DataFrame, i.e., drop the combination ``'falcon'`` and\n",
      "    ``'weight'``, which deletes only the corresponding row\n",
      "    \n",
      "    >>> df.drop(index=('falcon', 'weight'))\n",
      "                    big     small\n",
      "    lama    speed   45.0    30.0\n",
      "            weight  200.0   100.0\n",
      "            length  1.5     1.0\n",
      "    cow     speed   30.0    20.0\n",
      "            weight  250.0   150.0\n",
      "            length  1.5     0.8\n",
      "    falcon  speed   320.0   250.0\n",
      "            length  0.3     0.2\n",
      "    \n",
      "    >>> df.drop(index='cow', columns='small')\n",
      "                    big\n",
      "    lama    speed   45.0\n",
      "            weight  200.0\n",
      "            length  1.5\n",
      "    falcon  speed   320.0\n",
      "            weight  1.0\n",
      "            length  0.3\n",
      "    \n",
      "    >>> df.drop(index='length', level=1)\n",
      "                    big     small\n",
      "    lama    speed   45.0    30.0\n",
      "            weight  200.0   100.0\n",
      "    cow     speed   30.0    20.0\n",
      "            weight  250.0   150.0\n",
      "    falcon  speed   320.0   250.0\n",
      "            weight  1.0     0.8\n",
      "\n"
     ]
    }
   ],
   "source": [
    "# help : 메서드 옵션 확인가능\n",
    "help(df.drop)\n"
   ]
  },
  {
   "cell_type": "code",
   "execution_count": 66,
   "id": "03f8171c-bea5-43c1-a505-7c230dfbe01b",
   "metadata": {
    "tags": []
   },
   "outputs": [
    {
     "data": {
      "text/plain": [
       "__main__.Account"
      ]
     },
     "execution_count": 66,
     "metadata": {},
     "output_type": "execute_result"
    }
   ],
   "source": [
    "type(account1) # 사용자 정의 데이터타입이다. "
   ]
  },
  {
   "cell_type": "markdown",
   "id": "afb33ec3-0506-4085-b8a6-9c7b5018fa67",
   "metadata": {},
   "source": [
    "* 데이터타입(=클래스) : int, str, list, dataframe 등\n",
    "* 데이터타입이 다르다는 의미는 사용가능한 변수(함수)가 다름"
   ]
  },
  {
   "cell_type": "code",
   "execution_count": 67,
   "id": "7b8efd2a-4e3c-45aa-b00e-4b2c7b59b40d",
   "metadata": {
    "tags": []
   },
   "outputs": [
    {
     "data": {
      "text/plain": [
       "(str, list)"
      ]
     },
     "execution_count": 67,
     "metadata": {},
     "output_type": "execute_result"
    }
   ],
   "source": [
    "data1 = 'python'\n",
    "data2 = [1,2,3]\n",
    "type(data1), type(data2)"
   ]
  },
  {
   "cell_type": "code",
   "execution_count": 70,
   "id": "b2d237df-d7df-42e4-a1ba-5b700299900c",
   "metadata": {
    "tags": []
   },
   "outputs": [
    {
     "data": {
      "text/plain": [
       "['maketrans',\n",
       " 'partition',\n",
       " 'removeprefix',\n",
       " 'removesuffix',\n",
       " 'replace',\n",
       " 'rfind',\n",
       " 'rindex',\n",
       " 'rjust',\n",
       " 'rpartition',\n",
       " 'rsplit',\n",
       " 'rstrip',\n",
       " 'split',\n",
       " 'splitlines',\n",
       " 'startswith',\n",
       " 'strip',\n",
       " 'swapcase',\n",
       " 'title',\n",
       " 'translate',\n",
       " 'upper',\n",
       " 'zfill']"
      ]
     },
     "execution_count": 70,
     "metadata": {},
     "output_type": "execute_result"
    }
   ],
   "source": [
    "dir(data1)[-20:]"
   ]
  },
  {
   "cell_type": "code",
   "execution_count": 69,
   "id": "1759f8c1-5960-4e83-9dbd-38ad1c078a88",
   "metadata": {
    "tags": []
   },
   "outputs": [
    {
     "name": "stdout",
     "output_type": "stream",
     "text": [
      "Help on built-in function upper:\n",
      "\n",
      "upper() method of builtins.str instance\n",
      "    Return a copy of the string converted to uppercase.\n",
      "\n"
     ]
    }
   ],
   "source": [
    "help(data1.upper)"
   ]
  },
  {
   "cell_type": "code",
   "execution_count": 72,
   "id": "e85bf562-98a3-48e6-85d0-3c6e562a1ba1",
   "metadata": {
    "tags": []
   },
   "outputs": [
    {
     "data": {
      "text/plain": [
       "['clear',\n",
       " 'copy',\n",
       " 'count',\n",
       " 'extend',\n",
       " 'index',\n",
       " 'insert',\n",
       " 'pop',\n",
       " 'remove',\n",
       " 'reverse',\n",
       " 'sort']"
      ]
     },
     "execution_count": 72,
     "metadata": {},
     "output_type": "execute_result"
    }
   ],
   "source": [
    "dir(data2)[-10:]"
   ]
  },
  {
   "cell_type": "code",
   "execution_count": 73,
   "id": "39ebdce3-fa9d-4fa9-a33c-f8dd9cc3f489",
   "metadata": {
    "tags": []
   },
   "outputs": [
    {
     "data": {
      "text/plain": [
       "['__abs__',\n",
       " '__add__',\n",
       " '__and__',\n",
       " '__bool__',\n",
       " '__ceil__',\n",
       " '__class__',\n",
       " '__delattr__',\n",
       " '__dir__',\n",
       " '__divmod__',\n",
       " '__doc__',\n",
       " '__eq__',\n",
       " '__float__',\n",
       " '__floor__',\n",
       " '__floordiv__',\n",
       " '__format__',\n",
       " '__ge__',\n",
       " '__getattribute__',\n",
       " '__getnewargs__',\n",
       " '__getstate__',\n",
       " '__gt__',\n",
       " '__hash__',\n",
       " '__index__',\n",
       " '__init__',\n",
       " '__init_subclass__',\n",
       " '__int__',\n",
       " '__invert__',\n",
       " '__le__',\n",
       " '__lshift__',\n",
       " '__lt__',\n",
       " '__mod__',\n",
       " '__mul__',\n",
       " '__ne__',\n",
       " '__neg__',\n",
       " '__new__',\n",
       " '__or__',\n",
       " '__pos__',\n",
       " '__pow__',\n",
       " '__radd__',\n",
       " '__rand__',\n",
       " '__rdivmod__',\n",
       " '__reduce__',\n",
       " '__reduce_ex__',\n",
       " '__repr__',\n",
       " '__rfloordiv__',\n",
       " '__rlshift__',\n",
       " '__rmod__',\n",
       " '__rmul__',\n",
       " '__ror__',\n",
       " '__round__',\n",
       " '__rpow__',\n",
       " '__rrshift__',\n",
       " '__rshift__',\n",
       " '__rsub__',\n",
       " '__rtruediv__',\n",
       " '__rxor__',\n",
       " '__setattr__',\n",
       " '__sizeof__',\n",
       " '__str__',\n",
       " '__sub__',\n",
       " '__subclasshook__',\n",
       " '__truediv__',\n",
       " '__trunc__',\n",
       " '__xor__',\n",
       " 'as_integer_ratio',\n",
       " 'bit_count',\n",
       " 'bit_length',\n",
       " 'conjugate',\n",
       " 'denominator',\n",
       " 'from_bytes',\n",
       " 'imag',\n",
       " 'numerator',\n",
       " 'real',\n",
       " 'to_bytes']"
      ]
     },
     "execution_count": 73,
     "metadata": {},
     "output_type": "execute_result"
    }
   ],
   "source": [
    "data3 = 2\n",
    "dir(data3)"
   ]
  },
  {
   "cell_type": "code",
   "execution_count": 78,
   "id": "2e8e6564-9765-43ac-9a29-60f55af23ab6",
   "metadata": {
    "tags": []
   },
   "outputs": [
    {
     "name": "stdin",
     "output_type": "stream",
     "text": [
      " 978\n"
     ]
    },
    {
     "name": "stdout",
     "output_type": "stream",
     "text": [
      "165\n"
     ]
    }
   ],
   "source": [
    "n = int(input())\n",
    "flag = [True] * (n+1)\n",
    "flag[0] = flag[1] = False\n",
    "for i in range(2, int(n**0.5) + 1):\n",
    "    if flag[i] == False :\n",
    "        continue\n",
    "    for j in range(i*i, n+1, i) :\n",
    "        flag[j]=False\n",
    "print(sum(flag))"
   ]
  }
 ],
 "metadata": {
  "kernelspec": {
   "display_name": "Python 3 (ipykernel)",
   "language": "python",
   "name": "python3"
  },
  "language_info": {
   "codemirror_mode": {
    "name": "ipython",
    "version": 3
   },
   "file_extension": ".py",
   "mimetype": "text/x-python",
   "name": "python",
   "nbconvert_exporter": "python",
   "pygments_lexer": "ipython3",
   "version": "3.11.5"
  }
 },
 "nbformat": 4,
 "nbformat_minor": 5
}

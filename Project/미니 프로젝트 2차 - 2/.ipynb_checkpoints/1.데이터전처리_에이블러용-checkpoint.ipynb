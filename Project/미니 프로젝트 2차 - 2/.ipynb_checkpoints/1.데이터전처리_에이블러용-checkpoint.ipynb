{
 "cells": [
  {
   "cell_type": "markdown",
   "metadata": {
    "id": "qsIsGzftJuH9"
   },
   "source": [
    "# 장애인콜택시 대기시간 예측\n",
    "## 단계1.데이터 전처리"
   ]
  },
  {
   "cell_type": "markdown",
   "metadata": {
    "id": "Dh02CX03JuES"
   },
   "source": [
    "## 0.미션\n",
    "\n",
    "* 1.데이터를 탐색하며 정보 획득\n",
    "    * 데이터는 2015-01-01 ~ 2022-12-31 까지의 서울 장애인 콜택시 운행 정보입니다. 우리는 평균대기시간을 예측하고자 합니다. \n",
    "    * 요일, 월, 계절, 연도별 운행 정보에 어떤 주기와 변화가 있는지 탐색해 봅시다.\n",
    "* 2.분석을 위한 데이터 구조 만들기\n",
    "    * 문제정의 : \n",
    "        * 전 날 콜택시 운행이 종료되었을 때, 다음 날 대기시간을 예측하고자 합니다.\n",
    "\n",
    "        * 만약 다음 날 대기시간을 예측할 수 있다면, 일정 범위 내에서 배차를 조절할 수 있을 뿐만 아니라, 향후 교통약자의 이동 편의 증진을 위한 정책 수립 및 개선에 기여할 수 있습니다. \n",
    "    * 이를 위한 데이터 구조를 만들어 봅시다.\n",
    "        * 분석 단위는 일별 데이터 입니다.\n",
    "        * 주어진 데이터 : 장애인 콜택시 운행 정보, 서울시 날씨\n",
    "        * 날씨 데이터는 실제 측정값이지만, 다음 날에 대한 예보 데이터로 간주합니다. \n",
    "            * 예를 들어, \n",
    "                * 2020-12-23 의 날씨 데이터는 전 날(12월22일) 날씨예보 데이터로 간주하여 분석을 수행합니다.\n",
    "                * 2020-12-22일의 장애인 이동 데이터로 23일의 대기시간을 예측해야 하며, 이때 고려할 날씨데이터는 23일 데이터 입니다.\n",
    "        * 장애인 이동 데이터를 기준으로 날씨 데이터를 붙여서 만듭시다.\n",
    "        * 휴무일 데이터는 패키지를 통해서 다운받아 사용합니다.\n",
    "    * Feature Engineering\n",
    "        * 대기시간에 영향을 주는 요인을 도출하고(가설수립) 이를 feature로 생성합시다.\n",
    "        * 주어진 그대로의 데이터가 아닌 새로운 feature를 생성해 봅시다.\n",
    "            * 날짜와 관련된 feature : 요일, 월, 계절 ... \n",
    "            * 시계열 특성이 반영된 feature : 최근 7일간의 평균 대기시간 ...\n",
    "\n",
    "\n"
   ]
  },
  {
   "cell_type": "markdown",
   "metadata": {
    "id": "pp6QgG00zPKL"
   },
   "source": [
    "## 1.환경설정"
   ]
  },
  {
   "cell_type": "markdown",
   "metadata": {
    "id": "stA-MFEZvYUL"
   },
   "source": [
    "* 세부 요구사항\n",
    "    - 경로 설정 : 다음의 두가지 방법 중 하나를 선택하여 폴더를 준비하고 데이터를 로딩하시오.\n",
    "        * 1) 로컬 수행(Ananconda)\n",
    "            * 제공된 압축파일을 다운받아 압축을 풀고\n",
    "            * anaconda의 root directory(보통 C:/Users/< ID > 에 project 폴더를 만들고, 복사해 넣습니다.\n",
    "        * 2) 구글콜랩\n",
    "            * 구글 드라이브 바로 밑에 project 폴더를 만들고, \n",
    "            * 데이터 파일을 복사해 넣습니다.\n",
    "    - 라이브러리 설치 및 로딩\n",
    "        * requirements.txt 파일로 부터 라이브러리 설치\n",
    "    - 기본적으로 필요한 라이브러리를 import 하도록 코드가 작성되어 있습니다. \n",
    "        * 필요하다고 판단되는 라이브러리를 추가하세요."
   ]
  },
  {
   "cell_type": "markdown",
   "metadata": {
    "id": "4FalizaIvrRi"
   },
   "source": [
    "### (1) 경로 설정"
   ]
  },
  {
   "cell_type": "markdown",
   "metadata": {
    "id": "5uNVIDDsvvFv"
   },
   "source": [
    "#### 1) 로컬 수행(Anaconda)\n",
    "* project 폴더에 필요한 파일들을 넣고, 본 파일을 열었다면, 별도 경로 지정이 필요하지 않습니다."
   ]
  },
  {
   "cell_type": "code",
   "execution_count": null,
   "metadata": {
    "id": "QGwzRisSvzPF"
   },
   "outputs": [],
   "source": [
    "# path = 'C:/Users/User/project/'"
   ]
  },
  {
   "cell_type": "markdown",
   "metadata": {
    "id": "qOThJNEIvw4Y"
   },
   "source": [
    "#### 2) 구글 콜랩 수행"
   ]
  },
  {
   "cell_type": "markdown",
   "metadata": {
    "id": "g-R7MHCav356"
   },
   "source": [
    "* 구글 드라이브 연결"
   ]
  },
  {
   "cell_type": "code",
   "execution_count": null,
   "metadata": {
    "colab": {
     "base_uri": "https://localhost:8080/"
    },
    "executionInfo": {
     "elapsed": 81303,
     "status": "ok",
     "timestamp": 1682642913156,
     "user": {
      "displayName": "한기영",
      "userId": "13049187003176135487"
     },
     "user_tz": -540
    },
    "id": "HOmYiPZev0qB",
    "outputId": "672eaa4e-a256-43be-d312-bf7a78a46ea9"
   },
   "outputs": [],
   "source": [
    "# from google.colab import drive\n",
    "# drive.mount('/content/drive')"
   ]
  },
  {
   "cell_type": "code",
   "execution_count": null,
   "metadata": {
    "executionInfo": {
     "elapsed": 507,
     "status": "ok",
     "timestamp": 1682642915181,
     "user": {
      "displayName": "한기영",
      "userId": "13049187003176135487"
     },
     "user_tz": -540
    },
    "id": "GuqW8XGrv8UE"
   },
   "outputs": [],
   "source": [
    "# path = '/content/drive/MyDrive/project/'"
   ]
  },
  {
   "cell_type": "markdown",
   "metadata": {
    "id": "LPy9VO2koOHp"
   },
   "source": [
    "### (2) 라이브러리 설치 및 불러오기"
   ]
  },
  {
   "cell_type": "markdown",
   "metadata": {
    "id": "ZO8AjippwJnr"
   },
   "source": [
    "#### 1) 설치"
   ]
  },
  {
   "cell_type": "markdown",
   "metadata": {
    "id": "6WsCsW_qwJcM"
   },
   "source": [
    "* requirements.txt 파일을 아래 위치에 두고 다음 코드를 실행하시오.\n",
    "    * 로컬 : 다음 코드셀 실행\n",
    "    * 구글콜랩 : requirements.txt 파일을 왼쪽 [파일]탭에 복사해 넣고 다음 코드셀 실행"
   ]
  },
  {
   "cell_type": "code",
   "execution_count": 1,
   "metadata": {
    "collapsed": true,
    "id": "YQWGi48dwOOZ",
    "jupyter": {
     "outputs_hidden": true
    },
    "tags": []
   },
   "outputs": [
    {
     "name": "stdout",
     "output_type": "stream",
     "text": [
      "Collecting pandas==1.5.3 (from -r requirements.txt (line 1))\n",
      "  Obtaining dependency information for pandas==1.5.3 from https://files.pythonhosted.org/packages/da/6d/1235da14daddaa6e47f74ba0c255358f0ce7a6ee05da8bf8eb49161aa6b5/pandas-1.5.3-cp311-cp311-win_amd64.whl.metadata\n",
      "  Downloading pandas-1.5.3-cp311-cp311-win_amd64.whl.metadata (12 kB)\n",
      "Collecting numpy==1.22.4 (from -r requirements.txt (line 2))\n",
      "  Downloading numpy-1.22.4.zip (11.5 MB)\n",
      "     ---------------------------------------- 0.0/11.5 MB ? eta -:--:--\n",
      "     ---------------------------------------- 0.0/11.5 MB ? eta -:--:--\n",
      "     - -------------------------------------- 0.5/11.5 MB 7.6 MB/s eta 0:00:02\n",
      "     ----- ---------------------------------- 1.5/11.5 MB 13.9 MB/s eta 0:00:01\n",
      "     -------- ------------------------------- 2.4/11.5 MB 15.6 MB/s eta 0:00:01\n",
      "     ------------ --------------------------- 3.6/11.5 MB 17.8 MB/s eta 0:00:01\n",
      "     ----------------- ---------------------- 4.9/11.5 MB 19.6 MB/s eta 0:00:01\n",
      "     --------------------- ------------------ 6.2/11.5 MB 20.8 MB/s eta 0:00:01\n",
      "     -------------------------- ------------- 7.5/11.5 MB 21.6 MB/s eta 0:00:01\n",
      "     -------------------------------- ------- 9.3/11.5 MB 23.7 MB/s eta 0:00:01\n",
      "     ---------------------------------- ---- 10.1/11.5 MB 23.0 MB/s eta 0:00:01\n",
      "     ------------------------------------- - 11.2/11.5 MB 26.2 MB/s eta 0:00:01\n",
      "     --------------------------------------  11.5/11.5 MB 26.2 MB/s eta 0:00:01\n",
      "     --------------------------------------- 11.5/11.5 MB 24.2 MB/s eta 0:00:00\n",
      "  Installing build dependencies: started\n",
      "  Installing build dependencies: finished with status 'done'\n",
      "  Getting requirements to build wheel: started\n",
      "  Getting requirements to build wheel: finished with status 'done'\n",
      "  Preparing metadata (pyproject.toml): started\n",
      "  Preparing metadata (pyproject.toml): finished with status 'done'\n",
      "Collecting matplotlib==3.7.1 (from -r requirements.txt (line 3))\n",
      "  Obtaining dependency information for matplotlib==3.7.1 from https://files.pythonhosted.org/packages/fb/8c/391e3c105edb7e193bb163ed48988135228d0b5ce3143e1cbec2350e23c8/matplotlib-3.7.1-cp311-cp311-win_amd64.whl.metadata\n",
      "  Downloading matplotlib-3.7.1-cp311-cp311-win_amd64.whl.metadata (5.8 kB)\n",
      "Requirement already satisfied: seaborn==0.12.2 in c:\\users\\user\\anaconda3\\lib\\site-packages (from -r requirements.txt (line 4)) (0.12.2)\n",
      "Collecting xgboost==1.7.5 (from -r requirements.txt (line 5))\n",
      "  Obtaining dependency information for xgboost==1.7.5 from https://files.pythonhosted.org/packages/df/40/5549e83ce5c40c94e055de89b162d079fde811f6a076172673f72bdcfdfb/xgboost-1.7.5-py3-none-win_amd64.whl.metadata\n",
      "  Downloading xgboost-1.7.5-py3-none-win_amd64.whl.metadata (1.9 kB)\n",
      "Requirement already satisfied: python-dateutil>=2.8.1 in c:\\users\\user\\anaconda3\\lib\\site-packages (from pandas==1.5.3->-r requirements.txt (line 1)) (2.8.2)\n",
      "Requirement already satisfied: pytz>=2020.1 in c:\\users\\user\\anaconda3\\lib\\site-packages (from pandas==1.5.3->-r requirements.txt (line 1)) (2023.3.post1)\n",
      "INFO: pip is looking at multiple versions of pandas to determine which version is compatible with other requirements. This could take a while.\n",
      "\n",
      "The conflict is caused by:\n",
      "    The user requested numpy==1.22.4\n",
      "    pandas 1.5.3 depends on numpy>=1.21.0; python_version >= \"3.10\"\n",
      "    pandas 1.5.3 depends on numpy>=1.23.2; python_version >= \"3.11\"\n",
      "\n",
      "To fix this you could try to:\n",
      "1. loosen the range of package versions you've specified\n",
      "2. remove package versions to allow pip attempt to solve the dependency conflict\n",
      "\n"
     ]
    },
    {
     "name": "stderr",
     "output_type": "stream",
     "text": [
      "ERROR: Cannot install -r requirements.txt (line 1) and numpy==1.22.4 because these package versions have conflicting dependencies.\n",
      "ERROR: ResolutionImpossible: for help visit https://pip.pypa.io/en/latest/topics/dependency-resolution/#dealing-with-dependency-conflicts\n"
     ]
    }
   ],
   "source": [
    "# !pip install -r requirements.txt"
   ]
  },
  {
   "cell_type": "markdown",
   "metadata": {
    "id": "V1NvAw4CwcDh"
   },
   "source": [
    "#### 2) 라이브러리 로딩"
   ]
  },
  {
   "cell_type": "code",
   "execution_count": 5,
   "metadata": {
    "executionInfo": {
     "elapsed": 1587,
     "status": "ok",
     "timestamp": 1682642920627,
     "user": {
      "displayName": "한기영",
      "userId": "13049187003176135487"
     },
     "user_tz": -540
    },
    "id": "QF5vlqOJzyvV",
    "tags": []
   },
   "outputs": [],
   "source": [
    "import pandas as pd\n",
    "import numpy as np\n",
    "import matplotlib.pyplot as plt\n",
    "import seaborn as sns\n",
    "\n",
    "import joblib\n",
    "\n",
    "# 더 필요한 라이브러리를 아래에 추가합니다.\n",
    "\n"
   ]
  },
  {
   "cell_type": "markdown",
   "metadata": {
    "id": "wsLDv9tZc_i1"
   },
   "source": [
    "### (3) 데이터 불러오기\n",
    "* 주어진 데이터셋\n",
    "    * 장애인 콜택시 운행 정보 : open_data.csv\n",
    "    * 날씨 데이터 : weather.csv"
   ]
  },
  {
   "cell_type": "markdown",
   "metadata": {
    "id": "GH3ApIzofYPb"
   },
   "source": [
    "#### 1) 데이터로딩"
   ]
  },
  {
   "cell_type": "code",
   "execution_count": 6,
   "metadata": {
    "executionInfo": {
     "elapsed": 9,
     "status": "ok",
     "timestamp": 1682642921546,
     "user": {
      "displayName": "한기영",
      "userId": "13049187003176135487"
     },
     "user_tz": -540
    },
    "id": "FT_JFnclfcQ4",
    "tags": []
   },
   "outputs": [],
   "source": [
    "# 아래에 실습코드를 작성하고 결과를 확인합니다.\n",
    "wt_data = pd.read_csv('./weather.csv')\n",
    "taxi_data = pd.read_csv('./open_data.csv')"
   ]
  },
  {
   "cell_type": "code",
   "execution_count": 7,
   "metadata": {
    "colab": {
     "base_uri": "https://localhost:8080/",
     "height": 423
    },
    "executionInfo": {
     "elapsed": 336,
     "status": "ok",
     "timestamp": 1682643012931,
     "user": {
      "displayName": "한기영",
      "userId": "13049187003176135487"
     },
     "user_tz": -540
    },
    "id": "ZpMoNMpcQoQ5",
    "outputId": "69c23dbe-adac-4ee6-edd5-18e8da865be0",
    "tags": []
   },
   "outputs": [
    {
     "data": {
      "text/html": [
       "<div>\n",
       "<style scoped>\n",
       "    .dataframe tbody tr th:only-of-type {\n",
       "        vertical-align: middle;\n",
       "    }\n",
       "\n",
       "    .dataframe tbody tr th {\n",
       "        vertical-align: top;\n",
       "    }\n",
       "\n",
       "    .dataframe thead th {\n",
       "        text-align: right;\n",
       "    }\n",
       "</style>\n",
       "<table border=\"1\" class=\"dataframe\">\n",
       "  <thead>\n",
       "    <tr style=\"text-align: right;\">\n",
       "      <th></th>\n",
       "      <th>Date</th>\n",
       "      <th>temp_max</th>\n",
       "      <th>temp_min</th>\n",
       "      <th>rain(mm)</th>\n",
       "      <th>humidity_max(%)</th>\n",
       "      <th>humidity_min(%)</th>\n",
       "      <th>sunshine(MJ/m2)</th>\n",
       "    </tr>\n",
       "  </thead>\n",
       "  <tbody>\n",
       "    <tr>\n",
       "      <th>0</th>\n",
       "      <td>2012-01-01</td>\n",
       "      <td>0.4</td>\n",
       "      <td>-6.6</td>\n",
       "      <td>0.0</td>\n",
       "      <td>77.0</td>\n",
       "      <td>45.0</td>\n",
       "      <td>4.90</td>\n",
       "    </tr>\n",
       "    <tr>\n",
       "      <th>1</th>\n",
       "      <td>2012-01-02</td>\n",
       "      <td>-1.2</td>\n",
       "      <td>-8.3</td>\n",
       "      <td>0.0</td>\n",
       "      <td>80.0</td>\n",
       "      <td>48.0</td>\n",
       "      <td>6.16</td>\n",
       "    </tr>\n",
       "  </tbody>\n",
       "</table>\n",
       "</div>"
      ],
      "text/plain": [
       "         Date  temp_max  temp_min  rain(mm)  humidity_max(%)  humidity_min(%)  \\\n",
       "0  2012-01-01       0.4      -6.6       0.0             77.0             45.0   \n",
       "1  2012-01-02      -1.2      -8.3       0.0             80.0             48.0   \n",
       "\n",
       "   sunshine(MJ/m2)  \n",
       "0             4.90  \n",
       "1             6.16  "
      ]
     },
     "metadata": {},
     "output_type": "display_data"
    },
    {
     "data": {
      "text/html": [
       "<div>\n",
       "<style scoped>\n",
       "    .dataframe tbody tr th:only-of-type {\n",
       "        vertical-align: middle;\n",
       "    }\n",
       "\n",
       "    .dataframe tbody tr th {\n",
       "        vertical-align: top;\n",
       "    }\n",
       "\n",
       "    .dataframe thead th {\n",
       "        text-align: right;\n",
       "    }\n",
       "</style>\n",
       "<table border=\"1\" class=\"dataframe\">\n",
       "  <thead>\n",
       "    <tr style=\"text-align: right;\">\n",
       "      <th></th>\n",
       "      <th>기준일</th>\n",
       "      <th>차량운행</th>\n",
       "      <th>접수건</th>\n",
       "      <th>탑승건</th>\n",
       "      <th>평균대기시간</th>\n",
       "      <th>평균요금</th>\n",
       "      <th>평균승차거리</th>\n",
       "    </tr>\n",
       "  </thead>\n",
       "  <tbody>\n",
       "    <tr>\n",
       "      <th>0</th>\n",
       "      <td>2015-01-01</td>\n",
       "      <td>213</td>\n",
       "      <td>1023</td>\n",
       "      <td>924</td>\n",
       "      <td>23.2</td>\n",
       "      <td>2427</td>\n",
       "      <td>10764</td>\n",
       "    </tr>\n",
       "    <tr>\n",
       "      <th>1</th>\n",
       "      <td>2015-01-02</td>\n",
       "      <td>420</td>\n",
       "      <td>3158</td>\n",
       "      <td>2839</td>\n",
       "      <td>17.2</td>\n",
       "      <td>2216</td>\n",
       "      <td>8611</td>\n",
       "    </tr>\n",
       "  </tbody>\n",
       "</table>\n",
       "</div>"
      ],
      "text/plain": [
       "          기준일  차량운행   접수건   탑승건  평균대기시간  평균요금  평균승차거리\n",
       "0  2015-01-01   213  1023   924    23.2  2427   10764\n",
       "1  2015-01-02   420  3158  2839    17.2  2216    8611"
      ]
     },
     "metadata": {},
     "output_type": "display_data"
    }
   ],
   "source": [
    "# 아래에 실습코드를 작성하고 결과를 확인합니다.\n",
    "display(wt_data.head(2))\n",
    "display(taxi_data.head(2))"
   ]
  },
  {
   "cell_type": "markdown",
   "metadata": {
    "id": "ueRYWzcto1x8"
   },
   "source": [
    "#### 2) 기본 정보 조회"
   ]
  },
  {
   "cell_type": "code",
   "execution_count": 8,
   "metadata": {
    "colab": {
     "base_uri": "https://localhost:8080/"
    },
    "executionInfo": {
     "elapsed": 529,
     "status": "ok",
     "timestamp": 1682643014155,
     "user": {
      "displayName": "한기영",
      "userId": "13049187003176135487"
     },
     "user_tz": -540
    },
    "id": "ohfA--UBxczp",
    "outputId": "b12a7804-c1ae-4826-9c32-875f2eb36e47",
    "tags": []
   },
   "outputs": [
    {
     "data": {
      "text/plain": [
       "(4018, 7)"
      ]
     },
     "execution_count": 8,
     "metadata": {},
     "output_type": "execute_result"
    }
   ],
   "source": [
    "# 아래에 실습코드를 작성하고 결과를 확인합니다.\n",
    "# 전체 데이터의 행,열 개수 확인\n",
    "wt_data.shape"
   ]
  },
  {
   "cell_type": "code",
   "execution_count": 9,
   "metadata": {
    "colab": {
     "base_uri": "https://localhost:8080/"
    },
    "executionInfo": {
     "elapsed": 30,
     "status": "ok",
     "timestamp": 1682643014157,
     "user": {
      "displayName": "한기영",
      "userId": "13049187003176135487"
     },
     "user_tz": -540
    },
    "id": "4ykFk03LpEk2",
    "outputId": "a5339d95-e5e7-4d23-cb5c-6b483a2509b2",
    "tags": []
   },
   "outputs": [
    {
     "data": {
      "text/plain": [
       "(2922, 7)"
      ]
     },
     "execution_count": 9,
     "metadata": {},
     "output_type": "execute_result"
    }
   ],
   "source": [
    "# 아래에 실습코드를 작성하고 결과를 확인합니다.\n",
    "# 전체 데이터의 모든 변수 확인\n",
    "taxi_data.shape"
   ]
  },
  {
   "cell_type": "markdown",
   "metadata": {
    "id": "n0VtxEINgi2V"
   },
   "source": [
    "#### 3) 칼럼이름을 영어로 변경\n",
    "* 꼭 필요한 작업은 아니지만, 데이터를 편리하게 다루고 차트에서 불필요한 경고메시지를 띄우지 않게 하기 위해 영문으로 변경하기를 권장합니다.\n"
   ]
  },
  {
   "cell_type": "code",
   "execution_count": 10,
   "metadata": {
    "tags": []
   },
   "outputs": [
    {
     "data": {
      "text/plain": [
       "Index(['기준일', '차량운행', '접수건', '탑승건', '평균대기시간', '평균요금', '평균승차거리'], dtype='object')"
      ]
     },
     "execution_count": 10,
     "metadata": {},
     "output_type": "execute_result"
    }
   ],
   "source": [
    "taxi_data.columns"
   ]
  },
  {
   "cell_type": "code",
   "execution_count": 11,
   "metadata": {
    "colab": {
     "base_uri": "https://localhost:8080/",
     "height": 423
    },
    "executionInfo": {
     "elapsed": 28,
     "status": "ok",
     "timestamp": 1682643014158,
     "user": {
      "displayName": "한기영",
      "userId": "13049187003176135487"
     },
     "user_tz": -540
    },
    "id": "Az4HVmSagn0I",
    "outputId": "14a9e7b6-75c2-48de-c5af-066d3bf5a035",
    "tags": []
   },
   "outputs": [
    {
     "data": {
      "text/html": [
       "<div>\n",
       "<style scoped>\n",
       "    .dataframe tbody tr th:only-of-type {\n",
       "        vertical-align: middle;\n",
       "    }\n",
       "\n",
       "    .dataframe tbody tr th {\n",
       "        vertical-align: top;\n",
       "    }\n",
       "\n",
       "    .dataframe thead th {\n",
       "        text-align: right;\n",
       "    }\n",
       "</style>\n",
       "<table border=\"1\" class=\"dataframe\">\n",
       "  <thead>\n",
       "    <tr style=\"text-align: right;\">\n",
       "      <th></th>\n",
       "      <th>Date</th>\n",
       "      <th>taxi_num</th>\n",
       "      <th>call_num</th>\n",
       "      <th>success</th>\n",
       "      <th>mean_time</th>\n",
       "      <th>mean_fee</th>\n",
       "      <th>mean_dit</th>\n",
       "    </tr>\n",
       "  </thead>\n",
       "  <tbody>\n",
       "    <tr>\n",
       "      <th>0</th>\n",
       "      <td>2015-01-01</td>\n",
       "      <td>213</td>\n",
       "      <td>1023</td>\n",
       "      <td>924</td>\n",
       "      <td>23.2</td>\n",
       "      <td>2427</td>\n",
       "      <td>10764</td>\n",
       "    </tr>\n",
       "    <tr>\n",
       "      <th>1</th>\n",
       "      <td>2015-01-02</td>\n",
       "      <td>420</td>\n",
       "      <td>3158</td>\n",
       "      <td>2839</td>\n",
       "      <td>17.2</td>\n",
       "      <td>2216</td>\n",
       "      <td>8611</td>\n",
       "    </tr>\n",
       "  </tbody>\n",
       "</table>\n",
       "</div>"
      ],
      "text/plain": [
       "         Date  taxi_num  call_num  success  mean_time  mean_fee  mean_dit\n",
       "0  2015-01-01       213      1023      924       23.2      2427     10764\n",
       "1  2015-01-02       420      3158     2839       17.2      2216      8611"
      ]
     },
     "execution_count": 11,
     "metadata": {},
     "output_type": "execute_result"
    }
   ],
   "source": [
    "# 아래에 실습코드를 작성하고 결과를 확인합니다.\n",
    "col_names = ['Date', 'taxi_num', 'call_num', 'success', 'mean_time', 'mean_fee', 'mean_dit']\n",
    "taxi_data.columns = col_names\n",
    "taxi_data.head(2)"
   ]
  },
  {
   "cell_type": "markdown",
   "metadata": {
    "id": "vYhLUoRxRSEQ"
   },
   "source": [
    "## 2.데이터 기본 탐색\n",
    "\n",
    "* **세부요구사항**\n",
    "    * 날짜 요소에 따라 각 정보의 패턴을 조회 합니다.\n",
    "        * 일별, 요일별, 주차별, 월별, 연도별\n",
    "        * 접수건, 탑승건, 거리, 요금, 대기시간 등\n",
    "    * 제시된 범위 외에 가능하다면 추가 탐색을 시도합니다."
   ]
  },
  {
   "cell_type": "markdown",
   "metadata": {
    "id": "vY_rPCK5pH-s"
   },
   "source": [
    "### (1) 주기별 분석을 위해서 날짜 변수 추가하기\n",
    "* data를 복사합니다.\n",
    "* 복사한 df에 요일, 주차, 월, 연도 등을 추가합니다."
   ]
  },
  {
   "cell_type": "code",
   "execution_count": 13,
   "metadata": {
    "executionInfo": {
     "elapsed": 28,
     "status": "ok",
     "timestamp": 1682643014160,
     "user": {
      "displayName": "한기영",
      "userId": "13049187003176135487"
     },
     "user_tz": -540
    },
    "id": "2oGkF12Ape-T",
    "tags": []
   },
   "outputs": [],
   "source": [
    "# 아래에 실습코드를 작성하고 결과를 확인합니다.\n",
    "# taxi_copy = taxi_data.copy()"
   ]
  },
  {
   "cell_type": "code",
   "execution_count": 14,
   "metadata": {
    "colab": {
     "base_uri": "https://localhost:8080/",
     "height": 262
    },
    "executionInfo": {
     "elapsed": 28,
     "status": "ok",
     "timestamp": 1682643014161,
     "user": {
      "displayName": "한기영",
      "userId": "13049187003176135487"
     },
     "user_tz": -540
    },
    "id": "8DbYHJNiplGu",
    "outputId": "a6f7fec0-f935-4f96-8b2e-ff73abb58fb1",
    "tags": []
   },
   "outputs": [
    {
     "data": {
      "text/html": [
       "<div>\n",
       "<style scoped>\n",
       "    .dataframe tbody tr th:only-of-type {\n",
       "        vertical-align: middle;\n",
       "    }\n",
       "\n",
       "    .dataframe tbody tr th {\n",
       "        vertical-align: top;\n",
       "    }\n",
       "\n",
       "    .dataframe thead th {\n",
       "        text-align: right;\n",
       "    }\n",
       "</style>\n",
       "<table border=\"1\" class=\"dataframe\">\n",
       "  <thead>\n",
       "    <tr style=\"text-align: right;\">\n",
       "      <th></th>\n",
       "      <th>taxi_num</th>\n",
       "      <th>call_num</th>\n",
       "      <th>success</th>\n",
       "      <th>mean_time</th>\n",
       "      <th>mean_fee</th>\n",
       "      <th>mean_dit</th>\n",
       "    </tr>\n",
       "  </thead>\n",
       "  <tbody>\n",
       "    <tr>\n",
       "      <th>count</th>\n",
       "      <td>2922.000000</td>\n",
       "      <td>2922.000000</td>\n",
       "      <td>2922.000000</td>\n",
       "      <td>2922.000000</td>\n",
       "      <td>2922.000000</td>\n",
       "      <td>2922.000000</td>\n",
       "    </tr>\n",
       "    <tr>\n",
       "      <th>mean</th>\n",
       "      <td>418.701916</td>\n",
       "      <td>3925.607803</td>\n",
       "      <td>3283.895277</td>\n",
       "      <td>40.305681</td>\n",
       "      <td>2304.272416</td>\n",
       "      <td>9253.500000</td>\n",
       "    </tr>\n",
       "    <tr>\n",
       "      <th>std</th>\n",
       "      <td>133.755162</td>\n",
       "      <td>1509.741713</td>\n",
       "      <td>1249.165876</td>\n",
       "      <td>14.098550</td>\n",
       "      <td>107.260080</td>\n",
       "      <td>1019.198152</td>\n",
       "    </tr>\n",
       "    <tr>\n",
       "      <th>min</th>\n",
       "      <td>132.000000</td>\n",
       "      <td>527.000000</td>\n",
       "      <td>462.000000</td>\n",
       "      <td>17.200000</td>\n",
       "      <td>2131.000000</td>\n",
       "      <td>7672.000000</td>\n",
       "    </tr>\n",
       "    <tr>\n",
       "      <th>25%</th>\n",
       "      <td>278.000000</td>\n",
       "      <td>2162.500000</td>\n",
       "      <td>1779.000000</td>\n",
       "      <td>29.600000</td>\n",
       "      <td>2228.000000</td>\n",
       "      <td>8521.000000</td>\n",
       "    </tr>\n",
       "    <tr>\n",
       "      <th>50%</th>\n",
       "      <td>454.000000</td>\n",
       "      <td>4720.500000</td>\n",
       "      <td>3932.500000</td>\n",
       "      <td>38.200000</td>\n",
       "      <td>2257.000000</td>\n",
       "      <td>8821.500000</td>\n",
       "    </tr>\n",
       "    <tr>\n",
       "      <th>75%</th>\n",
       "      <td>522.000000</td>\n",
       "      <td>5110.000000</td>\n",
       "      <td>4241.000000</td>\n",
       "      <td>48.600000</td>\n",
       "      <td>2400.750000</td>\n",
       "      <td>10153.000000</td>\n",
       "    </tr>\n",
       "    <tr>\n",
       "      <th>max</th>\n",
       "      <td>1413.000000</td>\n",
       "      <td>6182.000000</td>\n",
       "      <td>5189.000000</td>\n",
       "      <td>96.100000</td>\n",
       "      <td>2733.000000</td>\n",
       "      <td>14136.000000</td>\n",
       "    </tr>\n",
       "  </tbody>\n",
       "</table>\n",
       "</div>"
      ],
      "text/plain": [
       "          taxi_num     call_num      success    mean_time     mean_fee  \\\n",
       "count  2922.000000  2922.000000  2922.000000  2922.000000  2922.000000   \n",
       "mean    418.701916  3925.607803  3283.895277    40.305681  2304.272416   \n",
       "std     133.755162  1509.741713  1249.165876    14.098550   107.260080   \n",
       "min     132.000000   527.000000   462.000000    17.200000  2131.000000   \n",
       "25%     278.000000  2162.500000  1779.000000    29.600000  2228.000000   \n",
       "50%     454.000000  4720.500000  3932.500000    38.200000  2257.000000   \n",
       "75%     522.000000  5110.000000  4241.000000    48.600000  2400.750000   \n",
       "max    1413.000000  6182.000000  5189.000000    96.100000  2733.000000   \n",
       "\n",
       "           mean_dit  \n",
       "count   2922.000000  \n",
       "mean    9253.500000  \n",
       "std     1019.198152  \n",
       "min     7672.000000  \n",
       "25%     8521.000000  \n",
       "50%     8821.500000  \n",
       "75%    10153.000000  \n",
       "max    14136.000000  "
      ]
     },
     "execution_count": 14,
     "metadata": {},
     "output_type": "execute_result"
    }
   ],
   "source": [
    "taxi_data.describe()"
   ]
  },
  {
   "cell_type": "code",
   "execution_count": 17,
   "metadata": {
    "tags": []
   },
   "outputs": [
    {
     "name": "stdout",
     "output_type": "stream",
     "text": [
      "<class 'pandas.core.frame.DataFrame'>\n",
      "RangeIndex: 2922 entries, 0 to 2921\n",
      "Data columns (total 7 columns):\n",
      " #   Column     Non-Null Count  Dtype  \n",
      "---  ------     --------------  -----  \n",
      " 0   Date       2922 non-null   object \n",
      " 1   taxi_num   2922 non-null   int64  \n",
      " 2   call_num   2922 non-null   int64  \n",
      " 3   success    2922 non-null   int64  \n",
      " 4   mean_time  2922 non-null   float64\n",
      " 5   mean_fee   2922 non-null   int64  \n",
      " 6   mean_dit   2922 non-null   int64  \n",
      "dtypes: float64(1), int64(5), object(1)\n",
      "memory usage: 159.9+ KB\n"
     ]
    }
   ],
   "source": [
    "taxi_data.info()"
   ]
  },
  {
   "cell_type": "code",
   "execution_count": 23,
   "metadata": {
    "collapsed": true,
    "jupyter": {
     "outputs_hidden": true
    },
    "tags": []
   },
   "outputs": [
    {
     "name": "stdout",
     "output_type": "stream",
     "text": [
      "Help on function to_datetime in module pandas.core.tools.datetimes:\n",
      "\n",
      "to_datetime(arg: 'DatetimeScalarOrArrayConvertible | DictConvertible', errors: 'DateTimeErrorChoices' = 'raise', dayfirst: 'bool' = False, yearfirst: 'bool' = False, utc: 'bool' = False, format: 'str | None' = None, exact: 'bool | lib.NoDefault' = <no_default>, unit: 'str | None' = None, infer_datetime_format: 'lib.NoDefault | bool' = <no_default>, origin: 'str' = 'unix', cache: 'bool' = True) -> 'DatetimeIndex | Series | DatetimeScalar | NaTType | None'\n",
      "    Convert argument to datetime.\n",
      "    \n",
      "    This function converts a scalar, array-like, :class:`Series` or\n",
      "    :class:`DataFrame`/dict-like to a pandas datetime object.\n",
      "    \n",
      "    Parameters\n",
      "    ----------\n",
      "    arg : int, float, str, datetime, list, tuple, 1-d array, Series, DataFrame/dict-like\n",
      "        The object to convert to a datetime. If a :class:`DataFrame` is provided, the\n",
      "        method expects minimally the following columns: :const:`\"year\"`,\n",
      "        :const:`\"month\"`, :const:`\"day\"`.\n",
      "    errors : {'ignore', 'raise', 'coerce'}, default 'raise'\n",
      "        - If :const:`'raise'`, then invalid parsing will raise an exception.\n",
      "        - If :const:`'coerce'`, then invalid parsing will be set as :const:`NaT`.\n",
      "        - If :const:`'ignore'`, then invalid parsing will return the input.\n",
      "    dayfirst : bool, default False\n",
      "        Specify a date parse order if `arg` is str or is list-like.\n",
      "        If :const:`True`, parses dates with the day first, e.g. :const:`\"10/11/12\"`\n",
      "        is parsed as :const:`2012-11-10`.\n",
      "    \n",
      "        .. warning::\n",
      "    \n",
      "            ``dayfirst=True`` is not strict, but will prefer to parse\n",
      "            with day first.\n",
      "    \n",
      "    yearfirst : bool, default False\n",
      "        Specify a date parse order if `arg` is str or is list-like.\n",
      "    \n",
      "        - If :const:`True` parses dates with the year first, e.g.\n",
      "          :const:`\"10/11/12\"` is parsed as :const:`2010-11-12`.\n",
      "        - If both `dayfirst` and `yearfirst` are :const:`True`, `yearfirst` is\n",
      "          preceded (same as :mod:`dateutil`).\n",
      "    \n",
      "        .. warning::\n",
      "    \n",
      "            ``yearfirst=True`` is not strict, but will prefer to parse\n",
      "            with year first.\n",
      "    \n",
      "    utc : bool, default False\n",
      "        Control timezone-related parsing, localization and conversion.\n",
      "    \n",
      "        - If :const:`True`, the function *always* returns a timezone-aware\n",
      "          UTC-localized :class:`Timestamp`, :class:`Series` or\n",
      "          :class:`DatetimeIndex`. To do this, timezone-naive inputs are\n",
      "          *localized* as UTC, while timezone-aware inputs are *converted* to UTC.\n",
      "    \n",
      "        - If :const:`False` (default), inputs will not be coerced to UTC.\n",
      "          Timezone-naive inputs will remain naive, while timezone-aware ones\n",
      "          will keep their time offsets. Limitations exist for mixed\n",
      "          offsets (typically, daylight savings), see :ref:`Examples\n",
      "          <to_datetime_tz_examples>` section for details.\n",
      "    \n",
      "        See also: pandas general documentation about `timezone conversion and\n",
      "        localization\n",
      "        <https://pandas.pydata.org/pandas-docs/stable/user_guide/timeseries.html\n",
      "        #time-zone-handling>`_.\n",
      "    \n",
      "    format : str, default None\n",
      "        The strftime to parse time, e.g. :const:`\"%d/%m/%Y\"`. See\n",
      "        `strftime documentation\n",
      "        <https://docs.python.org/3/library/datetime.html\n",
      "        #strftime-and-strptime-behavior>`_ for more information on choices, though\n",
      "        note that :const:`\"%f\"` will parse all the way up to nanoseconds.\n",
      "        You can also pass:\n",
      "    \n",
      "        - \"ISO8601\", to parse any `ISO8601 <https://en.wikipedia.org/wiki/ISO_8601>`_\n",
      "          time string (not necessarily in exactly the same format);\n",
      "        - \"mixed\", to infer the format for each element individually. This is risky,\n",
      "          and you should probably use it along with `dayfirst`.\n",
      "    exact : bool, default True\n",
      "        Control how `format` is used:\n",
      "    \n",
      "        - If :const:`True`, require an exact `format` match.\n",
      "        - If :const:`False`, allow the `format` to match anywhere in the target\n",
      "          string.\n",
      "    \n",
      "        Cannot be used alongside ``format='ISO8601'`` or ``format='mixed'``.\n",
      "    unit : str, default 'ns'\n",
      "        The unit of the arg (D,s,ms,us,ns) denote the unit, which is an\n",
      "        integer or float number. This will be based off the origin.\n",
      "        Example, with ``unit='ms'`` and ``origin='unix'``, this would calculate\n",
      "        the number of milliseconds to the unix epoch start.\n",
      "    infer_datetime_format : bool, default False\n",
      "        If :const:`True` and no `format` is given, attempt to infer the format\n",
      "        of the datetime strings based on the first non-NaN element,\n",
      "        and if it can be inferred, switch to a faster method of parsing them.\n",
      "        In some cases this can increase the parsing speed by ~5-10x.\n",
      "    \n",
      "        .. deprecated:: 2.0.0\n",
      "            A strict version of this argument is now the default, passing it has\n",
      "            no effect.\n",
      "    \n",
      "    origin : scalar, default 'unix'\n",
      "        Define the reference date. The numeric values would be parsed as number\n",
      "        of units (defined by `unit`) since this reference date.\n",
      "    \n",
      "        - If :const:`'unix'` (or POSIX) time; origin is set to 1970-01-01.\n",
      "        - If :const:`'julian'`, unit must be :const:`'D'`, and origin is set to\n",
      "          beginning of Julian Calendar. Julian day number :const:`0` is assigned\n",
      "          to the day starting at noon on January 1, 4713 BC.\n",
      "        - If Timestamp convertible (Timestamp, dt.datetime, np.datetimt64 or date\n",
      "          string), origin is set to Timestamp identified by origin.\n",
      "        - If a float or integer, origin is the millisecond difference\n",
      "          relative to 1970-01-01.\n",
      "    cache : bool, default True\n",
      "        If :const:`True`, use a cache of unique, converted dates to apply the\n",
      "        datetime conversion. May produce significant speed-up when parsing\n",
      "        duplicate date strings, especially ones with timezone offsets. The cache\n",
      "        is only used when there are at least 50 values. The presence of\n",
      "        out-of-bounds values will render the cache unusable and may slow down\n",
      "        parsing.\n",
      "    \n",
      "    Returns\n",
      "    -------\n",
      "    datetime\n",
      "        If parsing succeeded.\n",
      "        Return type depends on input (types in parenthesis correspond to\n",
      "        fallback in case of unsuccessful timezone or out-of-range timestamp\n",
      "        parsing):\n",
      "    \n",
      "        - scalar: :class:`Timestamp` (or :class:`datetime.datetime`)\n",
      "        - array-like: :class:`DatetimeIndex` (or :class:`Series` with\n",
      "          :class:`object` dtype containing :class:`datetime.datetime`)\n",
      "        - Series: :class:`Series` of :class:`datetime64` dtype (or\n",
      "          :class:`Series` of :class:`object` dtype containing\n",
      "          :class:`datetime.datetime`)\n",
      "        - DataFrame: :class:`Series` of :class:`datetime64` dtype (or\n",
      "          :class:`Series` of :class:`object` dtype containing\n",
      "          :class:`datetime.datetime`)\n",
      "    \n",
      "    Raises\n",
      "    ------\n",
      "    ParserError\n",
      "        When parsing a date from string fails.\n",
      "    ValueError\n",
      "        When another datetime conversion error happens. For example when one\n",
      "        of 'year', 'month', day' columns is missing in a :class:`DataFrame`, or\n",
      "        when a Timezone-aware :class:`datetime.datetime` is found in an array-like\n",
      "        of mixed time offsets, and ``utc=False``.\n",
      "    \n",
      "    See Also\n",
      "    --------\n",
      "    DataFrame.astype : Cast argument to a specified dtype.\n",
      "    to_timedelta : Convert argument to timedelta.\n",
      "    convert_dtypes : Convert dtypes.\n",
      "    \n",
      "    Notes\n",
      "    -----\n",
      "    \n",
      "    Many input types are supported, and lead to different output types:\n",
      "    \n",
      "    - **scalars** can be int, float, str, datetime object (from stdlib :mod:`datetime`\n",
      "      module or :mod:`numpy`). They are converted to :class:`Timestamp` when\n",
      "      possible, otherwise they are converted to :class:`datetime.datetime`.\n",
      "      None/NaN/null scalars are converted to :const:`NaT`.\n",
      "    \n",
      "    - **array-like** can contain int, float, str, datetime objects. They are\n",
      "      converted to :class:`DatetimeIndex` when possible, otherwise they are\n",
      "      converted to :class:`Index` with :class:`object` dtype, containing\n",
      "      :class:`datetime.datetime`. None/NaN/null entries are converted to\n",
      "      :const:`NaT` in both cases.\n",
      "    \n",
      "    - **Series** are converted to :class:`Series` with :class:`datetime64`\n",
      "      dtype when possible, otherwise they are converted to :class:`Series` with\n",
      "      :class:`object` dtype, containing :class:`datetime.datetime`. None/NaN/null\n",
      "      entries are converted to :const:`NaT` in both cases.\n",
      "    \n",
      "    - **DataFrame/dict-like** are converted to :class:`Series` with\n",
      "      :class:`datetime64` dtype. For each row a datetime is created from assembling\n",
      "      the various dataframe columns. Column keys can be common abbreviations\n",
      "      like [‘year’, ‘month’, ‘day’, ‘minute’, ‘second’, ‘ms’, ‘us’, ‘ns’]) or\n",
      "      plurals of the same.\n",
      "    \n",
      "    The following causes are responsible for :class:`datetime.datetime` objects\n",
      "    being returned (possibly inside an :class:`Index` or a :class:`Series` with\n",
      "    :class:`object` dtype) instead of a proper pandas designated type\n",
      "    (:class:`Timestamp`, :class:`DatetimeIndex` or :class:`Series`\n",
      "    with :class:`datetime64` dtype):\n",
      "    \n",
      "    - when any input element is before :const:`Timestamp.min` or after\n",
      "      :const:`Timestamp.max`, see `timestamp limitations\n",
      "      <https://pandas.pydata.org/pandas-docs/stable/user_guide/timeseries.html\n",
      "      #timeseries-timestamp-limits>`_.\n",
      "    \n",
      "    - when ``utc=False`` (default) and the input is an array-like or\n",
      "      :class:`Series` containing mixed naive/aware datetime, or aware with mixed\n",
      "      time offsets. Note that this happens in the (quite frequent) situation when\n",
      "      the timezone has a daylight savings policy. In that case you may wish to\n",
      "      use ``utc=True``.\n",
      "    \n",
      "    Examples\n",
      "    --------\n",
      "    \n",
      "    **Handling various input formats**\n",
      "    \n",
      "    Assembling a datetime from multiple columns of a :class:`DataFrame`. The keys\n",
      "    can be common abbreviations like ['year', 'month', 'day', 'minute', 'second',\n",
      "    'ms', 'us', 'ns']) or plurals of the same\n",
      "    \n",
      "    >>> df = pd.DataFrame({'year': [2015, 2016],\n",
      "    ...                    'month': [2, 3],\n",
      "    ...                    'day': [4, 5]})\n",
      "    >>> pd.to_datetime(df)\n",
      "    0   2015-02-04\n",
      "    1   2016-03-05\n",
      "    dtype: datetime64[ns]\n",
      "    \n",
      "    Using a unix epoch time\n",
      "    \n",
      "    >>> pd.to_datetime(1490195805, unit='s')\n",
      "    Timestamp('2017-03-22 15:16:45')\n",
      "    >>> pd.to_datetime(1490195805433502912, unit='ns')\n",
      "    Timestamp('2017-03-22 15:16:45.433502912')\n",
      "    \n",
      "    .. warning:: For float arg, precision rounding might happen. To prevent\n",
      "        unexpected behavior use a fixed-width exact type.\n",
      "    \n",
      "    Using a non-unix epoch origin\n",
      "    \n",
      "    >>> pd.to_datetime([1, 2, 3], unit='D',\n",
      "    ...                origin=pd.Timestamp('1960-01-01'))\n",
      "    DatetimeIndex(['1960-01-02', '1960-01-03', '1960-01-04'],\n",
      "                  dtype='datetime64[ns]', freq=None)\n",
      "    \n",
      "    **Differences with strptime behavior**\n",
      "    \n",
      "    :const:`\"%f\"` will parse all the way up to nanoseconds.\n",
      "    \n",
      "    >>> pd.to_datetime('2018-10-26 12:00:00.0000000011',\n",
      "    ...                format='%Y-%m-%d %H:%M:%S.%f')\n",
      "    Timestamp('2018-10-26 12:00:00.000000001')\n",
      "    \n",
      "    **Non-convertible date/times**\n",
      "    \n",
      "    If a date does not meet the `timestamp limitations\n",
      "    <https://pandas.pydata.org/pandas-docs/stable/user_guide/timeseries.html\n",
      "    #timeseries-timestamp-limits>`_, passing ``errors='ignore'``\n",
      "    will return the original input instead of raising any exception.\n",
      "    \n",
      "    Passing ``errors='coerce'`` will force an out-of-bounds date to :const:`NaT`,\n",
      "    in addition to forcing non-dates (or non-parseable dates) to :const:`NaT`.\n",
      "    \n",
      "    >>> pd.to_datetime('13000101', format='%Y%m%d', errors='ignore')\n",
      "    '13000101'\n",
      "    >>> pd.to_datetime('13000101', format='%Y%m%d', errors='coerce')\n",
      "    NaT\n",
      "    \n",
      "    .. _to_datetime_tz_examples:\n",
      "    \n",
      "    **Timezones and time offsets**\n",
      "    \n",
      "    The default behaviour (``utc=False``) is as follows:\n",
      "    \n",
      "    - Timezone-naive inputs are converted to timezone-naive :class:`DatetimeIndex`:\n",
      "    \n",
      "    >>> pd.to_datetime(['2018-10-26 12:00:00', '2018-10-26 13:00:15'])\n",
      "    DatetimeIndex(['2018-10-26 12:00:00', '2018-10-26 13:00:15'],\n",
      "                  dtype='datetime64[ns]', freq=None)\n",
      "    \n",
      "    - Timezone-aware inputs *with constant time offset* are converted to\n",
      "      timezone-aware :class:`DatetimeIndex`:\n",
      "    \n",
      "    >>> pd.to_datetime(['2018-10-26 12:00 -0500', '2018-10-26 13:00 -0500'])\n",
      "    DatetimeIndex(['2018-10-26 12:00:00-05:00', '2018-10-26 13:00:00-05:00'],\n",
      "                  dtype='datetime64[ns, UTC-05:00]', freq=None)\n",
      "    \n",
      "    - However, timezone-aware inputs *with mixed time offsets* (for example\n",
      "      issued from a timezone with daylight savings, such as Europe/Paris)\n",
      "      are **not successfully converted** to a :class:`DatetimeIndex`. Instead a\n",
      "      simple :class:`Index` containing :class:`datetime.datetime` objects is\n",
      "      returned:\n",
      "    \n",
      "    >>> pd.to_datetime(['2020-10-25 02:00 +0200', '2020-10-25 04:00 +0100'])\n",
      "    Index([2020-10-25 02:00:00+02:00, 2020-10-25 04:00:00+01:00],\n",
      "          dtype='object')\n",
      "    \n",
      "    - A mix of timezone-aware and timezone-naive inputs is also converted to\n",
      "      a simple :class:`Index` containing :class:`datetime.datetime` objects:\n",
      "    \n",
      "    >>> from datetime import datetime\n",
      "    >>> pd.to_datetime([\"2020-01-01 01:00:00-01:00\", datetime(2020, 1, 1, 3, 0)])\n",
      "    Index([2020-01-01 01:00:00-01:00, 2020-01-01 03:00:00], dtype='object')\n",
      "    \n",
      "    |\n",
      "    \n",
      "    Setting ``utc=True`` solves most of the above issues:\n",
      "    \n",
      "    - Timezone-naive inputs are *localized* as UTC\n",
      "    \n",
      "    >>> pd.to_datetime(['2018-10-26 12:00', '2018-10-26 13:00'], utc=True)\n",
      "    DatetimeIndex(['2018-10-26 12:00:00+00:00', '2018-10-26 13:00:00+00:00'],\n",
      "                  dtype='datetime64[ns, UTC]', freq=None)\n",
      "    \n",
      "    - Timezone-aware inputs are *converted* to UTC (the output represents the\n",
      "      exact same datetime, but viewed from the UTC time offset `+00:00`).\n",
      "    \n",
      "    >>> pd.to_datetime(['2018-10-26 12:00 -0530', '2018-10-26 12:00 -0500'],\n",
      "    ...                utc=True)\n",
      "    DatetimeIndex(['2018-10-26 17:30:00+00:00', '2018-10-26 17:00:00+00:00'],\n",
      "                  dtype='datetime64[ns, UTC]', freq=None)\n",
      "    \n",
      "    - Inputs can contain both string or datetime, the above\n",
      "      rules still apply\n",
      "    \n",
      "    >>> pd.to_datetime(['2018-10-26 12:00', datetime(2020, 1, 1, 18)], utc=True)\n",
      "    DatetimeIndex(['2018-10-26 12:00:00+00:00', '2020-01-01 18:00:00+00:00'],\n",
      "                  dtype='datetime64[ns, UTC]', freq=None)\n",
      "\n"
     ]
    }
   ],
   "source": [
    "# help(pd.to_datetime)"
   ]
  },
  {
   "cell_type": "code",
   "execution_count": 25,
   "metadata": {
    "tags": []
   },
   "outputs": [],
   "source": [
    "taxi_data['Date'] = pd.to_datetime(taxi_data['Date'])"
   ]
  },
  {
   "cell_type": "code",
   "execution_count": 40,
   "metadata": {
    "collapsed": true,
    "jupyter": {
     "outputs_hidden": true
    },
    "tags": []
   },
   "outputs": [
    {
     "data": {
      "text/plain": [
       "['__annotations__',\n",
       " '__class__',\n",
       " '__delattr__',\n",
       " '__dict__',\n",
       " '__dir__',\n",
       " '__doc__',\n",
       " '__eq__',\n",
       " '__format__',\n",
       " '__frozen',\n",
       " '__ge__',\n",
       " '__getattribute__',\n",
       " '__getstate__',\n",
       " '__gt__',\n",
       " '__hash__',\n",
       " '__init__',\n",
       " '__init_subclass__',\n",
       " '__le__',\n",
       " '__lt__',\n",
       " '__module__',\n",
       " '__ne__',\n",
       " '__new__',\n",
       " '__reduce__',\n",
       " '__reduce_ex__',\n",
       " '__repr__',\n",
       " '__setattr__',\n",
       " '__sizeof__',\n",
       " '__str__',\n",
       " '__subclasshook__',\n",
       " '__weakref__',\n",
       " '_accessors',\n",
       " '_add_delegate_accessors',\n",
       " '_constructor',\n",
       " '_delegate_method',\n",
       " '_delegate_property_get',\n",
       " '_delegate_property_set',\n",
       " '_dir_additions',\n",
       " '_dir_deletions',\n",
       " '_freeze',\n",
       " '_get_values',\n",
       " '_hidden_attrs',\n",
       " '_parent',\n",
       " '_reset_cache',\n",
       " 'as_unit',\n",
       " 'ceil',\n",
       " 'date',\n",
       " 'day',\n",
       " 'day_name',\n",
       " 'day_of_week',\n",
       " 'day_of_year',\n",
       " 'dayofweek',\n",
       " 'dayofyear',\n",
       " 'days_in_month',\n",
       " 'daysinmonth',\n",
       " 'floor',\n",
       " 'freq',\n",
       " 'hour',\n",
       " 'is_leap_year',\n",
       " 'is_month_end',\n",
       " 'is_month_start',\n",
       " 'is_quarter_end',\n",
       " 'is_quarter_start',\n",
       " 'is_year_end',\n",
       " 'is_year_start',\n",
       " 'isocalendar',\n",
       " 'microsecond',\n",
       " 'minute',\n",
       " 'month',\n",
       " 'month_name',\n",
       " 'nanosecond',\n",
       " 'normalize',\n",
       " 'quarter',\n",
       " 'round',\n",
       " 'second',\n",
       " 'strftime',\n",
       " 'time',\n",
       " 'timetz',\n",
       " 'to_period',\n",
       " 'to_pydatetime',\n",
       " 'tz',\n",
       " 'tz_convert',\n",
       " 'tz_localize',\n",
       " 'unit',\n",
       " 'weekday',\n",
       " 'year']"
      ]
     },
     "execution_count": 40,
     "metadata": {},
     "output_type": "execute_result"
    }
   ],
   "source": [
    "# dir(taxi_data['Date'].dt)"
   ]
  },
  {
   "cell_type": "code",
   "execution_count": 41,
   "metadata": {
    "tags": []
   },
   "outputs": [],
   "source": [
    "taxi_data['weekday'] = taxi_data['Date'].dt.weekday\n",
    "taxi_data['month'] = taxi_data['Date'].dt.month\n",
    "taxi_data['year'] = taxi_data['Date'].dt.year\n",
    "taxi_data['day'] = taxi_data['Date'].dt.day"
   ]
  },
  {
   "cell_type": "code",
   "execution_count": 43,
   "metadata": {
    "tags": []
   },
   "outputs": [
    {
     "data": {
      "text/html": [
       "<div>\n",
       "<style scoped>\n",
       "    .dataframe tbody tr th:only-of-type {\n",
       "        vertical-align: middle;\n",
       "    }\n",
       "\n",
       "    .dataframe tbody tr th {\n",
       "        vertical-align: top;\n",
       "    }\n",
       "\n",
       "    .dataframe thead th {\n",
       "        text-align: right;\n",
       "    }\n",
       "</style>\n",
       "<table border=\"1\" class=\"dataframe\">\n",
       "  <thead>\n",
       "    <tr style=\"text-align: right;\">\n",
       "      <th></th>\n",
       "      <th>Date</th>\n",
       "      <th>taxi_num</th>\n",
       "      <th>call_num</th>\n",
       "      <th>success</th>\n",
       "      <th>mean_time</th>\n",
       "      <th>mean_fee</th>\n",
       "      <th>mean_dit</th>\n",
       "      <th>weekday</th>\n",
       "      <th>month</th>\n",
       "      <th>year</th>\n",
       "      <th>day</th>\n",
       "    </tr>\n",
       "  </thead>\n",
       "  <tbody>\n",
       "    <tr>\n",
       "      <th>2917</th>\n",
       "      <td>2022-12-27</td>\n",
       "      <td>669</td>\n",
       "      <td>5635</td>\n",
       "      <td>4654</td>\n",
       "      <td>44.4</td>\n",
       "      <td>2198</td>\n",
       "      <td>8178</td>\n",
       "      <td>1</td>\n",
       "      <td>12</td>\n",
       "      <td>2022</td>\n",
       "      <td>27</td>\n",
       "    </tr>\n",
       "    <tr>\n",
       "      <th>2918</th>\n",
       "      <td>2022-12-28</td>\n",
       "      <td>607</td>\n",
       "      <td>5654</td>\n",
       "      <td>4648</td>\n",
       "      <td>44.8</td>\n",
       "      <td>2161</td>\n",
       "      <td>7882</td>\n",
       "      <td>2</td>\n",
       "      <td>12</td>\n",
       "      <td>2022</td>\n",
       "      <td>28</td>\n",
       "    </tr>\n",
       "    <tr>\n",
       "      <th>2919</th>\n",
       "      <td>2022-12-29</td>\n",
       "      <td>581</td>\n",
       "      <td>5250</td>\n",
       "      <td>4247</td>\n",
       "      <td>52.5</td>\n",
       "      <td>2229</td>\n",
       "      <td>8433</td>\n",
       "      <td>3</td>\n",
       "      <td>12</td>\n",
       "      <td>2022</td>\n",
       "      <td>29</td>\n",
       "    </tr>\n",
       "    <tr>\n",
       "      <th>2920</th>\n",
       "      <td>2022-12-30</td>\n",
       "      <td>600</td>\n",
       "      <td>5293</td>\n",
       "      <td>4200</td>\n",
       "      <td>38.3</td>\n",
       "      <td>2183</td>\n",
       "      <td>8155</td>\n",
       "      <td>4</td>\n",
       "      <td>12</td>\n",
       "      <td>2022</td>\n",
       "      <td>30</td>\n",
       "    </tr>\n",
       "    <tr>\n",
       "      <th>2921</th>\n",
       "      <td>2022-12-31</td>\n",
       "      <td>263</td>\n",
       "      <td>2167</td>\n",
       "      <td>1806</td>\n",
       "      <td>33.7</td>\n",
       "      <td>2318</td>\n",
       "      <td>9435</td>\n",
       "      <td>5</td>\n",
       "      <td>12</td>\n",
       "      <td>2022</td>\n",
       "      <td>31</td>\n",
       "    </tr>\n",
       "  </tbody>\n",
       "</table>\n",
       "</div>"
      ],
      "text/plain": [
       "           Date  taxi_num  call_num  success  mean_time  mean_fee  mean_dit  \\\n",
       "2917 2022-12-27       669      5635     4654       44.4      2198      8178   \n",
       "2918 2022-12-28       607      5654     4648       44.8      2161      7882   \n",
       "2919 2022-12-29       581      5250     4247       52.5      2229      8433   \n",
       "2920 2022-12-30       600      5293     4200       38.3      2183      8155   \n",
       "2921 2022-12-31       263      2167     1806       33.7      2318      9435   \n",
       "\n",
       "      weekday  month  year  day  \n",
       "2917        1     12  2022   27  \n",
       "2918        2     12  2022   28  \n",
       "2919        3     12  2022   29  \n",
       "2920        4     12  2022   30  \n",
       "2921        5     12  2022   31  "
      ]
     },
     "execution_count": 43,
     "metadata": {},
     "output_type": "execute_result"
    }
   ],
   "source": [
    "taxi_data.tail(5)"
   ]
  },
  {
   "cell_type": "markdown",
   "metadata": {
    "id": "DXi5TFy7p0DR"
   },
   "source": [
    "### (2) 일별"
   ]
  },
  {
   "cell_type": "markdown",
   "metadata": {
    "id": "IQBMWuMzqrjF"
   },
   "source": [
    "* 차량 운행수"
   ]
  },
  {
   "cell_type": "code",
   "execution_count": 60,
   "metadata": {
    "tags": []
   },
   "outputs": [],
   "source": [
    "def check_ft_by(by, feature) :\n",
    "    df = taxi_data.groupby(by=by)[feature].sum()\n",
    "    sns.barplot(x=df.index, y=df.values)\n",
    "    plt.xticks(rotation=30)"
   ]
  },
  {
   "cell_type": "code",
   "execution_count": 58,
   "metadata": {
    "executionInfo": {
     "elapsed": 21,
     "status": "ok",
     "timestamp": 1682643014162,
     "user": {
      "displayName": "한기영",
      "userId": "13049187003176135487"
     },
     "user_tz": -540
    },
    "id": "TEaKEofVsTj4",
    "tags": []
   },
   "outputs": [
    {
     "data": {
      "text/plain": [
       "<Axes: xlabel='day'>"
      ]
     },
     "execution_count": 58,
     "metadata": {},
     "output_type": "execute_result"
    },
    {
     "data": {
      "image/png": "[encoded data removed]",
      "text/plain": [
       "<Figure size 640x480 with 1 Axes>"
      ]
     },
     "metadata": {},
     "output_type": "display_data"
    }
   ],
   "source": [
    "# 아래에 실습코드를 작성하고 결과를 확인합니다.\n",
    "df = taxi_data.groupby(by='day')['taxi_num'].sum()\n",
    "df.head()\n",
    "sns.barplot(x=df.index, y=df.values)"
   ]
  },
  {
   "cell_type": "markdown",
   "metadata": {
    "id": "HSix1Uahqi0a"
   },
   "source": [
    "* 접수건, 탑승건"
   ]
  },
  {
   "cell_type": "code",
   "execution_count": 61,
   "metadata": {
    "executionInfo": {
     "elapsed": 10,
     "status": "ok",
     "timestamp": 1682643015355,
     "user": {
      "displayName": "한기영",
      "userId": "13049187003176135487"
     },
     "user_tz": -540
    },
    "id": "Nlscaf9ssZOg",
    "tags": []
   },
   "outputs": [
    {
     "data": {
      "image/png": "[encoded data removed]",
      "text/plain": [
       "<Figure size 640x480 with 1 Axes>"
      ]
     },
     "metadata": {},
     "output_type": "display_data"
    }
   ],
   "source": [
    "# 아래에 실습코드를 작성하고 결과를 확인합니다.\n",
    "by = 'day'\n",
    "feature = 'call_num'\n",
    "check_ft_by(by, feature)"
   ]
  },
  {
   "cell_type": "code",
   "execution_count": null,
   "metadata": {
    "colab": {
     "base_uri": "https://localhost:8080/",
     "height": 601
    },
    "executionInfo": {
     "elapsed": 1496,
     "status": "ok",
     "timestamp": 1682643016843,
     "user": {
      "displayName": "한기영",
      "userId": "13049187003176135487"
     },
     "user_tz": -540
    },
    "id": "4CAdtQAJsZOg",
    "outputId": "4f3dbc2f-d5e1-4097-c6a2-b56b692e112b"
   },
   "outputs": [],
   "source": [
    "# 아래에 실습코드를 작성하고 결과를 확인합니다.\n",
    "\n"
   ]
  },
  {
   "cell_type": "markdown",
   "metadata": {
    "id": "_Qe2QOiZrNCO"
   },
   "source": [
    "* 대기시간"
   ]
  },
  {
   "cell_type": "code",
   "execution_count": null,
   "metadata": {
    "executionInfo": {
     "elapsed": 9,
     "status": "ok",
     "timestamp": 1682643016844,
     "user": {
      "displayName": "한기영",
      "userId": "13049187003176135487"
     },
     "user_tz": -540
    },
    "id": "sbyh4TNJssGF"
   },
   "outputs": [],
   "source": [
    "# 아래에 실습코드를 작성하고 결과를 확인합니다.\n",
    "\n"
   ]
  },
  {
   "cell_type": "code",
   "execution_count": null,
   "metadata": {
    "colab": {
     "base_uri": "https://localhost:8080/",
     "height": 608
    },
    "executionInfo": {
     "elapsed": 1205,
     "status": "ok",
     "timestamp": 1682643018041,
     "user": {
      "displayName": "한기영",
      "userId": "13049187003176135487"
     },
     "user_tz": -540
    },
    "id": "mSJEyxkgssGU",
    "outputId": "b771f087-d506-4817-c1ec-092b775480e5"
   },
   "outputs": [],
   "source": [
    "# 아래에 실습코드를 작성하고 결과를 확인합니다.\n",
    "\n"
   ]
  },
  {
   "cell_type": "markdown",
   "metadata": {
    "id": "xNcd_K34r1_x"
   },
   "source": [
    "* 운임"
   ]
  },
  {
   "cell_type": "code",
   "execution_count": null,
   "metadata": {
    "executionInfo": {
     "elapsed": 12,
     "status": "ok",
     "timestamp": 1682643018042,
     "user": {
      "displayName": "한기영",
      "userId": "13049187003176135487"
     },
     "user_tz": -540
    },
    "id": "2R28ML03r1_y"
   },
   "outputs": [],
   "source": [
    "# 아래에 실습코드를 작성하고 결과를 확인합니다.\n",
    "\n"
   ]
  },
  {
   "cell_type": "code",
   "execution_count": null,
   "metadata": {
    "colab": {
     "base_uri": "https://localhost:8080/",
     "height": 601
    },
    "executionInfo": {
     "elapsed": 1051,
     "status": "ok",
     "timestamp": 1682643019083,
     "user": {
      "displayName": "한기영",
      "userId": "13049187003176135487"
     },
     "user_tz": -540
    },
    "id": "ir8hGqXjr1_y",
    "outputId": "9d775701-44f7-4c54-b8bd-cdf10ee2dc24"
   },
   "outputs": [],
   "source": [
    "# 아래에 실습코드를 작성하고 결과를 확인합니다.\n",
    "\n"
   ]
  },
  {
   "cell_type": "markdown",
   "metadata": {
    "id": "iTZ4UT5cs2cH"
   },
   "source": [
    "* 이동거리"
   ]
  },
  {
   "cell_type": "code",
   "execution_count": null,
   "metadata": {
    "executionInfo": {
     "elapsed": 13,
     "status": "ok",
     "timestamp": 1682643019084,
     "user": {
      "displayName": "한기영",
      "userId": "13049187003176135487"
     },
     "user_tz": -540
    },
    "id": "w0rm-1OJs2cI"
   },
   "outputs": [],
   "source": [
    "# 아래에 실습코드를 작성하고 결과를 확인합니다.\n",
    "\n"
   ]
  },
  {
   "cell_type": "code",
   "execution_count": null,
   "metadata": {
    "colab": {
     "base_uri": "https://localhost:8080/",
     "height": 597
    },
    "executionInfo": {
     "elapsed": 1312,
     "status": "ok",
     "timestamp": 1682643020385,
     "user": {
      "displayName": "한기영",
      "userId": "13049187003176135487"
     },
     "user_tz": -540
    },
    "id": "mU6dSjNFs2cI",
    "outputId": "f9913958-8412-4bf9-9b8f-224640edb00c"
   },
   "outputs": [],
   "source": [
    "# 아래에 실습코드를 작성하고 결과를 확인합니다.\n",
    "\n"
   ]
  },
  {
   "cell_type": "markdown",
   "metadata": {
    "id": "NM9AgH3uqGHQ"
   },
   "source": [
    "### (3) 요일별"
   ]
  },
  {
   "cell_type": "markdown",
   "metadata": {
    "id": "_AKI4v7itbp0"
   },
   "source": [
    "* 차량 운행수"
   ]
  },
  {
   "cell_type": "code",
   "execution_count": null,
   "metadata": {
    "executionInfo": {
     "elapsed": 21,
     "status": "ok",
     "timestamp": 1682643020386,
     "user": {
      "displayName": "한기영",
      "userId": "13049187003176135487"
     },
     "user_tz": -540
    },
    "id": "0eLzkzKytbp7"
   },
   "outputs": [],
   "source": [
    "# 아래에 실습코드를 작성하고 결과를 확인합니다.\n",
    "\n"
   ]
  },
  {
   "cell_type": "code",
   "execution_count": null,
   "metadata": {
    "colab": {
     "base_uri": "https://localhost:8080/",
     "height": 542
    },
    "executionInfo": {
     "elapsed": 19,
     "status": "ok",
     "timestamp": 1682643020386,
     "user": {
      "displayName": "한기영",
      "userId": "13049187003176135487"
     },
     "user_tz": -540
    },
    "id": "P-6JhhoDtbp7",
    "outputId": "1dd7b5c7-baf3-4390-e878-2e13dcf827c6"
   },
   "outputs": [],
   "source": [
    "# 아래에 실습코드를 작성하고 결과를 확인합니다.\n",
    "\n"
   ]
  },
  {
   "cell_type": "markdown",
   "metadata": {
    "id": "5auZLv3Ntbp7"
   },
   "source": [
    "* 접수건, 탑승건"
   ]
  },
  {
   "cell_type": "code",
   "execution_count": null,
   "metadata": {
    "executionInfo": {
     "elapsed": 17,
     "status": "ok",
     "timestamp": 1682643020387,
     "user": {
      "displayName": "한기영",
      "userId": "13049187003176135487"
     },
     "user_tz": -540
    },
    "id": "I68npNjdt4iD"
   },
   "outputs": [],
   "source": [
    "# 아래에 실습코드를 작성하고 결과를 확인합니다.\n",
    "\n"
   ]
  },
  {
   "cell_type": "code",
   "execution_count": null,
   "metadata": {
    "colab": {
     "base_uri": "https://localhost:8080/",
     "height": 363
    },
    "executionInfo": {
     "elapsed": 16,
     "status": "ok",
     "timestamp": 1682643020387,
     "user": {
      "displayName": "한기영",
      "userId": "13049187003176135487"
     },
     "user_tz": -540
    },
    "id": "75sy-ltFt4iJ",
    "outputId": "f35dcb93-9fbc-4f58-fe69-d86f9bbf7c12"
   },
   "outputs": [],
   "source": [
    "# 아래에 실습코드를 작성하고 결과를 확인합니다.\n",
    "\n"
   ]
  },
  {
   "cell_type": "markdown",
   "metadata": {
    "id": "-HDr-AH7tbp7"
   },
   "source": [
    "* 대기시간"
   ]
  },
  {
   "cell_type": "code",
   "execution_count": null,
   "metadata": {
    "executionInfo": {
     "elapsed": 14,
     "status": "ok",
     "timestamp": 1682643020387,
     "user": {
      "displayName": "한기영",
      "userId": "13049187003176135487"
     },
     "user_tz": -540
    },
    "id": "-wTbBJ3_tbp8"
   },
   "outputs": [],
   "source": [
    "# 아래에 실습코드를 작성하고 결과를 확인합니다.\n",
    "\n"
   ]
  },
  {
   "cell_type": "code",
   "execution_count": null,
   "metadata": {
    "colab": {
     "base_uri": "https://localhost:8080/",
     "height": 547
    },
    "executionInfo": {
     "elapsed": 981,
     "status": "ok",
     "timestamp": 1682643021355,
     "user": {
      "displayName": "한기영",
      "userId": "13049187003176135487"
     },
     "user_tz": -540
    },
    "id": "bw1DX6TJtbp8",
    "outputId": "9fffe277-12a3-4509-be93-481100c5d9ca"
   },
   "outputs": [],
   "source": [
    "# 아래에 실습코드를 작성하고 결과를 확인합니다.\n",
    "\n"
   ]
  },
  {
   "cell_type": "markdown",
   "metadata": {
    "id": "ei3jZiZrtbp8"
   },
   "source": [
    "* 운임"
   ]
  },
  {
   "cell_type": "code",
   "execution_count": null,
   "metadata": {
    "executionInfo": {
     "elapsed": 30,
     "status": "ok",
     "timestamp": 1682643021356,
     "user": {
      "displayName": "한기영",
      "userId": "13049187003176135487"
     },
     "user_tz": -540
    },
    "id": "FftXV-e6tbp8"
   },
   "outputs": [],
   "source": [
    "# 아래에 실습코드를 작성하고 결과를 확인합니다.\n",
    "\n"
   ]
  },
  {
   "cell_type": "code",
   "execution_count": null,
   "metadata": {
    "colab": {
     "base_uri": "https://localhost:8080/",
     "height": 542
    },
    "executionInfo": {
     "elapsed": 28,
     "status": "ok",
     "timestamp": 1682643021357,
     "user": {
      "displayName": "한기영",
      "userId": "13049187003176135487"
     },
     "user_tz": -540
    },
    "id": "1eaaj61ftbp8",
    "outputId": "5065afee-d6c9-4dcf-9c61-9f7ed164a0f2"
   },
   "outputs": [],
   "source": [
    "# 아래에 실습코드를 작성하고 결과를 확인합니다.\n",
    "\n"
   ]
  },
  {
   "cell_type": "markdown",
   "metadata": {
    "id": "xonkXJp-tbp8"
   },
   "source": [
    "* 이동거리"
   ]
  },
  {
   "cell_type": "code",
   "execution_count": null,
   "metadata": {
    "executionInfo": {
     "elapsed": 26,
     "status": "ok",
     "timestamp": 1682643021358,
     "user": {
      "displayName": "한기영",
      "userId": "13049187003176135487"
     },
     "user_tz": -540
    },
    "id": "kcOWzW9stbp9"
   },
   "outputs": [],
   "source": [
    "# 아래에 실습코드를 작성하고 결과를 확인합니다.\n",
    "\n"
   ]
  },
  {
   "cell_type": "code",
   "execution_count": null,
   "metadata": {
    "colab": {
     "base_uri": "https://localhost:8080/",
     "height": 542
    },
    "executionInfo": {
     "elapsed": 26,
     "status": "ok",
     "timestamp": 1682643021359,
     "user": {
      "displayName": "한기영",
      "userId": "13049187003176135487"
     },
     "user_tz": -540
    },
    "id": "FMcuw6Vptbp9",
    "outputId": "0fab6d10-185f-4da4-da1c-1c67709e8900"
   },
   "outputs": [],
   "source": [
    "# 아래에 실습코드를 작성하고 결과를 확인합니다.\n",
    "\n"
   ]
  },
  {
   "cell_type": "markdown",
   "metadata": {
    "id": "VeG-i_RdqhNA"
   },
   "source": [
    "### (4) 월별"
   ]
  },
  {
   "cell_type": "markdown",
   "metadata": {
    "id": "wB5ZVhHguej0"
   },
   "source": [
    "* 차량 운행수"
   ]
  },
  {
   "cell_type": "code",
   "execution_count": null,
   "metadata": {
    "executionInfo": {
     "elapsed": 24,
     "status": "ok",
     "timestamp": 1682643021359,
     "user": {
      "displayName": "한기영",
      "userId": "13049187003176135487"
     },
     "user_tz": -540
    },
    "id": "pWAB_flnuej7"
   },
   "outputs": [],
   "source": [
    "# 아래에 실습코드를 작성하고 결과를 확인합니다.\n",
    "\n"
   ]
  },
  {
   "cell_type": "code",
   "execution_count": null,
   "metadata": {
    "colab": {
     "base_uri": "https://localhost:8080/",
     "height": 0
    },
    "executionInfo": {
     "elapsed": 23,
     "status": "ok",
     "timestamp": 1682643021359,
     "user": {
      "displayName": "한기영",
      "userId": "13049187003176135487"
     },
     "user_tz": -540
    },
    "id": "r-JJZrpruej7",
    "outputId": "963fb36c-53e2-4bb9-af2d-710b59802a6a"
   },
   "outputs": [],
   "source": [
    "# 아래에 실습코드를 작성하고 결과를 확인합니다.\n",
    "\n"
   ]
  },
  {
   "cell_type": "markdown",
   "metadata": {
    "id": "eUEbCvtjuej7"
   },
   "source": [
    "* 접수건, 탑승건"
   ]
  },
  {
   "cell_type": "code",
   "execution_count": null,
   "metadata": {
    "executionInfo": {
     "elapsed": 22,
     "status": "ok",
     "timestamp": 1682643021360,
     "user": {
      "displayName": "한기영",
      "userId": "13049187003176135487"
     },
     "user_tz": -540
    },
    "id": "MtJxpirguej7"
   },
   "outputs": [],
   "source": [
    "# 아래에 실습코드를 작성하고 결과를 확인합니다.\n",
    "\n"
   ]
  },
  {
   "cell_type": "code",
   "execution_count": null,
   "metadata": {
    "colab": {
     "base_uri": "https://localhost:8080/",
     "height": 0
    },
    "executionInfo": {
     "elapsed": 710,
     "status": "ok",
     "timestamp": 1682643022049,
     "user": {
      "displayName": "한기영",
      "userId": "13049187003176135487"
     },
     "user_tz": -540
    },
    "id": "1y5xhCakuej8",
    "outputId": "e7523a1b-fb19-4f79-f011-107ae35bcf4f"
   },
   "outputs": [],
   "source": [
    "# 아래에 실습코드를 작성하고 결과를 확인합니다.\n",
    "\n"
   ]
  },
  {
   "cell_type": "markdown",
   "metadata": {
    "id": "PLQheTtguej8"
   },
   "source": [
    "* 대기시간"
   ]
  },
  {
   "cell_type": "code",
   "execution_count": null,
   "metadata": {
    "executionInfo": {
     "elapsed": 8,
     "status": "ok",
     "timestamp": 1682643022050,
     "user": {
      "displayName": "한기영",
      "userId": "13049187003176135487"
     },
     "user_tz": -540
    },
    "id": "syVa5cC5uej8"
   },
   "outputs": [],
   "source": [
    "# 아래에 실습코드를 작성하고 결과를 확인합니다.\n",
    "\n"
   ]
  },
  {
   "cell_type": "code",
   "execution_count": null,
   "metadata": {
    "colab": {
     "base_uri": "https://localhost:8080/",
     "height": 0
    },
    "executionInfo": {
     "elapsed": 785,
     "status": "ok",
     "timestamp": 1682643022828,
     "user": {
      "displayName": "한기영",
      "userId": "13049187003176135487"
     },
     "user_tz": -540
    },
    "id": "zY_GB1Ivuej8",
    "outputId": "6c8c5e5c-0fdc-40a1-d539-93614c9cd991"
   },
   "outputs": [],
   "source": [
    "# 아래에 실습코드를 작성하고 결과를 확인합니다.\n",
    "\n"
   ]
  },
  {
   "cell_type": "markdown",
   "metadata": {
    "id": "yylWmAExuej8"
   },
   "source": [
    "* 운임"
   ]
  },
  {
   "cell_type": "code",
   "execution_count": null,
   "metadata": {
    "executionInfo": {
     "elapsed": 17,
     "status": "ok",
     "timestamp": 1682643022829,
     "user": {
      "displayName": "한기영",
      "userId": "13049187003176135487"
     },
     "user_tz": -540
    },
    "id": "d_QEZGSBuej8"
   },
   "outputs": [],
   "source": [
    "# 아래에 실습코드를 작성하고 결과를 확인합니다.\n",
    "\n"
   ]
  },
  {
   "cell_type": "code",
   "execution_count": null,
   "metadata": {
    "colab": {
     "base_uri": "https://localhost:8080/",
     "height": 0
    },
    "executionInfo": {
     "elapsed": 16,
     "status": "ok",
     "timestamp": 1682643022830,
     "user": {
      "displayName": "한기영",
      "userId": "13049187003176135487"
     },
     "user_tz": -540
    },
    "id": "VuZteSNfuej9",
    "outputId": "1a29fae7-9e1b-4fea-ed05-bc4faad66f72"
   },
   "outputs": [],
   "source": [
    "# 아래에 실습코드를 작성하고 결과를 확인합니다.\n",
    "\n"
   ]
  },
  {
   "cell_type": "markdown",
   "metadata": {
    "id": "apAOww4vuej9"
   },
   "source": [
    "* 이동거리"
   ]
  },
  {
   "cell_type": "code",
   "execution_count": null,
   "metadata": {
    "executionInfo": {
     "elapsed": 15,
     "status": "ok",
     "timestamp": 1682643022831,
     "user": {
      "displayName": "한기영",
      "userId": "13049187003176135487"
     },
     "user_tz": -540
    },
    "id": "0tGeb8ikuej9"
   },
   "outputs": [],
   "source": [
    "# 아래에 실습코드를 작성하고 결과를 확인합니다.\n",
    "\n"
   ]
  },
  {
   "cell_type": "code",
   "execution_count": null,
   "metadata": {
    "colab": {
     "base_uri": "https://localhost:8080/",
     "height": 0
    },
    "executionInfo": {
     "elapsed": 750,
     "status": "ok",
     "timestamp": 1682643023567,
     "user": {
      "displayName": "한기영",
      "userId": "13049187003176135487"
     },
     "user_tz": -540
    },
    "id": "yqYlL3F0uej9",
    "outputId": "ef0bd396-0588-433b-a949-475bd6cccc2a"
   },
   "outputs": [],
   "source": [
    "# 아래에 실습코드를 작성하고 결과를 확인합니다.\n",
    "\n"
   ]
  },
  {
   "cell_type": "markdown",
   "metadata": {
    "id": "CwSb2GuKuw3B"
   },
   "source": [
    "### (5) 연도별"
   ]
  },
  {
   "cell_type": "markdown",
   "metadata": {
    "id": "PHJYpdcuuw3B"
   },
   "source": [
    "* 차량 운행수"
   ]
  },
  {
   "cell_type": "code",
   "execution_count": null,
   "metadata": {
    "executionInfo": {
     "elapsed": 18,
     "status": "ok",
     "timestamp": 1682643023568,
     "user": {
      "displayName": "한기영",
      "userId": "13049187003176135487"
     },
     "user_tz": -540
    },
    "id": "OhRmKpZiuw3C"
   },
   "outputs": [],
   "source": [
    "# 아래에 실습코드를 작성하고 결과를 확인합니다.\n",
    "\n"
   ]
  },
  {
   "cell_type": "code",
   "execution_count": null,
   "metadata": {
    "colab": {
     "base_uri": "https://localhost:8080/",
     "height": 0
    },
    "executionInfo": {
     "elapsed": 17,
     "status": "ok",
     "timestamp": 1682643023569,
     "user": {
      "displayName": "한기영",
      "userId": "13049187003176135487"
     },
     "user_tz": -540
    },
    "id": "mQnflm93uw3C",
    "outputId": "be01222b-57a1-4dea-8aaa-fa61799c405f"
   },
   "outputs": [],
   "source": [
    "# 아래에 실습코드를 작성하고 결과를 확인합니다.\n",
    "\n"
   ]
  },
  {
   "cell_type": "markdown",
   "metadata": {
    "id": "31V3g_cquw3C"
   },
   "source": [
    "* 접수건, 탑승건"
   ]
  },
  {
   "cell_type": "code",
   "execution_count": null,
   "metadata": {
    "executionInfo": {
     "elapsed": 15,
     "status": "ok",
     "timestamp": 1682643023569,
     "user": {
      "displayName": "한기영",
      "userId": "13049187003176135487"
     },
     "user_tz": -540
    },
    "id": "5_3Pb2s8uw3C"
   },
   "outputs": [],
   "source": [
    "# 아래에 실습코드를 작성하고 결과를 확인합니다.\n",
    "\n"
   ]
  },
  {
   "cell_type": "code",
   "execution_count": null,
   "metadata": {
    "colab": {
     "base_uri": "https://localhost:8080/",
     "height": 0
    },
    "executionInfo": {
     "elapsed": 888,
     "status": "ok",
     "timestamp": 1682643024443,
     "user": {
      "displayName": "한기영",
      "userId": "13049187003176135487"
     },
     "user_tz": -540
    },
    "id": "KMGNajAMuw3C",
    "outputId": "8f351e0f-b3b9-4f2d-d95c-6fc995e12e3d"
   },
   "outputs": [],
   "source": [
    "# 아래에 실습코드를 작성하고 결과를 확인합니다.\n",
    "\n"
   ]
  },
  {
   "cell_type": "markdown",
   "metadata": {
    "id": "TO79xpdXz0St"
   },
   "source": [
    "## 3.데이터 구조 만들기\n",
    "\n",
    "* **세부요구사항**\n",
    "    * 조건 : \n",
    "        * 목표 : 전날 저녁, 다음날 평균 대기시간을 예측하고자 합니다.\n",
    "        * 날씨 데이터는 실제 측정값이지만, 다음 날에 대한 예보 데이터로 간주합니다. \n",
    "            * 예를 들어, \n",
    "                * 2020-12-23 의 날씨 데이터는 전날(12월22일) 날씨예보 데이터로 간주하여 분석을 수행합니다.\n",
    "                * 2020-12-22일의 장애인 이동 데이터로 23일의 대기시간을 예측해야 하며, 이때 고려할 날씨데이터는 23일 데이터 입니다.\n",
    "    * 장애인 이동 데이터를 기준으로 날씨 데이터를 붙입니다."
   ]
  },
  {
   "cell_type": "code",
   "execution_count": null,
   "metadata": {
    "executionInfo": {
     "elapsed": 31,
     "status": "ok",
     "timestamp": 1682643024444,
     "user": {
      "displayName": "한기영",
      "userId": "13049187003176135487"
     },
     "user_tz": -540
    },
    "id": "J9ib6-oEtsj7"
   },
   "outputs": [],
   "source": [
    "# 아래에 실습코드를 작성하고 결과를 확인합니다.\n",
    "\n"
   ]
  },
  {
   "cell_type": "markdown",
   "metadata": {
    "id": "ftyolqe60QcQ"
   },
   "source": [
    "### (1) target 만들기\n",
    "* 예측하는 날짜, 대기시간(target)으로 기준을 잡습니다."
   ]
  },
  {
   "cell_type": "code",
   "execution_count": null,
   "metadata": {
    "colab": {
     "base_uri": "https://localhost:8080/",
     "height": 423
    },
    "executionInfo": {
     "elapsed": 30,
     "status": "ok",
     "timestamp": 1682643024445,
     "user": {
      "displayName": "한기영",
      "userId": "13049187003176135487"
     },
     "user_tz": -540
    },
    "id": "p6YxTMCg0ZWf",
    "outputId": "b0750adb-2042-4151-fa6d-58efae1a8a62"
   },
   "outputs": [],
   "source": [
    "# 아래에 실습코드를 작성하고 결과를 확인합니다.\n",
    "# 익일의 대기시간(waiting time)을 오늘의 데이터를 활용하여 예측 해야하는 대상(target)으로 설정\n",
    "\n"
   ]
  },
  {
   "cell_type": "markdown",
   "metadata": {
    "id": "DYUq-0NRUCjE"
   },
   "source": [
    "### (2) 날씨 데이터 붙이기\n",
    "* merge를 활용합니다. 기준은 운행정보 입니다."
   ]
  },
  {
   "cell_type": "code",
   "execution_count": null,
   "metadata": {},
   "outputs": [],
   "source": [
    "# 아래에 실습코드를 작성하고 결과를 확인합니다.\n",
    "# 익일의 실제 날씨 데이터를 전일에 발표된 예보데이터로 판단\n"
   ]
  },
  {
   "cell_type": "code",
   "execution_count": null,
   "metadata": {
    "colab": {
     "base_uri": "https://localhost:8080/",
     "height": 661
    },
    "executionInfo": {
     "elapsed": 29,
     "status": "ok",
     "timestamp": 1682643024446,
     "user": {
      "displayName": "한기영",
      "userId": "13049187003176135487"
     },
     "user_tz": -540
    },
    "id": "40yEcHs4Vcje",
    "outputId": "13eff934-019f-475c-f1af-975fda3c3198"
   },
   "outputs": [],
   "source": [
    "# 아래에 실습코드를 작성하고 결과를 확인합니다.\n",
    "\n"
   ]
  },
  {
   "cell_type": "markdown",
   "metadata": {
    "id": "jj9Hs5bcX5OT"
   },
   "source": [
    "### (3) 새로운 feature를 생성해 봅시다.\n",
    "* 날짜와 관련된 변수 추가하기 : 요일, 월, 계절, 연도\n",
    "* 그외 새로운 feature 도출 : 최소 2개 이상\n",
    "    * 예 : 공휴일, 최근 7주일간의 평균 대기시간, 탑승률 등"
   ]
  },
  {
   "cell_type": "markdown",
   "metadata": {
    "id": "qY1k-Rz3abg5"
   },
   "source": [
    "#### 1) 날짜와 관련된 변수 추가하기 : 요일, 월, 계절, 연도\n",
    "* 요일 이름, 계절이름, 월 이름으로 만드는 경우에는, 변수를 pd.Categorical로 범주형을 만들면서 순서를 지정하는 것이 이후 그래프를 그릴 때 순서대로 표현할 수 있습니다.\n"
   ]
  },
  {
   "cell_type": "code",
   "execution_count": null,
   "metadata": {
    "colab": {
     "base_uri": "https://localhost:8080/",
     "height": 661
    },
    "executionInfo": {
     "elapsed": 28,
     "status": "ok",
     "timestamp": 1682643024447,
     "user": {
      "displayName": "한기영",
      "userId": "13049187003176135487"
     },
     "user_tz": -540
    },
    "id": "b-N-DvK5aObm",
    "outputId": "2ccaab35-88ce-4aac-f3af-a25bbf90ea95"
   },
   "outputs": [],
   "source": [
    "# data0['weekday'] = data0['Date'].dt.day_name()\n",
    "# data0['weekday'] = pd.Categorical(data0['weekday'], \n",
    "#                                   categories=['Monday','Tuesday','Wednesday','Thursday','Friday','Saturday','Sunday'])\n",
    "# data0['month'] = data0['Date'].dt.month\n",
    "\n",
    "# data0['season'] = np.where(data0['month'].isin([3,4,5]), 'Spring',\n",
    "#                            np.where(data0['month'].isin([6,7,8]), 'Summer',\n",
    "#                                     np.where(data0['month'].isin([9,10,11]), 'Fall', 'Winter')))\n",
    "# data0['season'] = pd.Categorical(data0['season'], categories=['Spring','Summer','Fall','Winter'])\n",
    "                                     \n",
    "# data0['year'] = data0['Date'].dt.year\n",
    "# data0"
   ]
  },
  {
   "cell_type": "markdown",
   "metadata": {
    "id": "P0exvho5bJu0"
   },
   "source": [
    "#### 2) 공휴일 정보\n",
    "* workalendar 패키지를 설치하고, 대한민국 공휴일 정보를 끌어와 봅시다."
   ]
  },
  {
   "cell_type": "markdown",
   "metadata": {
    "id": "rIVL7P-eOxlu"
   },
   "source": [
    "* 휴무일 데이터 패키지 설치"
   ]
  },
  {
   "cell_type": "code",
   "execution_count": null,
   "metadata": {
    "colab": {
     "base_uri": "https://localhost:8080/"
    },
    "executionInfo": {
     "elapsed": 4697,
     "status": "ok",
     "timestamp": 1682643029118,
     "user": {
      "displayName": "한기영",
      "userId": "13049187003176135487"
     },
     "user_tz": -540
    },
    "id": "WzeatBPnXzmq",
    "outputId": "cb700fa5-d650-46c9-a801-91e123e9f78a"
   },
   "outputs": [],
   "source": [
    "# !pip install workalendar"
   ]
  },
  {
   "cell_type": "markdown",
   "metadata": {
    "id": "wutMCvycO1s0"
   },
   "source": [
    "* 간단 사용법"
   ]
  },
  {
   "cell_type": "code",
   "execution_count": null,
   "metadata": {
    "colab": {
     "base_uri": "https://localhost:8080/",
     "height": 520
    },
    "executionInfo": {
     "elapsed": 32,
     "status": "ok",
     "timestamp": 1682643029609,
     "user": {
      "displayName": "한기영",
      "userId": "13049187003176135487"
     },
     "user_tz": -540
    },
    "id": "_BhDiwDpOwcQ",
    "outputId": "9325a7eb-da0b-442e-e955-4670100fce1e"
   },
   "outputs": [],
   "source": [
    "# from workalendar.asia import SouthKorea\n",
    "# cal = SouthKorea()\n",
    "# pd.DataFrame(cal.holidays(2023))"
   ]
  },
  {
   "cell_type": "markdown",
   "metadata": {
    "id": "BPag0pQoPQ_e"
   },
   "source": [
    "* 휴무일 데이터셋 만들기 2015 ~ 2022\n",
    "* 실제로 휴무일에 해당하지만 workalendar 라이브러리에 없는 날짜는 직접 추가해봅시다.\n",
    "    * 휴무일 장애인 콜택시의 접수건 변화에 대한 특징을 찾아 이를 바탕으로 데이터를 조회하여 찾아볼 수 있음"
   ]
  },
  {
   "cell_type": "code",
   "execution_count": null,
   "metadata": {
    "colab": {
     "base_uri": "https://localhost:8080/",
     "height": 423
    },
    "executionInfo": {
     "elapsed": 32,
     "status": "ok",
     "timestamp": 1682643029611,
     "user": {
      "displayName": "한기영",
      "userId": "13049187003176135487"
     },
     "user_tz": -540
    },
    "id": "EWqrK9kkZsFH",
    "outputId": "d3d66a33-0a29-457e-bcf3-b1742760fe27"
   },
   "outputs": [],
   "source": [
    "# from workalendar.asia import SouthKorea\n",
    "\n",
    "# cal = SouthKorea()\n",
    "# holiday = pd.DataFrame()\n",
    "# for y in range(2015, 2023) :\n",
    "#     holiday = pd.concat([holiday, pd.DataFrame(cal.holidays(y))], axis = 0)\n",
    "\n",
    "# holiday.columns = ['Date', 'holiday']\n",
    "# holiday['Date'] = pd.to_datetime(holiday['Date'])\n",
    "# holiday['holiday'] = 1\n",
    "# holiday"
   ]
  },
  {
   "cell_type": "markdown",
   "metadata": {
    "id": "L5cOYlg0hdpX"
   },
   "source": [
    "* 기존 데이터에 휴무일 정보 결합하기.\n",
    "* 휴무일이 아닌 날짜는 0으로 저장하시오."
   ]
  },
  {
   "cell_type": "code",
   "execution_count": null,
   "metadata": {
    "executionInfo": {
     "elapsed": 31,
     "status": "ok",
     "timestamp": 1682643029612,
     "user": {
      "displayName": "한기영",
      "userId": "13049187003176135487"
     },
     "user_tz": -540
    },
    "id": "jHHh4H8icL3D"
   },
   "outputs": [],
   "source": [
    "# data0 = pd.merge(data0, holiday, how = 'left')\n",
    "# data1 = data0.fillna({'holiday':0})"
   ]
  },
  {
   "cell_type": "markdown",
   "metadata": {
    "id": "bBnWrSF9dHMP"
   },
   "source": [
    "#### 3) 7일 이동평균 대기시간\n",
    "* rolling().mean() 사용"
   ]
  },
  {
   "cell_type": "code",
   "execution_count": null,
   "metadata": {
    "colab": {
     "base_uri": "https://localhost:8080/",
     "height": 661
    },
    "executionInfo": {
     "elapsed": 31,
     "status": "ok",
     "timestamp": 1682643029613,
     "user": {
      "displayName": "한기영",
      "userId": "13049187003176135487"
     },
     "user_tz": -540
    },
    "id": "9fk23rt6dK53",
    "outputId": "0af2f175-e802-4e29-8ad2-03c662273d5a"
   },
   "outputs": [],
   "source": [
    "# 아래에 실습코드를 작성하고 결과를 확인합니다.\n",
    "\n"
   ]
  },
  {
   "cell_type": "markdown",
   "metadata": {
    "id": "eMZJxlaReHZW"
   },
   "source": [
    "#### 4) 탑승률"
   ]
  },
  {
   "cell_type": "code",
   "execution_count": null,
   "metadata": {
    "colab": {
     "base_uri": "https://localhost:8080/",
     "height": 661
    },
    "executionInfo": {
     "elapsed": 29,
     "status": "ok",
     "timestamp": 1682643029613,
     "user": {
      "displayName": "한기영",
      "userId": "13049187003176135487"
     },
     "user_tz": -540
    },
    "id": "BchF6jZTeMXJ",
    "outputId": "efd902a7-4c08-4f95-d4f9-17dd1c0ada96"
   },
   "outputs": [],
   "source": [
    "# 아래에 실습코드를 작성하고 결과를 확인합니다.\n",
    "\n"
   ]
  },
  {
   "cell_type": "markdown",
   "metadata": {
    "id": "_xX5H9wZPuv9"
   },
   "source": [
    "## 4.데이터 저장\n",
    "* **세부요구사항**\n",
    "    * joblib 을 사용하여 작업 경로에 정리한 데이터프레임을 저장합니다.\n",
    "        * 저장파일이름 : data1.pkl"
   ]
  },
  {
   "cell_type": "code",
   "execution_count": null,
   "metadata": {
    "colab": {
     "base_uri": "https://localhost:8080/"
    },
    "executionInfo": {
     "elapsed": 29,
     "status": "ok",
     "timestamp": 1682643029614,
     "user": {
      "displayName": "한기영",
      "userId": "13049187003176135487"
     },
     "user_tz": -540
    },
    "id": "DAPll27LPltQ",
    "outputId": "3e23dc30-dee4-4609-e194-22e2c9f794a6"
   },
   "outputs": [],
   "source": [
    "# 아래에 실습코드를 작성하고 결과를 확인합니다.\n",
    "\n"
   ]
  }
 ],
 "metadata": {
  "colab": {
   "collapsed_sections": [
    "VeG-i_RdqhNA",
    "CwSb2GuKuw3B"
   ],
   "provenance": [],
   "toc_visible": true
  },
  "kernelspec": {
   "display_name": "Python 3 (ipykernel)",
   "language": "python",
   "name": "python3"
  },
  "language_info": {
   "codemirror_mode": {
    "name": "ipython",
    "version": 3
   },
   "file_extension": ".py",
   "mimetype": "text/x-python",
   "name": "python",
   "nbconvert_exporter": "python",
   "pygments_lexer": "ipython3",
   "version": "3.11.5"
  }
 },
 "nbformat": 4,
 "nbformat_minor": 4
}

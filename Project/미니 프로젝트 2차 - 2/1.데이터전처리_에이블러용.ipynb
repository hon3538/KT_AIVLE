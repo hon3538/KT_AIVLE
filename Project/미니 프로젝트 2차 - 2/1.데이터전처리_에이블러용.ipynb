{
 "cells": [
  {
   "cell_type": "markdown",
   "metadata": {
    "id": "qsIsGzftJuH9"
   },
   "source": [
    "# 장애인콜택시 대기시간 예측\n",
    "## 단계1.데이터 전처리"
   ]
  },
  {
   "cell_type": "markdown",
   "metadata": {
    "id": "Dh02CX03JuES"
   },
   "source": [
    "## 0.미션\n",
    "\n",
    "* 1.데이터를 탐색하며 정보 획득\n",
    "    * 데이터는 2015-01-01 ~ 2022-12-31 까지의 서울 장애인 콜택시 운행 정보입니다. 우리는 평균대기시간을 예측하고자 합니다. \n",
    "    * 요일, 월, 계절, 연도별 운행 정보에 어떤 주기와 변화가 있는지 탐색해 봅시다.\n",
    "* 2.분석을 위한 데이터 구조 만들기\n",
    "    * 문제정의 : \n",
    "        * 전 날 콜택시 운행이 종료되었을 때, 다음 날 대기시간을 예측하고자 합니다.\n",
    "\n",
    "        * 만약 다음 날 대기시간을 예측할 수 있다면, 일정 범위 내에서 배차를 조절할 수 있을 뿐만 아니라, 향후 교통약자의 이동 편의 증진을 위한 정책 수립 및 개선에 기여할 수 있습니다. \n",
    "    * 이를 위한 데이터 구조를 만들어 봅시다.\n",
    "        * 분석 단위는 일별 데이터 입니다.\n",
    "        * 주어진 데이터 : 장애인 콜택시 운행 정보, 서울시 날씨\n",
    "        * 날씨 데이터는 실제 측정값이지만, 다음 날에 대한 예보 데이터로 간주합니다. \n",
    "            * 예를 들어, \n",
    "                * 2020-12-23 의 날씨 데이터는 전 날(12월22일) 날씨예보 데이터로 간주하여 분석을 수행합니다.\n",
    "                * 2020-12-22일의 장애인 이동 데이터로 23일의 대기시간을 예측해야 하며, 이때 고려할 날씨데이터는 23일 데이터 입니다.\n",
    "        * 장애인 이동 데이터를 기준으로 날씨 데이터를 붙여서 만듭시다.\n",
    "        * 휴무일 데이터는 패키지를 통해서 다운받아 사용합니다.\n",
    "    * Feature Engineering\n",
    "        * 대기시간에 영향을 주는 요인을 도출하고(가설수립) 이를 feature로 생성합시다.\n",
    "        * 주어진 그대로의 데이터가 아닌 새로운 feature를 생성해 봅시다.\n",
    "            * 날짜와 관련된 feature : 요일, 월, 계절 ... \n",
    "            * 시계열 특성이 반영된 feature : 최근 7일간의 평균 대기시간 ...\n",
    "\n",
    "\n"
   ]
  },
  {
   "cell_type": "markdown",
   "metadata": {
    "id": "pp6QgG00zPKL"
   },
   "source": [
    "## 1.환경설정"
   ]
  },
  {
   "cell_type": "markdown",
   "metadata": {
    "id": "stA-MFEZvYUL"
   },
   "source": [
    "* 세부 요구사항\n",
    "    - 경로 설정 : 다음의 두가지 방법 중 하나를 선택하여 폴더를 준비하고 데이터를 로딩하시오.\n",
    "        * 1) 로컬 수행(Ananconda)\n",
    "            * 제공된 압축파일을 다운받아 압축을 풀고\n",
    "            * anaconda의 root directory(보통 C:/Users/< ID > 에 project 폴더를 만들고, 복사해 넣습니다.\n",
    "        * 2) 구글콜랩\n",
    "            * 구글 드라이브 바로 밑에 project 폴더를 만들고, \n",
    "            * 데이터 파일을 복사해 넣습니다.\n",
    "    - 라이브러리 설치 및 로딩\n",
    "        * requirements.txt 파일로 부터 라이브러리 설치\n",
    "    - 기본적으로 필요한 라이브러리를 import 하도록 코드가 작성되어 있습니다. \n",
    "        * 필요하다고 판단되는 라이브러리를 추가하세요."
   ]
  },
  {
   "cell_type": "markdown",
   "metadata": {
    "id": "4FalizaIvrRi"
   },
   "source": [
    "### (1) 경로 설정"
   ]
  },
  {
   "cell_type": "markdown",
   "metadata": {
    "id": "5uNVIDDsvvFv"
   },
   "source": [
    "#### 1) 로컬 수행(Anaconda)\n",
    "* project 폴더에 필요한 파일들을 넣고, 본 파일을 열었다면, 별도 경로 지정이 필요하지 않습니다."
   ]
  },
  {
   "cell_type": "code",
   "execution_count": 142,
   "metadata": {
    "id": "QGwzRisSvzPF"
   },
   "outputs": [],
   "source": [
    "# path = 'C:/Users/User/project/'"
   ]
  },
  {
   "cell_type": "markdown",
   "metadata": {
    "id": "qOThJNEIvw4Y"
   },
   "source": [
    "#### 2) 구글 콜랩 수행"
   ]
  },
  {
   "cell_type": "markdown",
   "metadata": {
    "id": "g-R7MHCav356"
   },
   "source": [
    "* 구글 드라이브 연결"
   ]
  },
  {
   "cell_type": "code",
   "execution_count": 143,
   "metadata": {
    "colab": {
     "base_uri": "https://localhost:8080/"
    },
    "executionInfo": {
     "elapsed": 81303,
     "status": "ok",
     "timestamp": 1682642913156,
     "user": {
      "displayName": "한기영",
      "userId": "13049187003176135487"
     },
     "user_tz": -540
    },
    "id": "HOmYiPZev0qB",
    "outputId": "672eaa4e-a256-43be-d312-bf7a78a46ea9"
   },
   "outputs": [],
   "source": [
    "# from google.colab import drive\n",
    "# drive.mount('/content/drive')"
   ]
  },
  {
   "cell_type": "code",
   "execution_count": 144,
   "metadata": {
    "executionInfo": {
     "elapsed": 507,
     "status": "ok",
     "timestamp": 1682642915181,
     "user": {
      "displayName": "한기영",
      "userId": "13049187003176135487"
     },
     "user_tz": -540
    },
    "id": "GuqW8XGrv8UE"
   },
   "outputs": [],
   "source": [
    "# path = '/content/drive/MyDrive/project/'"
   ]
  },
  {
   "cell_type": "markdown",
   "metadata": {
    "id": "LPy9VO2koOHp"
   },
   "source": [
    "### (2) 라이브러리 설치 및 불러오기"
   ]
  },
  {
   "cell_type": "markdown",
   "metadata": {
    "id": "ZO8AjippwJnr"
   },
   "source": [
    "#### 1) 설치"
   ]
  },
  {
   "cell_type": "markdown",
   "metadata": {
    "id": "6WsCsW_qwJcM"
   },
   "source": [
    "* requirements.txt 파일을 아래 위치에 두고 다음 코드를 실행하시오.\n",
    "    * 로컬 : 다음 코드셀 실행\n",
    "    * 구글콜랩 : requirements.txt 파일을 왼쪽 [파일]탭에 복사해 넣고 다음 코드셀 실행"
   ]
  },
  {
   "cell_type": "code",
   "execution_count": 145,
   "metadata": {
    "id": "YQWGi48dwOOZ",
    "tags": []
   },
   "outputs": [],
   "source": [
    "# !pip install -r requirements.txt"
   ]
  },
  {
   "cell_type": "markdown",
   "metadata": {
    "id": "V1NvAw4CwcDh"
   },
   "source": [
    "#### 2) 라이브러리 로딩"
   ]
  },
  {
   "cell_type": "code",
   "execution_count": 146,
   "metadata": {
    "executionInfo": {
     "elapsed": 1587,
     "status": "ok",
     "timestamp": 1682642920627,
     "user": {
      "displayName": "한기영",
      "userId": "13049187003176135487"
     },
     "user_tz": -540
    },
    "id": "QF5vlqOJzyvV",
    "tags": []
   },
   "outputs": [],
   "source": [
    "import pandas as pd\n",
    "import numpy as np\n",
    "import matplotlib.pyplot as plt\n",
    "import seaborn as sns\n",
    "\n",
    "import joblib\n",
    "\n",
    "# 더 필요한 라이브러리를 아래에 추가합니다.\n",
    "\n"
   ]
  },
  {
   "cell_type": "markdown",
   "metadata": {
    "id": "wsLDv9tZc_i1"
   },
   "source": [
    "### (3) 데이터 불러오기\n",
    "* 주어진 데이터셋\n",
    "    * 장애인 콜택시 운행 정보 : open_data.csv\n",
    "    * 날씨 데이터 : weather.csv"
   ]
  },
  {
   "cell_type": "markdown",
   "metadata": {
    "id": "GH3ApIzofYPb"
   },
   "source": [
    "#### 1) 데이터로딩"
   ]
  },
  {
   "cell_type": "code",
   "execution_count": 147,
   "metadata": {
    "executionInfo": {
     "elapsed": 9,
     "status": "ok",
     "timestamp": 1682642921546,
     "user": {
      "displayName": "한기영",
      "userId": "13049187003176135487"
     },
     "user_tz": -540
    },
    "id": "FT_JFnclfcQ4",
    "tags": []
   },
   "outputs": [],
   "source": [
    "# 아래에 실습코드를 작성하고 결과를 확인합니다.\n",
    "wt_data = pd.read_csv('./weather.csv')\n",
    "taxi_data = pd.read_csv('./open_data.csv')"
   ]
  },
  {
   "cell_type": "code",
   "execution_count": 148,
   "metadata": {
    "colab": {
     "base_uri": "https://localhost:8080/",
     "height": 423
    },
    "executionInfo": {
     "elapsed": 336,
     "status": "ok",
     "timestamp": 1682643012931,
     "user": {
      "displayName": "한기영",
      "userId": "13049187003176135487"
     },
     "user_tz": -540
    },
    "id": "ZpMoNMpcQoQ5",
    "outputId": "69c23dbe-adac-4ee6-edd5-18e8da865be0",
    "tags": []
   },
   "outputs": [
    {
     "data": {
      "text/html": [
       "<div>\n",
       "<style scoped>\n",
       "    .dataframe tbody tr th:only-of-type {\n",
       "        vertical-align: middle;\n",
       "    }\n",
       "\n",
       "    .dataframe tbody tr th {\n",
       "        vertical-align: top;\n",
       "    }\n",
       "\n",
       "    .dataframe thead th {\n",
       "        text-align: right;\n",
       "    }\n",
       "</style>\n",
       "<table border=\"1\" class=\"dataframe\">\n",
       "  <thead>\n",
       "    <tr style=\"text-align: right;\">\n",
       "      <th></th>\n",
       "      <th>Date</th>\n",
       "      <th>temp_max</th>\n",
       "      <th>temp_min</th>\n",
       "      <th>rain(mm)</th>\n",
       "      <th>humidity_max(%)</th>\n",
       "      <th>humidity_min(%)</th>\n",
       "      <th>sunshine(MJ/m2)</th>\n",
       "    </tr>\n",
       "  </thead>\n",
       "  <tbody>\n",
       "    <tr>\n",
       "      <th>0</th>\n",
       "      <td>2012-01-01</td>\n",
       "      <td>0.4</td>\n",
       "      <td>-6.6</td>\n",
       "      <td>0.0</td>\n",
       "      <td>77.0</td>\n",
       "      <td>45.0</td>\n",
       "      <td>4.90</td>\n",
       "    </tr>\n",
       "    <tr>\n",
       "      <th>1</th>\n",
       "      <td>2012-01-02</td>\n",
       "      <td>-1.2</td>\n",
       "      <td>-8.3</td>\n",
       "      <td>0.0</td>\n",
       "      <td>80.0</td>\n",
       "      <td>48.0</td>\n",
       "      <td>6.16</td>\n",
       "    </tr>\n",
       "  </tbody>\n",
       "</table>\n",
       "</div>"
      ],
      "text/plain": [
       "         Date  temp_max  temp_min  rain(mm)  humidity_max(%)  humidity_min(%)  \\\n",
       "0  2012-01-01       0.4      -6.6       0.0             77.0             45.0   \n",
       "1  2012-01-02      -1.2      -8.3       0.0             80.0             48.0   \n",
       "\n",
       "   sunshine(MJ/m2)  \n",
       "0             4.90  \n",
       "1             6.16  "
      ]
     },
     "metadata": {},
     "output_type": "display_data"
    },
    {
     "data": {
      "text/html": [
       "<div>\n",
       "<style scoped>\n",
       "    .dataframe tbody tr th:only-of-type {\n",
       "        vertical-align: middle;\n",
       "    }\n",
       "\n",
       "    .dataframe tbody tr th {\n",
       "        vertical-align: top;\n",
       "    }\n",
       "\n",
       "    .dataframe thead th {\n",
       "        text-align: right;\n",
       "    }\n",
       "</style>\n",
       "<table border=\"1\" class=\"dataframe\">\n",
       "  <thead>\n",
       "    <tr style=\"text-align: right;\">\n",
       "      <th></th>\n",
       "      <th>기준일</th>\n",
       "      <th>차량운행</th>\n",
       "      <th>접수건</th>\n",
       "      <th>탑승건</th>\n",
       "      <th>평균대기시간</th>\n",
       "      <th>평균요금</th>\n",
       "      <th>평균승차거리</th>\n",
       "    </tr>\n",
       "  </thead>\n",
       "  <tbody>\n",
       "    <tr>\n",
       "      <th>0</th>\n",
       "      <td>2015-01-01</td>\n",
       "      <td>213</td>\n",
       "      <td>1023</td>\n",
       "      <td>924</td>\n",
       "      <td>23.2</td>\n",
       "      <td>2427</td>\n",
       "      <td>10764</td>\n",
       "    </tr>\n",
       "    <tr>\n",
       "      <th>1</th>\n",
       "      <td>2015-01-02</td>\n",
       "      <td>420</td>\n",
       "      <td>3158</td>\n",
       "      <td>2839</td>\n",
       "      <td>17.2</td>\n",
       "      <td>2216</td>\n",
       "      <td>8611</td>\n",
       "    </tr>\n",
       "  </tbody>\n",
       "</table>\n",
       "</div>"
      ],
      "text/plain": [
       "          기준일  차량운행   접수건   탑승건  평균대기시간  평균요금  평균승차거리\n",
       "0  2015-01-01   213  1023   924    23.2  2427   10764\n",
       "1  2015-01-02   420  3158  2839    17.2  2216    8611"
      ]
     },
     "metadata": {},
     "output_type": "display_data"
    }
   ],
   "source": [
    "# 아래에 실습코드를 작성하고 결과를 확인합니다.\n",
    "display(wt_data.head(2))\n",
    "display(taxi_data.head(2))"
   ]
  },
  {
   "cell_type": "markdown",
   "metadata": {
    "id": "ueRYWzcto1x8"
   },
   "source": [
    "#### 2) 기본 정보 조회"
   ]
  },
  {
   "cell_type": "code",
   "execution_count": 149,
   "metadata": {
    "colab": {
     "base_uri": "https://localhost:8080/"
    },
    "executionInfo": {
     "elapsed": 529,
     "status": "ok",
     "timestamp": 1682643014155,
     "user": {
      "displayName": "한기영",
      "userId": "13049187003176135487"
     },
     "user_tz": -540
    },
    "id": "ohfA--UBxczp",
    "outputId": "b12a7804-c1ae-4826-9c32-875f2eb36e47",
    "tags": []
   },
   "outputs": [
    {
     "data": {
      "text/plain": [
       "(4018, 7)"
      ]
     },
     "execution_count": 149,
     "metadata": {},
     "output_type": "execute_result"
    }
   ],
   "source": [
    "# 아래에 실습코드를 작성하고 결과를 확인합니다.\n",
    "# 전체 데이터의 행,열 개수 확인\n",
    "wt_data.shape"
   ]
  },
  {
   "cell_type": "code",
   "execution_count": 150,
   "metadata": {
    "colab": {
     "base_uri": "https://localhost:8080/"
    },
    "executionInfo": {
     "elapsed": 30,
     "status": "ok",
     "timestamp": 1682643014157,
     "user": {
      "displayName": "한기영",
      "userId": "13049187003176135487"
     },
     "user_tz": -540
    },
    "id": "4ykFk03LpEk2",
    "outputId": "a5339d95-e5e7-4d23-cb5c-6b483a2509b2",
    "tags": []
   },
   "outputs": [
    {
     "data": {
      "text/plain": [
       "(2922, 7)"
      ]
     },
     "execution_count": 150,
     "metadata": {},
     "output_type": "execute_result"
    }
   ],
   "source": [
    "# 아래에 실습코드를 작성하고 결과를 확인합니다.\n",
    "# 전체 데이터의 모든 변수 확인\n",
    "taxi_data.shape"
   ]
  },
  {
   "cell_type": "markdown",
   "metadata": {
    "id": "n0VtxEINgi2V"
   },
   "source": [
    "#### 3) 칼럼이름을 영어로 변경\n",
    "* 꼭 필요한 작업은 아니지만, 데이터를 편리하게 다루고 차트에서 불필요한 경고메시지를 띄우지 않게 하기 위해 영문으로 변경하기를 권장합니다.\n"
   ]
  },
  {
   "cell_type": "code",
   "execution_count": 151,
   "metadata": {
    "tags": []
   },
   "outputs": [
    {
     "data": {
      "text/plain": [
       "Index(['기준일', '차량운행', '접수건', '탑승건', '평균대기시간', '평균요금', '평균승차거리'], dtype='object')"
      ]
     },
     "execution_count": 151,
     "metadata": {},
     "output_type": "execute_result"
    }
   ],
   "source": [
    "taxi_data.columns"
   ]
  },
  {
   "cell_type": "code",
   "execution_count": 152,
   "metadata": {
    "colab": {
     "base_uri": "https://localhost:8080/",
     "height": 423
    },
    "executionInfo": {
     "elapsed": 28,
     "status": "ok",
     "timestamp": 1682643014158,
     "user": {
      "displayName": "한기영",
      "userId": "13049187003176135487"
     },
     "user_tz": -540
    },
    "id": "Az4HVmSagn0I",
    "outputId": "14a9e7b6-75c2-48de-c5af-066d3bf5a035",
    "tags": []
   },
   "outputs": [
    {
     "data": {
      "text/html": [
       "<div>\n",
       "<style scoped>\n",
       "    .dataframe tbody tr th:only-of-type {\n",
       "        vertical-align: middle;\n",
       "    }\n",
       "\n",
       "    .dataframe tbody tr th {\n",
       "        vertical-align: top;\n",
       "    }\n",
       "\n",
       "    .dataframe thead th {\n",
       "        text-align: right;\n",
       "    }\n",
       "</style>\n",
       "<table border=\"1\" class=\"dataframe\">\n",
       "  <thead>\n",
       "    <tr style=\"text-align: right;\">\n",
       "      <th></th>\n",
       "      <th>Date</th>\n",
       "      <th>taxi_num</th>\n",
       "      <th>call_num</th>\n",
       "      <th>success</th>\n",
       "      <th>mean_time</th>\n",
       "      <th>mean_fee</th>\n",
       "      <th>mean_dit</th>\n",
       "    </tr>\n",
       "  </thead>\n",
       "  <tbody>\n",
       "    <tr>\n",
       "      <th>0</th>\n",
       "      <td>2015-01-01</td>\n",
       "      <td>213</td>\n",
       "      <td>1023</td>\n",
       "      <td>924</td>\n",
       "      <td>23.2</td>\n",
       "      <td>2427</td>\n",
       "      <td>10764</td>\n",
       "    </tr>\n",
       "    <tr>\n",
       "      <th>1</th>\n",
       "      <td>2015-01-02</td>\n",
       "      <td>420</td>\n",
       "      <td>3158</td>\n",
       "      <td>2839</td>\n",
       "      <td>17.2</td>\n",
       "      <td>2216</td>\n",
       "      <td>8611</td>\n",
       "    </tr>\n",
       "  </tbody>\n",
       "</table>\n",
       "</div>"
      ],
      "text/plain": [
       "         Date  taxi_num  call_num  success  mean_time  mean_fee  mean_dit\n",
       "0  2015-01-01       213      1023      924       23.2      2427     10764\n",
       "1  2015-01-02       420      3158     2839       17.2      2216      8611"
      ]
     },
     "execution_count": 152,
     "metadata": {},
     "output_type": "execute_result"
    }
   ],
   "source": [
    "# 아래에 실습코드를 작성하고 결과를 확인합니다.\n",
    "col_names = ['Date', 'taxi_num', 'call_num', 'success', 'mean_time', 'mean_fee', 'mean_dit']\n",
    "taxi_data.columns = col_names\n",
    "taxi_data.head(2)"
   ]
  },
  {
   "cell_type": "markdown",
   "metadata": {
    "id": "vYhLUoRxRSEQ"
   },
   "source": [
    "## 2.데이터 기본 탐색\n",
    "\n",
    "* **세부요구사항**\n",
    "    * 날짜 요소에 따라 각 정보의 패턴을 조회 합니다.\n",
    "        * 일별, 요일별, 주차별, 월별, 연도별\n",
    "        * 접수건, 탑승건, 거리, 요금, 대기시간 등\n",
    "    * 제시된 범위 외에 가능하다면 추가 탐색을 시도합니다."
   ]
  },
  {
   "cell_type": "markdown",
   "metadata": {
    "id": "vY_rPCK5pH-s"
   },
   "source": [
    "### (1) 주기별 분석을 위해서 날짜 변수 추가하기\n",
    "* data를 복사합니다.\n",
    "* 복사한 df에 요일, 주차, 월, 연도 등을 추가합니다."
   ]
  },
  {
   "cell_type": "code",
   "execution_count": 153,
   "metadata": {
    "executionInfo": {
     "elapsed": 28,
     "status": "ok",
     "timestamp": 1682643014160,
     "user": {
      "displayName": "한기영",
      "userId": "13049187003176135487"
     },
     "user_tz": -540
    },
    "id": "2oGkF12Ape-T",
    "tags": []
   },
   "outputs": [],
   "source": [
    "# 아래에 실습코드를 작성하고 결과를 확인합니다.\n",
    "# taxi_copy = taxi_data.copy()"
   ]
  },
  {
   "cell_type": "code",
   "execution_count": 154,
   "metadata": {
    "colab": {
     "base_uri": "https://localhost:8080/",
     "height": 262
    },
    "executionInfo": {
     "elapsed": 28,
     "status": "ok",
     "timestamp": 1682643014161,
     "user": {
      "displayName": "한기영",
      "userId": "13049187003176135487"
     },
     "user_tz": -540
    },
    "id": "8DbYHJNiplGu",
    "outputId": "a6f7fec0-f935-4f96-8b2e-ff73abb58fb1",
    "tags": []
   },
   "outputs": [
    {
     "data": {
      "text/html": [
       "<div>\n",
       "<style scoped>\n",
       "    .dataframe tbody tr th:only-of-type {\n",
       "        vertical-align: middle;\n",
       "    }\n",
       "\n",
       "    .dataframe tbody tr th {\n",
       "        vertical-align: top;\n",
       "    }\n",
       "\n",
       "    .dataframe thead th {\n",
       "        text-align: right;\n",
       "    }\n",
       "</style>\n",
       "<table border=\"1\" class=\"dataframe\">\n",
       "  <thead>\n",
       "    <tr style=\"text-align: right;\">\n",
       "      <th></th>\n",
       "      <th>taxi_num</th>\n",
       "      <th>call_num</th>\n",
       "      <th>success</th>\n",
       "      <th>mean_time</th>\n",
       "      <th>mean_fee</th>\n",
       "      <th>mean_dit</th>\n",
       "    </tr>\n",
       "  </thead>\n",
       "  <tbody>\n",
       "    <tr>\n",
       "      <th>count</th>\n",
       "      <td>2922.000000</td>\n",
       "      <td>2922.000000</td>\n",
       "      <td>2922.000000</td>\n",
       "      <td>2922.000000</td>\n",
       "      <td>2922.000000</td>\n",
       "      <td>2922.000000</td>\n",
       "    </tr>\n",
       "    <tr>\n",
       "      <th>mean</th>\n",
       "      <td>418.701916</td>\n",
       "      <td>3925.607803</td>\n",
       "      <td>3283.895277</td>\n",
       "      <td>40.305681</td>\n",
       "      <td>2304.272416</td>\n",
       "      <td>9253.500000</td>\n",
       "    </tr>\n",
       "    <tr>\n",
       "      <th>std</th>\n",
       "      <td>133.755162</td>\n",
       "      <td>1509.741713</td>\n",
       "      <td>1249.165876</td>\n",
       "      <td>14.098550</td>\n",
       "      <td>107.260080</td>\n",
       "      <td>1019.198152</td>\n",
       "    </tr>\n",
       "    <tr>\n",
       "      <th>min</th>\n",
       "      <td>132.000000</td>\n",
       "      <td>527.000000</td>\n",
       "      <td>462.000000</td>\n",
       "      <td>17.200000</td>\n",
       "      <td>2131.000000</td>\n",
       "      <td>7672.000000</td>\n",
       "    </tr>\n",
       "    <tr>\n",
       "      <th>25%</th>\n",
       "      <td>278.000000</td>\n",
       "      <td>2162.500000</td>\n",
       "      <td>1779.000000</td>\n",
       "      <td>29.600000</td>\n",
       "      <td>2228.000000</td>\n",
       "      <td>8521.000000</td>\n",
       "    </tr>\n",
       "    <tr>\n",
       "      <th>50%</th>\n",
       "      <td>454.000000</td>\n",
       "      <td>4720.500000</td>\n",
       "      <td>3932.500000</td>\n",
       "      <td>38.200000</td>\n",
       "      <td>2257.000000</td>\n",
       "      <td>8821.500000</td>\n",
       "    </tr>\n",
       "    <tr>\n",
       "      <th>75%</th>\n",
       "      <td>522.000000</td>\n",
       "      <td>5110.000000</td>\n",
       "      <td>4241.000000</td>\n",
       "      <td>48.600000</td>\n",
       "      <td>2400.750000</td>\n",
       "      <td>10153.000000</td>\n",
       "    </tr>\n",
       "    <tr>\n",
       "      <th>max</th>\n",
       "      <td>1413.000000</td>\n",
       "      <td>6182.000000</td>\n",
       "      <td>5189.000000</td>\n",
       "      <td>96.100000</td>\n",
       "      <td>2733.000000</td>\n",
       "      <td>14136.000000</td>\n",
       "    </tr>\n",
       "  </tbody>\n",
       "</table>\n",
       "</div>"
      ],
      "text/plain": [
       "          taxi_num     call_num      success    mean_time     mean_fee  \\\n",
       "count  2922.000000  2922.000000  2922.000000  2922.000000  2922.000000   \n",
       "mean    418.701916  3925.607803  3283.895277    40.305681  2304.272416   \n",
       "std     133.755162  1509.741713  1249.165876    14.098550   107.260080   \n",
       "min     132.000000   527.000000   462.000000    17.200000  2131.000000   \n",
       "25%     278.000000  2162.500000  1779.000000    29.600000  2228.000000   \n",
       "50%     454.000000  4720.500000  3932.500000    38.200000  2257.000000   \n",
       "75%     522.000000  5110.000000  4241.000000    48.600000  2400.750000   \n",
       "max    1413.000000  6182.000000  5189.000000    96.100000  2733.000000   \n",
       "\n",
       "           mean_dit  \n",
       "count   2922.000000  \n",
       "mean    9253.500000  \n",
       "std     1019.198152  \n",
       "min     7672.000000  \n",
       "25%     8521.000000  \n",
       "50%     8821.500000  \n",
       "75%    10153.000000  \n",
       "max    14136.000000  "
      ]
     },
     "execution_count": 154,
     "metadata": {},
     "output_type": "execute_result"
    }
   ],
   "source": [
    "taxi_data.describe()"
   ]
  },
  {
   "cell_type": "code",
   "execution_count": 155,
   "metadata": {
    "tags": []
   },
   "outputs": [
    {
     "name": "stdout",
     "output_type": "stream",
     "text": [
      "<class 'pandas.core.frame.DataFrame'>\n",
      "RangeIndex: 2922 entries, 0 to 2921\n",
      "Data columns (total 7 columns):\n",
      " #   Column     Non-Null Count  Dtype  \n",
      "---  ------     --------------  -----  \n",
      " 0   Date       2922 non-null   object \n",
      " 1   taxi_num   2922 non-null   int64  \n",
      " 2   call_num   2922 non-null   int64  \n",
      " 3   success    2922 non-null   int64  \n",
      " 4   mean_time  2922 non-null   float64\n",
      " 5   mean_fee   2922 non-null   int64  \n",
      " 6   mean_dit   2922 non-null   int64  \n",
      "dtypes: float64(1), int64(5), object(1)\n",
      "memory usage: 159.9+ KB\n"
     ]
    }
   ],
   "source": [
    "taxi_data.info()"
   ]
  },
  {
   "cell_type": "code",
   "execution_count": 156,
   "metadata": {
    "tags": []
   },
   "outputs": [],
   "source": [
    "# help(pd.to_datetime)"
   ]
  },
  {
   "cell_type": "code",
   "execution_count": 157,
   "metadata": {
    "tags": []
   },
   "outputs": [],
   "source": [
    "taxi_data['Date'] = pd.to_datetime(taxi_data['Date'])"
   ]
  },
  {
   "cell_type": "code",
   "execution_count": 158,
   "metadata": {
    "tags": []
   },
   "outputs": [],
   "source": [
    "# dir(taxi_data['Date'].dt)"
   ]
  },
  {
   "cell_type": "code",
   "execution_count": 159,
   "metadata": {
    "tags": []
   },
   "outputs": [],
   "source": [
    "taxi_data['weekday'] = taxi_data['Date'].dt.weekday\n",
    "taxi_data['month'] = taxi_data['Date'].dt.month\n",
    "taxi_data['year'] = taxi_data['Date'].dt.year\n",
    "taxi_data['day'] = taxi_data['Date'].dt.day"
   ]
  },
  {
   "cell_type": "code",
   "execution_count": 160,
   "metadata": {
    "tags": []
   },
   "outputs": [
    {
     "data": {
      "text/html": [
       "<div>\n",
       "<style scoped>\n",
       "    .dataframe tbody tr th:only-of-type {\n",
       "        vertical-align: middle;\n",
       "    }\n",
       "\n",
       "    .dataframe tbody tr th {\n",
       "        vertical-align: top;\n",
       "    }\n",
       "\n",
       "    .dataframe thead th {\n",
       "        text-align: right;\n",
       "    }\n",
       "</style>\n",
       "<table border=\"1\" class=\"dataframe\">\n",
       "  <thead>\n",
       "    <tr style=\"text-align: right;\">\n",
       "      <th></th>\n",
       "      <th>Date</th>\n",
       "      <th>taxi_num</th>\n",
       "      <th>call_num</th>\n",
       "      <th>success</th>\n",
       "      <th>mean_time</th>\n",
       "      <th>mean_fee</th>\n",
       "      <th>mean_dit</th>\n",
       "      <th>weekday</th>\n",
       "      <th>month</th>\n",
       "      <th>year</th>\n",
       "      <th>day</th>\n",
       "    </tr>\n",
       "  </thead>\n",
       "  <tbody>\n",
       "    <tr>\n",
       "      <th>2917</th>\n",
       "      <td>2022-12-27</td>\n",
       "      <td>669</td>\n",
       "      <td>5635</td>\n",
       "      <td>4654</td>\n",
       "      <td>44.4</td>\n",
       "      <td>2198</td>\n",
       "      <td>8178</td>\n",
       "      <td>1</td>\n",
       "      <td>12</td>\n",
       "      <td>2022</td>\n",
       "      <td>27</td>\n",
       "    </tr>\n",
       "    <tr>\n",
       "      <th>2918</th>\n",
       "      <td>2022-12-28</td>\n",
       "      <td>607</td>\n",
       "      <td>5654</td>\n",
       "      <td>4648</td>\n",
       "      <td>44.8</td>\n",
       "      <td>2161</td>\n",
       "      <td>7882</td>\n",
       "      <td>2</td>\n",
       "      <td>12</td>\n",
       "      <td>2022</td>\n",
       "      <td>28</td>\n",
       "    </tr>\n",
       "    <tr>\n",
       "      <th>2919</th>\n",
       "      <td>2022-12-29</td>\n",
       "      <td>581</td>\n",
       "      <td>5250</td>\n",
       "      <td>4247</td>\n",
       "      <td>52.5</td>\n",
       "      <td>2229</td>\n",
       "      <td>8433</td>\n",
       "      <td>3</td>\n",
       "      <td>12</td>\n",
       "      <td>2022</td>\n",
       "      <td>29</td>\n",
       "    </tr>\n",
       "    <tr>\n",
       "      <th>2920</th>\n",
       "      <td>2022-12-30</td>\n",
       "      <td>600</td>\n",
       "      <td>5293</td>\n",
       "      <td>4200</td>\n",
       "      <td>38.3</td>\n",
       "      <td>2183</td>\n",
       "      <td>8155</td>\n",
       "      <td>4</td>\n",
       "      <td>12</td>\n",
       "      <td>2022</td>\n",
       "      <td>30</td>\n",
       "    </tr>\n",
       "    <tr>\n",
       "      <th>2921</th>\n",
       "      <td>2022-12-31</td>\n",
       "      <td>263</td>\n",
       "      <td>2167</td>\n",
       "      <td>1806</td>\n",
       "      <td>33.7</td>\n",
       "      <td>2318</td>\n",
       "      <td>9435</td>\n",
       "      <td>5</td>\n",
       "      <td>12</td>\n",
       "      <td>2022</td>\n",
       "      <td>31</td>\n",
       "    </tr>\n",
       "  </tbody>\n",
       "</table>\n",
       "</div>"
      ],
      "text/plain": [
       "           Date  taxi_num  call_num  success  mean_time  mean_fee  mean_dit  \\\n",
       "2917 2022-12-27       669      5635     4654       44.4      2198      8178   \n",
       "2918 2022-12-28       607      5654     4648       44.8      2161      7882   \n",
       "2919 2022-12-29       581      5250     4247       52.5      2229      8433   \n",
       "2920 2022-12-30       600      5293     4200       38.3      2183      8155   \n",
       "2921 2022-12-31       263      2167     1806       33.7      2318      9435   \n",
       "\n",
       "      weekday  month  year  day  \n",
       "2917        1     12  2022   27  \n",
       "2918        2     12  2022   28  \n",
       "2919        3     12  2022   29  \n",
       "2920        4     12  2022   30  \n",
       "2921        5     12  2022   31  "
      ]
     },
     "execution_count": 160,
     "metadata": {},
     "output_type": "execute_result"
    }
   ],
   "source": [
    "taxi_data.tail(5)"
   ]
  },
  {
   "cell_type": "markdown",
   "metadata": {
    "id": "DXi5TFy7p0DR"
   },
   "source": [
    "### (2) 일별"
   ]
  },
  {
   "cell_type": "markdown",
   "metadata": {
    "id": "IQBMWuMzqrjF"
   },
   "source": [
    "* 차량 운행수"
   ]
  },
  {
   "cell_type": "code",
   "execution_count": 161,
   "metadata": {
    "tags": []
   },
   "outputs": [],
   "source": [
    "def check_ft_by(by, feature) :\n",
    "    df = taxi_data.groupby(by=by)[feature].sum()\n",
    "    sns.barplot(x=df.index, y=df.values)\n",
    "    plt.ylabel(feature)\n",
    "    plt.xticks(rotation=40)"
   ]
  },
  {
   "cell_type": "code",
   "execution_count": 162,
   "metadata": {
    "executionInfo": {
     "elapsed": 21,
     "status": "ok",
     "timestamp": 1682643014162,
     "user": {
      "displayName": "한기영",
      "userId": "13049187003176135487"
     },
     "user_tz": -540
    },
    "id": "TEaKEofVsTj4",
    "tags": []
   },
   "outputs": [
    {
     "data": {
      "image/png": "[encoded data removed]",
      "text/plain": [
       "<Figure size 1500x1500 with 6 Axes>"
      ]
     },
     "metadata": {},
     "output_type": "display_data"
    }
   ],
   "source": [
    "# 아래에 실습코드를 작성하고 결과를 확인합니다.\n",
    "plt.figure(figsize=(15,15))\n",
    "by = 'day'\n",
    "x_size =3\n",
    "y_size= 2\n",
    "plt.subplot(x_size,y_size,1)\n",
    "feature = 'taxi_num'\n",
    "check_ft_by(by,feature)\n",
    "\n",
    "plt.subplot(x_size,y_size,2)\n",
    "feature = 'call_num'\n",
    "check_ft_by(by,feature)\n",
    "\n",
    "plt.subplot(x_size,y_size,3)\n",
    "feature = 'success'\n",
    "check_ft_by(by,feature)\n",
    "\n",
    "plt.subplot(x_size,y_size,4)\n",
    "feature = 'mean_time'\n",
    "check_ft_by(by,feature)\n",
    "\n",
    "plt.subplot(x_size,y_size,5)\n",
    "feature = 'mean_fee'\n",
    "check_ft_by(by,feature)\n",
    "\n",
    "plt.subplot(x_size,y_size,6)\n",
    "feature = 'mean_dit'\n",
    "check_ft_by(by,feature)"
   ]
  },
  {
   "cell_type": "markdown",
   "metadata": {
    "id": "HSix1Uahqi0a"
   },
   "source": [
    "* 접수건, 탑승건"
   ]
  },
  {
   "cell_type": "markdown",
   "metadata": {
    "id": "_Qe2QOiZrNCO"
   },
   "source": [
    "* 대기시간"
   ]
  },
  {
   "cell_type": "markdown",
   "metadata": {
    "id": "xNcd_K34r1_x"
   },
   "source": [
    "* 운임"
   ]
  },
  {
   "cell_type": "markdown",
   "metadata": {
    "id": "iTZ4UT5cs2cH"
   },
   "source": [
    "* 이동거리"
   ]
  },
  {
   "cell_type": "markdown",
   "metadata": {
    "id": "NM9AgH3uqGHQ"
   },
   "source": [
    "### (3) 요일별"
   ]
  },
  {
   "cell_type": "markdown",
   "metadata": {
    "id": "_AKI4v7itbp0"
   },
   "source": [
    "* 차량 운행수"
   ]
  },
  {
   "cell_type": "code",
   "execution_count": 163,
   "metadata": {
    "executionInfo": {
     "elapsed": 21,
     "status": "ok",
     "timestamp": 1682643020386,
     "user": {
      "displayName": "한기영",
      "userId": "13049187003176135487"
     },
     "user_tz": -540
    },
    "id": "0eLzkzKytbp7",
    "tags": []
   },
   "outputs": [
    {
     "data": {
      "image/png": "[encoded data removed]",
      "text/plain": [
       "<Figure size 1500x1500 with 6 Axes>"
      ]
     },
     "metadata": {},
     "output_type": "display_data"
    }
   ],
   "source": [
    "# 아래에 실습코드를 작성하고 결과를 확인합니다.\n",
    "col_list = ['taxi_num', 'call_num', 'success', 'mean_time', 'mean_fee', 'mean_dit']\n",
    "by = 'weekday'\n",
    "plt.figure(figsize=(15,15))\n",
    "x_size = 3\n",
    "y_size = 2\n",
    "for i in range(len(col_list)):\n",
    "    feature = col_list[i]\n",
    "    plt.subplot(x_size, y_size, i+1)\n",
    "    check_ft_by(by, feature)\n",
    "\n",
    "# monday = 0, sunday = 6"
   ]
  },
  {
   "cell_type": "markdown",
   "metadata": {},
   "source": [
    "* 토요일의 평균 대기 시간이 가장 길었다.\n",
    "* 주말에 이동거리가 길어지면서 비용도 늘어남"
   ]
  },
  {
   "cell_type": "markdown",
   "metadata": {
    "id": "5auZLv3Ntbp7"
   },
   "source": [
    "* 접수건, 탑승건"
   ]
  },
  {
   "cell_type": "markdown",
   "metadata": {
    "id": "-HDr-AH7tbp7"
   },
   "source": [
    "* 대기시간"
   ]
  },
  {
   "cell_type": "markdown",
   "metadata": {
    "id": "ei3jZiZrtbp8"
   },
   "source": [
    "* 운임"
   ]
  },
  {
   "cell_type": "markdown",
   "metadata": {
    "id": "xonkXJp-tbp8"
   },
   "source": [
    "* 이동거리"
   ]
  },
  {
   "cell_type": "markdown",
   "metadata": {
    "id": "VeG-i_RdqhNA"
   },
   "source": [
    "### (4) 월별"
   ]
  },
  {
   "cell_type": "markdown",
   "metadata": {
    "id": "wB5ZVhHguej0"
   },
   "source": [
    "* 차량 운행수"
   ]
  },
  {
   "cell_type": "code",
   "execution_count": 164,
   "metadata": {
    "executionInfo": {
     "elapsed": 24,
     "status": "ok",
     "timestamp": 1682643021359,
     "user": {
      "displayName": "한기영",
      "userId": "13049187003176135487"
     },
     "user_tz": -540
    },
    "id": "pWAB_flnuej7",
    "tags": []
   },
   "outputs": [
    {
     "data": {
      "image/png": "[encoded data removed]",
      "text/plain": [
       "<Figure size 1500x1500 with 6 Axes>"
      ]
     },
     "metadata": {},
     "output_type": "display_data"
    }
   ],
   "source": [
    "# 아래에 실습코드를 작성하고 결과를 확인합니다.\n",
    "col_list = ['taxi_num', 'call_num', 'success', 'mean_time', 'mean_fee', 'mean_dit']\n",
    "by = 'month'\n",
    "plt.figure(figsize=(15,15))\n",
    "x_size = 3\n",
    "y_size = 2\n",
    "for i in range(len(col_list)):\n",
    "    feature = col_list[i]\n",
    "    plt.subplot(x_size, y_size, i+1)\n",
    "    check_ft_by(by, feature)\n",
    "\n"
   ]
  },
  {
   "cell_type": "markdown",
   "metadata": {},
   "source": [
    "* 연말에 운행 차량 대수는 그대로인데, 접수건이 늘어남 -> 대기시간 늘어남\n",
    "* 12월에 운행 차량 대수가 적어짐 ->  대기시간이 늘어남"
   ]
  },
  {
   "cell_type": "markdown",
   "metadata": {
    "id": "eUEbCvtjuej7"
   },
   "source": [
    "* 접수건, 탑승건"
   ]
  },
  {
   "cell_type": "markdown",
   "metadata": {
    "id": "PLQheTtguej8"
   },
   "source": [
    "* 대기시간"
   ]
  },
  {
   "cell_type": "markdown",
   "metadata": {
    "id": "yylWmAExuej8"
   },
   "source": [
    "* 운임"
   ]
  },
  {
   "cell_type": "markdown",
   "metadata": {
    "id": "apAOww4vuej9"
   },
   "source": [
    "* 이동거리"
   ]
  },
  {
   "cell_type": "markdown",
   "metadata": {
    "id": "CwSb2GuKuw3B"
   },
   "source": [
    "### (5) 연도별"
   ]
  },
  {
   "cell_type": "markdown",
   "metadata": {
    "id": "PHJYpdcuuw3B"
   },
   "source": [
    "* 차량 운행수"
   ]
  },
  {
   "cell_type": "code",
   "execution_count": 165,
   "metadata": {
    "executionInfo": {
     "elapsed": 18,
     "status": "ok",
     "timestamp": 1682643023568,
     "user": {
      "displayName": "한기영",
      "userId": "13049187003176135487"
     },
     "user_tz": -540
    },
    "id": "OhRmKpZiuw3C",
    "tags": []
   },
   "outputs": [
    {
     "data": {
      "image/png": "[encoded data removed]",
      "text/plain": [
       "<Figure size 1500x1500 with 6 Axes>"
      ]
     },
     "metadata": {},
     "output_type": "display_data"
    }
   ],
   "source": [
    "# 아래에 실습코드를 작성하고 결과를 확인합니다.\n",
    "col_list = ['taxi_num', 'call_num', 'success', 'mean_time', 'mean_fee', 'mean_dit']\n",
    "by = 'year'\n",
    "plt.figure(figsize=(15,15))\n",
    "x_size = 3\n",
    "y_size = 2\n",
    "for i in range(len(col_list)):\n",
    "    feature = col_list[i]\n",
    "    plt.subplot(x_size, y_size, i+1)\n",
    "    check_ft_by(by, feature)\n",
    "\n"
   ]
  },
  {
   "cell_type": "markdown",
   "metadata": {},
   "source": [
    "* 2020년 코로나로 인한 야외활동 자제로 call 횟수 줄어듬\n",
    "* 2021년부터 taxi 대수 증가와 함께 대기 시간도 줄어듦"
   ]
  },
  {
   "cell_type": "markdown",
   "metadata": {
    "id": "31V3g_cquw3C"
   },
   "source": [
    "* 접수건, 탑승건"
   ]
  },
  {
   "cell_type": "markdown",
   "metadata": {
    "id": "TO79xpdXz0St"
   },
   "source": [
    "## 3.데이터 구조 만들기\n",
    "\n",
    "* **세부요구사항**\n",
    "    * 조건 : \n",
    "        * 목표 : 전날 저녁, 다음날 평균 대기시간을 예측하고자 합니다.\n",
    "        * 날씨 데이터는 실제 측정값이지만, 다음 날에 대한 예보 데이터로 간주합니다. \n",
    "            * 예를 들어, \n",
    "                * 2020-12-23 의 날씨 데이터는 전날(12월22일) 날씨예보 데이터로 간주하여 분석을 수행합니다.\n",
    "                * 2020-12-22일의 장애인 이동 데이터로 23일의 대기시간을 예측해야 하며, 이때 고려할 날씨데이터는 23일 데이터 입니다.\n",
    "    * 장애인 이동 데이터를 기준으로 날씨 데이터를 붙입니다."
   ]
  },
  {
   "cell_type": "markdown",
   "metadata": {
    "id": "ftyolqe60QcQ"
   },
   "source": [
    "### (1) target 만들기\n",
    "* 예측하는 날짜, 대기시간(target)으로 기준을 잡습니다."
   ]
  },
  {
   "cell_type": "code",
   "execution_count": 166,
   "metadata": {
    "colab": {
     "base_uri": "https://localhost:8080/",
     "height": 423
    },
    "executionInfo": {
     "elapsed": 30,
     "status": "ok",
     "timestamp": 1682643024445,
     "user": {
      "displayName": "한기영",
      "userId": "13049187003176135487"
     },
     "user_tz": -540
    },
    "id": "p6YxTMCg0ZWf",
    "outputId": "b0750adb-2042-4151-fa6d-58efae1a8a62"
   },
   "outputs": [],
   "source": [
    "# 아래에 실습코드를 작성하고 결과를 확인합니다.\n",
    "# 익일의 대기시간(waiting time)을 오늘의 데이터를 활용하여 예측 해야하는 대상(target)으로 설정\n",
    "target = 'mean_time'\n"
   ]
  },
  {
   "cell_type": "markdown",
   "metadata": {
    "id": "DYUq-0NRUCjE"
   },
   "source": [
    "### (2) 날씨 데이터 붙이기\n",
    "* merge를 활용합니다. 기준은 운행정보 입니다."
   ]
  },
  {
   "cell_type": "code",
   "execution_count": 167,
   "metadata": {
    "tags": []
   },
   "outputs": [
    {
     "name": "stdout",
     "output_type": "stream",
     "text": [
      "<class 'pandas.core.frame.DataFrame'>\n",
      "RangeIndex: 4018 entries, 0 to 4017\n",
      "Data columns (total 7 columns):\n",
      " #   Column           Non-Null Count  Dtype         \n",
      "---  ------           --------------  -----         \n",
      " 0   Date             4018 non-null   datetime64[ns]\n",
      " 1   temp_max         4018 non-null   float64       \n",
      " 2   temp_min         4018 non-null   float64       \n",
      " 3   rain(mm)         4018 non-null   float64       \n",
      " 4   humidity_max(%)  4018 non-null   float64       \n",
      " 5   humidity_min(%)  4018 non-null   float64       \n",
      " 6   sunshine(MJ/m2)  4018 non-null   float64       \n",
      "dtypes: datetime64[ns](1), float64(6)\n",
      "memory usage: 219.9 KB\n",
      "None\n"
     ]
    }
   ],
   "source": [
    "# 아래에 실습코드를 작성하고 결과를 확인합니다.\n",
    "# 익일의 실제 날씨 데이터를 전일에 발표된 예보데이터로 판단\n",
    "wt_data['Date'] = pd.to_datetime(wt_data['Date'])\n",
    "print(wt_data.info())"
   ]
  },
  {
   "cell_type": "code",
   "execution_count": 168,
   "metadata": {
    "tags": []
   },
   "outputs": [],
   "source": [
    "df = pd.merge(taxi_data, wt_data, how='inner')\n",
    "# df_copy = df.copy()"
   ]
  },
  {
   "cell_type": "code",
   "execution_count": 169,
   "metadata": {
    "colab": {
     "base_uri": "https://localhost:8080/",
     "height": 661
    },
    "executionInfo": {
     "elapsed": 29,
     "status": "ok",
     "timestamp": 1682643024446,
     "user": {
      "displayName": "한기영",
      "userId": "13049187003176135487"
     },
     "user_tz": -540
    },
    "id": "40yEcHs4Vcje",
    "outputId": "13eff934-019f-475c-f1af-975fda3c3198",
    "tags": []
   },
   "outputs": [
    {
     "data": {
      "text/html": [
       "<div>\n",
       "<style scoped>\n",
       "    .dataframe tbody tr th:only-of-type {\n",
       "        vertical-align: middle;\n",
       "    }\n",
       "\n",
       "    .dataframe tbody tr th {\n",
       "        vertical-align: top;\n",
       "    }\n",
       "\n",
       "    .dataframe thead th {\n",
       "        text-align: right;\n",
       "    }\n",
       "</style>\n",
       "<table border=\"1\" class=\"dataframe\">\n",
       "  <thead>\n",
       "    <tr style=\"text-align: right;\">\n",
       "      <th></th>\n",
       "      <th>Date</th>\n",
       "      <th>taxi_num</th>\n",
       "      <th>call_num</th>\n",
       "      <th>success</th>\n",
       "      <th>mean_time</th>\n",
       "      <th>mean_fee</th>\n",
       "      <th>mean_dit</th>\n",
       "      <th>weekday</th>\n",
       "      <th>month</th>\n",
       "      <th>year</th>\n",
       "      <th>day</th>\n",
       "      <th>temp_max</th>\n",
       "      <th>temp_min</th>\n",
       "      <th>rain(mm)</th>\n",
       "      <th>humidity_max(%)</th>\n",
       "      <th>humidity_min(%)</th>\n",
       "      <th>sunshine(MJ/m2)</th>\n",
       "    </tr>\n",
       "  </thead>\n",
       "  <tbody>\n",
       "    <tr>\n",
       "      <th>0</th>\n",
       "      <td>2015-01-01</td>\n",
       "      <td>213</td>\n",
       "      <td>1023</td>\n",
       "      <td>924</td>\n",
       "      <td>23.2</td>\n",
       "      <td>2427</td>\n",
       "      <td>10764</td>\n",
       "      <td>3</td>\n",
       "      <td>1</td>\n",
       "      <td>2015</td>\n",
       "      <td>1</td>\n",
       "      <td>-4.3</td>\n",
       "      <td>-9.8</td>\n",
       "      <td>0.0</td>\n",
       "      <td>52.0</td>\n",
       "      <td>33.0</td>\n",
       "      <td>9.79</td>\n",
       "    </tr>\n",
       "    <tr>\n",
       "      <th>1</th>\n",
       "      <td>2015-01-02</td>\n",
       "      <td>420</td>\n",
       "      <td>3158</td>\n",
       "      <td>2839</td>\n",
       "      <td>17.2</td>\n",
       "      <td>2216</td>\n",
       "      <td>8611</td>\n",
       "      <td>4</td>\n",
       "      <td>1</td>\n",
       "      <td>2015</td>\n",
       "      <td>2</td>\n",
       "      <td>-2.0</td>\n",
       "      <td>-8.9</td>\n",
       "      <td>0.0</td>\n",
       "      <td>63.0</td>\n",
       "      <td>28.0</td>\n",
       "      <td>9.07</td>\n",
       "    </tr>\n",
       "  </tbody>\n",
       "</table>\n",
       "</div>"
      ],
      "text/plain": [
       "        Date  taxi_num  call_num  success  mean_time  mean_fee  mean_dit  \\\n",
       "0 2015-01-01       213      1023      924       23.2      2427     10764   \n",
       "1 2015-01-02       420      3158     2839       17.2      2216      8611   \n",
       "\n",
       "   weekday  month  year  day  temp_max  temp_min  rain(mm)  humidity_max(%)  \\\n",
       "0        3      1  2015    1      -4.3      -9.8       0.0             52.0   \n",
       "1        4      1  2015    2      -2.0      -8.9       0.0             63.0   \n",
       "\n",
       "   humidity_min(%)  sunshine(MJ/m2)  \n",
       "0             33.0             9.79  \n",
       "1             28.0             9.07  "
      ]
     },
     "execution_count": 169,
     "metadata": {},
     "output_type": "execute_result"
    }
   ],
   "source": [
    "# 아래에 실습코드를 작성하고 결과를 확인합니다.\n",
    "df.head(2)\n"
   ]
  },
  {
   "cell_type": "code",
   "execution_count": 170,
   "metadata": {
    "tags": []
   },
   "outputs": [
    {
     "data": {
      "text/plain": [
       "Date               0\n",
       "taxi_num           0\n",
       "call_num           0\n",
       "success            0\n",
       "mean_time          0\n",
       "mean_fee           0\n",
       "mean_dit           0\n",
       "weekday            0\n",
       "month              0\n",
       "year               0\n",
       "day                0\n",
       "temp_max           0\n",
       "temp_min           0\n",
       "rain(mm)           0\n",
       "humidity_max(%)    0\n",
       "humidity_min(%)    0\n",
       "sunshine(MJ/m2)    0\n",
       "dtype: int64"
      ]
     },
     "execution_count": 170,
     "metadata": {},
     "output_type": "execute_result"
    }
   ],
   "source": [
    "df.isna().sum() # 결측치 없음"
   ]
  },
  {
   "cell_type": "markdown",
   "metadata": {
    "id": "jj9Hs5bcX5OT"
   },
   "source": [
    "### (3) 새로운 feature를 생성해 봅시다.\n",
    "* 날짜와 관련된 변수 추가하기 : 요일, 월, 계절, 연도\n",
    "* 그외 새로운 feature 도출 : 최소 2개 이상\n",
    "    * 예 : 공휴일, 최근 7주일간의 평균 대기시간, 탑승률 등"
   ]
  },
  {
   "cell_type": "markdown",
   "metadata": {
    "id": "qY1k-Rz3abg5"
   },
   "source": [
    "#### 1) 날짜와 관련된 변수 추가하기 : 요일, 월, 계절, 연도\n",
    "* 요일 이름, 계절이름, 월 이름으로 만드는 경우에는, 변수를 pd.Categorical로 범주형을 만들면서 순서를 지정하는 것이 이후 그래프를 그릴 때 순서대로 표현할 수 있습니다.\n"
   ]
  },
  {
   "cell_type": "code",
   "execution_count": 171,
   "metadata": {
    "colab": {
     "base_uri": "https://localhost:8080/",
     "height": 661
    },
    "executionInfo": {
     "elapsed": 28,
     "status": "ok",
     "timestamp": 1682643024447,
     "user": {
      "displayName": "한기영",
      "userId": "13049187003176135487"
     },
     "user_tz": -540
    },
    "id": "b-N-DvK5aObm",
    "outputId": "2ccaab35-88ce-4aac-f3af-a25bbf90ea95"
   },
   "outputs": [],
   "source": [
    "# data0['weekday'] = data0['Date'].dt.day_name()\n",
    "# data0['weekday'] = pd.Categorical(data0['weekday'], \n",
    "#                                   categories=['Monday','Tuesday','Wednesday','Thursday','Friday','Saturday','Sunday'])\n",
    "# data0['month'] = data0['Date'].dt.month\n",
    "\n",
    "# data0['season'] = np.where(data0['month'].isin([3,4,5]), 'Spring',\n",
    "#                            np.where(data0['month'].isin([6,7,8]), 'Summer',\n",
    "#                                     np.where(data0['month'].isin([9,10,11]), 'Fall', 'Winter')))\n",
    "# data0['season'] = pd.Categorical(data0['season'], categories=['Spring','Summer','Fall','Winter'])\n",
    "                                     \n",
    "# data0['year'] = data0['Date'].dt.year\n",
    "# data0"
   ]
  },
  {
   "cell_type": "code",
   "execution_count": 172,
   "metadata": {
    "tags": []
   },
   "outputs": [],
   "source": [
    "df['weekday'] = df['weekday'].map({\n",
    "    0:'Monday', \n",
    "    1:'Tuesday', \n",
    "    2:'Wednesday', \n",
    "    3:'Thursday', \n",
    "    4:'Friday', \n",
    "    5:'Saturday',\n",
    "    6:'Sunday'})\n",
    "# pd.Categorical(df['weekday'], categories['Monday', 'Tuesday', 'Wednesday', 'Thursday', 'Friday', 'Saturday', 'Sunday'])"
   ]
  },
  {
   "cell_type": "markdown",
   "metadata": {
    "id": "P0exvho5bJu0"
   },
   "source": [
    "#### 2) 공휴일 정보\n",
    "* workalendar 패키지를 설치하고, 대한민국 공휴일 정보를 끌어와 봅시다."
   ]
  },
  {
   "cell_type": "markdown",
   "metadata": {
    "id": "rIVL7P-eOxlu"
   },
   "source": [
    "* 휴무일 데이터 패키지 설치"
   ]
  },
  {
   "cell_type": "code",
   "execution_count": 173,
   "metadata": {
    "colab": {
     "base_uri": "https://localhost:8080/"
    },
    "executionInfo": {
     "elapsed": 4697,
     "status": "ok",
     "timestamp": 1682643029118,
     "user": {
      "displayName": "한기영",
      "userId": "13049187003176135487"
     },
     "user_tz": -540
    },
    "id": "WzeatBPnXzmq",
    "outputId": "cb700fa5-d650-46c9-a801-91e123e9f78a",
    "tags": []
   },
   "outputs": [],
   "source": [
    "# !pip install workalendar"
   ]
  },
  {
   "cell_type": "markdown",
   "metadata": {
    "id": "wutMCvycO1s0"
   },
   "source": [
    "* 간단 사용법"
   ]
  },
  {
   "cell_type": "code",
   "execution_count": 174,
   "metadata": {
    "colab": {
     "base_uri": "https://localhost:8080/",
     "height": 520
    },
    "executionInfo": {
     "elapsed": 32,
     "status": "ok",
     "timestamp": 1682643029609,
     "user": {
      "displayName": "한기영",
      "userId": "13049187003176135487"
     },
     "user_tz": -540
    },
    "id": "_BhDiwDpOwcQ",
    "outputId": "9325a7eb-da0b-442e-e955-4670100fce1e",
    "tags": []
   },
   "outputs": [
    {
     "data": {
      "text/html": [
       "<div>\n",
       "<style scoped>\n",
       "    .dataframe tbody tr th:only-of-type {\n",
       "        vertical-align: middle;\n",
       "    }\n",
       "\n",
       "    .dataframe tbody tr th {\n",
       "        vertical-align: top;\n",
       "    }\n",
       "\n",
       "    .dataframe thead th {\n",
       "        text-align: right;\n",
       "    }\n",
       "</style>\n",
       "<table border=\"1\" class=\"dataframe\">\n",
       "  <thead>\n",
       "    <tr style=\"text-align: right;\">\n",
       "      <th></th>\n",
       "      <th>0</th>\n",
       "      <th>1</th>\n",
       "    </tr>\n",
       "  </thead>\n",
       "  <tbody>\n",
       "    <tr>\n",
       "      <th>0</th>\n",
       "      <td>2023-01-01</td>\n",
       "      <td>New year</td>\n",
       "    </tr>\n",
       "    <tr>\n",
       "      <th>1</th>\n",
       "      <td>2023-01-21</td>\n",
       "      <td>Korean New Year's Day</td>\n",
       "    </tr>\n",
       "    <tr>\n",
       "      <th>2</th>\n",
       "      <td>2023-01-22</td>\n",
       "      <td>Korean New Year's Day</td>\n",
       "    </tr>\n",
       "    <tr>\n",
       "      <th>3</th>\n",
       "      <td>2023-01-23</td>\n",
       "      <td>Korean New Year's Day</td>\n",
       "    </tr>\n",
       "    <tr>\n",
       "      <th>4</th>\n",
       "      <td>2023-03-01</td>\n",
       "      <td>Independence Day</td>\n",
       "    </tr>\n",
       "    <tr>\n",
       "      <th>5</th>\n",
       "      <td>2023-05-05</td>\n",
       "      <td>Children's Day</td>\n",
       "    </tr>\n",
       "    <tr>\n",
       "      <th>6</th>\n",
       "      <td>2023-05-26</td>\n",
       "      <td>Buddha's Birthday</td>\n",
       "    </tr>\n",
       "    <tr>\n",
       "      <th>7</th>\n",
       "      <td>2023-06-06</td>\n",
       "      <td>Memorial Day</td>\n",
       "    </tr>\n",
       "    <tr>\n",
       "      <th>8</th>\n",
       "      <td>2023-08-15</td>\n",
       "      <td>Liberation Day</td>\n",
       "    </tr>\n",
       "    <tr>\n",
       "      <th>9</th>\n",
       "      <td>2023-09-28</td>\n",
       "      <td>Midautumn Festival</td>\n",
       "    </tr>\n",
       "    <tr>\n",
       "      <th>10</th>\n",
       "      <td>2023-09-29</td>\n",
       "      <td>Midautumn Festival</td>\n",
       "    </tr>\n",
       "    <tr>\n",
       "      <th>11</th>\n",
       "      <td>2023-09-30</td>\n",
       "      <td>Midautumn Festival</td>\n",
       "    </tr>\n",
       "    <tr>\n",
       "      <th>12</th>\n",
       "      <td>2023-10-03</td>\n",
       "      <td>National Foundation Day</td>\n",
       "    </tr>\n",
       "    <tr>\n",
       "      <th>13</th>\n",
       "      <td>2023-10-09</td>\n",
       "      <td>Hangul Day</td>\n",
       "    </tr>\n",
       "    <tr>\n",
       "      <th>14</th>\n",
       "      <td>2023-12-25</td>\n",
       "      <td>Christmas Day</td>\n",
       "    </tr>\n",
       "  </tbody>\n",
       "</table>\n",
       "</div>"
      ],
      "text/plain": [
       "             0                        1\n",
       "0   2023-01-01                 New year\n",
       "1   2023-01-21    Korean New Year's Day\n",
       "2   2023-01-22    Korean New Year's Day\n",
       "3   2023-01-23    Korean New Year's Day\n",
       "4   2023-03-01         Independence Day\n",
       "5   2023-05-05           Children's Day\n",
       "6   2023-05-26        Buddha's Birthday\n",
       "7   2023-06-06             Memorial Day\n",
       "8   2023-08-15           Liberation Day\n",
       "9   2023-09-28       Midautumn Festival\n",
       "10  2023-09-29       Midautumn Festival\n",
       "11  2023-09-30       Midautumn Festival\n",
       "12  2023-10-03  National Foundation Day\n",
       "13  2023-10-09               Hangul Day\n",
       "14  2023-12-25            Christmas Day"
      ]
     },
     "execution_count": 174,
     "metadata": {},
     "output_type": "execute_result"
    }
   ],
   "source": [
    "from workalendar.asia import SouthKorea\n",
    "cal = SouthKorea()\n",
    "pd.DataFrame(cal.holidays(2023))"
   ]
  },
  {
   "cell_type": "markdown",
   "metadata": {
    "id": "BPag0pQoPQ_e"
   },
   "source": [
    "* 휴무일 데이터셋 만들기 2015 ~ 2022\n",
    "* 실제로 휴무일에 해당하지만 workalendar 라이브러리에 없는 날짜는 직접 추가해봅시다.\n",
    "    * 휴무일 장애인 콜택시의 접수건 변화에 대한 특징을 찾아 이를 바탕으로 데이터를 조회하여 찾아볼 수 있음"
   ]
  },
  {
   "cell_type": "code",
   "execution_count": 175,
   "metadata": {
    "colab": {
     "base_uri": "https://localhost:8080/",
     "height": 423
    },
    "executionInfo": {
     "elapsed": 32,
     "status": "ok",
     "timestamp": 1682643029611,
     "user": {
      "displayName": "한기영",
      "userId": "13049187003176135487"
     },
     "user_tz": -540
    },
    "id": "EWqrK9kkZsFH",
    "outputId": "d3d66a33-0a29-457e-bcf3-b1742760fe27",
    "tags": []
   },
   "outputs": [
    {
     "data": {
      "text/html": [
       "<div>\n",
       "<style scoped>\n",
       "    .dataframe tbody tr th:only-of-type {\n",
       "        vertical-align: middle;\n",
       "    }\n",
       "\n",
       "    .dataframe tbody tr th {\n",
       "        vertical-align: top;\n",
       "    }\n",
       "\n",
       "    .dataframe thead th {\n",
       "        text-align: right;\n",
       "    }\n",
       "</style>\n",
       "<table border=\"1\" class=\"dataframe\">\n",
       "  <thead>\n",
       "    <tr style=\"text-align: right;\">\n",
       "      <th></th>\n",
       "      <th>Date</th>\n",
       "      <th>holiday</th>\n",
       "    </tr>\n",
       "  </thead>\n",
       "  <tbody>\n",
       "    <tr>\n",
       "      <th>0</th>\n",
       "      <td>2015-01-01</td>\n",
       "      <td>1</td>\n",
       "    </tr>\n",
       "    <tr>\n",
       "      <th>1</th>\n",
       "      <td>2015-02-18</td>\n",
       "      <td>1</td>\n",
       "    </tr>\n",
       "    <tr>\n",
       "      <th>2</th>\n",
       "      <td>2015-02-19</td>\n",
       "      <td>1</td>\n",
       "    </tr>\n",
       "    <tr>\n",
       "      <th>3</th>\n",
       "      <td>2015-02-20</td>\n",
       "      <td>1</td>\n",
       "    </tr>\n",
       "    <tr>\n",
       "      <th>4</th>\n",
       "      <td>2015-03-01</td>\n",
       "      <td>1</td>\n",
       "    </tr>\n",
       "    <tr>\n",
       "      <th>...</th>\n",
       "      <td>...</td>\n",
       "      <td>...</td>\n",
       "    </tr>\n",
       "    <tr>\n",
       "      <th>10</th>\n",
       "      <td>2022-09-10</td>\n",
       "      <td>1</td>\n",
       "    </tr>\n",
       "    <tr>\n",
       "      <th>11</th>\n",
       "      <td>2022-09-11</td>\n",
       "      <td>1</td>\n",
       "    </tr>\n",
       "    <tr>\n",
       "      <th>12</th>\n",
       "      <td>2022-10-03</td>\n",
       "      <td>1</td>\n",
       "    </tr>\n",
       "    <tr>\n",
       "      <th>13</th>\n",
       "      <td>2022-10-09</td>\n",
       "      <td>1</td>\n",
       "    </tr>\n",
       "    <tr>\n",
       "      <th>14</th>\n",
       "      <td>2022-12-25</td>\n",
       "      <td>1</td>\n",
       "    </tr>\n",
       "  </tbody>\n",
       "</table>\n",
       "<p>120 rows × 2 columns</p>\n",
       "</div>"
      ],
      "text/plain": [
       "         Date  holiday\n",
       "0  2015-01-01        1\n",
       "1  2015-02-18        1\n",
       "2  2015-02-19        1\n",
       "3  2015-02-20        1\n",
       "4  2015-03-01        1\n",
       "..        ...      ...\n",
       "10 2022-09-10        1\n",
       "11 2022-09-11        1\n",
       "12 2022-10-03        1\n",
       "13 2022-10-09        1\n",
       "14 2022-12-25        1\n",
       "\n",
       "[120 rows x 2 columns]"
      ]
     },
     "execution_count": 175,
     "metadata": {},
     "output_type": "execute_result"
    }
   ],
   "source": [
    "from workalendar.asia import SouthKorea\n",
    "\n",
    "cal = SouthKorea()\n",
    "holiday = pd.DataFrame()\n",
    "for y in range(2015, 2023) :\n",
    "    holiday = pd.concat([holiday, pd.DataFrame(cal.holidays(y))], axis = 0)\n",
    "\n",
    "holiday.columns = ['Date', 'holiday']\n",
    "holiday['Date'] = pd.to_datetime(holiday['Date'])\n",
    "holiday['holiday'] = 1\n",
    "holiday"
   ]
  },
  {
   "cell_type": "markdown",
   "metadata": {
    "id": "L5cOYlg0hdpX"
   },
   "source": [
    "* 기존 데이터에 휴무일 정보 결합하기.\n",
    "* 휴무일이 아닌 날짜는 0으로 저장하시오."
   ]
  },
  {
   "cell_type": "code",
   "execution_count": 176,
   "metadata": {
    "executionInfo": {
     "elapsed": 31,
     "status": "ok",
     "timestamp": 1682643029612,
     "user": {
      "displayName": "한기영",
      "userId": "13049187003176135487"
     },
     "user_tz": -540
    },
    "id": "jHHh4H8icL3D",
    "tags": []
   },
   "outputs": [
    {
     "name": "stdout",
     "output_type": "stream",
     "text": [
      "Date               0\n",
      "taxi_num           0\n",
      "call_num           0\n",
      "success            0\n",
      "mean_time          0\n",
      "mean_fee           0\n",
      "mean_dit           0\n",
      "weekday            0\n",
      "month              0\n",
      "year               0\n",
      "day                0\n",
      "temp_max           0\n",
      "temp_min           0\n",
      "rain(mm)           0\n",
      "humidity_max(%)    0\n",
      "humidity_min(%)    0\n",
      "sunshine(MJ/m2)    0\n",
      "holiday            0\n",
      "dtype: int64\n"
     ]
    },
    {
     "data": {
      "text/html": [
       "<div>\n",
       "<style scoped>\n",
       "    .dataframe tbody tr th:only-of-type {\n",
       "        vertical-align: middle;\n",
       "    }\n",
       "\n",
       "    .dataframe tbody tr th {\n",
       "        vertical-align: top;\n",
       "    }\n",
       "\n",
       "    .dataframe thead th {\n",
       "        text-align: right;\n",
       "    }\n",
       "</style>\n",
       "<table border=\"1\" class=\"dataframe\">\n",
       "  <thead>\n",
       "    <tr style=\"text-align: right;\">\n",
       "      <th></th>\n",
       "      <th>Date</th>\n",
       "      <th>taxi_num</th>\n",
       "      <th>call_num</th>\n",
       "      <th>success</th>\n",
       "      <th>mean_time</th>\n",
       "      <th>mean_fee</th>\n",
       "      <th>mean_dit</th>\n",
       "      <th>weekday</th>\n",
       "      <th>month</th>\n",
       "      <th>year</th>\n",
       "      <th>day</th>\n",
       "      <th>temp_max</th>\n",
       "      <th>temp_min</th>\n",
       "      <th>rain(mm)</th>\n",
       "      <th>humidity_max(%)</th>\n",
       "      <th>humidity_min(%)</th>\n",
       "      <th>sunshine(MJ/m2)</th>\n",
       "      <th>holiday</th>\n",
       "    </tr>\n",
       "  </thead>\n",
       "  <tbody>\n",
       "    <tr>\n",
       "      <th>0</th>\n",
       "      <td>2015-01-01</td>\n",
       "      <td>213</td>\n",
       "      <td>1023</td>\n",
       "      <td>924</td>\n",
       "      <td>23.2</td>\n",
       "      <td>2427</td>\n",
       "      <td>10764</td>\n",
       "      <td>Thursday</td>\n",
       "      <td>1</td>\n",
       "      <td>2015</td>\n",
       "      <td>1</td>\n",
       "      <td>-4.3</td>\n",
       "      <td>-9.8</td>\n",
       "      <td>0.0</td>\n",
       "      <td>52.0</td>\n",
       "      <td>33.0</td>\n",
       "      <td>9.79</td>\n",
       "      <td>1.0</td>\n",
       "    </tr>\n",
       "    <tr>\n",
       "      <th>1</th>\n",
       "      <td>2015-01-02</td>\n",
       "      <td>420</td>\n",
       "      <td>3158</td>\n",
       "      <td>2839</td>\n",
       "      <td>17.2</td>\n",
       "      <td>2216</td>\n",
       "      <td>8611</td>\n",
       "      <td>Friday</td>\n",
       "      <td>1</td>\n",
       "      <td>2015</td>\n",
       "      <td>2</td>\n",
       "      <td>-2.0</td>\n",
       "      <td>-8.9</td>\n",
       "      <td>0.0</td>\n",
       "      <td>63.0</td>\n",
       "      <td>28.0</td>\n",
       "      <td>9.07</td>\n",
       "      <td>0.0</td>\n",
       "    </tr>\n",
       "    <tr>\n",
       "      <th>2</th>\n",
       "      <td>2015-01-03</td>\n",
       "      <td>209</td>\n",
       "      <td>1648</td>\n",
       "      <td>1514</td>\n",
       "      <td>26.2</td>\n",
       "      <td>2377</td>\n",
       "      <td>10198</td>\n",
       "      <td>Saturday</td>\n",
       "      <td>1</td>\n",
       "      <td>2015</td>\n",
       "      <td>3</td>\n",
       "      <td>2.4</td>\n",
       "      <td>-9.2</td>\n",
       "      <td>0.0</td>\n",
       "      <td>73.0</td>\n",
       "      <td>37.0</td>\n",
       "      <td>8.66</td>\n",
       "      <td>0.0</td>\n",
       "    </tr>\n",
       "  </tbody>\n",
       "</table>\n",
       "</div>"
      ],
      "text/plain": [
       "        Date  taxi_num  call_num  success  mean_time  mean_fee  mean_dit  \\\n",
       "0 2015-01-01       213      1023      924       23.2      2427     10764   \n",
       "1 2015-01-02       420      3158     2839       17.2      2216      8611   \n",
       "2 2015-01-03       209      1648     1514       26.2      2377     10198   \n",
       "\n",
       "    weekday  month  year  day  temp_max  temp_min  rain(mm)  humidity_max(%)  \\\n",
       "0  Thursday      1  2015    1      -4.3      -9.8       0.0             52.0   \n",
       "1    Friday      1  2015    2      -2.0      -8.9       0.0             63.0   \n",
       "2  Saturday      1  2015    3       2.4      -9.2       0.0             73.0   \n",
       "\n",
       "   humidity_min(%)  sunshine(MJ/m2)  holiday  \n",
       "0             33.0             9.79      1.0  \n",
       "1             28.0             9.07      0.0  \n",
       "2             37.0             8.66      0.0  "
      ]
     },
     "execution_count": 176,
     "metadata": {},
     "output_type": "execute_result"
    }
   ],
   "source": [
    "df = pd.merge(df, holiday, how = 'left')\n",
    "df = df.fillna({'holiday':0})\n",
    "print(df.isna().sum())\n",
    "df.head(3)"
   ]
  },
  {
   "cell_type": "markdown",
   "metadata": {
    "id": "bBnWrSF9dHMP"
   },
   "source": [
    "#### 3) 7일 이동평균 대기시간\n",
    "* rolling().mean() 사용"
   ]
  },
  {
   "cell_type": "code",
   "execution_count": 177,
   "metadata": {
    "colab": {
     "base_uri": "https://localhost:8080/",
     "height": 661
    },
    "executionInfo": {
     "elapsed": 31,
     "status": "ok",
     "timestamp": 1682643029613,
     "user": {
      "displayName": "한기영",
      "userId": "13049187003176135487"
     },
     "user_tz": -540
    },
    "id": "9fk23rt6dK53",
    "outputId": "0af2f175-e802-4e29-8ad2-03c662273d5a",
    "tags": []
   },
   "outputs": [
    {
     "data": {
      "text/html": [
       "<div>\n",
       "<style scoped>\n",
       "    .dataframe tbody tr th:only-of-type {\n",
       "        vertical-align: middle;\n",
       "    }\n",
       "\n",
       "    .dataframe tbody tr th {\n",
       "        vertical-align: top;\n",
       "    }\n",
       "\n",
       "    .dataframe thead th {\n",
       "        text-align: right;\n",
       "    }\n",
       "</style>\n",
       "<table border=\"1\" class=\"dataframe\">\n",
       "  <thead>\n",
       "    <tr style=\"text-align: right;\">\n",
       "      <th></th>\n",
       "      <th>Date</th>\n",
       "      <th>taxi_num</th>\n",
       "      <th>call_num</th>\n",
       "      <th>success</th>\n",
       "      <th>mean_time</th>\n",
       "      <th>mean_fee</th>\n",
       "      <th>mean_dit</th>\n",
       "      <th>weekday</th>\n",
       "      <th>month</th>\n",
       "      <th>year</th>\n",
       "      <th>day</th>\n",
       "      <th>temp_max</th>\n",
       "      <th>temp_min</th>\n",
       "      <th>rain(mm)</th>\n",
       "      <th>humidity_max(%)</th>\n",
       "      <th>humidity_min(%)</th>\n",
       "      <th>sunshine(MJ/m2)</th>\n",
       "      <th>holiday</th>\n",
       "      <th>mean_time_7days</th>\n",
       "    </tr>\n",
       "  </thead>\n",
       "  <tbody>\n",
       "    <tr>\n",
       "      <th>0</th>\n",
       "      <td>2015-01-01</td>\n",
       "      <td>213</td>\n",
       "      <td>1023</td>\n",
       "      <td>924</td>\n",
       "      <td>23.2</td>\n",
       "      <td>2427</td>\n",
       "      <td>10764</td>\n",
       "      <td>Thursday</td>\n",
       "      <td>1</td>\n",
       "      <td>2015</td>\n",
       "      <td>1</td>\n",
       "      <td>-4.3</td>\n",
       "      <td>-9.8</td>\n",
       "      <td>0.0</td>\n",
       "      <td>52.0</td>\n",
       "      <td>33.0</td>\n",
       "      <td>9.79</td>\n",
       "      <td>1.0</td>\n",
       "      <td>23.200</td>\n",
       "    </tr>\n",
       "    <tr>\n",
       "      <th>1</th>\n",
       "      <td>2015-01-02</td>\n",
       "      <td>420</td>\n",
       "      <td>3158</td>\n",
       "      <td>2839</td>\n",
       "      <td>17.2</td>\n",
       "      <td>2216</td>\n",
       "      <td>8611</td>\n",
       "      <td>Friday</td>\n",
       "      <td>1</td>\n",
       "      <td>2015</td>\n",
       "      <td>2</td>\n",
       "      <td>-2.0</td>\n",
       "      <td>-8.9</td>\n",
       "      <td>0.0</td>\n",
       "      <td>63.0</td>\n",
       "      <td>28.0</td>\n",
       "      <td>9.07</td>\n",
       "      <td>0.0</td>\n",
       "      <td>20.200</td>\n",
       "    </tr>\n",
       "    <tr>\n",
       "      <th>2</th>\n",
       "      <td>2015-01-03</td>\n",
       "      <td>209</td>\n",
       "      <td>1648</td>\n",
       "      <td>1514</td>\n",
       "      <td>26.2</td>\n",
       "      <td>2377</td>\n",
       "      <td>10198</td>\n",
       "      <td>Saturday</td>\n",
       "      <td>1</td>\n",
       "      <td>2015</td>\n",
       "      <td>3</td>\n",
       "      <td>2.4</td>\n",
       "      <td>-9.2</td>\n",
       "      <td>0.0</td>\n",
       "      <td>73.0</td>\n",
       "      <td>37.0</td>\n",
       "      <td>8.66</td>\n",
       "      <td>0.0</td>\n",
       "      <td>22.200</td>\n",
       "    </tr>\n",
       "    <tr>\n",
       "      <th>3</th>\n",
       "      <td>2015-01-04</td>\n",
       "      <td>196</td>\n",
       "      <td>1646</td>\n",
       "      <td>1526</td>\n",
       "      <td>24.5</td>\n",
       "      <td>2431</td>\n",
       "      <td>10955</td>\n",
       "      <td>Sunday</td>\n",
       "      <td>1</td>\n",
       "      <td>2015</td>\n",
       "      <td>4</td>\n",
       "      <td>8.2</td>\n",
       "      <td>0.2</td>\n",
       "      <td>0.0</td>\n",
       "      <td>89.0</td>\n",
       "      <td>58.0</td>\n",
       "      <td>5.32</td>\n",
       "      <td>0.0</td>\n",
       "      <td>22.775</td>\n",
       "    </tr>\n",
       "  </tbody>\n",
       "</table>\n",
       "</div>"
      ],
      "text/plain": [
       "        Date  taxi_num  call_num  success  mean_time  mean_fee  mean_dit  \\\n",
       "0 2015-01-01       213      1023      924       23.2      2427     10764   \n",
       "1 2015-01-02       420      3158     2839       17.2      2216      8611   \n",
       "2 2015-01-03       209      1648     1514       26.2      2377     10198   \n",
       "3 2015-01-04       196      1646     1526       24.5      2431     10955   \n",
       "\n",
       "    weekday  month  year  day  temp_max  temp_min  rain(mm)  humidity_max(%)  \\\n",
       "0  Thursday      1  2015    1      -4.3      -9.8       0.0             52.0   \n",
       "1    Friday      1  2015    2      -2.0      -8.9       0.0             63.0   \n",
       "2  Saturday      1  2015    3       2.4      -9.2       0.0             73.0   \n",
       "3    Sunday      1  2015    4       8.2       0.2       0.0             89.0   \n",
       "\n",
       "   humidity_min(%)  sunshine(MJ/m2)  holiday  mean_time_7days  \n",
       "0             33.0             9.79      1.0           23.200  \n",
       "1             28.0             9.07      0.0           20.200  \n",
       "2             37.0             8.66      0.0           22.200  \n",
       "3             58.0             5.32      0.0           22.775  "
      ]
     },
     "execution_count": 177,
     "metadata": {},
     "output_type": "execute_result"
    }
   ],
   "source": [
    "# 아래에 실습코드를 작성하고 결과를 확인합니다.\n",
    "df['mean_time_7days'] = df['mean_time'].rolling(7, min_periods=1).mean()\n",
    "df.head(4)"
   ]
  },
  {
   "cell_type": "markdown",
   "metadata": {
    "id": "eMZJxlaReHZW",
    "tags": []
   },
   "source": [
    "#### 4) 탑승률"
   ]
  },
  {
   "cell_type": "code",
   "execution_count": 178,
   "metadata": {
    "colab": {
     "base_uri": "https://localhost:8080/",
     "height": 661
    },
    "executionInfo": {
     "elapsed": 29,
     "status": "ok",
     "timestamp": 1682643029613,
     "user": {
      "displayName": "한기영",
      "userId": "13049187003176135487"
     },
     "user_tz": -540
    },
    "id": "BchF6jZTeMXJ",
    "outputId": "efd902a7-4c08-4f95-d4f9-17dd1c0ada96"
   },
   "outputs": [
    {
     "data": {
      "text/html": [
       "<div>\n",
       "<style scoped>\n",
       "    .dataframe tbody tr th:only-of-type {\n",
       "        vertical-align: middle;\n",
       "    }\n",
       "\n",
       "    .dataframe tbody tr th {\n",
       "        vertical-align: top;\n",
       "    }\n",
       "\n",
       "    .dataframe thead th {\n",
       "        text-align: right;\n",
       "    }\n",
       "</style>\n",
       "<table border=\"1\" class=\"dataframe\">\n",
       "  <thead>\n",
       "    <tr style=\"text-align: right;\">\n",
       "      <th></th>\n",
       "      <th>Date</th>\n",
       "      <th>taxi_num</th>\n",
       "      <th>call_num</th>\n",
       "      <th>success</th>\n",
       "      <th>mean_time</th>\n",
       "      <th>mean_fee</th>\n",
       "      <th>mean_dit</th>\n",
       "      <th>weekday</th>\n",
       "      <th>month</th>\n",
       "      <th>year</th>\n",
       "      <th>...</th>\n",
       "      <th>temp_min</th>\n",
       "      <th>rain(mm)</th>\n",
       "      <th>humidity_max(%)</th>\n",
       "      <th>humidity_min(%)</th>\n",
       "      <th>sunshine(MJ/m2)</th>\n",
       "      <th>holiday</th>\n",
       "      <th>mean_time_7days</th>\n",
       "      <th>board_rate</th>\n",
       "      <th>taxi_rate</th>\n",
       "      <th>quarter</th>\n",
       "    </tr>\n",
       "  </thead>\n",
       "  <tbody>\n",
       "    <tr>\n",
       "      <th>90</th>\n",
       "      <td>2015-04-01</td>\n",
       "      <td>459</td>\n",
       "      <td>4488</td>\n",
       "      <td>4091</td>\n",
       "      <td>28.4</td>\n",
       "      <td>2250</td>\n",
       "      <td>8994</td>\n",
       "      <td>Wednesday</td>\n",
       "      <td>4</td>\n",
       "      <td>2015</td>\n",
       "      <td>...</td>\n",
       "      <td>10.7</td>\n",
       "      <td>4.8</td>\n",
       "      <td>100.0</td>\n",
       "      <td>41.0</td>\n",
       "      <td>14.44</td>\n",
       "      <td>0.0</td>\n",
       "      <td>31.100000</td>\n",
       "      <td>0.911542</td>\n",
       "      <td>0.102273</td>\n",
       "      <td>2</td>\n",
       "    </tr>\n",
       "    <tr>\n",
       "      <th>91</th>\n",
       "      <td>2015-04-02</td>\n",
       "      <td>478</td>\n",
       "      <td>4674</td>\n",
       "      <td>4209</td>\n",
       "      <td>25.6</td>\n",
       "      <td>2219</td>\n",
       "      <td>8554</td>\n",
       "      <td>Thursday</td>\n",
       "      <td>4</td>\n",
       "      <td>2015</td>\n",
       "      <td>...</td>\n",
       "      <td>8.5</td>\n",
       "      <td>26.5</td>\n",
       "      <td>98.0</td>\n",
       "      <td>42.0</td>\n",
       "      <td>11.50</td>\n",
       "      <td>0.0</td>\n",
       "      <td>30.885714</td>\n",
       "      <td>0.900513</td>\n",
       "      <td>0.102268</td>\n",
       "      <td>2</td>\n",
       "    </tr>\n",
       "  </tbody>\n",
       "</table>\n",
       "<p>2 rows × 22 columns</p>\n",
       "</div>"
      ],
      "text/plain": [
       "         Date  taxi_num  call_num  success  mean_time  mean_fee  mean_dit  \\\n",
       "90 2015-04-01       459      4488     4091       28.4      2250      8994   \n",
       "91 2015-04-02       478      4674     4209       25.6      2219      8554   \n",
       "\n",
       "      weekday  month  year  ...  temp_min  rain(mm)  humidity_max(%)  \\\n",
       "90  Wednesday      4  2015  ...      10.7       4.8            100.0   \n",
       "91   Thursday      4  2015  ...       8.5      26.5             98.0   \n",
       "\n",
       "    humidity_min(%)  sunshine(MJ/m2)  holiday  mean_time_7days  board_rate  \\\n",
       "90             41.0            14.44      0.0        31.100000    0.911542   \n",
       "91             42.0            11.50      0.0        30.885714    0.900513   \n",
       "\n",
       "    taxi_rate  quarter  \n",
       "90   0.102273        2  \n",
       "91   0.102268        2  \n",
       "\n",
       "[2 rows x 22 columns]"
      ]
     },
     "execution_count": 178,
     "metadata": {},
     "output_type": "execute_result"
    }
   ],
   "source": [
    "\n",
    "# 탑승률 = success / call_num\n",
    "# 택시비율 = taxi_num / call_num\n",
    "df['board_rate'] = df['success'] / df['call_num'] \n",
    "df['taxi_rate'] = df['taxi_num'] / df['call_num']\n",
    "df.head(2)\n",
    "# quarter 별 분류\n",
    "bins = [0, 3, 6, 9, 12]\n",
    "names = ['1','2','3','4']\n",
    "df['quarter'] = pd.cut(df['month'], bins=bins, labels=names)\n",
    "df.loc[df['month']==4,:].head(2)"
   ]
  },
  {
   "cell_type": "markdown",
   "metadata": {
    "id": "_xX5H9wZPuv9"
   },
   "source": [
    "## 4.데이터 저장\n",
    "* **세부요구사항**\n",
    "    * joblib 을 사용하여 작업 경로에 정리한 데이터프레임을 저장합니다.\n",
    "        * 저장파일이름 : data1.pkl"
   ]
  },
  {
   "cell_type": "markdown",
   "metadata": {},
   "source": [
    "* 날씨데이터 shift 시켜서 붙이기\n",
    "* temp_max, temp_min, rain(mm), humidity_max(%), humidity_min(%), sunshine(MJ/m2)"
   ]
  },
  {
   "cell_type": "code",
   "execution_count": 179,
   "metadata": {
    "tags": []
   },
   "outputs": [
    {
     "data": {
      "text/plain": [
       "(2923, 22)"
      ]
     },
     "execution_count": 179,
     "metadata": {},
     "output_type": "execute_result"
    }
   ],
   "source": [
    "df.shape"
   ]
  },
  {
   "cell_type": "code",
   "execution_count": 180,
   "metadata": {
    "tags": []
   },
   "outputs": [],
   "source": [
    "# weather_cols = list(wt_data)[1:]\n",
    "# df.loc[:,weather_cols] = df.loc[:,weather_cols].shift(-1)"
   ]
  },
  {
   "cell_type": "code",
   "execution_count": 181,
   "metadata": {
    "tags": []
   },
   "outputs": [
    {
     "data": {
      "text/html": [
       "<div>\n",
       "<style scoped>\n",
       "    .dataframe tbody tr th:only-of-type {\n",
       "        vertical-align: middle;\n",
       "    }\n",
       "\n",
       "    .dataframe tbody tr th {\n",
       "        vertical-align: top;\n",
       "    }\n",
       "\n",
       "    .dataframe thead th {\n",
       "        text-align: right;\n",
       "    }\n",
       "</style>\n",
       "<table border=\"1\" class=\"dataframe\">\n",
       "  <thead>\n",
       "    <tr style=\"text-align: right;\">\n",
       "      <th></th>\n",
       "      <th>Date</th>\n",
       "      <th>taxi_num</th>\n",
       "      <th>call_num</th>\n",
       "      <th>success</th>\n",
       "      <th>mean_time</th>\n",
       "      <th>mean_fee</th>\n",
       "      <th>mean_dit</th>\n",
       "      <th>weekday</th>\n",
       "      <th>month</th>\n",
       "      <th>year</th>\n",
       "      <th>...</th>\n",
       "      <th>temp_min</th>\n",
       "      <th>rain(mm)</th>\n",
       "      <th>humidity_max(%)</th>\n",
       "      <th>humidity_min(%)</th>\n",
       "      <th>sunshine(MJ/m2)</th>\n",
       "      <th>holiday</th>\n",
       "      <th>mean_time_7days</th>\n",
       "      <th>board_rate</th>\n",
       "      <th>taxi_rate</th>\n",
       "      <th>quarter</th>\n",
       "    </tr>\n",
       "  </thead>\n",
       "  <tbody>\n",
       "    <tr>\n",
       "      <th>2918</th>\n",
       "      <td>2022-12-27</td>\n",
       "      <td>669</td>\n",
       "      <td>5635</td>\n",
       "      <td>4654</td>\n",
       "      <td>44.4</td>\n",
       "      <td>2198</td>\n",
       "      <td>8178</td>\n",
       "      <td>Tuesday</td>\n",
       "      <td>12</td>\n",
       "      <td>2022</td>\n",
       "      <td>...</td>\n",
       "      <td>-7.3</td>\n",
       "      <td>0.0</td>\n",
       "      <td>86.0</td>\n",
       "      <td>51.0</td>\n",
       "      <td>10.25</td>\n",
       "      <td>0.0</td>\n",
       "      <td>42.771429</td>\n",
       "      <td>0.825909</td>\n",
       "      <td>0.118722</td>\n",
       "      <td>4</td>\n",
       "    </tr>\n",
       "    <tr>\n",
       "      <th>2919</th>\n",
       "      <td>2022-12-28</td>\n",
       "      <td>607</td>\n",
       "      <td>5654</td>\n",
       "      <td>4648</td>\n",
       "      <td>44.8</td>\n",
       "      <td>2161</td>\n",
       "      <td>7882</td>\n",
       "      <td>Wednesday</td>\n",
       "      <td>12</td>\n",
       "      <td>2022</td>\n",
       "      <td>...</td>\n",
       "      <td>-5.4</td>\n",
       "      <td>0.1</td>\n",
       "      <td>92.0</td>\n",
       "      <td>40.0</td>\n",
       "      <td>10.86</td>\n",
       "      <td>0.0</td>\n",
       "      <td>43.514286</td>\n",
       "      <td>0.822073</td>\n",
       "      <td>0.107358</td>\n",
       "      <td>4</td>\n",
       "    </tr>\n",
       "    <tr>\n",
       "      <th>2920</th>\n",
       "      <td>2022-12-29</td>\n",
       "      <td>581</td>\n",
       "      <td>5250</td>\n",
       "      <td>4247</td>\n",
       "      <td>52.5</td>\n",
       "      <td>2229</td>\n",
       "      <td>8433</td>\n",
       "      <td>Thursday</td>\n",
       "      <td>12</td>\n",
       "      <td>2022</td>\n",
       "      <td>...</td>\n",
       "      <td>-7.8</td>\n",
       "      <td>0.0</td>\n",
       "      <td>71.0</td>\n",
       "      <td>34.0</td>\n",
       "      <td>10.88</td>\n",
       "      <td>0.0</td>\n",
       "      <td>42.957143</td>\n",
       "      <td>0.808952</td>\n",
       "      <td>0.110667</td>\n",
       "      <td>4</td>\n",
       "    </tr>\n",
       "    <tr>\n",
       "      <th>2921</th>\n",
       "      <td>2022-12-30</td>\n",
       "      <td>600</td>\n",
       "      <td>5293</td>\n",
       "      <td>4200</td>\n",
       "      <td>38.3</td>\n",
       "      <td>2183</td>\n",
       "      <td>8155</td>\n",
       "      <td>Friday</td>\n",
       "      <td>12</td>\n",
       "      <td>2022</td>\n",
       "      <td>...</td>\n",
       "      <td>-4.0</td>\n",
       "      <td>0.0</td>\n",
       "      <td>87.0</td>\n",
       "      <td>38.0</td>\n",
       "      <td>10.84</td>\n",
       "      <td>0.0</td>\n",
       "      <td>41.042857</td>\n",
       "      <td>0.793501</td>\n",
       "      <td>0.113357</td>\n",
       "      <td>4</td>\n",
       "    </tr>\n",
       "    <tr>\n",
       "      <th>2922</th>\n",
       "      <td>2022-12-31</td>\n",
       "      <td>263</td>\n",
       "      <td>2167</td>\n",
       "      <td>1806</td>\n",
       "      <td>33.7</td>\n",
       "      <td>2318</td>\n",
       "      <td>9435</td>\n",
       "      <td>Saturday</td>\n",
       "      <td>12</td>\n",
       "      <td>2022</td>\n",
       "      <td>...</td>\n",
       "      <td>-4.4</td>\n",
       "      <td>0.0</td>\n",
       "      <td>66.0</td>\n",
       "      <td>66.0</td>\n",
       "      <td>0.00</td>\n",
       "      <td>0.0</td>\n",
       "      <td>41.657143</td>\n",
       "      <td>0.833410</td>\n",
       "      <td>0.121366</td>\n",
       "      <td>4</td>\n",
       "    </tr>\n",
       "  </tbody>\n",
       "</table>\n",
       "<p>5 rows × 22 columns</p>\n",
       "</div>"
      ],
      "text/plain": [
       "           Date  taxi_num  call_num  success  mean_time  mean_fee  mean_dit  \\\n",
       "2918 2022-12-27       669      5635     4654       44.4      2198      8178   \n",
       "2919 2022-12-28       607      5654     4648       44.8      2161      7882   \n",
       "2920 2022-12-29       581      5250     4247       52.5      2229      8433   \n",
       "2921 2022-12-30       600      5293     4200       38.3      2183      8155   \n",
       "2922 2022-12-31       263      2167     1806       33.7      2318      9435   \n",
       "\n",
       "        weekday  month  year  ...  temp_min  rain(mm)  humidity_max(%)  \\\n",
       "2918    Tuesday     12  2022  ...      -7.3       0.0             86.0   \n",
       "2919  Wednesday     12  2022  ...      -5.4       0.1             92.0   \n",
       "2920   Thursday     12  2022  ...      -7.8       0.0             71.0   \n",
       "2921     Friday     12  2022  ...      -4.0       0.0             87.0   \n",
       "2922   Saturday     12  2022  ...      -4.4       0.0             66.0   \n",
       "\n",
       "      humidity_min(%)  sunshine(MJ/m2)  holiday  mean_time_7days  board_rate  \\\n",
       "2918             51.0            10.25      0.0        42.771429    0.825909   \n",
       "2919             40.0            10.86      0.0        43.514286    0.822073   \n",
       "2920             34.0            10.88      0.0        42.957143    0.808952   \n",
       "2921             38.0            10.84      0.0        41.042857    0.793501   \n",
       "2922             66.0             0.00      0.0        41.657143    0.833410   \n",
       "\n",
       "      taxi_rate  quarter  \n",
       "2918   0.118722        4  \n",
       "2919   0.107358        4  \n",
       "2920   0.110667        4  \n",
       "2921   0.113357        4  \n",
       "2922   0.121366        4  \n",
       "\n",
       "[5 rows x 22 columns]"
      ]
     },
     "execution_count": 181,
     "metadata": {},
     "output_type": "execute_result"
    }
   ],
   "source": [
    "df.tail()"
   ]
  },
  {
   "cell_type": "code",
   "execution_count": 182,
   "metadata": {
    "tags": []
   },
   "outputs": [
    {
     "data": {
      "text/html": [
       "<div>\n",
       "<style scoped>\n",
       "    .dataframe tbody tr th:only-of-type {\n",
       "        vertical-align: middle;\n",
       "    }\n",
       "\n",
       "    .dataframe tbody tr th {\n",
       "        vertical-align: top;\n",
       "    }\n",
       "\n",
       "    .dataframe thead th {\n",
       "        text-align: right;\n",
       "    }\n",
       "</style>\n",
       "<table border=\"1\" class=\"dataframe\">\n",
       "  <thead>\n",
       "    <tr style=\"text-align: right;\">\n",
       "      <th></th>\n",
       "      <th>Date</th>\n",
       "      <th>temp_max</th>\n",
       "      <th>temp_min</th>\n",
       "      <th>rain(mm)</th>\n",
       "      <th>humidity_max(%)</th>\n",
       "      <th>humidity_min(%)</th>\n",
       "      <th>sunshine(MJ/m2)</th>\n",
       "    </tr>\n",
       "  </thead>\n",
       "  <tbody>\n",
       "    <tr>\n",
       "      <th>4013</th>\n",
       "      <td>2022-12-27</td>\n",
       "      <td>3.0</td>\n",
       "      <td>-7.3</td>\n",
       "      <td>0.0</td>\n",
       "      <td>86.0</td>\n",
       "      <td>51.0</td>\n",
       "      <td>10.25</td>\n",
       "    </tr>\n",
       "    <tr>\n",
       "      <th>4014</th>\n",
       "      <td>2022-12-28</td>\n",
       "      <td>-0.3</td>\n",
       "      <td>-5.4</td>\n",
       "      <td>0.1</td>\n",
       "      <td>92.0</td>\n",
       "      <td>40.0</td>\n",
       "      <td>10.86</td>\n",
       "    </tr>\n",
       "    <tr>\n",
       "      <th>4015</th>\n",
       "      <td>2022-12-29</td>\n",
       "      <td>1.7</td>\n",
       "      <td>-7.8</td>\n",
       "      <td>0.0</td>\n",
       "      <td>71.0</td>\n",
       "      <td>34.0</td>\n",
       "      <td>10.88</td>\n",
       "    </tr>\n",
       "    <tr>\n",
       "      <th>4016</th>\n",
       "      <td>2022-12-30</td>\n",
       "      <td>2.1</td>\n",
       "      <td>-4.0</td>\n",
       "      <td>0.0</td>\n",
       "      <td>87.0</td>\n",
       "      <td>38.0</td>\n",
       "      <td>10.84</td>\n",
       "    </tr>\n",
       "    <tr>\n",
       "      <th>4017</th>\n",
       "      <td>2022-12-31</td>\n",
       "      <td>-4.4</td>\n",
       "      <td>-4.4</td>\n",
       "      <td>0.0</td>\n",
       "      <td>66.0</td>\n",
       "      <td>66.0</td>\n",
       "      <td>0.00</td>\n",
       "    </tr>\n",
       "  </tbody>\n",
       "</table>\n",
       "</div>"
      ],
      "text/plain": [
       "           Date  temp_max  temp_min  rain(mm)  humidity_max(%)  \\\n",
       "4013 2022-12-27       3.0      -7.3       0.0             86.0   \n",
       "4014 2022-12-28      -0.3      -5.4       0.1             92.0   \n",
       "4015 2022-12-29       1.7      -7.8       0.0             71.0   \n",
       "4016 2022-12-30       2.1      -4.0       0.0             87.0   \n",
       "4017 2022-12-31      -4.4      -4.4       0.0             66.0   \n",
       "\n",
       "      humidity_min(%)  sunshine(MJ/m2)  \n",
       "4013             51.0            10.25  \n",
       "4014             40.0            10.86  \n",
       "4015             34.0            10.88  \n",
       "4016             38.0            10.84  \n",
       "4017             66.0             0.00  "
      ]
     },
     "execution_count": 182,
     "metadata": {},
     "output_type": "execute_result"
    }
   ],
   "source": [
    "wt_data.tail()"
   ]
  },
  {
   "cell_type": "code",
   "execution_count": 183,
   "metadata": {
    "tags": []
   },
   "outputs": [],
   "source": [
    "# df.dropna(inplace=True)\n",
    "# df.isna().sum()"
   ]
  },
  {
   "cell_type": "code",
   "execution_count": 195,
   "metadata": {
    "tags": []
   },
   "outputs": [
    {
     "data": {
      "text/plain": [
       "['data.pkl']"
      ]
     },
     "execution_count": 195,
     "metadata": {},
     "output_type": "execute_result"
    }
   ],
   "source": [
    "# '.pkl'로 저장\n",
    "import joblib\n",
    "joblib.dump(df,'data.pkl')"
   ]
  },
  {
   "cell_type": "code",
   "execution_count": 185,
   "metadata": {
    "tags": []
   },
   "outputs": [],
   "source": [
    "# target 데이터, 즉 다음날 mean_time을 저장해야함\n",
    "# holiday도 마찬가지, 날씨도 마찬가지\n",
    "weather_cols = list(wt_data)[1:]\n",
    "df.loc[:,weather_cols] = df.loc[:,weather_cols].shift(-1)"
   ]
  },
  {
   "cell_type": "code",
   "execution_count": 190,
   "metadata": {
    "tags": []
   },
   "outputs": [
    {
     "data": {
      "text/html": [
       "<div>\n",
       "<style scoped>\n",
       "    .dataframe tbody tr th:only-of-type {\n",
       "        vertical-align: middle;\n",
       "    }\n",
       "\n",
       "    .dataframe tbody tr th {\n",
       "        vertical-align: top;\n",
       "    }\n",
       "\n",
       "    .dataframe thead th {\n",
       "        text-align: right;\n",
       "    }\n",
       "</style>\n",
       "<table border=\"1\" class=\"dataframe\">\n",
       "  <thead>\n",
       "    <tr style=\"text-align: right;\">\n",
       "      <th></th>\n",
       "      <th>Date</th>\n",
       "      <th>taxi_num</th>\n",
       "      <th>call_num</th>\n",
       "      <th>success</th>\n",
       "      <th>mean_time</th>\n",
       "      <th>mean_fee</th>\n",
       "      <th>mean_dit</th>\n",
       "      <th>weekday</th>\n",
       "      <th>month</th>\n",
       "      <th>year</th>\n",
       "      <th>...</th>\n",
       "      <th>humidity_max(%)</th>\n",
       "      <th>humidity_min(%)</th>\n",
       "      <th>sunshine(MJ/m2)</th>\n",
       "      <th>holiday</th>\n",
       "      <th>mean_time_7days</th>\n",
       "      <th>board_rate</th>\n",
       "      <th>taxi_rate</th>\n",
       "      <th>quarter</th>\n",
       "      <th>next_mean_time</th>\n",
       "      <th>next_holiday</th>\n",
       "    </tr>\n",
       "  </thead>\n",
       "  <tbody>\n",
       "    <tr>\n",
       "      <th>2918</th>\n",
       "      <td>2022-12-27</td>\n",
       "      <td>669</td>\n",
       "      <td>5635</td>\n",
       "      <td>4654</td>\n",
       "      <td>44.4</td>\n",
       "      <td>2198</td>\n",
       "      <td>8178</td>\n",
       "      <td>Wednesday</td>\n",
       "      <td>12.0</td>\n",
       "      <td>2022.0</td>\n",
       "      <td>...</td>\n",
       "      <td>92.0</td>\n",
       "      <td>40.0</td>\n",
       "      <td>10.86</td>\n",
       "      <td>0.0</td>\n",
       "      <td>42.771429</td>\n",
       "      <td>0.825909</td>\n",
       "      <td>0.118722</td>\n",
       "      <td>4</td>\n",
       "      <td>44.8</td>\n",
       "      <td>0.0</td>\n",
       "    </tr>\n",
       "    <tr>\n",
       "      <th>2919</th>\n",
       "      <td>2022-12-28</td>\n",
       "      <td>607</td>\n",
       "      <td>5654</td>\n",
       "      <td>4648</td>\n",
       "      <td>44.8</td>\n",
       "      <td>2161</td>\n",
       "      <td>7882</td>\n",
       "      <td>Thursday</td>\n",
       "      <td>12.0</td>\n",
       "      <td>2022.0</td>\n",
       "      <td>...</td>\n",
       "      <td>71.0</td>\n",
       "      <td>34.0</td>\n",
       "      <td>10.88</td>\n",
       "      <td>0.0</td>\n",
       "      <td>43.514286</td>\n",
       "      <td>0.822073</td>\n",
       "      <td>0.107358</td>\n",
       "      <td>4</td>\n",
       "      <td>52.5</td>\n",
       "      <td>0.0</td>\n",
       "    </tr>\n",
       "    <tr>\n",
       "      <th>2920</th>\n",
       "      <td>2022-12-29</td>\n",
       "      <td>581</td>\n",
       "      <td>5250</td>\n",
       "      <td>4247</td>\n",
       "      <td>52.5</td>\n",
       "      <td>2229</td>\n",
       "      <td>8433</td>\n",
       "      <td>Friday</td>\n",
       "      <td>12.0</td>\n",
       "      <td>2022.0</td>\n",
       "      <td>...</td>\n",
       "      <td>87.0</td>\n",
       "      <td>38.0</td>\n",
       "      <td>10.84</td>\n",
       "      <td>0.0</td>\n",
       "      <td>42.957143</td>\n",
       "      <td>0.808952</td>\n",
       "      <td>0.110667</td>\n",
       "      <td>4</td>\n",
       "      <td>38.3</td>\n",
       "      <td>0.0</td>\n",
       "    </tr>\n",
       "    <tr>\n",
       "      <th>2921</th>\n",
       "      <td>2022-12-30</td>\n",
       "      <td>600</td>\n",
       "      <td>5293</td>\n",
       "      <td>4200</td>\n",
       "      <td>38.3</td>\n",
       "      <td>2183</td>\n",
       "      <td>8155</td>\n",
       "      <td>Saturday</td>\n",
       "      <td>12.0</td>\n",
       "      <td>2022.0</td>\n",
       "      <td>...</td>\n",
       "      <td>66.0</td>\n",
       "      <td>66.0</td>\n",
       "      <td>0.00</td>\n",
       "      <td>0.0</td>\n",
       "      <td>41.042857</td>\n",
       "      <td>0.793501</td>\n",
       "      <td>0.113357</td>\n",
       "      <td>4</td>\n",
       "      <td>33.7</td>\n",
       "      <td>0.0</td>\n",
       "    </tr>\n",
       "    <tr>\n",
       "      <th>2922</th>\n",
       "      <td>2022-12-31</td>\n",
       "      <td>263</td>\n",
       "      <td>2167</td>\n",
       "      <td>1806</td>\n",
       "      <td>33.7</td>\n",
       "      <td>2318</td>\n",
       "      <td>9435</td>\n",
       "      <td>None</td>\n",
       "      <td>NaN</td>\n",
       "      <td>NaN</td>\n",
       "      <td>...</td>\n",
       "      <td>NaN</td>\n",
       "      <td>NaN</td>\n",
       "      <td>NaN</td>\n",
       "      <td>NaN</td>\n",
       "      <td>41.657143</td>\n",
       "      <td>0.833410</td>\n",
       "      <td>0.121366</td>\n",
       "      <td>4</td>\n",
       "      <td>NaN</td>\n",
       "      <td>NaN</td>\n",
       "    </tr>\n",
       "  </tbody>\n",
       "</table>\n",
       "<p>5 rows × 24 columns</p>\n",
       "</div>"
      ],
      "text/plain": [
       "           Date  taxi_num  call_num  success  mean_time  mean_fee  mean_dit  \\\n",
       "2918 2022-12-27       669      5635     4654       44.4      2198      8178   \n",
       "2919 2022-12-28       607      5654     4648       44.8      2161      7882   \n",
       "2920 2022-12-29       581      5250     4247       52.5      2229      8433   \n",
       "2921 2022-12-30       600      5293     4200       38.3      2183      8155   \n",
       "2922 2022-12-31       263      2167     1806       33.7      2318      9435   \n",
       "\n",
       "        weekday  month    year  ...  humidity_max(%)  humidity_min(%)  \\\n",
       "2918  Wednesday   12.0  2022.0  ...             92.0             40.0   \n",
       "2919   Thursday   12.0  2022.0  ...             71.0             34.0   \n",
       "2920     Friday   12.0  2022.0  ...             87.0             38.0   \n",
       "2921   Saturday   12.0  2022.0  ...             66.0             66.0   \n",
       "2922       None    NaN     NaN  ...              NaN              NaN   \n",
       "\n",
       "      sunshine(MJ/m2)  holiday  mean_time_7days  board_rate  taxi_rate  \\\n",
       "2918            10.86      0.0        42.771429    0.825909   0.118722   \n",
       "2919            10.88      0.0        43.514286    0.822073   0.107358   \n",
       "2920            10.84      0.0        42.957143    0.808952   0.110667   \n",
       "2921             0.00      0.0        41.042857    0.793501   0.113357   \n",
       "2922              NaN      NaN        41.657143    0.833410   0.121366   \n",
       "\n",
       "      quarter  next_mean_time  next_holiday  \n",
       "2918        4            44.8           0.0  \n",
       "2919        4            52.5           0.0  \n",
       "2920        4            38.3           0.0  \n",
       "2921        4            33.7           0.0  \n",
       "2922        4             NaN           NaN  \n",
       "\n",
       "[5 rows x 24 columns]"
      ]
     },
     "execution_count": 190,
     "metadata": {},
     "output_type": "execute_result"
    }
   ],
   "source": [
    "df['next_mean_time'] = df.loc[:,'mean_time'].shift(-1)\n",
    "df['holiday'] = df.loc[:,'holiday'].shift(-1)\n",
    "shift_list = ['month', 'day','year','weekday']\n",
    "df.loc[:,shift_list] = df.loc[:,shift_list].shift(-1)\n",
    "df.tail()"
   ]
  },
  {
   "cell_type": "code",
   "execution_count": 194,
   "metadata": {
    "tags": []
   },
   "outputs": [
    {
     "data": {
      "text/html": [
       "<div>\n",
       "<style scoped>\n",
       "    .dataframe tbody tr th:only-of-type {\n",
       "        vertical-align: middle;\n",
       "    }\n",
       "\n",
       "    .dataframe tbody tr th {\n",
       "        vertical-align: top;\n",
       "    }\n",
       "\n",
       "    .dataframe thead th {\n",
       "        text-align: right;\n",
       "    }\n",
       "</style>\n",
       "<table border=\"1\" class=\"dataframe\">\n",
       "  <thead>\n",
       "    <tr style=\"text-align: right;\">\n",
       "      <th></th>\n",
       "      <th>Date</th>\n",
       "      <th>taxi_num</th>\n",
       "      <th>call_num</th>\n",
       "      <th>success</th>\n",
       "      <th>mean_fee</th>\n",
       "      <th>mean_dit</th>\n",
       "      <th>holiday</th>\n",
       "      <th>mean_time_7days</th>\n",
       "      <th>board_rate</th>\n",
       "      <th>taxi_rate</th>\n",
       "      <th>quarter</th>\n",
       "      <th>next_mean_time</th>\n",
       "    </tr>\n",
       "  </thead>\n",
       "  <tbody>\n",
       "    <tr>\n",
       "      <th>0</th>\n",
       "      <td>2015-01-01</td>\n",
       "      <td>213</td>\n",
       "      <td>1023</td>\n",
       "      <td>924</td>\n",
       "      <td>2427</td>\n",
       "      <td>10764</td>\n",
       "      <td>0.0</td>\n",
       "      <td>23.200000</td>\n",
       "      <td>0.903226</td>\n",
       "      <td>0.208211</td>\n",
       "      <td>1</td>\n",
       "      <td>17.2</td>\n",
       "    </tr>\n",
       "    <tr>\n",
       "      <th>1</th>\n",
       "      <td>2015-01-02</td>\n",
       "      <td>420</td>\n",
       "      <td>3158</td>\n",
       "      <td>2839</td>\n",
       "      <td>2216</td>\n",
       "      <td>8611</td>\n",
       "      <td>0.0</td>\n",
       "      <td>20.200000</td>\n",
       "      <td>0.898987</td>\n",
       "      <td>0.132996</td>\n",
       "      <td>1</td>\n",
       "      <td>26.2</td>\n",
       "    </tr>\n",
       "    <tr>\n",
       "      <th>2</th>\n",
       "      <td>2015-01-03</td>\n",
       "      <td>209</td>\n",
       "      <td>1648</td>\n",
       "      <td>1514</td>\n",
       "      <td>2377</td>\n",
       "      <td>10198</td>\n",
       "      <td>0.0</td>\n",
       "      <td>22.200000</td>\n",
       "      <td>0.918689</td>\n",
       "      <td>0.126820</td>\n",
       "      <td>1</td>\n",
       "      <td>24.5</td>\n",
       "    </tr>\n",
       "    <tr>\n",
       "      <th>3</th>\n",
       "      <td>2015-01-04</td>\n",
       "      <td>196</td>\n",
       "      <td>1646</td>\n",
       "      <td>1526</td>\n",
       "      <td>2431</td>\n",
       "      <td>10955</td>\n",
       "      <td>0.0</td>\n",
       "      <td>22.775000</td>\n",
       "      <td>0.927096</td>\n",
       "      <td>0.119077</td>\n",
       "      <td>1</td>\n",
       "      <td>26.2</td>\n",
       "    </tr>\n",
       "    <tr>\n",
       "      <th>4</th>\n",
       "      <td>2015-01-05</td>\n",
       "      <td>421</td>\n",
       "      <td>4250</td>\n",
       "      <td>3730</td>\n",
       "      <td>2214</td>\n",
       "      <td>8663</td>\n",
       "      <td>0.0</td>\n",
       "      <td>23.460000</td>\n",
       "      <td>0.877647</td>\n",
       "      <td>0.099059</td>\n",
       "      <td>1</td>\n",
       "      <td>23.6</td>\n",
       "    </tr>\n",
       "    <tr>\n",
       "      <th>...</th>\n",
       "      <td>...</td>\n",
       "      <td>...</td>\n",
       "      <td>...</td>\n",
       "      <td>...</td>\n",
       "      <td>...</td>\n",
       "      <td>...</td>\n",
       "      <td>...</td>\n",
       "      <td>...</td>\n",
       "      <td>...</td>\n",
       "      <td>...</td>\n",
       "      <td>...</td>\n",
       "      <td>...</td>\n",
       "    </tr>\n",
       "    <tr>\n",
       "      <th>2917</th>\n",
       "      <td>2022-12-26</td>\n",
       "      <td>603</td>\n",
       "      <td>5555</td>\n",
       "      <td>4605</td>\n",
       "      <td>2163</td>\n",
       "      <td>7889</td>\n",
       "      <td>0.0</td>\n",
       "      <td>43.485714</td>\n",
       "      <td>0.828983</td>\n",
       "      <td>0.108551</td>\n",
       "      <td>4</td>\n",
       "      <td>44.4</td>\n",
       "    </tr>\n",
       "    <tr>\n",
       "      <th>2918</th>\n",
       "      <td>2022-12-27</td>\n",
       "      <td>669</td>\n",
       "      <td>5635</td>\n",
       "      <td>4654</td>\n",
       "      <td>2198</td>\n",
       "      <td>8178</td>\n",
       "      <td>0.0</td>\n",
       "      <td>42.771429</td>\n",
       "      <td>0.825909</td>\n",
       "      <td>0.118722</td>\n",
       "      <td>4</td>\n",
       "      <td>44.8</td>\n",
       "    </tr>\n",
       "    <tr>\n",
       "      <th>2919</th>\n",
       "      <td>2022-12-28</td>\n",
       "      <td>607</td>\n",
       "      <td>5654</td>\n",
       "      <td>4648</td>\n",
       "      <td>2161</td>\n",
       "      <td>7882</td>\n",
       "      <td>0.0</td>\n",
       "      <td>43.514286</td>\n",
       "      <td>0.822073</td>\n",
       "      <td>0.107358</td>\n",
       "      <td>4</td>\n",
       "      <td>52.5</td>\n",
       "    </tr>\n",
       "    <tr>\n",
       "      <th>2920</th>\n",
       "      <td>2022-12-29</td>\n",
       "      <td>581</td>\n",
       "      <td>5250</td>\n",
       "      <td>4247</td>\n",
       "      <td>2229</td>\n",
       "      <td>8433</td>\n",
       "      <td>0.0</td>\n",
       "      <td>42.957143</td>\n",
       "      <td>0.808952</td>\n",
       "      <td>0.110667</td>\n",
       "      <td>4</td>\n",
       "      <td>38.3</td>\n",
       "    </tr>\n",
       "    <tr>\n",
       "      <th>2921</th>\n",
       "      <td>2022-12-30</td>\n",
       "      <td>600</td>\n",
       "      <td>5293</td>\n",
       "      <td>4200</td>\n",
       "      <td>2183</td>\n",
       "      <td>8155</td>\n",
       "      <td>0.0</td>\n",
       "      <td>41.042857</td>\n",
       "      <td>0.793501</td>\n",
       "      <td>0.113357</td>\n",
       "      <td>4</td>\n",
       "      <td>33.7</td>\n",
       "    </tr>\n",
       "  </tbody>\n",
       "</table>\n",
       "<p>2922 rows × 12 columns</p>\n",
       "</div>"
      ],
      "text/plain": [
       "           Date  taxi_num  call_num  success  mean_fee  mean_dit  holiday  \\\n",
       "0    2015-01-01       213      1023      924      2427     10764      0.0   \n",
       "1    2015-01-02       420      3158     2839      2216      8611      0.0   \n",
       "2    2015-01-03       209      1648     1514      2377     10198      0.0   \n",
       "3    2015-01-04       196      1646     1526      2431     10955      0.0   \n",
       "4    2015-01-05       421      4250     3730      2214      8663      0.0   \n",
       "...         ...       ...       ...      ...       ...       ...      ...   \n",
       "2917 2022-12-26       603      5555     4605      2163      7889      0.0   \n",
       "2918 2022-12-27       669      5635     4654      2198      8178      0.0   \n",
       "2919 2022-12-28       607      5654     4648      2161      7882      0.0   \n",
       "2920 2022-12-29       581      5250     4247      2229      8433      0.0   \n",
       "2921 2022-12-30       600      5293     4200      2183      8155      0.0   \n",
       "\n",
       "      mean_time_7days  board_rate  taxi_rate quarter  next_mean_time  \n",
       "0           23.200000    0.903226   0.208211       1            17.2  \n",
       "1           20.200000    0.898987   0.132996       1            26.2  \n",
       "2           22.200000    0.918689   0.126820       1            24.5  \n",
       "3           22.775000    0.927096   0.119077       1            26.2  \n",
       "4           23.460000    0.877647   0.099059       1            23.6  \n",
       "...               ...         ...        ...     ...             ...  \n",
       "2917        43.485714    0.828983   0.108551       4            44.4  \n",
       "2918        42.771429    0.825909   0.118722       4            44.8  \n",
       "2919        43.514286    0.822073   0.107358       4            52.5  \n",
       "2920        42.957143    0.808952   0.110667       4            38.3  \n",
       "2921        41.042857    0.793501   0.113357       4            33.7  \n",
       "\n",
       "[2922 rows x 12 columns]"
      ]
     },
     "execution_count": 194,
     "metadata": {},
     "output_type": "execute_result"
    }
   ],
   "source": [
    "df.dropna(inplace=True)\n",
    "drop_cols = ['mean_time', 'next_holiday']+weather_cols+shift_list # 전날 데이터는 drop\n",
    "df.drop(columns=drop_cols, axis=1)"
   ]
  }
 ],
 "metadata": {
  "colab": {
   "collapsed_sections": [
    "VeG-i_RdqhNA",
    "CwSb2GuKuw3B"
   ],
   "provenance": [],
   "toc_visible": true
  },
  "kernelspec": {
   "display_name": "Python 3 (ipykernel)",
   "language": "python",
   "name": "python3"
  },
  "language_info": {
   "codemirror_mode": {
    "name": "ipython",
    "version": 3
   },
   "file_extension": ".py",
   "mimetype": "text/x-python",
   "name": "python",
   "nbconvert_exporter": "python",
   "pygments_lexer": "ipython3",
   "version": "3.11.5"
  }
 },
 "nbformat": 4,
 "nbformat_minor": 4
}

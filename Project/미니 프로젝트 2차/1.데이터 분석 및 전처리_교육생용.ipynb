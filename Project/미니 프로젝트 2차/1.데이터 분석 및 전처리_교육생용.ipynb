{
 "cells": [
  {
   "cell_type": "markdown",
   "id": "de21bfa8",
   "metadata": {},
   "source": [
    "## **AIVLE School 미니프로젝트 5기 AI트랙 2차** ##\n",
    "## **공공데이터를 활용한 <span style=\"color:skyblue\">미세먼지 농도</span> 예측**\n",
    "---\n",
    "## [step 1,2] 데이터 분석 및 전처리"
   ]
  },
  {
   "cell_type": "markdown",
   "id": "994d710f",
   "metadata": {},
   "source": [
    "## **0.프로젝트 소개**\n",
    "\n",
    "### (1) 수행 목표\n",
    "- 미세먼지 농도를 예측하는 머신러닝 모델을 만드세요."
   ]
  },
  {
   "cell_type": "markdown",
   "id": "7fa5e70e",
   "metadata": {},
   "source": [
    "#### 우리가 풀어야 하는 문제는 무엇인가요?\n",
    "* 서울 지역의 미세먼지 데이터와 날씨 데이터를 활용하여, 미세먼지 예측에 관련 있는 데이터 항목으로 데이터를 구성, 전처리 하여 미세먼지 농도를 예측하는 머신러닝 모델 구현"
   ]
  },
  {
   "cell_type": "markdown",
   "id": "1d40fb86",
   "metadata": {},
   "source": [
    "### (2) 데이터 소개\n",
    "\n",
    "#### 1) 기본 데이터\n",
    "\n",
    "* 학습 데이터\n",
    "    * air_2022.csv : 2022년 미세먼지 데이터\n",
    "    * weather_2022.csv : 2022년 날씨 데이터\n",
    "* 테스트 데이터\n",
    "    * air_2023.csv : 2023년 미세먼지 데이터\n",
    "    * weather_2023.csv : 2023년 날씨 데이터\n",
    "\n",
    "#### 2) 데이터셋의 변수 소개(weather_2022,2023)\n",
    "\n",
    "* 증기압: 증기가 고체 또는 액체와 동적 평형 상태에 있을 때 증기의 압력 (증기가 되려는 힘)\n",
    "* 이슬점 온도: 불포화 상태의 공기가 냉각될 때, 포화 상태에 도달하여 수증기의 응결이 시작되는 온도\n",
    "* 일조: 일정한 물체나 땅의 겉면에 태양 광선이 비치는 시간 (1시간 중 비율)\n",
    "* 일사(량): 태양으로부터 오는 태양 복사 에너지가 지표에 닿는 양 (면적당 에너지 량)\n",
    "* 전운량: 하늘을 육안으로 관측하여 전부 구름일 때 10, 구름이 덮고 있는 하늘의 비율에 따라 0~10\n",
    "* 중하층운량: 중층과 하층에 있는 구름의 분포량(중하층 구름이 날씨에 영향 주므로 따로 표기)\n",
    "* 운형(운형약어): 구름의 종류. 약어 코드로 기재됨\n",
    "* 최저운고: 가장 낮은 구름의 높이\n",
    "* 현상번호(국내식): 비, 소낙비, 싸락눈, 눈보라 등의 기상현상을 나타낸 코드번호\n",
    "* 지면온도: 지면 0cm 온도\n",
    "* 지중온도: 땅 속 온도변수1"
   ]
  },
  {
   "cell_type": "markdown",
   "id": "f16a803d",
   "metadata": {},
   "source": [
    "## **1.환경설정**"
   ]
  },
  {
   "cell_type": "markdown",
   "id": "c7bf984b",
   "metadata": {},
   "source": [
    "* 세부 요구사항\n",
    "    - 경로 설정 : 다음의 두가지 방법 중 하나를 선택하여 폴더를 준비하고 데이터를 로딩하시오.\n",
    "        * 1) 로컬 수행(Ananconda)\n",
    "            * 제공된 압축파일을 다운받아 압축을 풀고\n",
    "            * anaconda의 root directory(보통 C:/Users/< ID > 에 project 폴더를 만들고, 복사해 넣습니다.)\n",
    "        * 2) 구글 코랩\n",
    "            * 구글 드라이브 바로 밑에 project 폴더를 만들고, \n",
    "            * 데이터 파일을 복사해 넣습니다.\n",
    "            \n",
    "    - 기본적으로 필요한 라이브러리를 import 하도록 코드가 작성되어 있습니다. \n",
    "        * 필요하다고 판단되는 라이브러리를 추가하세요."
   ]
  },
  {
   "cell_type": "markdown",
   "id": "84c19f48",
   "metadata": {},
   "source": [
    "### (1) 경로 설정\n",
    "* 로컬환경 또는 구글 코랩 중 하나를 사용하시면 됩니다."
   ]
  },
  {
   "cell_type": "markdown",
   "id": "e78c8004",
   "metadata": {},
   "source": [
    "#### 1) 로컬 수행(Anaconda)\n",
    "* project 폴더에 필요한 파일들을 넣고, 본 파일을 열었다면, 별도 경로 지정이 필요하지 않습니다."
   ]
  },
  {
   "cell_type": "code",
   "execution_count": 1,
   "id": "d8859e96",
   "metadata": {
    "tags": []
   },
   "outputs": [],
   "source": [
    "# path = '프로젝트/미니 프로젝트 2차/'"
   ]
  },
  {
   "cell_type": "markdown",
   "id": "c193cedf",
   "metadata": {},
   "source": [
    "#### 2) 구글 코랩 수행"
   ]
  },
  {
   "cell_type": "markdown",
   "id": "04050c09",
   "metadata": {},
   "source": [
    "* 구글 드라이브 연결"
   ]
  },
  {
   "cell_type": "code",
   "execution_count": 2,
   "id": "3f68ae36",
   "metadata": {},
   "outputs": [],
   "source": [
    "# from google.colab import drive\n",
    "# drive.mount('/content/drive')"
   ]
  },
  {
   "cell_type": "code",
   "execution_count": 3,
   "id": "580b552e",
   "metadata": {},
   "outputs": [],
   "source": [
    "# path = '/content/drive/MyDrive/project/'"
   ]
  },
  {
   "cell_type": "markdown",
   "id": "6389e527",
   "metadata": {},
   "source": [
    "### (2) 라이브러리 설치 및 불러오기"
   ]
  },
  {
   "cell_type": "markdown",
   "id": "8c33f039",
   "metadata": {},
   "source": [
    "#### 1) 라이브러리 설치 및 로딩"
   ]
  },
  {
   "cell_type": "code",
   "execution_count": 4,
   "id": "2211da40",
   "metadata": {
    "tags": []
   },
   "outputs": [],
   "source": [
    "# 필요한 라이브러리 설치 및 불러오기\n",
    "\n",
    "import pandas as pd\n",
    "import numpy as np\n",
    "import matplotlib.pyplot as plt\n",
    "import seaborn as sns\n",
    "import datetime\n",
    "\n",
    "from statsmodels.graphics.mosaicplot import mosaic\n",
    "from scipy import stats as spst\n",
    "import statsmodels.api as sm\n",
    "import joblib\n",
    "\n",
    "# 더 필요한 라이브러리를 아래에 추가합니다.\n",
    "\n"
   ]
  },
  {
   "cell_type": "code",
   "execution_count": 5,
   "id": "5c1704c8",
   "metadata": {
    "tags": []
   },
   "outputs": [],
   "source": [
    "# 시각화 한글폰트 설정을 위해 아래 코드를 실행하세요.\n",
    "plt.rc('font', family='Malgun Gothic')\n",
    "sns.set(font=\"Malgun Gothic\",#\"NanumGothicCoding\", \n",
    "        rc={\"axes.unicode_minus\":False}, # 마이너스 부호 깨짐 현상 해결\n",
    "        style='darkgrid')"
   ]
  },
  {
   "cell_type": "markdown",
   "id": "5f957970",
   "metadata": {},
   "source": [
    "### (3) 데이터 불러오기\n",
    "* Pandas 라이브러리를 활용해서 'air_2022.csv'파일을 'air_22' 변수에,'air_2023.csv'파일을 'air_23' 변수에 저장하고 그 데이터를 확인하세요.\n",
    "<br> ( 구분자(sep) : ',' / encoder = 'utf-8' / index_col = 0 )\n",
    "\n",
    "* Pandas 라이브러리를 활용해서 'weather_2022.csv'파일을 'weather_22' 변수에,'weather_2023.csv'파일을 'weather_23' 변수에 저장하고 그 데이터를 확인하세요.\n",
    "<br> ( 구분자(sep) : ',' / encoder = 'cp949' )"
   ]
  },
  {
   "cell_type": "markdown",
   "id": "2e32e75c",
   "metadata": {},
   "source": [
    "#### 1) 데이터로딩"
   ]
  },
  {
   "cell_type": "code",
   "execution_count": 6,
   "id": "3f93a23b-dc1a-40ae-bd61-1ca168d545b4",
   "metadata": {
    "tags": []
   },
   "outputs": [
    {
     "data": {
      "text/plain": [
       "'C:\\\\Users\\\\User\\\\KT_AIVLE\\\\Project\\\\미니 프로젝트 2차'"
      ]
     },
     "execution_count": 6,
     "metadata": {},
     "output_type": "execute_result"
    }
   ],
   "source": [
    "%pwd"
   ]
  },
  {
   "cell_type": "code",
   "execution_count": 7,
   "id": "b6a824e4",
   "metadata": {
    "tags": []
   },
   "outputs": [
    {
     "data": {
      "text/html": [
       "<div>\n",
       "<style scoped>\n",
       "    .dataframe tbody tr th:only-of-type {\n",
       "        vertical-align: middle;\n",
       "    }\n",
       "\n",
       "    .dataframe tbody tr th {\n",
       "        vertical-align: top;\n",
       "    }\n",
       "\n",
       "    .dataframe thead th {\n",
       "        text-align: right;\n",
       "    }\n",
       "</style>\n",
       "<table border=\"1\" class=\"dataframe\">\n",
       "  <thead>\n",
       "    <tr style=\"text-align: right;\">\n",
       "      <th></th>\n",
       "      <th>지점</th>\n",
       "      <th>지점명</th>\n",
       "      <th>일시</th>\n",
       "      <th>기온(°C)</th>\n",
       "      <th>기온 QC플래그</th>\n",
       "      <th>강수량(mm)</th>\n",
       "      <th>강수량 QC플래그</th>\n",
       "      <th>풍속(m/s)</th>\n",
       "      <th>풍속 QC플래그</th>\n",
       "      <th>풍향(16방위)</th>\n",
       "      <th>...</th>\n",
       "      <th>최저운고(100m )</th>\n",
       "      <th>시정(10m)</th>\n",
       "      <th>지면상태(지면상태코드)</th>\n",
       "      <th>현상번호(국내식)</th>\n",
       "      <th>지면온도(°C)</th>\n",
       "      <th>지면온도 QC플래그</th>\n",
       "      <th>5cm 지중온도(°C)</th>\n",
       "      <th>10cm 지중온도(°C)</th>\n",
       "      <th>20cm 지중온도(°C)</th>\n",
       "      <th>30cm 지중온도(°C)</th>\n",
       "    </tr>\n",
       "  </thead>\n",
       "  <tbody>\n",
       "    <tr>\n",
       "      <th>0</th>\n",
       "      <td>108</td>\n",
       "      <td>서울</td>\n",
       "      <td>2022-01-01 00:00</td>\n",
       "      <td>-8.5</td>\n",
       "      <td>NaN</td>\n",
       "      <td>NaN</td>\n",
       "      <td>NaN</td>\n",
       "      <td>1.9</td>\n",
       "      <td>NaN</td>\n",
       "      <td>320</td>\n",
       "      <td>...</td>\n",
       "      <td>NaN</td>\n",
       "      <td>2000</td>\n",
       "      <td>NaN</td>\n",
       "      <td>NaN</td>\n",
       "      <td>-7.0</td>\n",
       "      <td>NaN</td>\n",
       "      <td>-1.0</td>\n",
       "      <td>-1.0</td>\n",
       "      <td>-0.2</td>\n",
       "      <td>1.0</td>\n",
       "    </tr>\n",
       "    <tr>\n",
       "      <th>1</th>\n",
       "      <td>108</td>\n",
       "      <td>서울</td>\n",
       "      <td>2022-01-01 01:00</td>\n",
       "      <td>-9.2</td>\n",
       "      <td>NaN</td>\n",
       "      <td>NaN</td>\n",
       "      <td>NaN</td>\n",
       "      <td>1.8</td>\n",
       "      <td>NaN</td>\n",
       "      <td>270</td>\n",
       "      <td>...</td>\n",
       "      <td>NaN</td>\n",
       "      <td>2000</td>\n",
       "      <td>NaN</td>\n",
       "      <td>NaN</td>\n",
       "      <td>-7.2</td>\n",
       "      <td>NaN</td>\n",
       "      <td>-1.1</td>\n",
       "      <td>-1.1</td>\n",
       "      <td>-0.2</td>\n",
       "      <td>1.0</td>\n",
       "    </tr>\n",
       "    <tr>\n",
       "      <th>2</th>\n",
       "      <td>108</td>\n",
       "      <td>서울</td>\n",
       "      <td>2022-01-01 02:00</td>\n",
       "      <td>-9.5</td>\n",
       "      <td>NaN</td>\n",
       "      <td>NaN</td>\n",
       "      <td>NaN</td>\n",
       "      <td>1.2</td>\n",
       "      <td>NaN</td>\n",
       "      <td>270</td>\n",
       "      <td>...</td>\n",
       "      <td>NaN</td>\n",
       "      <td>2000</td>\n",
       "      <td>NaN</td>\n",
       "      <td>NaN</td>\n",
       "      <td>-7.5</td>\n",
       "      <td>NaN</td>\n",
       "      <td>-1.3</td>\n",
       "      <td>-1.2</td>\n",
       "      <td>-0.2</td>\n",
       "      <td>1.0</td>\n",
       "    </tr>\n",
       "    <tr>\n",
       "      <th>3</th>\n",
       "      <td>108</td>\n",
       "      <td>서울</td>\n",
       "      <td>2022-01-01 03:00</td>\n",
       "      <td>-9.3</td>\n",
       "      <td>NaN</td>\n",
       "      <td>NaN</td>\n",
       "      <td>NaN</td>\n",
       "      <td>1.4</td>\n",
       "      <td>NaN</td>\n",
       "      <td>290</td>\n",
       "      <td>...</td>\n",
       "      <td>NaN</td>\n",
       "      <td>2000</td>\n",
       "      <td>NaN</td>\n",
       "      <td>NaN</td>\n",
       "      <td>-7.6</td>\n",
       "      <td>NaN</td>\n",
       "      <td>-1.4</td>\n",
       "      <td>-1.2</td>\n",
       "      <td>-0.2</td>\n",
       "      <td>1.0</td>\n",
       "    </tr>\n",
       "    <tr>\n",
       "      <th>4</th>\n",
       "      <td>108</td>\n",
       "      <td>서울</td>\n",
       "      <td>2022-01-01 04:00</td>\n",
       "      <td>-9.6</td>\n",
       "      <td>NaN</td>\n",
       "      <td>NaN</td>\n",
       "      <td>NaN</td>\n",
       "      <td>1.7</td>\n",
       "      <td>NaN</td>\n",
       "      <td>340</td>\n",
       "      <td>...</td>\n",
       "      <td>NaN</td>\n",
       "      <td>2000</td>\n",
       "      <td>NaN</td>\n",
       "      <td>NaN</td>\n",
       "      <td>-7.6</td>\n",
       "      <td>NaN</td>\n",
       "      <td>-1.4</td>\n",
       "      <td>-1.3</td>\n",
       "      <td>-0.3</td>\n",
       "      <td>1.0</td>\n",
       "    </tr>\n",
       "  </tbody>\n",
       "</table>\n",
       "<p>5 rows × 38 columns</p>\n",
       "</div>"
      ],
      "text/plain": [
       "    지점 지점명                일시  기온(°C)  기온 QC플래그  강수량(mm)  강수량 QC플래그  풍속(m/s)  \\\n",
       "0  108  서울  2022-01-01 00:00    -8.5       NaN      NaN        NaN      1.9   \n",
       "1  108  서울  2022-01-01 01:00    -9.2       NaN      NaN        NaN      1.8   \n",
       "2  108  서울  2022-01-01 02:00    -9.5       NaN      NaN        NaN      1.2   \n",
       "3  108  서울  2022-01-01 03:00    -9.3       NaN      NaN        NaN      1.4   \n",
       "4  108  서울  2022-01-01 04:00    -9.6       NaN      NaN        NaN      1.7   \n",
       "\n",
       "   풍속 QC플래그  풍향(16방위)  ...  최저운고(100m )  시정(10m)  지면상태(지면상태코드)  현상번호(국내식)  \\\n",
       "0       NaN       320  ...          NaN     2000           NaN        NaN   \n",
       "1       NaN       270  ...          NaN     2000           NaN        NaN   \n",
       "2       NaN       270  ...          NaN     2000           NaN        NaN   \n",
       "3       NaN       290  ...          NaN     2000           NaN        NaN   \n",
       "4       NaN       340  ...          NaN     2000           NaN        NaN   \n",
       "\n",
       "   지면온도(°C)  지면온도 QC플래그  5cm 지중온도(°C)  10cm 지중온도(°C)  20cm 지중온도(°C)  \\\n",
       "0      -7.0         NaN          -1.0           -1.0           -0.2   \n",
       "1      -7.2         NaN          -1.1           -1.1           -0.2   \n",
       "2      -7.5         NaN          -1.3           -1.2           -0.2   \n",
       "3      -7.6         NaN          -1.4           -1.2           -0.2   \n",
       "4      -7.6         NaN          -1.4           -1.3           -0.3   \n",
       "\n",
       "   30cm 지중온도(°C)  \n",
       "0            1.0  \n",
       "1            1.0  \n",
       "2            1.0  \n",
       "3            1.0  \n",
       "4            1.0  \n",
       "\n",
       "[5 rows x 38 columns]"
      ]
     },
     "execution_count": 7,
     "metadata": {},
     "output_type": "execute_result"
    }
   ],
   "source": [
    "# 아래에 실습코드를 작성하고 결과를 확인합니다.\n",
    "air_train = pd.read_csv('./air_2022.csv')\n",
    "air_test = pd.read_csv('./air_2023.csv')\n",
    "weather_train = pd.read_csv('./weather_2022.csv', encoding='cp949')\n",
    "weather_test = pd.read_csv('./weather_2023.csv', encoding='cp949')\n",
    "weather_train.head()"
   ]
  },
  {
   "cell_type": "markdown",
   "id": "bb06f1cb",
   "metadata": {},
   "source": [
    "#### 2) 기본 정보 조회\n",
    "- 데이터를 head, tail. describe, info 등을 활용하여 확인하세요."
   ]
  },
  {
   "cell_type": "code",
   "execution_count": 8,
   "id": "06464273",
   "metadata": {},
   "outputs": [
    {
     "data": {
      "text/html": [
       "<div>\n",
       "<style scoped>\n",
       "    .dataframe tbody tr th:only-of-type {\n",
       "        vertical-align: middle;\n",
       "    }\n",
       "\n",
       "    .dataframe tbody tr th {\n",
       "        vertical-align: top;\n",
       "    }\n",
       "\n",
       "    .dataframe thead th {\n",
       "        text-align: right;\n",
       "    }\n",
       "</style>\n",
       "<table border=\"1\" class=\"dataframe\">\n",
       "  <thead>\n",
       "    <tr style=\"text-align: right;\">\n",
       "      <th></th>\n",
       "      <th>Unnamed: 0</th>\n",
       "      <th>지역</th>\n",
       "      <th>망</th>\n",
       "      <th>측정소코드</th>\n",
       "      <th>측정소명</th>\n",
       "      <th>측정일시</th>\n",
       "      <th>SO2</th>\n",
       "      <th>CO</th>\n",
       "      <th>O3</th>\n",
       "      <th>NO2</th>\n",
       "      <th>PM10</th>\n",
       "      <th>PM25</th>\n",
       "      <th>주소</th>\n",
       "    </tr>\n",
       "  </thead>\n",
       "  <tbody>\n",
       "    <tr>\n",
       "      <th>8755</th>\n",
       "      <td>8755</td>\n",
       "      <td>서울 종로구</td>\n",
       "      <td>도시대기</td>\n",
       "      <td>111123</td>\n",
       "      <td>종로구</td>\n",
       "      <td>2022123120</td>\n",
       "      <td>0.004</td>\n",
       "      <td>1.5</td>\n",
       "      <td>0.002</td>\n",
       "      <td>0.070</td>\n",
       "      <td>71.0</td>\n",
       "      <td>59.0</td>\n",
       "      <td>서울 종로구 종로35가길 19</td>\n",
       "    </tr>\n",
       "    <tr>\n",
       "      <th>8756</th>\n",
       "      <td>8756</td>\n",
       "      <td>서울 종로구</td>\n",
       "      <td>도시대기</td>\n",
       "      <td>111123</td>\n",
       "      <td>종로구</td>\n",
       "      <td>2022123121</td>\n",
       "      <td>0.005</td>\n",
       "      <td>1.6</td>\n",
       "      <td>0.002</td>\n",
       "      <td>0.070</td>\n",
       "      <td>76.0</td>\n",
       "      <td>62.0</td>\n",
       "      <td>서울 종로구 종로35가길 19</td>\n",
       "    </tr>\n",
       "    <tr>\n",
       "      <th>8757</th>\n",
       "      <td>8757</td>\n",
       "      <td>서울 종로구</td>\n",
       "      <td>도시대기</td>\n",
       "      <td>111123</td>\n",
       "      <td>종로구</td>\n",
       "      <td>2022123122</td>\n",
       "      <td>0.004</td>\n",
       "      <td>1.7</td>\n",
       "      <td>0.002</td>\n",
       "      <td>0.072</td>\n",
       "      <td>76.0</td>\n",
       "      <td>66.0</td>\n",
       "      <td>서울 종로구 종로35가길 19</td>\n",
       "    </tr>\n",
       "    <tr>\n",
       "      <th>8758</th>\n",
       "      <td>8758</td>\n",
       "      <td>서울 종로구</td>\n",
       "      <td>도시대기</td>\n",
       "      <td>111123</td>\n",
       "      <td>종로구</td>\n",
       "      <td>2022123123</td>\n",
       "      <td>0.005</td>\n",
       "      <td>1.8</td>\n",
       "      <td>0.002</td>\n",
       "      <td>0.072</td>\n",
       "      <td>77.0</td>\n",
       "      <td>67.0</td>\n",
       "      <td>서울 종로구 종로35가길 19</td>\n",
       "    </tr>\n",
       "    <tr>\n",
       "      <th>8759</th>\n",
       "      <td>8759</td>\n",
       "      <td>서울 종로구</td>\n",
       "      <td>도시대기</td>\n",
       "      <td>111123</td>\n",
       "      <td>종로구</td>\n",
       "      <td>2022123124</td>\n",
       "      <td>0.004</td>\n",
       "      <td>1.6</td>\n",
       "      <td>0.002</td>\n",
       "      <td>0.070</td>\n",
       "      <td>76.0</td>\n",
       "      <td>67.0</td>\n",
       "      <td>서울 종로구 종로35가길 19</td>\n",
       "    </tr>\n",
       "  </tbody>\n",
       "</table>\n",
       "</div>"
      ],
      "text/plain": [
       "      Unnamed: 0      지역     망   측정소코드 측정소명        측정일시    SO2   CO     O3  \\\n",
       "8755        8755  서울 종로구  도시대기  111123  종로구  2022123120  0.004  1.5  0.002   \n",
       "8756        8756  서울 종로구  도시대기  111123  종로구  2022123121  0.005  1.6  0.002   \n",
       "8757        8757  서울 종로구  도시대기  111123  종로구  2022123122  0.004  1.7  0.002   \n",
       "8758        8758  서울 종로구  도시대기  111123  종로구  2022123123  0.005  1.8  0.002   \n",
       "8759        8759  서울 종로구  도시대기  111123  종로구  2022123124  0.004  1.6  0.002   \n",
       "\n",
       "        NO2  PM10  PM25                주소  \n",
       "8755  0.070  71.0  59.0  서울 종로구 종로35가길 19  \n",
       "8756  0.070  76.0  62.0  서울 종로구 종로35가길 19  \n",
       "8757  0.072  76.0  66.0  서울 종로구 종로35가길 19  \n",
       "8758  0.072  77.0  67.0  서울 종로구 종로35가길 19  \n",
       "8759  0.070  76.0  67.0  서울 종로구 종로35가길 19  "
      ]
     },
     "metadata": {},
     "output_type": "display_data"
    },
    {
     "data": {
      "text/html": [
       "<div>\n",
       "<style scoped>\n",
       "    .dataframe tbody tr th:only-of-type {\n",
       "        vertical-align: middle;\n",
       "    }\n",
       "\n",
       "    .dataframe tbody tr th {\n",
       "        vertical-align: top;\n",
       "    }\n",
       "\n",
       "    .dataframe thead th {\n",
       "        text-align: right;\n",
       "    }\n",
       "</style>\n",
       "<table border=\"1\" class=\"dataframe\">\n",
       "  <thead>\n",
       "    <tr style=\"text-align: right;\">\n",
       "      <th></th>\n",
       "      <th>지점</th>\n",
       "      <th>지점명</th>\n",
       "      <th>일시</th>\n",
       "      <th>기온(°C)</th>\n",
       "      <th>기온 QC플래그</th>\n",
       "      <th>강수량(mm)</th>\n",
       "      <th>강수량 QC플래그</th>\n",
       "      <th>풍속(m/s)</th>\n",
       "      <th>풍속 QC플래그</th>\n",
       "      <th>풍향(16방위)</th>\n",
       "      <th>...</th>\n",
       "      <th>최저운고(100m )</th>\n",
       "      <th>시정(10m)</th>\n",
       "      <th>지면상태(지면상태코드)</th>\n",
       "      <th>현상번호(국내식)</th>\n",
       "      <th>지면온도(°C)</th>\n",
       "      <th>지면온도 QC플래그</th>\n",
       "      <th>5cm 지중온도(°C)</th>\n",
       "      <th>10cm 지중온도(°C)</th>\n",
       "      <th>20cm 지중온도(°C)</th>\n",
       "      <th>30cm 지중온도(°C)</th>\n",
       "    </tr>\n",
       "  </thead>\n",
       "  <tbody>\n",
       "    <tr>\n",
       "      <th>8755</th>\n",
       "      <td>108</td>\n",
       "      <td>서울</td>\n",
       "      <td>2022-12-31 19:00</td>\n",
       "      <td>-0.2</td>\n",
       "      <td>NaN</td>\n",
       "      <td>NaN</td>\n",
       "      <td>9.0</td>\n",
       "      <td>1.8</td>\n",
       "      <td>NaN</td>\n",
       "      <td>20</td>\n",
       "      <td>...</td>\n",
       "      <td>NaN</td>\n",
       "      <td>1211</td>\n",
       "      <td>NaN</td>\n",
       "      <td>NaN</td>\n",
       "      <td>-0.9</td>\n",
       "      <td>NaN</td>\n",
       "      <td>-0.1</td>\n",
       "      <td>-0.5</td>\n",
       "      <td>-0.5</td>\n",
       "      <td>0.6</td>\n",
       "    </tr>\n",
       "    <tr>\n",
       "      <th>8756</th>\n",
       "      <td>108</td>\n",
       "      <td>서울</td>\n",
       "      <td>2022-12-31 20:00</td>\n",
       "      <td>-0.8</td>\n",
       "      <td>NaN</td>\n",
       "      <td>NaN</td>\n",
       "      <td>9.0</td>\n",
       "      <td>1.4</td>\n",
       "      <td>NaN</td>\n",
       "      <td>20</td>\n",
       "      <td>...</td>\n",
       "      <td>14.0</td>\n",
       "      <td>1171</td>\n",
       "      <td>NaN</td>\n",
       "      <td>NaN</td>\n",
       "      <td>-1.8</td>\n",
       "      <td>NaN</td>\n",
       "      <td>-0.1</td>\n",
       "      <td>-0.5</td>\n",
       "      <td>-0.5</td>\n",
       "      <td>0.6</td>\n",
       "    </tr>\n",
       "    <tr>\n",
       "      <th>8757</th>\n",
       "      <td>108</td>\n",
       "      <td>서울</td>\n",
       "      <td>2022-12-31 21:00</td>\n",
       "      <td>-1.0</td>\n",
       "      <td>NaN</td>\n",
       "      <td>NaN</td>\n",
       "      <td>9.0</td>\n",
       "      <td>0.9</td>\n",
       "      <td>NaN</td>\n",
       "      <td>340</td>\n",
       "      <td>...</td>\n",
       "      <td>13.0</td>\n",
       "      <td>1134</td>\n",
       "      <td>NaN</td>\n",
       "      <td>NaN</td>\n",
       "      <td>-2.8</td>\n",
       "      <td>NaN</td>\n",
       "      <td>-0.2</td>\n",
       "      <td>-0.5</td>\n",
       "      <td>-0.5</td>\n",
       "      <td>0.6</td>\n",
       "    </tr>\n",
       "    <tr>\n",
       "      <th>8758</th>\n",
       "      <td>108</td>\n",
       "      <td>서울</td>\n",
       "      <td>2022-12-31 22:00</td>\n",
       "      <td>-0.8</td>\n",
       "      <td>NaN</td>\n",
       "      <td>NaN</td>\n",
       "      <td>9.0</td>\n",
       "      <td>0.5</td>\n",
       "      <td>NaN</td>\n",
       "      <td>290</td>\n",
       "      <td>...</td>\n",
       "      <td>13.0</td>\n",
       "      <td>1094</td>\n",
       "      <td>NaN</td>\n",
       "      <td>NaN</td>\n",
       "      <td>-2.2</td>\n",
       "      <td>NaN</td>\n",
       "      <td>-0.3</td>\n",
       "      <td>-0.5</td>\n",
       "      <td>-0.5</td>\n",
       "      <td>0.6</td>\n",
       "    </tr>\n",
       "    <tr>\n",
       "      <th>8759</th>\n",
       "      <td>108</td>\n",
       "      <td>서울</td>\n",
       "      <td>2022-12-31 23:00</td>\n",
       "      <td>-0.2</td>\n",
       "      <td>NaN</td>\n",
       "      <td>NaN</td>\n",
       "      <td>9.0</td>\n",
       "      <td>1.3</td>\n",
       "      <td>NaN</td>\n",
       "      <td>230</td>\n",
       "      <td>...</td>\n",
       "      <td>14.0</td>\n",
       "      <td>1314</td>\n",
       "      <td>NaN</td>\n",
       "      <td>NaN</td>\n",
       "      <td>-2.1</td>\n",
       "      <td>NaN</td>\n",
       "      <td>-0.3</td>\n",
       "      <td>-0.5</td>\n",
       "      <td>-0.5</td>\n",
       "      <td>0.6</td>\n",
       "    </tr>\n",
       "  </tbody>\n",
       "</table>\n",
       "<p>5 rows × 38 columns</p>\n",
       "</div>"
      ],
      "text/plain": [
       "       지점 지점명                일시  기온(°C)  기온 QC플래그  강수량(mm)  강수량 QC플래그  \\\n",
       "8755  108  서울  2022-12-31 19:00    -0.2       NaN      NaN        9.0   \n",
       "8756  108  서울  2022-12-31 20:00    -0.8       NaN      NaN        9.0   \n",
       "8757  108  서울  2022-12-31 21:00    -1.0       NaN      NaN        9.0   \n",
       "8758  108  서울  2022-12-31 22:00    -0.8       NaN      NaN        9.0   \n",
       "8759  108  서울  2022-12-31 23:00    -0.2       NaN      NaN        9.0   \n",
       "\n",
       "      풍속(m/s)  풍속 QC플래그  풍향(16방위)  ...  최저운고(100m )  시정(10m)  지면상태(지면상태코드)  \\\n",
       "8755      1.8       NaN        20  ...          NaN     1211           NaN   \n",
       "8756      1.4       NaN        20  ...         14.0     1171           NaN   \n",
       "8757      0.9       NaN       340  ...         13.0     1134           NaN   \n",
       "8758      0.5       NaN       290  ...         13.0     1094           NaN   \n",
       "8759      1.3       NaN       230  ...         14.0     1314           NaN   \n",
       "\n",
       "      현상번호(국내식)  지면온도(°C)  지면온도 QC플래그  5cm 지중온도(°C)  10cm 지중온도(°C)  \\\n",
       "8755        NaN      -0.9         NaN          -0.1           -0.5   \n",
       "8756        NaN      -1.8         NaN          -0.1           -0.5   \n",
       "8757        NaN      -2.8         NaN          -0.2           -0.5   \n",
       "8758        NaN      -2.2         NaN          -0.3           -0.5   \n",
       "8759        NaN      -2.1         NaN          -0.3           -0.5   \n",
       "\n",
       "      20cm 지중온도(°C)  30cm 지중온도(°C)  \n",
       "8755           -0.5            0.6  \n",
       "8756           -0.5            0.6  \n",
       "8757           -0.5            0.6  \n",
       "8758           -0.5            0.6  \n",
       "8759           -0.5            0.6  \n",
       "\n",
       "[5 rows x 38 columns]"
      ]
     },
     "metadata": {},
     "output_type": "display_data"
    }
   ],
   "source": [
    "# tail\n",
    "display(air_train.tail())\n",
    "display(weather_train.tail())\n"
   ]
  },
  {
   "cell_type": "code",
   "execution_count": 9,
   "id": "b383d687",
   "metadata": {},
   "outputs": [
    {
     "name": "stdout",
     "output_type": "stream",
     "text": [
      "Unnamed: 0      0\n",
      "지역              0\n",
      "망               0\n",
      "측정소코드           0\n",
      "측정소명            0\n",
      "측정일시            0\n",
      "SO2            87\n",
      "CO             87\n",
      "O3             87\n",
      "NO2            87\n",
      "PM10          156\n",
      "PM25          105\n",
      "주소              0\n",
      "dtype: int64\n",
      "지점                  0\n",
      "지점명                 0\n",
      "일시                  0\n",
      "기온(°C)              0\n",
      "기온 QC플래그         8760\n",
      "강수량(mm)          7821\n",
      "강수량 QC플래그        7192\n",
      "풍속(m/s)             0\n",
      "풍속 QC플래그         8760\n",
      "풍향(16방위)            0\n",
      "풍향 QC플래그         8760\n",
      "습도(%)               0\n",
      "습도 QC플래그         8760\n",
      "증기압(hPa)            0\n",
      "이슬점온도(°C)           0\n",
      "현지기압(hPa)           0\n",
      "현지기압 QC플래그       8760\n",
      "해면기압(hPa)           0\n",
      "해면기압 QC플래그       8760\n",
      "일조(hr)           3969\n",
      "일조 QC플래그         4791\n",
      "일사(MJ/m2)        3969\n",
      "일사 QC플래그         4790\n",
      "적설(cm)           8271\n",
      "3시간신적설(cm)       8729\n",
      "전운량(10분위)           0\n",
      "중하층운량(10분위)         0\n",
      "운형(운형약어)         3945\n",
      "최저운고(100m )      4305\n",
      "시정(10m)             0\n",
      "지면상태(지면상태코드)     8760\n",
      "현상번호(국내식)        7033\n",
      "지면온도(°C)            1\n",
      "지면온도 QC플래그       8745\n",
      "5cm 지중온도(°C)        1\n",
      "10cm 지중온도(°C)       1\n",
      "20cm 지중온도(°C)       1\n",
      "30cm 지중온도(°C)       1\n",
      "dtype: int64\n"
     ]
    }
   ],
   "source": [
    "# 결측치 확인\n",
    "print(air_train.isna().sum())\n",
    "print(weather_train.isna().sum())"
   ]
  },
  {
   "cell_type": "code",
   "execution_count": 10,
   "id": "bbe1294b-f55c-4226-b648-1bf8a5019fa1",
   "metadata": {
    "tags": []
   },
   "outputs": [
    {
     "data": {
      "text/html": [
       "<div>\n",
       "<style scoped>\n",
       "    .dataframe tbody tr th:only-of-type {\n",
       "        vertical-align: middle;\n",
       "    }\n",
       "\n",
       "    .dataframe tbody tr th {\n",
       "        vertical-align: top;\n",
       "    }\n",
       "\n",
       "    .dataframe thead th {\n",
       "        text-align: right;\n",
       "    }\n",
       "</style>\n",
       "<table border=\"1\" class=\"dataframe\">\n",
       "  <thead>\n",
       "    <tr style=\"text-align: right;\">\n",
       "      <th></th>\n",
       "      <th>지점</th>\n",
       "      <th>지점명</th>\n",
       "      <th>일시</th>\n",
       "      <th>기온(°C)</th>\n",
       "      <th>기온 QC플래그</th>\n",
       "      <th>강수량(mm)</th>\n",
       "      <th>강수량 QC플래그</th>\n",
       "      <th>풍속(m/s)</th>\n",
       "      <th>풍속 QC플래그</th>\n",
       "      <th>풍향(16방위)</th>\n",
       "      <th>...</th>\n",
       "      <th>최저운고(100m )</th>\n",
       "      <th>시정(10m)</th>\n",
       "      <th>지면상태(지면상태코드)</th>\n",
       "      <th>현상번호(국내식)</th>\n",
       "      <th>지면온도(°C)</th>\n",
       "      <th>지면온도 QC플래그</th>\n",
       "      <th>5cm 지중온도(°C)</th>\n",
       "      <th>10cm 지중온도(°C)</th>\n",
       "      <th>20cm 지중온도(°C)</th>\n",
       "      <th>30cm 지중온도(°C)</th>\n",
       "    </tr>\n",
       "  </thead>\n",
       "  <tbody>\n",
       "    <tr>\n",
       "      <th>0</th>\n",
       "      <td>108</td>\n",
       "      <td>서울</td>\n",
       "      <td>2022-01-01 00:00</td>\n",
       "      <td>-8.5</td>\n",
       "      <td>NaN</td>\n",
       "      <td>NaN</td>\n",
       "      <td>NaN</td>\n",
       "      <td>1.9</td>\n",
       "      <td>NaN</td>\n",
       "      <td>320</td>\n",
       "      <td>...</td>\n",
       "      <td>NaN</td>\n",
       "      <td>2000</td>\n",
       "      <td>NaN</td>\n",
       "      <td>NaN</td>\n",
       "      <td>-7.0</td>\n",
       "      <td>NaN</td>\n",
       "      <td>-1.0</td>\n",
       "      <td>-1.0</td>\n",
       "      <td>-0.2</td>\n",
       "      <td>1.0</td>\n",
       "    </tr>\n",
       "    <tr>\n",
       "      <th>1</th>\n",
       "      <td>108</td>\n",
       "      <td>서울</td>\n",
       "      <td>2022-01-01 01:00</td>\n",
       "      <td>-9.2</td>\n",
       "      <td>NaN</td>\n",
       "      <td>NaN</td>\n",
       "      <td>NaN</td>\n",
       "      <td>1.8</td>\n",
       "      <td>NaN</td>\n",
       "      <td>270</td>\n",
       "      <td>...</td>\n",
       "      <td>NaN</td>\n",
       "      <td>2000</td>\n",
       "      <td>NaN</td>\n",
       "      <td>NaN</td>\n",
       "      <td>-7.2</td>\n",
       "      <td>NaN</td>\n",
       "      <td>-1.1</td>\n",
       "      <td>-1.1</td>\n",
       "      <td>-0.2</td>\n",
       "      <td>1.0</td>\n",
       "    </tr>\n",
       "    <tr>\n",
       "      <th>2</th>\n",
       "      <td>108</td>\n",
       "      <td>서울</td>\n",
       "      <td>2022-01-01 02:00</td>\n",
       "      <td>-9.5</td>\n",
       "      <td>NaN</td>\n",
       "      <td>NaN</td>\n",
       "      <td>NaN</td>\n",
       "      <td>1.2</td>\n",
       "      <td>NaN</td>\n",
       "      <td>270</td>\n",
       "      <td>...</td>\n",
       "      <td>NaN</td>\n",
       "      <td>2000</td>\n",
       "      <td>NaN</td>\n",
       "      <td>NaN</td>\n",
       "      <td>-7.5</td>\n",
       "      <td>NaN</td>\n",
       "      <td>-1.3</td>\n",
       "      <td>-1.2</td>\n",
       "      <td>-0.2</td>\n",
       "      <td>1.0</td>\n",
       "    </tr>\n",
       "    <tr>\n",
       "      <th>3</th>\n",
       "      <td>108</td>\n",
       "      <td>서울</td>\n",
       "      <td>2022-01-01 03:00</td>\n",
       "      <td>-9.3</td>\n",
       "      <td>NaN</td>\n",
       "      <td>NaN</td>\n",
       "      <td>NaN</td>\n",
       "      <td>1.4</td>\n",
       "      <td>NaN</td>\n",
       "      <td>290</td>\n",
       "      <td>...</td>\n",
       "      <td>NaN</td>\n",
       "      <td>2000</td>\n",
       "      <td>NaN</td>\n",
       "      <td>NaN</td>\n",
       "      <td>-7.6</td>\n",
       "      <td>NaN</td>\n",
       "      <td>-1.4</td>\n",
       "      <td>-1.2</td>\n",
       "      <td>-0.2</td>\n",
       "      <td>1.0</td>\n",
       "    </tr>\n",
       "    <tr>\n",
       "      <th>4</th>\n",
       "      <td>108</td>\n",
       "      <td>서울</td>\n",
       "      <td>2022-01-01 04:00</td>\n",
       "      <td>-9.6</td>\n",
       "      <td>NaN</td>\n",
       "      <td>NaN</td>\n",
       "      <td>NaN</td>\n",
       "      <td>1.7</td>\n",
       "      <td>NaN</td>\n",
       "      <td>340</td>\n",
       "      <td>...</td>\n",
       "      <td>NaN</td>\n",
       "      <td>2000</td>\n",
       "      <td>NaN</td>\n",
       "      <td>NaN</td>\n",
       "      <td>-7.6</td>\n",
       "      <td>NaN</td>\n",
       "      <td>-1.4</td>\n",
       "      <td>-1.3</td>\n",
       "      <td>-0.3</td>\n",
       "      <td>1.0</td>\n",
       "    </tr>\n",
       "    <tr>\n",
       "      <th>...</th>\n",
       "      <td>...</td>\n",
       "      <td>...</td>\n",
       "      <td>...</td>\n",
       "      <td>...</td>\n",
       "      <td>...</td>\n",
       "      <td>...</td>\n",
       "      <td>...</td>\n",
       "      <td>...</td>\n",
       "      <td>...</td>\n",
       "      <td>...</td>\n",
       "      <td>...</td>\n",
       "      <td>...</td>\n",
       "      <td>...</td>\n",
       "      <td>...</td>\n",
       "      <td>...</td>\n",
       "      <td>...</td>\n",
       "      <td>...</td>\n",
       "      <td>...</td>\n",
       "      <td>...</td>\n",
       "      <td>...</td>\n",
       "      <td>...</td>\n",
       "    </tr>\n",
       "    <tr>\n",
       "      <th>8755</th>\n",
       "      <td>108</td>\n",
       "      <td>서울</td>\n",
       "      <td>2022-12-31 19:00</td>\n",
       "      <td>-0.2</td>\n",
       "      <td>NaN</td>\n",
       "      <td>NaN</td>\n",
       "      <td>9.0</td>\n",
       "      <td>1.8</td>\n",
       "      <td>NaN</td>\n",
       "      <td>20</td>\n",
       "      <td>...</td>\n",
       "      <td>NaN</td>\n",
       "      <td>1211</td>\n",
       "      <td>NaN</td>\n",
       "      <td>NaN</td>\n",
       "      <td>-0.9</td>\n",
       "      <td>NaN</td>\n",
       "      <td>-0.1</td>\n",
       "      <td>-0.5</td>\n",
       "      <td>-0.5</td>\n",
       "      <td>0.6</td>\n",
       "    </tr>\n",
       "    <tr>\n",
       "      <th>8756</th>\n",
       "      <td>108</td>\n",
       "      <td>서울</td>\n",
       "      <td>2022-12-31 20:00</td>\n",
       "      <td>-0.8</td>\n",
       "      <td>NaN</td>\n",
       "      <td>NaN</td>\n",
       "      <td>9.0</td>\n",
       "      <td>1.4</td>\n",
       "      <td>NaN</td>\n",
       "      <td>20</td>\n",
       "      <td>...</td>\n",
       "      <td>14.0</td>\n",
       "      <td>1171</td>\n",
       "      <td>NaN</td>\n",
       "      <td>NaN</td>\n",
       "      <td>-1.8</td>\n",
       "      <td>NaN</td>\n",
       "      <td>-0.1</td>\n",
       "      <td>-0.5</td>\n",
       "      <td>-0.5</td>\n",
       "      <td>0.6</td>\n",
       "    </tr>\n",
       "    <tr>\n",
       "      <th>8757</th>\n",
       "      <td>108</td>\n",
       "      <td>서울</td>\n",
       "      <td>2022-12-31 21:00</td>\n",
       "      <td>-1.0</td>\n",
       "      <td>NaN</td>\n",
       "      <td>NaN</td>\n",
       "      <td>9.0</td>\n",
       "      <td>0.9</td>\n",
       "      <td>NaN</td>\n",
       "      <td>340</td>\n",
       "      <td>...</td>\n",
       "      <td>13.0</td>\n",
       "      <td>1134</td>\n",
       "      <td>NaN</td>\n",
       "      <td>NaN</td>\n",
       "      <td>-2.8</td>\n",
       "      <td>NaN</td>\n",
       "      <td>-0.2</td>\n",
       "      <td>-0.5</td>\n",
       "      <td>-0.5</td>\n",
       "      <td>0.6</td>\n",
       "    </tr>\n",
       "    <tr>\n",
       "      <th>8758</th>\n",
       "      <td>108</td>\n",
       "      <td>서울</td>\n",
       "      <td>2022-12-31 22:00</td>\n",
       "      <td>-0.8</td>\n",
       "      <td>NaN</td>\n",
       "      <td>NaN</td>\n",
       "      <td>9.0</td>\n",
       "      <td>0.5</td>\n",
       "      <td>NaN</td>\n",
       "      <td>290</td>\n",
       "      <td>...</td>\n",
       "      <td>13.0</td>\n",
       "      <td>1094</td>\n",
       "      <td>NaN</td>\n",
       "      <td>NaN</td>\n",
       "      <td>-2.2</td>\n",
       "      <td>NaN</td>\n",
       "      <td>-0.3</td>\n",
       "      <td>-0.5</td>\n",
       "      <td>-0.5</td>\n",
       "      <td>0.6</td>\n",
       "    </tr>\n",
       "    <tr>\n",
       "      <th>8759</th>\n",
       "      <td>108</td>\n",
       "      <td>서울</td>\n",
       "      <td>2022-12-31 23:00</td>\n",
       "      <td>-0.2</td>\n",
       "      <td>NaN</td>\n",
       "      <td>NaN</td>\n",
       "      <td>9.0</td>\n",
       "      <td>1.3</td>\n",
       "      <td>NaN</td>\n",
       "      <td>230</td>\n",
       "      <td>...</td>\n",
       "      <td>14.0</td>\n",
       "      <td>1314</td>\n",
       "      <td>NaN</td>\n",
       "      <td>NaN</td>\n",
       "      <td>-2.1</td>\n",
       "      <td>NaN</td>\n",
       "      <td>-0.3</td>\n",
       "      <td>-0.5</td>\n",
       "      <td>-0.5</td>\n",
       "      <td>0.6</td>\n",
       "    </tr>\n",
       "  </tbody>\n",
       "</table>\n",
       "<p>8760 rows × 38 columns</p>\n",
       "</div>"
      ],
      "text/plain": [
       "       지점 지점명                일시  기온(°C)  기온 QC플래그  강수량(mm)  강수량 QC플래그  \\\n",
       "0     108  서울  2022-01-01 00:00    -8.5       NaN      NaN        NaN   \n",
       "1     108  서울  2022-01-01 01:00    -9.2       NaN      NaN        NaN   \n",
       "2     108  서울  2022-01-01 02:00    -9.5       NaN      NaN        NaN   \n",
       "3     108  서울  2022-01-01 03:00    -9.3       NaN      NaN        NaN   \n",
       "4     108  서울  2022-01-01 04:00    -9.6       NaN      NaN        NaN   \n",
       "...   ...  ..               ...     ...       ...      ...        ...   \n",
       "8755  108  서울  2022-12-31 19:00    -0.2       NaN      NaN        9.0   \n",
       "8756  108  서울  2022-12-31 20:00    -0.8       NaN      NaN        9.0   \n",
       "8757  108  서울  2022-12-31 21:00    -1.0       NaN      NaN        9.0   \n",
       "8758  108  서울  2022-12-31 22:00    -0.8       NaN      NaN        9.0   \n",
       "8759  108  서울  2022-12-31 23:00    -0.2       NaN      NaN        9.0   \n",
       "\n",
       "      풍속(m/s)  풍속 QC플래그  풍향(16방위)  ...  최저운고(100m )  시정(10m)  지면상태(지면상태코드)  \\\n",
       "0         1.9       NaN       320  ...          NaN     2000           NaN   \n",
       "1         1.8       NaN       270  ...          NaN     2000           NaN   \n",
       "2         1.2       NaN       270  ...          NaN     2000           NaN   \n",
       "3         1.4       NaN       290  ...          NaN     2000           NaN   \n",
       "4         1.7       NaN       340  ...          NaN     2000           NaN   \n",
       "...       ...       ...       ...  ...          ...      ...           ...   \n",
       "8755      1.8       NaN        20  ...          NaN     1211           NaN   \n",
       "8756      1.4       NaN        20  ...         14.0     1171           NaN   \n",
       "8757      0.9       NaN       340  ...         13.0     1134           NaN   \n",
       "8758      0.5       NaN       290  ...         13.0     1094           NaN   \n",
       "8759      1.3       NaN       230  ...         14.0     1314           NaN   \n",
       "\n",
       "      현상번호(국내식)  지면온도(°C)  지면온도 QC플래그  5cm 지중온도(°C)  10cm 지중온도(°C)  \\\n",
       "0           NaN      -7.0         NaN          -1.0           -1.0   \n",
       "1           NaN      -7.2         NaN          -1.1           -1.1   \n",
       "2           NaN      -7.5         NaN          -1.3           -1.2   \n",
       "3           NaN      -7.6         NaN          -1.4           -1.2   \n",
       "4           NaN      -7.6         NaN          -1.4           -1.3   \n",
       "...         ...       ...         ...           ...            ...   \n",
       "8755        NaN      -0.9         NaN          -0.1           -0.5   \n",
       "8756        NaN      -1.8         NaN          -0.1           -0.5   \n",
       "8757        NaN      -2.8         NaN          -0.2           -0.5   \n",
       "8758        NaN      -2.2         NaN          -0.3           -0.5   \n",
       "8759        NaN      -2.1         NaN          -0.3           -0.5   \n",
       "\n",
       "      20cm 지중온도(°C)  30cm 지중온도(°C)  \n",
       "0              -0.2            1.0  \n",
       "1              -0.2            1.0  \n",
       "2              -0.2            1.0  \n",
       "3              -0.2            1.0  \n",
       "4              -0.3            1.0  \n",
       "...             ...            ...  \n",
       "8755           -0.5            0.6  \n",
       "8756           -0.5            0.6  \n",
       "8757           -0.5            0.6  \n",
       "8758           -0.5            0.6  \n",
       "8759           -0.5            0.6  \n",
       "\n",
       "[8760 rows x 38 columns]"
      ]
     },
     "execution_count": 10,
     "metadata": {},
     "output_type": "execute_result"
    }
   ],
   "source": [
    "weather_train.loc[weather_train['일사 QC플래그']!=np.nan,:]"
   ]
  },
  {
   "cell_type": "code",
   "execution_count": 11,
   "id": "6e5d2bf2",
   "metadata": {},
   "outputs": [
    {
     "name": "stdout",
     "output_type": "stream",
     "text": [
      "<class 'pandas.core.frame.DataFrame'>\n",
      "RangeIndex: 8760 entries, 0 to 8759\n",
      "Data columns (total 13 columns):\n",
      " #   Column      Non-Null Count  Dtype  \n",
      "---  ------      --------------  -----  \n",
      " 0   Unnamed: 0  8760 non-null   int64  \n",
      " 1   지역          8760 non-null   object \n",
      " 2   망           8760 non-null   object \n",
      " 3   측정소코드       8760 non-null   int64  \n",
      " 4   측정소명        8760 non-null   object \n",
      " 5   측정일시        8760 non-null   int64  \n",
      " 6   SO2         8673 non-null   float64\n",
      " 7   CO          8673 non-null   float64\n",
      " 8   O3          8673 non-null   float64\n",
      " 9   NO2         8673 non-null   float64\n",
      " 10  PM10        8604 non-null   float64\n",
      " 11  PM25        8655 non-null   float64\n",
      " 12  주소          8760 non-null   object \n",
      "dtypes: float64(6), int64(3), object(4)\n",
      "memory usage: 889.8+ KB\n"
     ]
    },
    {
     "data": {
      "text/plain": [
       "None"
      ]
     },
     "metadata": {},
     "output_type": "display_data"
    },
    {
     "name": "stdout",
     "output_type": "stream",
     "text": [
      "<class 'pandas.core.frame.DataFrame'>\n",
      "RangeIndex: 8760 entries, 0 to 8759\n",
      "Data columns (total 38 columns):\n",
      " #   Column         Non-Null Count  Dtype  \n",
      "---  ------         --------------  -----  \n",
      " 0   지점             8760 non-null   int64  \n",
      " 1   지점명            8760 non-null   object \n",
      " 2   일시             8760 non-null   object \n",
      " 3   기온(°C)         8760 non-null   float64\n",
      " 4   기온 QC플래그       0 non-null      float64\n",
      " 5   강수량(mm)        939 non-null    float64\n",
      " 6   강수량 QC플래그      1568 non-null   float64\n",
      " 7   풍속(m/s)        8760 non-null   float64\n",
      " 8   풍속 QC플래그       0 non-null      float64\n",
      " 9   풍향(16방위)       8760 non-null   int64  \n",
      " 10  풍향 QC플래그       0 non-null      float64\n",
      " 11  습도(%)          8760 non-null   int64  \n",
      " 12  습도 QC플래그       0 non-null      float64\n",
      " 13  증기압(hPa)       8760 non-null   float64\n",
      " 14  이슬점온도(°C)      8760 non-null   float64\n",
      " 15  현지기압(hPa)      8760 non-null   float64\n",
      " 16  현지기압 QC플래그     0 non-null      float64\n",
      " 17  해면기압(hPa)      8760 non-null   float64\n",
      " 18  해면기압 QC플래그     0 non-null      float64\n",
      " 19  일조(hr)         4791 non-null   float64\n",
      " 20  일조 QC플래그       3969 non-null   float64\n",
      " 21  일사(MJ/m2)      4791 non-null   float64\n",
      " 22  일사 QC플래그       3970 non-null   float64\n",
      " 23  적설(cm)         489 non-null    float64\n",
      " 24  3시간신적설(cm)     31 non-null     float64\n",
      " 25  전운량(10분위)      8760 non-null   int64  \n",
      " 26  중하층운량(10분위)    8760 non-null   int64  \n",
      " 27  운형(운형약어)       4815 non-null   object \n",
      " 28  최저운고(100m )    4455 non-null   float64\n",
      " 29  시정(10m)        8760 non-null   int64  \n",
      " 30  지면상태(지면상태코드)   0 non-null      float64\n",
      " 31  현상번호(국내식)      1727 non-null   float64\n",
      " 32  지면온도(°C)       8759 non-null   float64\n",
      " 33  지면온도 QC플래그     15 non-null     float64\n",
      " 34  5cm 지중온도(°C)   8759 non-null   float64\n",
      " 35  10cm 지중온도(°C)  8759 non-null   float64\n",
      " 36  20cm 지중온도(°C)  8759 non-null   float64\n",
      " 37  30cm 지중온도(°C)  8759 non-null   float64\n",
      "dtypes: float64(29), int64(6), object(3)\n",
      "memory usage: 2.5+ MB\n"
     ]
    },
    {
     "data": {
      "text/plain": [
       "None"
      ]
     },
     "metadata": {},
     "output_type": "display_data"
    }
   ],
   "source": [
    "# 아래에 실습코드를 작성하고 결과를 확인합니다.\n",
    "display(air_train.info())\n",
    "display(weather_train.info())"
   ]
  },
  {
   "cell_type": "markdown",
   "id": "3d860d6b",
   "metadata": {},
   "source": [
    "## **2.EDA 1단계 - 데이터 기본 탐색 및 분석**\n",
    "\n",
    "* 단변량 분석은 데이터분석의 매우 기초적인 분석기법으로, 독립적인 개별 변수가 가지고있는 특성들을 이해하는 과정입니다.\n",
    "\n",
    "    * <span style=\"color: green\"> 개별 변수에 대해 아래 사항들을 분석해보세요. </span>\n",
    "\n",
    "        1. 변수가 내포하고 있는 의미\n",
    "        2. 변수가 수치형인지, 범주형인지\n",
    "        3. 결측치 존재 여부 및 조치 방안\n",
    "        4. 기초 통계량 확인\n",
    "        5. 데이터 분포 확인\n",
    "        6. 위 정보로부터 파악한 내용 정리\n",
    "        7. 추가 분석사항 도출"
   ]
  },
  {
   "cell_type": "markdown",
   "id": "a7f8c42f",
   "metadata": {},
   "source": [
    "### (1) 변수별 단변량 분석\n",
    "- 4 ~ 5개 변수를 선택해서 위 1~6번을 확인해보세요 (7번은 선택)\n",
    "*  PM10, 기온, 풍향, 습도(%), 증기압"
   ]
  },
  {
   "cell_type": "code",
   "execution_count": 12,
   "id": "5e5b6213-18f6-4632-893f-afbdb5a4807e",
   "metadata": {
    "tags": []
   },
   "outputs": [
    {
     "data": {
      "text/plain": [
       "(8760, 13)"
      ]
     },
     "execution_count": 12,
     "metadata": {},
     "output_type": "execute_result"
    }
   ],
   "source": [
    "air_train.shape"
   ]
  },
  {
   "cell_type": "code",
   "execution_count": 13,
   "id": "719c1e01-969b-4c48-a14e-b4533cebfe17",
   "metadata": {
    "tags": []
   },
   "outputs": [
    {
     "data": {
      "text/html": [
       "<div>\n",
       "<style scoped>\n",
       "    .dataframe tbody tr th:only-of-type {\n",
       "        vertical-align: middle;\n",
       "    }\n",
       "\n",
       "    .dataframe tbody tr th {\n",
       "        vertical-align: top;\n",
       "    }\n",
       "\n",
       "    .dataframe thead th {\n",
       "        text-align: right;\n",
       "    }\n",
       "</style>\n",
       "<table border=\"1\" class=\"dataframe\">\n",
       "  <thead>\n",
       "    <tr style=\"text-align: right;\">\n",
       "      <th></th>\n",
       "      <th>Unnamed: 0</th>\n",
       "      <th>지역</th>\n",
       "      <th>망</th>\n",
       "      <th>측정소코드</th>\n",
       "      <th>측정소명</th>\n",
       "      <th>측정일시</th>\n",
       "      <th>SO2</th>\n",
       "      <th>CO</th>\n",
       "      <th>O3</th>\n",
       "      <th>NO2</th>\n",
       "      <th>PM10</th>\n",
       "      <th>PM25</th>\n",
       "      <th>주소</th>\n",
       "    </tr>\n",
       "  </thead>\n",
       "  <tbody>\n",
       "    <tr>\n",
       "      <th>63</th>\n",
       "      <td>63</td>\n",
       "      <td>서울 종로구</td>\n",
       "      <td>도시대기</td>\n",
       "      <td>111123</td>\n",
       "      <td>종로구</td>\n",
       "      <td>2022010316</td>\n",
       "      <td>NaN</td>\n",
       "      <td>NaN</td>\n",
       "      <td>NaN</td>\n",
       "      <td>NaN</td>\n",
       "      <td>NaN</td>\n",
       "      <td>NaN</td>\n",
       "      <td>서울 종로구 종로35가길 19</td>\n",
       "    </tr>\n",
       "    <tr>\n",
       "      <th>64</th>\n",
       "      <td>64</td>\n",
       "      <td>서울 종로구</td>\n",
       "      <td>도시대기</td>\n",
       "      <td>111123</td>\n",
       "      <td>종로구</td>\n",
       "      <td>2022010317</td>\n",
       "      <td>NaN</td>\n",
       "      <td>NaN</td>\n",
       "      <td>NaN</td>\n",
       "      <td>NaN</td>\n",
       "      <td>NaN</td>\n",
       "      <td>NaN</td>\n",
       "      <td>서울 종로구 종로35가길 19</td>\n",
       "    </tr>\n",
       "    <tr>\n",
       "      <th>65</th>\n",
       "      <td>65</td>\n",
       "      <td>서울 종로구</td>\n",
       "      <td>도시대기</td>\n",
       "      <td>111123</td>\n",
       "      <td>종로구</td>\n",
       "      <td>2022010318</td>\n",
       "      <td>0.004</td>\n",
       "      <td>0.5</td>\n",
       "      <td>0.004</td>\n",
       "      <td>0.043</td>\n",
       "      <td>NaN</td>\n",
       "      <td>NaN</td>\n",
       "      <td>서울 종로구 종로35가길 19</td>\n",
       "    </tr>\n",
       "    <tr>\n",
       "      <th>150</th>\n",
       "      <td>150</td>\n",
       "      <td>서울 종로구</td>\n",
       "      <td>도시대기</td>\n",
       "      <td>111123</td>\n",
       "      <td>종로구</td>\n",
       "      <td>2022010707</td>\n",
       "      <td>NaN</td>\n",
       "      <td>NaN</td>\n",
       "      <td>NaN</td>\n",
       "      <td>NaN</td>\n",
       "      <td>NaN</td>\n",
       "      <td>NaN</td>\n",
       "      <td>서울 종로구 종로35가길 19</td>\n",
       "    </tr>\n",
       "    <tr>\n",
       "      <th>151</th>\n",
       "      <td>151</td>\n",
       "      <td>서울 종로구</td>\n",
       "      <td>도시대기</td>\n",
       "      <td>111123</td>\n",
       "      <td>종로구</td>\n",
       "      <td>2022010708</td>\n",
       "      <td>NaN</td>\n",
       "      <td>NaN</td>\n",
       "      <td>NaN</td>\n",
       "      <td>NaN</td>\n",
       "      <td>NaN</td>\n",
       "      <td>NaN</td>\n",
       "      <td>서울 종로구 종로35가길 19</td>\n",
       "    </tr>\n",
       "    <tr>\n",
       "      <th>...</th>\n",
       "      <td>...</td>\n",
       "      <td>...</td>\n",
       "      <td>...</td>\n",
       "      <td>...</td>\n",
       "      <td>...</td>\n",
       "      <td>...</td>\n",
       "      <td>...</td>\n",
       "      <td>...</td>\n",
       "      <td>...</td>\n",
       "      <td>...</td>\n",
       "      <td>...</td>\n",
       "      <td>...</td>\n",
       "      <td>...</td>\n",
       "    </tr>\n",
       "    <tr>\n",
       "      <th>8171</th>\n",
       "      <td>8171</td>\n",
       "      <td>서울 종로구</td>\n",
       "      <td>도시대기</td>\n",
       "      <td>111123</td>\n",
       "      <td>종로구</td>\n",
       "      <td>2022120712</td>\n",
       "      <td>NaN</td>\n",
       "      <td>NaN</td>\n",
       "      <td>NaN</td>\n",
       "      <td>NaN</td>\n",
       "      <td>NaN</td>\n",
       "      <td>NaN</td>\n",
       "      <td>서울 종로구 종로35가길 19</td>\n",
       "    </tr>\n",
       "    <tr>\n",
       "      <th>8299</th>\n",
       "      <td>8299</td>\n",
       "      <td>서울 종로구</td>\n",
       "      <td>도시대기</td>\n",
       "      <td>111123</td>\n",
       "      <td>종로구</td>\n",
       "      <td>2022121220</td>\n",
       "      <td>0.003</td>\n",
       "      <td>0.5</td>\n",
       "      <td>0.006</td>\n",
       "      <td>0.035</td>\n",
       "      <td>NaN</td>\n",
       "      <td>13.0</td>\n",
       "      <td>서울 종로구 종로35가길 19</td>\n",
       "    </tr>\n",
       "    <tr>\n",
       "      <th>8532</th>\n",
       "      <td>8532</td>\n",
       "      <td>서울 종로구</td>\n",
       "      <td>도시대기</td>\n",
       "      <td>111123</td>\n",
       "      <td>종로구</td>\n",
       "      <td>2022122213</td>\n",
       "      <td>NaN</td>\n",
       "      <td>NaN</td>\n",
       "      <td>NaN</td>\n",
       "      <td>NaN</td>\n",
       "      <td>NaN</td>\n",
       "      <td>NaN</td>\n",
       "      <td>서울 종로구 종로35가길 19</td>\n",
       "    </tr>\n",
       "    <tr>\n",
       "      <th>8533</th>\n",
       "      <td>8533</td>\n",
       "      <td>서울 종로구</td>\n",
       "      <td>도시대기</td>\n",
       "      <td>111123</td>\n",
       "      <td>종로구</td>\n",
       "      <td>2022122214</td>\n",
       "      <td>NaN</td>\n",
       "      <td>NaN</td>\n",
       "      <td>NaN</td>\n",
       "      <td>NaN</td>\n",
       "      <td>NaN</td>\n",
       "      <td>NaN</td>\n",
       "      <td>서울 종로구 종로35가길 19</td>\n",
       "    </tr>\n",
       "    <tr>\n",
       "      <th>8570</th>\n",
       "      <td>8570</td>\n",
       "      <td>서울 종로구</td>\n",
       "      <td>도시대기</td>\n",
       "      <td>111123</td>\n",
       "      <td>종로구</td>\n",
       "      <td>2022122403</td>\n",
       "      <td>0.003</td>\n",
       "      <td>0.4</td>\n",
       "      <td>0.023</td>\n",
       "      <td>0.014</td>\n",
       "      <td>NaN</td>\n",
       "      <td>15.0</td>\n",
       "      <td>서울 종로구 종로35가길 19</td>\n",
       "    </tr>\n",
       "  </tbody>\n",
       "</table>\n",
       "<p>156 rows × 13 columns</p>\n",
       "</div>"
      ],
      "text/plain": [
       "      Unnamed: 0      지역     망   측정소코드 측정소명        측정일시    SO2   CO     O3  \\\n",
       "63            63  서울 종로구  도시대기  111123  종로구  2022010316    NaN  NaN    NaN   \n",
       "64            64  서울 종로구  도시대기  111123  종로구  2022010317    NaN  NaN    NaN   \n",
       "65            65  서울 종로구  도시대기  111123  종로구  2022010318  0.004  0.5  0.004   \n",
       "150          150  서울 종로구  도시대기  111123  종로구  2022010707    NaN  NaN    NaN   \n",
       "151          151  서울 종로구  도시대기  111123  종로구  2022010708    NaN  NaN    NaN   \n",
       "...          ...     ...   ...     ...  ...         ...    ...  ...    ...   \n",
       "8171        8171  서울 종로구  도시대기  111123  종로구  2022120712    NaN  NaN    NaN   \n",
       "8299        8299  서울 종로구  도시대기  111123  종로구  2022121220  0.003  0.5  0.006   \n",
       "8532        8532  서울 종로구  도시대기  111123  종로구  2022122213    NaN  NaN    NaN   \n",
       "8533        8533  서울 종로구  도시대기  111123  종로구  2022122214    NaN  NaN    NaN   \n",
       "8570        8570  서울 종로구  도시대기  111123  종로구  2022122403  0.003  0.4  0.023   \n",
       "\n",
       "        NO2  PM10  PM25                주소  \n",
       "63      NaN   NaN   NaN  서울 종로구 종로35가길 19  \n",
       "64      NaN   NaN   NaN  서울 종로구 종로35가길 19  \n",
       "65    0.043   NaN   NaN  서울 종로구 종로35가길 19  \n",
       "150     NaN   NaN   NaN  서울 종로구 종로35가길 19  \n",
       "151     NaN   NaN   NaN  서울 종로구 종로35가길 19  \n",
       "...     ...   ...   ...               ...  \n",
       "8171    NaN   NaN   NaN  서울 종로구 종로35가길 19  \n",
       "8299  0.035   NaN  13.0  서울 종로구 종로35가길 19  \n",
       "8532    NaN   NaN   NaN  서울 종로구 종로35가길 19  \n",
       "8533    NaN   NaN   NaN  서울 종로구 종로35가길 19  \n",
       "8570  0.014   NaN  15.0  서울 종로구 종로35가길 19  \n",
       "\n",
       "[156 rows x 13 columns]"
      ]
     },
     "execution_count": 13,
     "metadata": {},
     "output_type": "execute_result"
    }
   ],
   "source": [
    "air_train.loc[air_train['PM10'].isnull(),:]"
   ]
  },
  {
   "cell_type": "code",
   "execution_count": 14,
   "id": "777317ff-edaa-4a07-99cb-c3489d8411c1",
   "metadata": {
    "tags": []
   },
   "outputs": [
    {
     "ename": "NameError",
     "evalue": "name 'air_copy' is not defined",
     "output_type": "error",
     "traceback": [
      "\u001b[1;31m---------------------------------------------------------------------------\u001b[0m",
      "\u001b[1;31mNameError\u001b[0m                                 Traceback (most recent call last)",
      "Cell \u001b[1;32mIn[14], line 7\u001b[0m\n\u001b[0;32m      4\u001b[0m air_train[\u001b[38;5;124m'\u001b[39m\u001b[38;5;124mPM10\u001b[39m\u001b[38;5;124m'\u001b[39m]\u001b[38;5;241m.\u001b[39misna()\u001b[38;5;241m.\u001b[39msum() \u001b[38;5;66;03m# 156\u001b[39;00m\n\u001b[0;32m      5\u001b[0m \u001b[38;5;66;03m# 결측치 제거 -> 연속 결측치가 많아 선형보간으로 할 경우 데이터 신뢰성 떨어짐\u001b[39;00m\n\u001b[0;32m      6\u001b[0m \u001b[38;5;66;03m# air_copy = air_train.copy()\u001b[39;00m\n\u001b[1;32m----> 7\u001b[0m air_train \u001b[38;5;241m=\u001b[39m air_copy\u001b[38;5;241m.\u001b[39mcopy() \n\u001b[0;32m      8\u001b[0m air_train \u001b[38;5;241m=\u001b[39m air_train\u001b[38;5;241m.\u001b[39mloc[air_train[\u001b[38;5;124m'\u001b[39m\u001b[38;5;124mPM10\u001b[39m\u001b[38;5;124m'\u001b[39m]\u001b[38;5;241m.\u001b[39misnull()\u001b[38;5;241m==\u001b[39m\u001b[38;5;28;01mFalse\u001b[39;00m,:]\n",
      "\u001b[1;31mNameError\u001b[0m: name 'air_copy' is not defined"
     ]
    }
   ],
   "source": [
    "# PM10 -> 미세먼지\n",
    "# 수치형\n",
    "# 결측치 확인\n",
    "air_train['PM10'].isna().sum() # 156\n",
    "# 결측치 제거 -> 연속 결측치가 많아 선형보간으로 할 경우 데이터 신뢰성 떨어짐\n",
    "# air_copy = air_train.copy()\n",
    "# air_train = air_copy.copy() \n",
    "air_train = air_train.loc[air_train['PM10'].isnull()==False,:]"
   ]
  },
  {
   "cell_type": "code",
   "execution_count": null,
   "id": "edca2c04-a971-4016-a41c-13b295df716e",
   "metadata": {
    "tags": []
   },
   "outputs": [],
   "source": [
    "# 기초 통계량확인\n",
    "air_train['PM10'].describe() "
   ]
  },
  {
   "cell_type": "code",
   "execution_count": null,
   "id": "a82b9497-0ab6-4adb-8361-57a82abebd1c",
   "metadata": {
    "tags": []
   },
   "outputs": [],
   "source": [
    "# 분포 확인\n",
    "plt.figure(figsize=(15,5))\n",
    "plt.subplot(1,2,1)\n",
    "plt.plot(air_train['PM10'])\n",
    "\n",
    "plt.subplot(1,2,2)\n",
    "sns.histplot(air_train['PM10'],bins=30, kde=True) # 대부분은 10~50 의 미세먼지 데이터를 가지고 있다."
   ]
  },
  {
   "cell_type": "markdown",
   "id": "0f010b2d-40be-4066-abeb-dc896fac3469",
   "metadata": {},
   "source": [
    "* 기온"
   ]
  },
  {
   "cell_type": "code",
   "execution_count": null,
   "id": "88c4676d-03df-44ef-bbad-6d4a4aa6324e",
   "metadata": {
    "tags": []
   },
   "outputs": [],
   "source": [
    "# 내포의미 -> 1시간 동안 평균 기온\n",
    "# 수치형\n",
    "# 결측치 확인\n",
    "weather_train['기온(°C)'].isna().sum() #없음"
   ]
  },
  {
   "cell_type": "code",
   "execution_count": null,
   "id": "53937f03-b92d-46df-ae65-b333539b7e4b",
   "metadata": {
    "tags": []
   },
   "outputs": [],
   "source": [
    "# 기초 통계량 확인\n",
    "weather_train['기온(°C)'].describe() # 평균 기온 13도"
   ]
  },
  {
   "cell_type": "code",
   "execution_count": null,
   "id": "65e3c5f4-16a4-4e56-89bc-a3abcab9d785",
   "metadata": {
    "tags": []
   },
   "outputs": [],
   "source": [
    "# 분포 확인\n",
    "feature = '기온(°C)'\n",
    "plt.figure(figsize=(15,5))\n",
    "plt.subplot(1,2,1)\n",
    "plt.plot(weather_train[feature])\n",
    "\n",
    "plt.subplot(1,2,2)\n",
    "sns.histplot(weather_train[feature],bins=30, kde=True)\n",
    "# 기온 분퐉 고르지 못하고 25~30 도 구간에 많이 몰려있다."
   ]
  },
  {
   "cell_type": "markdown",
   "id": "437de7c9-6db4-485b-a879-bb0623c62191",
   "metadata": {},
   "source": [
    "* 풍향"
   ]
  },
  {
   "cell_type": "code",
   "execution_count": null,
   "id": "26ad5194-bddd-4baa-a9f4-9ba795da201d",
   "metadata": {
    "tags": []
   },
   "outputs": [],
   "source": [
    "# 의미, 바람이 불어오는 방향\n",
    "feature = '풍향(16방위)'\n",
    "weather_train[feature].unique()\n",
    "\n",
    "# 범주형"
   ]
  },
  {
   "cell_type": "code",
   "execution_count": null,
   "id": "f2186edf-7c98-48a3-8542-e544206e8092",
   "metadata": {
    "tags": []
   },
   "outputs": [],
   "source": [
    "# 결측치 확인\n",
    "weather_train[feature].isna().sum() # 없음"
   ]
  },
  {
   "cell_type": "code",
   "execution_count": null,
   "id": "41706c70-1923-4e61-b806-087ad95aacba",
   "metadata": {
    "tags": []
   },
   "outputs": [],
   "source": [
    "# 기초 통계량 확인\n",
    "weather_train[feature].value_counts() # 서쪽과 북동풍이 많이 푼다."
   ]
  },
  {
   "cell_type": "code",
   "execution_count": null,
   "id": "5760e834-7cf2-49f3-aba1-8be7873196f3",
   "metadata": {
    "tags": []
   },
   "outputs": [],
   "source": [
    "# 시각화\n",
    "sns.countplot(x=feature, data = weather_train)"
   ]
  },
  {
   "cell_type": "code",
   "execution_count": null,
   "id": "f9856316-2aa6-46f4-8242-d4b4d0e7c4fe",
   "metadata": {
    "tags": []
   },
   "outputs": [],
   "source": [
    "# 미세먼지와 이변량 분석, 범주 -> 수치, 시각화(barplot), 분산 분석(anode) -> 아직 데이터 안 합쳐서 안 되네.."
   ]
  },
  {
   "cell_type": "markdown",
   "id": "d3952598-432a-407b-b3b8-a6c32e8e19b0",
   "metadata": {},
   "source": [
    "* 습도"
   ]
  },
  {
   "cell_type": "code",
   "execution_count": null,
   "id": "ede0c301-b04b-4ed6-adf7-3431bb053a25",
   "metadata": {
    "tags": []
   },
   "outputs": [],
   "source": [
    "# 1시간동안 평균 습도 0~100%\n",
    "# 수치형\n",
    "# 결측치 확인\n",
    "feature = '습도(%)'\n",
    "weather_train[feature].isna().sum()"
   ]
  },
  {
   "cell_type": "code",
   "execution_count": null,
   "id": "886ac066-3181-402e-beb4-aeca4b0d6c1a",
   "metadata": {
    "tags": []
   },
   "outputs": [],
   "source": [
    "# 통계량 확인\n",
    "weather_train[feature].describe() # 평균 습도 65%로 높은편"
   ]
  },
  {
   "cell_type": "code",
   "execution_count": null,
   "id": "d815e108-ee6f-4d71-9d34-7524bf0b0caa",
   "metadata": {
    "tags": []
   },
   "outputs": [],
   "source": [
    "# 시각화 (데이터 분포 확인)\n",
    "plt.figure(figsize=(15,5))\n",
    "plt.subplot(1,2,1)\n",
    "plt.plot(weather_train[feature])\n",
    "\n",
    "plt.subplot(1,2,2)\n",
    "sns.histplot(weather_train[feature],bins=30, kde=True) # 여름은 대체적으로 습도가 높고, 겨울은 강우 여부에 따라 다른것으로 보인다."
   ]
  },
  {
   "cell_type": "markdown",
   "id": "883c8d2d",
   "metadata": {},
   "source": [
    "#### **[예시] 1) Feature1 : 측정일시**"
   ]
  },
  {
   "cell_type": "markdown",
   "id": "ef6422db",
   "metadata": {},
   "source": [
    "**1. 변수가 내포하고 있는 의미**"
   ]
  },
  {
   "cell_type": "code",
   "execution_count": null,
   "id": "70748961",
   "metadata": {},
   "outputs": [],
   "source": [
    "# 고민하고 확인해봅시다."
   ]
  },
  {
   "cell_type": "markdown",
   "id": "a1dd9478",
   "metadata": {},
   "source": [
    "**2. 변수가 수치형인지 범주형인지**\n",
    "  - 날짜는 범주형? 수치형?"
   ]
  },
  {
   "cell_type": "code",
   "execution_count": null,
   "id": "71c2eb29",
   "metadata": {},
   "outputs": [],
   "source": [
    "# 고민하고 확인해봅시다."
   ]
  },
  {
   "cell_type": "markdown",
   "id": "e19390d9",
   "metadata": {},
   "source": [
    "**3. 변수의 결측치 존재 여부 및 조치 방안**"
   ]
  },
  {
   "cell_type": "code",
   "execution_count": null,
   "id": "ba8ccde5",
   "metadata": {},
   "outputs": [],
   "source": [
    "# 고민하고 확인해봅시다."
   ]
  },
  {
   "cell_type": "markdown",
   "id": "c4298881",
   "metadata": {},
   "source": [
    "**4.변수의 기초 통계량 확인**"
   ]
  },
  {
   "cell_type": "code",
   "execution_count": null,
   "id": "05f34abb",
   "metadata": {},
   "outputs": [],
   "source": [
    "# 고민하고 확인해봅시다."
   ]
  },
  {
   "cell_type": "markdown",
   "id": "efa6eebc",
   "metadata": {},
   "source": [
    "**5. 변수의 분포 확인**"
   ]
  },
  {
   "cell_type": "code",
   "execution_count": null,
   "id": "0bdc6ae9",
   "metadata": {},
   "outputs": [],
   "source": [
    "# 고민하고 확인해봅시다.\n"
   ]
  },
  {
   "cell_type": "markdown",
   "id": "956b9620",
   "metadata": {},
   "source": [
    "**6. 위 정보로 부터 파악한 내용 정리**"
   ]
  },
  {
   "cell_type": "code",
   "execution_count": null,
   "id": "33b8976f",
   "metadata": {},
   "outputs": [],
   "source": [
    "# 고민하고 확인해봅시다."
   ]
  },
  {
   "cell_type": "markdown",
   "id": "762bbeca",
   "metadata": {},
   "source": [
    "-----------**아래에 추가로 3-4개의 변수를 같은 방법으로 고민해보기!** -----------------------"
   ]
  },
  {
   "cell_type": "markdown",
   "id": "a17b3d11-215a-4de6-804f-74d792f1d8ac",
   "metadata": {},
   "source": [
    "## **3.EDA 2단계 - 데이터 전처리**\n",
    "- 진행한 개별 변수 분석에 맞추어 데이터를 전처리 하겠습니다."
   ]
  },
  {
   "cell_type": "markdown",
   "id": "480d374b",
   "metadata": {},
   "source": [
    "### (1) air_22, air_23, weather_22, weather_23 데이터 전처리\n",
    "* air_22, air_23  각각 '측정일시'를 활용하여 'time'변수 생성\n",
    "    * 참고: 미세먼지 데이터는 1시-24시, 날씨 데이터는 0시-23시로 구성되어 있습니다. 미세먼지와 날씨 데이터를 time 기준으로 합치려면 기준이 동일해야 합니다. 미세먼지 데이터에서 time 변수 생성 시 이를 미리 고려(예: air_22['측정일시'] -1)하세요.\n",
    "* time 변수를 pd.to_datetime으로 데이터 타입 변경\n",
    "    * 참고: format = '%Y%m%d%H'"
   ]
  },
  {
   "cell_type": "markdown",
   "id": "c3726f76",
   "metadata": {},
   "source": [
    "#### 1) air_22, air_23 의 '측정일시'를 활용하여 'time' 변수 생성"
   ]
  },
  {
   "cell_type": "code",
   "execution_count": null,
   "id": "81775c7e",
   "metadata": {
    "tags": []
   },
   "outputs": [],
   "source": [
    "# 아래에 필요한 코드를 작성하고 결과를 확인합니다.\n",
    "# air_train['측정일시'].astype(str)\n",
    "air_train['time'] = pd.to_datetime(air_train['측정일시']-1,format='%Y%m%d%H')\n",
    "air_test['time'] = pd.to_datetime(air_test['측정일시']-1,format='%Y%m%d%H')"
   ]
  },
  {
   "cell_type": "code",
   "execution_count": null,
   "id": "7bf0b579",
   "metadata": {},
   "outputs": [],
   "source": [
    "# 결과확인\n",
    "air_test.head()\n"
   ]
  },
  {
   "cell_type": "markdown",
   "id": "49c9d404",
   "metadata": {},
   "source": [
    "#### 2) weather_22, weather_23 의 '일시'를 활용하여 'time' 변수 생성\n",
    "* weather_22, weather_23 의 '일시'를 활용하여 'time'변수 생성\n",
    "* time 변수를 pd.to_datetime으로 데이터 타입 변경"
   ]
  },
  {
   "cell_type": "code",
   "execution_count": null,
   "id": "cc56b617",
   "metadata": {},
   "outputs": [],
   "source": [
    "# 아래에 필요한 코드를 작성하고 결과를 확인합니다.\n",
    "weather_train['time'] = pd.to_datetime(weather_train['일시'])\n",
    "weather_test['time'] = pd.to_datetime(weather_test['일시'])"
   ]
  },
  {
   "cell_type": "code",
   "execution_count": null,
   "id": "1228635b",
   "metadata": {},
   "outputs": [],
   "source": [
    "# 결과확인\n",
    "weather_test.head(2)"
   ]
  },
  {
   "cell_type": "markdown",
   "id": "3b4d6b43",
   "metadata": {},
   "source": [
    "#### 3) 'time' 기준으로 데이터 합치기\n",
    "* 미세먼지 데이터와 날씨 데이터를 'time' 기준으로 합쳐보세요.\n",
    "    * df_22에는 'time' 기준으로 22년도 미세먼지, 날씨 데이터를 합쳐보세요.\n",
    "    * df_23에는 'time' 기준으로 23년도 미세먼지, 날씨 데이터를 합쳐보세요."
   ]
  },
  {
   "cell_type": "code",
   "execution_count": null,
   "id": "e1671cf0-7058-4826-ba4b-ce0328822fd9",
   "metadata": {
    "tags": []
   },
   "outputs": [],
   "source": [
    "#help(pd.merge)"
   ]
  },
  {
   "cell_type": "code",
   "execution_count": null,
   "id": "8e77f9fa",
   "metadata": {
    "tags": []
   },
   "outputs": [],
   "source": [
    "# 아래에 필요한 코드를 작성하고 결과를 확인합니다.\n",
    "data_train = pd.merge(air_train, weather_train, how='inner')\n",
    "data_test = pd.merge(air_test, weather_test, how='inner')"
   ]
  },
  {
   "cell_type": "code",
   "execution_count": null,
   "id": "02361a34",
   "metadata": {
    "tags": []
   },
   "outputs": [],
   "source": [
    "# 결과확인\n",
    "pd.merge(air_test, weather_test, how='inner').columns"
   ]
  },
  {
   "cell_type": "markdown",
   "id": "1bcfb4a7",
   "metadata": {},
   "source": [
    "#### 4) 사용하지 않을 변수 제거\n",
    "\n",
    "* 머신러닝에 사용하지 않을 변수들을 제거해줍니다.\n",
    "    * df_22, df_23에 여러분들이 사용할 변수들만 넣어보세요.\n",
    "* time 변수를 index로 세팅하고 (set_index) 데이터가 정렬되어 있지 않으므로 index 기준으로 정렬하세요. (sort_index)"
   ]
  },
  {
   "cell_type": "code",
   "execution_count": null,
   "id": "51005cdf-229f-4ec3-bb53-59c2164aded9",
   "metadata": {
    "tags": []
   },
   "outputs": [],
   "source": [
    "# 이변량 분석 수치 -> 수치 : 상관도\n",
    "# 범주 -> 수치 : barplot, t test, anode\n",
    "r = 50\n",
    "plt.figure(figsize=(15,10))\n",
    "target = 'PM10'\n",
    "feature = '현상번호(국내식)'\n",
    "# sns.scatterplot(x=feature, y=target, data = data_train)\n",
    "plt.subplot(2,3,1)\n",
    "sns.barplot(x=feature, y=target, data = data_train)\n",
    "plt.xticks(rotation=r)\n",
    "\n",
    "feature = '풍향(16방위)'\n",
    "plt.subplot(2,3,2)\n",
    "sns.barplot(x=feature, y=target, data = data_train)\n",
    "plt.xticks(rotation=r)\n",
    "\n",
    "feature = '전운량(10분위)'\n",
    "plt.subplot(2,3,3)\n",
    "sns.barplot(x=feature, y=target, data = data_train)\n",
    "plt.xticks(rotation=r)\n",
    "\n",
    "feature = '현지기압(hPa)'\n",
    "plt.subplot(2,3,4)\n",
    "sns.scatterplot(x=feature, y=target, data = data_train)\n",
    "spst.pearsonr(data_train[feature], data_train[target])\n",
    "plt.xticks(rotation=r)\n",
    "\n",
    "feature = '현지기압(hPa)'\n",
    "plt.subplot(2,3,5)\n",
    "sns.scatterplot(x=feature, y='해면기압(hPa)', data = data_train)\n",
    "plt.xticks(rotation=r)\n",
    "\n",
    "feature = 'SO2'\n",
    "plt.subplot(2,3,6)\n",
    "sns.scatterplot(x=feature, y=target, data = data_train)\n",
    "spst.pearsonr(data_train[feature], data_train[target])\n",
    "plt.xticks(rotation=r)\n",
    "plt.show()"
   ]
  },
  {
   "cell_type": "code",
   "execution_count": null,
   "id": "0b07e60e-30d0-46b5-a275-ec881dd4db1d",
   "metadata": {
    "tags": []
   },
   "outputs": [],
   "source": [
    "data_train['SO2'].unique()"
   ]
  },
  {
   "cell_type": "code",
   "execution_count": null,
   "id": "ddf39400",
   "metadata": {},
   "outputs": [],
   "source": [
    "# df_22, df_23에 사용할 변수들만 할당\n",
    "sel_cols=['time','CO', 'NO2', 'PM10', 'PM25', '풍속(m/s)', '풍향(16방위)', '습도(%)', '현지기압(hPa)', '시정(10m)', '지면온도(°C)',]\n",
    "# data_train_copy = data_train.copy()\n",
    "# data_test_copy = data_test.copy()\n",
    "data_train = data_train_copy.copy()\n",
    "data_test = data_test_copy.copy()\n",
    "data_train = data_train.loc[:,sel_cols]\n",
    "data_test = data_test.loc[:,sel_cols]"
   ]
  },
  {
   "cell_type": "code",
   "execution_count": null,
   "id": "351bed8d",
   "metadata": {
    "tags": []
   },
   "outputs": [],
   "source": [
    "# time 변수를 index로 세팅\n",
    "data_train.set_index('time', inplace =True)\n",
    "data_test.set_index('time', inplace =True)"
   ]
  },
  {
   "cell_type": "code",
   "execution_count": null,
   "id": "9ab60e1d-d5bd-43d6-817c-68df28238965",
   "metadata": {
    "tags": []
   },
   "outputs": [],
   "source": [
    "data_train.head(2)"
   ]
  },
  {
   "cell_type": "markdown",
   "id": "d227338e-eb0d-44e3-b847-c2f95287dab8",
   "metadata": {
    "tags": []
   },
   "source": [
    "#### 5) 변수들의 결측치 처리"
   ]
  },
  {
   "cell_type": "code",
   "execution_count": null,
   "id": "e38d021e",
   "metadata": {},
   "outputs": [],
   "source": [
    "# df_22, df_23의 결측치 확인\n",
    "print(data_train.isna().sum())\n",
    "print(data_test.isna().sum())"
   ]
  },
  {
   "cell_type": "code",
   "execution_count": null,
   "id": "7d78b501-145b-482c-846e-15fa44026d3f",
   "metadata": {
    "tags": []
   },
   "outputs": [],
   "source": [
    "# 결측치 제거\n",
    "data_train.dropna(inplace=True)\n",
    "data_test.dropna(inplace=True)\n",
    "print(data_train.isna().sum())\n",
    "print(data_test.isna().sum())"
   ]
  },
  {
   "cell_type": "markdown",
   "id": "4562852f-536a-40f3-bfb3-38c725e9fdbf",
   "metadata": {
    "tags": []
   },
   "source": [
    "#### 6) 전일 같은 시간 미세먼지 농도 변수 추가\n",
    "\n",
    "* 먼저 df_22, df_23에 month, day, hour 변수를 추가하세요.\n",
    "    * 예) dt.month, dt.day, dt.hour 사용 또는 datetimeindex에서는 df.index.month 등 사용 가능\n",
    "* 모델링에 유용한 변수로 전일 같은 시간(24시간 전) 미세먼지 농도 변수를 추가하세요.\n",
    "    * 시계열 데이터 처리를 위한 shift 연산을 참고하세요."
   ]
  },
  {
   "cell_type": "code",
   "execution_count": null,
   "id": "c095d7b0",
   "metadata": {},
   "outputs": [],
   "source": [
    "# df_22, df_23의 index(time)를 month, day, hour 로 쪼개기 (year는 필요 없음).\n",
    "data_train['month'] = data_train.index.month\n",
    "data_train['day'] = data_train.index.day\n",
    "data_train['hour'] = data_train.index.hour\n",
    "data_train.head()\n",
    "\n",
    "data_test['month'] = data_test.index.month\n",
    "data_test['day'] = data_test.index.day\n",
    "data_test['hour'] = data_test.index.hour\n",
    "data_test.head()"
   ]
  },
  {
   "cell_type": "code",
   "execution_count": null,
   "id": "fc7cdd87-6458-4014-beed-564845a6079f",
   "metadata": {
    "tags": []
   },
   "outputs": [],
   "source": [
    "# 전날 농도 변수 추가\n",
    "data_train['전날 미세먼지'] = data_train.shift(24).loc[:,'PM10']\n",
    "data_test['전날 미세먼지'] = data_test.shift(24).loc[:,'PM10']\n",
    "data_train"
   ]
  },
  {
   "cell_type": "code",
   "execution_count": null,
   "id": "5b710dc8-61fe-4bac-be51-abce31c3faa9",
   "metadata": {
    "tags": []
   },
   "outputs": [],
   "source": [
    "# 결측치 제거\n",
    "data_train.dropna(inplace=True)\n",
    "data_test.dropna(inplace=True)\n",
    "data_train"
   ]
  },
  {
   "cell_type": "markdown",
   "id": "ff52b9e7-869c-41c9-8aea-817ec00d5200",
   "metadata": {
    "tags": []
   },
   "source": [
    "#### 7) t+1 시점의 미세먼지 농도 데이터 생성\n",
    "* t+1 시점은 1시간 후 입니다.\n",
    "* t+1 시점의 미세먼지 농도 변수(PM10_1)를 생성하세요.\n",
    "* t+1 시점의 미세먼지 농도는 머신러닝 모델을 통해 예측하려는 y값(target) 입니다."
   ]
  },
  {
   "cell_type": "code",
   "execution_count": null,
   "id": "b5003c89",
   "metadata": {},
   "outputs": [],
   "source": [
    "# df_22, df_23에 t+1 시점 변수(PM10_1) 추가\n",
    "# shift 함수 활용 해보기!\n",
    "data_train['PM10_1']=data_train['PM10'].shift(-1)\n",
    "data_test['PM10_1']=data_test['PM10'].shift(-1)"
   ]
  },
  {
   "cell_type": "code",
   "execution_count": null,
   "id": "14cb2489",
   "metadata": {},
   "outputs": [],
   "source": [
    "#확인해보기!\n",
    "data_train.dropna(inplace=True)\n",
    "data_test.dropna(inplace=True)"
   ]
  },
  {
   "cell_type": "code",
   "execution_count": null,
   "id": "b14b9b60",
   "metadata": {},
   "outputs": [],
   "source": [
    "# 결측치가 있다면 처리하고 확인해보기!\n",
    "data_train.head()"
   ]
  },
  {
   "cell_type": "markdown",
   "id": "54279875-b095-4100-97b2-7fddd9488107",
   "metadata": {
    "tags": []
   },
   "source": [
    "### (2) train, test 데이터 분리 및 저장"
   ]
  },
  {
   "cell_type": "markdown",
   "id": "dependent-motion",
   "metadata": {},
   "source": [
    "* 22년도 데이터(df_22)를 train 데이터로 저장하세요. y 값을 제외하고 train_x로 저장한 후 y 값은 train_y로 저장하세요.\n",
    "* 23년도 데이터(df_23)를 test 데이터로 저장하세요. y 값을 제외하고 test_x로 저장한 후 y 값은 test_y로 저장하세요.\n",
    "* 각각의 데이터프레임을 csv 파일로 저장하세요. (train_x.csv / train_y.csv / test_x.csv / test_y.csv) (단, 인덱스 제외)\n",
    "* y값은 'PM10_1' 즉, t+1 시점의 미세먼지 농도입니다."
   ]
  },
  {
   "cell_type": "code",
   "execution_count": null,
   "id": "92652b6b",
   "metadata": {},
   "outputs": [],
   "source": [
    "# 아래에 필요한 코드를 작성하고 결과를 확인합니다.\n",
    "target = 'PM10_1'\n",
    "\n",
    "X_train = data_train.drop(target, axis=1)\n",
    "X_test = data_test.drop(target, axis=1)\n",
    "y_train = data_train.loc[:,target]\n",
    "y_test = data_test.loc[:,target]"
   ]
  },
  {
   "cell_type": "code",
   "execution_count": null,
   "id": "02ad0ed1",
   "metadata": {},
   "outputs": [],
   "source": [
    "# 각각의 데이터프레임을 csv 파일로 저장 (train_x.csv / train_y.csv / test_x.csv / test_y.csv)\n",
    "X_train.to_csv('train_x.csv')\n",
    "X_test.to_csv('test_x.csv')\n",
    "y_train.to_csv('train_y.csv')\n",
    "y_test.to_csv('test_y.csv')"
   ]
  },
  {
   "cell_type": "code",
   "execution_count": null,
   "id": "53de79a8-3e9b-4e3f-9241-00b9259a9527",
   "metadata": {
    "tags": []
   },
   "outputs": [],
   "source": [
    "print(X_train.shape)\n",
    "print(y_train.shape)\n",
    "print(X_test.shape)\n",
    "print(y_test.shape)"
   ]
  },
  {
   "cell_type": "code",
   "execution_count": null,
   "id": "a9674049-4739-45b8-8f09-aadd1d5daa11",
   "metadata": {
    "tags": []
   },
   "outputs": [],
   "source": [
    "y_test.isna()"
   ]
  },
  {
   "cell_type": "markdown",
   "id": "65165f4c",
   "metadata": {},
   "source": [
    "# 고생하셨습니다👍👍 "
   ]
  },
  {
   "cell_type": "code",
   "execution_count": null,
   "id": "daa1364e-b35c-4ec9-8e23-e6bf6681862f",
   "metadata": {
    "tags": []
   },
   "outputs": [],
   "source": [
    "sns.scatterplot(x='PM10', y='PM25', data = data_train)\n",
    "spst.pearsonr(data_train['PM10'], data_train['PM25'])"
   ]
  },
  {
   "cell_type": "code",
   "execution_count": 15,
   "id": "3bbd9d2f-c166-4551-8207-c2108953e0a9",
   "metadata": {
    "tags": []
   },
   "outputs": [],
   "source": [
    "air_train = pd.read_csv('./air_2022.csv')\n",
    "air_test = pd.read_csv('./air_2023.csv')\n",
    "weather_train = pd.read_csv('./weather_2022.csv', encoding='cp949')\n",
    "weather_test = pd.read_csv('./weather_2023.csv', encoding='cp949')"
   ]
  },
  {
   "cell_type": "code",
   "execution_count": 16,
   "id": "83d1074b-e58d-4fa3-9265-3068c11f4c55",
   "metadata": {
    "tags": []
   },
   "outputs": [
    {
     "data": {
      "text/plain": [
       "count    8673.000000\n",
       "mean        0.003133\n",
       "std         0.000700\n",
       "min         0.001000\n",
       "25%         0.003000\n",
       "50%         0.003000\n",
       "75%         0.003000\n",
       "max         0.008000\n",
       "Name: SO2, dtype: float64"
      ]
     },
     "execution_count": 16,
     "metadata": {},
     "output_type": "execute_result"
    }
   ],
   "source": [
    "air_train['SO2'].describe()"
   ]
  },
  {
   "cell_type": "code",
   "execution_count": 17,
   "id": "95d4ec5d-7b1d-40f2-a2c4-f97c25a3d5ab",
   "metadata": {
    "tags": []
   },
   "outputs": [
    {
     "data": {
      "text/plain": [
       "87"
      ]
     },
     "execution_count": 17,
     "metadata": {},
     "output_type": "execute_result"
    }
   ],
   "source": [
    "air_train['SO2'].isna().sum()"
   ]
  },
  {
   "cell_type": "code",
   "execution_count": 18,
   "id": "2c25b771-79b9-4f0f-b8b8-36510af89332",
   "metadata": {
    "tags": []
   },
   "outputs": [
    {
     "data": {
      "text/plain": [
       "count    8655.000000\n",
       "mean       19.284575\n",
       "std        14.172678\n",
       "min         1.000000\n",
       "25%        10.000000\n",
       "50%        16.000000\n",
       "75%        25.000000\n",
       "max       121.000000\n",
       "Name: PM25, dtype: float64"
      ]
     },
     "execution_count": 18,
     "metadata": {},
     "output_type": "execute_result"
    }
   ],
   "source": [
    "air_train['PM25'].describe()"
   ]
  }
 ],
 "metadata": {
  "kernelspec": {
   "display_name": "Python 3 (ipykernel)",
   "language": "python",
   "name": "python3"
  },
  "language_info": {
   "codemirror_mode": {
    "name": "ipython",
    "version": 3
   },
   "file_extension": ".py",
   "mimetype": "text/x-python",
   "name": "python",
   "nbconvert_exporter": "python",
   "pygments_lexer": "ipython3",
   "version": "3.11.5"
  },
  "vscode": {
   "interpreter": {
    "hash": "f08154012ddadd8e950e6e9e035c7a7b32c136e7647e9b7c77e02eb723a8bedb"
   }
  }
 },
 "nbformat": 4,
 "nbformat_minor": 5
}

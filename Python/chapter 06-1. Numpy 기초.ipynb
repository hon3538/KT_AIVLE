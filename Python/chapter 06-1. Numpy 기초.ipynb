{
 "cells": [
  {
   "cell_type": "markdown",
   "id": "8b14927e-2705-4678-a7cb-29171fb2383c",
   "metadata": {},
   "source": [
    "# Numpy"
   ]
  },
  {
   "cell_type": "code",
   "execution_count": 4,
   "id": "8349d901-0a65-4e25-8b89-71476e6699f2",
   "metadata": {
    "tags": []
   },
   "outputs": [],
   "source": [
    "import numpy as np"
   ]
  },
  {
   "cell_type": "code",
   "execution_count": 6,
   "id": "b03efd09-6831-434f-a432-033df6abcc11",
   "metadata": {
    "tags": []
   },
   "outputs": [
    {
     "name": "stdout",
     "output_type": "stream",
     "text": [
      "1\n",
      "(5,)\n",
      "int32\n"
     ]
    }
   ],
   "source": [
    "# 1차원\n",
    "a1 = [1,2,3,4,5]\n",
    "\n",
    "# 배열 변환\n",
    "a1 = np.array(a1)\n",
    "print(a1.ndim) # 차원\n",
    "print(a1.shape) # 1차원은 행, 열 상관없이 하나의 축을 말한다. (5,) 쉼표는 그냥 받아들일 영역, 약속이다.\n",
    "print(a1.dtype) # 데이터 형식"
   ]
  },
  {
   "cell_type": "code",
   "execution_count": 1,
   "id": "388d99b3-630d-404a-b8ca-9b4dc21b5aab",
   "metadata": {
    "tags": []
   },
   "outputs": [],
   "source": [
    "# 2 차원\n",
    "a2 = [[1,3,2,7],[3,2,9,1],[4,6,8,1]]"
   ]
  },
  {
   "cell_type": "code",
   "execution_count": 7,
   "id": "6f737e15-b33e-4473-b52f-26a844aab44c",
   "metadata": {
    "tags": []
   },
   "outputs": [
    {
     "name": "stdout",
     "output_type": "stream",
     "text": [
      "3\n",
      "(2, 3, 3)\n",
      "int32\n"
     ]
    }
   ],
   "source": [
    "# 3 차원\n",
    "a3 = [[[1,3,1],[2,5,2],[3,7,3]],[[1,4,1],[2,6,2],[3,8,3]]]\n",
    "\n",
    "# 배열 변환\n",
    "a3 = np.array(a3)\n",
    "print(a3.ndim)\n",
    "print(a3.shape)\n",
    "print(a3.dtype)"
   ]
  },
  {
   "cell_type": "markdown",
   "id": "a79269c2-2836-449a-bd37-378bb5591939",
   "metadata": {
    "tags": []
   },
   "source": [
    "# 인덱싱"
   ]
  },
  {
   "cell_type": "code",
   "execution_count": 30,
   "id": "9cde990f-f77f-42ca-a1d5-2ed684b5be32",
   "metadata": {
    "tags": []
   },
   "outputs": [
    {
     "name": "stdout",
     "output_type": "stream",
     "text": [
      "[[1 3 2 7]\n",
      " [3 2 9 1]\n",
      " [4 6 8 1]]\n",
      "9\n",
      "[9]\n",
      "<class 'numpy.ndarray'>\n",
      "[9]\n",
      "[9]\n",
      "[2 8]\n",
      "[[2 9]\n",
      " [6 8]]\n"
     ]
    }
   ],
   "source": [
    "a2 = np.array(a2)\n",
    "print(a2)\n",
    "# 요소 조회\n",
    "print(a2[1, 2])\n",
    "\n",
    "print(a2[[1],[2]]) # 행, 열이 둘 다 리스트에 담겨 있음\n",
    "print(type(a2[[1],[2]])) # 다만 요소가 아닌 배열에 담겨서 출력됨.\n",
    "\n",
    "print(a2[[1],2]) # 똑같음\n",
    "print(a2[1,[2]]) # 똑같음\n",
    "print(a2[[1,2],[1,2]]) # 1차원 (1,1) 과 (2,2) 요소 2개\n",
    "print(a2[[1,2],1:3]) # 2차원\n",
    "\n",
    "# 결론은 하나만 리스트(다중 요소)로 들어오면 배열로 결과가 나온다."
   ]
  },
  {
   "cell_type": "code",
   "execution_count": 22,
   "id": "ffd57ade-0dd9-4ac8-90c7-2f1e5c726070",
   "metadata": {
    "tags": []
   },
   "outputs": [
    {
     "name": "stdout",
     "output_type": "stream",
     "text": [
      "[[3 2 9 1]\n",
      " [4 6 8 1]]\n",
      "--------------------\n",
      "[3 2 9 1]\n",
      "--------------------\n",
      "[2 9 8]\n",
      "[[3 2]\n",
      " [2 9]\n",
      " [6 8]]\n"
     ]
    }
   ],
   "source": [
    "# 행 조회\n",
    "print(a2[1:]) # 1행부터 끝 행까지\n",
    "print('-'*20)\n",
    "print(a2[1,:]) # 1행\n",
    "print('-'*20)\n",
    "\n",
    "# 열 조회\n",
    "print(a2[: ,2])\n",
    "print(a2[:,[1,2]])"
   ]
  }
 ],
 "metadata": {
  "kernelspec": {
   "display_name": "Python 3 (ipykernel)",
   "language": "python",
   "name": "python3"
  },
  "language_info": {
   "codemirror_mode": {
    "name": "ipython",
    "version": 3
   },
   "file_extension": ".py",
   "mimetype": "text/x-python",
   "name": "python",
   "nbconvert_exporter": "python",
   "pygments_lexer": "ipython3",
   "version": "3.11.5"
  }
 },
 "nbformat": 4,
 "nbformat_minor": 5
}

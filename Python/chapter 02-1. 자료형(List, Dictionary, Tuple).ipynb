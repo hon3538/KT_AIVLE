{
 "cells": [
  {
   "cell_type": "markdown",
   "id": "25e72292-9a3c-4951-9758-3ec4af98ad25",
   "metadata": {},
   "source": [
    "# 리스트\n",
    "* [...] 대괄호로 생성"
   ]
  },
  {
   "cell_type": "markdown",
   "id": "473ffeb0-36af-495b-9d74-41f3782a4551",
   "metadata": {},
   "source": [
    "## 리스트 생성"
   ]
  },
  {
   "cell_type": "code",
   "execution_count": 4,
   "id": "74c46229-4358-447a-b3d2-d2180e06a541",
   "metadata": {
    "tags": []
   },
   "outputs": [
    {
     "name": "stdout",
     "output_type": "stream",
     "text": [
      "[1, 2, 3, 4, 5]\n",
      "[1, 'a', 3, 'b', 5]\n"
     ]
    }
   ],
   "source": [
    "# 리스트 생성하기\n",
    "list_a = [1,2,3,4,5]\n",
    "list_b = [1,'a',3,'b',5] # 문자는 따옴표로 묶어줘야한다. 아스키코드로 넣고 싶으면 변환시키는 함수 사용해야함\n",
    "\n",
    "print(list_a)\n",
    "print(list_b)"
   ]
  },
  {
   "cell_type": "code",
   "execution_count": 7,
   "id": "a2aa645c-f344-4500-bbce-2ba86fd6977b",
   "metadata": {
    "tags": []
   },
   "outputs": [
    {
     "data": {
      "text/plain": [
       "range(1, 20, 2)"
      ]
     },
     "execution_count": 7,
     "metadata": {},
     "output_type": "execute_result"
    }
   ],
   "source": [
    "range(1,20,2)"
   ]
  },
  {
   "cell_type": "code",
   "execution_count": 10,
   "id": "6f333055-42dd-473d-91ce-88dc8dca4fbb",
   "metadata": {
    "tags": []
   },
   "outputs": [
    {
     "name": "stdout",
     "output_type": "stream",
     "text": [
      "[1, 3, 5, 7, 9, 11, 13, 15, 17, 19]\n"
     ]
    }
   ],
   "source": [
    "a=list(range(1,20,2))\n",
    "print(a)"
   ]
  },
  {
   "cell_type": "code",
   "execution_count": 19,
   "id": "e3765a09-6c02-4ac2-8a8d-e3415da87a6a",
   "metadata": {
    "tags": []
   },
   "outputs": [
    {
     "ename": "NameError",
     "evalue": "name 'np' is not defined",
     "output_type": "error",
     "traceback": [
      "\u001b[1;31m---------------------------------------------------------------------------\u001b[0m",
      "\u001b[1;31mNameError\u001b[0m                                 Traceback (most recent call last)",
      "Cell \u001b[1;32mIn[19], line 1\u001b[0m\n\u001b[1;32m----> 1\u001b[0m np\u001b[38;5;241m.\u001b[39marrange(\u001b[38;5;241m0\u001b[39m,\u001b[38;5;241m10\u001b[39m)\n",
      "\u001b[1;31mNameError\u001b[0m: name 'np' is not defined"
     ]
    }
   ],
   "source": [
    "np.arrange(0,10)"
   ]
  },
  {
   "cell_type": "markdown",
   "id": "2f6ee1c7-5aa9-4368-8e0d-20c5ff4a1b2d",
   "metadata": {},
   "source": [
    "## 리스트 조회"
   ]
  },
  {
   "cell_type": "code",
   "execution_count": 7,
   "id": "724c2bd7-1ba1-46e3-b34b-197335dfe8da",
   "metadata": {
    "tags": []
   },
   "outputs": [
    {
     "name": "stdout",
     "output_type": "stream",
     "text": [
      "1 3\n"
     ]
    }
   ],
   "source": [
    "# 인덱스 값으로 조회\n",
    "print(a[0],a[1])"
   ]
  },
  {
   "cell_type": "code",
   "execution_count": 8,
   "id": "1ea2228f-1d1f-4a3e-b550-9eedd0f83592",
   "metadata": {
    "tags": []
   },
   "outputs": [
    {
     "name": "stdout",
     "output_type": "stream",
     "text": [
      "19 11\n"
     ]
    }
   ],
   "source": [
    "print(a[-1], a[-5])"
   ]
  },
  {
   "cell_type": "code",
   "execution_count": 13,
   "id": "d15d4801-a74c-4264-b145-b0379140b362",
   "metadata": {
    "tags": []
   },
   "outputs": [
    {
     "name": "stdout",
     "output_type": "stream",
     "text": [
      "[1, 3, 5, 7, 9, 11, 13, 15, 17, 19]\n",
      "[19]\n",
      "[1, 3, 5, 7, 9, 11, 13, 15, 17]\n"
     ]
    }
   ],
   "source": [
    "print(a[0:])\n",
    "print(a[-1:])\n",
    "print(a[:-1])"
   ]
  },
  {
   "cell_type": "markdown",
   "id": "be76ecb3-412c-49fa-867d-04509e214b42",
   "metadata": {},
   "source": [
    "## 리스트 수정"
   ]
  },
  {
   "cell_type": "code",
   "execution_count": 20,
   "id": "35036d44-d855-4ec9-b7ef-940d557fa1a7",
   "metadata": {
    "tags": []
   },
   "outputs": [
    {
     "name": "stdout",
     "output_type": "stream",
     "text": [
      "[1, 3, 5, 7, 9, 11, 13, 15, 17, 19, 1, 5, 10]\n"
     ]
    }
   ],
   "source": [
    "b = [1, 5, 10]\n",
    "\n",
    "print(a+b)"
   ]
  },
  {
   "cell_type": "code",
   "execution_count": 21,
   "id": "b8d07ec7-99c5-4ed9-8911-d96545f08584",
   "metadata": {
    "tags": []
   },
   "outputs": [
    {
     "name": "stdout",
     "output_type": "stream",
     "text": [
      "[1, 3, 5, 7, 9, 11, 13, 15, 17, 19, 3, 5]\n"
     ]
    }
   ],
   "source": [
    "print(a + [3,5])"
   ]
  },
  {
   "cell_type": "markdown",
   "id": "96924bc0-336a-4a72-981f-bb4af9b05bc3",
   "metadata": {},
   "source": [
    "## 딕셔너리 생성"
   ]
  },
  {
   "cell_type": "code",
   "execution_count": 22,
   "id": "2c12dafd-abf3-441f-b50f-2963eb5e9f59",
   "metadata": {
    "tags": []
   },
   "outputs": [
    {
     "name": "stdout",
     "output_type": "stream",
     "text": [
      "[1, 2, 3]\n"
     ]
    }
   ],
   "source": [
    "dict_a = { \n",
    "    'v1' : 32,\n",
    "    'l1' : [1,2,3],\n",
    "    'd1' : {'a':1, 'b':2}\n",
    "}\n",
    "print(dict_a['l1'])         "
   ]
  },
  {
   "cell_type": "code",
   "execution_count": null,
   "id": "6edffcc5-44b8-4099-bed2-972ae86a5195",
   "metadata": {},
   "outputs": [],
   "source": []
  }
 ],
 "metadata": {
  "kernelspec": {
   "display_name": "Python 3 (ipykernel)",
   "language": "python",
   "name": "python3"
  },
  "language_info": {
   "codemirror_mode": {
    "name": "ipython",
    "version": 3
   },
   "file_extension": ".py",
   "mimetype": "text/x-python",
   "name": "python",
   "nbconvert_exporter": "python",
   "pygments_lexer": "ipython3",
   "version": "3.11.5"
  }
 },
 "nbformat": 4,
 "nbformat_minor": 5
}

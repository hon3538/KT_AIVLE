{
 "cells": [
  {
   "cell_type": "markdown",
   "metadata": {
    "id": "y1J78TFSRrSA"
   },
   "source": [
    "<center><img src='https://raw.githubusercontent.com/Jangrae/img/master/ml_python.png' width=600/></center>"
   ]
  },
  {
   "cell_type": "markdown",
   "metadata": {
    "id": "TRAFNVXBoRAJ"
   },
   "source": [
    "<img src = \"https://github.com/Jangrae/img/blob/master/admission.png?raw=true\" width=800 align=\"left\"/>"
   ]
  },
  {
   "cell_type": "markdown",
   "metadata": {
    "id": "TSPbV_6rfe4O"
   },
   "source": [
    "# 실습 내용\n",
    "\n",
    "- 머신러닝 모델링을 위한 코딩은 무조건 할 수 있어야 합니다.\n",
    "- 코딩 내용을 자세히 알지 못해도 무작정 코딩을 진행해봅니다.\n",
    "- Admission 데이터를 대상으로 모델링을 진행합니다.\n",
    "- kNN 알고리즘을 사용합니다.\n",
    "- 다양한 방법으로 모델 성능을 평가합니다."
   ]
  },
  {
   "cell_type": "markdown",
   "metadata": {
    "id": "z_q47mPvof9p"
   },
   "source": [
    "# 1.환경 준비\n",
    "\n",
    "- 기본 **라이브러리**와 대상 **데이터**를 가져와 이후 과정을 준비합니다."
   ]
  },
  {
   "cell_type": "markdown",
   "metadata": {
    "id": "hZf7teQOof9p"
   },
   "source": [
    "<img src = \"https://github.com/Jangrae/img/blob/master/code_11.png?raw=true\" width=700 align=\"left\"/>"
   ]
  },
  {
   "cell_type": "code",
   "execution_count": 1,
   "metadata": {
    "id": "IVA4UIIuof9q",
    "scrolled": true,
    "tags": []
   },
   "outputs": [],
   "source": [
    "# 라이브러리 불러오기\n",
    "import numpy as np\n",
    "import pandas as pd\n",
    "import matplotlib.pyplot as plt\n",
    "import seaborn as sns\n",
    "import warnings\n",
    "\n",
    "warnings.filterwarnings(action='ignore')\n",
    "%config InlineBackend.figure_format = 'retina'"
   ]
  },
  {
   "cell_type": "code",
   "execution_count": 2,
   "metadata": {
    "id": "VXEbdYrxof9s",
    "tags": []
   },
   "outputs": [],
   "source": [
    "# 데이터 읽어오기\n",
    "path = 'https://raw.githubusercontent.com/Jangrae/csv/master/admission_simple.csv'\n",
    "data = pd.read_csv(path)"
   ]
  },
  {
   "cell_type": "markdown",
   "metadata": {
    "id": "LzLX2CJ6of9t"
   },
   "source": [
    "# 2.데이터 이해\n",
    "\n",
    "- 분석할 데이터를 **충분히 이해**할 수 있도록 다양한 **탐색** 과정을 수행합니다."
   ]
  },
  {
   "cell_type": "markdown",
   "metadata": {
    "id": "Qd5dCs3Yof9t"
   },
   "source": [
    "<img src = \"https://github.com/Jangrae/img/blob/master/code_12.png?raw=true\" width=700 align=\"left\"/>"
   ]
  },
  {
   "cell_type": "code",
   "execution_count": 3,
   "metadata": {
    "id": "K2pz6Ee7nCQV",
    "tags": []
   },
   "outputs": [
    {
     "data": {
      "text/html": [
       "<div>\n",
       "<style scoped>\n",
       "    .dataframe tbody tr th:only-of-type {\n",
       "        vertical-align: middle;\n",
       "    }\n",
       "\n",
       "    .dataframe tbody tr th {\n",
       "        vertical-align: top;\n",
       "    }\n",
       "\n",
       "    .dataframe thead th {\n",
       "        text-align: right;\n",
       "    }\n",
       "</style>\n",
       "<table border=\"1\" class=\"dataframe\">\n",
       "  <thead>\n",
       "    <tr style=\"text-align: right;\">\n",
       "      <th></th>\n",
       "      <th>GRE</th>\n",
       "      <th>TOEFL</th>\n",
       "      <th>RANK</th>\n",
       "      <th>SOP</th>\n",
       "      <th>LOR</th>\n",
       "      <th>GPA</th>\n",
       "      <th>RESEARCH</th>\n",
       "      <th>ADMIT</th>\n",
       "    </tr>\n",
       "  </thead>\n",
       "  <tbody>\n",
       "    <tr>\n",
       "      <th>0</th>\n",
       "      <td>337</td>\n",
       "      <td>118</td>\n",
       "      <td>4</td>\n",
       "      <td>4.5</td>\n",
       "      <td>4.5</td>\n",
       "      <td>9.65</td>\n",
       "      <td>1</td>\n",
       "      <td>1</td>\n",
       "    </tr>\n",
       "    <tr>\n",
       "      <th>1</th>\n",
       "      <td>324</td>\n",
       "      <td>107</td>\n",
       "      <td>4</td>\n",
       "      <td>4.0</td>\n",
       "      <td>4.5</td>\n",
       "      <td>8.87</td>\n",
       "      <td>1</td>\n",
       "      <td>1</td>\n",
       "    </tr>\n",
       "    <tr>\n",
       "      <th>2</th>\n",
       "      <td>316</td>\n",
       "      <td>104</td>\n",
       "      <td>3</td>\n",
       "      <td>3.0</td>\n",
       "      <td>3.5</td>\n",
       "      <td>8.00</td>\n",
       "      <td>1</td>\n",
       "      <td>0</td>\n",
       "    </tr>\n",
       "    <tr>\n",
       "      <th>3</th>\n",
       "      <td>322</td>\n",
       "      <td>110</td>\n",
       "      <td>3</td>\n",
       "      <td>3.5</td>\n",
       "      <td>2.5</td>\n",
       "      <td>8.67</td>\n",
       "      <td>1</td>\n",
       "      <td>1</td>\n",
       "    </tr>\n",
       "    <tr>\n",
       "      <th>4</th>\n",
       "      <td>314</td>\n",
       "      <td>103</td>\n",
       "      <td>2</td>\n",
       "      <td>2.0</td>\n",
       "      <td>3.0</td>\n",
       "      <td>8.21</td>\n",
       "      <td>0</td>\n",
       "      <td>0</td>\n",
       "    </tr>\n",
       "  </tbody>\n",
       "</table>\n",
       "</div>"
      ],
      "text/plain": [
       "   GRE  TOEFL  RANK  SOP  LOR   GPA  RESEARCH  ADMIT\n",
       "0  337    118     4  4.5  4.5  9.65         1      1\n",
       "1  324    107     4  4.0  4.5  8.87         1      1\n",
       "2  316    104     3  3.0  3.5  8.00         1      0\n",
       "3  322    110     3  3.5  2.5  8.67         1      1\n",
       "4  314    103     2  2.0  3.0  8.21         0      0"
      ]
     },
     "execution_count": 3,
     "metadata": {},
     "output_type": "execute_result"
    }
   ],
   "source": [
    "# 상/하위 몇 개 행 확인\n",
    "data.head()"
   ]
  },
  {
   "cell_type": "code",
   "execution_count": 4,
   "metadata": {
    "id": "whCAH-EAnCQV",
    "tags": []
   },
   "outputs": [
    {
     "data": {
      "text/html": [
       "<div>\n",
       "<style scoped>\n",
       "    .dataframe tbody tr th:only-of-type {\n",
       "        vertical-align: middle;\n",
       "    }\n",
       "\n",
       "    .dataframe tbody tr th {\n",
       "        vertical-align: top;\n",
       "    }\n",
       "\n",
       "    .dataframe thead th {\n",
       "        text-align: right;\n",
       "    }\n",
       "</style>\n",
       "<table border=\"1\" class=\"dataframe\">\n",
       "  <thead>\n",
       "    <tr style=\"text-align: right;\">\n",
       "      <th></th>\n",
       "      <th>GRE</th>\n",
       "      <th>TOEFL</th>\n",
       "      <th>RANK</th>\n",
       "      <th>SOP</th>\n",
       "      <th>LOR</th>\n",
       "      <th>GPA</th>\n",
       "      <th>RESEARCH</th>\n",
       "      <th>ADMIT</th>\n",
       "    </tr>\n",
       "  </thead>\n",
       "  <tbody>\n",
       "    <tr>\n",
       "      <th>495</th>\n",
       "      <td>332</td>\n",
       "      <td>108</td>\n",
       "      <td>5</td>\n",
       "      <td>4.5</td>\n",
       "      <td>4.0</td>\n",
       "      <td>9.02</td>\n",
       "      <td>1</td>\n",
       "      <td>1</td>\n",
       "    </tr>\n",
       "    <tr>\n",
       "      <th>496</th>\n",
       "      <td>337</td>\n",
       "      <td>117</td>\n",
       "      <td>5</td>\n",
       "      <td>5.0</td>\n",
       "      <td>5.0</td>\n",
       "      <td>9.87</td>\n",
       "      <td>1</td>\n",
       "      <td>1</td>\n",
       "    </tr>\n",
       "    <tr>\n",
       "      <th>497</th>\n",
       "      <td>330</td>\n",
       "      <td>120</td>\n",
       "      <td>5</td>\n",
       "      <td>4.5</td>\n",
       "      <td>5.0</td>\n",
       "      <td>9.56</td>\n",
       "      <td>1</td>\n",
       "      <td>1</td>\n",
       "    </tr>\n",
       "    <tr>\n",
       "      <th>498</th>\n",
       "      <td>312</td>\n",
       "      <td>103</td>\n",
       "      <td>4</td>\n",
       "      <td>4.0</td>\n",
       "      <td>5.0</td>\n",
       "      <td>8.43</td>\n",
       "      <td>0</td>\n",
       "      <td>0</td>\n",
       "    </tr>\n",
       "    <tr>\n",
       "      <th>499</th>\n",
       "      <td>327</td>\n",
       "      <td>113</td>\n",
       "      <td>4</td>\n",
       "      <td>4.5</td>\n",
       "      <td>4.5</td>\n",
       "      <td>9.04</td>\n",
       "      <td>0</td>\n",
       "      <td>1</td>\n",
       "    </tr>\n",
       "  </tbody>\n",
       "</table>\n",
       "</div>"
      ],
      "text/plain": [
       "     GRE  TOEFL  RANK  SOP  LOR   GPA  RESEARCH  ADMIT\n",
       "495  332    108     5  4.5  4.0  9.02         1      1\n",
       "496  337    117     5  5.0  5.0  9.87         1      1\n",
       "497  330    120     5  4.5  5.0  9.56         1      1\n",
       "498  312    103     4  4.0  5.0  8.43         0      0\n",
       "499  327    113     4  4.5  4.5  9.04         0      1"
      ]
     },
     "execution_count": 4,
     "metadata": {},
     "output_type": "execute_result"
    }
   ],
   "source": [
    "# 하위 몇 개 행 확인\n",
    "data.tail()"
   ]
  },
  {
   "cell_type": "code",
   "execution_count": 5,
   "metadata": {
    "id": "1ZsXdcfp8uwI",
    "tags": []
   },
   "outputs": [
    {
     "name": "stdout",
     "output_type": "stream",
     "text": [
      "<class 'pandas.core.frame.DataFrame'>\n",
      "RangeIndex: 500 entries, 0 to 499\n",
      "Data columns (total 8 columns):\n",
      " #   Column    Non-Null Count  Dtype  \n",
      "---  ------    --------------  -----  \n",
      " 0   GRE       500 non-null    int64  \n",
      " 1   TOEFL     500 non-null    int64  \n",
      " 2   RANK      500 non-null    int64  \n",
      " 3   SOP       500 non-null    float64\n",
      " 4   LOR       500 non-null    float64\n",
      " 5   GPA       500 non-null    float64\n",
      " 6   RESEARCH  500 non-null    int64  \n",
      " 7   ADMIT     500 non-null    int64  \n",
      "dtypes: float64(3), int64(5)\n",
      "memory usage: 31.4 KB\n"
     ]
    }
   ],
   "source": [
    "# 변수 확인\n",
    "data.info()"
   ]
  },
  {
   "cell_type": "code",
   "execution_count": 6,
   "metadata": {
    "id": "LhAk04Uy4Occ",
    "tags": []
   },
   "outputs": [
    {
     "data": {
      "text/html": [
       "<div>\n",
       "<style scoped>\n",
       "    .dataframe tbody tr th:only-of-type {\n",
       "        vertical-align: middle;\n",
       "    }\n",
       "\n",
       "    .dataframe tbody tr th {\n",
       "        vertical-align: top;\n",
       "    }\n",
       "\n",
       "    .dataframe thead th {\n",
       "        text-align: right;\n",
       "    }\n",
       "</style>\n",
       "<table border=\"1\" class=\"dataframe\">\n",
       "  <thead>\n",
       "    <tr style=\"text-align: right;\">\n",
       "      <th></th>\n",
       "      <th>GRE</th>\n",
       "      <th>TOEFL</th>\n",
       "      <th>RANK</th>\n",
       "      <th>SOP</th>\n",
       "      <th>LOR</th>\n",
       "      <th>GPA</th>\n",
       "      <th>RESEARCH</th>\n",
       "      <th>ADMIT</th>\n",
       "    </tr>\n",
       "  </thead>\n",
       "  <tbody>\n",
       "    <tr>\n",
       "      <th>count</th>\n",
       "      <td>500.000000</td>\n",
       "      <td>500.000000</td>\n",
       "      <td>500.000000</td>\n",
       "      <td>500.000000</td>\n",
       "      <td>500.00000</td>\n",
       "      <td>500.000000</td>\n",
       "      <td>500.000000</td>\n",
       "      <td>500.000000</td>\n",
       "    </tr>\n",
       "    <tr>\n",
       "      <th>mean</th>\n",
       "      <td>316.472000</td>\n",
       "      <td>107.192000</td>\n",
       "      <td>3.114000</td>\n",
       "      <td>3.374000</td>\n",
       "      <td>3.48400</td>\n",
       "      <td>8.576440</td>\n",
       "      <td>0.560000</td>\n",
       "      <td>0.436000</td>\n",
       "    </tr>\n",
       "    <tr>\n",
       "      <th>std</th>\n",
       "      <td>11.295148</td>\n",
       "      <td>6.081868</td>\n",
       "      <td>1.143512</td>\n",
       "      <td>0.991004</td>\n",
       "      <td>0.92545</td>\n",
       "      <td>0.604813</td>\n",
       "      <td>0.496884</td>\n",
       "      <td>0.496384</td>\n",
       "    </tr>\n",
       "    <tr>\n",
       "      <th>min</th>\n",
       "      <td>290.000000</td>\n",
       "      <td>92.000000</td>\n",
       "      <td>1.000000</td>\n",
       "      <td>1.000000</td>\n",
       "      <td>1.00000</td>\n",
       "      <td>6.800000</td>\n",
       "      <td>0.000000</td>\n",
       "      <td>0.000000</td>\n",
       "    </tr>\n",
       "    <tr>\n",
       "      <th>25%</th>\n",
       "      <td>308.000000</td>\n",
       "      <td>103.000000</td>\n",
       "      <td>2.000000</td>\n",
       "      <td>2.500000</td>\n",
       "      <td>3.00000</td>\n",
       "      <td>8.127500</td>\n",
       "      <td>0.000000</td>\n",
       "      <td>0.000000</td>\n",
       "    </tr>\n",
       "    <tr>\n",
       "      <th>50%</th>\n",
       "      <td>317.000000</td>\n",
       "      <td>107.000000</td>\n",
       "      <td>3.000000</td>\n",
       "      <td>3.500000</td>\n",
       "      <td>3.50000</td>\n",
       "      <td>8.560000</td>\n",
       "      <td>1.000000</td>\n",
       "      <td>0.000000</td>\n",
       "    </tr>\n",
       "    <tr>\n",
       "      <th>75%</th>\n",
       "      <td>325.000000</td>\n",
       "      <td>112.000000</td>\n",
       "      <td>4.000000</td>\n",
       "      <td>4.000000</td>\n",
       "      <td>4.00000</td>\n",
       "      <td>9.040000</td>\n",
       "      <td>1.000000</td>\n",
       "      <td>1.000000</td>\n",
       "    </tr>\n",
       "    <tr>\n",
       "      <th>max</th>\n",
       "      <td>340.000000</td>\n",
       "      <td>120.000000</td>\n",
       "      <td>5.000000</td>\n",
       "      <td>5.000000</td>\n",
       "      <td>5.00000</td>\n",
       "      <td>9.920000</td>\n",
       "      <td>1.000000</td>\n",
       "      <td>1.000000</td>\n",
       "    </tr>\n",
       "  </tbody>\n",
       "</table>\n",
       "</div>"
      ],
      "text/plain": [
       "              GRE       TOEFL        RANK         SOP        LOR         GPA  \\\n",
       "count  500.000000  500.000000  500.000000  500.000000  500.00000  500.000000   \n",
       "mean   316.472000  107.192000    3.114000    3.374000    3.48400    8.576440   \n",
       "std     11.295148    6.081868    1.143512    0.991004    0.92545    0.604813   \n",
       "min    290.000000   92.000000    1.000000    1.000000    1.00000    6.800000   \n",
       "25%    308.000000  103.000000    2.000000    2.500000    3.00000    8.127500   \n",
       "50%    317.000000  107.000000    3.000000    3.500000    3.50000    8.560000   \n",
       "75%    325.000000  112.000000    4.000000    4.000000    4.00000    9.040000   \n",
       "max    340.000000  120.000000    5.000000    5.000000    5.00000    9.920000   \n",
       "\n",
       "         RESEARCH       ADMIT  \n",
       "count  500.000000  500.000000  \n",
       "mean     0.560000    0.436000  \n",
       "std      0.496884    0.496384  \n",
       "min      0.000000    0.000000  \n",
       "25%      0.000000    0.000000  \n",
       "50%      1.000000    0.000000  \n",
       "75%      1.000000    1.000000  \n",
       "max      1.000000    1.000000  "
      ]
     },
     "execution_count": 6,
     "metadata": {},
     "output_type": "execute_result"
    }
   ],
   "source": [
    "# 기술통계 확인\n",
    "data.describe()"
   ]
  },
  {
   "cell_type": "code",
   "execution_count": 7,
   "metadata": {
    "id": "K09lnS9i4itn",
    "tags": []
   },
   "outputs": [
    {
     "data": {
      "text/html": [
       "<div>\n",
       "<style scoped>\n",
       "    .dataframe tbody tr th:only-of-type {\n",
       "        vertical-align: middle;\n",
       "    }\n",
       "\n",
       "    .dataframe tbody tr th {\n",
       "        vertical-align: top;\n",
       "    }\n",
       "\n",
       "    .dataframe thead th {\n",
       "        text-align: right;\n",
       "    }\n",
       "</style>\n",
       "<table border=\"1\" class=\"dataframe\">\n",
       "  <thead>\n",
       "    <tr style=\"text-align: right;\">\n",
       "      <th></th>\n",
       "      <th>GRE</th>\n",
       "      <th>TOEFL</th>\n",
       "      <th>RANK</th>\n",
       "      <th>SOP</th>\n",
       "      <th>LOR</th>\n",
       "      <th>GPA</th>\n",
       "      <th>RESEARCH</th>\n",
       "      <th>ADMIT</th>\n",
       "    </tr>\n",
       "  </thead>\n",
       "  <tbody>\n",
       "    <tr>\n",
       "      <th>GRE</th>\n",
       "      <td>1.000000</td>\n",
       "      <td>0.827200</td>\n",
       "      <td>0.635376</td>\n",
       "      <td>0.613498</td>\n",
       "      <td>0.524679</td>\n",
       "      <td>0.825878</td>\n",
       "      <td>0.563398</td>\n",
       "      <td>0.701671</td>\n",
       "    </tr>\n",
       "    <tr>\n",
       "      <th>TOEFL</th>\n",
       "      <td>0.827200</td>\n",
       "      <td>1.000000</td>\n",
       "      <td>0.649799</td>\n",
       "      <td>0.644410</td>\n",
       "      <td>0.541563</td>\n",
       "      <td>0.810574</td>\n",
       "      <td>0.467012</td>\n",
       "      <td>0.680503</td>\n",
       "    </tr>\n",
       "    <tr>\n",
       "      <th>RANK</th>\n",
       "      <td>0.635376</td>\n",
       "      <td>0.649799</td>\n",
       "      <td>1.000000</td>\n",
       "      <td>0.728024</td>\n",
       "      <td>0.608651</td>\n",
       "      <td>0.705254</td>\n",
       "      <td>0.427047</td>\n",
       "      <td>0.618367</td>\n",
       "    </tr>\n",
       "    <tr>\n",
       "      <th>SOP</th>\n",
       "      <td>0.613498</td>\n",
       "      <td>0.644410</td>\n",
       "      <td>0.728024</td>\n",
       "      <td>1.000000</td>\n",
       "      <td>0.663707</td>\n",
       "      <td>0.712154</td>\n",
       "      <td>0.408116</td>\n",
       "      <td>0.606876</td>\n",
       "    </tr>\n",
       "    <tr>\n",
       "      <th>LOR</th>\n",
       "      <td>0.524679</td>\n",
       "      <td>0.541563</td>\n",
       "      <td>0.608651</td>\n",
       "      <td>0.663707</td>\n",
       "      <td>1.000000</td>\n",
       "      <td>0.637469</td>\n",
       "      <td>0.372526</td>\n",
       "      <td>0.536527</td>\n",
       "    </tr>\n",
       "    <tr>\n",
       "      <th>GPA</th>\n",
       "      <td>0.825878</td>\n",
       "      <td>0.810574</td>\n",
       "      <td>0.705254</td>\n",
       "      <td>0.712154</td>\n",
       "      <td>0.637469</td>\n",
       "      <td>1.000000</td>\n",
       "      <td>0.501311</td>\n",
       "      <td>0.752196</td>\n",
       "    </tr>\n",
       "    <tr>\n",
       "      <th>RESEARCH</th>\n",
       "      <td>0.563398</td>\n",
       "      <td>0.467012</td>\n",
       "      <td>0.427047</td>\n",
       "      <td>0.408116</td>\n",
       "      <td>0.372526</td>\n",
       "      <td>0.501311</td>\n",
       "      <td>1.000000</td>\n",
       "      <td>0.503104</td>\n",
       "    </tr>\n",
       "    <tr>\n",
       "      <th>ADMIT</th>\n",
       "      <td>0.701671</td>\n",
       "      <td>0.680503</td>\n",
       "      <td>0.618367</td>\n",
       "      <td>0.606876</td>\n",
       "      <td>0.536527</td>\n",
       "      <td>0.752196</td>\n",
       "      <td>0.503104</td>\n",
       "      <td>1.000000</td>\n",
       "    </tr>\n",
       "  </tbody>\n",
       "</table>\n",
       "</div>"
      ],
      "text/plain": [
       "               GRE     TOEFL      RANK       SOP       LOR       GPA  \\\n",
       "GRE       1.000000  0.827200  0.635376  0.613498  0.524679  0.825878   \n",
       "TOEFL     0.827200  1.000000  0.649799  0.644410  0.541563  0.810574   \n",
       "RANK      0.635376  0.649799  1.000000  0.728024  0.608651  0.705254   \n",
       "SOP       0.613498  0.644410  0.728024  1.000000  0.663707  0.712154   \n",
       "LOR       0.524679  0.541563  0.608651  0.663707  1.000000  0.637469   \n",
       "GPA       0.825878  0.810574  0.705254  0.712154  0.637469  1.000000   \n",
       "RESEARCH  0.563398  0.467012  0.427047  0.408116  0.372526  0.501311   \n",
       "ADMIT     0.701671  0.680503  0.618367  0.606876  0.536527  0.752196   \n",
       "\n",
       "          RESEARCH     ADMIT  \n",
       "GRE       0.563398  0.701671  \n",
       "TOEFL     0.467012  0.680503  \n",
       "RANK      0.427047  0.618367  \n",
       "SOP       0.408116  0.606876  \n",
       "LOR       0.372526  0.536527  \n",
       "GPA       0.501311  0.752196  \n",
       "RESEARCH  1.000000  0.503104  \n",
       "ADMIT     0.503104  1.000000  "
      ]
     },
     "execution_count": 7,
     "metadata": {},
     "output_type": "execute_result"
    }
   ],
   "source": [
    "# 상관관계 확인\n",
    "data.corr(numeric_only=True)"
   ]
  },
  {
   "cell_type": "markdown",
   "metadata": {
    "id": "NOg15F91of90"
   },
   "source": [
    "# 3.데이터 준비\n",
    "\n",
    "- **전처리** 과정을 통해 머신러닝 알고리즘에 사용할 수 있는 형태의 데이터를 준비합니다."
   ]
  },
  {
   "cell_type": "markdown",
   "metadata": {
    "id": "HVdCMjUuof90"
   },
   "source": [
    "<img src = \"https://github.com/Jangrae/img/blob/master/code_13.png?raw=true\" width=700 align=\"left\"/>"
   ]
  },
  {
   "cell_type": "markdown",
   "metadata": {
    "id": "crG3E69T4vcQ"
   },
   "source": [
    "**1) x, y 분리**\n",
    "\n",
    "- 우선 target 변수를 명확히 지정합니다.\n",
    "- target을 제외한 나머지 변수들 데이터는 x로 선언합니다.\n",
    "- target 변수 데이터는 y로 선언합니다. \n",
    "- 이 결과로 만들어진 x는 데이터프레임, y는 시리즈가 됩니다.\n",
    "- 이후 모든 작업은 x, y를 대상으로 진행합니다."
   ]
  },
  {
   "cell_type": "code",
   "execution_count": 8,
   "metadata": {
    "id": "6jA1DUE3of91",
    "tags": []
   },
   "outputs": [],
   "source": [
    "# target 확인\n",
    "target = 'ADMIT'\n",
    "\n",
    "# 데이터 분리\n",
    "x = data.drop(target, axis=1)\n",
    "y = data.loc[:, target]"
   ]
  },
  {
   "cell_type": "markdown",
   "metadata": {
    "id": "RIoZCGM340qe"
   },
   "source": [
    "**2) 학습용, 평가용 데이터 분리**\n",
    "\n",
    "- 학습용, 평가용 데이터를 적절한 비율로 분리합니다.\n",
    "- 반복 실행 시 동일한 결과를 얻기 위해 random_state 옵션을 지정합니다."
   ]
  },
  {
   "cell_type": "code",
   "execution_count": 9,
   "metadata": {
    "id": "7bojX4h7of96",
    "tags": []
   },
   "outputs": [],
   "source": [
    "# 모듈 불러오기\n",
    "from sklearn.model_selection import train_test_split\n",
    "\n",
    "# 7:3으로 분리\n",
    "x_train, x_test, y_train, y_test = train_test_split(x, y, test_size=0.3, random_state=1)"
   ]
  },
  {
   "cell_type": "markdown",
   "metadata": {
    "id": "6qAmkJ9pof96"
   },
   "source": [
    "# 4.모델링\n",
    "\n",
    "- 본격적으로 모델을 **선언**하고 **학습**하고 **평가**하는 과정을 진행합니다.\n",
    "- 우선 **회귀** 문제인지 **분류** 문제인지 명확히 구분합니다."
   ]
  },
  {
   "cell_type": "markdown",
   "metadata": {
    "id": "prSer1P9of97"
   },
   "source": [
    "<img src = \"https://github.com/Jangrae/img/blob/master/code_14.png?raw=true\" width=700 align=\"left\"/>"
   ]
  },
  {
   "cell_type": "markdown",
   "metadata": {
    "id": "J32sS9zLQAF1"
   },
   "source": [
    "- 회귀 문제 인가요? 분류 문제인가요?\n",
    "- 회귀인지 분류인지에 따라 사용할 알고리즘과 평가 방법이 달라집니다.\n",
    "- 우선 다음 알고리즘을 사용합니다.\n",
    "    - 알고리즘: KNeighborsClassifier"
   ]
  },
  {
   "cell_type": "code",
   "execution_count": 10,
   "metadata": {
    "id": "Tu1Fs0OGof97",
    "tags": []
   },
   "outputs": [],
   "source": [
    "# 1단계: 불러오기\n",
    "from sklearn.neighbors import KNeighborsClassifier"
   ]
  },
  {
   "cell_type": "code",
   "execution_count": 11,
   "metadata": {
    "id": "EBwvnj0oof98",
    "tags": []
   },
   "outputs": [],
   "source": [
    "# 2단계: 선언하기\n",
    "model = KNeighborsClassifier()"
   ]
  },
  {
   "cell_type": "code",
   "execution_count": 12,
   "metadata": {
    "id": "S_mRuJPfof99",
    "tags": []
   },
   "outputs": [
    {
     "data": {
      "text/html": [
       "<style>#sk-container-id-1 {color: black;}#sk-container-id-1 pre{padding: 0;}#sk-container-id-1 div.sk-toggleable {background-color: white;}#sk-container-id-1 label.sk-toggleable__label {cursor: pointer;display: block;width: 100%;margin-bottom: 0;padding: 0.3em;box-sizing: border-box;text-align: center;}#sk-container-id-1 label.sk-toggleable__label-arrow:before {content: \"▸\";float: left;margin-right: 0.25em;color: #696969;}#sk-container-id-1 label.sk-toggleable__label-arrow:hover:before {color: black;}#sk-container-id-1 div.sk-estimator:hover label.sk-toggleable__label-arrow:before {color: black;}#sk-container-id-1 div.sk-toggleable__content {max-height: 0;max-width: 0;overflow: hidden;text-align: left;background-color: #f0f8ff;}#sk-container-id-1 div.sk-toggleable__content pre {margin: 0.2em;color: black;border-radius: 0.25em;background-color: #f0f8ff;}#sk-container-id-1 input.sk-toggleable__control:checked~div.sk-toggleable__content {max-height: 200px;max-width: 100%;overflow: auto;}#sk-container-id-1 input.sk-toggleable__control:checked~label.sk-toggleable__label-arrow:before {content: \"▾\";}#sk-container-id-1 div.sk-estimator input.sk-toggleable__control:checked~label.sk-toggleable__label {background-color: #d4ebff;}#sk-container-id-1 div.sk-label input.sk-toggleable__control:checked~label.sk-toggleable__label {background-color: #d4ebff;}#sk-container-id-1 input.sk-hidden--visually {border: 0;clip: rect(1px 1px 1px 1px);clip: rect(1px, 1px, 1px, 1px);height: 1px;margin: -1px;overflow: hidden;padding: 0;position: absolute;width: 1px;}#sk-container-id-1 div.sk-estimator {font-family: monospace;background-color: #f0f8ff;border: 1px dotted black;border-radius: 0.25em;box-sizing: border-box;margin-bottom: 0.5em;}#sk-container-id-1 div.sk-estimator:hover {background-color: #d4ebff;}#sk-container-id-1 div.sk-parallel-item::after {content: \"\";width: 100%;border-bottom: 1px solid gray;flex-grow: 1;}#sk-container-id-1 div.sk-label:hover label.sk-toggleable__label {background-color: #d4ebff;}#sk-container-id-1 div.sk-serial::before {content: \"\";position: absolute;border-left: 1px solid gray;box-sizing: border-box;top: 0;bottom: 0;left: 50%;z-index: 0;}#sk-container-id-1 div.sk-serial {display: flex;flex-direction: column;align-items: center;background-color: white;padding-right: 0.2em;padding-left: 0.2em;position: relative;}#sk-container-id-1 div.sk-item {position: relative;z-index: 1;}#sk-container-id-1 div.sk-parallel {display: flex;align-items: stretch;justify-content: center;background-color: white;position: relative;}#sk-container-id-1 div.sk-item::before, #sk-container-id-1 div.sk-parallel-item::before {content: \"\";position: absolute;border-left: 1px solid gray;box-sizing: border-box;top: 0;bottom: 0;left: 50%;z-index: -1;}#sk-container-id-1 div.sk-parallel-item {display: flex;flex-direction: column;z-index: 1;position: relative;background-color: white;}#sk-container-id-1 div.sk-parallel-item:first-child::after {align-self: flex-end;width: 50%;}#sk-container-id-1 div.sk-parallel-item:last-child::after {align-self: flex-start;width: 50%;}#sk-container-id-1 div.sk-parallel-item:only-child::after {width: 0;}#sk-container-id-1 div.sk-dashed-wrapped {border: 1px dashed gray;margin: 0 0.4em 0.5em 0.4em;box-sizing: border-box;padding-bottom: 0.4em;background-color: white;}#sk-container-id-1 div.sk-label label {font-family: monospace;font-weight: bold;display: inline-block;line-height: 1.2em;}#sk-container-id-1 div.sk-label-container {text-align: center;}#sk-container-id-1 div.sk-container {/* jupyter's `normalize.less` sets `[hidden] { display: none; }` but bootstrap.min.css set `[hidden] { display: none !important; }` so we also need the `!important` here to be able to override the default hidden behavior on the sphinx rendered scikit-learn.org. See: https://github.com/scikit-learn/scikit-learn/issues/21755 */display: inline-block !important;position: relative;}#sk-container-id-1 div.sk-text-repr-fallback {display: none;}</style><div id=\"sk-container-id-1\" class=\"sk-top-container\"><div class=\"sk-text-repr-fallback\"><pre>KNeighborsClassifier()</pre><b>In a Jupyter environment, please rerun this cell to show the HTML representation or trust the notebook. <br />On GitHub, the HTML representation is unable to render, please try loading this page with nbviewer.org.</b></div><div class=\"sk-container\" hidden><div class=\"sk-item\"><div class=\"sk-estimator sk-toggleable\"><input class=\"sk-toggleable__control sk-hidden--visually\" id=\"sk-estimator-id-1\" type=\"checkbox\" checked><label for=\"sk-estimator-id-1\" class=\"sk-toggleable__label sk-toggleable__label-arrow\">KNeighborsClassifier</label><div class=\"sk-toggleable__content\"><pre>KNeighborsClassifier()</pre></div></div></div></div></div>"
      ],
      "text/plain": [
       "KNeighborsClassifier()"
      ]
     },
     "execution_count": 12,
     "metadata": {},
     "output_type": "execute_result"
    }
   ],
   "source": [
    "# 3단계: 학습하기\n",
    "model.fit(x_train, y_train)"
   ]
  },
  {
   "cell_type": "code",
   "execution_count": 13,
   "metadata": {
    "id": "hKu4_VDaof9-",
    "tags": []
   },
   "outputs": [],
   "source": [
    "# 4단계: 예측하기\n",
    "y_pred = model.predict(x_test)"
   ]
  },
  {
   "cell_type": "code",
   "execution_count": 15,
   "metadata": {
    "tags": []
   },
   "outputs": [
    {
     "data": {
      "text/plain": [
       "(150, 7)"
      ]
     },
     "execution_count": 15,
     "metadata": {},
     "output_type": "execute_result"
    }
   ],
   "source": [
    "x_test.shape"
   ]
  },
  {
   "cell_type": "markdown",
   "metadata": {
    "id": "uMnv2bcu2DF7"
   },
   "source": [
    "# 5.분류 성능 평가\n",
    "\n",
    "- 다양한 성능 지표로 분류 모델 성능을 평가합니다."
   ]
  },
  {
   "cell_type": "markdown",
   "metadata": {
    "id": "k3s96KFx23gF"
   },
   "source": [
    "**1) Confusion Matrix**"
   ]
  },
  {
   "cell_type": "code",
   "execution_count": 16,
   "metadata": {
    "id": "-3x1euJM2VH_",
    "tags": []
   },
   "outputs": [
    {
     "name": "stdout",
     "output_type": "stream",
     "text": [
      "[[76  8]\n",
      " [16 50]]\n"
     ]
    }
   ],
   "source": [
    "# 모듈 불러오기\n",
    "from sklearn.metrics import confusion_matrix\n",
    "\n",
    "# 성능 평가\n",
    "print(confusion_matrix(y_test, y_pred))"
   ]
  },
  {
   "cell_type": "code",
   "execution_count": 20,
   "metadata": {
    "tags": []
   },
   "outputs": [
    {
     "data": {
      "text/plain": [
       "<Axes: >"
      ]
     },
     "execution_count": 20,
     "metadata": {},
     "output_type": "execute_result"
    },
    {
     "data": {
      "image/png": "[encoded data removed]",
      "text/plain": [
       "<Figure size 500x300 with 2 Axes>"
      ]
     },
     "metadata": {
      "image/png": {
       "height": 274,
       "width": 411
      }
     },
     "output_type": "display_data"
    }
   ],
   "source": [
    "# 시각화\n",
    "plt.figure(figsize=(5,3))\n",
    "\n",
    "sns.heatmap(confusion_matrix(y_test, y_pred),\n",
    "           annot=True,\n",
    "           annot_kws={'size':15})"
   ]
  },
  {
   "cell_type": "markdown",
   "metadata": {
    "id": "JUCRqABK28Jr"
   },
   "source": [
    "**2) Accuracy**\n",
    "\n",
    "$$\\large Accuracy = \\frac{TP+TN}{TP+TN+FP+FN}$$"
   ]
  },
  {
   "cell_type": "code",
   "execution_count": 17,
   "metadata": {
    "id": "HcgvkOBu2ovI",
    "tags": []
   },
   "outputs": [
    {
     "name": "stdout",
     "output_type": "stream",
     "text": [
      "Accuracy :  0.84\n"
     ]
    }
   ],
   "source": [
    "# 모듈 불러오기\n",
    "from sklearn.metrics import accuracy_score\n",
    "\n",
    "# 성능 평가\n",
    "print('Accuracy : ', accuracy_score(y_test, y_pred))"
   ]
  },
  {
   "cell_type": "code",
   "execution_count": 22,
   "metadata": {
    "tags": []
   },
   "outputs": [
    {
     "data": {
      "text/plain": [
       "0.84"
      ]
     },
     "execution_count": 22,
     "metadata": {},
     "output_type": "execute_result"
    }
   ],
   "source": [
    "# 참고 : 평가 성능(정확도, accuracy), 회귀의 경우 결정계수, r2 score\n",
    "model.score(x_test, y_test)"
   ]
  },
  {
   "cell_type": "code",
   "execution_count": 23,
   "metadata": {
    "tags": []
   },
   "outputs": [
    {
     "data": {
      "text/plain": [
       "0.8885714285714286"
      ]
     },
     "execution_count": 23,
     "metadata": {},
     "output_type": "execute_result"
    }
   ],
   "source": [
    "# 참고 : 학승 성능(정확도)\n",
    "model.score(x_train, y_train)"
   ]
  },
  {
   "cell_type": "markdown",
   "metadata": {},
   "source": [
    "* 학습 성능은 좋은데 평가 성능이 많이 떨어지는 경우를 과대적합되었다고 한다."
   ]
  },
  {
   "cell_type": "markdown",
   "metadata": {
    "id": "7YRAi3rV3uwv"
   },
   "source": [
    "**3) Precision**\n",
    "\n",
    "$$\\large Precision = \\frac{TP}{TP+FP}$$"
   ]
  },
  {
   "cell_type": "code",
   "execution_count": 25,
   "metadata": {
    "id": "YK8j5g1s3V0m",
    "tags": []
   },
   "outputs": [
    {
     "name": "stdout",
     "output_type": "stream",
     "text": [
      "Precision :  0.8620689655172413\n",
      "Precision :  0.8620689655172413\n",
      "Precision :  [0.82608696 0.86206897]\n",
      "Precision :  0.8440779610194902\n",
      "Precision :  0.8419190404797602\n"
     ]
    }
   ],
   "source": [
    "# 모듈 불러오기\n",
    "# 50/58\n",
    "from sklearn.metrics import precision_score\n",
    "\n",
    "# 성능 평가, 대부분 1과 0의 바이너리 분류이고 1에 관심이 있으므로 1의 정밀도이다.\n",
    "print('Precision : ', precision_score(y_test, y_pred))\n",
    "print('Precision : ', precision_score(y_test, y_pred, average='binary')) # 원래 average 값이 binary로 default가 세팅되어있다.\n",
    "print('Precision : ', precision_score(y_test, y_pred, average=None)) # 0과 1의 각가 정밀도 출력\n",
    "print('Precision : ', precision_score(y_test, y_pred, average='macro')) # 거시 평균 -> 데이터가 불균형일 경우 가중치 평균과 차이가 클것이다.\n",
    "print('Precision : ', precision_score(y_test, y_pred, average='weighted')) # 기중치 평균"
   ]
  },
  {
   "cell_type": "markdown",
   "metadata": {
    "id": "RYImEJal3xsb"
   },
   "source": [
    "**4) Recall**\n",
    "\n",
    "$$\\large Recall = \\frac{TP}{TP+FN}$$"
   ]
  },
  {
   "cell_type": "code",
   "execution_count": 28,
   "metadata": {
    "id": "y5EXWw7B3xsc",
    "tags": []
   },
   "outputs": [
    {
     "name": "stdout",
     "output_type": "stream",
     "text": [
      "민감도 :  0.7575757575757576\n",
      "민감도 :  [0.9047619  0.75757576]\n"
     ]
    }
   ],
   "source": [
    "# 모듈 불러오기\n",
    "# 50/66\n",
    "from sklearn.metrics import recall_score\n",
    "\n",
    "# 성능 평가\n",
    "print('민감도 : ', recall_score(y_test, y_pred))\n",
    "print('민감도 : ', recall_score(y_test, y_pred, average=None))"
   ]
  },
  {
   "cell_type": "markdown",
   "metadata": {
    "id": "srDyRIxy39Za"
   },
   "source": [
    "**5) F1-Score**\n",
    "\n",
    "$$\\large F1 = \\frac{2\\times Precision\\times Recall}{Precision+Recall}$$"
   ]
  },
  {
   "cell_type": "code",
   "execution_count": 31,
   "metadata": {
    "id": "yvhFtpE739Zb",
    "tags": []
   },
   "outputs": [
    {
     "name": "stdout",
     "output_type": "stream",
     "text": [
      "F1 :  0.8064516129032258\n"
     ]
    }
   ],
   "source": [
    "# 모듈 불러오기\n",
    "from sklearn.metrics import f1_score\n",
    "\n",
    "# 성능 평가\n",
    "print('F1 : ', f1_score(y_test, y_pred)) # 정밀도 0.86, 재현율 0.75 의 조화 평균은 0.80"
   ]
  },
  {
   "cell_type": "markdown",
   "metadata": {
    "id": "jp-_3s4t2_fH"
   },
   "source": [
    "**6) Classification Report**"
   ]
  },
  {
   "cell_type": "code",
   "execution_count": 33,
   "metadata": {
    "id": "tYw6ni480__X",
    "tags": []
   },
   "outputs": [
    {
     "name": "stdout",
     "output_type": "stream",
     "text": [
      "              precision    recall  f1-score   support\n",
      "\n",
      "           0       0.83      0.90      0.86        84\n",
      "           1       0.86      0.76      0.81        66\n",
      "\n",
      "    accuracy                           0.84       150\n",
      "   macro avg       0.84      0.83      0.84       150\n",
      "weighted avg       0.84      0.84      0.84       150\n",
      "\n"
     ]
    }
   ],
   "source": [
    "# 모듈 불러오기\n",
    "from sklearn.metrics import classification_report\n",
    "\n",
    "# 성능 평가\n",
    "print(classification_report(y_test, y_pred))"
   ]
  },
  {
   "cell_type": "code",
   "execution_count": 35,
   "metadata": {
    "tags": []
   },
   "outputs": [
    {
     "data": {
      "text/plain": [
       "'1.3.0'"
      ]
     },
     "execution_count": 35,
     "metadata": {},
     "output_type": "execute_result"
    }
   ],
   "source": [
    "import sklearn\n",
    "sklearn.__version__"
   ]
  }
 ],
 "metadata": {
  "colab": {
   "provenance": []
  },
  "kernelspec": {
   "display_name": "Python 3 (ipykernel)",
   "language": "python",
   "name": "python3"
  },
  "language_info": {
   "codemirror_mode": {
    "name": "ipython",
    "version": 3
   },
   "file_extension": ".py",
   "mimetype": "text/x-python",
   "name": "python",
   "nbconvert_exporter": "python",
   "pygments_lexer": "ipython3",
   "version": "3.11.5"
  }
 },
 "nbformat": 4,
 "nbformat_minor": 4
}

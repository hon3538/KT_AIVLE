{
 "cells": [
  {
   "cell_type": "code",
   "execution_count": 1,
   "id": "815583b2",
   "metadata": {},
   "outputs": [],
   "source": [
    "import numpy as np"
   ]
  },
  {
   "cell_type": "code",
   "execution_count": 5,
   "id": "918fe231",
   "metadata": {},
   "outputs": [],
   "source": [
    "# 파이썬 리스트에서 넘파이로 변환\n",
    "a = [1, 3.14, True, 'hello'] # 리스트\n",
    "b = np.array(a)"
   ]
  },
  {
   "cell_type": "code",
   "execution_count": 7,
   "id": "3aab5b0f",
   "metadata": {},
   "outputs": [
    {
     "name": "stdout",
     "output_type": "stream",
     "text": [
      "[1, 3.14, True, 'hello']\n",
      "Data Type of 1 : <class 'int'>\n",
      "Data Type of 3.14 : <class 'float'>\n",
      "Data Type of True : <class 'bool'>\n",
      "Data Type of hello : <class 'str'>\n"
     ]
    }
   ],
   "source": [
    "# 리스트 원소 데이터 타입 확인\n",
    "print(a)\n",
    "for element in a:\n",
    "    print('Data Type of {} : {}'.format(element, type(element)))"
   ]
  },
  {
   "cell_type": "code",
   "execution_count": 8,
   "id": "17d9b6c9",
   "metadata": {},
   "outputs": [
    {
     "name": "stdout",
     "output_type": "stream",
     "text": [
      "['1' '3.14' 'True' 'hello']\n",
      "Data Type of 1 : <class 'numpy.str_'>\n",
      "Data Type of 3.14 : <class 'numpy.str_'>\n",
      "Data Type of True : <class 'numpy.str_'>\n",
      "Data Type of hello : <class 'numpy.str_'>\n"
     ]
    }
   ],
   "source": [
    "# 넘파이 배열 원소 확인\n",
    "print(b)\n",
    "for element in b :\n",
    "    print('Data Type of {} : {}'.format(element, type(element)))\n",
    "\n",
    "# 모든 요소가 문자열로 치환됨\n",
    "# numpy는 하나의 데이터 타입만 받을 수 있기 때문"
   ]
  },
  {
   "cell_type": "code",
   "execution_count": 9,
   "id": "0c65ab82",
   "metadata": {},
   "outputs": [
    {
     "name": "stdout",
     "output_type": "stream",
     "text": [
      "[[1, 2, 3], [4, 5, 6]]\n"
     ]
    }
   ],
   "source": [
    "#  중첩 리스트 생성\n",
    "a = [[1, 2, 3], [4, 5, 6]]\n",
    "print(a)"
   ]
  },
  {
   "cell_type": "code",
   "execution_count": 10,
   "id": "0e504604",
   "metadata": {},
   "outputs": [
    {
     "data": {
      "text/plain": [
       "list"
      ]
     },
     "execution_count": 10,
     "metadata": {},
     "output_type": "execute_result"
    }
   ],
   "source": [
    "# 중첩 리스트 데이터 타입 확인\n",
    "type(a)"
   ]
  },
  {
   "cell_type": "code",
   "execution_count": 11,
   "id": "18c93d72",
   "metadata": {},
   "outputs": [
    {
     "name": "stdout",
     "output_type": "stream",
     "text": [
      "[[1 2 3]\n",
      " [4 5 6]]\n"
     ]
    }
   ],
   "source": [
    "# 중첩리스트를 넘파이 배열로 변환 -> 2차원 행렬로 변환\n",
    "b = np.array(a)\n",
    "print(b)"
   ]
  },
  {
   "cell_type": "code",
   "execution_count": 12,
   "id": "800ed425",
   "metadata": {},
   "outputs": [
    {
     "data": {
      "text/plain": [
       "numpy.ndarray"
      ]
     },
     "execution_count": 12,
     "metadata": {},
     "output_type": "execute_result"
    }
   ],
   "source": [
    "# numpy 행렬 테이터 타입 확인\n",
    "type(b)"
   ]
  },
  {
   "cell_type": "code",
   "execution_count": 15,
   "id": "1fc81b88",
   "metadata": {},
   "outputs": [
    {
     "data": {
      "text/plain": [
       "(2, 3)"
      ]
     },
     "execution_count": 15,
     "metadata": {},
     "output_type": "execute_result"
    }
   ],
   "source": [
    "# 배열[array]의 shape 확인\n",
    "# a.shape 은 list기 때문에 안 됨, shape은 numpy가 제공하는 함수이다.\n",
    "b.shape"
   ]
  },
  {
   "cell_type": "code",
   "execution_count": 16,
   "id": "487e1d14",
   "metadata": {},
   "outputs": [
    {
     "data": {
      "text/plain": [
       "2"
      ]
     },
     "execution_count": 16,
     "metadata": {},
     "output_type": "execute_result"
    }
   ],
   "source": [
    "# 배열[array]의 차원 확인\n",
    "b.ndim"
   ]
  },
  {
   "cell_type": "code",
   "execution_count": 17,
   "id": "ec8ce1af",
   "metadata": {},
   "outputs": [
    {
     "data": {
      "text/plain": [
       "6"
      ]
     },
     "execution_count": 17,
     "metadata": {},
     "output_type": "execute_result"
    }
   ],
   "source": [
    "# 배열내 총 원소 개수 확인\n",
    "b.size"
   ]
  },
  {
   "cell_type": "code",
   "execution_count": 23,
   "id": "513f14b4",
   "metadata": {},
   "outputs": [
    {
     "name": "stdout",
     "output_type": "stream",
     "text": [
      "[[1 2]\n",
      " [3 4]\n",
      " [5 6]]\n"
     ]
    },
    {
     "data": {
      "text/plain": [
       "numpy.ndarray"
      ]
     },
     "execution_count": 23,
     "metadata": {},
     "output_type": "execute_result"
    }
   ],
   "source": [
    "# 2x3 행렬을 3x2로 바꿔보자\n",
    "print(b.reshape(3,2))\n",
    "type(b.reshape(3,2))"
   ]
  },
  {
   "cell_type": "code",
   "execution_count": 25,
   "id": "5590d0f5",
   "metadata": {},
   "outputs": [
    {
     "name": "stdout",
     "output_type": "stream",
     "text": [
      "[[1. 2. 3.]\n",
      " [4. 5. 6.]]\n"
     ]
    }
   ],
   "source": [
    "# 배열 요소 데이터 타입 변경 : 정수 -> 실수\n",
    "b = np.array(a, dtype = np.float64) # dtype 인수 설정, list -> numpy and numpy -> numpy\n",
    "print(b)"
   ]
  },
  {
   "cell_type": "code",
   "execution_count": 31,
   "id": "2ee0a61a",
   "metadata": {},
   "outputs": [
    {
     "ename": "AttributeError",
     "evalue": "'list' object has no attribute 'astype'",
     "output_type": "error",
     "traceback": [
      "\u001b[1;31m------------------------------------------------------------\u001b[0m",
      "\u001b[1;31mAttributeError\u001b[0m             Traceback (most recent call last)",
      "\u001b[1;32m~\\AppData\\Local\\Temp\\ipykernel_14976\\661090343.py\u001b[0m in \u001b[0;36m<module>\u001b[1;34m\u001b[0m\n\u001b[0;32m      1\u001b[0m \u001b[1;31m# 배열 요소 데이터 타입 변경 : 실수 -> 정수\u001b[0m\u001b[1;33m\u001b[0m\u001b[1;33m\u001b[0m\u001b[1;33m\u001b[0m\u001b[0m\n\u001b[0;32m      2\u001b[0m \u001b[0mb\u001b[0m \u001b[1;33m=\u001b[0m \u001b[0mb\u001b[0m\u001b[1;33m.\u001b[0m\u001b[0mastype\u001b[0m\u001b[1;33m(\u001b[0m\u001b[0mnp\u001b[0m\u001b[1;33m.\u001b[0m\u001b[0mint64\u001b[0m\u001b[1;33m)\u001b[0m \u001b[1;31m# 사후 변경시 astype 메서드로 변경\u001b[0m\u001b[1;33m\u001b[0m\u001b[1;33m\u001b[0m\u001b[0m\n\u001b[1;32m----> 3\u001b[1;33m \u001b[0mb\u001b[0m \u001b[1;33m=\u001b[0m \u001b[0ma\u001b[0m\u001b[1;33m.\u001b[0m\u001b[0mastype\u001b[0m\u001b[1;33m(\u001b[0m\u001b[0mnp\u001b[0m\u001b[1;33m.\u001b[0m\u001b[0mint64\u001b[0m\u001b[1;33m)\u001b[0m\u001b[1;33m\u001b[0m\u001b[1;33m\u001b[0m\u001b[0m\n\u001b[0m\u001b[0;32m      4\u001b[0m \u001b[0mprint\u001b[0m\u001b[1;33m(\u001b[0m\u001b[0mb\u001b[0m\u001b[1;33m)\u001b[0m\u001b[1;33m\u001b[0m\u001b[1;33m\u001b[0m\u001b[0m\n",
      "\u001b[1;31mAttributeError\u001b[0m: 'list' object has no attribute 'astype'"
     ]
    }
   ],
   "source": [
    "# 배열 요소 데이터 타입 변경 : 실수 -> 정수\n",
    "b = b.astype(np.int64) # 사후 변경시 쉽게 astype 사용 가능, numpy의 메서드이다.\n",
    "# numpy -> numpy\n",
    "print(b)"
   ]
  },
  {
   "cell_type": "markdown",
   "id": "ed70c88f",
   "metadata": {},
   "source": [
    "## 넘파이 배열 인덱싱"
   ]
  },
  {
   "cell_type": "code",
   "execution_count": 38,
   "id": "a6d5cb41",
   "metadata": {},
   "outputs": [
    {
     "name": "stdout",
     "output_type": "stream",
     "text": [
      "[1 2 3 4 5]\n"
     ]
    }
   ],
   "source": [
    "# 새로운 배열 arr 생성\n",
    "arr = np.array([1,2,3,4,5])\n",
    "print(arr)"
   ]
  },
  {
   "cell_type": "code",
   "execution_count": 33,
   "id": "5e3400fc",
   "metadata": {},
   "outputs": [
    {
     "data": {
      "text/plain": [
       "1"
      ]
     },
     "execution_count": 33,
     "metadata": {},
     "output_type": "execute_result"
    }
   ],
   "source": [
    "# 배열 첫번째 원소 가져오기\n",
    "arr[0]"
   ]
  },
  {
   "cell_type": "code",
   "execution_count": 34,
   "id": "90b74335",
   "metadata": {},
   "outputs": [
    {
     "data": {
      "text/plain": [
       "4"
      ]
     },
     "execution_count": 34,
     "metadata": {},
     "output_type": "execute_result"
    }
   ],
   "source": [
    "# 배열 네번째 원소 가져오기\n",
    "arr[3]"
   ]
  },
  {
   "cell_type": "code",
   "execution_count": 35,
   "id": "a6f13729",
   "metadata": {},
   "outputs": [
    {
     "data": {
      "text/plain": [
       "5"
      ]
     },
     "execution_count": 35,
     "metadata": {},
     "output_type": "execute_result"
    }
   ],
   "source": [
    "# 배열 마지막 원소 가져오기\n",
    "arr[-1]"
   ]
  },
  {
   "cell_type": "markdown",
   "id": "5e7a78bd",
   "metadata": {},
   "source": [
    "### 2차원 배열 인덱싱"
   ]
  },
  {
   "cell_type": "code",
   "execution_count": 40,
   "id": "505e2d4f",
   "metadata": {},
   "outputs": [
    {
     "name": "stdout",
     "output_type": "stream",
     "text": [
      "[[1 2 3 4]\n",
      " [5 6 7 8]]\n"
     ]
    }
   ],
   "source": [
    "# 2차원 배열 생성\n",
    "arr2d = np.array([[1,2,3,4],[5,6,7,8]])\n",
    "print(arr2d)"
   ]
  },
  {
   "cell_type": "code",
   "execution_count": 41,
   "id": "c5ab1217",
   "metadata": {},
   "outputs": [
    {
     "data": {
      "text/plain": [
       "1"
      ]
     },
     "execution_count": 41,
     "metadata": {},
     "output_type": "execute_result"
    }
   ],
   "source": [
    "# 1행 1열 원소 가져오기\n",
    "arr2d[0,0]"
   ]
  },
  {
   "cell_type": "code",
   "execution_count": 90,
   "id": "ee1b5d5c",
   "metadata": {},
   "outputs": [
    {
     "data": {
      "text/plain": [
       "7"
      ]
     },
     "execution_count": 90,
     "metadata": {},
     "output_type": "execute_result"
    }
   ],
   "source": [
    "# 2행 3열 원소 가져오기\n",
    "arr2d[1,2]"
   ]
  },
  {
   "cell_type": "code",
   "execution_count": 94,
   "id": "12938d07",
   "metadata": {},
   "outputs": [
    {
     "data": {
      "text/plain": [
       "array([5, 6, 7, 8])"
      ]
     },
     "execution_count": 94,
     "metadata": {},
     "output_type": "execute_result"
    }
   ],
   "source": [
    "arr2d[1]"
   ]
  },
  {
   "cell_type": "markdown",
   "id": "dd37b529",
   "metadata": {},
   "source": [
    "### 배열 슬라이싱"
   ]
  },
  {
   "cell_type": "code",
   "execution_count": 47,
   "id": "1aa82623",
   "metadata": {},
   "outputs": [
    {
     "name": "stdout",
     "output_type": "stream",
     "text": [
      "[[1 2 3]\n",
      " [4 5 6]]\n"
     ]
    }
   ],
   "source": [
    "# 슬라이싱 실습에 사용할 넘파이 배열을 arange라는 넘파이 메서드로 만들어보자\n",
    "arr2 = np.arange(1, 7) # arange(시작 숫자, 끝 숫자) : 시작 숫자부터 끝숫자-1 까지의 번호가 나열되어 저장된다.\n",
    "arr2 = arr2.reshape(2, 3) # reshape(행, 열) : 원소 개수에 맞춰 reshape을 활용하면 배열의 형태를 바꿀 수 있다.\n",
    "# 또한 활용에 따라 차원도 변환 가능하다.\n",
    "\n",
    "print(arr2)"
   ]
  },
  {
   "cell_type": "code",
   "execution_count": 48,
   "id": "ab8831be",
   "metadata": {},
   "outputs": [
    {
     "name": "stdout",
     "output_type": "stream",
     "text": [
      "[1 2 3]\n"
     ]
    }
   ],
   "source": [
    "# 첫번째 행 전체 가져오기\n",
    "print(arr2[0,:])"
   ]
  },
  {
   "cell_type": "code",
   "execution_count": 49,
   "id": "c909ef0d",
   "metadata": {},
   "outputs": [
    {
     "name": "stdout",
     "output_type": "stream",
     "text": [
      "[3 6]\n"
     ]
    }
   ],
   "source": [
    "# 세번째 열 전체 가져오기\n",
    "print(arr2[:,2])"
   ]
  },
  {
   "cell_type": "code",
   "execution_count": 50,
   "id": "3253b560",
   "metadata": {},
   "outputs": [
    {
     "name": "stdout",
     "output_type": "stream",
     "text": [
      "[[1 2]\n",
      " [4 5]]\n"
     ]
    }
   ],
   "source": [
    "# 전체 행 두번째 열까지 모두 출력\n",
    "print(arr2[:,:2])"
   ]
  },
  {
   "cell_type": "markdown",
   "id": "22a2f2f9",
   "metadata": {},
   "source": [
    "# 판다스 pandas 소개"
   ]
  },
  {
   "cell_type": "markdown",
   "id": "cec7cc99",
   "metadata": {},
   "source": [
    "### pandas 라이브러리 로딩"
   ]
  },
  {
   "cell_type": "code",
   "execution_count": 51,
   "id": "d12c95af",
   "metadata": {},
   "outputs": [],
   "source": [
    "import pandas as pd"
   ]
  },
  {
   "cell_type": "markdown",
   "id": "d50bf07a",
   "metadata": {},
   "source": [
    "### 데이터 생성"
   ]
  },
  {
   "cell_type": "code",
   "execution_count": 69,
   "id": "a54df592",
   "metadata": {},
   "outputs": [
    {
     "name": "stdout",
     "output_type": "stream",
     "text": [
      "{'이름': ['아이유', '김연아', '홍길동', '김은숙', '홍의선'], '학과': ['국문과', '수학과', '전자과', '컴퓨터', '물리'], '성적': [3.0, 1.0, 3.5, 2.7, 4.0]}\n",
      "<class 'list'>\n"
     ]
    }
   ],
   "source": [
    "# 실습에 사용할 샘플 딕셔너리 생성\n",
    "data = {\n",
    "    '이름':['아이유', '김연아', '홍길동', '김은숙', '홍의선'],\n",
    "    '학과':['국문과', '수학과', '전자과', '컴퓨터', '물리'],\n",
    "    '성적':[3.0, 1.0, 3.5, 2.7, 4.0]\n",
    "} # dictionary 는 {} 를 이용하여 생성, key : value\n",
    "# [] 는 list, () 는 tuple, np.array() 는 ndarray\n",
    "print(data)\n",
    "print(type(data['이름']))"
   ]
  },
  {
   "cell_type": "code",
   "execution_count": 70,
   "id": "a0407568",
   "metadata": {},
   "outputs": [
    {
     "data": {
      "text/html": [
       "<div>\n",
       "<style scoped>\n",
       "    .dataframe tbody tr th:only-of-type {\n",
       "        vertical-align: middle;\n",
       "    }\n",
       "\n",
       "    .dataframe tbody tr th {\n",
       "        vertical-align: top;\n",
       "    }\n",
       "\n",
       "    .dataframe thead th {\n",
       "        text-align: right;\n",
       "    }\n",
       "</style>\n",
       "<table border=\"1\" class=\"dataframe\">\n",
       "  <thead>\n",
       "    <tr style=\"text-align: right;\">\n",
       "      <th></th>\n",
       "      <th>이름</th>\n",
       "      <th>학과</th>\n",
       "      <th>성적</th>\n",
       "    </tr>\n",
       "  </thead>\n",
       "  <tbody>\n",
       "    <tr>\n",
       "      <th>0</th>\n",
       "      <td>아이유</td>\n",
       "      <td>국문과</td>\n",
       "      <td>3.0</td>\n",
       "    </tr>\n",
       "    <tr>\n",
       "      <th>1</th>\n",
       "      <td>김연아</td>\n",
       "      <td>수학과</td>\n",
       "      <td>1.0</td>\n",
       "    </tr>\n",
       "    <tr>\n",
       "      <th>2</th>\n",
       "      <td>홍길동</td>\n",
       "      <td>전자과</td>\n",
       "      <td>3.5</td>\n",
       "    </tr>\n",
       "    <tr>\n",
       "      <th>3</th>\n",
       "      <td>김은숙</td>\n",
       "      <td>컴퓨터</td>\n",
       "      <td>2.7</td>\n",
       "    </tr>\n",
       "    <tr>\n",
       "      <th>4</th>\n",
       "      <td>홍의선</td>\n",
       "      <td>물리</td>\n",
       "      <td>4.0</td>\n",
       "    </tr>\n",
       "  </tbody>\n",
       "</table>\n",
       "</div>"
      ],
      "text/plain": [
       "    이름   학과   성적\n",
       "0  아이유  국문과  3.0\n",
       "1  김연아  수학과  1.0\n",
       "2  홍길동  전자과  3.5\n",
       "3  김은숙  컴퓨터  2.7\n",
       "4  홍의선   물리  4.0"
      ]
     },
     "metadata": {},
     "output_type": "display_data"
    }
   ],
   "source": [
    "# 딕셔너리 타입인 data를 pd.DataFrame() 인자로 넣어주면 된다.\n",
    "df = pd.DataFrame(data)\n",
    "display(df) # 스프레드 시트 형식으로 보여준다."
   ]
  },
  {
   "cell_type": "markdown",
   "id": "8b378638",
   "metadata": {},
   "source": [
    "### 데이터 csv 로 저장하기"
   ]
  },
  {
   "cell_type": "code",
   "execution_count": 71,
   "id": "3c1fba6b",
   "metadata": {},
   "outputs": [],
   "source": [
    "# 데이터 프레임을 csv로 저장 -> to_csv 메소드 이용\n",
    "df.to_csv('./data/student.csv', sep=',', index=False) # to_csv(저장 경로와 파일 이름 지정, sep = 콤마로 구분, index = False(저장시 인덱스(0,1,2~)가 csv에 포함 안 되도록))"
   ]
  },
  {
   "cell_type": "markdown",
   "id": "8772c731",
   "metadata": {},
   "source": [
    "### 데이터 불러오기"
   ]
  },
  {
   "cell_type": "code",
   "execution_count": 72,
   "id": "6bd3372c",
   "metadata": {},
   "outputs": [
    {
     "data": {
      "text/html": [
       "<div>\n",
       "<style scoped>\n",
       "    .dataframe tbody tr th:only-of-type {\n",
       "        vertical-align: middle;\n",
       "    }\n",
       "\n",
       "    .dataframe tbody tr th {\n",
       "        vertical-align: top;\n",
       "    }\n",
       "\n",
       "    .dataframe thead th {\n",
       "        text-align: right;\n",
       "    }\n",
       "</style>\n",
       "<table border=\"1\" class=\"dataframe\">\n",
       "  <thead>\n",
       "    <tr style=\"text-align: right;\">\n",
       "      <th></th>\n",
       "      <th>이름</th>\n",
       "      <th>학과</th>\n",
       "      <th>성적</th>\n",
       "    </tr>\n",
       "  </thead>\n",
       "  <tbody>\n",
       "    <tr>\n",
       "      <th>0</th>\n",
       "      <td>아이유</td>\n",
       "      <td>국문과</td>\n",
       "      <td>3.0</td>\n",
       "    </tr>\n",
       "    <tr>\n",
       "      <th>1</th>\n",
       "      <td>김연아</td>\n",
       "      <td>수학과</td>\n",
       "      <td>1.0</td>\n",
       "    </tr>\n",
       "    <tr>\n",
       "      <th>2</th>\n",
       "      <td>홍길동</td>\n",
       "      <td>전자과</td>\n",
       "      <td>3.5</td>\n",
       "    </tr>\n",
       "    <tr>\n",
       "      <th>3</th>\n",
       "      <td>김은숙</td>\n",
       "      <td>컴퓨터</td>\n",
       "      <td>2.7</td>\n",
       "    </tr>\n",
       "    <tr>\n",
       "      <th>4</th>\n",
       "      <td>홍의선</td>\n",
       "      <td>물리</td>\n",
       "      <td>4.0</td>\n",
       "    </tr>\n",
       "  </tbody>\n",
       "</table>\n",
       "</div>"
      ],
      "text/plain": [
       "    이름   학과   성적\n",
       "0  아이유  국문과  3.0\n",
       "1  김연아  수학과  1.0\n",
       "2  홍길동  전자과  3.5\n",
       "3  김은숙  컴퓨터  2.7\n",
       "4  홍의선   물리  4.0"
      ]
     },
     "metadata": {},
     "output_type": "display_data"
    }
   ],
   "source": [
    "# 데이터 로딩은 pandas의 read_csv를 활용하면 됨\n",
    "df = pd.read_csv('./data/student.csv') # 경로 설정만 해주면 끝\n",
    "display(df)"
   ]
  },
  {
   "cell_type": "markdown",
   "id": "98dbe7dd",
   "metadata": {},
   "source": [
    "### pandas 원하는 데이터 선택하기"
   ]
  },
  {
   "cell_type": "markdown",
   "id": "1364f010",
   "metadata": {},
   "source": [
    "#### 1) 슬라이싱(slicing)"
   ]
  },
  {
   "cell_type": "code",
   "execution_count": 74,
   "id": "29037c36",
   "metadata": {},
   "outputs": [
    {
     "data": {
      "text/html": [
       "<div>\n",
       "<style scoped>\n",
       "    .dataframe tbody tr th:only-of-type {\n",
       "        vertical-align: middle;\n",
       "    }\n",
       "\n",
       "    .dataframe tbody tr th {\n",
       "        vertical-align: top;\n",
       "    }\n",
       "\n",
       "    .dataframe thead th {\n",
       "        text-align: right;\n",
       "    }\n",
       "</style>\n",
       "<table border=\"1\" class=\"dataframe\">\n",
       "  <thead>\n",
       "    <tr style=\"text-align: right;\">\n",
       "      <th></th>\n",
       "      <th>이름</th>\n",
       "      <th>학과</th>\n",
       "      <th>성적</th>\n",
       "    </tr>\n",
       "  </thead>\n",
       "  <tbody>\n",
       "    <tr>\n",
       "      <th>1</th>\n",
       "      <td>김연아</td>\n",
       "      <td>수학과</td>\n",
       "      <td>1.0</td>\n",
       "    </tr>\n",
       "    <tr>\n",
       "      <th>2</th>\n",
       "      <td>홍길동</td>\n",
       "      <td>전자과</td>\n",
       "      <td>3.5</td>\n",
       "    </tr>\n",
       "    <tr>\n",
       "      <th>3</th>\n",
       "      <td>김은숙</td>\n",
       "      <td>컴퓨터</td>\n",
       "      <td>2.7</td>\n",
       "    </tr>\n",
       "    <tr>\n",
       "      <th>4</th>\n",
       "      <td>홍의선</td>\n",
       "      <td>물리</td>\n",
       "      <td>4.0</td>\n",
       "    </tr>\n",
       "  </tbody>\n",
       "</table>\n",
       "</div>"
      ],
      "text/plain": [
       "    이름   학과   성적\n",
       "1  김연아  수학과  1.0\n",
       "2  홍길동  전자과  3.5\n",
       "3  김은숙  컴퓨터  2.7\n",
       "4  홍의선   물리  4.0"
      ]
     },
     "execution_count": 74,
     "metadata": {},
     "output_type": "execute_result"
    }
   ],
   "source": [
    "# 데이터 슬라이싱, 1번 행부터 4번 행까지 슬라이싱\n",
    "df[1:5]"
   ]
  },
  {
   "cell_type": "code",
   "execution_count": 78,
   "id": "8c7c0260",
   "metadata": {},
   "outputs": [
    {
     "data": {
      "text/html": [
       "<div>\n",
       "<style scoped>\n",
       "    .dataframe tbody tr th:only-of-type {\n",
       "        vertical-align: middle;\n",
       "    }\n",
       "\n",
       "    .dataframe tbody tr th {\n",
       "        vertical-align: top;\n",
       "    }\n",
       "\n",
       "    .dataframe thead th {\n",
       "        text-align: right;\n",
       "    }\n",
       "</style>\n",
       "<table border=\"1\" class=\"dataframe\">\n",
       "  <thead>\n",
       "    <tr style=\"text-align: right;\">\n",
       "      <th></th>\n",
       "      <th>이름</th>\n",
       "      <th>학과</th>\n",
       "      <th>성적</th>\n",
       "    </tr>\n",
       "  </thead>\n",
       "  <tbody>\n",
       "    <tr>\n",
       "      <th>0</th>\n",
       "      <td>아이유</td>\n",
       "      <td>국문과</td>\n",
       "      <td>3.0</td>\n",
       "    </tr>\n",
       "    <tr>\n",
       "      <th>1</th>\n",
       "      <td>김연아</td>\n",
       "      <td>수학과</td>\n",
       "      <td>1.0</td>\n",
       "    </tr>\n",
       "    <tr>\n",
       "      <th>2</th>\n",
       "      <td>홍길동</td>\n",
       "      <td>전자과</td>\n",
       "      <td>3.5</td>\n",
       "    </tr>\n",
       "  </tbody>\n",
       "</table>\n",
       "</div>"
      ],
      "text/plain": [
       "    이름   학과   성적\n",
       "0  아이유  국문과  3.0\n",
       "1  김연아  수학과  1.0\n",
       "2  홍길동  전자과  3.5"
      ]
     },
     "execution_count": 78,
     "metadata": {},
     "output_type": "execute_result"
    }
   ],
   "source": [
    "# 첫번째 행부터 세번째 행까지 접근\n",
    "df[0:3]"
   ]
  },
  {
   "cell_type": "code",
   "execution_count": 77,
   "id": "5fddd085",
   "metadata": {},
   "outputs": [
    {
     "data": {
      "text/html": [
       "<div>\n",
       "<style scoped>\n",
       "    .dataframe tbody tr th:only-of-type {\n",
       "        vertical-align: middle;\n",
       "    }\n",
       "\n",
       "    .dataframe tbody tr th {\n",
       "        vertical-align: top;\n",
       "    }\n",
       "\n",
       "    .dataframe thead th {\n",
       "        text-align: right;\n",
       "    }\n",
       "</style>\n",
       "<table border=\"1\" class=\"dataframe\">\n",
       "  <thead>\n",
       "    <tr style=\"text-align: right;\">\n",
       "      <th></th>\n",
       "      <th>이름</th>\n",
       "      <th>학과</th>\n",
       "      <th>성적</th>\n",
       "    </tr>\n",
       "  </thead>\n",
       "  <tbody>\n",
       "    <tr>\n",
       "      <th>0</th>\n",
       "      <td>아이유</td>\n",
       "      <td>국문과</td>\n",
       "      <td>3.0</td>\n",
       "    </tr>\n",
       "    <tr>\n",
       "      <th>1</th>\n",
       "      <td>김연아</td>\n",
       "      <td>수학과</td>\n",
       "      <td>1.0</td>\n",
       "    </tr>\n",
       "    <tr>\n",
       "      <th>2</th>\n",
       "      <td>홍길동</td>\n",
       "      <td>전자과</td>\n",
       "      <td>3.5</td>\n",
       "    </tr>\n",
       "    <tr>\n",
       "      <th>3</th>\n",
       "      <td>김은숙</td>\n",
       "      <td>컴퓨터</td>\n",
       "      <td>2.7</td>\n",
       "    </tr>\n",
       "    <tr>\n",
       "      <th>4</th>\n",
       "      <td>홍의선</td>\n",
       "      <td>물리</td>\n",
       "      <td>4.0</td>\n",
       "    </tr>\n",
       "  </tbody>\n",
       "</table>\n",
       "</div>"
      ],
      "text/plain": [
       "    이름   학과   성적\n",
       "0  아이유  국문과  3.0\n",
       "1  김연아  수학과  1.0\n",
       "2  홍길동  전자과  3.5\n",
       "3  김은숙  컴퓨터  2.7\n",
       "4  홍의선   물리  4.0"
      ]
     },
     "execution_count": 77,
     "metadata": {},
     "output_type": "execute_result"
    }
   ],
   "source": [
    "# 모든 행 데이터에 접근\n",
    "df[:]"
   ]
  },
  {
   "cell_type": "markdown",
   "id": "36c2b5a9",
   "metadata": {},
   "source": [
    "#### 2) 인덱싱(indexing)"
   ]
  },
  {
   "cell_type": "code",
   "execution_count": 86,
   "id": "91c1e36a",
   "metadata": {},
   "outputs": [],
   "source": [
    "# df[1] # key error가 뜬다. 데이터 프레임엔 이런 방식으로 인덱싱을 할 수 없기 때문"
   ]
  },
  {
   "cell_type": "code",
   "execution_count": 83,
   "id": "76353b06",
   "metadata": {},
   "outputs": [
    {
     "data": {
      "text/plain": [
       "0    아이유\n",
       "1    김연아\n",
       "2    홍길동\n",
       "3    김은숙\n",
       "4    홍의선\n",
       "Name: 이름, dtype: object"
      ]
     },
     "execution_count": 83,
     "metadata": {},
     "output_type": "execute_result"
    }
   ],
   "source": [
    "# 단순 인덱싱 (fancy도 boolean도 아님)\n",
    "# 컬럼명을 주어 단순 인덱싱을 해보자\n",
    "df['이름']"
   ]
  },
  {
   "cell_type": "code",
   "execution_count": 82,
   "id": "e5f7db52",
   "metadata": {},
   "outputs": [
    {
     "data": {
      "text/plain": [
       "0    3.0\n",
       "1    1.0\n",
       "2    3.5\n",
       "3    2.7\n",
       "4    4.0\n",
       "Name: 성적, dtype: float64"
      ]
     },
     "execution_count": 82,
     "metadata": {},
     "output_type": "execute_result"
    }
   ],
   "source": [
    "df['성적']"
   ]
  },
  {
   "cell_type": "markdown",
   "id": "22064ad8",
   "metadata": {},
   "source": [
    "#### Fancy Indexing"
   ]
  },
  {
   "cell_type": "code",
   "execution_count": 89,
   "id": "0ab6155d",
   "metadata": {},
   "outputs": [
    {
     "data": {
      "text/html": [
       "<div>\n",
       "<style scoped>\n",
       "    .dataframe tbody tr th:only-of-type {\n",
       "        vertical-align: middle;\n",
       "    }\n",
       "\n",
       "    .dataframe tbody tr th {\n",
       "        vertical-align: top;\n",
       "    }\n",
       "\n",
       "    .dataframe thead th {\n",
       "        text-align: right;\n",
       "    }\n",
       "</style>\n",
       "<table border=\"1\" class=\"dataframe\">\n",
       "  <thead>\n",
       "    <tr style=\"text-align: right;\">\n",
       "      <th></th>\n",
       "      <th>이름</th>\n",
       "      <th>학과</th>\n",
       "    </tr>\n",
       "  </thead>\n",
       "  <tbody>\n",
       "    <tr>\n",
       "      <th>0</th>\n",
       "      <td>아이유</td>\n",
       "      <td>국문과</td>\n",
       "    </tr>\n",
       "    <tr>\n",
       "      <th>1</th>\n",
       "      <td>김연아</td>\n",
       "      <td>수학과</td>\n",
       "    </tr>\n",
       "    <tr>\n",
       "      <th>2</th>\n",
       "      <td>홍길동</td>\n",
       "      <td>전자과</td>\n",
       "    </tr>\n",
       "    <tr>\n",
       "      <th>3</th>\n",
       "      <td>김은숙</td>\n",
       "      <td>컴퓨터</td>\n",
       "    </tr>\n",
       "    <tr>\n",
       "      <th>4</th>\n",
       "      <td>홍의선</td>\n",
       "      <td>물리</td>\n",
       "    </tr>\n",
       "  </tbody>\n",
       "</table>\n",
       "</div>"
      ],
      "text/plain": [
       "    이름   학과\n",
       "0  아이유  국문과\n",
       "1  김연아  수학과\n",
       "2  홍길동  전자과\n",
       "3  김은숙  컴퓨터\n",
       "4  홍의선   물리"
      ]
     },
     "metadata": {},
     "output_type": "display_data"
    },
    {
     "data": {
      "text/plain": [
       "pandas.core.frame.DataFrame"
      ]
     },
     "execution_count": 89,
     "metadata": {},
     "output_type": "execute_result"
    }
   ],
   "source": [
    "# 인덱싱 시 리스트로 값을 주면 됨\n",
    "# '이름'과 '학과'열에만 접근해보자\n",
    "display(df[['이름','학과']])\n",
    "type(df[['이름','학과']])"
   ]
  },
  {
   "cell_type": "code",
   "execution_count": 95,
   "id": "d3456f5c",
   "metadata": {},
   "outputs": [
    {
     "data": {
      "text/html": [
       "<div>\n",
       "<style scoped>\n",
       "    .dataframe tbody tr th:only-of-type {\n",
       "        vertical-align: middle;\n",
       "    }\n",
       "\n",
       "    .dataframe tbody tr th {\n",
       "        vertical-align: top;\n",
       "    }\n",
       "\n",
       "    .dataframe thead th {\n",
       "        text-align: right;\n",
       "    }\n",
       "</style>\n",
       "<table border=\"1\" class=\"dataframe\">\n",
       "  <thead>\n",
       "    <tr style=\"text-align: right;\">\n",
       "      <th></th>\n",
       "      <th>이름</th>\n",
       "      <th>학과</th>\n",
       "    </tr>\n",
       "  </thead>\n",
       "  <tbody>\n",
       "    <tr>\n",
       "      <th>0</th>\n",
       "      <td>아이유</td>\n",
       "      <td>국문과</td>\n",
       "    </tr>\n",
       "    <tr>\n",
       "      <th>1</th>\n",
       "      <td>김연아</td>\n",
       "      <td>수학과</td>\n",
       "    </tr>\n",
       "    <tr>\n",
       "      <th>2</th>\n",
       "      <td>홍길동</td>\n",
       "      <td>전자과</td>\n",
       "    </tr>\n",
       "    <tr>\n",
       "      <th>3</th>\n",
       "      <td>김은숙</td>\n",
       "      <td>컴퓨터</td>\n",
       "    </tr>\n",
       "    <tr>\n",
       "      <th>4</th>\n",
       "      <td>홍의선</td>\n",
       "      <td>물리</td>\n",
       "    </tr>\n",
       "  </tbody>\n",
       "</table>\n",
       "</div>"
      ],
      "text/plain": [
       "    이름   학과\n",
       "0  아이유  국문과\n",
       "1  김연아  수학과\n",
       "2  홍길동  전자과\n",
       "3  김은숙  컴퓨터\n",
       "4  홍의선   물리"
      ]
     },
     "execution_count": 95,
     "metadata": {},
     "output_type": "execute_result"
    }
   ],
   "source": [
    "fancy_list = ['이름', '학과'] # 원하는 컬럼만 리스트로 선택\n",
    "df[fancy_list] # fancy indexing"
   ]
  },
  {
   "cell_type": "code",
   "execution_count": 96,
   "id": "80dbfe1d",
   "metadata": {},
   "outputs": [],
   "source": [
    "# 컬럼을 입력할 때는 순서는 중요하지 않는다."
   ]
  },
  {
   "cell_type": "markdown",
   "id": "ba61fc3d",
   "metadata": {},
   "source": [
    "#### 슬라이싱 + 인덱싱"
   ]
  },
  {
   "cell_type": "code",
   "execution_count": 98,
   "id": "32061a52",
   "metadata": {},
   "outputs": [
    {
     "data": {
      "text/html": [
       "<div>\n",
       "<style scoped>\n",
       "    .dataframe tbody tr th:only-of-type {\n",
       "        vertical-align: middle;\n",
       "    }\n",
       "\n",
       "    .dataframe tbody tr th {\n",
       "        vertical-align: top;\n",
       "    }\n",
       "\n",
       "    .dataframe thead th {\n",
       "        text-align: right;\n",
       "    }\n",
       "</style>\n",
       "<table border=\"1\" class=\"dataframe\">\n",
       "  <thead>\n",
       "    <tr style=\"text-align: right;\">\n",
       "      <th></th>\n",
       "      <th>학과</th>\n",
       "      <th>이름</th>\n",
       "    </tr>\n",
       "  </thead>\n",
       "  <tbody>\n",
       "    <tr>\n",
       "      <th>1</th>\n",
       "      <td>수학과</td>\n",
       "      <td>김연아</td>\n",
       "    </tr>\n",
       "    <tr>\n",
       "      <th>2</th>\n",
       "      <td>전자과</td>\n",
       "      <td>홍길동</td>\n",
       "    </tr>\n",
       "  </tbody>\n",
       "</table>\n",
       "</div>"
      ],
      "text/plain": [
       "    학과   이름\n",
       "1  수학과  김연아\n",
       "2  전자과  홍길동"
      ]
     },
     "execution_count": 98,
     "metadata": {},
     "output_type": "execute_result"
    }
   ],
   "source": [
    "df[1:3][['학과', '이름']]"
   ]
  },
  {
   "cell_type": "code",
   "execution_count": 99,
   "id": "7b9e5648",
   "metadata": {},
   "outputs": [
    {
     "data": {
      "text/html": [
       "<div>\n",
       "<style scoped>\n",
       "    .dataframe tbody tr th:only-of-type {\n",
       "        vertical-align: middle;\n",
       "    }\n",
       "\n",
       "    .dataframe tbody tr th {\n",
       "        vertical-align: top;\n",
       "    }\n",
       "\n",
       "    .dataframe thead th {\n",
       "        text-align: right;\n",
       "    }\n",
       "</style>\n",
       "<table border=\"1\" class=\"dataframe\">\n",
       "  <thead>\n",
       "    <tr style=\"text-align: right;\">\n",
       "      <th></th>\n",
       "      <th>학과</th>\n",
       "      <th>성적</th>\n",
       "    </tr>\n",
       "  </thead>\n",
       "  <tbody>\n",
       "    <tr>\n",
       "      <th>0</th>\n",
       "      <td>국문과</td>\n",
       "      <td>3.0</td>\n",
       "    </tr>\n",
       "    <tr>\n",
       "      <th>1</th>\n",
       "      <td>수학과</td>\n",
       "      <td>1.0</td>\n",
       "    </tr>\n",
       "    <tr>\n",
       "      <th>2</th>\n",
       "      <td>전자과</td>\n",
       "      <td>3.5</td>\n",
       "    </tr>\n",
       "  </tbody>\n",
       "</table>\n",
       "</div>"
      ],
      "text/plain": [
       "    학과   성적\n",
       "0  국문과  3.0\n",
       "1  수학과  1.0\n",
       "2  전자과  3.5"
      ]
     },
     "execution_count": 99,
     "metadata": {},
     "output_type": "execute_result"
    }
   ],
   "source": [
    "df[['학과', '성적']][0:3]"
   ]
  },
  {
   "cell_type": "markdown",
   "id": "00c17ed8",
   "metadata": {},
   "source": [
    "#### Boolean Indexing"
   ]
  },
  {
   "cell_type": "code",
   "execution_count": 100,
   "id": "2aff197c",
   "metadata": {},
   "outputs": [],
   "source": [
    "# 연산자 ( ==, !=, > 등)를 이용한 인덱싱 수행"
   ]
  },
  {
   "cell_type": "code",
   "execution_count": 102,
   "id": "750beef9",
   "metadata": {},
   "outputs": [
    {
     "data": {
      "text/html": [
       "<div>\n",
       "<style scoped>\n",
       "    .dataframe tbody tr th:only-of-type {\n",
       "        vertical-align: middle;\n",
       "    }\n",
       "\n",
       "    .dataframe tbody tr th {\n",
       "        vertical-align: top;\n",
       "    }\n",
       "\n",
       "    .dataframe thead th {\n",
       "        text-align: right;\n",
       "    }\n",
       "</style>\n",
       "<table border=\"1\" class=\"dataframe\">\n",
       "  <thead>\n",
       "    <tr style=\"text-align: right;\">\n",
       "      <th></th>\n",
       "      <th>이름</th>\n",
       "      <th>학과</th>\n",
       "      <th>성적</th>\n",
       "    </tr>\n",
       "  </thead>\n",
       "  <tbody>\n",
       "    <tr>\n",
       "      <th>1</th>\n",
       "      <td>김연아</td>\n",
       "      <td>수학과</td>\n",
       "      <td>1.0</td>\n",
       "    </tr>\n",
       "  </tbody>\n",
       "</table>\n",
       "</div>"
      ],
      "text/plain": [
       "    이름   학과   성적\n",
       "1  김연아  수학과  1.0"
      ]
     },
     "execution_count": 102,
     "metadata": {},
     "output_type": "execute_result"
    }
   ],
   "source": [
    "# 수학과 소속인 학생의 데이터만 불러오기\n",
    "df[df['학과']=='수학과']"
   ]
  },
  {
   "cell_type": "code",
   "execution_count": 109,
   "id": "b2805c86",
   "metadata": {},
   "outputs": [
    {
     "name": "stdout",
     "output_type": "stream",
     "text": [
      "    이름   학과   성적\n",
      "0  아이유  국문과  3.0\n",
      "2  홍길동  전자과  3.5\n",
      "3  김은숙  컴퓨터  2.7\n",
      "4  홍의선   물리  4.0\n"
     ]
    }
   ],
   "source": [
    "# 이렇듯 df[ Boolean list ] 로 작동하는 원리이다.\n",
    "# print(df)\n",
    "# print(df['성적'] > 2.0) # [True, False, True, True, True]\n",
    "print(df[df['성적'] > 2.0]) # df[[True, False, True, True, True]]\n"
   ]
  },
  {
   "cell_type": "code",
   "execution_count": 110,
   "id": "4f38da09",
   "metadata": {},
   "outputs": [
    {
     "name": "stdout",
     "output_type": "stream",
     "text": [
      "    이름   학과   성적\n",
      "0  아이유  국문과  3.0\n",
      "1  김연아  수학과  1.0\n",
      "4  홍의선   물리  4.0\n"
     ]
    }
   ],
   "source": [
    "print(df[df['성적']%1.0 == 0])"
   ]
  },
  {
   "cell_type": "markdown",
   "id": "14836ee7",
   "metadata": {},
   "source": [
    "### Pandas 고급 인덱싱 loc & iloc 인덱서"
   ]
  },
  {
   "cell_type": "code",
   "execution_count": 113,
   "id": "0a513860",
   "metadata": {},
   "outputs": [
    {
     "data": {
      "text/plain": [
       "이름    김은숙\n",
       "학과    컴퓨터\n",
       "성적    2.7\n",
       "Name: 3, dtype: object"
      ]
     },
     "metadata": {},
     "output_type": "display_data"
    },
    {
     "name": "stdout",
     "output_type": "stream",
     "text": [
      "<class 'pandas.core.series.Series'>\n"
     ]
    }
   ],
   "source": [
    "# 기존 방식같이 df[3]으로 행에대한 indexing 불가능하고 df['이름'] 같은 열만 인덱싱 가능\n",
    "# loc로 행에 대한 indexing 가능\n",
    "# 한개의 행에 대해서만 loc indexing\n",
    "display(df.loc[3])\n",
    "print(type(df.loc[3])) # Series 타입"
   ]
  },
  {
   "cell_type": "code",
   "execution_count": 116,
   "id": "a46e322d",
   "metadata": {},
   "outputs": [
    {
     "data": {
      "text/html": [
       "<div>\n",
       "<style scoped>\n",
       "    .dataframe tbody tr th:only-of-type {\n",
       "        vertical-align: middle;\n",
       "    }\n",
       "\n",
       "    .dataframe tbody tr th {\n",
       "        vertical-align: top;\n",
       "    }\n",
       "\n",
       "    .dataframe thead th {\n",
       "        text-align: right;\n",
       "    }\n",
       "</style>\n",
       "<table border=\"1\" class=\"dataframe\">\n",
       "  <thead>\n",
       "    <tr style=\"text-align: right;\">\n",
       "      <th></th>\n",
       "      <th>이름</th>\n",
       "      <th>학과</th>\n",
       "      <th>성적</th>\n",
       "    </tr>\n",
       "  </thead>\n",
       "  <tbody>\n",
       "    <tr>\n",
       "      <th>0</th>\n",
       "      <td>아이유</td>\n",
       "      <td>국문과</td>\n",
       "      <td>3.0</td>\n",
       "    </tr>\n",
       "    <tr>\n",
       "      <th>2</th>\n",
       "      <td>홍길동</td>\n",
       "      <td>전자과</td>\n",
       "      <td>3.5</td>\n",
       "    </tr>\n",
       "    <tr>\n",
       "      <th>4</th>\n",
       "      <td>홍의선</td>\n",
       "      <td>물리</td>\n",
       "      <td>4.0</td>\n",
       "    </tr>\n",
       "  </tbody>\n",
       "</table>\n",
       "</div>"
      ],
      "text/plain": [
       "    이름   학과   성적\n",
       "0  아이유  국문과  3.0\n",
       "2  홍길동  전자과  3.5\n",
       "4  홍의선   물리  4.0"
      ]
     },
     "execution_count": 116,
     "metadata": {},
     "output_type": "execute_result"
    }
   ],
   "source": [
    "# 행에 대해서 fancy indexing\n",
    "df.loc[[0, 2, 4]]"
   ]
  },
  {
   "cell_type": "code",
   "execution_count": 120,
   "id": "f528d967",
   "metadata": {},
   "outputs": [
    {
     "data": {
      "text/html": [
       "<div>\n",
       "<style scoped>\n",
       "    .dataframe tbody tr th:only-of-type {\n",
       "        vertical-align: middle;\n",
       "    }\n",
       "\n",
       "    .dataframe tbody tr th {\n",
       "        vertical-align: top;\n",
       "    }\n",
       "\n",
       "    .dataframe thead th {\n",
       "        text-align: right;\n",
       "    }\n",
       "</style>\n",
       "<table border=\"1\" class=\"dataframe\">\n",
       "  <thead>\n",
       "    <tr style=\"text-align: right;\">\n",
       "      <th></th>\n",
       "      <th>이름</th>\n",
       "      <th>학과</th>\n",
       "      <th>성적</th>\n",
       "    </tr>\n",
       "  </thead>\n",
       "  <tbody>\n",
       "    <tr>\n",
       "      <th>0</th>\n",
       "      <td>아이유</td>\n",
       "      <td>국문과</td>\n",
       "      <td>3.0</td>\n",
       "    </tr>\n",
       "    <tr>\n",
       "      <th>2</th>\n",
       "      <td>홍길동</td>\n",
       "      <td>전자과</td>\n",
       "      <td>3.5</td>\n",
       "    </tr>\n",
       "    <tr>\n",
       "      <th>4</th>\n",
       "      <td>홍의선</td>\n",
       "      <td>물리</td>\n",
       "      <td>4.0</td>\n",
       "    </tr>\n",
       "  </tbody>\n",
       "</table>\n",
       "</div>"
      ],
      "text/plain": [
       "    이름   학과   성적\n",
       "0  아이유  국문과  3.0\n",
       "2  홍길동  전자과  3.5\n",
       "4  홍의선   물리  4.0"
      ]
     },
     "execution_count": 120,
     "metadata": {},
     "output_type": "execute_result"
    }
   ],
   "source": [
    "# 행에 대해서 fancy 인덱싱과 컬럼 슬라이싱\n",
    "df.loc[[0, 2, 4], : ]"
   ]
  },
  {
   "cell_type": "code",
   "execution_count": 123,
   "id": "9537a85e",
   "metadata": {},
   "outputs": [
    {
     "data": {
      "text/html": [
       "<div>\n",
       "<style scoped>\n",
       "    .dataframe tbody tr th:only-of-type {\n",
       "        vertical-align: middle;\n",
       "    }\n",
       "\n",
       "    .dataframe tbody tr th {\n",
       "        vertical-align: top;\n",
       "    }\n",
       "\n",
       "    .dataframe thead th {\n",
       "        text-align: right;\n",
       "    }\n",
       "</style>\n",
       "<table border=\"1\" class=\"dataframe\">\n",
       "  <thead>\n",
       "    <tr style=\"text-align: right;\">\n",
       "      <th></th>\n",
       "      <th>이름</th>\n",
       "      <th>학과</th>\n",
       "      <th>성적</th>\n",
       "    </tr>\n",
       "  </thead>\n",
       "  <tbody>\n",
       "    <tr>\n",
       "      <th>1</th>\n",
       "      <td>김연아</td>\n",
       "      <td>수학과</td>\n",
       "      <td>1.0</td>\n",
       "    </tr>\n",
       "    <tr>\n",
       "      <th>2</th>\n",
       "      <td>홍길동</td>\n",
       "      <td>전자과</td>\n",
       "      <td>3.5</td>\n",
       "    </tr>\n",
       "    <tr>\n",
       "      <th>3</th>\n",
       "      <td>김은숙</td>\n",
       "      <td>컴퓨터</td>\n",
       "      <td>2.7</td>\n",
       "    </tr>\n",
       "  </tbody>\n",
       "</table>\n",
       "</div>"
      ],
      "text/plain": [
       "    이름   학과   성적\n",
       "1  김연아  수학과  1.0\n",
       "2  홍길동  전자과  3.5\n",
       "3  김은숙  컴퓨터  2.7"
      ]
     },
     "execution_count": 123,
     "metadata": {},
     "output_type": "execute_result"
    }
   ],
   "source": [
    "# 행에 대해서 fancy 인덱싱과 원하는 컬럼 슬라이싱\n",
    "df.loc[[1,2,3],'이름':'성적'] # 1,2,3 행에서 '이름' 컬럼부터 '성적'까지의 모든 컬럼"
   ]
  },
  {
   "cell_type": "code",
   "execution_count": 124,
   "id": "42540201",
   "metadata": {},
   "outputs": [
    {
     "data": {
      "text/html": [
       "<div>\n",
       "<style scoped>\n",
       "    .dataframe tbody tr th:only-of-type {\n",
       "        vertical-align: middle;\n",
       "    }\n",
       "\n",
       "    .dataframe tbody tr th {\n",
       "        vertical-align: top;\n",
       "    }\n",
       "\n",
       "    .dataframe thead th {\n",
       "        text-align: right;\n",
       "    }\n",
       "</style>\n",
       "<table border=\"1\" class=\"dataframe\">\n",
       "  <thead>\n",
       "    <tr style=\"text-align: right;\">\n",
       "      <th></th>\n",
       "      <th>이름</th>\n",
       "      <th>성적</th>\n",
       "    </tr>\n",
       "  </thead>\n",
       "  <tbody>\n",
       "    <tr>\n",
       "      <th>1</th>\n",
       "      <td>김연아</td>\n",
       "      <td>1.0</td>\n",
       "    </tr>\n",
       "    <tr>\n",
       "      <th>2</th>\n",
       "      <td>홍길동</td>\n",
       "      <td>3.5</td>\n",
       "    </tr>\n",
       "    <tr>\n",
       "      <th>3</th>\n",
       "      <td>김은숙</td>\n",
       "      <td>2.7</td>\n",
       "    </tr>\n",
       "  </tbody>\n",
       "</table>\n",
       "</div>"
      ],
      "text/plain": [
       "    이름   성적\n",
       "1  김연아  1.0\n",
       "2  홍길동  3.5\n",
       "3  김은숙  2.7"
      ]
     },
     "execution_count": 124,
     "metadata": {},
     "output_type": "execute_result"
    }
   ],
   "source": [
    "# 행에 대해서 fancy 인덱싱과 원하는 컬럼 슬라이싱\n",
    "df.loc[[1,2,3],['이름','성적']] # '이름'과 '성적' 만 fancy indexing"
   ]
  },
  {
   "cell_type": "code",
   "execution_count": 125,
   "id": "c8dd67c4",
   "metadata": {},
   "outputs": [
    {
     "data": {
      "text/html": [
       "<div>\n",
       "<style scoped>\n",
       "    .dataframe tbody tr th:only-of-type {\n",
       "        vertical-align: middle;\n",
       "    }\n",
       "\n",
       "    .dataframe tbody tr th {\n",
       "        vertical-align: top;\n",
       "    }\n",
       "\n",
       "    .dataframe thead th {\n",
       "        text-align: right;\n",
       "    }\n",
       "</style>\n",
       "<table border=\"1\" class=\"dataframe\">\n",
       "  <thead>\n",
       "    <tr style=\"text-align: right;\">\n",
       "      <th></th>\n",
       "      <th>학과</th>\n",
       "      <th>성적</th>\n",
       "    </tr>\n",
       "  </thead>\n",
       "  <tbody>\n",
       "    <tr>\n",
       "      <th>0</th>\n",
       "      <td>국문과</td>\n",
       "      <td>3.0</td>\n",
       "    </tr>\n",
       "    <tr>\n",
       "      <th>1</th>\n",
       "      <td>수학과</td>\n",
       "      <td>1.0</td>\n",
       "    </tr>\n",
       "    <tr>\n",
       "      <th>2</th>\n",
       "      <td>전자과</td>\n",
       "      <td>3.5</td>\n",
       "    </tr>\n",
       "    <tr>\n",
       "      <th>3</th>\n",
       "      <td>컴퓨터</td>\n",
       "      <td>2.7</td>\n",
       "    </tr>\n",
       "    <tr>\n",
       "      <th>4</th>\n",
       "      <td>물리</td>\n",
       "      <td>4.0</td>\n",
       "    </tr>\n",
       "  </tbody>\n",
       "</table>\n",
       "</div>"
      ],
      "text/plain": [
       "    학과   성적\n",
       "0  국문과  3.0\n",
       "1  수학과  1.0\n",
       "2  전자과  3.5\n",
       "3  컴퓨터  2.7\n",
       "4   물리  4.0"
      ]
     },
     "execution_count": 125,
     "metadata": {},
     "output_type": "execute_result"
    }
   ],
   "source": [
    "# iloc로 컬럼 이름대신 순서를 이용하여 indexing 할 수도 있다\n",
    "df.iloc[:, 1:] # 이 dataframe에서 0: 이름, 1:학과, 2: 성적 이 된다."
   ]
  },
  {
   "cell_type": "code",
   "execution_count": 126,
   "id": "ea9d9f5f",
   "metadata": {},
   "outputs": [
    {
     "data": {
      "text/html": [
       "<div>\n",
       "<style scoped>\n",
       "    .dataframe tbody tr th:only-of-type {\n",
       "        vertical-align: middle;\n",
       "    }\n",
       "\n",
       "    .dataframe tbody tr th {\n",
       "        vertical-align: top;\n",
       "    }\n",
       "\n",
       "    .dataframe thead th {\n",
       "        text-align: right;\n",
       "    }\n",
       "</style>\n",
       "<table border=\"1\" class=\"dataframe\">\n",
       "  <thead>\n",
       "    <tr style=\"text-align: right;\">\n",
       "      <th></th>\n",
       "      <th>이름</th>\n",
       "      <th>성적</th>\n",
       "    </tr>\n",
       "  </thead>\n",
       "  <tbody>\n",
       "    <tr>\n",
       "      <th>0</th>\n",
       "      <td>아이유</td>\n",
       "      <td>3.0</td>\n",
       "    </tr>\n",
       "    <tr>\n",
       "      <th>1</th>\n",
       "      <td>김연아</td>\n",
       "      <td>1.0</td>\n",
       "    </tr>\n",
       "    <tr>\n",
       "      <th>2</th>\n",
       "      <td>홍길동</td>\n",
       "      <td>3.5</td>\n",
       "    </tr>\n",
       "  </tbody>\n",
       "</table>\n",
       "</div>"
      ],
      "text/plain": [
       "    이름   성적\n",
       "0  아이유  3.0\n",
       "1  김연아  1.0\n",
       "2  홍길동  3.5"
      ]
     },
     "execution_count": 126,
     "metadata": {},
     "output_type": "execute_result"
    }
   ],
   "source": [
    "df.iloc[[0,1,2],[0,2]]"
   ]
  },
  {
   "cell_type": "code",
   "execution_count": 127,
   "id": "5e0c0e70",
   "metadata": {},
   "outputs": [
    {
     "data": {
      "text/html": [
       "<div>\n",
       "<style scoped>\n",
       "    .dataframe tbody tr th:only-of-type {\n",
       "        vertical-align: middle;\n",
       "    }\n",
       "\n",
       "    .dataframe tbody tr th {\n",
       "        vertical-align: top;\n",
       "    }\n",
       "\n",
       "    .dataframe thead th {\n",
       "        text-align: right;\n",
       "    }\n",
       "</style>\n",
       "<table border=\"1\" class=\"dataframe\">\n",
       "  <thead>\n",
       "    <tr style=\"text-align: right;\">\n",
       "      <th></th>\n",
       "      <th>이름</th>\n",
       "      <th>성적</th>\n",
       "    </tr>\n",
       "  </thead>\n",
       "  <tbody>\n",
       "    <tr>\n",
       "      <th>0</th>\n",
       "      <td>아이유</td>\n",
       "      <td>3.0</td>\n",
       "    </tr>\n",
       "    <tr>\n",
       "      <th>1</th>\n",
       "      <td>김연아</td>\n",
       "      <td>1.0</td>\n",
       "    </tr>\n",
       "    <tr>\n",
       "      <th>2</th>\n",
       "      <td>홍길동</td>\n",
       "      <td>3.5</td>\n",
       "    </tr>\n",
       "    <tr>\n",
       "      <th>3</th>\n",
       "      <td>김은숙</td>\n",
       "      <td>2.7</td>\n",
       "    </tr>\n",
       "  </tbody>\n",
       "</table>\n",
       "</div>"
      ],
      "text/plain": [
       "    이름   성적\n",
       "0  아이유  3.0\n",
       "1  김연아  1.0\n",
       "2  홍길동  3.5\n",
       "3  김은숙  2.7"
      ]
     },
     "execution_count": 127,
     "metadata": {},
     "output_type": "execute_result"
    }
   ],
   "source": [
    "# loc + boolean indexing + fancy indexing\n",
    "# 성적이 2로 나누어지지 않는 행에서 이름, 성적만 출력\n",
    "df.loc[df['성적'] % 2 !=0 , ['이름','성적']]"
   ]
  },
  {
   "cell_type": "code",
   "execution_count": null,
   "id": "eab338da",
   "metadata": {},
   "outputs": [],
   "source": []
  }
 ],
 "metadata": {
  "kernelspec": {
   "display_name": "ds_env",
   "language": "python",
   "name": "ds_env"
  },
  "language_info": {
   "codemirror_mode": {
    "name": "ipython",
    "version": 3
   },
   "file_extension": ".py",
   "mimetype": "text/x-python",
   "name": "python",
   "nbconvert_exporter": "python",
   "pygments_lexer": "ipython3",
   "version": "3.7.1"
  }
 },
 "nbformat": 4,
 "nbformat_minor": 5
}

{
 "cells": [
  {
   "cell_type": "markdown",
   "metadata": {
    "id": "w8C_iSSpYnVO"
   },
   "source": [
    "# **데이터프레임 결합**\n"
   ]
  },
  {
   "cell_type": "markdown",
   "metadata": {
    "id": "PgakzyhIgKhS"
   },
   "source": [
    "## **1.환경준비**"
   ]
  },
  {
   "cell_type": "markdown",
   "metadata": {
    "id": "fajHvynEg-Ap"
   },
   "source": [
    "* 라이브러리 불러오기"
   ]
  },
  {
   "cell_type": "code",
   "execution_count": 1,
   "metadata": {
    "executionInfo": {
     "elapsed": 948,
     "status": "ok",
     "timestamp": 1675812177269,
     "user": {
      "displayName": "한기영",
      "userId": "13049187003176135487"
     },
     "user_tz": -540
    },
    "id": "Wj4uhna8sPHm",
    "tags": []
   },
   "outputs": [],
   "source": [
    "import pandas as pd\n",
    "import numpy as np\n",
    "import matplotlib.pyplot as plt\n",
    "import seaborn as sns"
   ]
  },
  {
   "cell_type": "markdown",
   "metadata": {
    "id": "oeEZKCu-2lWM"
   },
   "source": [
    "* 데이터 가져오기"
   ]
  },
  {
   "cell_type": "code",
   "execution_count": 2,
   "metadata": {
    "id": "qE9uXpyO6XGq",
    "tags": []
   },
   "outputs": [],
   "source": [
    "sales = pd.read_csv(\"https://raw.githubusercontent.com/DA4BAM/dataset/master/ts_sales_simple.csv\")\n",
    "\n",
    "sales1 = sales.loc[sales['Store_ID']==1]\n",
    "sales2 = sales.loc[sales['Store_ID']==2]\n",
    "sales5 = sales.loc[sales['Store_ID']==5]\n",
    "sales11 = sales.loc[sales['Store_ID']==11]\n",
    "\n",
    "products = pd.read_csv(\"https://raw.githubusercontent.com/DA4BAM/dataset/master/ts_product_master.csv\")\n",
    "stores = pd.read_csv(\"https://raw.githubusercontent.com/DA4BAM/dataset/master/ts_store_master.csv\")"
   ]
  },
  {
   "cell_type": "code",
   "execution_count": 3,
   "metadata": {
    "colab": {
     "base_uri": "https://localhost:8080/",
     "height": 206
    },
    "executionInfo": {
     "elapsed": 28,
     "status": "ok",
     "timestamp": 1673585654351,
     "user": {
      "displayName": "한기영",
      "userId": "13049187003176135487"
     },
     "user_tz": -540
    },
    "id": "P3AfPidZTfPc",
    "outputId": "a485f86c-7e0f-414d-f98d-3efd155aa3a1",
    "tags": []
   },
   "outputs": [
    {
     "data": {
      "text/html": [
       "<div>\n",
       "<style scoped>\n",
       "    .dataframe tbody tr th:only-of-type {\n",
       "        vertical-align: middle;\n",
       "    }\n",
       "\n",
       "    .dataframe tbody tr th {\n",
       "        vertical-align: top;\n",
       "    }\n",
       "\n",
       "    .dataframe thead th {\n",
       "        text-align: right;\n",
       "    }\n",
       "</style>\n",
       "<table border=\"1\" class=\"dataframe\">\n",
       "  <thead>\n",
       "    <tr style=\"text-align: right;\">\n",
       "      <th></th>\n",
       "      <th>Order_ID</th>\n",
       "      <th>Date</th>\n",
       "      <th>Store_ID</th>\n",
       "      <th>Qty</th>\n",
       "      <th>Product_ID</th>\n",
       "    </tr>\n",
       "  </thead>\n",
       "  <tbody>\n",
       "    <tr>\n",
       "      <th>0</th>\n",
       "      <td>3</td>\n",
       "      <td>2013-01-01</td>\n",
       "      <td>1</td>\n",
       "      <td>0.0</td>\n",
       "      <td>3</td>\n",
       "    </tr>\n",
       "    <tr>\n",
       "      <th>1</th>\n",
       "      <td>5</td>\n",
       "      <td>2013-01-01</td>\n",
       "      <td>1</td>\n",
       "      <td>0.0</td>\n",
       "      <td>5</td>\n",
       "    </tr>\n",
       "    <tr>\n",
       "      <th>2</th>\n",
       "      <td>7</td>\n",
       "      <td>2013-01-01</td>\n",
       "      <td>1</td>\n",
       "      <td>0.0</td>\n",
       "      <td>7</td>\n",
       "    </tr>\n",
       "    <tr>\n",
       "      <th>3</th>\n",
       "      <td>8</td>\n",
       "      <td>2013-01-01</td>\n",
       "      <td>1</td>\n",
       "      <td>0.0</td>\n",
       "      <td>8</td>\n",
       "    </tr>\n",
       "    <tr>\n",
       "      <th>4</th>\n",
       "      <td>10</td>\n",
       "      <td>2013-01-01</td>\n",
       "      <td>1</td>\n",
       "      <td>0.0</td>\n",
       "      <td>10</td>\n",
       "    </tr>\n",
       "  </tbody>\n",
       "</table>\n",
       "</div>"
      ],
      "text/plain": [
       "   Order_ID        Date  Store_ID  Qty  Product_ID\n",
       "0         3  2013-01-01         1  0.0           3\n",
       "1         5  2013-01-01         1  0.0           5\n",
       "2         7  2013-01-01         1  0.0           7\n",
       "3         8  2013-01-01         1  0.0           8\n",
       "4        10  2013-01-01         1  0.0          10"
      ]
     },
     "execution_count": 3,
     "metadata": {},
     "output_type": "execute_result"
    }
   ],
   "source": [
    "sales1.head()"
   ]
  },
  {
   "cell_type": "code",
   "execution_count": 4,
   "metadata": {
    "colab": {
     "base_uri": "https://localhost:8080/",
     "height": 206
    },
    "executionInfo": {
     "elapsed": 26,
     "status": "ok",
     "timestamp": 1673585654352,
     "user": {
      "displayName": "한기영",
      "userId": "13049187003176135487"
     },
     "user_tz": -540
    },
    "id": "SHuEayckThCw",
    "outputId": "4a9a5201-d311-4432-fc18-c88da75c7b08",
    "tags": []
   },
   "outputs": [
    {
     "data": {
      "text/html": [
       "<div>\n",
       "<style scoped>\n",
       "    .dataframe tbody tr th:only-of-type {\n",
       "        vertical-align: middle;\n",
       "    }\n",
       "\n",
       "    .dataframe tbody tr th {\n",
       "        vertical-align: top;\n",
       "    }\n",
       "\n",
       "    .dataframe thead th {\n",
       "        text-align: right;\n",
       "    }\n",
       "</style>\n",
       "<table border=\"1\" class=\"dataframe\">\n",
       "  <thead>\n",
       "    <tr style=\"text-align: right;\">\n",
       "      <th></th>\n",
       "      <th>Product_ID</th>\n",
       "      <th>Product_Code</th>\n",
       "      <th>SubCategory</th>\n",
       "      <th>Category</th>\n",
       "      <th>LeadTime</th>\n",
       "      <th>Price</th>\n",
       "    </tr>\n",
       "  </thead>\n",
       "  <tbody>\n",
       "    <tr>\n",
       "      <th>0</th>\n",
       "      <td>20</td>\n",
       "      <td>HG001</td>\n",
       "      <td>Gardening Tools</td>\n",
       "      <td>Household Goods</td>\n",
       "      <td>2</td>\n",
       "      <td>50</td>\n",
       "    </tr>\n",
       "    <tr>\n",
       "      <th>1</th>\n",
       "      <td>27</td>\n",
       "      <td>HH001</td>\n",
       "      <td>Home Appliances</td>\n",
       "      <td>Household Goods</td>\n",
       "      <td>2</td>\n",
       "      <td>150</td>\n",
       "    </tr>\n",
       "    <tr>\n",
       "      <th>2</th>\n",
       "      <td>16</td>\n",
       "      <td>HK001</td>\n",
       "      <td>Kitchen</td>\n",
       "      <td>Household Goods</td>\n",
       "      <td>2</td>\n",
       "      <td>23</td>\n",
       "    </tr>\n",
       "    <tr>\n",
       "      <th>3</th>\n",
       "      <td>15</td>\n",
       "      <td>HK002</td>\n",
       "      <td>Kitchen</td>\n",
       "      <td>Household Goods</td>\n",
       "      <td>2</td>\n",
       "      <td>41</td>\n",
       "    </tr>\n",
       "    <tr>\n",
       "      <th>4</th>\n",
       "      <td>32</td>\n",
       "      <td>GS001</td>\n",
       "      <td>Seafood</td>\n",
       "      <td>Grocery</td>\n",
       "      <td>3</td>\n",
       "      <td>34</td>\n",
       "    </tr>\n",
       "  </tbody>\n",
       "</table>\n",
       "</div>"
      ],
      "text/plain": [
       "   Product_ID Product_Code      SubCategory         Category  LeadTime  Price\n",
       "0          20        HG001  Gardening Tools  Household Goods         2     50\n",
       "1          27        HH001  Home Appliances  Household Goods         2    150\n",
       "2          16        HK001          Kitchen  Household Goods         2     23\n",
       "3          15        HK002          Kitchen  Household Goods         2     41\n",
       "4          32        GS001          Seafood          Grocery         3     34"
      ]
     },
     "execution_count": 4,
     "metadata": {},
     "output_type": "execute_result"
    }
   ],
   "source": [
    "products.head()"
   ]
  },
  {
   "cell_type": "code",
   "execution_count": 57,
   "metadata": {
    "colab": {
     "base_uri": "https://localhost:8080/",
     "height": 206
    },
    "executionInfo": {
     "elapsed": 24,
     "status": "ok",
     "timestamp": 1673585654352,
     "user": {
      "displayName": "한기영",
      "userId": "13049187003176135487"
     },
     "user_tz": -540
    },
    "id": "yJ9WaUXwTjQG",
    "outputId": "8bf6aea9-7a15-4a6b-e5b4-9dc0e18a43dd",
    "tags": []
   },
   "outputs": [
    {
     "data": {
      "text/html": [
       "<div>\n",
       "<style scoped>\n",
       "    .dataframe tbody tr th:only-of-type {\n",
       "        vertical-align: middle;\n",
       "    }\n",
       "\n",
       "    .dataframe tbody tr th {\n",
       "        vertical-align: top;\n",
       "    }\n",
       "\n",
       "    .dataframe thead th {\n",
       "        text-align: right;\n",
       "    }\n",
       "</style>\n",
       "<table border=\"1\" class=\"dataframe\">\n",
       "  <thead>\n",
       "    <tr style=\"text-align: right;\">\n",
       "      <th></th>\n",
       "      <th>Store_ID</th>\n",
       "      <th>City</th>\n",
       "      <th>State</th>\n",
       "      <th>Store_Type</th>\n",
       "    </tr>\n",
       "  </thead>\n",
       "  <tbody>\n",
       "    <tr>\n",
       "      <th>0</th>\n",
       "      <td>1</td>\n",
       "      <td>Saint Paul</td>\n",
       "      <td>Minnesota</td>\n",
       "      <td>4</td>\n",
       "    </tr>\n",
       "    <tr>\n",
       "      <th>1</th>\n",
       "      <td>2</td>\n",
       "      <td>Saint Paul</td>\n",
       "      <td>Minnesota</td>\n",
       "      <td>4</td>\n",
       "    </tr>\n",
       "    <tr>\n",
       "      <th>2</th>\n",
       "      <td>3</td>\n",
       "      <td>Saint Paul</td>\n",
       "      <td>Minnesota</td>\n",
       "      <td>4</td>\n",
       "    </tr>\n",
       "    <tr>\n",
       "      <th>3</th>\n",
       "      <td>4</td>\n",
       "      <td>Saint Paul</td>\n",
       "      <td>Minnesota</td>\n",
       "      <td>4</td>\n",
       "    </tr>\n",
       "    <tr>\n",
       "      <th>4</th>\n",
       "      <td>5</td>\n",
       "      <td>Oklahoma City</td>\n",
       "      <td>Oklahoma</td>\n",
       "      <td>4</td>\n",
       "    </tr>\n",
       "    <tr>\n",
       "      <th>5</th>\n",
       "      <td>6</td>\n",
       "      <td>Saint Paul</td>\n",
       "      <td>Minnesota</td>\n",
       "      <td>4</td>\n",
       "    </tr>\n",
       "    <tr>\n",
       "      <th>6</th>\n",
       "      <td>7</td>\n",
       "      <td>Saint Paul</td>\n",
       "      <td>Minnesota</td>\n",
       "      <td>4</td>\n",
       "    </tr>\n",
       "    <tr>\n",
       "      <th>7</th>\n",
       "      <td>8</td>\n",
       "      <td>Saint Paul</td>\n",
       "      <td>Minnesota</td>\n",
       "      <td>4</td>\n",
       "    </tr>\n",
       "    <tr>\n",
       "      <th>8</th>\n",
       "      <td>9</td>\n",
       "      <td>Saint Paul</td>\n",
       "      <td>Minnesota</td>\n",
       "      <td>2</td>\n",
       "    </tr>\n",
       "    <tr>\n",
       "      <th>9</th>\n",
       "      <td>10</td>\n",
       "      <td>Saint Paul</td>\n",
       "      <td>Minnesota</td>\n",
       "      <td>3</td>\n",
       "    </tr>\n",
       "    <tr>\n",
       "      <th>10</th>\n",
       "      <td>11</td>\n",
       "      <td>Minneapolis</td>\n",
       "      <td>Minnesota</td>\n",
       "      <td>2</td>\n",
       "    </tr>\n",
       "    <tr>\n",
       "      <th>11</th>\n",
       "      <td>12</td>\n",
       "      <td>Annapolis</td>\n",
       "      <td>Maryland</td>\n",
       "      <td>3</td>\n",
       "    </tr>\n",
       "    <tr>\n",
       "      <th>12</th>\n",
       "      <td>13</td>\n",
       "      <td>Annapolis</td>\n",
       "      <td>Maryland</td>\n",
       "      <td>3</td>\n",
       "    </tr>\n",
       "    <tr>\n",
       "      <th>13</th>\n",
       "      <td>14</td>\n",
       "      <td>Harrisburg</td>\n",
       "      <td>Pennsylvania</td>\n",
       "      <td>3</td>\n",
       "    </tr>\n",
       "    <tr>\n",
       "      <th>14</th>\n",
       "      <td>15</td>\n",
       "      <td>Nashville</td>\n",
       "      <td>Tennessee</td>\n",
       "      <td>3</td>\n",
       "    </tr>\n",
       "    <tr>\n",
       "      <th>15</th>\n",
       "      <td>16</td>\n",
       "      <td>Oklahoma City</td>\n",
       "      <td>Oklahoma</td>\n",
       "      <td>3</td>\n",
       "    </tr>\n",
       "    <tr>\n",
       "      <th>16</th>\n",
       "      <td>17</td>\n",
       "      <td>Saint Paul</td>\n",
       "      <td>Minnesota</td>\n",
       "      <td>3</td>\n",
       "    </tr>\n",
       "    <tr>\n",
       "      <th>17</th>\n",
       "      <td>18</td>\n",
       "      <td>Saint Paul</td>\n",
       "      <td>Minnesota</td>\n",
       "      <td>2</td>\n",
       "    </tr>\n",
       "    <tr>\n",
       "      <th>18</th>\n",
       "      <td>19</td>\n",
       "      <td>Boston</td>\n",
       "      <td>Massachusetts</td>\n",
       "      <td>3</td>\n",
       "    </tr>\n",
       "    <tr>\n",
       "      <th>19</th>\n",
       "      <td>20</td>\n",
       "      <td>Saint Paul</td>\n",
       "      <td>Minnesota</td>\n",
       "      <td>2</td>\n",
       "    </tr>\n",
       "    <tr>\n",
       "      <th>20</th>\n",
       "      <td>21</td>\n",
       "      <td>Oklahoma City</td>\n",
       "      <td>Oklahoma</td>\n",
       "      <td>2</td>\n",
       "    </tr>\n",
       "    <tr>\n",
       "      <th>21</th>\n",
       "      <td>22</td>\n",
       "      <td>LA</td>\n",
       "      <td>California</td>\n",
       "      <td>3</td>\n",
       "    </tr>\n",
       "    <tr>\n",
       "      <th>22</th>\n",
       "      <td>23</td>\n",
       "      <td>Phoenix</td>\n",
       "      <td>Arizona</td>\n",
       "      <td>4</td>\n",
       "    </tr>\n",
       "    <tr>\n",
       "      <th>23</th>\n",
       "      <td>24</td>\n",
       "      <td>Raleigh</td>\n",
       "      <td>North Carolina</td>\n",
       "      <td>4</td>\n",
       "    </tr>\n",
       "    <tr>\n",
       "      <th>24</th>\n",
       "      <td>25</td>\n",
       "      <td>Olympia</td>\n",
       "      <td>Washington</td>\n",
       "      <td>4</td>\n",
       "    </tr>\n",
       "    <tr>\n",
       "      <th>25</th>\n",
       "      <td>26</td>\n",
       "      <td>Raleigh</td>\n",
       "      <td>North Carolina</td>\n",
       "      <td>4</td>\n",
       "    </tr>\n",
       "    <tr>\n",
       "      <th>26</th>\n",
       "      <td>27</td>\n",
       "      <td>Charlotte</td>\n",
       "      <td>North Carolina</td>\n",
       "      <td>4</td>\n",
       "    </tr>\n",
       "    <tr>\n",
       "      <th>27</th>\n",
       "      <td>28</td>\n",
       "      <td>Raleigh</td>\n",
       "      <td>North Carolina</td>\n",
       "      <td>5</td>\n",
       "    </tr>\n",
       "    <tr>\n",
       "      <th>28</th>\n",
       "      <td>29</td>\n",
       "      <td>Raleigh</td>\n",
       "      <td>North Carolina</td>\n",
       "      <td>5</td>\n",
       "    </tr>\n",
       "    <tr>\n",
       "      <th>29</th>\n",
       "      <td>30</td>\n",
       "      <td>Raleigh</td>\n",
       "      <td>North Carolina</td>\n",
       "      <td>3</td>\n",
       "    </tr>\n",
       "  </tbody>\n",
       "</table>\n",
       "</div>"
      ],
      "text/plain": [
       "    Store_ID           City           State  Store_Type\n",
       "0          1     Saint Paul       Minnesota           4\n",
       "1          2     Saint Paul       Minnesota           4\n",
       "2          3     Saint Paul       Minnesota           4\n",
       "3          4     Saint Paul       Minnesota           4\n",
       "4          5  Oklahoma City        Oklahoma           4\n",
       "5          6     Saint Paul       Minnesota           4\n",
       "6          7     Saint Paul       Minnesota           4\n",
       "7          8     Saint Paul       Minnesota           4\n",
       "8          9     Saint Paul       Minnesota           2\n",
       "9         10     Saint Paul       Minnesota           3\n",
       "10        11    Minneapolis       Minnesota           2\n",
       "11        12      Annapolis        Maryland           3\n",
       "12        13      Annapolis        Maryland           3\n",
       "13        14     Harrisburg    Pennsylvania           3\n",
       "14        15      Nashville       Tennessee           3\n",
       "15        16  Oklahoma City        Oklahoma           3\n",
       "16        17     Saint Paul       Minnesota           3\n",
       "17        18     Saint Paul       Minnesota           2\n",
       "18        19         Boston   Massachusetts           3\n",
       "19        20     Saint Paul       Minnesota           2\n",
       "20        21  Oklahoma City        Oklahoma           2\n",
       "21        22             LA      California           3\n",
       "22        23        Phoenix         Arizona           4\n",
       "23        24        Raleigh  North Carolina           4\n",
       "24        25        Olympia      Washington           4\n",
       "25        26        Raleigh  North Carolina           4\n",
       "26        27      Charlotte  North Carolina           4\n",
       "27        28        Raleigh  North Carolina           5\n",
       "28        29        Raleigh  North Carolina           5\n",
       "29        30        Raleigh  North Carolina           3"
      ]
     },
     "execution_count": 57,
     "metadata": {},
     "output_type": "execute_result"
    }
   ],
   "source": [
    "stores.head(30)"
   ]
  },
  {
   "cell_type": "markdown",
   "metadata": {
    "id": "_QkN9xQsUJ2P"
   },
   "source": [
    "## **2.결합1 : 붙이기 concat()**"
   ]
  },
  {
   "cell_type": "markdown",
   "metadata": {
    "id": "MarKYX5hU8hf"
   },
   "source": [
    "* 데이터를 생성해 봅시다."
   ]
  },
  {
   "cell_type": "code",
   "execution_count": 14,
   "metadata": {
    "colab": {
     "base_uri": "https://localhost:8080/",
     "height": 207
    },
    "executionInfo": {
     "elapsed": 18,
     "status": "ok",
     "timestamp": 1673585654352,
     "user": {
      "displayName": "한기영",
      "userId": "13049187003176135487"
     },
     "user_tz": -540
    },
    "id": "wZ_EzvagUX4Z",
    "outputId": "68b7fa7e-0e7c-40f2-9483-df07f681a78d",
    "tags": []
   },
   "outputs": [
    {
     "data": {
      "text/html": [
       "<div>\n",
       "<style scoped>\n",
       "    .dataframe tbody tr th:only-of-type {\n",
       "        vertical-align: middle;\n",
       "    }\n",
       "\n",
       "    .dataframe tbody tr th {\n",
       "        vertical-align: top;\n",
       "    }\n",
       "\n",
       "    .dataframe thead th {\n",
       "        text-align: right;\n",
       "    }\n",
       "</style>\n",
       "<table border=\"1\" class=\"dataframe\">\n",
       "  <thead>\n",
       "    <tr style=\"text-align: right;\">\n",
       "      <th></th>\n",
       "      <th>A</th>\n",
       "      <th>B</th>\n",
       "    </tr>\n",
       "  </thead>\n",
       "  <tbody>\n",
       "    <tr>\n",
       "      <th>0</th>\n",
       "      <td>10</td>\n",
       "      <td>15</td>\n",
       "    </tr>\n",
       "    <tr>\n",
       "      <th>1</th>\n",
       "      <td>25</td>\n",
       "      <td>30</td>\n",
       "    </tr>\n",
       "  </tbody>\n",
       "</table>\n",
       "</div>"
      ],
      "text/plain": [
       "    A   B\n",
       "0  10  15\n",
       "1  25  30"
      ]
     },
     "metadata": {},
     "output_type": "display_data"
    },
    {
     "data": {
      "text/html": [
       "<div>\n",
       "<style scoped>\n",
       "    .dataframe tbody tr th:only-of-type {\n",
       "        vertical-align: middle;\n",
       "    }\n",
       "\n",
       "    .dataframe tbody tr th {\n",
       "        vertical-align: top;\n",
       "    }\n",
       "\n",
       "    .dataframe thead th {\n",
       "        text-align: right;\n",
       "    }\n",
       "</style>\n",
       "<table border=\"1\" class=\"dataframe\">\n",
       "  <thead>\n",
       "    <tr style=\"text-align: right;\">\n",
       "      <th></th>\n",
       "      <th>A</th>\n",
       "      <th>C</th>\n",
       "    </tr>\n",
       "  </thead>\n",
       "  <tbody>\n",
       "    <tr>\n",
       "      <th>0</th>\n",
       "      <td>20</td>\n",
       "      <td>35</td>\n",
       "    </tr>\n",
       "    <tr>\n",
       "      <th>2</th>\n",
       "      <td>50</td>\n",
       "      <td>40</td>\n",
       "    </tr>\n",
       "  </tbody>\n",
       "</table>\n",
       "</div>"
      ],
      "text/plain": [
       "    A   C\n",
       "0  20  35\n",
       "2  50  40"
      ]
     },
     "metadata": {},
     "output_type": "display_data"
    }
   ],
   "source": [
    "df1 = pd.DataFrame({'A':[10,25], 'B':[15,30]})\n",
    "df2 = pd.DataFrame({'A':[20,30, 50], 'C':[35,30, 40]})\n",
    "df2.drop([1], inplace = True)\n",
    "\n",
    "display(df1)\n",
    "display(df2)"
   ]
  },
  {
   "cell_type": "markdown",
   "metadata": {
    "id": "clAUrp5XVCA9"
   },
   "source": [
    "### **(1) 세로로 합치기 : axis = 0**"
   ]
  },
  {
   "cell_type": "markdown",
   "metadata": {
    "id": "STeaVJv0VJb4"
   },
   "source": [
    "* join = 'inner'"
   ]
  },
  {
   "cell_type": "code",
   "execution_count": null,
   "metadata": {
    "colab": {
     "base_uri": "https://localhost:8080/",
     "height": 175
    },
    "executionInfo": {
     "elapsed": 704,
     "status": "ok",
     "timestamp": 1673585655040,
     "user": {
      "displayName": "한기영",
      "userId": "13049187003176135487"
     },
     "user_tz": -540
    },
    "id": "7VKskmgyU7_D",
    "outputId": "64d15156-ea07-4446-a5b5-f22b13db78a6"
   },
   "outputs": [],
   "source": [
    "pd.concat([df1, df2], axis = 0, join = 'inner')"
   ]
  },
  {
   "cell_type": "markdown",
   "metadata": {
    "id": "Pa4EFD-uVSj_"
   },
   "source": [
    "* join = 'outer'"
   ]
  },
  {
   "cell_type": "code",
   "execution_count": null,
   "metadata": {
    "colab": {
     "base_uri": "https://localhost:8080/",
     "height": 175
    },
    "executionInfo": {
     "elapsed": 90,
     "status": "ok",
     "timestamp": 1673585655041,
     "user": {
      "displayName": "한기영",
      "userId": "13049187003176135487"
     },
     "user_tz": -540
    },
    "id": "S_sMDGzsVSkA",
    "outputId": "8478b156-eb33-450b-f837-988b5d9c1405"
   },
   "outputs": [],
   "source": [
    "pd.concat([df1, df2], axis = 0, join = 'outer')"
   ]
  },
  {
   "cell_type": "markdown",
   "metadata": {
    "id": "z-IlfZMAVXdZ"
   },
   "source": [
    "### **(2) 가로로 합치기 : axis = 1**"
   ]
  },
  {
   "cell_type": "markdown",
   "metadata": {
    "id": "Ur9ZFS9rVXda"
   },
   "source": [
    "* join = 'inner'"
   ]
  },
  {
   "cell_type": "code",
   "execution_count": null,
   "metadata": {
    "colab": {
     "base_uri": "https://localhost:8080/",
     "height": 81
    },
    "executionInfo": {
     "elapsed": 89,
     "status": "ok",
     "timestamp": 1673585655043,
     "user": {
      "displayName": "한기영",
      "userId": "13049187003176135487"
     },
     "user_tz": -540
    },
    "id": "Vhoat2HVVXda",
    "outputId": "491a5bc6-9d71-4675-a702-615f738363da"
   },
   "outputs": [],
   "source": [
    "pd.concat([df1, df2], axis = 1, join = 'inner')"
   ]
  },
  {
   "cell_type": "markdown",
   "metadata": {
    "id": "wduBNunVVXda"
   },
   "source": [
    "* join = 'outer'"
   ]
  },
  {
   "cell_type": "code",
   "execution_count": null,
   "metadata": {
    "colab": {
     "base_uri": "https://localhost:8080/",
     "height": 143
    },
    "executionInfo": {
     "elapsed": 89,
     "status": "ok",
     "timestamp": 1673585655044,
     "user": {
      "displayName": "한기영",
      "userId": "13049187003176135487"
     },
     "user_tz": -540
    },
    "id": "qkscVsGgVXda",
    "outputId": "1cafbbe9-6fce-4b0e-bfc3-28eb775858bb"
   },
   "outputs": [],
   "source": [
    "pd.concat([df1, df2], axis = 1, join = 'outer')"
   ]
  },
  {
   "cell_type": "markdown",
   "metadata": {
    "id": "FCNi3cMP-1T6"
   },
   "source": [
    "<img src='https://raw.githubusercontent.com/jangrae/img/master/practice_01.png' width=120 align=\"left\"/>"
   ]
  },
  {
   "cell_type": "markdown",
   "metadata": {
    "id": "BB42jPlS-1UL"
   },
   "source": [
    "[문1] sales1,2,5,11 데이터프레임을 하나로 합칩시다. 어떻게 합치는게 좋을까요?"
   ]
  },
  {
   "cell_type": "code",
   "execution_count": 16,
   "metadata": {
    "id": "Ogxjfp_s_NKU",
    "tags": []
   },
   "outputs": [
    {
     "data": {
      "text/html": [
       "<div>\n",
       "<style scoped>\n",
       "    .dataframe tbody tr th:only-of-type {\n",
       "        vertical-align: middle;\n",
       "    }\n",
       "\n",
       "    .dataframe tbody tr th {\n",
       "        vertical-align: top;\n",
       "    }\n",
       "\n",
       "    .dataframe thead th {\n",
       "        text-align: right;\n",
       "    }\n",
       "</style>\n",
       "<table border=\"1\" class=\"dataframe\">\n",
       "  <thead>\n",
       "    <tr style=\"text-align: right;\">\n",
       "      <th></th>\n",
       "      <th>Order_ID</th>\n",
       "      <th>Date</th>\n",
       "      <th>Store_ID</th>\n",
       "      <th>Qty</th>\n",
       "      <th>Product_ID</th>\n",
       "    </tr>\n",
       "  </thead>\n",
       "  <tbody>\n",
       "    <tr>\n",
       "      <th>0</th>\n",
       "      <td>3</td>\n",
       "      <td>2013-01-01</td>\n",
       "      <td>1</td>\n",
       "      <td>0.000</td>\n",
       "      <td>3</td>\n",
       "    </tr>\n",
       "    <tr>\n",
       "      <th>1</th>\n",
       "      <td>5</td>\n",
       "      <td>2013-01-01</td>\n",
       "      <td>1</td>\n",
       "      <td>0.000</td>\n",
       "      <td>5</td>\n",
       "    </tr>\n",
       "    <tr>\n",
       "      <th>2</th>\n",
       "      <td>7</td>\n",
       "      <td>2013-01-01</td>\n",
       "      <td>1</td>\n",
       "      <td>0.000</td>\n",
       "      <td>7</td>\n",
       "    </tr>\n",
       "    <tr>\n",
       "      <th>3</th>\n",
       "      <td>8</td>\n",
       "      <td>2013-01-01</td>\n",
       "      <td>1</td>\n",
       "      <td>0.000</td>\n",
       "      <td>8</td>\n",
       "    </tr>\n",
       "    <tr>\n",
       "      <th>4</th>\n",
       "      <td>10</td>\n",
       "      <td>2013-01-01</td>\n",
       "      <td>1</td>\n",
       "      <td>0.000</td>\n",
       "      <td>10</td>\n",
       "    </tr>\n",
       "    <tr>\n",
       "      <th>...</th>\n",
       "      <td>...</td>\n",
       "      <td>...</td>\n",
       "      <td>...</td>\n",
       "      <td>...</td>\n",
       "      <td>...</td>\n",
       "    </tr>\n",
       "    <tr>\n",
       "      <th>24340</th>\n",
       "      <td>53548</td>\n",
       "      <td>2013-01-31</td>\n",
       "      <td>11</td>\n",
       "      <td>10.000</td>\n",
       "      <td>22</td>\n",
       "    </tr>\n",
       "    <tr>\n",
       "      <th>24341</th>\n",
       "      <td>53550</td>\n",
       "      <td>2013-01-31</td>\n",
       "      <td>11</td>\n",
       "      <td>641.507</td>\n",
       "      <td>24</td>\n",
       "    </tr>\n",
       "    <tr>\n",
       "      <th>24342</th>\n",
       "      <td>53553</td>\n",
       "      <td>2013-01-31</td>\n",
       "      <td>11</td>\n",
       "      <td>0.000</td>\n",
       "      <td>27</td>\n",
       "    </tr>\n",
       "    <tr>\n",
       "      <th>24343</th>\n",
       "      <td>53555</td>\n",
       "      <td>2013-01-31</td>\n",
       "      <td>11</td>\n",
       "      <td>27.000</td>\n",
       "      <td>29</td>\n",
       "    </tr>\n",
       "    <tr>\n",
       "      <th>24344</th>\n",
       "      <td>53558</td>\n",
       "      <td>2013-01-31</td>\n",
       "      <td>11</td>\n",
       "      <td>13.000</td>\n",
       "      <td>32</td>\n",
       "    </tr>\n",
       "  </tbody>\n",
       "</table>\n",
       "<p>1860 rows × 5 columns</p>\n",
       "</div>"
      ],
      "text/plain": [
       "       Order_ID        Date  Store_ID      Qty  Product_ID\n",
       "0             3  2013-01-01         1    0.000           3\n",
       "1             5  2013-01-01         1    0.000           5\n",
       "2             7  2013-01-01         1    0.000           7\n",
       "3             8  2013-01-01         1    0.000           8\n",
       "4            10  2013-01-01         1    0.000          10\n",
       "...         ...         ...       ...      ...         ...\n",
       "24340     53548  2013-01-31        11   10.000          22\n",
       "24341     53550  2013-01-31        11  641.507          24\n",
       "24342     53553  2013-01-31        11    0.000          27\n",
       "24343     53555  2013-01-31        11   27.000          29\n",
       "24344     53558  2013-01-31        11   13.000          32\n",
       "\n",
       "[1860 rows x 5 columns]"
      ]
     },
     "execution_count": 16,
     "metadata": {},
     "output_type": "execute_result"
    }
   ],
   "source": [
    "pd.concat([sales1,sales2,sales5,sales11], axis=0, join='inner')"
   ]
  },
  {
   "cell_type": "markdown",
   "metadata": {
    "id": "LmDxMpPyWU0u"
   },
   "source": [
    "[문2] (조금 어려운 문제!)  \n",
    "일별, 매장별 판매량 합계를 구해 봅시다.  \n",
    "groupby, pd.concat 을 이용하여 다음과 같은 결과를 얻도록 코드를 작성해봅시다.\n",
    "\n",
    "* 힌트\n",
    "    * 1) sales1, 2, 5,11 로 부터 각각 일별 판매량 합계 집계하기\n",
    "        * 집계시 .agg() 를 이용하여 열이름 변경하거나, 집계후 열이름 변경하기\n",
    "    * 2) pd.concat 으로 가로로 합치기\n",
    "\n"
   ]
  },
  {
   "cell_type": "code",
   "execution_count": null,
   "metadata": {
    "id": "b6PCePHYWU0v"
   },
   "outputs": [],
   "source": []
  },
  {
   "cell_type": "code",
   "execution_count": null,
   "metadata": {
    "colab": {
     "base_uri": "https://localhost:8080/",
     "height": 1000
    },
    "executionInfo": {
     "elapsed": 84,
     "status": "ok",
     "timestamp": 1673585655047,
     "user": {
      "displayName": "한기영",
      "userId": "13049187003176135487"
     },
     "user_tz": -540
    },
    "id": "7ztfAQDYX8jh",
    "outputId": "cd695958-4c5b-4816-c85f-c028f4564e5c"
   },
   "outputs": [],
   "source": []
  },
  {
   "cell_type": "markdown",
   "metadata": {
    "id": "CJSLj5laWOaP"
   },
   "source": [
    "## **3.결합 ① : 조인 join(merge)**"
   ]
  },
  {
   "cell_type": "markdown",
   "metadata": {
    "id": "PzK83V1nWOaQ"
   },
   "source": [
    "* 판다스에서 join은 굉장히 간단합니다.\n",
    "* 자동으로 key를 잡아줍니다\n",
    "* default로 inner join을 합니다."
   ]
  },
  {
   "cell_type": "code",
   "execution_count": 96,
   "metadata": {
    "colab": {
     "base_uri": "https://localhost:8080/",
     "height": 207
    },
    "executionInfo": {
     "elapsed": 83,
     "status": "ok",
     "timestamp": 1673585655048,
     "user": {
      "displayName": "한기영",
      "userId": "13049187003176135487"
     },
     "user_tz": -540
    },
    "id": "nYGB163qWOaR",
    "outputId": "daeed5b7-6b2b-480f-aba5-1bd702a43dad",
    "tags": []
   },
   "outputs": [
    {
     "data": {
      "text/html": [
       "<div>\n",
       "<style scoped>\n",
       "    .dataframe tbody tr th:only-of-type {\n",
       "        vertical-align: middle;\n",
       "    }\n",
       "\n",
       "    .dataframe tbody tr th {\n",
       "        vertical-align: top;\n",
       "    }\n",
       "\n",
       "    .dataframe thead th {\n",
       "        text-align: right;\n",
       "    }\n",
       "</style>\n",
       "<table border=\"1\" class=\"dataframe\">\n",
       "  <thead>\n",
       "    <tr style=\"text-align: right;\">\n",
       "      <th></th>\n",
       "      <th>A</th>\n",
       "      <th>B</th>\n",
       "      <th>C</th>\n",
       "    </tr>\n",
       "  </thead>\n",
       "  <tbody>\n",
       "    <tr>\n",
       "      <th>0</th>\n",
       "      <td>1</td>\n",
       "      <td>15</td>\n",
       "      <td>20</td>\n",
       "    </tr>\n",
       "    <tr>\n",
       "      <th>1</th>\n",
       "      <td>2</td>\n",
       "      <td>30</td>\n",
       "      <td>25</td>\n",
       "    </tr>\n",
       "  </tbody>\n",
       "</table>\n",
       "</div>"
      ],
      "text/plain": [
       "   A   B   C\n",
       "0  1  15  20\n",
       "1  2  30  25"
      ]
     },
     "metadata": {},
     "output_type": "display_data"
    },
    {
     "data": {
      "text/html": [
       "<div>\n",
       "<style scoped>\n",
       "    .dataframe tbody tr th:only-of-type {\n",
       "        vertical-align: middle;\n",
       "    }\n",
       "\n",
       "    .dataframe tbody tr th {\n",
       "        vertical-align: top;\n",
       "    }\n",
       "\n",
       "    .dataframe thead th {\n",
       "        text-align: right;\n",
       "    }\n",
       "</style>\n",
       "<table border=\"1\" class=\"dataframe\">\n",
       "  <thead>\n",
       "    <tr style=\"text-align: right;\">\n",
       "      <th></th>\n",
       "      <th>A</th>\n",
       "      <th>D</th>\n",
       "    </tr>\n",
       "  </thead>\n",
       "  <tbody>\n",
       "    <tr>\n",
       "      <th>0</th>\n",
       "      <td>2</td>\n",
       "      <td>20</td>\n",
       "    </tr>\n",
       "    <tr>\n",
       "      <th>1</th>\n",
       "      <td>3</td>\n",
       "      <td>35</td>\n",
       "    </tr>\n",
       "  </tbody>\n",
       "</table>\n",
       "</div>"
      ],
      "text/plain": [
       "   A   D\n",
       "0  2  20\n",
       "1  3  35"
      ]
     },
     "metadata": {},
     "output_type": "display_data"
    }
   ],
   "source": [
    "df1 = pd.DataFrame({'A':[1,2], 'B':[15,30], 'C':[20, 25]})\n",
    "df2 = pd.DataFrame({'A':[2,3], 'D':[20, 35]})\n",
    "\n",
    "display(df1)\n",
    "display(df2)"
   ]
  },
  {
   "cell_type": "markdown",
   "metadata": {
    "id": "r2y6GrZBbAk4"
   },
   "source": [
    "### **(1) inner merge**"
   ]
  },
  {
   "cell_type": "code",
   "execution_count": 97,
   "metadata": {
    "colab": {
     "base_uri": "https://localhost:8080/",
     "height": 81
    },
    "executionInfo": {
     "elapsed": 82,
     "status": "ok",
     "timestamp": 1673585655049,
     "user": {
      "displayName": "한기영",
      "userId": "13049187003176135487"
     },
     "user_tz": -540
    },
    "id": "Nr4WbyzAa8iX",
    "outputId": "119f756e-88cf-4937-abef-ebacbf149a5d",
    "tags": []
   },
   "outputs": [
    {
     "data": {
      "text/html": [
       "<div>\n",
       "<style scoped>\n",
       "    .dataframe tbody tr th:only-of-type {\n",
       "        vertical-align: middle;\n",
       "    }\n",
       "\n",
       "    .dataframe tbody tr th {\n",
       "        vertical-align: top;\n",
       "    }\n",
       "\n",
       "    .dataframe thead th {\n",
       "        text-align: right;\n",
       "    }\n",
       "</style>\n",
       "<table border=\"1\" class=\"dataframe\">\n",
       "  <thead>\n",
       "    <tr style=\"text-align: right;\">\n",
       "      <th></th>\n",
       "      <th>A</th>\n",
       "      <th>B</th>\n",
       "      <th>C</th>\n",
       "      <th>D</th>\n",
       "    </tr>\n",
       "  </thead>\n",
       "  <tbody>\n",
       "    <tr>\n",
       "      <th>0</th>\n",
       "      <td>2</td>\n",
       "      <td>30</td>\n",
       "      <td>25</td>\n",
       "      <td>20</td>\n",
       "    </tr>\n",
       "  </tbody>\n",
       "</table>\n",
       "</div>"
      ],
      "text/plain": [
       "   A   B   C   D\n",
       "0  2  30  25  20"
      ]
     },
     "execution_count": 97,
     "metadata": {},
     "output_type": "execute_result"
    }
   ],
   "source": [
    "pd.merge(df1, df2, how = 'inner', on = 'A')"
   ]
  },
  {
   "cell_type": "code",
   "execution_count": 27,
   "metadata": {
    "colab": {
     "base_uri": "https://localhost:8080/",
     "height": 81
    },
    "executionInfo": {
     "elapsed": 81,
     "status": "ok",
     "timestamp": 1673585655050,
     "user": {
      "displayName": "한기영",
      "userId": "13049187003176135487"
     },
     "user_tz": -540
    },
    "id": "YLh3kqTscb5P",
    "outputId": "6e4e147d-85db-4271-91b9-41192e0a7d67",
    "tags": []
   },
   "outputs": [
    {
     "data": {
      "text/html": [
       "<div>\n",
       "<style scoped>\n",
       "    .dataframe tbody tr th:only-of-type {\n",
       "        vertical-align: middle;\n",
       "    }\n",
       "\n",
       "    .dataframe tbody tr th {\n",
       "        vertical-align: top;\n",
       "    }\n",
       "\n",
       "    .dataframe thead th {\n",
       "        text-align: right;\n",
       "    }\n",
       "</style>\n",
       "<table border=\"1\" class=\"dataframe\">\n",
       "  <thead>\n",
       "    <tr style=\"text-align: right;\">\n",
       "      <th></th>\n",
       "      <th>A</th>\n",
       "      <th>B</th>\n",
       "      <th>C</th>\n",
       "      <th>D</th>\n",
       "    </tr>\n",
       "  </thead>\n",
       "  <tbody>\n",
       "    <tr>\n",
       "      <th>0</th>\n",
       "      <td>2</td>\n",
       "      <td>30</td>\n",
       "      <td>25</td>\n",
       "      <td>20</td>\n",
       "    </tr>\n",
       "  </tbody>\n",
       "</table>\n",
       "</div>"
      ],
      "text/plain": [
       "   A   B   C   D\n",
       "0  2  30  25  20"
      ]
     },
     "execution_count": 27,
     "metadata": {},
     "output_type": "execute_result"
    }
   ],
   "source": [
    "pd.merge(df1, df2, how = 'inner')\n",
    "# 알아서 같은 열을 기준으로 병합, \n",
    "# 같은 열이 여러 개이면 해당 열의 값들이 다 같아야함\n"
   ]
  },
  {
   "cell_type": "markdown",
   "metadata": {
    "id": "N0280Qt5cZNX"
   },
   "source": [
    "### **(2) left merge**"
   ]
  },
  {
   "cell_type": "code",
   "execution_count": null,
   "metadata": {
    "colab": {
     "base_uri": "https://localhost:8080/",
     "height": 112
    },
    "executionInfo": {
     "elapsed": 80,
     "status": "ok",
     "timestamp": 1673585655051,
     "user": {
      "displayName": "한기영",
      "userId": "13049187003176135487"
     },
     "user_tz": -540
    },
    "id": "SITN2TeKWOaR",
    "outputId": "1260569a-7ad1-487a-edad-3986f932f9d5"
   },
   "outputs": [],
   "source": [
    "pd.merge(df1, df2, how = 'left')"
   ]
  },
  {
   "cell_type": "markdown",
   "metadata": {
    "id": "5zfg_W7WckSZ"
   },
   "source": [
    "### **(3) right merge**"
   ]
  },
  {
   "cell_type": "code",
   "execution_count": null,
   "metadata": {
    "colab": {
     "base_uri": "https://localhost:8080/",
     "height": 112
    },
    "executionInfo": {
     "elapsed": 79,
     "status": "ok",
     "timestamp": 1673585655052,
     "user": {
      "displayName": "한기영",
      "userId": "13049187003176135487"
     },
     "user_tz": -540
    },
    "id": "vBFJvYfzckSZ",
    "outputId": "3e99dc20-13bd-448c-8cfb-6a5c5bfc8900"
   },
   "outputs": [],
   "source": [
    "pd.merge(df1, df2, how = 'right')"
   ]
  },
  {
   "cell_type": "markdown",
   "metadata": {
    "id": "IPN07KKOcsnI"
   },
   "source": [
    "<img src='https://raw.githubusercontent.com/jangrae/img/master/practice_01.png' width=120 align=\"left\"/>"
   ]
  },
  {
   "cell_type": "markdown",
   "metadata": {
    "id": "trjHhUlLcsnJ"
   },
   "source": [
    "[문1] 일별, 매장별 판매량 합계를 구해 봅시다.  \n",
    "groupby, pd.merge 을 이용하여 다음과 같은 결과를 얻도록 코드를 작성해봅시다.\n",
    "\n",
    "* 힌트\n",
    "    * 1) sales1, 2, 5,11 로 부터 각각 일별 판매량 합계 집계하기\n",
    "        * 집계시 .agg() 를 이용하여 열이름 변경하거나, 집계후 열이름 변경하기\n",
    "    * 2) pd.merge 으로 결합하기\n",
    "\n"
   ]
  },
  {
   "cell_type": "code",
   "execution_count": 40,
   "metadata": {
    "id": "ki3Ho9pfc5Ac",
    "tags": []
   },
   "outputs": [],
   "source": []
  },
  {
   "cell_type": "code",
   "execution_count": 44,
   "metadata": {
    "colab": {
     "base_uri": "https://localhost:8080/",
     "height": 1000
    },
    "executionInfo": {
     "elapsed": 78,
     "status": "ok",
     "timestamp": 1673585655053,
     "user": {
      "displayName": "한기영",
      "userId": "13049187003176135487"
     },
     "user_tz": -540
    },
    "id": "q0-0wJx8c5Ad",
    "outputId": "f35b0b97-3c43-41c1-ee9e-1a747ebe9e8e",
    "tags": []
   },
   "outputs": [
    {
     "data": {
      "text/plain": [
       "count             31\n",
       "unique            31\n",
       "top       2013-01-01\n",
       "freq               1\n",
       "Name: Date, dtype: object"
      ]
     },
     "execution_count": 44,
     "metadata": {},
     "output_type": "execute_result"
    }
   ],
   "source": []
  },
  {
   "cell_type": "code",
   "execution_count": 43,
   "metadata": {
    "tags": []
   },
   "outputs": [
    {
     "data": {
      "text/html": [
       "<div>\n",
       "<style scoped>\n",
       "    .dataframe tbody tr th:only-of-type {\n",
       "        vertical-align: middle;\n",
       "    }\n",
       "\n",
       "    .dataframe tbody tr th {\n",
       "        vertical-align: top;\n",
       "    }\n",
       "\n",
       "    .dataframe thead th {\n",
       "        text-align: right;\n",
       "    }\n",
       "</style>\n",
       "<table border=\"1\" class=\"dataframe\">\n",
       "  <thead>\n",
       "    <tr style=\"text-align: right;\">\n",
       "      <th></th>\n",
       "      <th>Date</th>\n",
       "      <th>Qty1_Sum</th>\n",
       "      <th>Qty2_Sum</th>\n",
       "      <th>Qty5_Sum</th>\n",
       "      <th>Qty11_Sum</th>\n",
       "    </tr>\n",
       "  </thead>\n",
       "  <tbody>\n",
       "    <tr>\n",
       "      <th>0</th>\n",
       "      <td>2013-01-01</td>\n",
       "      <td>0.000000</td>\n",
       "      <td>0.000000</td>\n",
       "      <td>0.000000</td>\n",
       "      <td>0.000000</td>\n",
       "    </tr>\n",
       "    <tr>\n",
       "      <th>1</th>\n",
       "      <td>2013-01-02</td>\n",
       "      <td>6760.782000</td>\n",
       "      <td>9221.338001</td>\n",
       "      <td>9404.229020</td>\n",
       "      <td>16593.312000</td>\n",
       "    </tr>\n",
       "    <tr>\n",
       "      <th>2</th>\n",
       "      <td>2013-01-03</td>\n",
       "      <td>5348.384001</td>\n",
       "      <td>6830.089000</td>\n",
       "      <td>6932.685000</td>\n",
       "      <td>11032.676040</td>\n",
       "    </tr>\n",
       "    <tr>\n",
       "      <th>3</th>\n",
       "      <td>2013-01-04</td>\n",
       "      <td>5390.445001</td>\n",
       "      <td>6742.984000</td>\n",
       "      <td>6567.938000</td>\n",
       "      <td>10962.687002</td>\n",
       "    </tr>\n",
       "    <tr>\n",
       "      <th>4</th>\n",
       "      <td>2013-01-05</td>\n",
       "      <td>5787.839000</td>\n",
       "      <td>8583.055000</td>\n",
       "      <td>7276.800000</td>\n",
       "      <td>13315.896000</td>\n",
       "    </tr>\n",
       "    <tr>\n",
       "      <th>5</th>\n",
       "      <td>2013-01-06</td>\n",
       "      <td>2007.194000</td>\n",
       "      <td>9317.139000</td>\n",
       "      <td>9578.077030</td>\n",
       "      <td>14165.615050</td>\n",
       "    </tr>\n",
       "    <tr>\n",
       "      <th>6</th>\n",
       "      <td>2013-01-07</td>\n",
       "      <td>5639.396000</td>\n",
       "      <td>6047.629000</td>\n",
       "      <td>5729.203000</td>\n",
       "      <td>9946.420000</td>\n",
       "    </tr>\n",
       "    <tr>\n",
       "      <th>7</th>\n",
       "      <td>2013-01-08</td>\n",
       "      <td>5131.128000</td>\n",
       "      <td>5545.928020</td>\n",
       "      <td>5716.248000</td>\n",
       "      <td>9258.956000</td>\n",
       "    </tr>\n",
       "    <tr>\n",
       "      <th>8</th>\n",
       "      <td>2013-01-09</td>\n",
       "      <td>6198.154980</td>\n",
       "      <td>6061.471020</td>\n",
       "      <td>5352.507000</td>\n",
       "      <td>8644.922000</td>\n",
       "    </tr>\n",
       "    <tr>\n",
       "      <th>9</th>\n",
       "      <td>2013-01-10</td>\n",
       "      <td>4309.750000</td>\n",
       "      <td>5070.431000</td>\n",
       "      <td>5319.121020</td>\n",
       "      <td>8470.169000</td>\n",
       "    </tr>\n",
       "    <tr>\n",
       "      <th>10</th>\n",
       "      <td>2013-01-11</td>\n",
       "      <td>5053.745980</td>\n",
       "      <td>5822.891982</td>\n",
       "      <td>5786.585000</td>\n",
       "      <td>7316.129000</td>\n",
       "    </tr>\n",
       "    <tr>\n",
       "      <th>11</th>\n",
       "      <td>2013-01-12</td>\n",
       "      <td>5073.569980</td>\n",
       "      <td>7479.722000</td>\n",
       "      <td>6246.480000</td>\n",
       "      <td>10959.593000</td>\n",
       "    </tr>\n",
       "    <tr>\n",
       "      <th>12</th>\n",
       "      <td>2013-01-13</td>\n",
       "      <td>2482.635000</td>\n",
       "      <td>9059.072000</td>\n",
       "      <td>8299.981000</td>\n",
       "      <td>10857.623960</td>\n",
       "    </tr>\n",
       "    <tr>\n",
       "      <th>13</th>\n",
       "      <td>2013-01-14</td>\n",
       "      <td>5192.406000</td>\n",
       "      <td>5404.198000</td>\n",
       "      <td>5398.938000</td>\n",
       "      <td>7789.259030</td>\n",
       "    </tr>\n",
       "    <tr>\n",
       "      <th>14</th>\n",
       "      <td>2013-01-15</td>\n",
       "      <td>4774.043000</td>\n",
       "      <td>5255.754000</td>\n",
       "      <td>5528.819000</td>\n",
       "      <td>8215.977970</td>\n",
       "    </tr>\n",
       "    <tr>\n",
       "      <th>15</th>\n",
       "      <td>2013-01-16</td>\n",
       "      <td>6210.563002</td>\n",
       "      <td>6543.510000</td>\n",
       "      <td>6147.083980</td>\n",
       "      <td>7540.355000</td>\n",
       "    </tr>\n",
       "    <tr>\n",
       "      <th>16</th>\n",
       "      <td>2013-01-17</td>\n",
       "      <td>4544.486000</td>\n",
       "      <td>5214.799020</td>\n",
       "      <td>5109.820000</td>\n",
       "      <td>7395.201000</td>\n",
       "    </tr>\n",
       "    <tr>\n",
       "      <th>17</th>\n",
       "      <td>2013-01-18</td>\n",
       "      <td>5419.165001</td>\n",
       "      <td>6668.457000</td>\n",
       "      <td>5043.555000</td>\n",
       "      <td>7918.020000</td>\n",
       "    </tr>\n",
       "    <tr>\n",
       "      <th>18</th>\n",
       "      <td>2013-01-19</td>\n",
       "      <td>5447.259000</td>\n",
       "      <td>8016.393000</td>\n",
       "      <td>6228.933000</td>\n",
       "      <td>11044.523000</td>\n",
       "    </tr>\n",
       "    <tr>\n",
       "      <th>19</th>\n",
       "      <td>2013-01-20</td>\n",
       "      <td>2153.939995</td>\n",
       "      <td>8932.121020</td>\n",
       "      <td>8204.085000</td>\n",
       "      <td>11211.312000</td>\n",
       "    </tr>\n",
       "    <tr>\n",
       "      <th>20</th>\n",
       "      <td>2013-01-21</td>\n",
       "      <td>4784.614020</td>\n",
       "      <td>6380.861000</td>\n",
       "      <td>5511.559999</td>\n",
       "      <td>9088.764040</td>\n",
       "    </tr>\n",
       "    <tr>\n",
       "      <th>21</th>\n",
       "      <td>2013-01-22</td>\n",
       "      <td>4922.417000</td>\n",
       "      <td>5658.953001</td>\n",
       "      <td>5426.481000</td>\n",
       "      <td>7967.939000</td>\n",
       "    </tr>\n",
       "    <tr>\n",
       "      <th>22</th>\n",
       "      <td>2013-01-23</td>\n",
       "      <td>5770.343000</td>\n",
       "      <td>6056.067000</td>\n",
       "      <td>5624.662000</td>\n",
       "      <td>7246.130000</td>\n",
       "    </tr>\n",
       "    <tr>\n",
       "      <th>23</th>\n",
       "      <td>2013-01-24</td>\n",
       "      <td>4559.193000</td>\n",
       "      <td>4608.736000</td>\n",
       "      <td>5053.194000</td>\n",
       "      <td>7802.938000</td>\n",
       "    </tr>\n",
       "    <tr>\n",
       "      <th>24</th>\n",
       "      <td>2013-01-25</td>\n",
       "      <td>5144.064000</td>\n",
       "      <td>6096.080000</td>\n",
       "      <td>5591.837000</td>\n",
       "      <td>7977.591980</td>\n",
       "    </tr>\n",
       "    <tr>\n",
       "      <th>25</th>\n",
       "      <td>2013-01-26</td>\n",
       "      <td>4820.926000</td>\n",
       "      <td>7550.064982</td>\n",
       "      <td>6232.117000</td>\n",
       "      <td>10446.452000</td>\n",
       "    </tr>\n",
       "    <tr>\n",
       "      <th>26</th>\n",
       "      <td>2013-01-27</td>\n",
       "      <td>2242.990000</td>\n",
       "      <td>8169.363000</td>\n",
       "      <td>6562.350000</td>\n",
       "      <td>10590.136000</td>\n",
       "    </tr>\n",
       "    <tr>\n",
       "      <th>27</th>\n",
       "      <td>2013-01-28</td>\n",
       "      <td>4484.428000</td>\n",
       "      <td>5111.355000</td>\n",
       "      <td>5595.128020</td>\n",
       "      <td>8419.120000</td>\n",
       "    </tr>\n",
       "    <tr>\n",
       "      <th>28</th>\n",
       "      <td>2013-01-29</td>\n",
       "      <td>4285.201001</td>\n",
       "      <td>5210.258000</td>\n",
       "      <td>4720.338000</td>\n",
       "      <td>6970.078000</td>\n",
       "    </tr>\n",
       "    <tr>\n",
       "      <th>29</th>\n",
       "      <td>2013-01-30</td>\n",
       "      <td>5634.577000</td>\n",
       "      <td>5956.379000</td>\n",
       "      <td>5071.153000</td>\n",
       "      <td>7744.136020</td>\n",
       "    </tr>\n",
       "    <tr>\n",
       "      <th>30</th>\n",
       "      <td>2013-01-31</td>\n",
       "      <td>4341.563000</td>\n",
       "      <td>4862.804996</td>\n",
       "      <td>5230.479000</td>\n",
       "      <td>8367.902000</td>\n",
       "    </tr>\n",
       "  </tbody>\n",
       "</table>\n",
       "</div>"
      ],
      "text/plain": [
       "          Date     Qty1_Sum     Qty2_Sum     Qty5_Sum     Qty11_Sum\n",
       "0   2013-01-01     0.000000     0.000000     0.000000      0.000000\n",
       "1   2013-01-02  6760.782000  9221.338001  9404.229020  16593.312000\n",
       "2   2013-01-03  5348.384001  6830.089000  6932.685000  11032.676040\n",
       "3   2013-01-04  5390.445001  6742.984000  6567.938000  10962.687002\n",
       "4   2013-01-05  5787.839000  8583.055000  7276.800000  13315.896000\n",
       "5   2013-01-06  2007.194000  9317.139000  9578.077030  14165.615050\n",
       "6   2013-01-07  5639.396000  6047.629000  5729.203000   9946.420000\n",
       "7   2013-01-08  5131.128000  5545.928020  5716.248000   9258.956000\n",
       "8   2013-01-09  6198.154980  6061.471020  5352.507000   8644.922000\n",
       "9   2013-01-10  4309.750000  5070.431000  5319.121020   8470.169000\n",
       "10  2013-01-11  5053.745980  5822.891982  5786.585000   7316.129000\n",
       "11  2013-01-12  5073.569980  7479.722000  6246.480000  10959.593000\n",
       "12  2013-01-13  2482.635000  9059.072000  8299.981000  10857.623960\n",
       "13  2013-01-14  5192.406000  5404.198000  5398.938000   7789.259030\n",
       "14  2013-01-15  4774.043000  5255.754000  5528.819000   8215.977970\n",
       "15  2013-01-16  6210.563002  6543.510000  6147.083980   7540.355000\n",
       "16  2013-01-17  4544.486000  5214.799020  5109.820000   7395.201000\n",
       "17  2013-01-18  5419.165001  6668.457000  5043.555000   7918.020000\n",
       "18  2013-01-19  5447.259000  8016.393000  6228.933000  11044.523000\n",
       "19  2013-01-20  2153.939995  8932.121020  8204.085000  11211.312000\n",
       "20  2013-01-21  4784.614020  6380.861000  5511.559999   9088.764040\n",
       "21  2013-01-22  4922.417000  5658.953001  5426.481000   7967.939000\n",
       "22  2013-01-23  5770.343000  6056.067000  5624.662000   7246.130000\n",
       "23  2013-01-24  4559.193000  4608.736000  5053.194000   7802.938000\n",
       "24  2013-01-25  5144.064000  6096.080000  5591.837000   7977.591980\n",
       "25  2013-01-26  4820.926000  7550.064982  6232.117000  10446.452000\n",
       "26  2013-01-27  2242.990000  8169.363000  6562.350000  10590.136000\n",
       "27  2013-01-28  4484.428000  5111.355000  5595.128020   8419.120000\n",
       "28  2013-01-29  4285.201001  5210.258000  4720.338000   6970.078000\n",
       "29  2013-01-30  5634.577000  5956.379000  5071.153000   7744.136020\n",
       "30  2013-01-31  4341.563000  4862.804996  5230.479000   8367.902000"
      ]
     },
     "execution_count": 43,
     "metadata": {},
     "output_type": "execute_result"
    }
   ],
   "source": []
  },
  {
   "cell_type": "markdown",
   "metadata": {
    "id": "9gjOPMzbdU9r"
   },
   "source": [
    "[문2] 매장1에 대해서, 일별, 카테고리별 판매량 합계를 구해 봅시다. \n",
    "\n"
   ]
  },
  {
   "cell_type": "code",
   "execution_count": 51,
   "metadata": {
    "colab": {
     "base_uri": "https://localhost:8080/",
     "height": 206
    },
    "executionInfo": {
     "elapsed": 78,
     "status": "ok",
     "timestamp": 1673585655054,
     "user": {
      "displayName": "한기영",
      "userId": "13049187003176135487"
     },
     "user_tz": -540
    },
    "id": "O4QtpbNxeB7i",
    "outputId": "d4e9a183-dc82-4e83-e666-0df0cae68f67",
    "tags": []
   },
   "outputs": [
    {
     "data": {
      "text/html": [
       "<div>\n",
       "<style scoped>\n",
       "    .dataframe tbody tr th:only-of-type {\n",
       "        vertical-align: middle;\n",
       "    }\n",
       "\n",
       "    .dataframe tbody tr th {\n",
       "        vertical-align: top;\n",
       "    }\n",
       "\n",
       "    .dataframe thead th {\n",
       "        text-align: right;\n",
       "    }\n",
       "</style>\n",
       "<table border=\"1\" class=\"dataframe\">\n",
       "  <thead>\n",
       "    <tr style=\"text-align: right;\">\n",
       "      <th></th>\n",
       "      <th>Order_ID</th>\n",
       "      <th>Date</th>\n",
       "      <th>Store_ID</th>\n",
       "      <th>Qty</th>\n",
       "      <th>Product_ID</th>\n",
       "      <th>Product_Code</th>\n",
       "      <th>SubCategory</th>\n",
       "      <th>Category</th>\n",
       "      <th>LeadTime</th>\n",
       "      <th>Price</th>\n",
       "    </tr>\n",
       "  </thead>\n",
       "  <tbody>\n",
       "    <tr>\n",
       "      <th>0</th>\n",
       "      <td>3</td>\n",
       "      <td>2013-01-01</td>\n",
       "      <td>1</td>\n",
       "      <td>0.0</td>\n",
       "      <td>3</td>\n",
       "      <td>DB001</td>\n",
       "      <td>Beverage</td>\n",
       "      <td>Drink</td>\n",
       "      <td>2</td>\n",
       "      <td>8</td>\n",
       "    </tr>\n",
       "    <tr>\n",
       "      <th>1</th>\n",
       "      <td>1785</td>\n",
       "      <td>2013-01-02</td>\n",
       "      <td>1</td>\n",
       "      <td>1091.0</td>\n",
       "      <td>3</td>\n",
       "      <td>DB001</td>\n",
       "      <td>Beverage</td>\n",
       "      <td>Drink</td>\n",
       "      <td>2</td>\n",
       "      <td>8</td>\n",
       "    </tr>\n",
       "    <tr>\n",
       "      <th>2</th>\n",
       "      <td>3567</td>\n",
       "      <td>2013-01-03</td>\n",
       "      <td>1</td>\n",
       "      <td>919.0</td>\n",
       "      <td>3</td>\n",
       "      <td>DB001</td>\n",
       "      <td>Beverage</td>\n",
       "      <td>Drink</td>\n",
       "      <td>2</td>\n",
       "      <td>8</td>\n",
       "    </tr>\n",
       "    <tr>\n",
       "      <th>3</th>\n",
       "      <td>5349</td>\n",
       "      <td>2013-01-04</td>\n",
       "      <td>1</td>\n",
       "      <td>953.0</td>\n",
       "      <td>3</td>\n",
       "      <td>DB001</td>\n",
       "      <td>Beverage</td>\n",
       "      <td>Drink</td>\n",
       "      <td>2</td>\n",
       "      <td>8</td>\n",
       "    </tr>\n",
       "    <tr>\n",
       "      <th>4</th>\n",
       "      <td>7131</td>\n",
       "      <td>2013-01-05</td>\n",
       "      <td>1</td>\n",
       "      <td>1160.0</td>\n",
       "      <td>3</td>\n",
       "      <td>DB001</td>\n",
       "      <td>Beverage</td>\n",
       "      <td>Drink</td>\n",
       "      <td>2</td>\n",
       "      <td>8</td>\n",
       "    </tr>\n",
       "  </tbody>\n",
       "</table>\n",
       "</div>"
      ],
      "text/plain": [
       "   Order_ID        Date  Store_ID     Qty  Product_ID Product_Code  \\\n",
       "0         3  2013-01-01         1     0.0           3        DB001   \n",
       "1      1785  2013-01-02         1  1091.0           3        DB001   \n",
       "2      3567  2013-01-03         1   919.0           3        DB001   \n",
       "3      5349  2013-01-04         1   953.0           3        DB001   \n",
       "4      7131  2013-01-05         1  1160.0           3        DB001   \n",
       "\n",
       "  SubCategory Category  LeadTime  Price  \n",
       "0    Beverage    Drink         2      8  \n",
       "1    Beverage    Drink         2      8  \n",
       "2    Beverage    Drink         2      8  \n",
       "3    Beverage    Drink         2      8  \n",
       "4    Beverage    Drink         2      8  "
      ]
     },
     "execution_count": 51,
     "metadata": {},
     "output_type": "execute_result"
    }
   ],
   "source": []
  },
  {
   "cell_type": "code",
   "execution_count": 52,
   "metadata": {
    "colab": {
     "base_uri": "https://localhost:8080/",
     "height": 206
    },
    "executionInfo": {
     "elapsed": 77,
     "status": "ok",
     "timestamp": 1673585655054,
     "user": {
      "displayName": "한기영",
      "userId": "13049187003176135487"
     },
     "user_tz": -540
    },
    "id": "rJA8GGn_eKeo",
    "outputId": "f4ebf717-5040-42e1-cfb2-0d3447dd2ece",
    "tags": []
   },
   "outputs": [
    {
     "data": {
      "text/plain": [
       "Date        Category       \n",
       "2013-01-01  Drink                 0.000\n",
       "            Food                  0.000\n",
       "            Grocery               0.000\n",
       "            Household Goods       0.000\n",
       "2013-01-02  Drink              1158.000\n",
       "                                 ...   \n",
       "2013-01-30  Household Goods     932.000\n",
       "2013-01-31  Drink               971.000\n",
       "            Food                751.766\n",
       "            Grocery            1907.797\n",
       "            Household Goods     711.000\n",
       "Name: Qty, Length: 124, dtype: float64"
      ]
     },
     "execution_count": 52,
     "metadata": {},
     "output_type": "execute_result"
    }
   ],
   "source": []
  },
  {
   "cell_type": "code",
   "execution_count": null,
   "metadata": {
    "colab": {
     "base_uri": "https://localhost:8080/",
     "height": 424
    },
    "executionInfo": {
     "elapsed": 565,
     "status": "ok",
     "timestamp": 1673585678750,
     "user": {
      "displayName": "한기영",
      "userId": "13049187003176135487"
     },
     "user_tz": -540
    },
    "id": "kzg7oaqXdU9s",
    "outputId": "8748dbea-900a-4a30-9732-544885beead5"
   },
   "outputs": [],
   "source": []
  },
  {
   "cell_type": "markdown",
   "metadata": {
    "id": "WeVz3VipfHUW"
   },
   "source": [
    "[문3] 도시별, 총판매량 합계를 구하시오.  \n",
    "\n"
   ]
  },
  {
   "cell_type": "code",
   "execution_count": 56,
   "metadata": {
    "colab": {
     "base_uri": "https://localhost:8080/",
     "height": 206
    },
    "executionInfo": {
     "elapsed": 602,
     "status": "ok",
     "timestamp": 1673585936133,
     "user": {
      "displayName": "한기영",
      "userId": "13049187003176135487"
     },
     "user_tz": -540
    },
    "id": "JmiqS-SdfrgS",
    "outputId": "c0d052e4-3554-4042-c4d2-1dbce848d02a",
    "tags": []
   },
   "outputs": [
    {
     "data": {
      "text/html": [
       "<div>\n",
       "<style scoped>\n",
       "    .dataframe tbody tr th:only-of-type {\n",
       "        vertical-align: middle;\n",
       "    }\n",
       "\n",
       "    .dataframe tbody tr th {\n",
       "        vertical-align: top;\n",
       "    }\n",
       "\n",
       "    .dataframe thead th {\n",
       "        text-align: right;\n",
       "    }\n",
       "</style>\n",
       "<table border=\"1\" class=\"dataframe\">\n",
       "  <thead>\n",
       "    <tr style=\"text-align: right;\">\n",
       "      <th></th>\n",
       "      <th>Order_ID</th>\n",
       "      <th>Date</th>\n",
       "      <th>Store_ID</th>\n",
       "      <th>Qty</th>\n",
       "      <th>Product_ID</th>\n",
       "      <th>City</th>\n",
       "      <th>State</th>\n",
       "      <th>Store_Type</th>\n",
       "    </tr>\n",
       "  </thead>\n",
       "  <tbody>\n",
       "    <tr>\n",
       "      <th>0</th>\n",
       "      <td>3</td>\n",
       "      <td>2013-01-01</td>\n",
       "      <td>1</td>\n",
       "      <td>0.000</td>\n",
       "      <td>3</td>\n",
       "      <td>Saint Paul</td>\n",
       "      <td>Minnesota</td>\n",
       "      <td>4</td>\n",
       "    </tr>\n",
       "    <tr>\n",
       "      <th>1</th>\n",
       "      <td>5</td>\n",
       "      <td>2013-01-01</td>\n",
       "      <td>1</td>\n",
       "      <td>0.000</td>\n",
       "      <td>5</td>\n",
       "      <td>Saint Paul</td>\n",
       "      <td>Minnesota</td>\n",
       "      <td>4</td>\n",
       "    </tr>\n",
       "    <tr>\n",
       "      <th>2</th>\n",
       "      <td>7</td>\n",
       "      <td>2013-01-01</td>\n",
       "      <td>1</td>\n",
       "      <td>0.000</td>\n",
       "      <td>7</td>\n",
       "      <td>Saint Paul</td>\n",
       "      <td>Minnesota</td>\n",
       "      <td>4</td>\n",
       "    </tr>\n",
       "    <tr>\n",
       "      <th>3</th>\n",
       "      <td>8</td>\n",
       "      <td>2013-01-01</td>\n",
       "      <td>1</td>\n",
       "      <td>0.000</td>\n",
       "      <td>8</td>\n",
       "      <td>Saint Paul</td>\n",
       "      <td>Minnesota</td>\n",
       "      <td>4</td>\n",
       "    </tr>\n",
       "    <tr>\n",
       "      <th>4</th>\n",
       "      <td>10</td>\n",
       "      <td>2013-01-01</td>\n",
       "      <td>1</td>\n",
       "      <td>0.000</td>\n",
       "      <td>10</td>\n",
       "      <td>Saint Paul</td>\n",
       "      <td>Minnesota</td>\n",
       "      <td>4</td>\n",
       "    </tr>\n",
       "    <tr>\n",
       "      <th>...</th>\n",
       "      <td>...</td>\n",
       "      <td>...</td>\n",
       "      <td>...</td>\n",
       "      <td>...</td>\n",
       "      <td>...</td>\n",
       "      <td>...</td>\n",
       "      <td>...</td>\n",
       "      <td>...</td>\n",
       "    </tr>\n",
       "    <tr>\n",
       "      <th>25105</th>\n",
       "      <td>55231</td>\n",
       "      <td>2013-01-31</td>\n",
       "      <td>9</td>\n",
       "      <td>47.000</td>\n",
       "      <td>22</td>\n",
       "      <td>Saint Paul</td>\n",
       "      <td>Minnesota</td>\n",
       "      <td>2</td>\n",
       "    </tr>\n",
       "    <tr>\n",
       "      <th>25106</th>\n",
       "      <td>55233</td>\n",
       "      <td>2013-01-31</td>\n",
       "      <td>9</td>\n",
       "      <td>348.475</td>\n",
       "      <td>24</td>\n",
       "      <td>Saint Paul</td>\n",
       "      <td>Minnesota</td>\n",
       "      <td>2</td>\n",
       "    </tr>\n",
       "    <tr>\n",
       "      <th>25107</th>\n",
       "      <td>55236</td>\n",
       "      <td>2013-01-31</td>\n",
       "      <td>9</td>\n",
       "      <td>0.000</td>\n",
       "      <td>27</td>\n",
       "      <td>Saint Paul</td>\n",
       "      <td>Minnesota</td>\n",
       "      <td>2</td>\n",
       "    </tr>\n",
       "    <tr>\n",
       "      <th>25108</th>\n",
       "      <td>55238</td>\n",
       "      <td>2013-01-31</td>\n",
       "      <td>9</td>\n",
       "      <td>42.000</td>\n",
       "      <td>29</td>\n",
       "      <td>Saint Paul</td>\n",
       "      <td>Minnesota</td>\n",
       "      <td>2</td>\n",
       "    </tr>\n",
       "    <tr>\n",
       "      <th>25109</th>\n",
       "      <td>55241</td>\n",
       "      <td>2013-01-31</td>\n",
       "      <td>9</td>\n",
       "      <td>24.986</td>\n",
       "      <td>32</td>\n",
       "      <td>Saint Paul</td>\n",
       "      <td>Minnesota</td>\n",
       "      <td>2</td>\n",
       "    </tr>\n",
       "  </tbody>\n",
       "</table>\n",
       "<p>25110 rows × 8 columns</p>\n",
       "</div>"
      ],
      "text/plain": [
       "       Order_ID        Date  Store_ID      Qty  Product_ID        City  \\\n",
       "0             3  2013-01-01         1    0.000           3  Saint Paul   \n",
       "1             5  2013-01-01         1    0.000           5  Saint Paul   \n",
       "2             7  2013-01-01         1    0.000           7  Saint Paul   \n",
       "3             8  2013-01-01         1    0.000           8  Saint Paul   \n",
       "4            10  2013-01-01         1    0.000          10  Saint Paul   \n",
       "...         ...         ...       ...      ...         ...         ...   \n",
       "25105     55231  2013-01-31         9   47.000          22  Saint Paul   \n",
       "25106     55233  2013-01-31         9  348.475          24  Saint Paul   \n",
       "25107     55236  2013-01-31         9    0.000          27  Saint Paul   \n",
       "25108     55238  2013-01-31         9   42.000          29  Saint Paul   \n",
       "25109     55241  2013-01-31         9   24.986          32  Saint Paul   \n",
       "\n",
       "           State  Store_Type  \n",
       "0      Minnesota           4  \n",
       "1      Minnesota           4  \n",
       "2      Minnesota           4  \n",
       "3      Minnesota           4  \n",
       "4      Minnesota           4  \n",
       "...          ...         ...  \n",
       "25105  Minnesota           2  \n",
       "25106  Minnesota           2  \n",
       "25107  Minnesota           2  \n",
       "25108  Minnesota           2  \n",
       "25109  Minnesota           2  \n",
       "\n",
       "[25110 rows x 8 columns]"
      ]
     },
     "execution_count": 56,
     "metadata": {},
     "output_type": "execute_result"
    }
   ],
   "source": []
  },
  {
   "cell_type": "code",
   "execution_count": 58,
   "metadata": {
    "colab": {
     "base_uri": "https://localhost:8080/",
     "height": 143
    },
    "executionInfo": {
     "elapsed": 427,
     "status": "ok",
     "timestamp": 1673585971498,
     "user": {
      "displayName": "한기영",
      "userId": "13049187003176135487"
     },
     "user_tz": -540
    },
    "id": "GeuHTLnbfHUX",
    "outputId": "be54e12e-9d2e-4caa-f6ea-a1cd622fddf2",
    "tags": []
   },
   "outputs": [
    {
     "data": {
      "text/plain": [
       "City\n",
       "Albany           1.119409e+05\n",
       "Annapolis        2.255278e+05\n",
       "Asheville        6.644511e+04\n",
       "Atlanta          3.845901e+05\n",
       "Bloomington      1.315413e+05\n",
       "Boston           1.138053e+05\n",
       "Charlotte        1.454050e+05\n",
       "Columbus         1.872153e+05\n",
       "Harrisburg       1.421269e+05\n",
       "Indianapolis     1.488044e+05\n",
       "LA               1.009753e+05\n",
       "Minneapolis      2.852598e+05\n",
       "Nashville        1.182960e+05\n",
       "Oklahoma City    3.102069e+05\n",
       "Olympia          1.205583e+05\n",
       "Phoenix          4.475075e+05\n",
       "Raleigh          1.095650e+06\n",
       "Richmond         2.188491e+05\n",
       "Sacramento       0.000000e+00\n",
       "Saint Paul       4.989027e+06\n",
       "Wilmington       0.000000e+00\n",
       "Name: Qty, dtype: float64"
      ]
     },
     "execution_count": 58,
     "metadata": {},
     "output_type": "execute_result"
    }
   ],
   "source": [
    "# 도시별 groupby and 합계\n"
   ]
  },
  {
   "cell_type": "code",
   "execution_count": null,
   "metadata": {},
   "outputs": [],
   "source": [
    "# 도시의 store 당 평균 판매량\n",
    "stores['City'].value_counts()"
   ]
  },
  {
   "cell_type": "markdown",
   "metadata": {
    "id": "tsKvijVvHfPm"
   },
   "source": [
    "### **(4) pivot**\n",
    "* pivot : 결합은 아니지만, 집계 후 데이터프레임 구조를 변형해서 조회하는데 종종 사용 됩니다.\n",
    "\n",
    "* 단계\n",
    "    * 1) groupby\n",
    "    * 2) pivot"
   ]
  },
  {
   "cell_type": "code",
   "execution_count": 59,
   "metadata": {
    "colab": {
     "base_uri": "https://localhost:8080/",
     "height": 423
    },
    "executionInfo": {
     "elapsed": 5,
     "status": "ok",
     "timestamp": 1673597018615,
     "user": {
      "displayName": "한기영",
      "userId": "13049187003176135487"
     },
     "user_tz": -540
    },
    "id": "VemeQV1vHkTD",
    "outputId": "d8908b60-c130-44e3-bbc2-44260df0a412",
    "tags": []
   },
   "outputs": [
    {
     "data": {
      "text/html": [
       "<div>\n",
       "<style scoped>\n",
       "    .dataframe tbody tr th:only-of-type {\n",
       "        vertical-align: middle;\n",
       "    }\n",
       "\n",
       "    .dataframe tbody tr th {\n",
       "        vertical-align: top;\n",
       "    }\n",
       "\n",
       "    .dataframe thead th {\n",
       "        text-align: right;\n",
       "    }\n",
       "</style>\n",
       "<table border=\"1\" class=\"dataframe\">\n",
       "  <thead>\n",
       "    <tr style=\"text-align: right;\">\n",
       "      <th></th>\n",
       "      <th>Date</th>\n",
       "      <th>Category</th>\n",
       "      <th>Qty</th>\n",
       "    </tr>\n",
       "  </thead>\n",
       "  <tbody>\n",
       "    <tr>\n",
       "      <th>0</th>\n",
       "      <td>2013-01-01</td>\n",
       "      <td>Drink</td>\n",
       "      <td>0.000</td>\n",
       "    </tr>\n",
       "    <tr>\n",
       "      <th>1</th>\n",
       "      <td>2013-01-01</td>\n",
       "      <td>Food</td>\n",
       "      <td>0.000</td>\n",
       "    </tr>\n",
       "    <tr>\n",
       "      <th>2</th>\n",
       "      <td>2013-01-01</td>\n",
       "      <td>Grocery</td>\n",
       "      <td>0.000</td>\n",
       "    </tr>\n",
       "    <tr>\n",
       "      <th>3</th>\n",
       "      <td>2013-01-01</td>\n",
       "      <td>Household Goods</td>\n",
       "      <td>0.000</td>\n",
       "    </tr>\n",
       "    <tr>\n",
       "      <th>4</th>\n",
       "      <td>2013-01-02</td>\n",
       "      <td>Drink</td>\n",
       "      <td>1158.000</td>\n",
       "    </tr>\n",
       "    <tr>\n",
       "      <th>...</th>\n",
       "      <td>...</td>\n",
       "      <td>...</td>\n",
       "      <td>...</td>\n",
       "    </tr>\n",
       "    <tr>\n",
       "      <th>119</th>\n",
       "      <td>2013-01-30</td>\n",
       "      <td>Household Goods</td>\n",
       "      <td>932.000</td>\n",
       "    </tr>\n",
       "    <tr>\n",
       "      <th>120</th>\n",
       "      <td>2013-01-31</td>\n",
       "      <td>Drink</td>\n",
       "      <td>971.000</td>\n",
       "    </tr>\n",
       "    <tr>\n",
       "      <th>121</th>\n",
       "      <td>2013-01-31</td>\n",
       "      <td>Food</td>\n",
       "      <td>751.766</td>\n",
       "    </tr>\n",
       "    <tr>\n",
       "      <th>122</th>\n",
       "      <td>2013-01-31</td>\n",
       "      <td>Grocery</td>\n",
       "      <td>1907.797</td>\n",
       "    </tr>\n",
       "    <tr>\n",
       "      <th>123</th>\n",
       "      <td>2013-01-31</td>\n",
       "      <td>Household Goods</td>\n",
       "      <td>711.000</td>\n",
       "    </tr>\n",
       "  </tbody>\n",
       "</table>\n",
       "<p>124 rows × 3 columns</p>\n",
       "</div>"
      ],
      "text/plain": [
       "           Date         Category       Qty\n",
       "0    2013-01-01            Drink     0.000\n",
       "1    2013-01-01             Food     0.000\n",
       "2    2013-01-01          Grocery     0.000\n",
       "3    2013-01-01  Household Goods     0.000\n",
       "4    2013-01-02            Drink  1158.000\n",
       "..          ...              ...       ...\n",
       "119  2013-01-30  Household Goods   932.000\n",
       "120  2013-01-31            Drink   971.000\n",
       "121  2013-01-31             Food   751.766\n",
       "122  2013-01-31          Grocery  1907.797\n",
       "123  2013-01-31  Household Goods   711.000\n",
       "\n",
       "[124 rows x 3 columns]"
      ]
     },
     "execution_count": 59,
     "metadata": {},
     "output_type": "execute_result"
    }
   ],
   "source": [
    "# 1) 매장1의 일별 카테고리별 판매량을 집계\n",
    "\n",
    "temp = pd.merge(sales1, products)\n",
    "temp2 = temp.groupby(['Date', 'Category'], as_index = False)['Qty'].sum()\n",
    "temp2"
   ]
  },
  {
   "cell_type": "code",
   "execution_count": 61,
   "metadata": {
    "colab": {
     "base_uri": "https://localhost:8080/",
     "height": 314
    },
    "executionInfo": {
     "elapsed": 304,
     "status": "ok",
     "timestamp": 1673597270119,
     "user": {
      "displayName": "한기영",
      "userId": "13049187003176135487"
     },
     "user_tz": -540
    },
    "id": "mZz5WczWJ-_9",
    "outputId": "8eec34c2-4780-4635-d641-509316f25358",
    "tags": []
   },
   "outputs": [
    {
     "data": {
      "text/html": [
       "<div>\n",
       "<style scoped>\n",
       "    .dataframe tbody tr th:only-of-type {\n",
       "        vertical-align: middle;\n",
       "    }\n",
       "\n",
       "    .dataframe tbody tr th {\n",
       "        vertical-align: top;\n",
       "    }\n",
       "\n",
       "    .dataframe thead th {\n",
       "        text-align: right;\n",
       "    }\n",
       "</style>\n",
       "<table border=\"1\" class=\"dataframe\">\n",
       "  <thead>\n",
       "    <tr style=\"text-align: right;\">\n",
       "      <th>Date</th>\n",
       "      <th>2013-01-01</th>\n",
       "      <th>2013-01-02</th>\n",
       "      <th>2013-01-03</th>\n",
       "      <th>2013-01-04</th>\n",
       "      <th>2013-01-05</th>\n",
       "      <th>2013-01-06</th>\n",
       "      <th>2013-01-07</th>\n",
       "      <th>2013-01-08</th>\n",
       "      <th>2013-01-09</th>\n",
       "      <th>2013-01-10</th>\n",
       "      <th>...</th>\n",
       "      <th>2013-01-22</th>\n",
       "      <th>2013-01-23</th>\n",
       "      <th>2013-01-24</th>\n",
       "      <th>2013-01-25</th>\n",
       "      <th>2013-01-26</th>\n",
       "      <th>2013-01-27</th>\n",
       "      <th>2013-01-28</th>\n",
       "      <th>2013-01-29</th>\n",
       "      <th>2013-01-30</th>\n",
       "      <th>2013-01-31</th>\n",
       "    </tr>\n",
       "    <tr>\n",
       "      <th>Category</th>\n",
       "      <th></th>\n",
       "      <th></th>\n",
       "      <th></th>\n",
       "      <th></th>\n",
       "      <th></th>\n",
       "      <th></th>\n",
       "      <th></th>\n",
       "      <th></th>\n",
       "      <th></th>\n",
       "      <th></th>\n",
       "      <th></th>\n",
       "      <th></th>\n",
       "      <th></th>\n",
       "      <th></th>\n",
       "      <th></th>\n",
       "      <th></th>\n",
       "      <th></th>\n",
       "      <th></th>\n",
       "      <th></th>\n",
       "      <th></th>\n",
       "      <th></th>\n",
       "    </tr>\n",
       "  </thead>\n",
       "  <tbody>\n",
       "    <tr>\n",
       "      <th>Drink</th>\n",
       "      <td>0.0</td>\n",
       "      <td>1158.000</td>\n",
       "      <td>985.000000</td>\n",
       "      <td>1055.000000</td>\n",
       "      <td>1319.000</td>\n",
       "      <td>407.000</td>\n",
       "      <td>1267.000</td>\n",
       "      <td>1115.000</td>\n",
       "      <td>1290.00000</td>\n",
       "      <td>914.000</td>\n",
       "      <td>...</td>\n",
       "      <td>1114.000</td>\n",
       "      <td>1152.000</td>\n",
       "      <td>924.000</td>\n",
       "      <td>1213.000</td>\n",
       "      <td>1132.000</td>\n",
       "      <td>417.000</td>\n",
       "      <td>830.000</td>\n",
       "      <td>999.000</td>\n",
       "      <td>1140.000</td>\n",
       "      <td>971.000</td>\n",
       "    </tr>\n",
       "    <tr>\n",
       "      <th>Food</th>\n",
       "      <td>0.0</td>\n",
       "      <td>1227.652</td>\n",
       "      <td>913.699000</td>\n",
       "      <td>790.366000</td>\n",
       "      <td>901.057</td>\n",
       "      <td>416.912</td>\n",
       "      <td>852.676</td>\n",
       "      <td>829.851</td>\n",
       "      <td>967.58200</td>\n",
       "      <td>775.515</td>\n",
       "      <td>...</td>\n",
       "      <td>780.201</td>\n",
       "      <td>1025.047</td>\n",
       "      <td>791.388</td>\n",
       "      <td>836.856</td>\n",
       "      <td>880.019</td>\n",
       "      <td>416.783</td>\n",
       "      <td>821.064</td>\n",
       "      <td>668.154</td>\n",
       "      <td>900.092</td>\n",
       "      <td>751.766</td>\n",
       "    </tr>\n",
       "    <tr>\n",
       "      <th>Grocery</th>\n",
       "      <td>0.0</td>\n",
       "      <td>3305.130</td>\n",
       "      <td>2613.685001</td>\n",
       "      <td>2711.079001</td>\n",
       "      <td>2746.782</td>\n",
       "      <td>926.282</td>\n",
       "      <td>2689.720</td>\n",
       "      <td>2356.277</td>\n",
       "      <td>3023.57298</td>\n",
       "      <td>1933.235</td>\n",
       "      <td>...</td>\n",
       "      <td>2242.216</td>\n",
       "      <td>2824.296</td>\n",
       "      <td>2221.805</td>\n",
       "      <td>2393.208</td>\n",
       "      <td>2257.907</td>\n",
       "      <td>1162.207</td>\n",
       "      <td>2208.364</td>\n",
       "      <td>2001.047</td>\n",
       "      <td>2662.485</td>\n",
       "      <td>1907.797</td>\n",
       "    </tr>\n",
       "    <tr>\n",
       "      <th>Household Goods</th>\n",
       "      <td>0.0</td>\n",
       "      <td>1070.000</td>\n",
       "      <td>836.000000</td>\n",
       "      <td>834.000000</td>\n",
       "      <td>821.000</td>\n",
       "      <td>257.000</td>\n",
       "      <td>830.000</td>\n",
       "      <td>830.000</td>\n",
       "      <td>917.00000</td>\n",
       "      <td>687.000</td>\n",
       "      <td>...</td>\n",
       "      <td>786.000</td>\n",
       "      <td>769.000</td>\n",
       "      <td>622.000</td>\n",
       "      <td>701.000</td>\n",
       "      <td>551.000</td>\n",
       "      <td>247.000</td>\n",
       "      <td>625.000</td>\n",
       "      <td>617.000</td>\n",
       "      <td>932.000</td>\n",
       "      <td>711.000</td>\n",
       "    </tr>\n",
       "  </tbody>\n",
       "</table>\n",
       "<p>4 rows × 31 columns</p>\n",
       "</div>"
      ],
      "text/plain": [
       "Date             2013-01-01  2013-01-02   2013-01-03   2013-01-04  2013-01-05  \\\n",
       "Category                                                                        \n",
       "Drink                   0.0    1158.000   985.000000  1055.000000    1319.000   \n",
       "Food                    0.0    1227.652   913.699000   790.366000     901.057   \n",
       "Grocery                 0.0    3305.130  2613.685001  2711.079001    2746.782   \n",
       "Household Goods         0.0    1070.000   836.000000   834.000000     821.000   \n",
       "\n",
       "Date             2013-01-06  2013-01-07  2013-01-08  2013-01-09  2013-01-10  \\\n",
       "Category                                                                      \n",
       "Drink               407.000    1267.000    1115.000  1290.00000     914.000   \n",
       "Food                416.912     852.676     829.851   967.58200     775.515   \n",
       "Grocery             926.282    2689.720    2356.277  3023.57298    1933.235   \n",
       "Household Goods     257.000     830.000     830.000   917.00000     687.000   \n",
       "\n",
       "Date             ...  2013-01-22  2013-01-23  2013-01-24  2013-01-25  \\\n",
       "Category         ...                                                   \n",
       "Drink            ...    1114.000    1152.000     924.000    1213.000   \n",
       "Food             ...     780.201    1025.047     791.388     836.856   \n",
       "Grocery          ...    2242.216    2824.296    2221.805    2393.208   \n",
       "Household Goods  ...     786.000     769.000     622.000     701.000   \n",
       "\n",
       "Date             2013-01-26  2013-01-27  2013-01-28  2013-01-29  2013-01-30  \\\n",
       "Category                                                                      \n",
       "Drink              1132.000     417.000     830.000     999.000    1140.000   \n",
       "Food                880.019     416.783     821.064     668.154     900.092   \n",
       "Grocery            2257.907    1162.207    2208.364    2001.047    2662.485   \n",
       "Household Goods     551.000     247.000     625.000     617.000     932.000   \n",
       "\n",
       "Date             2013-01-31  \n",
       "Category                     \n",
       "Drink               971.000  \n",
       "Food                751.766  \n",
       "Grocery            1907.797  \n",
       "Household Goods     711.000  \n",
       "\n",
       "[4 rows x 31 columns]"
      ]
     },
     "execution_count": 61,
     "metadata": {},
     "output_type": "execute_result"
    }
   ],
   "source": [
    "# 2) pivot\n",
    "temp3 = temp2.pivot( index='Category',columns= 'Date' ,values='Qty')\n",
    "temp3"
   ]
  },
  {
   "cell_type": "code",
   "execution_count": null,
   "metadata": {
    "colab": {
     "base_uri": "https://localhost:8080/",
     "height": 436
    },
    "executionInfo": {
     "elapsed": 533,
     "status": "ok",
     "timestamp": 1673597278480,
     "user": {
      "displayName": "한기영",
      "userId": "13049187003176135487"
     },
     "user_tz": -540
    },
    "id": "3PqzBBHLKQoj",
    "outputId": "556991b2-dbae-4901-8861-ea7f0d50bc8e"
   },
   "outputs": [],
   "source": [
    "# sns.heatmap으로 시각화 할 수도 있습니다!\n",
    "\n",
    "plt.figure(figsize = (20, 6))\n",
    "sns.heatmap(temp3)\n",
    "plt.show()"
   ]
  },
  {
   "cell_type": "markdown",
   "metadata": {
    "id": "NWrTUSzyQdVs"
   },
   "source": [
    "## **4.복습문제**"
   ]
  },
  {
   "cell_type": "code",
   "execution_count": null,
   "metadata": {
    "executionInfo": {
     "elapsed": 440,
     "status": "ok",
     "timestamp": 1675811601850,
     "user": {
      "displayName": "한기영",
      "userId": "13049187003176135487"
     },
     "user_tz": -540
    },
    "id": "8hZaRpngVhlS"
   },
   "outputs": [],
   "source": [
    "# 라이브러리 불러오기\n",
    "import pandas as pd"
   ]
  },
  {
   "cell_type": "code",
   "execution_count": 74,
   "metadata": {
    "executionInfo": {
     "elapsed": 448,
     "status": "ok",
     "timestamp": 1675811604061,
     "user": {
      "displayName": "한기영",
      "userId": "13049187003176135487"
     },
     "user_tz": -540
    },
    "id": "zFm_DPTaUdqQ",
    "tags": []
   },
   "outputs": [
    {
     "name": "stdout",
     "output_type": "stream",
     "text": [
      "Index(['Order_ID', 'Date', 'Store_ID', 'Qty', 'Product_ID'], dtype='object')\n",
      "Index(['Product_ID', 'Product_Code', 'SubCategory', 'Category', 'LeadTime',\n",
      "       'Price'],\n",
      "      dtype='object')\n",
      "Index(['Store_ID', 'City', 'State', 'Store_Type'], dtype='object')\n"
     ]
    }
   ],
   "source": [
    "sales = pd.read_csv(\"https://raw.githubusercontent.com/DA4BAM/dataset/master/ts_sales_simple.csv\")\n",
    "products = pd.read_csv(\"https://raw.githubusercontent.com/DA4BAM/dataset/master/ts_product_master.csv\")\n",
    "stores = pd.read_csv(\"https://raw.githubusercontent.com/DA4BAM/dataset/master/ts_store_master.csv\")\n",
    "print(sales.columns)\n",
    "print(products.columns)\n",
    "print(stores.columns)"
   ]
  },
  {
   "cell_type": "markdown",
   "metadata": {
    "id": "WAGgvzDv2klV"
   },
   "source": [
    "1) sales에 금액(Amt) 변수를 추가하시오.\n",
    "* Amt = Qty * Price"
   ]
  },
  {
   "cell_type": "code",
   "execution_count": 86,
   "metadata": {
    "colab": {
     "base_uri": "https://localhost:8080/",
     "height": 206
    },
    "executionInfo": {
     "elapsed": 292,
     "status": "ok",
     "timestamp": 1673597429785,
     "user": {
      "displayName": "한기영",
      "userId": "13049187003176135487"
     },
     "user_tz": -540
    },
    "id": "vJwQEeOt2fSD",
    "outputId": "4891b914-300a-43c0-ceca-9c38547850d2",
    "tags": []
   },
   "outputs": [
    {
     "data": {
      "text/html": [
       "<div>\n",
       "<style scoped>\n",
       "    .dataframe tbody tr th:only-of-type {\n",
       "        vertical-align: middle;\n",
       "    }\n",
       "\n",
       "    .dataframe tbody tr th {\n",
       "        vertical-align: top;\n",
       "    }\n",
       "\n",
       "    .dataframe thead th {\n",
       "        text-align: right;\n",
       "    }\n",
       "</style>\n",
       "<table border=\"1\" class=\"dataframe\">\n",
       "  <thead>\n",
       "    <tr style=\"text-align: right;\">\n",
       "      <th></th>\n",
       "      <th>Order_ID</th>\n",
       "      <th>Date</th>\n",
       "      <th>Store_ID</th>\n",
       "      <th>Qty</th>\n",
       "      <th>Product_ID</th>\n",
       "      <th>Amt</th>\n",
       "      <th>Product_Code</th>\n",
       "      <th>SubCategory</th>\n",
       "      <th>Category</th>\n",
       "      <th>LeadTime</th>\n",
       "      <th>Price</th>\n",
       "    </tr>\n",
       "  </thead>\n",
       "  <tbody>\n",
       "    <tr>\n",
       "      <th>0</th>\n",
       "      <td>3</td>\n",
       "      <td>2013-01-01</td>\n",
       "      <td>1</td>\n",
       "      <td>0.000</td>\n",
       "      <td>3</td>\n",
       "      <td>0.000</td>\n",
       "      <td>DB001</td>\n",
       "      <td>Beverage</td>\n",
       "      <td>Drink</td>\n",
       "      <td>2</td>\n",
       "      <td>8</td>\n",
       "    </tr>\n",
       "    <tr>\n",
       "      <th>1</th>\n",
       "      <td>36</td>\n",
       "      <td>2013-01-01</td>\n",
       "      <td>10</td>\n",
       "      <td>0.000</td>\n",
       "      <td>3</td>\n",
       "      <td>0.000</td>\n",
       "      <td>DB001</td>\n",
       "      <td>Beverage</td>\n",
       "      <td>Drink</td>\n",
       "      <td>2</td>\n",
       "      <td>8</td>\n",
       "    </tr>\n",
       "    <tr>\n",
       "      <th>2</th>\n",
       "      <td>69</td>\n",
       "      <td>2013-01-01</td>\n",
       "      <td>11</td>\n",
       "      <td>0.000</td>\n",
       "      <td>3</td>\n",
       "      <td>0.000</td>\n",
       "      <td>DB001</td>\n",
       "      <td>Beverage</td>\n",
       "      <td>Drink</td>\n",
       "      <td>2</td>\n",
       "      <td>8</td>\n",
       "    </tr>\n",
       "    <tr>\n",
       "      <th>3</th>\n",
       "      <td>102</td>\n",
       "      <td>2013-01-01</td>\n",
       "      <td>12</td>\n",
       "      <td>0.000</td>\n",
       "      <td>3</td>\n",
       "      <td>0.000</td>\n",
       "      <td>DB001</td>\n",
       "      <td>Beverage</td>\n",
       "      <td>Drink</td>\n",
       "      <td>2</td>\n",
       "      <td>8</td>\n",
       "    </tr>\n",
       "    <tr>\n",
       "      <th>4</th>\n",
       "      <td>135</td>\n",
       "      <td>2013-01-01</td>\n",
       "      <td>13</td>\n",
       "      <td>0.000</td>\n",
       "      <td>3</td>\n",
       "      <td>0.000</td>\n",
       "      <td>DB001</td>\n",
       "      <td>Beverage</td>\n",
       "      <td>Drink</td>\n",
       "      <td>2</td>\n",
       "      <td>8</td>\n",
       "    </tr>\n",
       "    <tr>\n",
       "      <th>...</th>\n",
       "      <td>...</td>\n",
       "      <td>...</td>\n",
       "      <td>...</td>\n",
       "      <td>...</td>\n",
       "      <td>...</td>\n",
       "      <td>...</td>\n",
       "      <td>...</td>\n",
       "      <td>...</td>\n",
       "      <td>...</td>\n",
       "      <td>...</td>\n",
       "      <td>...</td>\n",
       "    </tr>\n",
       "    <tr>\n",
       "      <th>25105</th>\n",
       "      <td>55109</td>\n",
       "      <td>2013-01-31</td>\n",
       "      <td>54</td>\n",
       "      <td>3.000</td>\n",
       "      <td>32</td>\n",
       "      <td>102.000</td>\n",
       "      <td>GS001</td>\n",
       "      <td>Seafood</td>\n",
       "      <td>Grocery</td>\n",
       "      <td>3</td>\n",
       "      <td>34</td>\n",
       "    </tr>\n",
       "    <tr>\n",
       "      <th>25106</th>\n",
       "      <td>55142</td>\n",
       "      <td>2013-01-31</td>\n",
       "      <td>6</td>\n",
       "      <td>20.089</td>\n",
       "      <td>32</td>\n",
       "      <td>683.026</td>\n",
       "      <td>GS001</td>\n",
       "      <td>Seafood</td>\n",
       "      <td>Grocery</td>\n",
       "      <td>3</td>\n",
       "      <td>34</td>\n",
       "    </tr>\n",
       "    <tr>\n",
       "      <th>25107</th>\n",
       "      <td>55175</td>\n",
       "      <td>2013-01-31</td>\n",
       "      <td>7</td>\n",
       "      <td>43.647</td>\n",
       "      <td>32</td>\n",
       "      <td>1483.998</td>\n",
       "      <td>GS001</td>\n",
       "      <td>Seafood</td>\n",
       "      <td>Grocery</td>\n",
       "      <td>3</td>\n",
       "      <td>34</td>\n",
       "    </tr>\n",
       "    <tr>\n",
       "      <th>25108</th>\n",
       "      <td>55208</td>\n",
       "      <td>2013-01-31</td>\n",
       "      <td>8</td>\n",
       "      <td>42.621</td>\n",
       "      <td>32</td>\n",
       "      <td>1449.114</td>\n",
       "      <td>GS001</td>\n",
       "      <td>Seafood</td>\n",
       "      <td>Grocery</td>\n",
       "      <td>3</td>\n",
       "      <td>34</td>\n",
       "    </tr>\n",
       "    <tr>\n",
       "      <th>25109</th>\n",
       "      <td>55241</td>\n",
       "      <td>2013-01-31</td>\n",
       "      <td>9</td>\n",
       "      <td>24.986</td>\n",
       "      <td>32</td>\n",
       "      <td>849.524</td>\n",
       "      <td>GS001</td>\n",
       "      <td>Seafood</td>\n",
       "      <td>Grocery</td>\n",
       "      <td>3</td>\n",
       "      <td>34</td>\n",
       "    </tr>\n",
       "  </tbody>\n",
       "</table>\n",
       "<p>25110 rows × 11 columns</p>\n",
       "</div>"
      ],
      "text/plain": [
       "       Order_ID        Date  Store_ID     Qty  Product_ID       Amt  \\\n",
       "0             3  2013-01-01         1   0.000           3     0.000   \n",
       "1            36  2013-01-01        10   0.000           3     0.000   \n",
       "2            69  2013-01-01        11   0.000           3     0.000   \n",
       "3           102  2013-01-01        12   0.000           3     0.000   \n",
       "4           135  2013-01-01        13   0.000           3     0.000   \n",
       "...         ...         ...       ...     ...         ...       ...   \n",
       "25105     55109  2013-01-31        54   3.000          32   102.000   \n",
       "25106     55142  2013-01-31         6  20.089          32   683.026   \n",
       "25107     55175  2013-01-31         7  43.647          32  1483.998   \n",
       "25108     55208  2013-01-31         8  42.621          32  1449.114   \n",
       "25109     55241  2013-01-31         9  24.986          32   849.524   \n",
       "\n",
       "      Product_Code SubCategory Category  LeadTime  Price  \n",
       "0            DB001    Beverage    Drink         2      8  \n",
       "1            DB001    Beverage    Drink         2      8  \n",
       "2            DB001    Beverage    Drink         2      8  \n",
       "3            DB001    Beverage    Drink         2      8  \n",
       "4            DB001    Beverage    Drink         2      8  \n",
       "...            ...         ...      ...       ...    ...  \n",
       "25105        GS001     Seafood  Grocery         3     34  \n",
       "25106        GS001     Seafood  Grocery         3     34  \n",
       "25107        GS001     Seafood  Grocery         3     34  \n",
       "25108        GS001     Seafood  Grocery         3     34  \n",
       "25109        GS001     Seafood  Grocery         3     34  \n",
       "\n",
       "[25110 rows x 11 columns]"
      ]
     },
     "execution_count": 86,
     "metadata": {},
     "output_type": "execute_result"
    }
   ],
   "source": [
    "# 병합 먼저 product id로\n"
   ]
  },
  {
   "cell_type": "markdown",
   "metadata": {
    "id": "D85EiMGyHO2-"
   },
   "source": [
    "2) City별 매출액"
   ]
  },
  {
   "cell_type": "code",
   "execution_count": 87,
   "metadata": {
    "colab": {
     "base_uri": "https://localhost:8080/",
     "height": 423
    },
    "executionInfo": {
     "elapsed": 4,
     "status": "ok",
     "timestamp": 1673597431304,
     "user": {
      "displayName": "한기영",
      "userId": "13049187003176135487"
     },
     "user_tz": -540
    },
    "id": "Pz1rOT3wHO2_",
    "outputId": "95f206dd-4d5c-4563-8368-184b17b61195",
    "tags": []
   },
   "outputs": [
    {
     "data": {
      "text/html": [
       "<div>\n",
       "<style scoped>\n",
       "    .dataframe tbody tr th:only-of-type {\n",
       "        vertical-align: middle;\n",
       "    }\n",
       "\n",
       "    .dataframe tbody tr th {\n",
       "        vertical-align: top;\n",
       "    }\n",
       "\n",
       "    .dataframe thead th {\n",
       "        text-align: right;\n",
       "    }\n",
       "</style>\n",
       "<table border=\"1\" class=\"dataframe\">\n",
       "  <thead>\n",
       "    <tr style=\"text-align: right;\">\n",
       "      <th></th>\n",
       "      <th>Order_ID</th>\n",
       "      <th>Date</th>\n",
       "      <th>Store_ID</th>\n",
       "      <th>Qty</th>\n",
       "      <th>Product_ID</th>\n",
       "      <th>Amt</th>\n",
       "      <th>Product_Code</th>\n",
       "      <th>SubCategory</th>\n",
       "      <th>Category</th>\n",
       "      <th>LeadTime</th>\n",
       "      <th>Price</th>\n",
       "      <th>City</th>\n",
       "      <th>State</th>\n",
       "      <th>Store_Type</th>\n",
       "    </tr>\n",
       "  </thead>\n",
       "  <tbody>\n",
       "    <tr>\n",
       "      <th>0</th>\n",
       "      <td>3</td>\n",
       "      <td>2013-01-01</td>\n",
       "      <td>1</td>\n",
       "      <td>0.0</td>\n",
       "      <td>3</td>\n",
       "      <td>0.0</td>\n",
       "      <td>DB001</td>\n",
       "      <td>Beverage</td>\n",
       "      <td>Drink</td>\n",
       "      <td>2</td>\n",
       "      <td>8</td>\n",
       "      <td>Saint Paul</td>\n",
       "      <td>Minnesota</td>\n",
       "      <td>4</td>\n",
       "    </tr>\n",
       "    <tr>\n",
       "      <th>1</th>\n",
       "      <td>1785</td>\n",
       "      <td>2013-01-02</td>\n",
       "      <td>1</td>\n",
       "      <td>1091.0</td>\n",
       "      <td>3</td>\n",
       "      <td>8728.0</td>\n",
       "      <td>DB001</td>\n",
       "      <td>Beverage</td>\n",
       "      <td>Drink</td>\n",
       "      <td>2</td>\n",
       "      <td>8</td>\n",
       "      <td>Saint Paul</td>\n",
       "      <td>Minnesota</td>\n",
       "      <td>4</td>\n",
       "    </tr>\n",
       "    <tr>\n",
       "      <th>2</th>\n",
       "      <td>3567</td>\n",
       "      <td>2013-01-03</td>\n",
       "      <td>1</td>\n",
       "      <td>919.0</td>\n",
       "      <td>3</td>\n",
       "      <td>7352.0</td>\n",
       "      <td>DB001</td>\n",
       "      <td>Beverage</td>\n",
       "      <td>Drink</td>\n",
       "      <td>2</td>\n",
       "      <td>8</td>\n",
       "      <td>Saint Paul</td>\n",
       "      <td>Minnesota</td>\n",
       "      <td>4</td>\n",
       "    </tr>\n",
       "    <tr>\n",
       "      <th>3</th>\n",
       "      <td>5349</td>\n",
       "      <td>2013-01-04</td>\n",
       "      <td>1</td>\n",
       "      <td>953.0</td>\n",
       "      <td>3</td>\n",
       "      <td>7624.0</td>\n",
       "      <td>DB001</td>\n",
       "      <td>Beverage</td>\n",
       "      <td>Drink</td>\n",
       "      <td>2</td>\n",
       "      <td>8</td>\n",
       "      <td>Saint Paul</td>\n",
       "      <td>Minnesota</td>\n",
       "      <td>4</td>\n",
       "    </tr>\n",
       "    <tr>\n",
       "      <th>4</th>\n",
       "      <td>7131</td>\n",
       "      <td>2013-01-05</td>\n",
       "      <td>1</td>\n",
       "      <td>1160.0</td>\n",
       "      <td>3</td>\n",
       "      <td>9280.0</td>\n",
       "      <td>DB001</td>\n",
       "      <td>Beverage</td>\n",
       "      <td>Drink</td>\n",
       "      <td>2</td>\n",
       "      <td>8</td>\n",
       "      <td>Saint Paul</td>\n",
       "      <td>Minnesota</td>\n",
       "      <td>4</td>\n",
       "    </tr>\n",
       "  </tbody>\n",
       "</table>\n",
       "</div>"
      ],
      "text/plain": [
       "   Order_ID        Date  Store_ID     Qty  Product_ID     Amt Product_Code  \\\n",
       "0         3  2013-01-01         1     0.0           3     0.0        DB001   \n",
       "1      1785  2013-01-02         1  1091.0           3  8728.0        DB001   \n",
       "2      3567  2013-01-03         1   919.0           3  7352.0        DB001   \n",
       "3      5349  2013-01-04         1   953.0           3  7624.0        DB001   \n",
       "4      7131  2013-01-05         1  1160.0           3  9280.0        DB001   \n",
       "\n",
       "  SubCategory Category  LeadTime  Price        City      State  Store_Type  \n",
       "0    Beverage    Drink         2      8  Saint Paul  Minnesota           4  \n",
       "1    Beverage    Drink         2      8  Saint Paul  Minnesota           4  \n",
       "2    Beverage    Drink         2      8  Saint Paul  Minnesota           4  \n",
       "3    Beverage    Drink         2      8  Saint Paul  Minnesota           4  \n",
       "4    Beverage    Drink         2      8  Saint Paul  Minnesota           4  "
      ]
     },
     "metadata": {},
     "output_type": "display_data"
    }
   ],
   "source": [
    "# store_id 로 sales와 stores를 병합 시키고, city 별 stores의 합를 구하면 됨\n",
    "# 병합\n"
   ]
  },
  {
   "cell_type": "code",
   "execution_count": 89,
   "metadata": {
    "tags": []
   },
   "outputs": [
    {
     "data": {
      "text/html": [
       "<div>\n",
       "<style scoped>\n",
       "    .dataframe tbody tr th:only-of-type {\n",
       "        vertical-align: middle;\n",
       "    }\n",
       "\n",
       "    .dataframe tbody tr th {\n",
       "        vertical-align: top;\n",
       "    }\n",
       "\n",
       "    .dataframe thead th {\n",
       "        text-align: right;\n",
       "    }\n",
       "</style>\n",
       "<table border=\"1\" class=\"dataframe\">\n",
       "  <thead>\n",
       "    <tr style=\"text-align: right;\">\n",
       "      <th></th>\n",
       "      <th>City</th>\n",
       "      <th>Amt</th>\n",
       "    </tr>\n",
       "  </thead>\n",
       "  <tbody>\n",
       "    <tr>\n",
       "      <th>0</th>\n",
       "      <td>Albany</td>\n",
       "      <td>9.618918e+05</td>\n",
       "    </tr>\n",
       "    <tr>\n",
       "      <th>1</th>\n",
       "      <td>Annapolis</td>\n",
       "      <td>1.926923e+06</td>\n",
       "    </tr>\n",
       "    <tr>\n",
       "      <th>2</th>\n",
       "      <td>Asheville</td>\n",
       "      <td>5.699986e+05</td>\n",
       "    </tr>\n",
       "    <tr>\n",
       "      <th>3</th>\n",
       "      <td>Atlanta</td>\n",
       "      <td>3.374833e+06</td>\n",
       "    </tr>\n",
       "    <tr>\n",
       "      <th>4</th>\n",
       "      <td>Bloomington</td>\n",
       "      <td>1.154652e+06</td>\n",
       "    </tr>\n",
       "    <tr>\n",
       "      <th>5</th>\n",
       "      <td>Boston</td>\n",
       "      <td>9.879414e+05</td>\n",
       "    </tr>\n",
       "    <tr>\n",
       "      <th>6</th>\n",
       "      <td>Charlotte</td>\n",
       "      <td>1.229219e+06</td>\n",
       "    </tr>\n",
       "    <tr>\n",
       "      <th>7</th>\n",
       "      <td>Columbus</td>\n",
       "      <td>1.650586e+06</td>\n",
       "    </tr>\n",
       "    <tr>\n",
       "      <th>8</th>\n",
       "      <td>Harrisburg</td>\n",
       "      <td>1.345873e+06</td>\n",
       "    </tr>\n",
       "    <tr>\n",
       "      <th>9</th>\n",
       "      <td>Indianapolis</td>\n",
       "      <td>1.256235e+06</td>\n",
       "    </tr>\n",
       "    <tr>\n",
       "      <th>10</th>\n",
       "      <td>LA</td>\n",
       "      <td>8.744844e+05</td>\n",
       "    </tr>\n",
       "    <tr>\n",
       "      <th>11</th>\n",
       "      <td>Minneapolis</td>\n",
       "      <td>2.545655e+06</td>\n",
       "    </tr>\n",
       "    <tr>\n",
       "      <th>12</th>\n",
       "      <td>Nashville</td>\n",
       "      <td>1.019337e+06</td>\n",
       "    </tr>\n",
       "    <tr>\n",
       "      <th>13</th>\n",
       "      <td>Oklahoma City</td>\n",
       "      <td>2.745415e+06</td>\n",
       "    </tr>\n",
       "    <tr>\n",
       "      <th>14</th>\n",
       "      <td>Olympia</td>\n",
       "      <td>1.053570e+06</td>\n",
       "    </tr>\n",
       "    <tr>\n",
       "      <th>15</th>\n",
       "      <td>Phoenix</td>\n",
       "      <td>4.192750e+06</td>\n",
       "    </tr>\n",
       "    <tr>\n",
       "      <th>16</th>\n",
       "      <td>Raleigh</td>\n",
       "      <td>9.539228e+06</td>\n",
       "    </tr>\n",
       "    <tr>\n",
       "      <th>17</th>\n",
       "      <td>Richmond</td>\n",
       "      <td>1.866015e+06</td>\n",
       "    </tr>\n",
       "    <tr>\n",
       "      <th>18</th>\n",
       "      <td>Sacramento</td>\n",
       "      <td>0.000000e+00</td>\n",
       "    </tr>\n",
       "    <tr>\n",
       "      <th>19</th>\n",
       "      <td>Saint Paul</td>\n",
       "      <td>4.479337e+07</td>\n",
       "    </tr>\n",
       "    <tr>\n",
       "      <th>20</th>\n",
       "      <td>Wilmington</td>\n",
       "      <td>0.000000e+00</td>\n",
       "    </tr>\n",
       "  </tbody>\n",
       "</table>\n",
       "</div>"
      ],
      "text/plain": [
       "             City           Amt\n",
       "0          Albany  9.618918e+05\n",
       "1       Annapolis  1.926923e+06\n",
       "2       Asheville  5.699986e+05\n",
       "3         Atlanta  3.374833e+06\n",
       "4     Bloomington  1.154652e+06\n",
       "5          Boston  9.879414e+05\n",
       "6       Charlotte  1.229219e+06\n",
       "7        Columbus  1.650586e+06\n",
       "8      Harrisburg  1.345873e+06\n",
       "9    Indianapolis  1.256235e+06\n",
       "10             LA  8.744844e+05\n",
       "11    Minneapolis  2.545655e+06\n",
       "12      Nashville  1.019337e+06\n",
       "13  Oklahoma City  2.745415e+06\n",
       "14        Olympia  1.053570e+06\n",
       "15        Phoenix  4.192750e+06\n",
       "16        Raleigh  9.539228e+06\n",
       "17       Richmond  1.866015e+06\n",
       "18     Sacramento  0.000000e+00\n",
       "19     Saint Paul  4.479337e+07\n",
       "20     Wilmington  0.000000e+00"
      ]
     },
     "execution_count": 89,
     "metadata": {},
     "output_type": "execute_result"
    }
   ],
   "source": [
    "# groupby\n"
   ]
  },
  {
   "cell_type": "markdown",
   "metadata": {
    "id": "psu8ocFvLnRi"
   },
   "source": [
    "3) City별 카테고리별 매출액"
   ]
  },
  {
   "cell_type": "code",
   "execution_count": 91,
   "metadata": {
    "colab": {
     "base_uri": "https://localhost:8080/",
     "height": 423
    },
    "executionInfo": {
     "elapsed": 4,
     "status": "ok",
     "timestamp": 1673597431304,
     "user": {
      "displayName": "한기영",
      "userId": "13049187003176135487"
     },
     "user_tz": -540
    },
    "id": "qM-bqN5TLnRi",
    "outputId": "95f206dd-4d5c-4563-8368-184b17b61195",
    "tags": []
   },
   "outputs": [
    {
     "data": {
      "text/html": [
       "<div>\n",
       "<style scoped>\n",
       "    .dataframe tbody tr th:only-of-type {\n",
       "        vertical-align: middle;\n",
       "    }\n",
       "\n",
       "    .dataframe tbody tr th {\n",
       "        vertical-align: top;\n",
       "    }\n",
       "\n",
       "    .dataframe thead th {\n",
       "        text-align: right;\n",
       "    }\n",
       "</style>\n",
       "<table border=\"1\" class=\"dataframe\">\n",
       "  <thead>\n",
       "    <tr style=\"text-align: right;\">\n",
       "      <th></th>\n",
       "      <th>City</th>\n",
       "      <th>Category</th>\n",
       "      <th>Amt</th>\n",
       "    </tr>\n",
       "  </thead>\n",
       "  <tbody>\n",
       "    <tr>\n",
       "      <th>0</th>\n",
       "      <td>Albany</td>\n",
       "      <td>Drink</td>\n",
       "      <td>2.367080e+05</td>\n",
       "    </tr>\n",
       "    <tr>\n",
       "      <th>1</th>\n",
       "      <td>Albany</td>\n",
       "      <td>Food</td>\n",
       "      <td>6.998561e+04</td>\n",
       "    </tr>\n",
       "    <tr>\n",
       "      <th>2</th>\n",
       "      <td>Albany</td>\n",
       "      <td>Grocery</td>\n",
       "      <td>3.676481e+05</td>\n",
       "    </tr>\n",
       "    <tr>\n",
       "      <th>3</th>\n",
       "      <td>Albany</td>\n",
       "      <td>Household Goods</td>\n",
       "      <td>2.875500e+05</td>\n",
       "    </tr>\n",
       "    <tr>\n",
       "      <th>4</th>\n",
       "      <td>Annapolis</td>\n",
       "      <td>Drink</td>\n",
       "      <td>3.507200e+05</td>\n",
       "    </tr>\n",
       "    <tr>\n",
       "      <th>...</th>\n",
       "      <td>...</td>\n",
       "      <td>...</td>\n",
       "      <td>...</td>\n",
       "    </tr>\n",
       "    <tr>\n",
       "      <th>79</th>\n",
       "      <td>Saint Paul</td>\n",
       "      <td>Household Goods</td>\n",
       "      <td>1.081224e+07</td>\n",
       "    </tr>\n",
       "    <tr>\n",
       "      <th>80</th>\n",
       "      <td>Wilmington</td>\n",
       "      <td>Drink</td>\n",
       "      <td>0.000000e+00</td>\n",
       "    </tr>\n",
       "    <tr>\n",
       "      <th>81</th>\n",
       "      <td>Wilmington</td>\n",
       "      <td>Food</td>\n",
       "      <td>0.000000e+00</td>\n",
       "    </tr>\n",
       "    <tr>\n",
       "      <th>82</th>\n",
       "      <td>Wilmington</td>\n",
       "      <td>Grocery</td>\n",
       "      <td>0.000000e+00</td>\n",
       "    </tr>\n",
       "    <tr>\n",
       "      <th>83</th>\n",
       "      <td>Wilmington</td>\n",
       "      <td>Household Goods</td>\n",
       "      <td>0.000000e+00</td>\n",
       "    </tr>\n",
       "  </tbody>\n",
       "</table>\n",
       "<p>84 rows × 3 columns</p>\n",
       "</div>"
      ],
      "text/plain": [
       "          City         Category           Amt\n",
       "0       Albany            Drink  2.367080e+05\n",
       "1       Albany             Food  6.998561e+04\n",
       "2       Albany          Grocery  3.676481e+05\n",
       "3       Albany  Household Goods  2.875500e+05\n",
       "4    Annapolis            Drink  3.507200e+05\n",
       "..         ...              ...           ...\n",
       "79  Saint Paul  Household Goods  1.081224e+07\n",
       "80  Wilmington            Drink  0.000000e+00\n",
       "81  Wilmington             Food  0.000000e+00\n",
       "82  Wilmington          Grocery  0.000000e+00\n",
       "83  Wilmington  Household Goods  0.000000e+00\n",
       "\n",
       "[84 rows x 3 columns]"
      ]
     },
     "execution_count": 91,
     "metadata": {},
     "output_type": "execute_result"
    }
   ],
   "source": []
  },
  {
   "cell_type": "markdown",
   "metadata": {
    "id": "k32LGdqhMLiB"
   },
   "source": [
    "4) 매출액이 가장 높은 주(state) top 3"
   ]
  },
  {
   "cell_type": "code",
   "execution_count": 95,
   "metadata": {
    "colab": {
     "base_uri": "https://localhost:8080/",
     "height": 143
    },
    "executionInfo": {
     "elapsed": 5,
     "status": "ok",
     "timestamp": 1673597734634,
     "user": {
      "displayName": "한기영",
      "userId": "13049187003176135487"
     },
     "user_tz": -540
    },
    "id": "_3jTGMbsLdF6",
    "outputId": "43b9ab26-a31f-4923-b50c-2c05ffd5eaaa",
    "tags": []
   },
   "outputs": [
    {
     "data": {
      "text/html": [
       "<div>\n",
       "<style scoped>\n",
       "    .dataframe tbody tr th:only-of-type {\n",
       "        vertical-align: middle;\n",
       "    }\n",
       "\n",
       "    .dataframe tbody tr th {\n",
       "        vertical-align: top;\n",
       "    }\n",
       "\n",
       "    .dataframe thead th {\n",
       "        text-align: right;\n",
       "    }\n",
       "</style>\n",
       "<table border=\"1\" class=\"dataframe\">\n",
       "  <thead>\n",
       "    <tr style=\"text-align: right;\">\n",
       "      <th></th>\n",
       "      <th>State</th>\n",
       "      <th>Amt</th>\n",
       "    </tr>\n",
       "  </thead>\n",
       "  <tbody>\n",
       "    <tr>\n",
       "      <th>6</th>\n",
       "      <td>Minnesota</td>\n",
       "      <td>4.733903e+07</td>\n",
       "    </tr>\n",
       "    <tr>\n",
       "      <th>8</th>\n",
       "      <td>North Carolina</td>\n",
       "      <td>1.133845e+07</td>\n",
       "    </tr>\n",
       "    <tr>\n",
       "      <th>0</th>\n",
       "      <td>Arizona</td>\n",
       "      <td>4.192750e+06</td>\n",
       "    </tr>\n",
       "  </tbody>\n",
       "</table>\n",
       "</div>"
      ],
      "text/plain": [
       "            State           Amt\n",
       "6       Minnesota  4.733903e+07\n",
       "8  North Carolina  1.133845e+07\n",
       "0         Arizona  4.192750e+06"
      ]
     },
     "execution_count": 95,
     "metadata": {},
     "output_type": "execute_result"
    }
   ],
   "source": [
    "# 주별 매출액\n"
   ]
  },
  {
   "cell_type": "code",
   "execution_count": null,
   "metadata": {
    "id": "hcwnjnPFMcM-"
   },
   "outputs": [],
   "source": []
  },
  {
   "cell_type": "markdown",
   "metadata": {
    "id": "wSYV3Y4aKMbH"
   },
   "source": [
    "추가 문제"
   ]
  },
  {
   "cell_type": "markdown",
   "metadata": {
    "id": "dXt-WJbsMYc_"
   },
   "source": [
    "* 2013년 1월 세째 주 각 도시별 subCategory별 금액 비교\n",
    "    1. 2013년 1월 세째 주\n",
    "        * sales['Date']를 날짜 타입으로 변환\n",
    "        * week 추가\n",
    "        * sales에서 week가 3인 데이터 뽑기\n",
    "    2. 각 도시별 subCategory별\n",
    "        * 1의 결과에서...\n",
    "        * stores와 inner merge\n",
    "        * products와 inner merge\n",
    "    3. 도시별 subCategory별 금액\n",
    "        * Qty * Price로 Amt 추가\n",
    "        * groupby\n",
    "    4. 좀더 보기 좋게! pivot + heatmap\n",
    "        * pivot\n",
    "        * heatmap"
   ]
  },
  {
   "cell_type": "code",
   "execution_count": null,
   "metadata": {
    "colab": {
     "base_uri": "https://localhost:8080/",
     "height": 628
    },
    "executionInfo": {
     "elapsed": 717,
     "status": "ok",
     "timestamp": 1675812638869,
     "user": {
      "displayName": "한기영",
      "userId": "13049187003176135487"
     },
     "user_tz": -540
    },
    "id": "E_kt4gqNK2yu",
    "outputId": "d438c123-d91d-4ca1-996e-c90fad15bbb6"
   },
   "outputs": [],
   "source": []
  },
  {
   "cell_type": "code",
   "execution_count": null,
   "metadata": {
    "id": "rA6d9U7bRntx"
   },
   "outputs": [],
   "source": []
  },
  {
   "cell_type": "markdown",
   "metadata": {},
   "source": [
    "5. 도시의 가게당 평균 매출액을 구하고 새로운 컬럼 추가시키기"
   ]
  },
  {
   "cell_type": "code",
   "execution_count": null,
   "metadata": {},
   "outputs": [],
   "source": [
    "# 도시당 총 매출액 df를 만든다\n",
    "# 도시당 가게수 df를 만든다.\n",
    "# 두 df를 merge하고 가게당 매출액을 구한다. 이를 원본 df에 도시를 기준으로 merge 한다."
   ]
  }
 ],
 "metadata": {
  "colab": {
   "collapsed_sections": [
    "_QkN9xQsUJ2P",
    "clAUrp5XVCA9",
    "z-IlfZMAVXdZ",
    "CJSLj5laWOaP",
    "r2y6GrZBbAk4",
    "N0280Qt5cZNX",
    "5zfg_W7WckSZ",
    "tsKvijVvHfPm"
   ],
   "provenance": [],
   "toc_visible": true
  },
  "kernelspec": {
   "display_name": "Python 3 (ipykernel)",
   "language": "python",
   "name": "python3"
  },
  "language_info": {
   "codemirror_mode": {
    "name": "ipython",
    "version": 3
   },
   "file_extension": ".py",
   "mimetype": "text/x-python",
   "name": "python",
   "nbconvert_exporter": "python",
   "pygments_lexer": "ipython3",
   "version": "3.11.5"
  }
 },
 "nbformat": 4,
 "nbformat_minor": 4
}

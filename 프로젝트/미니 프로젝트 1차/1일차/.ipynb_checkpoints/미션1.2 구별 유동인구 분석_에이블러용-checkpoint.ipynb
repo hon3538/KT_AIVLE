{
 "cells": [
  {
   "cell_type": "markdown",
   "id": "boxed-jamaica",
   "metadata": {},
   "source": [
    "# 안녕하세요^^ \n",
    "## AIVLE 1차 미니프로젝트 '서울시 생활정보 기반 대중교통 수요 분석 ' 과정에 오신 여러분을 환영합니다.\n",
    "* 본 과정에서는 실제 사례와 데이터를 기반으로 문제를 해결하는 전체 과정을 자기 주도형 실습으로 진행해볼 예정입니다.\n",
    "* 앞선 교육과정을 정리하는 마음과 지금까지 배운 내용을 바탕으로 문제 해결을 해볼게요!\n",
    "* 미니 프로젝트를 통한 문제 해결 과정 'A에서 Z까지', 지금부터 시작합니다!"
   ]
  },
  {
   "cell_type": "markdown",
   "id": "ef575059",
   "metadata": {},
   "source": [
    "---"
   ]
  },
  {
   "cell_type": "markdown",
   "id": "f2bc4fa5",
   "metadata": {},
   "source": [
    "# 데이터 분석부터 먼저 시작해보겠습니다.\n",
    "## \"구 별 유동인구 데이터\" 를 확인해 보도록 하겠습니다"
   ]
  },
  {
   "cell_type": "code",
   "execution_count": null,
   "id": "4c6ced42",
   "metadata": {},
   "outputs": [],
   "source": [
    "# 필요 라이브러리부터 설치합니다.\n",
    "# %pip install pandas seaborn"
   ]
  },
  {
   "cell_type": "markdown",
   "id": "revolutionary-farmer",
   "metadata": {},
   "source": [
    "## 기본전제\n",
    "* 처음에 제공되는 기본/추가 데이터는 '에이블러용' 폴더에 있습니다.\n",
    "\n",
    "[기본 데이터]\n",
    "* seoul_moving_month_202401.csv\n",
    "\n",
    "[데이터 소개]\n",
    "* 서울 시 구별 이동 2024년 1월 데이터\n",
    "* https://data.seoul.go.kr/dataVisual/seoul/seoulLivingMigration.do\n",
    "\n",
    "[변수 소개]\n",
    "* 도착시간 : 0 -> \"0:00~0:59\"를 의미 \n",
    "* 출발 자치구 : 자치구 코드\n",
    "* 성별 : F(여성), M(남성)\n",
    "* 나이 : 10 ~ 79세 (5세 단위), 0 ~ 10세, 80세 이상으로 구분\n",
    "* 유형 : H(야간상주지), W(주간상주지), E(기타)\n",
    "* 평균 이동 시간 : 동일 열 내 이동인구의 월 단위 평균 이동 시간 (10분단위)\n",
    "* 이동인구 : 추정 합산값으로 소수점 표출, 개인정보 비식별화를 위해 3명 미만의 경우 * 처리"
   ]
  },
  {
   "cell_type": "markdown",
   "id": "matched-broad",
   "metadata": {},
   "source": [
    "---"
   ]
  },
  {
   "cell_type": "markdown",
   "id": "warming-gentleman",
   "metadata": {},
   "source": [
    "# 1.데이터 불러오기\n",
    "## 모든 미니 프로젝트의 시작은 '데이터 불러오기' 부터라고 할 수 있습니다.\n",
    "+ KeyPoint : 불러오고자 하는 데이터에 따라 자유롭게 변수로 지정할 수 있다."
   ]
  },
  {
   "cell_type": "markdown",
   "id": "measured-administration",
   "metadata": {},
   "source": [
    "###  데이터 프레임을 불러오고 변수로 저장(여기서는 CSV 기준으로 진행)\n",
    "* csv : pd.read_csv(\"파일이름. csv\")\n",
    "* txt : pd.read_csv(\"파일이름. csv\", sep=\"구분자\")\n",
    "* xlsx : pd.read_excel('파일이름.xlsx')\n",
    "* pickle : pd.read_pickle(\"파일이름.pkl\") <br>\n",
    " [참고] pickle은 파이썬의 모든 객체를 파일로 저장할 수 있는 방법으로 DataFrame,List,Dict 등 모든 객체 저장 가능(특히 sklearn라이브러리를 통해 모델을 학습시키고, 저장할 때 많이 사용)"
   ]
  },
  {
   "cell_type": "markdown",
   "id": "vocational-animal",
   "metadata": {},
   "source": [
    "#### [실습문제1] 데이터 로딩\n",
    "* Pandas 라이브러리를 활용해서 'seoul_moving_month_202401.csv' 데이터를 확인하세요.\n",
    "    * 아래에 'Pandas'를 Import하고 'seoul_moving_month_202401.csv'파일을 'seoul_moving'에 불러오고,  Shape을 확인하는 소스코드를 작성하고 실행해보세요.\n",
    "    * 데이터 파일 로딩시 참고 사항 \n",
    "        * 구분자(sep)는 ',' 입니다\n",
    "        * UTF-8 인코더를 사용해 주세요"
   ]
  },
  {
   "cell_type": "code",
   "execution_count": 2,
   "id": "78079553-1da1-49cf-9220-890ffae42260",
   "metadata": {
    "tags": []
   },
   "outputs": [
    {
     "data": {
      "text/plain": [
       "'C:\\\\Users\\\\User\\\\KT_AIVLE\\\\프로젝트\\\\미니 프로젝트 1차'"
      ]
     },
     "execution_count": 2,
     "metadata": {},
     "output_type": "execute_result"
    }
   ],
   "source": [
    "import os\n",
    "os.getcwd()"
   ]
  },
  {
   "cell_type": "code",
   "execution_count": 142,
   "id": "saving-slope",
   "metadata": {
    "tags": []
   },
   "outputs": [
    {
     "data": {
      "text/html": [
       "<div>\n",
       "<style scoped>\n",
       "    .dataframe tbody tr th:only-of-type {\n",
       "        vertical-align: middle;\n",
       "    }\n",
       "\n",
       "    .dataframe tbody tr th {\n",
       "        vertical-align: top;\n",
       "    }\n",
       "\n",
       "    .dataframe thead th {\n",
       "        text-align: right;\n",
       "    }\n",
       "</style>\n",
       "<table border=\"1\" class=\"dataframe\">\n",
       "  <thead>\n",
       "    <tr style=\"text-align: right;\">\n",
       "      <th></th>\n",
       "      <th>대상연월</th>\n",
       "      <th>요일</th>\n",
       "      <th>도착시간</th>\n",
       "      <th>출발 시군구 코드</th>\n",
       "      <th>도착 시군구 코드</th>\n",
       "      <th>성별</th>\n",
       "      <th>나이</th>\n",
       "      <th>이동유형</th>\n",
       "      <th>평균 이동 시간(분)</th>\n",
       "      <th>이동인구(합)</th>\n",
       "    </tr>\n",
       "  </thead>\n",
       "  <tbody>\n",
       "    <tr>\n",
       "      <th>0</th>\n",
       "      <td>202401</td>\n",
       "      <td>일</td>\n",
       "      <td>0</td>\n",
       "      <td>11010</td>\n",
       "      <td>11010</td>\n",
       "      <td>F</td>\n",
       "      <td>0</td>\n",
       "      <td>EE</td>\n",
       "      <td>20</td>\n",
       "      <td>28.06</td>\n",
       "    </tr>\n",
       "    <tr>\n",
       "      <th>1</th>\n",
       "      <td>202401</td>\n",
       "      <td>일</td>\n",
       "      <td>0</td>\n",
       "      <td>11010</td>\n",
       "      <td>11010</td>\n",
       "      <td>F</td>\n",
       "      <td>10</td>\n",
       "      <td>EE</td>\n",
       "      <td>167</td>\n",
       "      <td>11.96</td>\n",
       "    </tr>\n",
       "    <tr>\n",
       "      <th>2</th>\n",
       "      <td>202401</td>\n",
       "      <td>일</td>\n",
       "      <td>0</td>\n",
       "      <td>11010</td>\n",
       "      <td>11010</td>\n",
       "      <td>F</td>\n",
       "      <td>10</td>\n",
       "      <td>EH</td>\n",
       "      <td>203</td>\n",
       "      <td>17.63</td>\n",
       "    </tr>\n",
       "    <tr>\n",
       "      <th>3</th>\n",
       "      <td>202401</td>\n",
       "      <td>일</td>\n",
       "      <td>0</td>\n",
       "      <td>11010</td>\n",
       "      <td>11010</td>\n",
       "      <td>F</td>\n",
       "      <td>10</td>\n",
       "      <td>HE</td>\n",
       "      <td>23</td>\n",
       "      <td>5.96</td>\n",
       "    </tr>\n",
       "    <tr>\n",
       "      <th>4</th>\n",
       "      <td>202401</td>\n",
       "      <td>일</td>\n",
       "      <td>0</td>\n",
       "      <td>11010</td>\n",
       "      <td>11010</td>\n",
       "      <td>F</td>\n",
       "      <td>10</td>\n",
       "      <td>WH</td>\n",
       "      <td>27</td>\n",
       "      <td>5.90</td>\n",
       "    </tr>\n",
       "  </tbody>\n",
       "</table>\n",
       "</div>"
      ],
      "text/plain": [
       "     대상연월 요일  도착시간  출발 시군구 코드  도착 시군구 코드 성별  나이 이동유형  평균 이동 시간(분) 이동인구(합)\n",
       "0  202401  일     0      11010      11010  F   0   EE           20   28.06\n",
       "1  202401  일     0      11010      11010  F  10   EE          167   11.96\n",
       "2  202401  일     0      11010      11010  F  10   EH          203   17.63\n",
       "3  202401  일     0      11010      11010  F  10   HE           23    5.96\n",
       "4  202401  일     0      11010      11010  F  10   WH           27    5.90"
      ]
     },
     "execution_count": 142,
     "metadata": {},
     "output_type": "execute_result"
    }
   ],
   "source": [
    "# 아래에 실습코드를 작성하고 결과를 확인합니다.\n",
    "\n",
    "import pandas as pd\n",
    "seoul_moving = pd.read_csv('./1.2 seoul_moving_month_202401.csv', encoding='UTF-8')\n",
    "seoul_moving.head()"
   ]
  },
  {
   "cell_type": "code",
   "execution_count": 143,
   "id": "funny-subcommittee",
   "metadata": {
    "tags": []
   },
   "outputs": [
    {
     "data": {
      "text/plain": [
       "(29361031, 10)"
      ]
     },
     "execution_count": 143,
     "metadata": {},
     "output_type": "execute_result"
    }
   ],
   "source": [
    "# 아래에 실습코드를 작성하고 결과를 확인합니다.\n",
    "# 데이터 프레임의 Shape을 확인합니다.\n",
    "seoul_moving.shape"
   ]
  },
  {
   "cell_type": "markdown",
   "id": "73396b42",
   "metadata": {},
   "source": [
    "---"
   ]
  },
  {
   "cell_type": "markdown",
   "id": "annoying-trout",
   "metadata": {},
   "source": [
    "# 2.기본 정보 확인 및 클렌징\n",
    "\n",
    "+ 데이터 클렌징 : 결측치, 이상치 등을 제거하여 데이터 분석 결과가 왜곡 되는 문제를 방지하기 위한 정제 과정"
   ]
  },
  {
   "cell_type": "markdown",
   "id": "romantic-johnson",
   "metadata": {},
   "source": [
    "#### [실습문제2] 기본 정보 확인하기\n",
    "* 'seoul_moving' 데이터의 정보를 확인해보세요.\n",
    "* 'describe', 'info', 'head' 등 전부 활용해 보겠습니다."
   ]
  },
  {
   "cell_type": "code",
   "execution_count": 15,
   "id": "demographic-battery",
   "metadata": {
    "tags": []
   },
   "outputs": [
    {
     "data": {
      "text/html": [
       "<div>\n",
       "<style scoped>\n",
       "    .dataframe tbody tr th:only-of-type {\n",
       "        vertical-align: middle;\n",
       "    }\n",
       "\n",
       "    .dataframe tbody tr th {\n",
       "        vertical-align: top;\n",
       "    }\n",
       "\n",
       "    .dataframe thead th {\n",
       "        text-align: right;\n",
       "    }\n",
       "</style>\n",
       "<table border=\"1\" class=\"dataframe\">\n",
       "  <thead>\n",
       "    <tr style=\"text-align: right;\">\n",
       "      <th></th>\n",
       "      <th>대상연월</th>\n",
       "      <th>도착시간</th>\n",
       "      <th>출발 시군구 코드</th>\n",
       "      <th>도착 시군구 코드</th>\n",
       "      <th>나이</th>\n",
       "      <th>평균 이동 시간(분)</th>\n",
       "    </tr>\n",
       "  </thead>\n",
       "  <tbody>\n",
       "    <tr>\n",
       "      <th>count</th>\n",
       "      <td>773834.0</td>\n",
       "      <td>773834.0</td>\n",
       "      <td>773834.000000</td>\n",
       "      <td>773834.000000</td>\n",
       "      <td>773834.000000</td>\n",
       "      <td>773834.000000</td>\n",
       "    </tr>\n",
       "    <tr>\n",
       "      <th>mean</th>\n",
       "      <td>202401.0</td>\n",
       "      <td>0.0</td>\n",
       "      <td>15791.565226</td>\n",
       "      <td>17725.415084</td>\n",
       "      <td>38.315395</td>\n",
       "      <td>101.290477</td>\n",
       "    </tr>\n",
       "    <tr>\n",
       "      <th>std</th>\n",
       "      <td>0.0</td>\n",
       "      <td>0.0</td>\n",
       "      <td>8365.233399</td>\n",
       "      <td>9229.498952</td>\n",
       "      <td>16.236471</td>\n",
       "      <td>88.299001</td>\n",
       "    </tr>\n",
       "    <tr>\n",
       "      <th>min</th>\n",
       "      <td>202401.0</td>\n",
       "      <td>0.0</td>\n",
       "      <td>11010.000000</td>\n",
       "      <td>11010.000000</td>\n",
       "      <td>0.000000</td>\n",
       "      <td>1.000000</td>\n",
       "    </tr>\n",
       "    <tr>\n",
       "      <th>25%</th>\n",
       "      <td>202401.0</td>\n",
       "      <td>0.0</td>\n",
       "      <td>11090.000000</td>\n",
       "      <td>11110.000000</td>\n",
       "      <td>25.000000</td>\n",
       "      <td>47.000000</td>\n",
       "    </tr>\n",
       "    <tr>\n",
       "      <th>50%</th>\n",
       "      <td>202401.0</td>\n",
       "      <td>0.0</td>\n",
       "      <td>11190.000000</td>\n",
       "      <td>11210.000000</td>\n",
       "      <td>35.000000</td>\n",
       "      <td>76.000000</td>\n",
       "    </tr>\n",
       "    <tr>\n",
       "      <th>75%</th>\n",
       "      <td>202401.0</td>\n",
       "      <td>0.0</td>\n",
       "      <td>11250.000000</td>\n",
       "      <td>31023.000000</td>\n",
       "      <td>50.000000</td>\n",
       "      <td>123.000000</td>\n",
       "    </tr>\n",
       "    <tr>\n",
       "      <th>max</th>\n",
       "      <td>202401.0</td>\n",
       "      <td>0.0</td>\n",
       "      <td>39000.000000</td>\n",
       "      <td>39000.000000</td>\n",
       "      <td>80.000000</td>\n",
       "      <td>1581.000000</td>\n",
       "    </tr>\n",
       "  </tbody>\n",
       "</table>\n",
       "</div>"
      ],
      "text/plain": [
       "           대상연월      도착시간      출발 시군구 코드      도착 시군구 코드             나이  \\\n",
       "count  773834.0  773834.0  773834.000000  773834.000000  773834.000000   \n",
       "mean   202401.0       0.0   15791.565226   17725.415084      38.315395   \n",
       "std         0.0       0.0    8365.233399    9229.498952      16.236471   \n",
       "min    202401.0       0.0   11010.000000   11010.000000       0.000000   \n",
       "25%    202401.0       0.0   11090.000000   11110.000000      25.000000   \n",
       "50%    202401.0       0.0   11190.000000   11210.000000      35.000000   \n",
       "75%    202401.0       0.0   11250.000000   31023.000000      50.000000   \n",
       "max    202401.0       0.0   39000.000000   39000.000000      80.000000   \n",
       "\n",
       "         평균 이동 시간(분)  \n",
       "count  773834.000000  \n",
       "mean      101.290477  \n",
       "std        88.299001  \n",
       "min         1.000000  \n",
       "25%        47.000000  \n",
       "50%        76.000000  \n",
       "75%       123.000000  \n",
       "max      1581.000000  "
      ]
     },
     "execution_count": 15,
     "metadata": {},
     "output_type": "execute_result"
    }
   ],
   "source": [
    "# 아래에 실습코드를 작성하고 결과를 확인합니다.\n",
    "# describe()\n",
    "seoul_moving.describe()\n"
   ]
  },
  {
   "cell_type": "code",
   "execution_count": 145,
   "id": "940a114a",
   "metadata": {
    "tags": []
   },
   "outputs": [
    {
     "name": "stdout",
     "output_type": "stream",
     "text": [
      "<class 'pandas.core.frame.DataFrame'>\n",
      "RangeIndex: 29361031 entries, 0 to 29361030\n",
      "Data columns (total 10 columns):\n",
      " #   Column       Dtype \n",
      "---  ------       ----- \n",
      " 0   대상연월         int64 \n",
      " 1   요일           object\n",
      " 2   도착시간         int64 \n",
      " 3   출발 시군구 코드    int64 \n",
      " 4   도착 시군구 코드    int64 \n",
      " 5   성별           object\n",
      " 6   나이           int64 \n",
      " 7   이동유형         object\n",
      " 8   평균 이동 시간(분)  int64 \n",
      " 9   이동인구(합)      object\n",
      "dtypes: int64(6), object(4)\n",
      "memory usage: 2.2+ GB\n"
     ]
    }
   ],
   "source": [
    "# 아래에 실습코드를 작성하고 결과를 확인합니다.\n",
    "# info()\n",
    "seoul_moving.info()"
   ]
  },
  {
   "cell_type": "code",
   "execution_count": 156,
   "id": "7343fadf",
   "metadata": {
    "tags": []
   },
   "outputs": [
    {
     "data": {
      "text/html": [
       "<div>\n",
       "<style scoped>\n",
       "    .dataframe tbody tr th:only-of-type {\n",
       "        vertical-align: middle;\n",
       "    }\n",
       "\n",
       "    .dataframe tbody tr th {\n",
       "        vertical-align: top;\n",
       "    }\n",
       "\n",
       "    .dataframe thead th {\n",
       "        text-align: right;\n",
       "    }\n",
       "</style>\n",
       "<table border=\"1\" class=\"dataframe\">\n",
       "  <thead>\n",
       "    <tr style=\"text-align: right;\">\n",
       "      <th></th>\n",
       "      <th>대상연월</th>\n",
       "      <th>요일</th>\n",
       "      <th>도착시간</th>\n",
       "      <th>출발도시</th>\n",
       "      <th>도착도시</th>\n",
       "      <th>성별</th>\n",
       "      <th>나이</th>\n",
       "      <th>이동유형</th>\n",
       "      <th>평균이동시간</th>\n",
       "      <th>이동인구</th>\n",
       "    </tr>\n",
       "  </thead>\n",
       "  <tbody>\n",
       "    <tr>\n",
       "      <th>0</th>\n",
       "      <td>202401</td>\n",
       "      <td>일</td>\n",
       "      <td>0</td>\n",
       "      <td>11010</td>\n",
       "      <td>11010</td>\n",
       "      <td>F</td>\n",
       "      <td>0</td>\n",
       "      <td>EE</td>\n",
       "      <td>20</td>\n",
       "      <td>28.06</td>\n",
       "    </tr>\n",
       "    <tr>\n",
       "      <th>1</th>\n",
       "      <td>202401</td>\n",
       "      <td>일</td>\n",
       "      <td>0</td>\n",
       "      <td>11010</td>\n",
       "      <td>11010</td>\n",
       "      <td>F</td>\n",
       "      <td>10</td>\n",
       "      <td>EE</td>\n",
       "      <td>167</td>\n",
       "      <td>11.96</td>\n",
       "    </tr>\n",
       "    <tr>\n",
       "      <th>2</th>\n",
       "      <td>202401</td>\n",
       "      <td>일</td>\n",
       "      <td>0</td>\n",
       "      <td>11010</td>\n",
       "      <td>11010</td>\n",
       "      <td>F</td>\n",
       "      <td>10</td>\n",
       "      <td>EH</td>\n",
       "      <td>203</td>\n",
       "      <td>17.63</td>\n",
       "    </tr>\n",
       "    <tr>\n",
       "      <th>3</th>\n",
       "      <td>202401</td>\n",
       "      <td>일</td>\n",
       "      <td>0</td>\n",
       "      <td>11010</td>\n",
       "      <td>11010</td>\n",
       "      <td>F</td>\n",
       "      <td>10</td>\n",
       "      <td>HE</td>\n",
       "      <td>23</td>\n",
       "      <td>5.96</td>\n",
       "    </tr>\n",
       "    <tr>\n",
       "      <th>4</th>\n",
       "      <td>202401</td>\n",
       "      <td>일</td>\n",
       "      <td>0</td>\n",
       "      <td>11010</td>\n",
       "      <td>11010</td>\n",
       "      <td>F</td>\n",
       "      <td>10</td>\n",
       "      <td>WH</td>\n",
       "      <td>27</td>\n",
       "      <td>5.90</td>\n",
       "    </tr>\n",
       "  </tbody>\n",
       "</table>\n",
       "</div>"
      ],
      "text/plain": [
       "     대상연월 요일  도착시간   출발도시   도착도시 성별  나이 이동유형  평균이동시간   이동인구\n",
       "0  202401  일     0  11010  11010  F   0   EE      20  28.06\n",
       "1  202401  일     0  11010  11010  F  10   EE     167  11.96\n",
       "2  202401  일     0  11010  11010  F  10   EH     203  17.63\n",
       "3  202401  일     0  11010  11010  F  10   HE      23   5.96\n",
       "4  202401  일     0  11010  11010  F  10   WH      27   5.90"
      ]
     },
     "execution_count": 156,
     "metadata": {},
     "output_type": "execute_result"
    }
   ],
   "source": [
    "# 아래에 실습코드를 작성하고 결과를 확인합니다.\n",
    "# head()\n",
    "seoul_moving.rename(columns = {\n",
    "    '출발 시군구 코드':'출발도시',\n",
    "    '도착 시군구 코드':'도착도시',\n",
    "    '평균 이동 시간(분)':'평균이동시간',\n",
    "    '이동인구(합)':'이동인구'\n",
    "},inplace=True)\n",
    "seoul_moving.head()"
   ]
  },
  {
   "cell_type": "markdown",
   "id": "b90fd066",
   "metadata": {},
   "source": [
    "* 1번 열의 의미\n",
    "    * \" 2024년 1월 일요일에 11010(종로구)에서 11010(종로구)으로 이동하여 0시 ~ 0시 59분 사이에 도착했고, E(기타)에서 E(기타)로 이동한 10 ~ 15세 여성은 총 11.96명이며 이들의 평균 이동시간은 167분이다\n"
   ]
  },
  {
   "cell_type": "markdown",
   "id": "003322b3",
   "metadata": {},
   "source": [
    "#### [실습문제3] 결측치 처리 ( NaN이 아닌 결측치를 처리 해봅시다)\n",
    "\n",
    "* '이동인구(합)' column은 이동 인구의 합산인데 object 타입입니다. \n",
    "\n",
    "    - 왜 일까요? \n",
    "\n",
    "    - Tip! (이동인구 : 추정 합산값으로 소수점 표출, 개인정보 비식별화를 위해 3명 미만의 경우 * 처리)\n",
    "    - 3명 미만의 이동인구는 * 처리 되어 있어서 해당 값을 나름의 기준으로 변경하세요.(중위값)\n",
    "    - '이동인구(합)' 컬럼의 데이터 타입을 수치형으로 변경하세요 "
   ]
  },
  {
   "cell_type": "code",
   "execution_count": 17,
   "id": "64977ed3",
   "metadata": {
    "tags": []
   },
   "outputs": [
    {
     "data": {
      "text/plain": [
       "대상연월    요일  도착시간  출발 시군구 코드  도착 시군구 코드  성별  나이  이동유형  평균 이동 시간(분)  이동인구(합)\n",
       "202401  금   0     11010      11010      F   10  EE    139          12.03      1\n",
       "        일   0     25000      11240      M   40  EE    8            *          1\n",
       "                                        F   60  EH    125          3.79       1\n",
       "                                            65  EH    207          4.68       1\n",
       "                                        M   10  EH    110          6.61       1\n",
       "                                                                             ..\n",
       "        수   0     11170      31050      F   35  HE    9            3.03       1\n",
       "                                                HH    54           3.03       1\n",
       "                                                WE    39           3.04       1\n",
       "                                                WH    84           36.42      1\n",
       "        화   0     39000      11250      M   70  EH    149          4.60       1\n",
       "Name: count, Length: 773834, dtype: int64"
      ]
     },
     "execution_count": 17,
     "metadata": {},
     "output_type": "execute_result"
    }
   ],
   "source": [
    "# 아래에 실습코드를 작성하고 결과를 확인합니다.\n",
    "# value_counts()\n",
    "seoul_moving.value_counts()"
   ]
  },
  {
   "cell_type": "code",
   "execution_count": 144,
   "id": "703fc8b7",
   "metadata": {
    "tags": []
   },
   "outputs": [],
   "source": [
    "# '*' 값의 최빈값과 평균값을 알 수 없는 상황이라 중위값으로 대체 (1.5명)\n",
    "seoul_moving.loc[seoul_moving['이동인구(합)'] =='*', '이동인구(합)'] = '1.5'\n"
   ]
  },
  {
   "cell_type": "code",
   "execution_count": 146,
   "id": "3ec3c54b",
   "metadata": {
    "tags": []
   },
   "outputs": [],
   "source": [
    "# 이동인구(합) column의 데이터 타입을 바꿔주세요\n",
    "# astype()\n",
    "seoul_moving['이동인구(합)'] = seoul_moving['이동인구(합)'].astype(float)"
   ]
  },
  {
   "cell_type": "markdown",
   "id": "3666e46c",
   "metadata": {},
   "source": [
    "#### [실습문제4] 이동유형, 요일, 성별 변수의 value수를 파악\n",
    "\n",
    "* 역시나 value_counts()를 활용해 봅시다."
   ]
  },
  {
   "cell_type": "code",
   "execution_count": 147,
   "id": "3cd0103e",
   "metadata": {
    "tags": []
   },
   "outputs": [
    {
     "data": {
      "text/plain": [
       "이동유형\n",
       "EH    5947038\n",
       "HE    5585412\n",
       "EE    5224553\n",
       "WH    3078348\n",
       "WE    2759477\n",
       "HW    2700535\n",
       "EW    2330931\n",
       "WW    1082641\n",
       "HH     652096\n",
       "Name: count, dtype: int64"
      ]
     },
     "execution_count": 147,
     "metadata": {},
     "output_type": "execute_result"
    }
   ],
   "source": [
    "# 아래에 실습코드를 작성하고 결과를 확인합니다.\n",
    "# 이동유형, value_counts()\n",
    "seoul_moving['이동유형'].value_counts()"
   ]
  },
  {
   "cell_type": "markdown",
   "id": "5b133d45-b2da-4392-8493-68029ecbc03e",
   "metadata": {},
   "source": [
    "* 기타 -> 집, 집 -> 기타, 기타 -> 기타 순으로 많다"
   ]
  },
  {
   "cell_type": "code",
   "execution_count": 148,
   "id": "1cdd246f",
   "metadata": {
    "tags": []
   },
   "outputs": [
    {
     "data": {
      "text/plain": [
       "요일\n",
       "월    4448237\n",
       "수    4341429\n",
       "화    4300070\n",
       "토    4254525\n",
       "금    4251430\n",
       "목    4005959\n",
       "일    3759381\n",
       "Name: count, dtype: int64"
      ]
     },
     "execution_count": 148,
     "metadata": {},
     "output_type": "execute_result"
    }
   ],
   "source": [
    "# 아래에 실습코드를 작성하고 결과를 확인합니다.\n",
    "# 요일, value_counts()\n",
    "seoul_moving['요일'].value_counts()"
   ]
  },
  {
   "cell_type": "markdown",
   "id": "ab0cb07f-f4f5-4328-9700-f66b4a092cbb",
   "metadata": {
    "tags": []
   },
   "source": [
    "* 주말이 가장 인구유동이 많지만, 또이또이하다"
   ]
  },
  {
   "cell_type": "markdown",
   "id": "ba257395",
   "metadata": {},
   "source": [
    "* 24년 1월의 요일 수를 알려드릴게요\n",
    "    * 일 : 4, 월 : 5, 화 : 5, 수 : 5, 목 : 4, 금 : 4, 토 : 4"
   ]
  },
  {
   "cell_type": "code",
   "execution_count": 149,
   "id": "c3f440b9",
   "metadata": {
    "tags": []
   },
   "outputs": [
    {
     "name": "stdout",
     "output_type": "stream",
     "text": [
      "성별\n",
      "M    16433525\n",
      "F    12927506\n",
      "Name: count, dtype: int64\n"
     ]
    },
    {
     "data": {
      "text/plain": [
       "성별\n",
       "M    0.559705\n",
       "F    0.440295\n",
       "Name: proportion, dtype: float64"
      ]
     },
     "execution_count": 149,
     "metadata": {},
     "output_type": "execute_result"
    }
   ],
   "source": [
    "# 아래에 실습코드를 작성하고 결과를 확인합니다.\n",
    "# 성별, value_counts()\n",
    "print(seoul_moving['성별'].value_counts())\n",
    "seoul_moving['성별'].value_counts(normalize=True)"
   ]
  },
  {
   "cell_type": "markdown",
   "id": "aadb88a7-bfc8-4188-803a-813acec914fe",
   "metadata": {},
   "source": [
    "* 남성이 여성보다 더 많다."
   ]
  },
  {
   "cell_type": "markdown",
   "id": "6356b00c",
   "metadata": {},
   "source": [
    "#### [실습문제5] 어느 요일의 심야 이동이 가장 많을까요?"
   ]
  },
  {
   "cell_type": "code",
   "execution_count": 152,
   "id": "4fc53aa1-ef2a-4c5b-8d88-7db6173ad4b4",
   "metadata": {
    "tags": []
   },
   "outputs": [
    {
     "data": {
      "text/plain": [
       "대상연월           0\n",
       "요일             0\n",
       "도착시간           0\n",
       "출발 시군구 코드      0\n",
       "도착 시군구 코드      0\n",
       "성별             0\n",
       "나이             0\n",
       "이동유형           0\n",
       "평균 이동 시간(분)    0\n",
       "이동인구(합)        0\n",
       "dtype: int64"
      ]
     },
     "execution_count": 152,
     "metadata": {},
     "output_type": "execute_result"
    }
   ],
   "source": [
    "seoul_moving.isna().sum()\n",
    "# seoul_moving = pd.read_csv('../../데이터/seoul_moving.csv')"
   ]
  },
  {
   "cell_type": "code",
   "execution_count": 157,
   "id": "ccae1d55-f413-420c-bfc8-95595a9b1ec6",
   "metadata": {
    "tags": []
   },
   "outputs": [
    {
     "data": {
      "text/html": [
       "<div>\n",
       "<style scoped>\n",
       "    .dataframe tbody tr th:only-of-type {\n",
       "        vertical-align: middle;\n",
       "    }\n",
       "\n",
       "    .dataframe tbody tr th {\n",
       "        vertical-align: top;\n",
       "    }\n",
       "\n",
       "    .dataframe thead th {\n",
       "        text-align: right;\n",
       "    }\n",
       "</style>\n",
       "<table border=\"1\" class=\"dataframe\">\n",
       "  <thead>\n",
       "    <tr style=\"text-align: right;\">\n",
       "      <th></th>\n",
       "      <th>요일</th>\n",
       "      <th>이동인구</th>\n",
       "    </tr>\n",
       "  </thead>\n",
       "  <tbody>\n",
       "    <tr>\n",
       "      <th>0</th>\n",
       "      <td>금</td>\n",
       "      <td>1.047175e+08</td>\n",
       "    </tr>\n",
       "    <tr>\n",
       "      <th>1</th>\n",
       "      <td>목</td>\n",
       "      <td>1.005787e+08</td>\n",
       "    </tr>\n",
       "    <tr>\n",
       "      <th>2</th>\n",
       "      <td>수</td>\n",
       "      <td>1.224716e+08</td>\n",
       "    </tr>\n",
       "    <tr>\n",
       "      <th>3</th>\n",
       "      <td>월</td>\n",
       "      <td>1.129803e+08</td>\n",
       "    </tr>\n",
       "    <tr>\n",
       "      <th>4</th>\n",
       "      <td>일</td>\n",
       "      <td>7.462348e+07</td>\n",
       "    </tr>\n",
       "    <tr>\n",
       "      <th>5</th>\n",
       "      <td>토</td>\n",
       "      <td>9.098288e+07</td>\n",
       "    </tr>\n",
       "    <tr>\n",
       "      <th>6</th>\n",
       "      <td>화</td>\n",
       "      <td>1.194038e+08</td>\n",
       "    </tr>\n",
       "  </tbody>\n",
       "</table>\n",
       "</div>"
      ],
      "text/plain": [
       "  요일          이동인구\n",
       "0  금  1.047175e+08\n",
       "1  목  1.005787e+08\n",
       "2  수  1.224716e+08\n",
       "3  월  1.129803e+08\n",
       "4  일  7.462348e+07\n",
       "5  토  9.098288e+07\n",
       "6  화  1.194038e+08"
      ]
     },
     "execution_count": 157,
     "metadata": {},
     "output_type": "execute_result"
    }
   ],
   "source": [
    "seoul_moving.groupby('요일', as_index=False)['이동인구'].sum()"
   ]
  },
  {
   "cell_type": "markdown",
   "id": "45594fc1",
   "metadata": {},
   "source": [
    "#### [실습문제6] 서울 지역의 데이터만 골라 보도록 하겠습니다.\n",
    "\n",
    "* 우리는 서울시의 데이터만 필요합니다.\n",
    "* 시군구 코드:광역시도(2자리)+시군구(3자리) / 서울:11, 부산:26, 대구:27, 인천:28, 광주:29, 대전:30, 울산:31)\n",
    "\n",
    "* 출발과 도착이 모두 서울인 데이터만 추출해 주세요."
   ]
  },
  {
   "cell_type": "code",
   "execution_count": 160,
   "id": "fab14a50",
   "metadata": {
    "tags": []
   },
   "outputs": [
    {
     "data": {
      "text/html": [
       "<div>\n",
       "<style scoped>\n",
       "    .dataframe tbody tr th:only-of-type {\n",
       "        vertical-align: middle;\n",
       "    }\n",
       "\n",
       "    .dataframe tbody tr th {\n",
       "        vertical-align: top;\n",
       "    }\n",
       "\n",
       "    .dataframe thead th {\n",
       "        text-align: right;\n",
       "    }\n",
       "</style>\n",
       "<table border=\"1\" class=\"dataframe\">\n",
       "  <thead>\n",
       "    <tr style=\"text-align: right;\">\n",
       "      <th></th>\n",
       "      <th>대상연월</th>\n",
       "      <th>요일</th>\n",
       "      <th>도착시간</th>\n",
       "      <th>출발도시</th>\n",
       "      <th>도착도시</th>\n",
       "      <th>성별</th>\n",
       "      <th>나이</th>\n",
       "      <th>이동유형</th>\n",
       "      <th>평균이동시간</th>\n",
       "      <th>이동인구</th>\n",
       "    </tr>\n",
       "  </thead>\n",
       "  <tbody>\n",
       "    <tr>\n",
       "      <th>29320192</th>\n",
       "      <td>202401</td>\n",
       "      <td>토</td>\n",
       "      <td>23</td>\n",
       "      <td>11250</td>\n",
       "      <td>11250</td>\n",
       "      <td>M</td>\n",
       "      <td>80</td>\n",
       "      <td>EH</td>\n",
       "      <td>18</td>\n",
       "      <td>28.41</td>\n",
       "    </tr>\n",
       "    <tr>\n",
       "      <th>29320193</th>\n",
       "      <td>202401</td>\n",
       "      <td>토</td>\n",
       "      <td>23</td>\n",
       "      <td>11250</td>\n",
       "      <td>11250</td>\n",
       "      <td>M</td>\n",
       "      <td>80</td>\n",
       "      <td>HE</td>\n",
       "      <td>78</td>\n",
       "      <td>9.46</td>\n",
       "    </tr>\n",
       "    <tr>\n",
       "      <th>29320194</th>\n",
       "      <td>202401</td>\n",
       "      <td>토</td>\n",
       "      <td>23</td>\n",
       "      <td>11250</td>\n",
       "      <td>11250</td>\n",
       "      <td>M</td>\n",
       "      <td>80</td>\n",
       "      <td>HW</td>\n",
       "      <td>168</td>\n",
       "      <td>9.48</td>\n",
       "    </tr>\n",
       "    <tr>\n",
       "      <th>29320195</th>\n",
       "      <td>202401</td>\n",
       "      <td>토</td>\n",
       "      <td>23</td>\n",
       "      <td>11250</td>\n",
       "      <td>11250</td>\n",
       "      <td>M</td>\n",
       "      <td>80</td>\n",
       "      <td>WH</td>\n",
       "      <td>16</td>\n",
       "      <td>47.27</td>\n",
       "    </tr>\n",
       "    <tr>\n",
       "      <th>29320196</th>\n",
       "      <td>202401</td>\n",
       "      <td>토</td>\n",
       "      <td>23</td>\n",
       "      <td>11250</td>\n",
       "      <td>11250</td>\n",
       "      <td>M</td>\n",
       "      <td>80</td>\n",
       "      <td>WW</td>\n",
       "      <td>78</td>\n",
       "      <td>28.51</td>\n",
       "    </tr>\n",
       "  </tbody>\n",
       "</table>\n",
       "</div>"
      ],
      "text/plain": [
       "            대상연월 요일  도착시간   출발도시   도착도시 성별  나이 이동유형  평균이동시간   이동인구\n",
       "29320192  202401  토    23  11250  11250  M  80   EH      18  28.41\n",
       "29320193  202401  토    23  11250  11250  M  80   HE      78   9.46\n",
       "29320194  202401  토    23  11250  11250  M  80   HW     168   9.48\n",
       "29320195  202401  토    23  11250  11250  M  80   WH      16  47.27\n",
       "29320196  202401  토    23  11250  11250  M  80   WW      78  28.51"
      ]
     },
     "execution_count": 160,
     "metadata": {},
     "output_type": "execute_result"
    }
   ],
   "source": [
    "# 아래에 실습코드를 작성하고 결과를 확인합니다.\n",
    "# 출발 시군구 코드, 도착 시군구 코드 <20000\n",
    "condition = (seoul_moving['출발도시'] < 20000)& (seoul_moving['도착도시'] < 20000)\n",
    "seoul_moving=seoul_moving.loc[condition, :]\n",
    "seoul_moving.tail()\n",
    "# seoul_moving.info()"
   ]
  },
  {
   "cell_type": "code",
   "execution_count": 165,
   "id": "936fa8eb-23fd-4783-9c2c-01002d5bdfa4",
   "metadata": {
    "tags": []
   },
   "outputs": [],
   "source": [
    "seoul_moving.rename(columns={'출발도시':'출발자치구코드','도착도시':'도착자치구코드'}, inplace = True)"
   ]
  },
  {
   "cell_type": "code",
   "execution_count": 172,
   "id": "2b5bdcde",
   "metadata": {
    "collapsed": true,
    "jupyter": {
     "outputs_hidden": true,
     "source_hidden": true
    },
    "tags": []
   },
   "outputs": [
    {
     "data": {
      "text/html": [
       "<div>\n",
       "<style scoped>\n",
       "    .dataframe tbody tr th:only-of-type {\n",
       "        vertical-align: middle;\n",
       "    }\n",
       "\n",
       "    .dataframe tbody tr th {\n",
       "        vertical-align: top;\n",
       "    }\n",
       "\n",
       "    .dataframe thead th {\n",
       "        text-align: right;\n",
       "    }\n",
       "</style>\n",
       "<table border=\"1\" class=\"dataframe\">\n",
       "  <thead>\n",
       "    <tr style=\"text-align: right;\">\n",
       "      <th></th>\n",
       "      <th>대상연월</th>\n",
       "      <th>요일</th>\n",
       "      <th>도착시간</th>\n",
       "      <th>출발자치구코드</th>\n",
       "      <th>도착자치구코드</th>\n",
       "      <th>성별</th>\n",
       "      <th>나이</th>\n",
       "      <th>이동유형</th>\n",
       "      <th>평균이동시간</th>\n",
       "      <th>이동인구</th>\n",
       "      <th>출발자치구</th>\n",
       "      <th>도착자치구</th>\n",
       "    </tr>\n",
       "  </thead>\n",
       "  <tbody>\n",
       "    <tr>\n",
       "      <th>29320192</th>\n",
       "      <td>202401</td>\n",
       "      <td>토</td>\n",
       "      <td>23</td>\n",
       "      <td>11250</td>\n",
       "      <td>11250</td>\n",
       "      <td>M</td>\n",
       "      <td>80</td>\n",
       "      <td>EH</td>\n",
       "      <td>18</td>\n",
       "      <td>28.41</td>\n",
       "      <td>강동구</td>\n",
       "      <td>강동구</td>\n",
       "    </tr>\n",
       "    <tr>\n",
       "      <th>29320193</th>\n",
       "      <td>202401</td>\n",
       "      <td>토</td>\n",
       "      <td>23</td>\n",
       "      <td>11250</td>\n",
       "      <td>11250</td>\n",
       "      <td>M</td>\n",
       "      <td>80</td>\n",
       "      <td>HE</td>\n",
       "      <td>78</td>\n",
       "      <td>9.46</td>\n",
       "      <td>강동구</td>\n",
       "      <td>강동구</td>\n",
       "    </tr>\n",
       "    <tr>\n",
       "      <th>29320194</th>\n",
       "      <td>202401</td>\n",
       "      <td>토</td>\n",
       "      <td>23</td>\n",
       "      <td>11250</td>\n",
       "      <td>11250</td>\n",
       "      <td>M</td>\n",
       "      <td>80</td>\n",
       "      <td>HW</td>\n",
       "      <td>168</td>\n",
       "      <td>9.48</td>\n",
       "      <td>강동구</td>\n",
       "      <td>강동구</td>\n",
       "    </tr>\n",
       "    <tr>\n",
       "      <th>29320195</th>\n",
       "      <td>202401</td>\n",
       "      <td>토</td>\n",
       "      <td>23</td>\n",
       "      <td>11250</td>\n",
       "      <td>11250</td>\n",
       "      <td>M</td>\n",
       "      <td>80</td>\n",
       "      <td>WH</td>\n",
       "      <td>16</td>\n",
       "      <td>47.27</td>\n",
       "      <td>강동구</td>\n",
       "      <td>강동구</td>\n",
       "    </tr>\n",
       "    <tr>\n",
       "      <th>29320196</th>\n",
       "      <td>202401</td>\n",
       "      <td>토</td>\n",
       "      <td>23</td>\n",
       "      <td>11250</td>\n",
       "      <td>11250</td>\n",
       "      <td>M</td>\n",
       "      <td>80</td>\n",
       "      <td>WW</td>\n",
       "      <td>78</td>\n",
       "      <td>28.51</td>\n",
       "      <td>강동구</td>\n",
       "      <td>강동구</td>\n",
       "    </tr>\n",
       "  </tbody>\n",
       "</table>\n",
       "</div>"
      ],
      "text/plain": [
       "            대상연월 요일  도착시간  출발자치구코드  도착자치구코드 성별  나이 이동유형  평균이동시간   이동인구 출발자치구  \\\n",
       "29320192  202401  토    23    11250    11250  M  80   EH      18  28.41   강동구   \n",
       "29320193  202401  토    23    11250    11250  M  80   HE      78   9.46   강동구   \n",
       "29320194  202401  토    23    11250    11250  M  80   HW     168   9.48   강동구   \n",
       "29320195  202401  토    23    11250    11250  M  80   WH      16  47.27   강동구   \n",
       "29320196  202401  토    23    11250    11250  M  80   WW      78  28.51   강동구   \n",
       "\n",
       "         도착자치구  \n",
       "29320192   강동구  \n",
       "29320193   강동구  \n",
       "29320194   강동구  \n",
       "29320195   강동구  \n",
       "29320196   강동구  "
      ]
     },
     "execution_count": 172,
     "metadata": {},
     "output_type": "execute_result"
    }
   ],
   "source": [
    "# 아래에 실습코드를 작성하고 결과를 확인합니다.\n",
    "seoul_moving['출발자치구'] = seoul_moving['출발자치구코드'].map({\n",
    "    11010 :'종로구',\n",
    "11020 :'중구',\n",
    "11030 :'용산구',\n",
    "11040 :'성동구',\n",
    "11050 :'광진구',\n",
    "11060 :'동대문구',\n",
    "11070 :'중랑구',\n",
    "11080 :'성북구',\n",
    "11090 :'강북구',\n",
    "11100 :'도봉구',\n",
    "11110 :'노원구',\n",
    "11120 :'은평구',\n",
    "11130 :'서대문구',\n",
    "11140 :'마포구',\n",
    "11150 :'양천구',\n",
    "11160 :'강서구',\n",
    "11170 :'구로구',\n",
    "11180 :'금천구',\n",
    "11190 :'영등포구',\n",
    "11200 :'동작구',\n",
    "11210 :'관악구',\n",
    "11220 :'서초구',\n",
    "11230 :'강남구',\n",
    "11240 :'송파구',\n",
    "11250 :'강동구',\n",
    "})\n",
    "seoul_moving['도착자치구'] = seoul_moving['도착자치구코드'].map({\n",
    "    11010 :'종로구',\n",
    "11020 :'중구',\n",
    "11030 :'용산구',\n",
    "11040 :'성동구',\n",
    "11050 :'광진구',\n",
    "11060 :'동대문구',\n",
    "11070 :'중랑구',\n",
    "11080 :'성북구',\n",
    "11090 :'강북구',\n",
    "11100 :'도봉구',\n",
    "11110 :'노원구',\n",
    "11120 :'은평구',\n",
    "11130 :'서대문구',\n",
    "11140 :'마포구',\n",
    "11150 :'양천구',\n",
    "11160 :'강서구',\n",
    "11170 :'구로구',\n",
    "11180 :'금천구',\n",
    "11190 :'영등포구',\n",
    "11200 :'동작구',\n",
    "11210 :'관악구',\n",
    "11220 :'서초구',\n",
    "11230 :'강남구',\n",
    "11240 :'송파구',\n",
    "11250 :'강동구',\n",
    "})\n",
    "seoul_moving.tail()"
   ]
  },
  {
   "cell_type": "markdown",
   "id": "e968a0ae",
   "metadata": {},
   "source": [
    "#### [실습문제7] 서울지역의 구 별로 groupby하여 데이터를 확인하겠습니다 (유동인구 기준)\n",
    "\n",
    "* 유출이 제일 많은 구는?\n",
    "강남구 117만\n",
    "\n",
    "* 유입이 제일 많은 구는?\n",
    "강남 55.7만\n",
    "* 유출이 제일 적은 구는?\n",
    "금천구 13.7만\n",
    "* 유입이 제일 적은 구는?\n",
    "금천구 17.8만"
   ]
  },
  {
   "cell_type": "markdown",
   "id": "ab98b422",
   "metadata": {},
   "source": [
    "* 참고자료 서울 구별 코드\n",
    "    * 11010\t종로구\n",
    "    * 11020\t중구\n",
    "    * 11030\t용산구\n",
    "    * 11040\t성동구\n",
    "    * 11050\t광진구\n",
    "    * 11060\t동대문구\n",
    "    * 11070\t중랑구\n",
    "    * 11080\t성북구\n",
    "    * 11090\t강북구\n",
    "    * 11100\t도봉구\n",
    "    * 11110\t노원구\n",
    "    * 11120\t은평구\n",
    "    * 11130\t서대문구\n",
    "    * 11140\t마포구\n",
    "    * 11150\t양천구\n",
    "    * 11160\t강서구\n",
    "    * 11170\t구로구\n",
    "    * 11180\t금천구\n",
    "    * 11190\t영등포구\n",
    "    * 11200\t동작구\n",
    "    * 11210\t관악구\n",
    "    * 11220\t서초구\n",
    "    * 11230\t강남구\n",
    "    * 11240\t송파구\n",
    "    * 11250\t강동구"
   ]
  },
  {
   "cell_type": "code",
   "execution_count": 83,
   "id": "223084fc-32e2-470d-a97f-f74c906a270d",
   "metadata": {
    "tags": []
   },
   "outputs": [
    {
     "data": {
      "text/plain": [
       "(1135049, 11)"
      ]
     },
     "execution_count": 83,
     "metadata": {},
     "output_type": "execute_result"
    }
   ],
   "source": [
    "seoul_moving.shape"
   ]
  },
  {
   "cell_type": "code",
   "execution_count": 205,
   "id": "3de7aee8-99f7-4ec2-b31c-36f246e3a71c",
   "metadata": {
    "tags": []
   },
   "outputs": [
    {
     "data": {
      "text/html": [
       "<div>\n",
       "<style scoped>\n",
       "    .dataframe tbody tr th:only-of-type {\n",
       "        vertical-align: middle;\n",
       "    }\n",
       "\n",
       "    .dataframe tbody tr th {\n",
       "        vertical-align: top;\n",
       "    }\n",
       "\n",
       "    .dataframe thead th {\n",
       "        text-align: right;\n",
       "    }\n",
       "</style>\n",
       "<table border=\"1\" class=\"dataframe\">\n",
       "  <thead>\n",
       "    <tr style=\"text-align: right;\">\n",
       "      <th></th>\n",
       "      <th>대상연월</th>\n",
       "      <th>요일</th>\n",
       "      <th>도착시간</th>\n",
       "      <th>출발자치구코드</th>\n",
       "      <th>도착자치구코드</th>\n",
       "      <th>성별</th>\n",
       "      <th>나이</th>\n",
       "      <th>이동유형</th>\n",
       "      <th>평균이동시간</th>\n",
       "      <th>이동인구</th>\n",
       "      <th>출발자치구</th>\n",
       "      <th>도착자치구</th>\n",
       "    </tr>\n",
       "  </thead>\n",
       "  <tbody>\n",
       "    <tr>\n",
       "      <th>29320194</th>\n",
       "      <td>202401</td>\n",
       "      <td>토</td>\n",
       "      <td>23</td>\n",
       "      <td>11250</td>\n",
       "      <td>11250</td>\n",
       "      <td>M</td>\n",
       "      <td>80</td>\n",
       "      <td>HW</td>\n",
       "      <td>168</td>\n",
       "      <td>9.48</td>\n",
       "      <td>강동구</td>\n",
       "      <td>강동구</td>\n",
       "    </tr>\n",
       "    <tr>\n",
       "      <th>29320195</th>\n",
       "      <td>202401</td>\n",
       "      <td>토</td>\n",
       "      <td>23</td>\n",
       "      <td>11250</td>\n",
       "      <td>11250</td>\n",
       "      <td>M</td>\n",
       "      <td>80</td>\n",
       "      <td>WH</td>\n",
       "      <td>16</td>\n",
       "      <td>47.27</td>\n",
       "      <td>강동구</td>\n",
       "      <td>강동구</td>\n",
       "    </tr>\n",
       "    <tr>\n",
       "      <th>29320196</th>\n",
       "      <td>202401</td>\n",
       "      <td>토</td>\n",
       "      <td>23</td>\n",
       "      <td>11250</td>\n",
       "      <td>11250</td>\n",
       "      <td>M</td>\n",
       "      <td>80</td>\n",
       "      <td>WW</td>\n",
       "      <td>78</td>\n",
       "      <td>28.51</td>\n",
       "      <td>강동구</td>\n",
       "      <td>강동구</td>\n",
       "    </tr>\n",
       "  </tbody>\n",
       "</table>\n",
       "</div>"
      ],
      "text/plain": [
       "            대상연월 요일  도착시간  출발자치구코드  도착자치구코드 성별  나이 이동유형  평균이동시간   이동인구 출발자치구  \\\n",
       "29320194  202401  토    23    11250    11250  M  80   HW     168   9.48   강동구   \n",
       "29320195  202401  토    23    11250    11250  M  80   WH      16  47.27   강동구   \n",
       "29320196  202401  토    23    11250    11250  M  80   WW      78  28.51   강동구   \n",
       "\n",
       "         도착자치구  \n",
       "29320194   강동구  \n",
       "29320195   강동구  \n",
       "29320196   강동구  "
      ]
     },
     "execution_count": 205,
     "metadata": {},
     "output_type": "execute_result"
    }
   ],
   "source": [
    "seoul_moving.tail(3)"
   ]
  },
  {
   "cell_type": "code",
   "execution_count": 206,
   "id": "38564819",
   "metadata": {
    "tags": []
   },
   "outputs": [],
   "source": [
    "# 아래에 실습코드를 작성하고 결과를 확인합니다.\n",
    "# 유출이 제일 많은 구와 적은 구는?\n",
    "temp = seoul_moving.loc[seoul_moving['출발자치구코드']!=seoul_moving['도착자치구코드'],:]\n",
    "condition = (temp['도착시간']<=23) & (temp['도착시간']>=5)\n",
    "temp = temp.loc[condition, :]\n",
    "moving_out_num = temp.groupby('출발자치구코드')['이동인구'].sum()\n",
    "moving_in_num = temp.groupby('도착자치구코드')['이동인구'].sum()\n",
    "moving = pd.concat([moving_out_num,moving_in_num], axis=1)\n"
   ]
  },
  {
   "cell_type": "code",
   "execution_count": 207,
   "id": "cb881d70-fbca-4f35-a779-b16e1e78dbe8",
   "metadata": {
    "tags": []
   },
   "outputs": [
    {
     "data": {
      "text/html": [
       "<div>\n",
       "<style scoped>\n",
       "    .dataframe tbody tr th:only-of-type {\n",
       "        vertical-align: middle;\n",
       "    }\n",
       "\n",
       "    .dataframe tbody tr th {\n",
       "        vertical-align: top;\n",
       "    }\n",
       "\n",
       "    .dataframe thead th {\n",
       "        text-align: right;\n",
       "    }\n",
       "</style>\n",
       "<table border=\"1\" class=\"dataframe\">\n",
       "  <thead>\n",
       "    <tr style=\"text-align: right;\">\n",
       "      <th></th>\n",
       "      <th>유출인구</th>\n",
       "      <th>유입인구</th>\n",
       "      <th>유동인구</th>\n",
       "    </tr>\n",
       "  </thead>\n",
       "  <tbody>\n",
       "    <tr>\n",
       "      <th>11010</th>\n",
       "      <td>12613011.34</td>\n",
       "      <td>12768928.52</td>\n",
       "      <td>155917.18</td>\n",
       "    </tr>\n",
       "    <tr>\n",
       "      <th>11020</th>\n",
       "      <td>13383044.00</td>\n",
       "      <td>13780212.81</td>\n",
       "      <td>397168.81</td>\n",
       "    </tr>\n",
       "    <tr>\n",
       "      <th>11030</th>\n",
       "      <td>8345085.38</td>\n",
       "      <td>8575222.02</td>\n",
       "      <td>230136.64</td>\n",
       "    </tr>\n",
       "    <tr>\n",
       "      <th>11040</th>\n",
       "      <td>9657271.50</td>\n",
       "      <td>9583486.93</td>\n",
       "      <td>-73784.57</td>\n",
       "    </tr>\n",
       "    <tr>\n",
       "      <th>11050</th>\n",
       "      <td>8208352.27</td>\n",
       "      <td>8213482.00</td>\n",
       "      <td>5129.73</td>\n",
       "    </tr>\n",
       "  </tbody>\n",
       "</table>\n",
       "</div>"
      ],
      "text/plain": [
       "              유출인구         유입인구       유동인구\n",
       "11010  12613011.34  12768928.52  155917.18\n",
       "11020  13383044.00  13780212.81  397168.81\n",
       "11030   8345085.38   8575222.02  230136.64\n",
       "11040   9657271.50   9583486.93  -73784.57\n",
       "11050   8208352.27   8213482.00    5129.73"
      ]
     },
     "execution_count": 207,
     "metadata": {},
     "output_type": "execute_result"
    }
   ],
   "source": [
    "seoul_moving.head()\n",
    "import numpy as np\n",
    "moving.columns = ['유출인구','유입인구']\n",
    "moving['전체유동인구'] = seoul_moving['유입인구'] - seoul_moving['유출인구'] \n",
    "moving.head()"
   ]
  },
  {
   "cell_type": "code",
   "execution_count": 209,
   "id": "4d74e0dc-8631-4d73-a42e-258876b96212",
   "metadata": {
    "tags": []
   },
   "outputs": [],
   "source": [
    "moving = moving.reset_index()\n",
    "moving.rename(columns={'index':'자치구'}, inplace=True)"
   ]
  },
  {
   "cell_type": "code",
   "execution_count": 164,
   "id": "5b74bb6d",
   "metadata": {
    "tags": []
   },
   "outputs": [
    {
     "name": "stdout",
     "output_type": "stream",
     "text": [
      "11180    4379891.58\n",
      "11100    5684682.99\n",
      "11070    6466159.98\n",
      "11090    6474507.03\n",
      "11120    6630722.83\n",
      "Name: 유입인구, dtype: float64\n",
      "====================\n",
      "11230    23271626.11\n",
      "11220    16603565.69\n",
      "11020    14078685.33\n",
      "11190    13924518.07\n",
      "11240    13260464.70\n",
      "Name: 유입인구, dtype: float64\n",
      "====================\n",
      "11180    4385750.01\n",
      "11100    5686234.59\n",
      "11070    6449369.23\n",
      "11090    6482328.38\n",
      "11120    6639329.34\n",
      "Name: 유출인구, dtype: float64\n",
      "====================\n",
      "11230    23297651.03\n",
      "11220    16529995.81\n",
      "11020    14049403.00\n",
      "11190    13959033.76\n",
      "11240    13349555.90\n",
      "Name: 유출인구, dtype: float64\n"
     ]
    }
   ],
   "source": [
    "# 아래에 실습코드를 작성하고 결과를 확인합니다.\n",
    "# 유입이 제일 많은 구와 적은 구는?\n",
    "print(moving['유입인구'].sort_values().head())\n",
    "print('='*20)\n",
    "print(moving['유입인구'].sort_values(ascending=False).head())\n",
    "print('='*20)\n",
    "print(moving['유출인구'].sort_values().head())\n",
    "print('='*20)\n",
    "print(moving['유출인구'].sort_values(ascending=False).head())"
   ]
  },
  {
   "cell_type": "markdown",
   "id": "0e59a374-73f7-4c1e-a799-ee71524a5690",
   "metadata": {},
   "source": [
    "* 유출인구 1등 강남구\n",
    "* 유입인구 1등 강남구\n",
    "* 유출 꼴등 금천구\n",
    "* 유입 꼴등 금천구"
   ]
  },
  {
   "cell_type": "markdown",
   "id": "1ace49d0",
   "metadata": {},
   "source": [
    "#### [실습문제8] 낮시간만 볼게요 심야버스 제외하겠습니다\n",
    "\n",
    "* 도착시간 0부터 4까지(0:00 ~ 4:59) 제거"
   ]
  },
  {
   "cell_type": "code",
   "execution_count": 211,
   "id": "d54050e1",
   "metadata": {
    "tags": []
   },
   "outputs": [
    {
     "data": {
      "text/html": [
       "<div>\n",
       "<style scoped>\n",
       "    .dataframe tbody tr th:only-of-type {\n",
       "        vertical-align: middle;\n",
       "    }\n",
       "\n",
       "    .dataframe tbody tr th {\n",
       "        vertical-align: top;\n",
       "    }\n",
       "\n",
       "    .dataframe thead th {\n",
       "        text-align: right;\n",
       "    }\n",
       "</style>\n",
       "<table border=\"1\" class=\"dataframe\">\n",
       "  <thead>\n",
       "    <tr style=\"text-align: right;\">\n",
       "      <th></th>\n",
       "      <th>대상연월</th>\n",
       "      <th>요일</th>\n",
       "      <th>도착시간</th>\n",
       "      <th>출발자치구코드</th>\n",
       "      <th>도착자치구코드</th>\n",
       "      <th>성별</th>\n",
       "      <th>나이</th>\n",
       "      <th>이동유형</th>\n",
       "      <th>평균이동시간</th>\n",
       "      <th>이동인구</th>\n",
       "      <th>출발자치구</th>\n",
       "      <th>도착자치구</th>\n",
       "    </tr>\n",
       "  </thead>\n",
       "  <tbody>\n",
       "    <tr>\n",
       "      <th>2377741</th>\n",
       "      <td>202401</td>\n",
       "      <td>일</td>\n",
       "      <td>5</td>\n",
       "      <td>11010</td>\n",
       "      <td>11010</td>\n",
       "      <td>F</td>\n",
       "      <td>0</td>\n",
       "      <td>HE</td>\n",
       "      <td>54</td>\n",
       "      <td>28.28</td>\n",
       "      <td>종로구</td>\n",
       "      <td>종로구</td>\n",
       "    </tr>\n",
       "    <tr>\n",
       "      <th>2377742</th>\n",
       "      <td>202401</td>\n",
       "      <td>일</td>\n",
       "      <td>5</td>\n",
       "      <td>11010</td>\n",
       "      <td>11010</td>\n",
       "      <td>F</td>\n",
       "      <td>0</td>\n",
       "      <td>HW</td>\n",
       "      <td>30</td>\n",
       "      <td>28.03</td>\n",
       "      <td>종로구</td>\n",
       "      <td>종로구</td>\n",
       "    </tr>\n",
       "    <tr>\n",
       "      <th>2377743</th>\n",
       "      <td>202401</td>\n",
       "      <td>일</td>\n",
       "      <td>5</td>\n",
       "      <td>11010</td>\n",
       "      <td>11010</td>\n",
       "      <td>F</td>\n",
       "      <td>10</td>\n",
       "      <td>EE</td>\n",
       "      <td>54</td>\n",
       "      <td>6.00</td>\n",
       "      <td>종로구</td>\n",
       "      <td>종로구</td>\n",
       "    </tr>\n",
       "  </tbody>\n",
       "</table>\n",
       "</div>"
      ],
      "text/plain": [
       "           대상연월 요일  도착시간  출발자치구코드  도착자치구코드 성별  나이 이동유형  평균이동시간   이동인구 출발자치구  \\\n",
       "2377741  202401  일     5    11010    11010  F   0   HE      54  28.28   종로구   \n",
       "2377742  202401  일     5    11010    11010  F   0   HW      30  28.03   종로구   \n",
       "2377743  202401  일     5    11010    11010  F  10   EE      54   6.00   종로구   \n",
       "\n",
       "        도착자치구  \n",
       "2377741   종로구  \n",
       "2377742   종로구  \n",
       "2377743   종로구  "
      ]
     },
     "execution_count": 211,
     "metadata": {},
     "output_type": "execute_result"
    }
   ],
   "source": [
    "# 아래에 실습코드를 작성하고 결과를 확인합니다.\n",
    "# '도착시간' >=5\n",
    "condition = (seoul_moving['도착시간']<=23) & (seoul_moving['도착시간']>=5)\n",
    "seoul_day = seoul_moving.loc[condition, :]\n",
    "seoul_day.tail(3)"
   ]
  },
  {
   "cell_type": "markdown",
   "id": "bff8a6d6",
   "metadata": {},
   "source": [
    "[실습문제9] '도착 시군구 코드' 를 기준으로 각 구별로 '평균 이동 시간(분)' , '이동인구(합)' 의 평균 과 합을 구해보겠습니다\n",
    "\n",
    "* groupby 사용, as_index=False로 설정해주세요"
   ]
  },
  {
   "cell_type": "code",
   "execution_count": 190,
   "id": "7783e416",
   "metadata": {
    "tags": []
   },
   "outputs": [
    {
     "data": {
      "text/html": [
       "<div>\n",
       "<style scoped>\n",
       "    .dataframe tbody tr th:only-of-type {\n",
       "        vertical-align: middle;\n",
       "    }\n",
       "\n",
       "    .dataframe tbody tr th {\n",
       "        vertical-align: top;\n",
       "    }\n",
       "\n",
       "    .dataframe thead th {\n",
       "        text-align: right;\n",
       "    }\n",
       "</style>\n",
       "<table border=\"1\" class=\"dataframe\">\n",
       "  <thead>\n",
       "    <tr style=\"text-align: right;\">\n",
       "      <th></th>\n",
       "      <th>도착자치구코드</th>\n",
       "      <th>이동인구</th>\n",
       "    </tr>\n",
       "  </thead>\n",
       "  <tbody>\n",
       "    <tr>\n",
       "      <th>0</th>\n",
       "      <td>11010</td>\n",
       "      <td>19803049.50</td>\n",
       "    </tr>\n",
       "    <tr>\n",
       "      <th>1</th>\n",
       "      <td>11020</td>\n",
       "      <td>21132891.17</td>\n",
       "    </tr>\n",
       "    <tr>\n",
       "      <th>2</th>\n",
       "      <td>11030</td>\n",
       "      <td>14930983.13</td>\n",
       "    </tr>\n",
       "    <tr>\n",
       "      <th>3</th>\n",
       "      <td>11040</td>\n",
       "      <td>17378528.65</td>\n",
       "    </tr>\n",
       "    <tr>\n",
       "      <th>4</th>\n",
       "      <td>11050</td>\n",
       "      <td>17668243.56</td>\n",
       "    </tr>\n",
       "    <tr>\n",
       "      <th>5</th>\n",
       "      <td>11060</td>\n",
       "      <td>16866011.11</td>\n",
       "    </tr>\n",
       "    <tr>\n",
       "      <th>6</th>\n",
       "      <td>11070</td>\n",
       "      <td>14173946.94</td>\n",
       "    </tr>\n",
       "    <tr>\n",
       "      <th>7</th>\n",
       "      <td>11080</td>\n",
       "      <td>18352863.32</td>\n",
       "    </tr>\n",
       "    <tr>\n",
       "      <th>8</th>\n",
       "      <td>11090</td>\n",
       "      <td>12481223.62</td>\n",
       "    </tr>\n",
       "    <tr>\n",
       "      <th>9</th>\n",
       "      <td>11100</td>\n",
       "      <td>10969622.19</td>\n",
       "    </tr>\n",
       "    <tr>\n",
       "      <th>10</th>\n",
       "      <td>11110</td>\n",
       "      <td>20347245.15</td>\n",
       "    </tr>\n",
       "    <tr>\n",
       "      <th>11</th>\n",
       "      <td>11120</td>\n",
       "      <td>17083943.08</td>\n",
       "    </tr>\n",
       "    <tr>\n",
       "      <th>12</th>\n",
       "      <td>11130</td>\n",
       "      <td>16960567.04</td>\n",
       "    </tr>\n",
       "    <tr>\n",
       "      <th>13</th>\n",
       "      <td>11140</td>\n",
       "      <td>24149917.94</td>\n",
       "    </tr>\n",
       "    <tr>\n",
       "      <th>14</th>\n",
       "      <td>11150</td>\n",
       "      <td>15167050.76</td>\n",
       "    </tr>\n",
       "    <tr>\n",
       "      <th>15</th>\n",
       "      <td>11160</td>\n",
       "      <td>23768064.39</td>\n",
       "    </tr>\n",
       "    <tr>\n",
       "      <th>16</th>\n",
       "      <td>11170</td>\n",
       "      <td>15713269.19</td>\n",
       "    </tr>\n",
       "    <tr>\n",
       "      <th>17</th>\n",
       "      <td>11180</td>\n",
       "      <td>8554931.56</td>\n",
       "    </tr>\n",
       "    <tr>\n",
       "      <th>18</th>\n",
       "      <td>11190</td>\n",
       "      <td>26473548.53</td>\n",
       "    </tr>\n",
       "    <tr>\n",
       "      <th>19</th>\n",
       "      <td>11200</td>\n",
       "      <td>16172257.13</td>\n",
       "    </tr>\n",
       "    <tr>\n",
       "      <th>20</th>\n",
       "      <td>11210</td>\n",
       "      <td>19188260.69</td>\n",
       "    </tr>\n",
       "    <tr>\n",
       "      <th>21</th>\n",
       "      <td>11220</td>\n",
       "      <td>31212449.29</td>\n",
       "    </tr>\n",
       "    <tr>\n",
       "      <th>22</th>\n",
       "      <td>11230</td>\n",
       "      <td>48478887.79</td>\n",
       "    </tr>\n",
       "    <tr>\n",
       "      <th>23</th>\n",
       "      <td>11240</td>\n",
       "      <td>36032453.85</td>\n",
       "    </tr>\n",
       "    <tr>\n",
       "      <th>24</th>\n",
       "      <td>11250</td>\n",
       "      <td>22435647.77</td>\n",
       "    </tr>\n",
       "  </tbody>\n",
       "</table>\n",
       "</div>"
      ],
      "text/plain": [
       "    도착자치구코드         이동인구\n",
       "0     11010  19803049.50\n",
       "1     11020  21132891.17\n",
       "2     11030  14930983.13\n",
       "3     11040  17378528.65\n",
       "4     11050  17668243.56\n",
       "5     11060  16866011.11\n",
       "6     11070  14173946.94\n",
       "7     11080  18352863.32\n",
       "8     11090  12481223.62\n",
       "9     11100  10969622.19\n",
       "10    11110  20347245.15\n",
       "11    11120  17083943.08\n",
       "12    11130  16960567.04\n",
       "13    11140  24149917.94\n",
       "14    11150  15167050.76\n",
       "15    11160  23768064.39\n",
       "16    11170  15713269.19\n",
       "17    11180   8554931.56\n",
       "18    11190  26473548.53\n",
       "19    11200  16172257.13\n",
       "20    11210  19188260.69\n",
       "21    11220  31212449.29\n",
       "22    11230  48478887.79\n",
       "23    11240  36032453.85\n",
       "24    11250  22435647.77"
      ]
     },
     "execution_count": 190,
     "metadata": {},
     "output_type": "execute_result"
    }
   ],
   "source": [
    "# 아래에 실습코드를 작성하고 결과를 확인합니다.\n",
    "# 평균을 구해서 df_mean 변수로 저장\n",
    "seoul_day.to_csv('./seoul_day.csv')\n",
    "# 이동 인구의 평균은 ? 시간 단위로 계산하여 평균 내리기\n",
    "seoul_day.groupby('도착자치구코드', as_index=False)['이동인구'].sum() #24-5 = 19 시간으로 나누면 시간당 평균 이동인구"
   ]
  },
  {
   "cell_type": "markdown",
   "id": "6d6882f2-4ed5-45cc-8de0-6a961c05e456",
   "metadata": {},
   "source": [
    "* 이동인구 평균을 구하기 위한 기준 단위가 무엇인가?"
   ]
  },
  {
   "cell_type": "code",
   "execution_count": 178,
   "id": "86bd27f5",
   "metadata": {
    "tags": []
   },
   "outputs": [],
   "source": [
    "# 아래에 실습코드를 작성하고 결과를 확인합니다.\n",
    "# 합을 구해서 df_sum 변수로 저장\n",
    "# 평균이동시간(분) -> 총 이동 시간, 이동인구(합) -> 총 이동인구로 이름 대체\n",
    "df_sum = seoul_day.groupby('도착자치구코드', as_index=False)[['평균이동시간','이동인구']].sum()\n",
    "df_sum.columns = ['도착자치구코드','이동시간합계','이동인구합계']"
   ]
  },
  {
   "cell_type": "code",
   "execution_count": 181,
   "id": "1784523c-59ff-494d-ae18-f58ba6140b4a",
   "metadata": {
    "tags": []
   },
   "outputs": [
    {
     "data": {
      "text/plain": [
       "도착자치구코드  도착시간\n",
       "11010    5        154996.17\n",
       "         6        310079.03\n",
       "         7        660545.80\n",
       "         8       1456810.15\n",
       "         9       1416863.02\n",
       "                    ...    \n",
       "11250    19      1709396.86\n",
       "         20      1281016.18\n",
       "         21      1058796.96\n",
       "         22       890690.31\n",
       "         23       531091.41\n",
       "Name: 이동인구, Length: 475, dtype: float64"
      ]
     },
     "execution_count": 181,
     "metadata": {},
     "output_type": "execute_result"
    }
   ],
   "source": [
    "# 시간단위 이동인구 평균 및 이동시간 평균\n",
    "# grouby 두 개\n"
   ]
  },
  {
   "cell_type": "code",
   "execution_count": 179,
   "id": "2e057c5c-f655-4b4e-bc0b-33f29802699c",
   "metadata": {
    "tags": []
   },
   "outputs": [
    {
     "data": {
      "text/html": [
       "<div>\n",
       "<style scoped>\n",
       "    .dataframe tbody tr th:only-of-type {\n",
       "        vertical-align: middle;\n",
       "    }\n",
       "\n",
       "    .dataframe tbody tr th {\n",
       "        vertical-align: top;\n",
       "    }\n",
       "\n",
       "    .dataframe thead th {\n",
       "        text-align: right;\n",
       "    }\n",
       "</style>\n",
       "<table border=\"1\" class=\"dataframe\">\n",
       "  <thead>\n",
       "    <tr style=\"text-align: right;\">\n",
       "      <th></th>\n",
       "      <th>도착자치구코드</th>\n",
       "      <th>이동시간합계</th>\n",
       "      <th>이동인구합계</th>\n",
       "    </tr>\n",
       "  </thead>\n",
       "  <tbody>\n",
       "    <tr>\n",
       "      <th>0</th>\n",
       "      <td>11010</td>\n",
       "      <td>26504649</td>\n",
       "      <td>19803049.50</td>\n",
       "    </tr>\n",
       "    <tr>\n",
       "      <th>1</th>\n",
       "      <td>11020</td>\n",
       "      <td>26065980</td>\n",
       "      <td>21132891.17</td>\n",
       "    </tr>\n",
       "    <tr>\n",
       "      <th>2</th>\n",
       "      <td>11030</td>\n",
       "      <td>23776976</td>\n",
       "      <td>14930983.13</td>\n",
       "    </tr>\n",
       "    <tr>\n",
       "      <th>3</th>\n",
       "      <td>11040</td>\n",
       "      <td>24144722</td>\n",
       "      <td>17378528.65</td>\n",
       "    </tr>\n",
       "    <tr>\n",
       "      <th>4</th>\n",
       "      <td>11050</td>\n",
       "      <td>23556776</td>\n",
       "      <td>17668243.56</td>\n",
       "    </tr>\n",
       "  </tbody>\n",
       "</table>\n",
       "</div>"
      ],
      "text/plain": [
       "   도착자치구코드    이동시간합계       이동인구합계\n",
       "0    11010  26504649  19803049.50\n",
       "1    11020  26065980  21132891.17\n",
       "2    11030  23776976  14930983.13\n",
       "3    11040  24144722  17378528.65\n",
       "4    11050  23556776  17668243.56"
      ]
     },
     "metadata": {},
     "output_type": "display_data"
    },
    {
     "data": {
      "text/html": [
       "<div>\n",
       "<style scoped>\n",
       "    .dataframe tbody tr th:only-of-type {\n",
       "        vertical-align: middle;\n",
       "    }\n",
       "\n",
       "    .dataframe tbody tr th {\n",
       "        vertical-align: top;\n",
       "    }\n",
       "\n",
       "    .dataframe thead th {\n",
       "        text-align: right;\n",
       "    }\n",
       "</style>\n",
       "<table border=\"1\" class=\"dataframe\">\n",
       "  <thead>\n",
       "    <tr style=\"text-align: right;\">\n",
       "      <th></th>\n",
       "      <th>도착자치구코드</th>\n",
       "      <th>이동시간평균</th>\n",
       "      <th>이동인구평균</th>\n",
       "    </tr>\n",
       "  </thead>\n",
       "  <tbody>\n",
       "    <tr>\n",
       "      <th>0</th>\n",
       "      <td>11010</td>\n",
       "      <td>59.819645</td>\n",
       "      <td>44.694476</td>\n",
       "    </tr>\n",
       "    <tr>\n",
       "      <th>1</th>\n",
       "      <td>11020</td>\n",
       "      <td>58.197800</td>\n",
       "      <td>47.183639</td>\n",
       "    </tr>\n",
       "    <tr>\n",
       "      <th>2</th>\n",
       "      <td>11030</td>\n",
       "      <td>57.995736</td>\n",
       "      <td>36.418986</td>\n",
       "    </tr>\n",
       "    <tr>\n",
       "      <th>3</th>\n",
       "      <td>11040</td>\n",
       "      <td>58.184820</td>\n",
       "      <td>41.879404</td>\n",
       "    </tr>\n",
       "    <tr>\n",
       "      <th>4</th>\n",
       "      <td>11050</td>\n",
       "      <td>60.890991</td>\n",
       "      <td>45.669953</td>\n",
       "    </tr>\n",
       "  </tbody>\n",
       "</table>\n",
       "</div>"
      ],
      "text/plain": [
       "   도착자치구코드     이동시간평균     이동인구평균\n",
       "0    11010  59.819645  44.694476\n",
       "1    11020  58.197800  47.183639\n",
       "2    11030  57.995736  36.418986\n",
       "3    11040  58.184820  41.879404\n",
       "4    11050  60.890991  45.669953"
      ]
     },
     "metadata": {},
     "output_type": "display_data"
    }
   ],
   "source": [
    "display(df_sum.head())\n",
    "display(df_mean.head())"
   ]
  },
  {
   "cell_type": "code",
   "execution_count": 212,
   "id": "cb213b3a",
   "metadata": {
    "tags": []
   },
   "outputs": [
    {
     "data": {
      "text/html": [
       "<div>\n",
       "<style scoped>\n",
       "    .dataframe tbody tr th:only-of-type {\n",
       "        vertical-align: middle;\n",
       "    }\n",
       "\n",
       "    .dataframe tbody tr th {\n",
       "        vertical-align: top;\n",
       "    }\n",
       "\n",
       "    .dataframe thead th {\n",
       "        text-align: right;\n",
       "    }\n",
       "</style>\n",
       "<table border=\"1\" class=\"dataframe\">\n",
       "  <thead>\n",
       "    <tr style=\"text-align: right;\">\n",
       "      <th></th>\n",
       "      <th>도착자치구코드</th>\n",
       "      <th>이동시간합계</th>\n",
       "      <th>이동인구합계</th>\n",
       "      <th>이동시간평균</th>\n",
       "      <th>이동인구평균</th>\n",
       "    </tr>\n",
       "  </thead>\n",
       "  <tbody>\n",
       "    <tr>\n",
       "      <th>0</th>\n",
       "      <td>11010</td>\n",
       "      <td>26504649</td>\n",
       "      <td>19803049.50</td>\n",
       "      <td>59.819645</td>\n",
       "      <td>44.694476</td>\n",
       "    </tr>\n",
       "    <tr>\n",
       "      <th>1</th>\n",
       "      <td>11020</td>\n",
       "      <td>26065980</td>\n",
       "      <td>21132891.17</td>\n",
       "      <td>58.197800</td>\n",
       "      <td>47.183639</td>\n",
       "    </tr>\n",
       "    <tr>\n",
       "      <th>2</th>\n",
       "      <td>11030</td>\n",
       "      <td>23776976</td>\n",
       "      <td>14930983.13</td>\n",
       "      <td>57.995736</td>\n",
       "      <td>36.418986</td>\n",
       "    </tr>\n",
       "    <tr>\n",
       "      <th>3</th>\n",
       "      <td>11040</td>\n",
       "      <td>24144722</td>\n",
       "      <td>17378528.65</td>\n",
       "      <td>58.184820</td>\n",
       "      <td>41.879404</td>\n",
       "    </tr>\n",
       "    <tr>\n",
       "      <th>4</th>\n",
       "      <td>11050</td>\n",
       "      <td>23556776</td>\n",
       "      <td>17668243.56</td>\n",
       "      <td>60.890991</td>\n",
       "      <td>45.669953</td>\n",
       "    </tr>\n",
       "  </tbody>\n",
       "</table>\n",
       "</div>"
      ],
      "text/plain": [
       "   도착자치구코드    이동시간합계       이동인구합계     이동시간평균     이동인구평균\n",
       "0    11010  26504649  19803049.50  59.819645  44.694476\n",
       "1    11020  26065980  21132891.17  58.197800  47.183639\n",
       "2    11030  23776976  14930983.13  57.995736  36.418986\n",
       "3    11040  24144722  17378528.65  58.184820  41.879404\n",
       "4    11050  23556776  17668243.56  60.890991  45.669953"
      ]
     },
     "execution_count": 212,
     "metadata": {},
     "output_type": "execute_result"
    }
   ],
   "source": [
    "# 파일을 합쳐볼까요\n",
    "# pd.merge()\n",
    "merged_data = pd.merge(df_sum, df_mean, on='도착자치구코드')\n",
    "# df_mean\n",
    "# df_sum\n",
    "merged_data.to_csv('./seoul_moving_day.csv')\n",
    "merged_data.head()\n",
    "\n",
    "# pd.merge(merged_data,moving,left_on='도착자치구코드', right_on='자치구').drop(columns=['자치구'])\n",
    "# 도착지역이동인구 -> 지역대중교통필요수요"
   ]
  },
  {
   "cell_type": "code",
   "execution_count": null,
   "id": "b7389d07",
   "metadata": {},
   "outputs": [],
   "source": [
    "# 해당 데이터프레임을 csv 파일로 저장하세요\n",
    "# to_csv()\n"
   ]
  },
  {
   "cell_type": "markdown",
   "id": "602b8bae",
   "metadata": {},
   "source": [
    "---"
   ]
  },
  {
   "cell_type": "markdown",
   "id": "southeast-integration",
   "metadata": {},
   "source": [
    "# 3.데이터 분석하기\n",
    "+ KeyPoint : 데이터의 형태를 살펴보고 다양한 분석기법을 통해 모델링에 적합하도록 정제요소를 선별할 수 있다.\n",
    "  * 데이터들의 패턴 탐색\n",
    "  * 변수들간의 관계 파악"
   ]
  },
  {
   "cell_type": "code",
   "execution_count": null,
   "id": "194ae01d",
   "metadata": {},
   "outputs": [],
   "source": [
    "# 시각화 한글폰트 설정\n",
    "import seaborn as sns\n",
    "import matplotlib.pyplot as plt\n",
    "\n",
    "plt.rc('font', family='Malgun Gothic')\n",
    "sns.set(font=\"Malgun Gothic\",#\"NanumGothicCoding\", \n",
    "        rc={\"axes.unicode_minus\":False}, # 마이너스 부호 깨짐 현상 해결\n",
    "        style='darkgrid')"
   ]
  },
  {
   "cell_type": "markdown",
   "id": "material-complex",
   "metadata": {},
   "source": [
    "#### [실습문제10] 데이터 분포 알아보기\n",
    "* 다양한 변수를 기준으로 그래프를 그려보고 인사이트를 도출해보세요."
   ]
  },
  {
   "cell_type": "code",
   "execution_count": null,
   "id": "2a610ade",
   "metadata": {},
   "outputs": [],
   "source": [
    "# 아래에 실습코드를 작성하고 결과를 확인합니다.\n"
   ]
  },
  {
   "cell_type": "code",
   "execution_count": null,
   "id": "ce0af14b",
   "metadata": {},
   "outputs": [],
   "source": [
    "# 아래에 실습코드를 작성하고 결과를 확인합니다.\n"
   ]
  },
  {
   "cell_type": "code",
   "execution_count": null,
   "id": "8cc4598f",
   "metadata": {},
   "outputs": [],
   "source": [
    "# 아래에 실습코드를 작성하고 결과를 확인합니다.\n"
   ]
  },
  {
   "cell_type": "code",
   "execution_count": null,
   "id": "86892a60",
   "metadata": {},
   "outputs": [],
   "source": [
    "# 위 차트를 통해 알게된 사실을 정리해봅시다.\n",
    "# 1. \n",
    "# 2.\n",
    "# 3."
   ]
  },
  {
   "cell_type": "markdown",
   "id": "ca567b34",
   "metadata": {},
   "source": [
    "---"
   ]
  }
 ],
 "metadata": {
  "kernelspec": {
   "display_name": "Python 3 (ipykernel)",
   "language": "python",
   "name": "python3"
  },
  "language_info": {
   "codemirror_mode": {
    "name": "ipython",
    "version": 3
   },
   "file_extension": ".py",
   "mimetype": "text/x-python",
   "name": "python",
   "nbconvert_exporter": "python",
   "pygments_lexer": "ipython3",
   "version": "3.11.5"
  },
  "vscode": {
   "interpreter": {
    "hash": "136ac6390a149cc93e6470a8f7f2b930c2fa00ca17cae58650efc746ba1de66d"
   }
  }
 },
 "nbformat": 4,
 "nbformat_minor": 5
}

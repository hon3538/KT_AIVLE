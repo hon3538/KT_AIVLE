{
 "cells": [
  {
   "cell_type": "markdown",
   "id": "boxed-jamaica",
   "metadata": {},
   "source": [
    "# 안녕하세요, 에이블러 여러분!\n",
    "## AIVLE스쿨 1차 미니프로젝트 '서울시 생활정보 기반 대중교통 수요 분석 ' 과정에 오신 여러분을 환영합니다.\n",
    "* 본 과정에서는 실제 사례와 데이터를 기반으로 문제를 해결하는 전체 과정을 자기 주도형 실습으로 진행해볼 예정입니다.\n",
    "* 앞선 교육과정을 정리하는 마음과 지금까지 배운 내용을 바탕으로 문제 해결을 해볼게요!\n",
    "* 미니 프로젝트를 통한 문제 해결 과정 'A에서 Z까지', 지금부터 시작합니다!"
   ]
  },
  {
   "cell_type": "markdown",
   "id": "ef575059",
   "metadata": {},
   "source": [
    "---"
   ]
  },
  {
   "cell_type": "markdown",
   "id": "f2bc4fa5",
   "metadata": {},
   "source": [
    "# 데이터 분석부터 먼저 시작해보겠습니다.\n",
    "## \"버스 정류장 데이터\" 를 확인해 보도록 하겠습니다"
   ]
  },
  {
   "cell_type": "code",
   "execution_count": null,
   "id": "4c6ced42",
   "metadata": {},
   "outputs": [],
   "source": [
    "# 필요 라이브러리부터 설치합니다.\n",
    "# %pip install pandas seaborn"
   ]
  },
  {
   "cell_type": "markdown",
   "id": "revolutionary-farmer",
   "metadata": {},
   "source": [
    "## 기본전제\n",
    "* 제공되는 기본/추가 데이터는 '에이블러용' 폴더에 있습니다.\n",
    "\n",
    "[기본 데이터]\n",
    "* 1.1 bus_station_boarding_month_202401.csv\n",
    "\n",
    "* 서울시 버스노선별 정류장별 승하차 인원 정보\n",
    "* https://data.seoul.go.kr/dataList/OA-12912/S/1/datasetView.do\n",
    "\n",
    "\n",
    "[추가 데이터]\n",
    "* 1.1 bus_station_202401.xlsx\n",
    "\n",
    "* 서울시 버스정류장 위치정보\n",
    "* https://data.seoul.go.kr/dataList/OA-15067/S/1/datasetView.do"
   ]
  },
  {
   "cell_type": "markdown",
   "id": "matched-broad",
   "metadata": {},
   "source": [
    "---"
   ]
  },
  {
   "cell_type": "markdown",
   "id": "warming-gentleman",
   "metadata": {},
   "source": [
    "# 1.데이터 불러오기\n",
    "## 모든 미니 프로젝트의 시작은 '데이터 불러오기' 부터입니다."
   ]
  },
  {
   "cell_type": "markdown",
   "id": "measured-administration",
   "metadata": {},
   "source": [
    "###  데이터 프레임을 불러오고 변수로 저장(CSV 기준으로 진행)\n",
    "* csv : pd.read_csv(\"파일이름. csv\")\n",
    "* txt : pd.read_csv(\"파일이름. csv\", sep=\"구분자\")\n",
    "* xlsx : pd.read_excel('파일이름.xlsx')\n",
    "* pickle : pd.read_pickle(\"파일이름.pkl\") <br>\n",
    " [참고] pickle은 sklearn 라이브러리를 통해 모델을 학습시키고 저장할 때 많이 사용, 파이썬의 모든 객체를 파일로 저장할 수 있다."
   ]
  },
  {
   "cell_type": "markdown",
   "id": "vocational-animal",
   "metadata": {},
   "source": [
    "#### [실습문제1] 데이터 로딩\n",
    "* Pandas 라이브러리를 활용해서 '1.1 bus_station_boarding_month_202401.csv'파일을 'bus_station' 변수에 저장하세요.\n",
    "    * 데이터 파일 로딩시 참고 사항 \n",
    "        * 구분자(sep)는 ',' 입니다\n",
    "        * cp949 인코더를 사용해 주세요"
   ]
  },
  {
   "cell_type": "code",
   "execution_count": null,
   "id": "0bd83ddf",
   "metadata": {},
   "outputs": [],
   "source": [
    "# 아래 실습코드를 실행해주세요.\n",
    "\n",
    "import sys\n",
    "import numpy as np\n",
    "import pandas as pd"
   ]
  },
  {
   "cell_type": "code",
   "execution_count": null,
   "id": "saving-slope",
   "metadata": {},
   "outputs": [],
   "source": [
    "# 아래에 실습코드를 작성하고 결과를 확인합니다.\n",
    "\n",
    "bus_station = pd.read_csv('1.1 bus_station_boarding_month_202401.csv', sep=\",\", encoding = \"cp949\")"
   ]
  },
  {
   "cell_type": "code",
   "execution_count": null,
   "id": "funny-subcommittee",
   "metadata": {},
   "outputs": [],
   "source": [
    "# 데이터 프레임의 Shape을 확인합니다.\n",
    "\n",
    "bus_station.shape"
   ]
  },
  {
   "cell_type": "markdown",
   "id": "73396b42",
   "metadata": {},
   "source": [
    "---"
   ]
  },
  {
   "cell_type": "markdown",
   "id": "annoying-trout",
   "metadata": {},
   "source": [
    "# 2.기본 정보 확인 및 클렌징\n",
    "\n",
    "+ 데이터 클렌징 : 결측치, 이상치 등을 제거하여 데이터 분석 결과가 왜곡 되는 문제를 방지하기 위한 정제 과정"
   ]
  },
  {
   "cell_type": "markdown",
   "id": "romantic-johnson",
   "metadata": {},
   "source": [
    "#### [실습문제2] 기본 정보 확인하기\n",
    "* 'bus_station' 데이터의 정보를 확인해보세요.\n",
    "* 'describe', 'info', 'head' 등 전부 활용해 보세요."
   ]
  },
  {
   "cell_type": "code",
   "execution_count": null,
   "id": "7343fadf",
   "metadata": {},
   "outputs": [],
   "source": [
    "# head()\n"
   ]
  },
  {
   "cell_type": "code",
   "execution_count": null,
   "id": "7f77b32f",
   "metadata": {},
   "outputs": [],
   "source": [
    "# tail()\n"
   ]
  },
  {
   "cell_type": "code",
   "execution_count": null,
   "id": "demographic-battery",
   "metadata": {},
   "outputs": [],
   "source": [
    "# 아래에 실습코드를 작성하고 결과를 확인합니다.\n",
    "# info()\n"
   ]
  },
  {
   "cell_type": "code",
   "execution_count": null,
   "id": "940a114a",
   "metadata": {},
   "outputs": [],
   "source": [
    "# 아래에 실습코드를 작성하고 결과를 확인합니다.\n",
    "# describe()\n",
    "\n"
   ]
  },
  {
   "cell_type": "markdown",
   "id": "f26c27a6",
   "metadata": {},
   "source": [
    "#### [실습문제3] 위 데이터에서 버스정류장 위치를 구 별로 구분 해보기\n",
    "\n",
    "* 'bus_station' 데이터의 정보를 확인해보세요.\n",
    "\n",
    "* 버스정류장 ARS번호의 앞 두자리가 구를 의미합니다.\n",
    "\n",
    "* '자치구' column을 추가 -> 정류장이 위치한 구 이름을 등록\n"
   ]
  },
  {
   "cell_type": "code",
   "execution_count": null,
   "id": "98e2fc76",
   "metadata": {},
   "outputs": [],
   "source": [
    "# \"버스정류장ARS번호\" 컬럼 확인하기\n",
    "\n"
   ]
  },
  {
   "cell_type": "code",
   "execution_count": null,
   "id": "056437b2",
   "metadata": {},
   "outputs": [],
   "source": [
    "# 버스정류장 ARS번호에서 시작하는 앞자리 2개로 '자치구'라는 새로운 컬럼 생성\n",
    "# str() : 정수나 실수를 문자열 형태로 바꿔주는 함수, slice()\n",
    "\n"
   ]
  },
  {
   "cell_type": "markdown",
   "id": "1e97c502",
   "metadata": {},
   "source": [
    "* 버스정류장 ARS 번호 : 01~25까지 앞 숫자 두개가 위치한 구를 의미\n",
    "    01. 종로구\n",
    "    02. 중구\n",
    "    03. 용산구\n",
    "    04. 성동구\n",
    "    05. 광진구\n",
    "    06. 동대문구\n",
    "    07. 중랑구\n",
    "    08. 성북구\n",
    "    09. 강북구\n",
    "    10. 도봉구\n",
    "    11. 노원구\n",
    "    12. 은평구\n",
    "    13. 서대문구\n",
    "    14. 마포구\n",
    "    15. 양천구\n",
    "    16. 강서구\n",
    "    17. 구로구\n",
    "    18. 금천구\n",
    "    19. 영등포구\n",
    "    20. 동작구\n",
    "    21. 관악구\n",
    "    22. 서초구\n",
    "    23. 강남구\n",
    "    24. 송파구\n",
    "    25. 강동구"
   ]
  },
  {
   "cell_type": "code",
   "execution_count": null,
   "id": "e6a4256b",
   "metadata": {},
   "outputs": [],
   "source": [
    "# 구 코드를 구 이름으로 변환하기\n",
    "# map() : 리스트, 튜플 등 반복 가능한 데이터 집합을 입력으로 받아 변환하는 함수\n",
    "\n",
    "bus_station['자치구'] = bus_station['자치구'].map({\n",
    "    '1': '종로구',\n",
    "    '2': '중구',\n",
    "    '3': '용산구',\n",
    "    '4': '성동구',\n",
    "    '5': '광진구',\n",
    "    '6': '동대문구',\n",
    "    '7': '중랑구',\n",
    "    '8': '성북구',\n",
    "    '9': '강북구',\n",
    "    '10': '도봉구',\n",
    "    '11': '노원구',\n",
    "    '12': '은평구',\n",
    "    '13': '서대문구',\n",
    "    '14': '마포구',\n",
    "    '15': '양천구',\n",
    "    '16': '강서구',\n",
    "    '17': '구로구',\n",
    "    '18': '금천구',\n",
    "    '19': '영등포구',\n",
    "    '20': '동작구',\n",
    "    '21': '관악구',\n",
    "    '22': '서초구',\n",
    "    '23': '강남구',\n",
    "    '24': '송파구',\n",
    "    '25': '강동구'})\n"
   ]
  },
  {
   "cell_type": "code",
   "execution_count": null,
   "id": "fdac5d95",
   "metadata": {},
   "outputs": [],
   "source": [
    "# 아래에 실습코드를 작성하고 결과를 확인합니다.\n",
    "# tail(10)\n",
    "\n"
   ]
  },
  {
   "cell_type": "markdown",
   "id": "0606db26",
   "metadata": {},
   "source": [
    "#### [실습문제4] 결측치 처리하기\n",
    "\n"
   ]
  },
  {
   "cell_type": "code",
   "execution_count": null,
   "id": "915f766b",
   "metadata": {},
   "outputs": [],
   "source": [
    "# (가상), (기점가상) 정류장은 ARS번호가 '~'로 나옵니다.\n",
    "# (가상) 정류장 : 버스정보시스템 상에서 위치 정보를 표시하기 위해 임의로 가상의 정류장을 설정, 실제하지 않음\n",
    "# '버스정류장ARS번호'가 '~'인 곳을 확인해주세요.\n",
    "\n"
   ]
  },
  {
   "cell_type": "code",
   "execution_count": null,
   "id": "f516f562",
   "metadata": {},
   "outputs": [],
   "source": [
    "# NaN 값을 제거 해주세요.\n",
    "# dropna()\n",
    "\n"
   ]
  },
  {
   "cell_type": "code",
   "execution_count": null,
   "id": "3e9342f9",
   "metadata": {},
   "outputs": [],
   "source": [
    "# 컬럼별 NaN 값이 있는지 확인, info()\n",
    "\n"
   ]
  },
  {
   "cell_type": "code",
   "execution_count": null,
   "id": "ae560474",
   "metadata": {},
   "outputs": [],
   "source": [
    "# \"버스정류장ARS번호\" dtype을 정수형(int)으로 변경\n",
    "\n"
   ]
  },
  {
   "cell_type": "markdown",
   "id": "003322b3",
   "metadata": {},
   "source": [
    "#### [실습문제5] 구별로 버스정류장의 개수 확인하기 (서울시)\n"
   ]
  },
  {
   "cell_type": "code",
   "execution_count": null,
   "id": "7b63abb7",
   "metadata": {},
   "outputs": [],
   "source": [
    "# 자치구별 버스정류장 고유값들의 갯수를 출력하여 'bus_station_count' 변수로 저장\n",
    "# nunique(), groupby()\n",
    "\n"
   ]
  },
  {
   "cell_type": "code",
   "execution_count": null,
   "id": "3c63d951",
   "metadata": {},
   "outputs": [],
   "source": [
    "# 중랑구에 428개의 버스정류장이 있다는데, 실제 ARS번호를 확인해봅시다.\n",
    "# 자치구별 버스정류장 고유값들을 출력하여 'bus_staiton_unique' 변수로 저장\n",
    "# 중랑구 버스정류장ARS번호 전체 출력\n",
    "\n"
   ]
  },
  {
   "cell_type": "code",
   "execution_count": null,
   "id": "94b2de9c",
   "metadata": {},
   "outputs": [],
   "source": [
    "# 서울 지역 외 '버스정류장ARS번호' 샘플 확인 \n",
    "# 중랑구의 버스정류장ARS번호 7674 인 정류장 확인해보기\n",
    "\n"
   ]
  },
  {
   "cell_type": "code",
   "execution_count": null,
   "id": "0753a1e1",
   "metadata": {},
   "outputs": [],
   "source": [
    "# 서울의 버스 정류장 데이터만 포함하고 있는 excel 파일 열기 ('1.1 bus_station_202401.xlsx')\n",
    "# https://data.seoul.go.kr/dataList/OA-15067/S/1/datasetView.do (출처:서울열린데이터광장)\n",
    "# 'only_seoul' 변수로 저장\n",
    "\n"
   ]
  },
  {
   "cell_type": "code",
   "execution_count": null,
   "id": "32e23908",
   "metadata": {},
   "outputs": [],
   "source": [
    "# 데이터 구조 확인, info()\n",
    "\n"
   ]
  },
  {
   "cell_type": "code",
   "execution_count": null,
   "id": "e2291dc7",
   "metadata": {},
   "outputs": [],
   "source": [
    "# 데이터 확인\n",
    "\n"
   ]
  },
  {
   "cell_type": "code",
   "execution_count": null,
   "id": "e4f35a67",
   "metadata": {},
   "outputs": [],
   "source": [
    "# 서울 지역 외 '버스정류장ARS번호' 샘플 확인\n",
    "\n"
   ]
  },
  {
   "cell_type": "code",
   "execution_count": null,
   "id": "d607bf62",
   "metadata": {},
   "outputs": [],
   "source": [
    "# 'ARS-ID'열 이름을 '버스정류장ARS번호'로 바꾸기\n",
    "\n",
    "\n"
   ]
  },
  {
   "cell_type": "code",
   "execution_count": null,
   "id": "75b114c8",
   "metadata": {},
   "outputs": [],
   "source": [
    "# 'only_seoul'과 'bus_station' 데이터 병합\n",
    "\n"
   ]
  },
  {
   "cell_type": "code",
   "execution_count": null,
   "id": "62dbb217",
   "metadata": {},
   "outputs": [],
   "source": [
    "# 구 별로 버스 정류장의 개수 확인하기, 'seoul_bus_station_ARS' 변수로 저장\n",
    "\n"
   ]
  },
  {
   "cell_type": "code",
   "execution_count": null,
   "id": "1fa4277b",
   "metadata": {},
   "outputs": [],
   "source": [
    "# 서울시에 있는 버스정류장 개수 구하기\n",
    "\n"
   ]
  },
  {
   "cell_type": "markdown",
   "id": "33564b09",
   "metadata": {},
   "source": [
    "#### [실습문제6] 구 별로 버스 노선의 개수 확인하기"
   ]
  },
  {
   "cell_type": "code",
   "execution_count": null,
   "id": "5588cb7f",
   "metadata": {},
   "outputs": [],
   "source": [
    "# 자치구별 노선번호의 개수 구하기, 'seoul_bus_staion_line' 변수로 저장\n",
    "\n"
   ]
  },
  {
   "cell_type": "markdown",
   "id": "3666e46c",
   "metadata": {},
   "source": [
    "#### [실습문제7] 각 구별로 승차 총 승객수, 하차 총 승객수 구하기"
   ]
  },
  {
   "cell_type": "code",
   "execution_count": null,
   "id": "1cdd246f",
   "metadata": {},
   "outputs": [],
   "source": [
    "# 자치구별 \"승차총승객수\",\"하차총승객수\"의 합 구하기, 'seoul_bus_station_sum' 변수로 저장\n",
    "# groupby()\n",
    "\n"
   ]
  },
  {
   "cell_type": "markdown",
   "id": "a3dcb6d4",
   "metadata": {},
   "source": [
    "#### [실습문제8] 각 구별 승차 평균 승객수, 하차 평균 승객수 구하기"
   ]
  },
  {
   "cell_type": "code",
   "execution_count": null,
   "id": "ad901b47",
   "metadata": {},
   "outputs": [],
   "source": [
    "# 자치구별 \"승차총승객수\",\"하차총승객수\"의 평균 구하기, 'seoul_bus_station_mean' 변수로 저장\n",
    "# '승차총승객수' -> '승차평균승객수', '하차총승객수' -> '하차평균승객수'로 열이름 변경\n",
    "\n"
   ]
  },
  {
   "cell_type": "markdown",
   "id": "7f329891",
   "metadata": {},
   "source": [
    "#### [실습문제9] 데이터 프레임 합치기"
   ]
  },
  {
   "cell_type": "code",
   "execution_count": null,
   "id": "dc284dfd",
   "metadata": {},
   "outputs": [],
   "source": [
    "# 네 개 파일을 합쳐주세요.\n",
    "\n",
    "# seoul_bus_station_ARS\n",
    "# seoul_bus_station_line\n",
    "# seoul_bus_station_sum\n",
    "# seoul_bus_station_mean\n",
    "\n",
    "\n"
   ]
  },
  {
   "cell_type": "code",
   "execution_count": null,
   "id": "0f4a0eca",
   "metadata": {},
   "outputs": [],
   "source": [
    "# '버스정류장ARS번호' -> '정류장수', '노선번호' -> '노선수'로 열이름 변경\n",
    "\n"
   ]
  },
  {
   "cell_type": "code",
   "execution_count": null,
   "id": "470c3d5d",
   "metadata": {},
   "outputs": [],
   "source": [
    "# 데이터를 합친 결과를 확인합니다.\n",
    "\n"
   ]
  },
  {
   "cell_type": "code",
   "execution_count": null,
   "id": "97d0cc3f",
   "metadata": {},
   "outputs": [],
   "source": [
    "# 해당 데이터프레임을 csv 파일로 저장하세요.\n",
    "\n"
   ]
  },
  {
   "cell_type": "markdown",
   "id": "602b8bae",
   "metadata": {},
   "source": [
    "---"
   ]
  },
  {
   "cell_type": "markdown",
   "id": "southeast-integration",
   "metadata": {},
   "source": [
    "# 3.데이터 분석하기\n",
    "+ KeyPoint : 데이터의 형태를 살펴보고 다양한 분석기법을 통해 모델링에 적합하도록 정제요소를 선별할 수 있다.\n",
    "  * 데이터들의 패턴 탐색\n",
    "  * 변수들간의 관계 파악"
   ]
  },
  {
   "cell_type": "code",
   "execution_count": null,
   "id": "194ae01d",
   "metadata": {},
   "outputs": [],
   "source": [
    "# 시각화 한글폰트 설정\n",
    "import seaborn as sns\n",
    "import matplotlib.pyplot as plt\n",
    "\n",
    "plt.rc('font', family='Malgun')\n",
    "sns.set(font=\"Malgun Gothic\", \n",
    "        rc={\"axes.unicode_minus\":False}, # 마이너스 부호 깨짐 현상 해결\n",
    "        style='darkgrid')        "
   ]
  },
  {
   "cell_type": "markdown",
   "id": "material-complex",
   "metadata": {},
   "source": [
    "#### [실습문제10] 데이터 분포 알아보기\n",
    "* 다양한 변수를 기준으로 그래프를 그려보고 인사이트를 도출해보세요."
   ]
  },
  {
   "cell_type": "code",
   "execution_count": null,
   "id": "2a610ade",
   "metadata": {},
   "outputs": [],
   "source": [
    "# 자치구별 정류장 수를 볼 수 있는 그래프를 출력해주세요.\n",
    "\n"
   ]
  },
  {
   "cell_type": "code",
   "execution_count": null,
   "id": "86892a60",
   "metadata": {},
   "outputs": [],
   "source": [
    "# 위 차트를 통해 알게된 사실을 개인별로 정리해봅시다.\n",
    "# 1. \n",
    "# 2. \n",
    "# 3. "
   ]
  },
  {
   "cell_type": "markdown",
   "id": "ca567b34",
   "metadata": {},
   "source": [
    "---"
   ]
  }
 ],
 "metadata": {
  "kernelspec": {
   "display_name": "Python 3 (ipykernel)",
   "language": "python",
   "name": "python3"
  },
  "language_info": {
   "codemirror_mode": {
    "name": "ipython",
    "version": 3
   },
   "file_extension": ".py",
   "mimetype": "text/x-python",
   "name": "python",
   "nbconvert_exporter": "python",
   "pygments_lexer": "ipython3",
   "version": "3.11.5"
  },
  "vscode": {
   "interpreter": {
    "hash": "f08154012ddadd8e950e6e9e035c7a7b32c136e7647e9b7c77e02eb723a8bedb"
   }
  }
 },
 "nbformat": 4,
 "nbformat_minor": 5
}

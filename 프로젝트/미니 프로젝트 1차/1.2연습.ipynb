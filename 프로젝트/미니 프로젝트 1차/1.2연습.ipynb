{
 "cells": [
  {
   "cell_type": "code",
   "execution_count": 1,
   "id": "bef48ff7-22c0-43bd-9b85-97cf8f5299f6",
   "metadata": {
    "tags": []
   },
   "outputs": [],
   "source": [
    "import pandas as pd\n",
    "import numpy as np"
   ]
  },
  {
   "cell_type": "code",
   "execution_count": 2,
   "id": "f18f1a16-d1b1-4917-a9c7-3bc136c5631d",
   "metadata": {
    "tags": []
   },
   "outputs": [
    {
     "name": "stdout",
     "output_type": "stream",
     "text": [
      "<class 'pandas.core.frame.DataFrame'>\n",
      "RangeIndex: 9656720 entries, 0 to 9656719\n",
      "Data columns (total 13 columns):\n",
      " #   Column      Dtype  \n",
      "---  ------      -----  \n",
      " 0   Unnamed: 0  int64  \n",
      " 1   대상연월        int64  \n",
      " 2   요일          object \n",
      " 3   도착시간        int64  \n",
      " 4   출발자치구코드     int64  \n",
      " 5   도착자치구코드     int64  \n",
      " 6   성별          object \n",
      " 7   나이          int64  \n",
      " 8   이동유형        object \n",
      " 9   평균이동시간      int64  \n",
      " 10  이동인구        float64\n",
      " 11  출발자치구       object \n",
      " 12  도착자치구       object \n",
      "dtypes: float64(1), int64(7), object(5)\n",
      "memory usage: 957.8+ MB\n"
     ]
    }
   ],
   "source": [
    "seoul_day = pd.read_csv('./seoul_day.csv')\n",
    "seoul_day.info()"
   ]
  },
  {
   "cell_type": "code",
   "execution_count": 13,
   "id": "1c0528e4-b505-4297-908c-2ac14b76646d",
   "metadata": {
    "tags": []
   },
   "outputs": [
    {
     "data": {
      "text/html": [
       "<div>\n",
       "<style scoped>\n",
       "    .dataframe tbody tr th:only-of-type {\n",
       "        vertical-align: middle;\n",
       "    }\n",
       "\n",
       "    .dataframe tbody tr th {\n",
       "        vertical-align: top;\n",
       "    }\n",
       "\n",
       "    .dataframe thead th {\n",
       "        text-align: right;\n",
       "    }\n",
       "</style>\n",
       "<table border=\"1\" class=\"dataframe\">\n",
       "  <thead>\n",
       "    <tr style=\"text-align: right;\">\n",
       "      <th></th>\n",
       "      <th>대상연월</th>\n",
       "      <th>요일</th>\n",
       "      <th>도착시간</th>\n",
       "      <th>출발자치구코드</th>\n",
       "      <th>도착자치구코드</th>\n",
       "      <th>성별</th>\n",
       "      <th>나이</th>\n",
       "      <th>이동유형</th>\n",
       "      <th>평균이동시간</th>\n",
       "      <th>이동인구</th>\n",
       "      <th>출발자치구</th>\n",
       "      <th>도착자치구</th>\n",
       "    </tr>\n",
       "  </thead>\n",
       "  <tbody>\n",
       "    <tr>\n",
       "      <th>0</th>\n",
       "      <td>202401</td>\n",
       "      <td>일</td>\n",
       "      <td>5</td>\n",
       "      <td>11010</td>\n",
       "      <td>11010</td>\n",
       "      <td>F</td>\n",
       "      <td>0</td>\n",
       "      <td>HE</td>\n",
       "      <td>54</td>\n",
       "      <td>28.28</td>\n",
       "      <td>종로구</td>\n",
       "      <td>종로구</td>\n",
       "    </tr>\n",
       "    <tr>\n",
       "      <th>1</th>\n",
       "      <td>202401</td>\n",
       "      <td>일</td>\n",
       "      <td>5</td>\n",
       "      <td>11010</td>\n",
       "      <td>11010</td>\n",
       "      <td>F</td>\n",
       "      <td>0</td>\n",
       "      <td>HW</td>\n",
       "      <td>30</td>\n",
       "      <td>28.03</td>\n",
       "      <td>종로구</td>\n",
       "      <td>종로구</td>\n",
       "    </tr>\n",
       "    <tr>\n",
       "      <th>2</th>\n",
       "      <td>202401</td>\n",
       "      <td>일</td>\n",
       "      <td>5</td>\n",
       "      <td>11010</td>\n",
       "      <td>11010</td>\n",
       "      <td>F</td>\n",
       "      <td>10</td>\n",
       "      <td>EE</td>\n",
       "      <td>54</td>\n",
       "      <td>6.00</td>\n",
       "      <td>종로구</td>\n",
       "      <td>종로구</td>\n",
       "    </tr>\n",
       "    <tr>\n",
       "      <th>3</th>\n",
       "      <td>202401</td>\n",
       "      <td>일</td>\n",
       "      <td>5</td>\n",
       "      <td>11010</td>\n",
       "      <td>11010</td>\n",
       "      <td>F</td>\n",
       "      <td>10</td>\n",
       "      <td>HE</td>\n",
       "      <td>13</td>\n",
       "      <td>5.82</td>\n",
       "      <td>종로구</td>\n",
       "      <td>종로구</td>\n",
       "    </tr>\n",
       "    <tr>\n",
       "      <th>4</th>\n",
       "      <td>202401</td>\n",
       "      <td>일</td>\n",
       "      <td>5</td>\n",
       "      <td>11010</td>\n",
       "      <td>11010</td>\n",
       "      <td>F</td>\n",
       "      <td>15</td>\n",
       "      <td>EH</td>\n",
       "      <td>44</td>\n",
       "      <td>12.22</td>\n",
       "      <td>종로구</td>\n",
       "      <td>종로구</td>\n",
       "    </tr>\n",
       "  </tbody>\n",
       "</table>\n",
       "</div>"
      ],
      "text/plain": [
       "     대상연월 요일  도착시간  출발자치구코드  도착자치구코드 성별  나이 이동유형  평균이동시간   이동인구 출발자치구 도착자치구\n",
       "0  202401  일     5    11010    11010  F   0   HE      54  28.28   종로구   종로구\n",
       "1  202401  일     5    11010    11010  F   0   HW      30  28.03   종로구   종로구\n",
       "2  202401  일     5    11010    11010  F  10   EE      54   6.00   종로구   종로구\n",
       "3  202401  일     5    11010    11010  F  10   HE      13   5.82   종로구   종로구\n",
       "4  202401  일     5    11010    11010  F  15   EH      44  12.22   종로구   종로구"
      ]
     },
     "execution_count": 13,
     "metadata": {},
     "output_type": "execute_result"
    }
   ],
   "source": [
    "seoul_day.head()"
   ]
  },
  {
   "cell_type": "code",
   "execution_count": 12,
   "id": "562d33ba-dbcd-4f17-818c-743a243bdc4e",
   "metadata": {
    "tags": []
   },
   "outputs": [],
   "source": [
    "seoul_day.drop('Unnamed: 0',axis=1,inplace=True)"
   ]
  },
  {
   "cell_type": "code",
   "execution_count": 14,
   "id": "8b975e9f-1301-4d29-8a11-554c9fd77695",
   "metadata": {
    "tags": []
   },
   "outputs": [],
   "source": [
    "seoul_day.to_csv('./seoul_day.csv')"
   ]
  }
 ],
 "metadata": {
  "kernelspec": {
   "display_name": "Python 3 (ipykernel)",
   "language": "python",
   "name": "python3"
  },
  "language_info": {
   "codemirror_mode": {
    "name": "ipython",
    "version": 3
   },
   "file_extension": ".py",
   "mimetype": "text/x-python",
   "name": "python",
   "nbconvert_exporter": "python",
   "pygments_lexer": "ipython3",
   "version": "3.11.5"
  }
 },
 "nbformat": 4,
 "nbformat_minor": 5
}

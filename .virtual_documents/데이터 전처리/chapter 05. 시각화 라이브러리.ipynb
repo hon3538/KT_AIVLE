











import pandas as pd
import numpy as np

# 시각화 라이브러리
import matplotlib.pyplot as plt
import seaborn as sns








path = 'https://raw.githubusercontent.com/DA4BAM/dataset/master/airquality_simple2.csv'
data = pd.read_csv(path)
data['Date'] = pd.to_datetime(data['Date'])
data.dropna(axis = 0, inplace = True)
data.head()








# 차트 그리기
plt.plot(data['Temp'])

# 화면에 보여주기
plt.show()





# 타입1
plt.plot(data['Date'], data['Temp'])
plt.show()





# 타입2
plt.plot('Date', 'Temp', data = data)
plt.show()








import numpy as np
import pandas as pd
import matplotlib.pyplot as plt
import seaborn as sns


air_data = pd.read_csv('https://raw.githubusercontent.com/DA4BAM/dataset/master/airquality_simple2.csv')
air_data.head()


air_data['Date'] = pd.to_datetime(air_data['Date'])
air_data['Date'].info()


air_data['Date'].head(20)


plt.figure(figsize=(5,4))

plt.plot(air_data['Date'], air_data['Ozone'], marker='o', linestyle=':', color = 'g')
plt.xlabel('Date')
plt.ylabel('Ozone')
plt.title('Aircondition')
plt.xticks(rotation=30)
plt.show()








plt.plot(data['Date'], data['Ozone'], label='condition')

plt.xticks(rotation = 30)       # x축 값 꾸미기 : 방향을 30도 틀어서
plt.xlabel('Date')              # x축 이름 지정
plt.ylabel('Ozone')             # y축 이름 지정
plt.title('Daily Airquality')   # 타이틀
plt.legend()

plt.show()





plt.plot(data['Date'], data['Ozone']
         ,color='green'                # 칼러
         , linestyle='dotted'          # 라인스타일
         , marker='o')                 # 값 마커(모양)

plt.xlabel('Date') 
plt.ylabel('Ozone')
plt.title('Daily Airquality')
plt.xticks(rotation=45)

plt.show()





# 첫번째 그래프
plt.plot(data['Date'], data['Ozone'], color='green', linestyle='dotted', marker='o')
# 두번째 그래프
plt.plot(data['Date'], data['Temp'], color='r', linestyle='-', marker='s')

plt.xlabel('Date') 
plt.ylabel('Ozone')
plt.title('Daily Airquality')
plt.xticks(rotation=45)

# 위 그래프와 설정 한꺼번에 보여주기
plt.show()





plt.plot(data['Date'], data['Ozone'], label = 'Ozone')  # label = : 범례추가를 위한 레이블값
plt.plot(data['Date'], data['Temp'], label = 'Temp')

plt.legend(loc = 'right )    # 레이블 표시하기. loc = : 위치
plt.grid()

plt.show()








# 하나의 plot에 여러개 그래프 그려보자
name_list = ['Ozone', 'Temp', 'Wind']
plt.figure(figsize=(12, 8))
for name in name_list :
    plt.plot(air_data['Date'], air_data[name], label = name, marker='o')
plt.legend(loc='upper right')
plt.title('Airquality')
plt.xlabel('Date')
plt.grid()
plt.show()








data.plot(x = 'Date', y = ['Temp','Ozone']
          , title = 'Daily Airquality')
plt.grid()
plt.show()








plt.figure(figsize=(12,8))
air_data.plot('Date',['Ozone','Temp','Wind'])
plt.title('Airquality')
plt.xlabel('Date')
plt.legend(loc = 'upper right')
plt.grid()
plt.show()





data['Ozone']


plt.plot(data['Ozone']) # 값 하나만 쓰면 y값이다. x는 index가 default이다.

plt.ylim(0, 100)
plt.xlim(0, 10)
plt.grid()
plt.show()





plt.figure(figsize = (4, 3))

plt.plot(data['Ozone'])

plt.ylim(0, 100)
plt.xlim(0,10)

plt.grid()
plt.show()





plt.plot(data['Ozone'])

plt.axhline(40, color = 'grey', linestyle = '--')
plt.axvline(10, color = 'red', linestyle = '--')
plt.show()





plt.plot(data['Ozone'])

plt.axhline(40, color = 'grey', linestyle = '--')
plt.axvline(10, color = 'red', linestyle = '--')

plt.text(5, 41, '40')
plt.text(10.1, 20, '10')

plt.show()








plt.plot(air_data['Ozone'])
plt.axhline(40, color='r')
plt.axvline(15, color='y')
plt.text(10, 50, 'eunbin love', size=30, color='skyblue')
plt.show()











data.head()


plt.figure(figsize = (12,8))
plt.subplot(3,1,1)
plt.plot('Date', 'Temp', data = data)
plt.grid()

plt.subplot(3,1,2)
plt.plot('Date', 'Wind', data = data)

plt.subplot(3,1,3)
plt.plot('Date', 'Ozone', data = data)
plt.grid()
plt.ylabel('Ozone')

plt.tight_layout() # 그래프간 간격을 적절히 맞추기
plt.show()





plt.figure(figsize = (15,5))
plt.subplot(1,3,1)
plt.plot('Date', 'Temp', data = data)
plt.title('Temp')
plt.xticks(rotation = 40)
plt.grid()

plt.subplot(1,3,2)
plt.plot('Date', 'Wind', data = data)
plt.title('Wind')
plt.xticks(rotation = 40)
plt.grid()

plt.subplot(1,3,3)
plt.plot('Date', 'Ozone', data = data)
plt.title('Ozone')
plt.xticks(rotation = 40)
plt.grid()

plt.tight_layout() # 그래프간 간격을 적절히 맞추기
plt.show()
















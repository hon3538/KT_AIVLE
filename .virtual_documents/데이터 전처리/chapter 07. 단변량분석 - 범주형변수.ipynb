











import numpy as np
import pandas as pd

import matplotlib.pyplot as plt
import seaborn as sns











path = 'https://raw.githubusercontent.com/DA4BAM/dataset/master/titanic_simple.csv'
titanic = pd.read_csv(path)
titanic.head()








path = 'https://raw.githubusercontent.com/DA4BAM/dataset/master/air2.csv'
air = pd.read_csv(path)
air.head()


import numpy as np
import pandas as pd

import matplotlib.pyplot as plt
import seaborn as sns














titanic['Embarked'].value_counts()





titanic['Embarked'].value_counts(normalize = True)





























sns.countplot(x = 'Pclass', data = titanic)
plt.grid()
plt.show()




















temp = titanic['Pclass'].value_counts()

plt.pie(temp.values, labels = temp.index, autopct = '%.2f%%')
plt.show()





plt.pie(temp.values, labels = temp.index, autopct = '%.2f%%',
        startangle=90, counterclock=False)
plt.show()





plt.pie(temp.values, labels = temp.index, autopct = '%.2f%%',
        startangle=90, counterclock=False,
        explode = [0.05, 0.05, 0.05], shadow=True)
plt.show()








import numpy as np
import pandas as pd

import matplotlib.pyplot as plt
import seaborn as sns








# 보스톤 집값 데이터
boston = pd.read_csv('https://raw.githubusercontent.com/DA4BAM/dataset/master/boston.csv')
boston.head()













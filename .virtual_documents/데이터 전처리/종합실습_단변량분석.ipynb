

















import numpy as np
import pandas as pd

import matplotlib.pyplot as plt
import seaborn as sns











data.to_csv('../데이터/Carseats.csv', sep=',', index=False)


path = 'https://raw.githubusercontent.com/DA4BAM/dataset/master/Carseats2.csv'
data = pd.read_csv(path)
data.head()


data.info()








def eda_1_num(data, var, bins = 30):

    # 기초통계량
    print('<< 기초통계량 >>')
    display(data[[var]].describe().T)
    print('=' * 100)

    # 시각화
    print('<< 그래프 >>')
    plt.figure(figsize = (10,6))

    plt.subplot(2,1,1)
    sns.histplot(data[var], bins = bins, kde = True)
    plt.grid()

    plt.subplot(2,1,2)
    sns.boxplot(x = data[var])
    plt.grid()
    plt.show()





var = 'Sales'











eda_1_num(data, var)














* 








var = 'Price'











eda_1_num(data, var, bins=50)














sns.kdeplot(x='Price', data=data, label='Price')
sns.kdeplot(x='CompPrice', data=data, label='CompPrice')
plt.legend()
plt.grid()
plt.show()





var = 'Income'











eda_1_num(data,var)

















var = 'Advertising'











eda_1_num(data,var, bins=50)














temp = data[data['Advertising']>0]
eda_1_num(temp,'Advertising')





var = 'Population'











eda_1_num(data,var)




















var = 'CompPrice'











eda_1_num(data,var)


















































def eda_1_cat(data, var) :
    t1 = data[var].value_counts()
    t2 = data[var].value_counts(normalize = True)
    t3 = pd.concat([t1, t2], axis = 1)
    t3.columns = ['count','ratio']
    display(t3)
    sns.countplot(x = var, data = data)
    plt.show()
    





var = 'ShelveLoc'











eda_1_cat(data, var)

















var = 'Urban'
data['Urban'].value_counts()











data['Urban'].value_counts()





eda_1_cat(data,var)

















var = 'US'











eda_1_cat(data, var)













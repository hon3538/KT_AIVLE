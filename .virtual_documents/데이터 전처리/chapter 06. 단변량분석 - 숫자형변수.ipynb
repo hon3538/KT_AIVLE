











import numpy as np
import pandas as pd

import matplotlib.pyplot as plt
import seaborn as sns











path = 'https://raw.githubusercontent.com/DA4BAM/dataset/master/titanic_simple.csv'
titanic = pd.read_csv(path)
titanic.head()

# 식별자(PassengerId) 의 경우는 분석대상이 아니다.
# target과 연관이 없기 때문이다.








path = 'https://raw.githubusercontent.com/DA4BAM/dataset/master/air2.csv'
air = pd.read_csv(path)
air.head()











# 넘파이 함수 이용하기
np.mean(titanic['Fare'])


# 판다스의 mean 메서드 이용하기
titanic['Fare'].mean()





# 넘파이 함수 이용하기
np.median(titanic['Fare'])


# 판다스의 median 메서드 이용하기
titanic['Fare'].median()





# 판다스의 mode 메서드 이용하기
titanic['Pclass'].mode()

# 0은 index, 3이 최빈도 등급








titanic['Fare'].describe()








# titanic의 Age에 대해서 기초 통계량을 구해 봅시다.
import numpy as np
import pandas as pd
import matplotlib.pyplot as plt
import seaborn as sns


titanic = pd.read_csv('../데이터/titanic2.csv')
print(titanic.info())
titanic.head()


titanic = titanic[titanic['Age'].notnull()] 
titanic['Age'].describe()


sns.histplot(x= 'Age', data= titanic, bins=30)








titanic['Fare'].describe()





titanic.head()


# 데이터프레임의 숫자타입 변수들 기초통계량 조회
titanic.describe()


# 데이터프레임의 전체 변수들 기초통계량 조회
titanic.describe(include='all')




















plt.hist(titanic.Fare, bins = 5, edgecolor = 'gray')
plt.xlabel('Fare')
plt.ylabel('Frequency')
plt.show()





plt.hist(titanic.Fare, bins = 30, edgecolor = 'gray')
plt.xlabel('Fare')
plt.ylabel('Frequency')
plt.show()





sns.histplot(x= 'Fare', data = titanic, bins = 30)
plt.ylabel('Frequency')
plt.show()





hist1 = plt.hist(titanic.Fare, bins = 5, edgecolor = 'gray')
plt.show()

print(hist1)
print(type(hist1))
print('-' * 50)
print('빈도수 : ', hist1[0])
print('구간값 : ', hist1[1])








#plt histogram



# seaborn












sns.kdeplot(titanic['Fare'])
# sns.kdeplot(x='Fare', data = titanic)

plt.show()




















sns.histplot(titanic['Age'], kde=True, bins=16)








# titanic['Age']에는 NaN이 있습니다. 이를 제외한 데이터
temp = titanic.loc[titanic['Age'].notnull()]


plt.boxplot(temp['Age'])
plt.grid()
plt.show()





plt.boxplot(temp['Age'], vert = False)
plt.grid()
plt.show()





sns.boxplot(x = titanic['Age'])
plt.grid()
plt.show()


sns.boxplot(y = titanic['Age'])
plt.grid()
plt.show()











# seaborn









air['Date'] = pd.to_datetime(air['Date']) # 날짜 형식으로 변환

plt.plot('Date', 'Ozone', 'g-', data = air, label = 'Ozone')
plt.plot('Date', 'Temp', 'r-', data = air, label = 'Temp')

plt.xlabel('Date')
plt.legend()
plt.show()








import numpy as np
import pandas as pd

import matplotlib.pyplot as plt
import seaborn as sns








import pandas as pd
import numpy as np
import matplotlib.pyplot as plt
import seaborn as sns


# 보스톤 집값 데이터
boston = pd.read_csv('https://raw.githubusercontent.com/DA4BAM/dataset/master/boston.csv')
boston.head()








def eda_1_n(data, var, bins = 30) :
    # 기초 통계량
    display(data[[var]].describe().T)

    # 시각화
    plt.figure(figsize = (12,8))
    plt.subplot(2,1,1)
    sns.histplot(data[var], bins = bins, kde = True)
    plt.grid()

    plt.subplot(2,1,2)
    sns.boxplot(x = data[var])
    plt.grid()
    plt.show()














































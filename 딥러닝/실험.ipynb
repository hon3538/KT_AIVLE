{
 "cells": [
  {
   "cell_type": "code",
   "execution_count": 2,
   "id": "b7fb0f4a",
   "metadata": {},
   "outputs": [],
   "source": [
    "# 일반 머신 러닝 모델에도 epoch 으로 모델을 완성시켜 나갈까?\n",
    "from sklearn.linear_model import LinearRegression\n",
    "model = LinearRegression()"
   ]
  },
  {
   "cell_type": "code",
   "execution_count": 3,
   "id": "9704d13a",
   "metadata": {},
   "outputs": [
    {
     "name": "stdout",
     "output_type": "stream",
     "text": [
      "Help on method fit in module sklearn.linear_model._base:\n",
      "\n",
      "fit(X, y, sample_weight=None) method of sklearn.linear_model._base.LinearRegression instance\n",
      "    Fit linear model.\n",
      "    \n",
      "    Parameters\n",
      "    ----------\n",
      "    X : {array-like, sparse matrix} of shape (n_samples, n_features)\n",
      "        Training data.\n",
      "    \n",
      "    y : array-like of shape (n_samples,) or (n_samples, n_targets)\n",
      "        Target values. Will be cast to X's dtype if necessary.\n",
      "    \n",
      "    sample_weight : array-like of shape (n_samples,), default=None\n",
      "        Individual weights for each sample.\n",
      "    \n",
      "        .. versionadded:: 0.17\n",
      "           parameter *sample_weight* support to LinearRegression.\n",
      "    \n",
      "    Returns\n",
      "    -------\n",
      "    self : object\n",
      "        Fitted Estimator.\n",
      "\n"
     ]
    }
   ],
   "source": [
    "help(model.fit)"
   ]
  }
 ],
 "metadata": {
  "kernelspec": {
   "display_name": "Python 3 (ipykernel)",
   "language": "python",
   "name": "python3"
  },
  "language_info": {
   "codemirror_mode": {
    "name": "ipython",
    "version": 3
   },
   "file_extension": ".py",
   "mimetype": "text/x-python",
   "name": "python",
   "nbconvert_exporter": "python",
   "pygments_lexer": "ipython3",
   "version": "3.11.5"
  }
 },
 "nbformat": 4,
 "nbformat_minor": 5
}

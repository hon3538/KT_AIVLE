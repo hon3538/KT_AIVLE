{
 "cells": [
  {
   "cell_type": "markdown",
   "id": "68e6857f",
   "metadata": {},
   "source": [
    "# 데이터 정제 : 이상치 데이터 처리"
   ]
  },
  {
   "cell_type": "code",
   "execution_count": 1,
   "id": "926e1fe6",
   "metadata": {},
   "outputs": [],
   "source": [
    "import numpy as np\n",
    "import pandas as pd"
   ]
  },
  {
   "cell_type": "code",
   "execution_count": 5,
   "id": "5624bedc",
   "metadata": {},
   "outputs": [
    {
     "data": {
      "text/html": [
       "<div>\n",
       "<style scoped>\n",
       "    .dataframe tbody tr th:only-of-type {\n",
       "        vertical-align: middle;\n",
       "    }\n",
       "\n",
       "    .dataframe tbody tr th {\n",
       "        vertical-align: top;\n",
       "    }\n",
       "\n",
       "    .dataframe thead th {\n",
       "        text-align: right;\n",
       "    }\n",
       "</style>\n",
       "<table border=\"1\" class=\"dataframe\">\n",
       "  <thead>\n",
       "    <tr style=\"text-align: right;\">\n",
       "      <th></th>\n",
       "      <th>이름</th>\n",
       "      <th>학과</th>\n",
       "      <th>성적</th>\n",
       "    </tr>\n",
       "  </thead>\n",
       "  <tbody>\n",
       "    <tr>\n",
       "      <th>0</th>\n",
       "      <td>아이유</td>\n",
       "      <td>국문과</td>\n",
       "      <td>3.0</td>\n",
       "    </tr>\n",
       "    <tr>\n",
       "      <th>1</th>\n",
       "      <td>김연아</td>\n",
       "      <td>수학과</td>\n",
       "      <td>1.0</td>\n",
       "    </tr>\n",
       "    <tr>\n",
       "      <th>2</th>\n",
       "      <td>홍길동</td>\n",
       "      <td>전자과</td>\n",
       "      <td>3.5</td>\n",
       "    </tr>\n",
       "    <tr>\n",
       "      <th>3</th>\n",
       "      <td>김은숙</td>\n",
       "      <td>컴퓨터</td>\n",
       "      <td>2.7</td>\n",
       "    </tr>\n",
       "    <tr>\n",
       "      <th>4</th>\n",
       "      <td>홍의선</td>\n",
       "      <td>물리</td>\n",
       "      <td>4.0</td>\n",
       "    </tr>\n",
       "  </tbody>\n",
       "</table>\n",
       "</div>"
      ],
      "text/plain": [
       "    이름   학과   성적\n",
       "0  아이유  국문과  3.0\n",
       "1  김연아  수학과  1.0\n",
       "2  홍길동  전자과  3.5\n",
       "3  김은숙  컴퓨터  2.7\n",
       "4  홍의선   물리  4.0"
      ]
     },
     "execution_count": 5,
     "metadata": {},
     "output_type": "execute_result"
    }
   ],
   "source": [
    "# 데이터 로딩 및 개요 확인\n",
    "# 원래는 기사 별 클릭 데이터지만 소스를 찾을 수 없어 기존에 있는 student.csv로 대체\n",
    "# click_data = pd.read_csv('../data/click_sample_data.csv', encoding='cp949')\n",
    "student_data = pd.read_csv('../data/student.csv')\n",
    "student_data.head(10)"
   ]
  },
  {
   "cell_type": "code",
   "execution_count": 21,
   "id": "aefbbeaf",
   "metadata": {},
   "outputs": [
    {
     "data": {
      "text/html": [
       "<div>\n",
       "<style scoped>\n",
       "    .dataframe tbody tr th:only-of-type {\n",
       "        vertical-align: middle;\n",
       "    }\n",
       "\n",
       "    .dataframe tbody tr th {\n",
       "        vertical-align: top;\n",
       "    }\n",
       "\n",
       "    .dataframe thead th {\n",
       "        text-align: right;\n",
       "    }\n",
       "</style>\n",
       "<table border=\"1\" class=\"dataframe\">\n",
       "  <thead>\n",
       "    <tr style=\"text-align: right;\">\n",
       "      <th></th>\n",
       "      <th>이름</th>\n",
       "      <th>학과</th>\n",
       "      <th>성적</th>\n",
       "    </tr>\n",
       "  </thead>\n",
       "  <tbody>\n",
       "    <tr>\n",
       "      <th>0</th>\n",
       "      <td>아이유</td>\n",
       "      <td>국문과</td>\n",
       "      <td>3.0</td>\n",
       "    </tr>\n",
       "    <tr>\n",
       "      <th>1</th>\n",
       "      <td>김연아</td>\n",
       "      <td>수학과</td>\n",
       "      <td>100.0</td>\n",
       "    </tr>\n",
       "    <tr>\n",
       "      <th>2</th>\n",
       "      <td>홍길동</td>\n",
       "      <td>전자과</td>\n",
       "      <td>3.5</td>\n",
       "    </tr>\n",
       "    <tr>\n",
       "      <th>3</th>\n",
       "      <td>김은숙</td>\n",
       "      <td>컴퓨터</td>\n",
       "      <td>-1.0</td>\n",
       "    </tr>\n",
       "    <tr>\n",
       "      <th>4</th>\n",
       "      <td>홍의선</td>\n",
       "      <td>물리</td>\n",
       "      <td>4.0</td>\n",
       "    </tr>\n",
       "  </tbody>\n",
       "</table>\n",
       "</div>"
      ],
      "text/plain": [
       "    이름   학과     성적\n",
       "0  아이유  국문과    3.0\n",
       "1  김연아  수학과  100.0\n",
       "2  홍길동  전자과    3.5\n",
       "3  김은숙  컴퓨터   -1.0\n",
       "4  홍의선   물리    4.0"
      ]
     },
     "execution_count": 21,
     "metadata": {},
     "output_type": "execute_result"
    }
   ],
   "source": [
    "# 실습을 위해 이상치 만들기\n",
    "student_data.loc[1,'성적'] = 100 # loc는 index와 key(컬럼 이름)로 접근\n",
    "student_data.iloc[3, 2] = -1 # iloc는 무조건 순서로\n",
    "student_copy = student_data.copy()\n",
    "student_copy"
   ]
  },
  {
   "cell_type": "code",
   "execution_count": 10,
   "id": "55ab7236",
   "metadata": {},
   "outputs": [
    {
     "name": "stdout",
     "output_type": "stream",
     "text": [
      "<class 'pandas.core.frame.DataFrame'>\n",
      "RangeIndex: 5 entries, 0 to 4\n",
      "Data columns (total 3 columns):\n",
      " #   Column  Non-Null Count  Dtype  \n",
      "---  ------  --------------  -----  \n",
      " 0   이름      5 non-null      object \n",
      " 1   학과      5 non-null      object \n",
      " 2   성적      5 non-null      float64\n",
      "dtypes: float64(1), object(2)\n",
      "memory usage: 248.0+ bytes\n"
     ]
    }
   ],
   "source": [
    "# 데이터 개요 파악\n",
    "student_copy.info()\n",
    "\n",
    "# 성적만 숫자로 이루어진 연속형 데이터로 이루어져 있고 나머지는 범주형 데이터로 이루어져 있음"
   ]
  },
  {
   "cell_type": "code",
   "execution_count": 11,
   "id": "398e6262",
   "metadata": {},
   "outputs": [
    {
     "data": {
      "text/plain": [
       "count      5.000000\n",
       "mean      21.900000\n",
       "std       43.704119\n",
       "min       -1.000000\n",
       "25%        3.000000\n",
       "50%        3.500000\n",
       "75%        4.000000\n",
       "max      100.000000\n",
       "Name: 성적, dtype: float64"
      ]
     },
     "execution_count": 11,
     "metadata": {},
     "output_type": "execute_result"
    }
   ],
   "source": [
    "student_copy['성적'].describe()"
   ]
  },
  {
   "cell_type": "markdown",
   "id": "14d403b7",
   "metadata": {},
   "source": [
    "성적 최소는 -1, 최대는 100으로 되어 있다. 75% 수준에서 4인데 일부 데이터가 극단치가 존재하는 것으로 보인다"
   ]
  },
  {
   "cell_type": "markdown",
   "id": "a6222ba4",
   "metadata": {},
   "source": [
    "### 이상치 처리하기"
   ]
  },
  {
   "cell_type": "markdown",
   "id": "e4e09984",
   "metadata": {},
   "source": [
    "#### Z-score"
   ]
  },
  {
   "cell_type": "code",
   "execution_count": 12,
   "id": "398f0f17",
   "metadata": {},
   "outputs": [],
   "source": [
    "# 수식 Z = (x-mean) / std.dev\n",
    "# Z = (해당 관측치 - 관측치 변수 평균) / (관측치 변수의 표준편차)"
   ]
  },
  {
   "cell_type": "code",
   "execution_count": 13,
   "id": "54a2c973",
   "metadata": {},
   "outputs": [
    {
     "data": {
      "text/html": [
       "<div>\n",
       "<style scoped>\n",
       "    .dataframe tbody tr th:only-of-type {\n",
       "        vertical-align: middle;\n",
       "    }\n",
       "\n",
       "    .dataframe tbody tr th {\n",
       "        vertical-align: top;\n",
       "    }\n",
       "\n",
       "    .dataframe thead th {\n",
       "        text-align: right;\n",
       "    }\n",
       "</style>\n",
       "<table border=\"1\" class=\"dataframe\">\n",
       "  <thead>\n",
       "    <tr style=\"text-align: right;\">\n",
       "      <th></th>\n",
       "      <th>이름</th>\n",
       "      <th>학과</th>\n",
       "      <th>성적</th>\n",
       "      <th>z-score</th>\n",
       "    </tr>\n",
       "  </thead>\n",
       "  <tbody>\n",
       "    <tr>\n",
       "      <th>0</th>\n",
       "      <td>아이유</td>\n",
       "      <td>국문과</td>\n",
       "      <td>3.0</td>\n",
       "      <td>-0.483498</td>\n",
       "    </tr>\n",
       "    <tr>\n",
       "      <th>1</th>\n",
       "      <td>김연아</td>\n",
       "      <td>수학과</td>\n",
       "      <td>100.0</td>\n",
       "      <td>1.997946</td>\n",
       "    </tr>\n",
       "    <tr>\n",
       "      <th>2</th>\n",
       "      <td>홍길동</td>\n",
       "      <td>전자과</td>\n",
       "      <td>3.5</td>\n",
       "      <td>-0.470707</td>\n",
       "    </tr>\n",
       "    <tr>\n",
       "      <th>3</th>\n",
       "      <td>김은숙</td>\n",
       "      <td>컴퓨터</td>\n",
       "      <td>-1.0</td>\n",
       "      <td>-0.585825</td>\n",
       "    </tr>\n",
       "    <tr>\n",
       "      <th>4</th>\n",
       "      <td>홍의선</td>\n",
       "      <td>물리</td>\n",
       "      <td>4.0</td>\n",
       "      <td>-0.457916</td>\n",
       "    </tr>\n",
       "  </tbody>\n",
       "</table>\n",
       "</div>"
      ],
      "text/plain": [
       "    이름   학과     성적   z-score\n",
       "0  아이유  국문과    3.0 -0.483498\n",
       "1  김연아  수학과  100.0  1.997946\n",
       "2  홍길동  전자과    3.5 -0.470707\n",
       "3  김은숙  컴퓨터   -1.0 -0.585825\n",
       "4  홍의선   물리    4.0 -0.457916"
      ]
     },
     "execution_count": 13,
     "metadata": {},
     "output_type": "execute_result"
    }
   ],
   "source": [
    "# Z-score 컬럼 생성\n",
    "student_copy['z-score'] = (student_copy['성적']-student_copy['성적'].mean())/np.std(student_copy['성적'])\n",
    "student_copy.head()\n",
    "\n",
    "# 데이터의 개수가 5개 밖에 되지 않아서 100이 평균을 많이 높이는 바람에\n",
    "# z-score 즉, 통계적 계산 벙법으로 이상치를 검출하기는 쉽지 않다."
   ]
  },
  {
   "cell_type": "code",
   "execution_count": 14,
   "id": "783f37d9",
   "metadata": {},
   "outputs": [
    {
     "data": {
      "text/html": [
       "<div>\n",
       "<style scoped>\n",
       "    .dataframe tbody tr th:only-of-type {\n",
       "        vertical-align: middle;\n",
       "    }\n",
       "\n",
       "    .dataframe tbody tr th {\n",
       "        vertical-align: top;\n",
       "    }\n",
       "\n",
       "    .dataframe thead th {\n",
       "        text-align: right;\n",
       "    }\n",
       "</style>\n",
       "<table border=\"1\" class=\"dataframe\">\n",
       "  <thead>\n",
       "    <tr style=\"text-align: right;\">\n",
       "      <th></th>\n",
       "      <th>성적</th>\n",
       "      <th>z-score</th>\n",
       "    </tr>\n",
       "  </thead>\n",
       "  <tbody>\n",
       "    <tr>\n",
       "      <th>count</th>\n",
       "      <td>5.000000</td>\n",
       "      <td>5.000000e+00</td>\n",
       "    </tr>\n",
       "    <tr>\n",
       "      <th>mean</th>\n",
       "      <td>21.900000</td>\n",
       "      <td>2.220446e-17</td>\n",
       "    </tr>\n",
       "    <tr>\n",
       "      <th>std</th>\n",
       "      <td>43.704119</td>\n",
       "      <td>1.118034e+00</td>\n",
       "    </tr>\n",
       "    <tr>\n",
       "      <th>min</th>\n",
       "      <td>-1.000000</td>\n",
       "      <td>-5.858253e-01</td>\n",
       "    </tr>\n",
       "    <tr>\n",
       "      <th>25%</th>\n",
       "      <td>3.000000</td>\n",
       "      <td>-4.834977e-01</td>\n",
       "    </tr>\n",
       "    <tr>\n",
       "      <th>50%</th>\n",
       "      <td>3.500000</td>\n",
       "      <td>-4.707068e-01</td>\n",
       "    </tr>\n",
       "    <tr>\n",
       "      <th>75%</th>\n",
       "      <td>4.000000</td>\n",
       "      <td>-4.579158e-01</td>\n",
       "    </tr>\n",
       "    <tr>\n",
       "      <th>max</th>\n",
       "      <td>100.000000</td>\n",
       "      <td>1.997946e+00</td>\n",
       "    </tr>\n",
       "  </tbody>\n",
       "</table>\n",
       "</div>"
      ],
      "text/plain": [
       "               성적       z-score\n",
       "count    5.000000  5.000000e+00\n",
       "mean    21.900000  2.220446e-17\n",
       "std     43.704119  1.118034e+00\n",
       "min     -1.000000 -5.858253e-01\n",
       "25%      3.000000 -4.834977e-01\n",
       "50%      3.500000 -4.707068e-01\n",
       "75%      4.000000 -4.579158e-01\n",
       "max    100.000000  1.997946e+00"
      ]
     },
     "execution_count": 14,
     "metadata": {},
     "output_type": "execute_result"
    }
   ],
   "source": [
    "# 원본 데이터 내 z-score 확인\n",
    "student_copy.describe()\n",
    "\n",
    "# min : -0.58\n",
    "# max : 1.99\n",
    "# 일반적으로 z-score -3 또는 3을 넘어가는 데이터를 이상치라 판단하는데,\n",
    "# 이 예제는 앞서 말했듯이 데이터 표본이 너무 적어서 정확히 판별하기 어렵다.\n",
    "# 따라서, 인적 자원으로 이상치를 판단하고 처리하겠다."
   ]
  },
  {
   "cell_type": "code",
   "execution_count": 15,
   "id": "89a75b57",
   "metadata": {},
   "outputs": [
    {
     "name": "stdout",
     "output_type": "stream",
     "text": [
      "<class 'pandas.core.frame.DataFrame'>\n",
      "Int64Index: 4 entries, 0 to 4\n",
      "Data columns (total 4 columns):\n",
      " #   Column   Non-Null Count  Dtype  \n",
      "---  ------   --------------  -----  \n",
      " 0   이름       4 non-null      object \n",
      " 1   학과       4 non-null      object \n",
      " 2   성적       4 non-null      float64\n",
      " 3   z-score  4 non-null      float64\n",
      "dtypes: float64(2), object(2)\n",
      "memory usage: 160.0+ bytes\n"
     ]
    }
   ],
   "source": [
    "# 이상치 처리하기 [삭제]\n",
    "# z-score 기반 이상치 제거 후 데이터 차원 확인\n",
    "student_copy = student_copy[(student_copy['z-score']<1.5)&(student_copy['z-score'] > -1.5)]\n",
    "student_copy.info() # 데이터 개요 확인\n",
    "\n",
    "# 행이 5개에서 1개가 빠졌다. 즉 100의 성적을 가진 행이 빠졌다."
   ]
  },
  {
   "cell_type": "code",
   "execution_count": 16,
   "id": "22aa6f6d",
   "metadata": {},
   "outputs": [
    {
     "data": {
      "text/html": [
       "<div>\n",
       "<style scoped>\n",
       "    .dataframe tbody tr th:only-of-type {\n",
       "        vertical-align: middle;\n",
       "    }\n",
       "\n",
       "    .dataframe tbody tr th {\n",
       "        vertical-align: top;\n",
       "    }\n",
       "\n",
       "    .dataframe thead th {\n",
       "        text-align: right;\n",
       "    }\n",
       "</style>\n",
       "<table border=\"1\" class=\"dataframe\">\n",
       "  <thead>\n",
       "    <tr style=\"text-align: right;\">\n",
       "      <th></th>\n",
       "      <th>성적</th>\n",
       "      <th>z-score</th>\n",
       "    </tr>\n",
       "  </thead>\n",
       "  <tbody>\n",
       "    <tr>\n",
       "      <th>count</th>\n",
       "      <td>4.000000</td>\n",
       "      <td>4.000000</td>\n",
       "    </tr>\n",
       "    <tr>\n",
       "      <th>mean</th>\n",
       "      <td>2.375000</td>\n",
       "      <td>-0.499486</td>\n",
       "    </tr>\n",
       "    <tr>\n",
       "      <th>std</th>\n",
       "      <td>2.286737</td>\n",
       "      <td>0.058499</td>\n",
       "    </tr>\n",
       "    <tr>\n",
       "      <th>min</th>\n",
       "      <td>-1.000000</td>\n",
       "      <td>-0.585825</td>\n",
       "    </tr>\n",
       "    <tr>\n",
       "      <th>25%</th>\n",
       "      <td>2.000000</td>\n",
       "      <td>-0.509080</td>\n",
       "    </tr>\n",
       "    <tr>\n",
       "      <th>50%</th>\n",
       "      <td>3.250000</td>\n",
       "      <td>-0.477102</td>\n",
       "    </tr>\n",
       "    <tr>\n",
       "      <th>75%</th>\n",
       "      <td>3.625000</td>\n",
       "      <td>-0.467509</td>\n",
       "    </tr>\n",
       "    <tr>\n",
       "      <th>max</th>\n",
       "      <td>4.000000</td>\n",
       "      <td>-0.457916</td>\n",
       "    </tr>\n",
       "  </tbody>\n",
       "</table>\n",
       "</div>"
      ],
      "text/plain": [
       "             성적   z-score\n",
       "count  4.000000  4.000000\n",
       "mean   2.375000 -0.499486\n",
       "std    2.286737  0.058499\n",
       "min   -1.000000 -0.585825\n",
       "25%    2.000000 -0.509080\n",
       "50%    3.250000 -0.477102\n",
       "75%    3.625000 -0.467509\n",
       "max    4.000000 -0.457916"
      ]
     },
     "execution_count": 16,
     "metadata": {},
     "output_type": "execute_result"
    }
   ],
   "source": [
    "# 삭제 후 데이터 요약 통계 확인\n",
    "student_copy.describe()"
   ]
  },
  {
   "cell_type": "code",
   "execution_count": 22,
   "id": "dc338772",
   "metadata": {},
   "outputs": [
    {
     "data": {
      "text/html": [
       "<div>\n",
       "<style scoped>\n",
       "    .dataframe tbody tr th:only-of-type {\n",
       "        vertical-align: middle;\n",
       "    }\n",
       "\n",
       "    .dataframe tbody tr th {\n",
       "        vertical-align: top;\n",
       "    }\n",
       "\n",
       "    .dataframe thead th {\n",
       "        text-align: right;\n",
       "    }\n",
       "</style>\n",
       "<table border=\"1\" class=\"dataframe\">\n",
       "  <thead>\n",
       "    <tr style=\"text-align: right;\">\n",
       "      <th></th>\n",
       "      <th>이름</th>\n",
       "      <th>학과</th>\n",
       "      <th>성적</th>\n",
       "      <th>z-score</th>\n",
       "    </tr>\n",
       "  </thead>\n",
       "  <tbody>\n",
       "    <tr>\n",
       "      <th>0</th>\n",
       "      <td>아이유</td>\n",
       "      <td>국문과</td>\n",
       "      <td>3.0</td>\n",
       "      <td>-0.483498</td>\n",
       "    </tr>\n",
       "    <tr>\n",
       "      <th>2</th>\n",
       "      <td>홍길동</td>\n",
       "      <td>전자과</td>\n",
       "      <td>3.5</td>\n",
       "      <td>-0.470707</td>\n",
       "    </tr>\n",
       "    <tr>\n",
       "      <th>3</th>\n",
       "      <td>김은숙</td>\n",
       "      <td>컴퓨터</td>\n",
       "      <td>-1.0</td>\n",
       "      <td>-0.585825</td>\n",
       "    </tr>\n",
       "    <tr>\n",
       "      <th>4</th>\n",
       "      <td>홍의선</td>\n",
       "      <td>물리</td>\n",
       "      <td>4.0</td>\n",
       "      <td>-0.457916</td>\n",
       "    </tr>\n",
       "  </tbody>\n",
       "</table>\n",
       "</div>"
      ],
      "text/plain": [
       "    이름   학과   성적   z-score\n",
       "0  아이유  국문과  3.0 -0.483498\n",
       "2  홍길동  전자과  3.5 -0.470707\n",
       "3  김은숙  컴퓨터 -1.0 -0.585825\n",
       "4  홍의선   물리  4.0 -0.457916"
      ]
     },
     "metadata": {},
     "output_type": "display_data"
    },
    {
     "name": "stdout",
     "output_type": "stream",
     "text": [
      "(4, 4)\n"
     ]
    }
   ],
   "source": [
    "# Scipy 내 z-score 함수 제공\n",
    "from scipy.stats import zscore\n",
    "student_copy = student_data.copy()\n",
    "\n",
    "student_copy['z-score'] = zscore(student_copy['성적'])\n",
    "student_copy = student_copy[(student_copy['z-score']<1.5)&(student_copy['z-score']>-1.5)]\n",
    "\n",
    "display(student_copy)\n",
    "print(student_copy.shape)"
   ]
  },
  {
   "cell_type": "markdown",
   "id": "fa10a144",
   "metadata": {},
   "source": [
    "#### IQR(Interquartile Range)"
   ]
  },
  {
   "cell_type": "code",
   "execution_count": 34,
   "id": "97bc2664",
   "metadata": {},
   "outputs": [
    {
     "data": {
      "text/html": [
       "<div>\n",
       "<style scoped>\n",
       "    .dataframe tbody tr th:only-of-type {\n",
       "        vertical-align: middle;\n",
       "    }\n",
       "\n",
       "    .dataframe tbody tr th {\n",
       "        vertical-align: top;\n",
       "    }\n",
       "\n",
       "    .dataframe thead th {\n",
       "        text-align: right;\n",
       "    }\n",
       "</style>\n",
       "<table border=\"1\" class=\"dataframe\">\n",
       "  <thead>\n",
       "    <tr style=\"text-align: right;\">\n",
       "      <th></th>\n",
       "      <th>이름</th>\n",
       "      <th>학과</th>\n",
       "      <th>성적</th>\n",
       "    </tr>\n",
       "  </thead>\n",
       "  <tbody>\n",
       "    <tr>\n",
       "      <th>0</th>\n",
       "      <td>아이유</td>\n",
       "      <td>국문과</td>\n",
       "      <td>3.0</td>\n",
       "    </tr>\n",
       "    <tr>\n",
       "      <th>1</th>\n",
       "      <td>김연아</td>\n",
       "      <td>수학과</td>\n",
       "      <td>100.0</td>\n",
       "    </tr>\n",
       "    <tr>\n",
       "      <th>2</th>\n",
       "      <td>홍길동</td>\n",
       "      <td>전자과</td>\n",
       "      <td>3.5</td>\n",
       "    </tr>\n",
       "    <tr>\n",
       "      <th>3</th>\n",
       "      <td>김은숙</td>\n",
       "      <td>컴퓨터</td>\n",
       "      <td>-1.0</td>\n",
       "    </tr>\n",
       "    <tr>\n",
       "      <th>4</th>\n",
       "      <td>홍의선</td>\n",
       "      <td>물리</td>\n",
       "      <td>4.0</td>\n",
       "    </tr>\n",
       "  </tbody>\n",
       "</table>\n",
       "</div>"
      ],
      "text/plain": [
       "    이름   학과     성적\n",
       "0  아이유  국문과    3.0\n",
       "1  김연아  수학과  100.0\n",
       "2  홍길동  전자과    3.5\n",
       "3  김은숙  컴퓨터   -1.0\n",
       "4  홍의선   물리    4.0"
      ]
     },
     "execution_count": 34,
     "metadata": {},
     "output_type": "execute_result"
    }
   ],
   "source": [
    "# IQR 판단 기반 이상치 처리\n",
    "student_copy = student_data.copy()\n",
    "student_copy"
   ]
  },
  {
   "cell_type": "code",
   "execution_count": 26,
   "id": "4b24fde8",
   "metadata": {},
   "outputs": [
    {
     "name": "stdout",
     "output_type": "stream",
     "text": [
      "q1 : 3.0, q3 : 4.0\n"
     ]
    },
    {
     "data": {
      "text/plain": [
       "1.0"
      ]
     },
     "execution_count": 26,
     "metadata": {},
     "output_type": "execute_result"
    }
   ],
   "source": [
    "# 1, 3 분위수 Q1, Q3 구하기\n",
    "q1 = student_copy['성적'].quantile(0.25)\n",
    "q3 = student_copy['성적'].quantile(0.75)\n",
    "print('q1 : {}, q3 : {}'.format(q1, q3))\n",
    "\n",
    "# IQR 구하기\n",
    "iqr = q3 - q1\n",
    "iqr"
   ]
  },
  {
   "cell_type": "code",
   "execution_count": 36,
   "id": "e13263d9",
   "metadata": {},
   "outputs": [
    {
     "data": {
      "text/html": [
       "<div>\n",
       "<style scoped>\n",
       "    .dataframe tbody tr th:only-of-type {\n",
       "        vertical-align: middle;\n",
       "    }\n",
       "\n",
       "    .dataframe tbody tr th {\n",
       "        vertical-align: top;\n",
       "    }\n",
       "\n",
       "    .dataframe thead th {\n",
       "        text-align: right;\n",
       "    }\n",
       "</style>\n",
       "<table border=\"1\" class=\"dataframe\">\n",
       "  <thead>\n",
       "    <tr style=\"text-align: right;\">\n",
       "      <th></th>\n",
       "      <th>이름</th>\n",
       "      <th>학과</th>\n",
       "      <th>성적</th>\n",
       "    </tr>\n",
       "  </thead>\n",
       "  <tbody>\n",
       "  </tbody>\n",
       "</table>\n",
       "</div>"
      ],
      "text/plain": [
       "Empty DataFrame\n",
       "Columns: [이름, 학과, 성적]\n",
       "Index: []"
      ]
     },
     "metadata": {},
     "output_type": "display_data"
    }
   ],
   "source": [
    "# IQR 기반 이상치 제거하기\n",
    "student_copy = student_copy[(student_copy['성적']>(q1-1.5*iqr))&(student_copy['성적']<(q3-1.5*iqr))]\n",
    "display(student_copy)\n",
    "\n",
    "# 이 역시 데이터 표본 자체가 적어서 1.5라는 숫자가 정확하지 않다.\n",
    "# 하지만, 표본이 커지게 되면 일반적으로 q1-1.5*iqr ~ q3 - 1.5*iqr을 정상 데이터로 규정한다\n"
   ]
  },
  {
   "cell_type": "markdown",
   "id": "f9912e6f",
   "metadata": {},
   "source": [
    "### 이상치 대체하기"
   ]
  },
  {
   "cell_type": "code",
   "execution_count": 44,
   "id": "4cc1665d",
   "metadata": {},
   "outputs": [
    {
     "data": {
      "text/html": [
       "<div>\n",
       "<style scoped>\n",
       "    .dataframe tbody tr th:only-of-type {\n",
       "        vertical-align: middle;\n",
       "    }\n",
       "\n",
       "    .dataframe tbody tr th {\n",
       "        vertical-align: top;\n",
       "    }\n",
       "\n",
       "    .dataframe thead th {\n",
       "        text-align: right;\n",
       "    }\n",
       "</style>\n",
       "<table border=\"1\" class=\"dataframe\">\n",
       "  <thead>\n",
       "    <tr style=\"text-align: right;\">\n",
       "      <th></th>\n",
       "      <th>이름</th>\n",
       "      <th>학과</th>\n",
       "      <th>성적</th>\n",
       "    </tr>\n",
       "  </thead>\n",
       "  <tbody>\n",
       "    <tr>\n",
       "      <th>0</th>\n",
       "      <td>아이유</td>\n",
       "      <td>국문과</td>\n",
       "      <td>3.0</td>\n",
       "    </tr>\n",
       "    <tr>\n",
       "      <th>1</th>\n",
       "      <td>김연아</td>\n",
       "      <td>수학과</td>\n",
       "      <td>100.0</td>\n",
       "    </tr>\n",
       "    <tr>\n",
       "      <th>2</th>\n",
       "      <td>홍길동</td>\n",
       "      <td>전자과</td>\n",
       "      <td>3.5</td>\n",
       "    </tr>\n",
       "    <tr>\n",
       "      <th>3</th>\n",
       "      <td>김은숙</td>\n",
       "      <td>컴퓨터</td>\n",
       "      <td>-1.0</td>\n",
       "    </tr>\n",
       "    <tr>\n",
       "      <th>4</th>\n",
       "      <td>홍의선</td>\n",
       "      <td>물리</td>\n",
       "      <td>4.0</td>\n",
       "    </tr>\n",
       "  </tbody>\n",
       "</table>\n",
       "</div>"
      ],
      "text/plain": [
       "    이름   학과     성적\n",
       "0  아이유  국문과    3.0\n",
       "1  김연아  수학과  100.0\n",
       "2  홍길동  전자과    3.5\n",
       "3  김은숙  컴퓨터   -1.0\n",
       "4  홍의선   물리    4.0"
      ]
     },
     "execution_count": 44,
     "metadata": {},
     "output_type": "execute_result"
    }
   ],
   "source": [
    "student_copy = student_data.copy()\n",
    "student_copy"
   ]
  },
  {
   "cell_type": "code",
   "execution_count": 45,
   "id": "7ababab4",
   "metadata": {},
   "outputs": [],
   "source": [
    "# 대체할 기준 정의\n",
    "max_score = 4.5"
   ]
  },
  {
   "cell_type": "code",
   "execution_count": 46,
   "id": "9dbb77b0",
   "metadata": {},
   "outputs": [
    {
     "data": {
      "text/html": [
       "<div>\n",
       "<style scoped>\n",
       "    .dataframe tbody tr th:only-of-type {\n",
       "        vertical-align: middle;\n",
       "    }\n",
       "\n",
       "    .dataframe tbody tr th {\n",
       "        vertical-align: top;\n",
       "    }\n",
       "\n",
       "    .dataframe thead th {\n",
       "        text-align: right;\n",
       "    }\n",
       "</style>\n",
       "<table border=\"1\" class=\"dataframe\">\n",
       "  <thead>\n",
       "    <tr style=\"text-align: right;\">\n",
       "      <th></th>\n",
       "      <th>이름</th>\n",
       "      <th>학과</th>\n",
       "      <th>성적</th>\n",
       "      <th>new_score</th>\n",
       "    </tr>\n",
       "  </thead>\n",
       "  <tbody>\n",
       "    <tr>\n",
       "      <th>0</th>\n",
       "      <td>아이유</td>\n",
       "      <td>국문과</td>\n",
       "      <td>3.0</td>\n",
       "      <td>3.0</td>\n",
       "    </tr>\n",
       "    <tr>\n",
       "      <th>1</th>\n",
       "      <td>김연아</td>\n",
       "      <td>수학과</td>\n",
       "      <td>100.0</td>\n",
       "      <td>4.5</td>\n",
       "    </tr>\n",
       "    <tr>\n",
       "      <th>2</th>\n",
       "      <td>홍길동</td>\n",
       "      <td>전자과</td>\n",
       "      <td>3.5</td>\n",
       "      <td>3.5</td>\n",
       "    </tr>\n",
       "    <tr>\n",
       "      <th>3</th>\n",
       "      <td>김은숙</td>\n",
       "      <td>컴퓨터</td>\n",
       "      <td>-1.0</td>\n",
       "      <td>-1.0</td>\n",
       "    </tr>\n",
       "    <tr>\n",
       "      <th>4</th>\n",
       "      <td>홍의선</td>\n",
       "      <td>물리</td>\n",
       "      <td>4.0</td>\n",
       "      <td>4.0</td>\n",
       "    </tr>\n",
       "  </tbody>\n",
       "</table>\n",
       "</div>"
      ],
      "text/plain": [
       "    이름   학과     성적  new_score\n",
       "0  아이유  국문과    3.0        3.0\n",
       "1  김연아  수학과  100.0        4.5\n",
       "2  홍길동  전자과    3.5        3.5\n",
       "3  김은숙  컴퓨터   -1.0       -1.0\n",
       "4  홍의선   물리    4.0        4.0"
      ]
     },
     "metadata": {},
     "output_type": "display_data"
    }
   ],
   "source": [
    "# 정의된 기준으로 대체 후 비교를 위해 컬럼 복사\n",
    "student_copy['new_score'] = student_copy['성적']\n",
    "\n",
    "# 이상치 대체\n",
    "student_copy.loc[student_copy['new_score']>max_score, 'new_score'] = max_score\n",
    "display(student_copy)"
   ]
  },
  {
   "cell_type": "code",
   "execution_count": 47,
   "id": "2969287f",
   "metadata": {},
   "outputs": [
    {
     "name": "stdout",
     "output_type": "stream",
     "text": [
      "<class 'pandas.core.frame.DataFrame'>\n",
      "Int64Index: 4 entries, 0 to 4\n",
      "Data columns (total 4 columns):\n",
      " #   Column   Non-Null Count  Dtype  \n",
      "---  ------   --------------  -----  \n",
      " 0   이름       4 non-null      object \n",
      " 1   학과       4 non-null      object \n",
      " 2   성적       4 non-null      float64\n",
      " 3   z-score  4 non-null      float64\n",
      "dtypes: float64(2), object(2)\n",
      "memory usage: 160.0+ bytes\n"
     ]
    }
   ],
   "source": [
    "student_copy.info()"
   ]
  },
  {
   "cell_type": "markdown",
   "id": "7c65b997",
   "metadata": {},
   "source": [
    "* 데이터 이상치 제거 및 대체는 모델링 과정에서 결과 도출의 왜곡을 방지하기위해 수행하는 것이기 때문에, 수행 여부에 따라 전체 결과 퀄리티가 달라진다. 따라서 반드시 진행해줘야 한다.\n",
    "* 일반적으로 이상치 대체 및 변경은 기존 도메인 지식 및 현업 담당자와의 협의를 통해 진행해야 한다."
   ]
  },
  {
   "cell_type": "code",
   "execution_count": null,
   "id": "047a9b58",
   "metadata": {},
   "outputs": [],
   "source": []
  }
 ],
 "metadata": {
  "kernelspec": {
   "display_name": "ds_env",
   "language": "python",
   "name": "ds_env"
  },
  "language_info": {
   "codemirror_mode": {
    "name": "ipython",
    "version": 3
   },
   "file_extension": ".py",
   "mimetype": "text/x-python",
   "name": "python",
   "nbconvert_exporter": "python",
   "pygments_lexer": "ipython3",
   "version": "3.7.1"
  }
 },
 "nbformat": 4,
 "nbformat_minor": 5
}

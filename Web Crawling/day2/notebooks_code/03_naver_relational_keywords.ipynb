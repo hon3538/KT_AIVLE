{
 "cells": [
  {
   "cell_type": "markdown",
   "id": "2f46af77",
   "metadata": {},
   "source": [
    "### 네이버 연관 검색어 수집\n",
    "- 정적(static) 웹페이지 데이터 수집 \n",
    "- BeautifulSoup을 이용하여 HTML 문자열 데이터 parsing"
   ]
  },
  {
   "cell_type": "code",
   "execution_count": 3,
   "id": "ee849f9c",
   "metadata": {},
   "outputs": [],
   "source": [
    "import requests\n",
    "# html 포멧의 데이터를 css-selector를 이용하여 필요한 데이터를 추출\n",
    "from bs4 import BeautifulSoup"
   ]
  },
  {
   "cell_type": "markdown",
   "id": "16030538",
   "metadata": {},
   "source": [
    "#### 1. 웹페이지 분석 : URL"
   ]
  },
  {
   "cell_type": "code",
   "execution_count": 4,
   "id": "c1581d54",
   "metadata": {},
   "outputs": [],
   "source": [
    "query = '삼성전자'\n",
    "url = f'https://search.naver.com/search.naver?query={query}'"
   ]
  },
  {
   "cell_type": "markdown",
   "id": "56e6ea93",
   "metadata": {},
   "source": [
    "#### 2. request(URL) > response : str(html)"
   ]
  },
  {
   "cell_type": "code",
   "execution_count": 5,
   "id": "ceda1c7b",
   "metadata": {},
   "outputs": [
    {
     "data": {
      "text/plain": [
       "<Response [200]>"
      ]
     },
     "execution_count": 5,
     "metadata": {},
     "output_type": "execute_result"
    }
   ],
   "source": [
    "response = requests.get(url)\n",
    "response"
   ]
  },
  {
   "cell_type": "code",
   "execution_count": 7,
   "id": "ce1db3da",
   "metadata": {},
   "outputs": [
    {
     "data": {
      "text/plain": [
       "'<!doctype html> <html lang=\"ko\"><head> <meta charset=\"utf-8\"> <meta name=\"referrer\" content=\"always\"'"
      ]
     },
     "execution_count": 7,
     "metadata": {},
     "output_type": "execute_result"
    }
   ],
   "source": [
    "response.text[:100] # html 파일 내용(str)"
   ]
  },
  {
   "cell_type": "markdown",
   "id": "1e2acb8e",
   "metadata": {},
   "source": [
    "#### 3. str(html) > bs object"
   ]
  },
  {
   "cell_type": "code",
   "execution_count": 8,
   "id": "8736bc68",
   "metadata": {},
   "outputs": [
    {
     "data": {
      "text/plain": [
       "bs4.BeautifulSoup"
      ]
     },
     "execution_count": 8,
     "metadata": {},
     "output_type": "execute_result"
    }
   ],
   "source": [
    "dom = BeautifulSoup(response.text, 'html.parser') # 대문자이기때문에 클래스다. 생성자로 html str 내용 넣어준다.\n",
    "type(dom)"
   ]
  },
  {
   "cell_type": "code",
   "execution_count": 11,
   "id": "b7d5c37e",
   "metadata": {
    "scrolled": true
   },
   "outputs": [
    {
     "name": "stdout",
     "output_type": "stream",
     "text": [
      "Help on function __init__ in module bs4:\n",
      "\n",
      "__init__(self, markup='', features=None, builder=None, parse_only=None, from_encoding=None, exclude_encodings=None, element_classes=None, **kwargs)\n",
      "    Constructor.\n",
      "    \n",
      "    :param markup: A string or a file-like object representing\n",
      "     markup to be parsed.\n",
      "    \n",
      "    :param features: Desirable features of the parser to be\n",
      "     used. This may be the name of a specific parser (\"lxml\",\n",
      "     \"lxml-xml\", \"html.parser\", or \"html5lib\") or it may be the\n",
      "     type of markup to be used (\"html\", \"html5\", \"xml\"). It's\n",
      "     recommended that you name a specific parser, so that\n",
      "     Beautiful Soup gives you the same results across platforms\n",
      "     and virtual environments.\n",
      "    \n",
      "    :param builder: A TreeBuilder subclass to instantiate (or\n",
      "     instance to use) instead of looking one up based on\n",
      "     `features`. You only need to use this if you've implemented a\n",
      "     custom TreeBuilder.\n",
      "    \n",
      "    :param parse_only: A SoupStrainer. Only parts of the document\n",
      "     matching the SoupStrainer will be considered. This is useful\n",
      "     when parsing part of a document that would otherwise be too\n",
      "     large to fit into memory.\n",
      "    \n",
      "    :param from_encoding: A string indicating the encoding of the\n",
      "     document to be parsed. Pass this in if Beautiful Soup is\n",
      "     guessing wrongly about the document's encoding.\n",
      "    \n",
      "    :param exclude_encodings: A list of strings indicating\n",
      "     encodings known to be wrong. Pass this in if you don't know\n",
      "     the document's encoding but you know Beautiful Soup's guess is\n",
      "     wrong.\n",
      "    \n",
      "    :param element_classes: A dictionary mapping BeautifulSoup\n",
      "     classes like Tag and NavigableString, to other classes you'd\n",
      "     like to be instantiated instead as the parse tree is\n",
      "     built. This is useful for subclassing Tag or NavigableString\n",
      "     to modify default behavior.\n",
      "    \n",
      "    :param kwargs: For backwards compatibility purposes, the\n",
      "     constructor accepts certain keyword arguments used in\n",
      "     Beautiful Soup 3. None of these arguments do anything in\n",
      "     Beautiful Soup 4; they will result in a warning and then be\n",
      "     ignored.\n",
      "     \n",
      "     Apart from this, any keyword arguments passed into the\n",
      "     BeautifulSoup constructor are propagated to the TreeBuilder\n",
      "     constructor. This makes it possible to configure a\n",
      "     TreeBuilder by passing in arguments, not just by saying which\n",
      "     one to use.\n",
      "\n"
     ]
    }
   ],
   "source": [
    "help(BeautifulSoup.__init__)"
   ]
  },
  {
   "cell_type": "markdown",
   "id": "252cf193",
   "metadata": {},
   "source": [
    "#### 4. bs object > .select(css-selector), .select_one(css-selector) > str(text)"
   ]
  },
  {
   "cell_type": "code",
   "execution_count": 16,
   "id": "525c3274",
   "metadata": {},
   "outputs": [
    {
     "data": {
      "text/plain": [
       "<li class=\"item\"> <a class=\"keyword\" href=\"?where=nexearch&amp;ssc=tab.nx.all&amp;query=%EC%82%BC%EC%84%B1%EC%A0%84%EC%9E%90%EC%A3%BC%EA%B0%80&amp;sm=tab_she&amp;qdt=0\" onclick=\"return goOtherCR(this, 'a=rsk_btm*q.list1&amp;r=1&amp;u=' + urlencode(this.href))\"> <div class=\"tit\">삼성전자주가</div> </a> </li>"
      ]
     },
     "execution_count": 16,
     "metadata": {},
     "output_type": "execute_result"
    }
   ],
   "source": [
    "# dom.select() : 엘리먼트 여러개 선택 : 결과 > 리스트(태그 객체 여러개)\n",
    "# dom.select_one() : 엘리먼트 한 개 선택 : 결과 > 태그 객체 한 개\n",
    "elements = dom.select('.lst_related_srch > .item')\n",
    "elements[0]"
   ]
  },
  {
   "cell_type": "code",
   "execution_count": 18,
   "id": "e1bbecc6",
   "metadata": {},
   "outputs": [
    {
     "data": {
      "text/plain": [
       "'삼성전자주가'"
      ]
     },
     "execution_count": 18,
     "metadata": {},
     "output_type": "execute_result"
    }
   ],
   "source": [
    "elements[0].text.strip()"
   ]
  },
  {
   "cell_type": "code",
   "execution_count": 19,
   "id": "349f6da0",
   "metadata": {},
   "outputs": [
    {
     "data": {
      "text/plain": [
       "['삼성전자주가',\n",
       " '삼성전자주식',\n",
       " '삼성전자 배당금',\n",
       " '오늘 삼성전자 주가',\n",
       " '삼성전자서비스',\n",
       " '삼성전자서비스센타',\n",
       " '삼성전자주가지수',\n",
       " '삼성전자주식가격',\n",
       " '삼성 전자레인지',\n",
       " '삼성전자 패밀리몰']"
      ]
     },
     "execution_count": 19,
     "metadata": {},
     "output_type": "execute_result"
    }
   ],
   "source": [
    "keywords = [element.text.strip() for element in elements]\n",
    "keywords"
   ]
  },
  {
   "cell_type": "markdown",
   "id": "1e9ebdd4",
   "metadata": {},
   "source": [
    "#### 5. str(text) > DataFrame"
   ]
  },
  {
   "cell_type": "code",
   "execution_count": null,
   "id": "62e1ef05",
   "metadata": {},
   "outputs": [],
   "source": []
  }
 ],
 "metadata": {
  "kernelspec": {
   "display_name": "Python 3 (ipykernel)",
   "language": "python",
   "name": "python3"
  },
  "language_info": {
   "codemirror_mode": {
    "name": "ipython",
    "version": 3
   },
   "file_extension": ".py",
   "mimetype": "text/x-python",
   "name": "python",
   "nbconvert_exporter": "python",
   "pygments_lexer": "ipython3",
   "version": "3.11.5"
  },
  "toc": {
   "base_numbering": 1,
   "nav_menu": {},
   "number_sections": false,
   "sideBar": true,
   "skip_h1_title": false,
   "title_cell": "Table of Contents",
   "title_sidebar": "Contents",
   "toc_cell": false,
   "toc_position": {},
   "toc_section_display": true,
   "toc_window_display": false
  }
 },
 "nbformat": 4,
 "nbformat_minor": 5
}
